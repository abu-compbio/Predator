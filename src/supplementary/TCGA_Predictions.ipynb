{
 "cells": [
  {
   "cell_type": "markdown",
   "source": [
    "# TCGA Predictions"
   ],
   "metadata": {
    "collapsed": false,
    "pycharm": {
     "name": "#%% md\n"
    }
   }
  },
  {
   "cell_type": "code",
   "execution_count": 1,
   "outputs": [],
   "source": [
    "import pandas as pd\n",
    "\n",
    "BRCA_PREDICTION_PATH = \"../../data/predictions_datasets/brca_prediction_2022-06-17/ed35a3a3/predictions_soft_2022-06-17.csv\"\n",
    "COAD_PREDICTION_PATH = \"../../data/predictions_datasets/coad_prediction_2022-06-17/84fd283a/predictions_soft_2022-06-17.csv\"\n",
    "ESCA_PREDICTION_PATH = \"../../data/predictions_datasets/esca_prediction_2022-06-17/f2d1e99a/predictions_soft_2022-06-17.csv\"\n",
    "GBM_PREDICTION_PATH = \"../../data/predictions_datasets/gbm_prediction_2022-06-17/8d7f7caa/predictions_soft_2022-06-17.csv\"\n",
    "HNSC_PREDICTION_PATH = \"../../data/predictions_datasets/hnsc_prediction_2022-06-17/76f498d9/predictions_soft_2022-06-17.csv\"\n",
    "OV_PREDICTION_PATH = \"../../data/predictions_datasets/ov_prediction_2022-06-17/865d1897/predictions_soft_2022-06-17.csv\"\n",
    "\n",
    "# Reflect changes in the modules immediately.\n",
    "%load_ext autoreload\n",
    "%autoreload 2"
   ],
   "metadata": {
    "collapsed": false,
    "pycharm": {
     "name": "#%%\n"
    }
   }
  },
  {
   "cell_type": "code",
   "execution_count": 2,
   "outputs": [],
   "source": [
    "brca_predictions = pd.read_csv(BRCA_PREDICTION_PATH)\n",
    "coad_predictions = pd.read_csv(COAD_PREDICTION_PATH)\n",
    "esca_predictions = pd.read_csv(ESCA_PREDICTION_PATH)\n",
    "gbm_predictions = pd.read_csv(GBM_PREDICTION_PATH)\n",
    "hnsc_predictions = pd.read_csv(HNSC_PREDICTION_PATH)\n",
    "ov_predictions = pd.read_csv(OV_PREDICTION_PATH)"
   ],
   "metadata": {
    "collapsed": false,
    "pycharm": {
     "name": "#%%\n"
    }
   }
  },
  {
   "cell_type": "code",
   "execution_count": 3,
   "outputs": [],
   "source": [
    "with pd.ExcelWriter(\"TCGA_predictions.xlsx\") as writer:\n",
    "    brca_predictions.to_excel(writer, sheet_name=\"BRCA\", index=False)\n",
    "    coad_predictions.to_excel(writer, sheet_name=\"COAD\", index=False)\n",
    "    esca_predictions.to_excel(writer, sheet_name=\"ESCA\", index=False)\n",
    "    gbm_predictions.to_excel(writer, sheet_name=\"GBM\", index=False)\n",
    "    hnsc_predictions.to_excel(writer, sheet_name=\"HNSC\", index=False)\n",
    "    ov_predictions.to_excel(writer, sheet_name=\"OV\", index=False)"
   ],
   "metadata": {
    "collapsed": false,
    "pycharm": {
     "name": "#%%\n"
    }
   }
  },
  {
   "cell_type": "code",
   "execution_count": null,
   "outputs": [],
   "source": [],
   "metadata": {
    "collapsed": false,
    "pycharm": {
     "name": "#%%\n"
    }
   }
  },
  {
   "cell_type": "code",
   "execution_count": null,
   "outputs": [],
   "source": [],
   "metadata": {
    "collapsed": false,
    "pycharm": {
     "name": "#%%\n"
    }
   }
  }
 ],
 "metadata": {
  "kernelspec": {
   "name": "predator",
   "language": "python",
   "display_name": "Predator"
  },
  "language_info": {
   "codemirror_mode": {
    "name": "ipython",
    "version": 2
   },
   "file_extension": ".py",
   "mimetype": "text/x-python",
   "name": "python",
   "nbconvert_exporter": "python",
   "pygments_lexer": "ipython2",
   "version": "2.7.6"
  }
 },
 "nbformat": 4,
 "nbformat_minor": 0
}