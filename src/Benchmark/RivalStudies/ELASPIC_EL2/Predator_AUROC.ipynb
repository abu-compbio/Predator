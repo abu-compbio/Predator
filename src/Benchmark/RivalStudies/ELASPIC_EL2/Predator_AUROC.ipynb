{
 "cells": [
  {
   "cell_type": "markdown",
   "metadata": {
    "collapsed": true,
    "pycharm": {
     "name": "#%% md\n"
    }
   },
   "source": [
    "# Predator AUROC"
   ]
  },
  {
   "cell_type": "code",
   "execution_count": 1,
   "outputs": [
    {
     "name": "stdout",
     "output_type": "stream",
     "text": [
      "\u001B[32mJune 21, 2022 15:27:47\u001B[0m\n"
     ]
    }
   ],
   "source": [
    "from datetime import datetime\n",
    "\n",
    "print(\"\\033[32m{}\\033[0m\".format(datetime.now().strftime(\"%B %d, %Y %H:%M:%S\")))"
   ],
   "metadata": {
    "collapsed": false,
    "pycharm": {
     "name": "#%%\n"
    }
   }
  },
  {
   "cell_type": "code",
   "execution_count": 2,
   "outputs": [],
   "source": [
    "import pandas as pd\n",
    "# Reflect changes in the modules immediately.\n",
    "%load_ext autoreload\n",
    "%autoreload 2"
   ],
   "metadata": {
    "collapsed": false,
    "pycharm": {
     "name": "#%%\n"
    }
   }
  },
  {
   "cell_type": "code",
   "execution_count": 3,
   "outputs": [],
   "source": [
    "leave_one_complex_out_result_data_labels_and_probs = pd.read_csv(\n",
    "    f\"../../LeaveOneComplexOut/leave_one_complex_out_result_data_labels_and_probs_simplified_2022-06-19.csv\")"
   ],
   "metadata": {
    "collapsed": false,
    "pycharm": {
     "name": "#%%\n"
    }
   }
  },
  {
   "cell_type": "code",
   "execution_count": 4,
   "outputs": [
    {
     "data": {
      "text/plain": "     Mutation_Effect_Label UniProt_ID Mutation Interactor_UniProt_ID  \\\n0                        1     Q9BPZ3    F118A                P11940   \n1                        1     P01116     Y40C                P50749   \n2                        1     Q96QK1    F534D                Q9UBQ0   \n3                        1     Q96QK1    F534D              Q9UBQ0-2   \n4                        1   O43521-3     G66A                Q07812   \n..                     ...        ...      ...                   ...   \n735                      1     P84243     Q94A              Q9UER7-3   \n736                      1     Q96QK1    L589D                Q9UBQ0   \n737                      1     Q96QK1    L589D              Q9UBQ0-2   \n738                      1     P23297     F72L                P25815   \n739                      1     Q15836     L46P                O43752   \n\n    Template_cath_id Chain_id  Actual  Prediction_default  Prediction_FS  \\\n0              1jgnB        B       1                   0              0   \n1              3ddcA        A       1                   1              1   \n2              2r17C        C       1                   1              1   \n3              2r17C        C       1                   1              1   \n4              3fdlB        B       1                   0              0   \n..               ...      ...     ...                 ...            ...   \n735            4hgaB        B       1                   1              1   \n736            2r17C        C       1                   1              1   \n737            2r17C        C       1                   1              1   \n738            2y5iA        A       1                   1              1   \n739            2npsA        A       1                   1              1   \n\n     Prediction_FS_HP Prediction_default_probs Prediction_FS_probs  \\\n0                   1              [0.52 0.48]         [0.55 0.45]   \n1                   1              [0.48 0.52]         [0.22 0.78]   \n2                   1              [0.08 0.92]         [0.03 0.97]   \n3                   1              [0.08 0.92]         [0.03 0.97]   \n4                   0              [0.63 0.37]         [0.73 0.27]   \n..                ...                      ...                 ...   \n735                 1              [0.47 0.53]         [0.16 0.84]   \n736                 1              [0.06 0.94]         [0.07 0.93]   \n737                 1              [0.06 0.94]         [0.07 0.93]   \n738                 1              [0.08 0.92]         [0.22 0.78]   \n739                 1              [0.17 0.83]         [0.12 0.88]   \n\n      Prediction_FS_HP_probs  \n0    [0.48382508 0.51617492]  \n1      [0.1575574 0.8424426]  \n2    [0.02626213 0.97373787]  \n3    [0.02626213 0.97373787]  \n4    [0.70014576 0.29985424]  \n..                       ...  \n735  [0.13237586 0.86762414]  \n736  [0.15107901 0.84892099]  \n737  [0.15107901 0.84892099]  \n738  [0.22585215 0.77414785]  \n739  [0.13927656 0.86072344]  \n\n[740 rows x 13 columns]",
      "text/html": "<div>\n<style scoped>\n    .dataframe tbody tr th:only-of-type {\n        vertical-align: middle;\n    }\n\n    .dataframe tbody tr th {\n        vertical-align: top;\n    }\n\n    .dataframe thead th {\n        text-align: right;\n    }\n</style>\n<table border=\"1\" class=\"dataframe\">\n  <thead>\n    <tr style=\"text-align: right;\">\n      <th></th>\n      <th>Mutation_Effect_Label</th>\n      <th>UniProt_ID</th>\n      <th>Mutation</th>\n      <th>Interactor_UniProt_ID</th>\n      <th>Template_cath_id</th>\n      <th>Chain_id</th>\n      <th>Actual</th>\n      <th>Prediction_default</th>\n      <th>Prediction_FS</th>\n      <th>Prediction_FS_HP</th>\n      <th>Prediction_default_probs</th>\n      <th>Prediction_FS_probs</th>\n      <th>Prediction_FS_HP_probs</th>\n    </tr>\n  </thead>\n  <tbody>\n    <tr>\n      <th>0</th>\n      <td>1</td>\n      <td>Q9BPZ3</td>\n      <td>F118A</td>\n      <td>P11940</td>\n      <td>1jgnB</td>\n      <td>B</td>\n      <td>1</td>\n      <td>0</td>\n      <td>0</td>\n      <td>1</td>\n      <td>[0.52 0.48]</td>\n      <td>[0.55 0.45]</td>\n      <td>[0.48382508 0.51617492]</td>\n    </tr>\n    <tr>\n      <th>1</th>\n      <td>1</td>\n      <td>P01116</td>\n      <td>Y40C</td>\n      <td>P50749</td>\n      <td>3ddcA</td>\n      <td>A</td>\n      <td>1</td>\n      <td>1</td>\n      <td>1</td>\n      <td>1</td>\n      <td>[0.48 0.52]</td>\n      <td>[0.22 0.78]</td>\n      <td>[0.1575574 0.8424426]</td>\n    </tr>\n    <tr>\n      <th>2</th>\n      <td>1</td>\n      <td>Q96QK1</td>\n      <td>F534D</td>\n      <td>Q9UBQ0</td>\n      <td>2r17C</td>\n      <td>C</td>\n      <td>1</td>\n      <td>1</td>\n      <td>1</td>\n      <td>1</td>\n      <td>[0.08 0.92]</td>\n      <td>[0.03 0.97]</td>\n      <td>[0.02626213 0.97373787]</td>\n    </tr>\n    <tr>\n      <th>3</th>\n      <td>1</td>\n      <td>Q96QK1</td>\n      <td>F534D</td>\n      <td>Q9UBQ0-2</td>\n      <td>2r17C</td>\n      <td>C</td>\n      <td>1</td>\n      <td>1</td>\n      <td>1</td>\n      <td>1</td>\n      <td>[0.08 0.92]</td>\n      <td>[0.03 0.97]</td>\n      <td>[0.02626213 0.97373787]</td>\n    </tr>\n    <tr>\n      <th>4</th>\n      <td>1</td>\n      <td>O43521-3</td>\n      <td>G66A</td>\n      <td>Q07812</td>\n      <td>3fdlB</td>\n      <td>B</td>\n      <td>1</td>\n      <td>0</td>\n      <td>0</td>\n      <td>0</td>\n      <td>[0.63 0.37]</td>\n      <td>[0.73 0.27]</td>\n      <td>[0.70014576 0.29985424]</td>\n    </tr>\n    <tr>\n      <th>...</th>\n      <td>...</td>\n      <td>...</td>\n      <td>...</td>\n      <td>...</td>\n      <td>...</td>\n      <td>...</td>\n      <td>...</td>\n      <td>...</td>\n      <td>...</td>\n      <td>...</td>\n      <td>...</td>\n      <td>...</td>\n      <td>...</td>\n    </tr>\n    <tr>\n      <th>735</th>\n      <td>1</td>\n      <td>P84243</td>\n      <td>Q94A</td>\n      <td>Q9UER7-3</td>\n      <td>4hgaB</td>\n      <td>B</td>\n      <td>1</td>\n      <td>1</td>\n      <td>1</td>\n      <td>1</td>\n      <td>[0.47 0.53]</td>\n      <td>[0.16 0.84]</td>\n      <td>[0.13237586 0.86762414]</td>\n    </tr>\n    <tr>\n      <th>736</th>\n      <td>1</td>\n      <td>Q96QK1</td>\n      <td>L589D</td>\n      <td>Q9UBQ0</td>\n      <td>2r17C</td>\n      <td>C</td>\n      <td>1</td>\n      <td>1</td>\n      <td>1</td>\n      <td>1</td>\n      <td>[0.06 0.94]</td>\n      <td>[0.07 0.93]</td>\n      <td>[0.15107901 0.84892099]</td>\n    </tr>\n    <tr>\n      <th>737</th>\n      <td>1</td>\n      <td>Q96QK1</td>\n      <td>L589D</td>\n      <td>Q9UBQ0-2</td>\n      <td>2r17C</td>\n      <td>C</td>\n      <td>1</td>\n      <td>1</td>\n      <td>1</td>\n      <td>1</td>\n      <td>[0.06 0.94]</td>\n      <td>[0.07 0.93]</td>\n      <td>[0.15107901 0.84892099]</td>\n    </tr>\n    <tr>\n      <th>738</th>\n      <td>1</td>\n      <td>P23297</td>\n      <td>F72L</td>\n      <td>P25815</td>\n      <td>2y5iA</td>\n      <td>A</td>\n      <td>1</td>\n      <td>1</td>\n      <td>1</td>\n      <td>1</td>\n      <td>[0.08 0.92]</td>\n      <td>[0.22 0.78]</td>\n      <td>[0.22585215 0.77414785]</td>\n    </tr>\n    <tr>\n      <th>739</th>\n      <td>1</td>\n      <td>Q15836</td>\n      <td>L46P</td>\n      <td>O43752</td>\n      <td>2npsA</td>\n      <td>A</td>\n      <td>1</td>\n      <td>1</td>\n      <td>1</td>\n      <td>1</td>\n      <td>[0.17 0.83]</td>\n      <td>[0.12 0.88]</td>\n      <td>[0.13927656 0.86072344]</td>\n    </tr>\n  </tbody>\n</table>\n<p>740 rows × 13 columns</p>\n</div>"
     },
     "execution_count": 4,
     "metadata": {},
     "output_type": "execute_result"
    }
   ],
   "source": [
    "leave_one_complex_out_result_data_labels_and_probs"
   ],
   "metadata": {
    "collapsed": false,
    "pycharm": {
     "name": "#%%\n"
    }
   }
  },
  {
   "cell_type": "code",
   "execution_count": 43,
   "outputs": [
    {
     "data": {
      "text/plain": "     Mutation_Effect_Label UniProt_ID Mutation Interactor_UniProt_ID  \\\n0                        1     Q9BPZ3    F118A                P11940   \n1                        1     P01116     Y40C                P50749   \n2                        1     Q96QK1    F534D                Q9UBQ0   \n3                        1     Q96QK1    F534D              Q9UBQ0-2   \n4                        1   O43521-3     G66A                Q07812   \n..                     ...        ...      ...                   ...   \n735                      1     P84243     Q94A              Q9UER7-3   \n736                      1     Q96QK1    L589D                Q9UBQ0   \n737                      1     Q96QK1    L589D              Q9UBQ0-2   \n738                      1     P23297     F72L                P25815   \n739                      1     Q15836     L46P                O43752   \n\n    Template_cath_id Chain_id  Actual  Prediction_default  Prediction_FS  \\\n0              1jgnB        B       1                   0              0   \n1              3ddcA        A       1                   1              1   \n2              2r17C        C       1                   1              1   \n3              2r17C        C       1                   1              1   \n4              3fdlB        B       1                   0              0   \n..               ...      ...     ...                 ...            ...   \n735            4hgaB        B       1                   1              1   \n736            2r17C        C       1                   1              1   \n737            2r17C        C       1                   1              1   \n738            2y5iA        A       1                   1              1   \n739            2npsA        A       1                   1              1   \n\n     Prediction_FS_HP Prediction_default_probs Prediction_FS_probs  \\\n0                   1             [0.52, 0.48]        [0.55, 0.45]   \n1                   1             [0.48, 0.52]        [0.22, 0.78]   \n2                   1             [0.08, 0.92]        [0.03, 0.97]   \n3                   1             [0.08, 0.92]        [0.03, 0.97]   \n4                   0             [0.63, 0.37]        [0.73, 0.27]   \n..                ...                      ...                 ...   \n735                 1             [0.47, 0.53]        [0.16, 0.84]   \n736                 1             [0.06, 0.94]        [0.07, 0.93]   \n737                 1             [0.06, 0.94]        [0.07, 0.93]   \n738                 1             [0.08, 0.92]        [0.22, 0.78]   \n739                 1             [0.17, 0.83]        [0.12, 0.88]   \n\n                         Prediction_FS_HP_probs  \n0      [0.4838250824437261, 0.5161749175562739]  \n1     [0.15755739926376316, 0.8424426007362368]  \n2    [0.026262134250313447, 0.9737378657496865]  \n3    [0.026262134250313447, 0.9737378657496865]  \n4     [0.7001457610507252, 0.29985423894927493]  \n..                                          ...  \n735   [0.13237586055348366, 0.8676241394465164]  \n736   [0.15107900912490868, 0.8489209908750911]  \n737   [0.15107900912490868, 0.8489209908750911]  \n738   [0.22585215136274456, 0.7741478486372554]  \n739   [0.13927655940389197, 0.8607234405961081]  \n\n[740 rows x 13 columns]",
      "text/html": "<div>\n<style scoped>\n    .dataframe tbody tr th:only-of-type {\n        vertical-align: middle;\n    }\n\n    .dataframe tbody tr th {\n        vertical-align: top;\n    }\n\n    .dataframe thead th {\n        text-align: right;\n    }\n</style>\n<table border=\"1\" class=\"dataframe\">\n  <thead>\n    <tr style=\"text-align: right;\">\n      <th></th>\n      <th>Mutation_Effect_Label</th>\n      <th>UniProt_ID</th>\n      <th>Mutation</th>\n      <th>Interactor_UniProt_ID</th>\n      <th>Template_cath_id</th>\n      <th>Chain_id</th>\n      <th>Actual</th>\n      <th>Prediction_default</th>\n      <th>Prediction_FS</th>\n      <th>Prediction_FS_HP</th>\n      <th>Prediction_default_probs</th>\n      <th>Prediction_FS_probs</th>\n      <th>Prediction_FS_HP_probs</th>\n    </tr>\n  </thead>\n  <tbody>\n    <tr>\n      <th>0</th>\n      <td>1</td>\n      <td>Q9BPZ3</td>\n      <td>F118A</td>\n      <td>P11940</td>\n      <td>1jgnB</td>\n      <td>B</td>\n      <td>1</td>\n      <td>0</td>\n      <td>0</td>\n      <td>1</td>\n      <td>[0.52, 0.48]</td>\n      <td>[0.55, 0.45]</td>\n      <td>[0.4838250824437261, 0.5161749175562739]</td>\n    </tr>\n    <tr>\n      <th>1</th>\n      <td>1</td>\n      <td>P01116</td>\n      <td>Y40C</td>\n      <td>P50749</td>\n      <td>3ddcA</td>\n      <td>A</td>\n      <td>1</td>\n      <td>1</td>\n      <td>1</td>\n      <td>1</td>\n      <td>[0.48, 0.52]</td>\n      <td>[0.22, 0.78]</td>\n      <td>[0.15755739926376316, 0.8424426007362368]</td>\n    </tr>\n    <tr>\n      <th>2</th>\n      <td>1</td>\n      <td>Q96QK1</td>\n      <td>F534D</td>\n      <td>Q9UBQ0</td>\n      <td>2r17C</td>\n      <td>C</td>\n      <td>1</td>\n      <td>1</td>\n      <td>1</td>\n      <td>1</td>\n      <td>[0.08, 0.92]</td>\n      <td>[0.03, 0.97]</td>\n      <td>[0.026262134250313447, 0.9737378657496865]</td>\n    </tr>\n    <tr>\n      <th>3</th>\n      <td>1</td>\n      <td>Q96QK1</td>\n      <td>F534D</td>\n      <td>Q9UBQ0-2</td>\n      <td>2r17C</td>\n      <td>C</td>\n      <td>1</td>\n      <td>1</td>\n      <td>1</td>\n      <td>1</td>\n      <td>[0.08, 0.92]</td>\n      <td>[0.03, 0.97]</td>\n      <td>[0.026262134250313447, 0.9737378657496865]</td>\n    </tr>\n    <tr>\n      <th>4</th>\n      <td>1</td>\n      <td>O43521-3</td>\n      <td>G66A</td>\n      <td>Q07812</td>\n      <td>3fdlB</td>\n      <td>B</td>\n      <td>1</td>\n      <td>0</td>\n      <td>0</td>\n      <td>0</td>\n      <td>[0.63, 0.37]</td>\n      <td>[0.73, 0.27]</td>\n      <td>[0.7001457610507252, 0.29985423894927493]</td>\n    </tr>\n    <tr>\n      <th>...</th>\n      <td>...</td>\n      <td>...</td>\n      <td>...</td>\n      <td>...</td>\n      <td>...</td>\n      <td>...</td>\n      <td>...</td>\n      <td>...</td>\n      <td>...</td>\n      <td>...</td>\n      <td>...</td>\n      <td>...</td>\n      <td>...</td>\n    </tr>\n    <tr>\n      <th>735</th>\n      <td>1</td>\n      <td>P84243</td>\n      <td>Q94A</td>\n      <td>Q9UER7-3</td>\n      <td>4hgaB</td>\n      <td>B</td>\n      <td>1</td>\n      <td>1</td>\n      <td>1</td>\n      <td>1</td>\n      <td>[0.47, 0.53]</td>\n      <td>[0.16, 0.84]</td>\n      <td>[0.13237586055348366, 0.8676241394465164]</td>\n    </tr>\n    <tr>\n      <th>736</th>\n      <td>1</td>\n      <td>Q96QK1</td>\n      <td>L589D</td>\n      <td>Q9UBQ0</td>\n      <td>2r17C</td>\n      <td>C</td>\n      <td>1</td>\n      <td>1</td>\n      <td>1</td>\n      <td>1</td>\n      <td>[0.06, 0.94]</td>\n      <td>[0.07, 0.93]</td>\n      <td>[0.15107900912490868, 0.8489209908750911]</td>\n    </tr>\n    <tr>\n      <th>737</th>\n      <td>1</td>\n      <td>Q96QK1</td>\n      <td>L589D</td>\n      <td>Q9UBQ0-2</td>\n      <td>2r17C</td>\n      <td>C</td>\n      <td>1</td>\n      <td>1</td>\n      <td>1</td>\n      <td>1</td>\n      <td>[0.06, 0.94]</td>\n      <td>[0.07, 0.93]</td>\n      <td>[0.15107900912490868, 0.8489209908750911]</td>\n    </tr>\n    <tr>\n      <th>738</th>\n      <td>1</td>\n      <td>P23297</td>\n      <td>F72L</td>\n      <td>P25815</td>\n      <td>2y5iA</td>\n      <td>A</td>\n      <td>1</td>\n      <td>1</td>\n      <td>1</td>\n      <td>1</td>\n      <td>[0.08, 0.92]</td>\n      <td>[0.22, 0.78]</td>\n      <td>[0.22585215136274456, 0.7741478486372554]</td>\n    </tr>\n    <tr>\n      <th>739</th>\n      <td>1</td>\n      <td>Q15836</td>\n      <td>L46P</td>\n      <td>O43752</td>\n      <td>2npsA</td>\n      <td>A</td>\n      <td>1</td>\n      <td>1</td>\n      <td>1</td>\n      <td>1</td>\n      <td>[0.17, 0.83]</td>\n      <td>[0.12, 0.88]</td>\n      <td>[0.13927655940389197, 0.8607234405961081]</td>\n    </tr>\n  </tbody>\n</table>\n<p>740 rows × 13 columns</p>\n</div>"
     },
     "execution_count": 43,
     "metadata": {},
     "output_type": "execute_result"
    }
   ],
   "source": [
    "selected_columns = [\n",
    "    \"Mutation_Effect_Label\",\n",
    "    \"UniProt_ID\", \"Mutation\",\n",
    "    \"Interactor_UniProt_ID\",\n",
    "    \"Template_cath_id\",\n",
    "    \"Chain_id\",\n",
    "    \"Actual\",\n",
    "    \"Prediction_default\",\n",
    "    \"Prediction_FS\",\n",
    "    \"Prediction_FS_HP\",\n",
    "    \"Prediction_default_probs\",\n",
    "    \"Prediction_FS_probs\",\n",
    "    \"Prediction_FS_HP_probs\",\n",
    "]\n",
    "\n",
    "leave_one_complex_out_result_data_labels_and_probs_simplified = leave_one_complex_out_result_data_labels_and_probs[\n",
    "    selected_columns].copy()\n",
    "leave_one_complex_out_result_data_labels_and_probs_simplified"
   ],
   "metadata": {
    "collapsed": false,
    "pycharm": {
     "name": "#%%\n"
    }
   }
  },
  {
   "cell_type": "code",
   "execution_count": 44,
   "outputs": [
    {
     "data": {
      "text/plain": "True"
     },
     "execution_count": 44,
     "metadata": {},
     "output_type": "execute_result"
    }
   ],
   "source": [
    "leave_one_complex_out_result_data_labels_and_probs_simplified[\"Mutation_Effect_Label\"].equals(\n",
    "    leave_one_complex_out_result_data_labels_and_probs_simplified[\"Actual\"]\n",
    ")"
   ],
   "metadata": {
    "collapsed": false,
    "pycharm": {
     "name": "#%%\n"
    }
   }
  },
  {
   "cell_type": "code",
   "execution_count": null,
   "outputs": [],
   "source": [],
   "metadata": {
    "collapsed": false,
    "pycharm": {
     "name": "#%%\n"
    }
   }
  },
  {
   "cell_type": "code",
   "execution_count": 6,
   "outputs": [],
   "source": [
    "leave_one_complex_out_result_data_labels_and_probs_simplified = pd.read_csv(\"../../LeaveOneComplexOut/leave_one_complex_out_result_data_labels_and_probs_simplified_2022-06-19.csv\")"
   ],
   "metadata": {
    "collapsed": false,
    "pycharm": {
     "name": "#%%\n"
    }
   }
  },
  {
   "cell_type": "code",
   "execution_count": 6,
   "outputs": [],
   "source": [],
   "metadata": {
    "collapsed": false,
    "pycharm": {
     "name": "#%%\n"
    }
   }
  },
  {
   "cell_type": "code",
   "execution_count": 7,
   "outputs": [],
   "source": [
    "y_true = leave_one_complex_out_result_data_labels_and_probs_simplified[\"Actual\"].tolist()\n",
    "y_pred_default = leave_one_complex_out_result_data_labels_and_probs_simplified[\"Prediction_default\"].tolist()\n",
    "y_pred_fs = leave_one_complex_out_result_data_labels_and_probs_simplified[\"Prediction_FS\"].tolist()\n",
    "y_pred_fs_hypertuned = leave_one_complex_out_result_data_labels_and_probs_simplified[\"Prediction_FS_HP\"].tolist()"
   ],
   "metadata": {
    "collapsed": false,
    "pycharm": {
     "name": "#%%\n"
    }
   }
  },
  {
   "cell_type": "code",
   "execution_count": null,
   "outputs": [],
   "source": [],
   "metadata": {
    "collapsed": false,
    "pycharm": {
     "name": "#%%\n"
    }
   }
  },
  {
   "cell_type": "code",
   "execution_count": 19,
   "outputs": [],
   "source": [
    "loco_data = leave_one_complex_out_result_data_labels_and_probs_simplified.copy()"
   ],
   "metadata": {
    "collapsed": false,
    "pycharm": {
     "name": "#%%\n"
    }
   }
  },
  {
   "cell_type": "code",
   "execution_count": 20,
   "outputs": [
    {
     "data": {
      "text/plain": "     Mutation_Effect_Label UniProt_ID Mutation Interactor_UniProt_ID  \\\n0                        1     Q9BPZ3    F118A                P11940   \n1                        1     P01116     Y40C                P50749   \n2                        1     Q96QK1    F534D                Q9UBQ0   \n3                        1     Q96QK1    F534D              Q9UBQ0-2   \n4                        1   O43521-3     G66A                Q07812   \n..                     ...        ...      ...                   ...   \n735                      1     P84243     Q94A              Q9UER7-3   \n736                      1     Q96QK1    L589D                Q9UBQ0   \n737                      1     Q96QK1    L589D              Q9UBQ0-2   \n738                      1     P23297     F72L                P25815   \n739                      1     Q15836     L46P                O43752   \n\n    Template_cath_id Chain_id  Actual  Prediction_default  Prediction_FS  \\\n0              1jgnB        B       1                   0              0   \n1              3ddcA        A       1                   1              1   \n2              2r17C        C       1                   1              1   \n3              2r17C        C       1                   1              1   \n4              3fdlB        B       1                   0              0   \n..               ...      ...     ...                 ...            ...   \n735            4hgaB        B       1                   1              1   \n736            2r17C        C       1                   1              1   \n737            2r17C        C       1                   1              1   \n738            2y5iA        A       1                   1              1   \n739            2npsA        A       1                   1              1   \n\n     Prediction_FS_HP Prediction_default_probs Prediction_FS_probs  \\\n0                   1              [0.52 0.48]         [0.55 0.45]   \n1                   1              [0.48 0.52]         [0.22 0.78]   \n2                   1              [0.08 0.92]         [0.03 0.97]   \n3                   1              [0.08 0.92]         [0.03 0.97]   \n4                   0              [0.63 0.37]         [0.73 0.27]   \n..                ...                      ...                 ...   \n735                 1              [0.47 0.53]         [0.16 0.84]   \n736                 1              [0.06 0.94]         [0.07 0.93]   \n737                 1              [0.06 0.94]         [0.07 0.93]   \n738                 1              [0.08 0.92]         [0.22 0.78]   \n739                 1              [0.17 0.83]         [0.12 0.88]   \n\n      Prediction_FS_HP_probs  \n0    [0.48382508 0.51617492]  \n1      [0.1575574 0.8424426]  \n2    [0.02626213 0.97373787]  \n3    [0.02626213 0.97373787]  \n4    [0.70014576 0.29985424]  \n..                       ...  \n735  [0.13237586 0.86762414]  \n736  [0.15107901 0.84892099]  \n737  [0.15107901 0.84892099]  \n738  [0.22585215 0.77414785]  \n739  [0.13927656 0.86072344]  \n\n[740 rows x 13 columns]",
      "text/html": "<div>\n<style scoped>\n    .dataframe tbody tr th:only-of-type {\n        vertical-align: middle;\n    }\n\n    .dataframe tbody tr th {\n        vertical-align: top;\n    }\n\n    .dataframe thead th {\n        text-align: right;\n    }\n</style>\n<table border=\"1\" class=\"dataframe\">\n  <thead>\n    <tr style=\"text-align: right;\">\n      <th></th>\n      <th>Mutation_Effect_Label</th>\n      <th>UniProt_ID</th>\n      <th>Mutation</th>\n      <th>Interactor_UniProt_ID</th>\n      <th>Template_cath_id</th>\n      <th>Chain_id</th>\n      <th>Actual</th>\n      <th>Prediction_default</th>\n      <th>Prediction_FS</th>\n      <th>Prediction_FS_HP</th>\n      <th>Prediction_default_probs</th>\n      <th>Prediction_FS_probs</th>\n      <th>Prediction_FS_HP_probs</th>\n    </tr>\n  </thead>\n  <tbody>\n    <tr>\n      <th>0</th>\n      <td>1</td>\n      <td>Q9BPZ3</td>\n      <td>F118A</td>\n      <td>P11940</td>\n      <td>1jgnB</td>\n      <td>B</td>\n      <td>1</td>\n      <td>0</td>\n      <td>0</td>\n      <td>1</td>\n      <td>[0.52 0.48]</td>\n      <td>[0.55 0.45]</td>\n      <td>[0.48382508 0.51617492]</td>\n    </tr>\n    <tr>\n      <th>1</th>\n      <td>1</td>\n      <td>P01116</td>\n      <td>Y40C</td>\n      <td>P50749</td>\n      <td>3ddcA</td>\n      <td>A</td>\n      <td>1</td>\n      <td>1</td>\n      <td>1</td>\n      <td>1</td>\n      <td>[0.48 0.52]</td>\n      <td>[0.22 0.78]</td>\n      <td>[0.1575574 0.8424426]</td>\n    </tr>\n    <tr>\n      <th>2</th>\n      <td>1</td>\n      <td>Q96QK1</td>\n      <td>F534D</td>\n      <td>Q9UBQ0</td>\n      <td>2r17C</td>\n      <td>C</td>\n      <td>1</td>\n      <td>1</td>\n      <td>1</td>\n      <td>1</td>\n      <td>[0.08 0.92]</td>\n      <td>[0.03 0.97]</td>\n      <td>[0.02626213 0.97373787]</td>\n    </tr>\n    <tr>\n      <th>3</th>\n      <td>1</td>\n      <td>Q96QK1</td>\n      <td>F534D</td>\n      <td>Q9UBQ0-2</td>\n      <td>2r17C</td>\n      <td>C</td>\n      <td>1</td>\n      <td>1</td>\n      <td>1</td>\n      <td>1</td>\n      <td>[0.08 0.92]</td>\n      <td>[0.03 0.97]</td>\n      <td>[0.02626213 0.97373787]</td>\n    </tr>\n    <tr>\n      <th>4</th>\n      <td>1</td>\n      <td>O43521-3</td>\n      <td>G66A</td>\n      <td>Q07812</td>\n      <td>3fdlB</td>\n      <td>B</td>\n      <td>1</td>\n      <td>0</td>\n      <td>0</td>\n      <td>0</td>\n      <td>[0.63 0.37]</td>\n      <td>[0.73 0.27]</td>\n      <td>[0.70014576 0.29985424]</td>\n    </tr>\n    <tr>\n      <th>...</th>\n      <td>...</td>\n      <td>...</td>\n      <td>...</td>\n      <td>...</td>\n      <td>...</td>\n      <td>...</td>\n      <td>...</td>\n      <td>...</td>\n      <td>...</td>\n      <td>...</td>\n      <td>...</td>\n      <td>...</td>\n      <td>...</td>\n    </tr>\n    <tr>\n      <th>735</th>\n      <td>1</td>\n      <td>P84243</td>\n      <td>Q94A</td>\n      <td>Q9UER7-3</td>\n      <td>4hgaB</td>\n      <td>B</td>\n      <td>1</td>\n      <td>1</td>\n      <td>1</td>\n      <td>1</td>\n      <td>[0.47 0.53]</td>\n      <td>[0.16 0.84]</td>\n      <td>[0.13237586 0.86762414]</td>\n    </tr>\n    <tr>\n      <th>736</th>\n      <td>1</td>\n      <td>Q96QK1</td>\n      <td>L589D</td>\n      <td>Q9UBQ0</td>\n      <td>2r17C</td>\n      <td>C</td>\n      <td>1</td>\n      <td>1</td>\n      <td>1</td>\n      <td>1</td>\n      <td>[0.06 0.94]</td>\n      <td>[0.07 0.93]</td>\n      <td>[0.15107901 0.84892099]</td>\n    </tr>\n    <tr>\n      <th>737</th>\n      <td>1</td>\n      <td>Q96QK1</td>\n      <td>L589D</td>\n      <td>Q9UBQ0-2</td>\n      <td>2r17C</td>\n      <td>C</td>\n      <td>1</td>\n      <td>1</td>\n      <td>1</td>\n      <td>1</td>\n      <td>[0.06 0.94]</td>\n      <td>[0.07 0.93]</td>\n      <td>[0.15107901 0.84892099]</td>\n    </tr>\n    <tr>\n      <th>738</th>\n      <td>1</td>\n      <td>P23297</td>\n      <td>F72L</td>\n      <td>P25815</td>\n      <td>2y5iA</td>\n      <td>A</td>\n      <td>1</td>\n      <td>1</td>\n      <td>1</td>\n      <td>1</td>\n      <td>[0.08 0.92]</td>\n      <td>[0.22 0.78]</td>\n      <td>[0.22585215 0.77414785]</td>\n    </tr>\n    <tr>\n      <th>739</th>\n      <td>1</td>\n      <td>Q15836</td>\n      <td>L46P</td>\n      <td>O43752</td>\n      <td>2npsA</td>\n      <td>A</td>\n      <td>1</td>\n      <td>1</td>\n      <td>1</td>\n      <td>1</td>\n      <td>[0.17 0.83]</td>\n      <td>[0.12 0.88]</td>\n      <td>[0.13927656 0.86072344]</td>\n    </tr>\n  </tbody>\n</table>\n<p>740 rows × 13 columns</p>\n</div>"
     },
     "execution_count": 20,
     "metadata": {},
     "output_type": "execute_result"
    }
   ],
   "source": [
    "loco_data"
   ],
   "metadata": {
    "collapsed": false,
    "pycharm": {
     "name": "#%%\n"
    }
   }
  },
  {
   "cell_type": "code",
   "execution_count": 21,
   "outputs": [],
   "source": [
    "import ast"
   ],
   "metadata": {
    "collapsed": false,
    "pycharm": {
     "name": "#%%\n"
    }
   }
  },
  {
   "cell_type": "code",
   "execution_count": 22,
   "outputs": [],
   "source": [
    "loco_data['Prediction_default_probs'] = loco_data['Prediction_default_probs'].apply(lambda x: ast.literal_eval(x.replace(\" \", \", \")))\n",
    "loco_data['Prediction_FS_probs'] = loco_data['Prediction_FS_probs'].apply(lambda x: ast.literal_eval(x.replace(\" \", \", \")))\n",
    "loco_data['Prediction_FS_HP_probs'] = loco_data['Prediction_FS_HP_probs'].apply(lambda x: ast.literal_eval(x.replace(\" \", \", \")))"
   ],
   "metadata": {
    "collapsed": false,
    "pycharm": {
     "name": "#%%\n"
    }
   }
  },
  {
   "cell_type": "code",
   "execution_count": 23,
   "outputs": [
    {
     "data": {
      "text/plain": "     Mutation_Effect_Label UniProt_ID Mutation Interactor_UniProt_ID  \\\n0                        1     Q9BPZ3    F118A                P11940   \n1                        1     P01116     Y40C                P50749   \n2                        1     Q96QK1    F534D                Q9UBQ0   \n3                        1     Q96QK1    F534D              Q9UBQ0-2   \n4                        1   O43521-3     G66A                Q07812   \n..                     ...        ...      ...                   ...   \n735                      1     P84243     Q94A              Q9UER7-3   \n736                      1     Q96QK1    L589D                Q9UBQ0   \n737                      1     Q96QK1    L589D              Q9UBQ0-2   \n738                      1     P23297     F72L                P25815   \n739                      1     Q15836     L46P                O43752   \n\n    Template_cath_id Chain_id  Actual  Prediction_default  Prediction_FS  \\\n0              1jgnB        B       1                   0              0   \n1              3ddcA        A       1                   1              1   \n2              2r17C        C       1                   1              1   \n3              2r17C        C       1                   1              1   \n4              3fdlB        B       1                   0              0   \n..               ...      ...     ...                 ...            ...   \n735            4hgaB        B       1                   1              1   \n736            2r17C        C       1                   1              1   \n737            2r17C        C       1                   1              1   \n738            2y5iA        A       1                   1              1   \n739            2npsA        A       1                   1              1   \n\n     Prediction_FS_HP Prediction_default_probs Prediction_FS_probs  \\\n0                   1             [0.52, 0.48]        [0.55, 0.45]   \n1                   1             [0.48, 0.52]        [0.22, 0.78]   \n2                   1             [0.08, 0.92]        [0.03, 0.97]   \n3                   1             [0.08, 0.92]        [0.03, 0.97]   \n4                   0             [0.63, 0.37]        [0.73, 0.27]   \n..                ...                      ...                 ...   \n735                 1             [0.47, 0.53]        [0.16, 0.84]   \n736                 1             [0.06, 0.94]        [0.07, 0.93]   \n737                 1             [0.06, 0.94]        [0.07, 0.93]   \n738                 1             [0.08, 0.92]        [0.22, 0.78]   \n739                 1             [0.17, 0.83]        [0.12, 0.88]   \n\n       Prediction_FS_HP_probs  \n0    [0.48382508, 0.51617492]  \n1      [0.1575574, 0.8424426]  \n2    [0.02626213, 0.97373787]  \n3    [0.02626213, 0.97373787]  \n4    [0.70014576, 0.29985424]  \n..                        ...  \n735  [0.13237586, 0.86762414]  \n736  [0.15107901, 0.84892099]  \n737  [0.15107901, 0.84892099]  \n738  [0.22585215, 0.77414785]  \n739  [0.13927656, 0.86072344]  \n\n[740 rows x 13 columns]",
      "text/html": "<div>\n<style scoped>\n    .dataframe tbody tr th:only-of-type {\n        vertical-align: middle;\n    }\n\n    .dataframe tbody tr th {\n        vertical-align: top;\n    }\n\n    .dataframe thead th {\n        text-align: right;\n    }\n</style>\n<table border=\"1\" class=\"dataframe\">\n  <thead>\n    <tr style=\"text-align: right;\">\n      <th></th>\n      <th>Mutation_Effect_Label</th>\n      <th>UniProt_ID</th>\n      <th>Mutation</th>\n      <th>Interactor_UniProt_ID</th>\n      <th>Template_cath_id</th>\n      <th>Chain_id</th>\n      <th>Actual</th>\n      <th>Prediction_default</th>\n      <th>Prediction_FS</th>\n      <th>Prediction_FS_HP</th>\n      <th>Prediction_default_probs</th>\n      <th>Prediction_FS_probs</th>\n      <th>Prediction_FS_HP_probs</th>\n    </tr>\n  </thead>\n  <tbody>\n    <tr>\n      <th>0</th>\n      <td>1</td>\n      <td>Q9BPZ3</td>\n      <td>F118A</td>\n      <td>P11940</td>\n      <td>1jgnB</td>\n      <td>B</td>\n      <td>1</td>\n      <td>0</td>\n      <td>0</td>\n      <td>1</td>\n      <td>[0.52, 0.48]</td>\n      <td>[0.55, 0.45]</td>\n      <td>[0.48382508, 0.51617492]</td>\n    </tr>\n    <tr>\n      <th>1</th>\n      <td>1</td>\n      <td>P01116</td>\n      <td>Y40C</td>\n      <td>P50749</td>\n      <td>3ddcA</td>\n      <td>A</td>\n      <td>1</td>\n      <td>1</td>\n      <td>1</td>\n      <td>1</td>\n      <td>[0.48, 0.52]</td>\n      <td>[0.22, 0.78]</td>\n      <td>[0.1575574, 0.8424426]</td>\n    </tr>\n    <tr>\n      <th>2</th>\n      <td>1</td>\n      <td>Q96QK1</td>\n      <td>F534D</td>\n      <td>Q9UBQ0</td>\n      <td>2r17C</td>\n      <td>C</td>\n      <td>1</td>\n      <td>1</td>\n      <td>1</td>\n      <td>1</td>\n      <td>[0.08, 0.92]</td>\n      <td>[0.03, 0.97]</td>\n      <td>[0.02626213, 0.97373787]</td>\n    </tr>\n    <tr>\n      <th>3</th>\n      <td>1</td>\n      <td>Q96QK1</td>\n      <td>F534D</td>\n      <td>Q9UBQ0-2</td>\n      <td>2r17C</td>\n      <td>C</td>\n      <td>1</td>\n      <td>1</td>\n      <td>1</td>\n      <td>1</td>\n      <td>[0.08, 0.92]</td>\n      <td>[0.03, 0.97]</td>\n      <td>[0.02626213, 0.97373787]</td>\n    </tr>\n    <tr>\n      <th>4</th>\n      <td>1</td>\n      <td>O43521-3</td>\n      <td>G66A</td>\n      <td>Q07812</td>\n      <td>3fdlB</td>\n      <td>B</td>\n      <td>1</td>\n      <td>0</td>\n      <td>0</td>\n      <td>0</td>\n      <td>[0.63, 0.37]</td>\n      <td>[0.73, 0.27]</td>\n      <td>[0.70014576, 0.29985424]</td>\n    </tr>\n    <tr>\n      <th>...</th>\n      <td>...</td>\n      <td>...</td>\n      <td>...</td>\n      <td>...</td>\n      <td>...</td>\n      <td>...</td>\n      <td>...</td>\n      <td>...</td>\n      <td>...</td>\n      <td>...</td>\n      <td>...</td>\n      <td>...</td>\n      <td>...</td>\n    </tr>\n    <tr>\n      <th>735</th>\n      <td>1</td>\n      <td>P84243</td>\n      <td>Q94A</td>\n      <td>Q9UER7-3</td>\n      <td>4hgaB</td>\n      <td>B</td>\n      <td>1</td>\n      <td>1</td>\n      <td>1</td>\n      <td>1</td>\n      <td>[0.47, 0.53]</td>\n      <td>[0.16, 0.84]</td>\n      <td>[0.13237586, 0.86762414]</td>\n    </tr>\n    <tr>\n      <th>736</th>\n      <td>1</td>\n      <td>Q96QK1</td>\n      <td>L589D</td>\n      <td>Q9UBQ0</td>\n      <td>2r17C</td>\n      <td>C</td>\n      <td>1</td>\n      <td>1</td>\n      <td>1</td>\n      <td>1</td>\n      <td>[0.06, 0.94]</td>\n      <td>[0.07, 0.93]</td>\n      <td>[0.15107901, 0.84892099]</td>\n    </tr>\n    <tr>\n      <th>737</th>\n      <td>1</td>\n      <td>Q96QK1</td>\n      <td>L589D</td>\n      <td>Q9UBQ0-2</td>\n      <td>2r17C</td>\n      <td>C</td>\n      <td>1</td>\n      <td>1</td>\n      <td>1</td>\n      <td>1</td>\n      <td>[0.06, 0.94]</td>\n      <td>[0.07, 0.93]</td>\n      <td>[0.15107901, 0.84892099]</td>\n    </tr>\n    <tr>\n      <th>738</th>\n      <td>1</td>\n      <td>P23297</td>\n      <td>F72L</td>\n      <td>P25815</td>\n      <td>2y5iA</td>\n      <td>A</td>\n      <td>1</td>\n      <td>1</td>\n      <td>1</td>\n      <td>1</td>\n      <td>[0.08, 0.92]</td>\n      <td>[0.22, 0.78]</td>\n      <td>[0.22585215, 0.77414785]</td>\n    </tr>\n    <tr>\n      <th>739</th>\n      <td>1</td>\n      <td>Q15836</td>\n      <td>L46P</td>\n      <td>O43752</td>\n      <td>2npsA</td>\n      <td>A</td>\n      <td>1</td>\n      <td>1</td>\n      <td>1</td>\n      <td>1</td>\n      <td>[0.17, 0.83]</td>\n      <td>[0.12, 0.88]</td>\n      <td>[0.13927656, 0.86072344]</td>\n    </tr>\n  </tbody>\n</table>\n<p>740 rows × 13 columns</p>\n</div>"
     },
     "execution_count": 23,
     "metadata": {},
     "output_type": "execute_result"
    }
   ],
   "source": [
    "loco_data"
   ],
   "metadata": {
    "collapsed": false,
    "pycharm": {
     "name": "#%%\n"
    }
   }
  },
  {
   "cell_type": "code",
   "execution_count": 24,
   "outputs": [],
   "source": [
    "from src.helpers.labels import ClassLabels"
   ],
   "metadata": {
    "collapsed": false,
    "pycharm": {
     "name": "#%%\n"
    }
   }
  },
  {
   "cell_type": "code",
   "execution_count": 25,
   "outputs": [
    {
     "data": {
      "text/plain": "1"
     },
     "execution_count": 25,
     "metadata": {},
     "output_type": "execute_result"
    }
   ],
   "source": [
    "if ClassLabels.DISRUPTING == 0:\n",
    "    disruptive_label_pos = 0\n",
    "elif ClassLabels.DISRUPTING == 1:\n",
    "    disruptive_label_pos = 1\n",
    "else:\n",
    "    raise ValueError\n",
    "\n",
    "disruptive_label_pos"
   ],
   "metadata": {
    "collapsed": false,
    "pycharm": {
     "name": "#%%\n"
    }
   }
  },
  {
   "cell_type": "code",
   "execution_count": 26,
   "outputs": [],
   "source": [
    "loco_data[f\"Prediction_default_probs_{disruptive_label_pos}\"] = loco_data[\"Prediction_default_probs\"].apply(lambda x: x[disruptive_label_pos])\n",
    "loco_data[f\"Prediction_FS_probs_{disruptive_label_pos}\"] = loco_data[\"Prediction_FS_probs\"].apply(lambda x: x[disruptive_label_pos])\n",
    "loco_data[f\"Prediction_FS_HP_probs_{disruptive_label_pos}\"] = loco_data[\"Prediction_FS_HP_probs\"].apply(lambda x: x[disruptive_label_pos])"
   ],
   "metadata": {
    "collapsed": false,
    "pycharm": {
     "name": "#%%\n"
    }
   }
  },
  {
   "cell_type": "code",
   "execution_count": 27,
   "outputs": [
    {
     "data": {
      "text/plain": "     Mutation_Effect_Label UniProt_ID Mutation Interactor_UniProt_ID  \\\n0                        1     Q9BPZ3    F118A                P11940   \n1                        1     P01116     Y40C                P50749   \n2                        1     Q96QK1    F534D                Q9UBQ0   \n3                        1     Q96QK1    F534D              Q9UBQ0-2   \n4                        1   O43521-3     G66A                Q07812   \n..                     ...        ...      ...                   ...   \n735                      1     P84243     Q94A              Q9UER7-3   \n736                      1     Q96QK1    L589D                Q9UBQ0   \n737                      1     Q96QK1    L589D              Q9UBQ0-2   \n738                      1     P23297     F72L                P25815   \n739                      1     Q15836     L46P                O43752   \n\n    Template_cath_id Chain_id  Actual  Prediction_default  Prediction_FS  \\\n0              1jgnB        B       1                   0              0   \n1              3ddcA        A       1                   1              1   \n2              2r17C        C       1                   1              1   \n3              2r17C        C       1                   1              1   \n4              3fdlB        B       1                   0              0   \n..               ...      ...     ...                 ...            ...   \n735            4hgaB        B       1                   1              1   \n736            2r17C        C       1                   1              1   \n737            2r17C        C       1                   1              1   \n738            2y5iA        A       1                   1              1   \n739            2npsA        A       1                   1              1   \n\n     Prediction_FS_HP Prediction_default_probs Prediction_FS_probs  \\\n0                   1             [0.52, 0.48]        [0.55, 0.45]   \n1                   1             [0.48, 0.52]        [0.22, 0.78]   \n2                   1             [0.08, 0.92]        [0.03, 0.97]   \n3                   1             [0.08, 0.92]        [0.03, 0.97]   \n4                   0             [0.63, 0.37]        [0.73, 0.27]   \n..                ...                      ...                 ...   \n735                 1             [0.47, 0.53]        [0.16, 0.84]   \n736                 1             [0.06, 0.94]        [0.07, 0.93]   \n737                 1             [0.06, 0.94]        [0.07, 0.93]   \n738                 1             [0.08, 0.92]        [0.22, 0.78]   \n739                 1             [0.17, 0.83]        [0.12, 0.88]   \n\n       Prediction_FS_HP_probs  Prediction_default_probs_1  \\\n0    [0.48382508, 0.51617492]                        0.48   \n1      [0.1575574, 0.8424426]                        0.52   \n2    [0.02626213, 0.97373787]                        0.92   \n3    [0.02626213, 0.97373787]                        0.92   \n4    [0.70014576, 0.29985424]                        0.37   \n..                        ...                         ...   \n735  [0.13237586, 0.86762414]                        0.53   \n736  [0.15107901, 0.84892099]                        0.94   \n737  [0.15107901, 0.84892099]                        0.94   \n738  [0.22585215, 0.77414785]                        0.92   \n739  [0.13927656, 0.86072344]                        0.83   \n\n     Prediction_FS_probs_1  Prediction_FS_HP_probs_1  \n0                     0.45                  0.516175  \n1                     0.78                  0.842443  \n2                     0.97                  0.973738  \n3                     0.97                  0.973738  \n4                     0.27                  0.299854  \n..                     ...                       ...  \n735                   0.84                  0.867624  \n736                   0.93                  0.848921  \n737                   0.93                  0.848921  \n738                   0.78                  0.774148  \n739                   0.88                  0.860723  \n\n[740 rows x 16 columns]",
      "text/html": "<div>\n<style scoped>\n    .dataframe tbody tr th:only-of-type {\n        vertical-align: middle;\n    }\n\n    .dataframe tbody tr th {\n        vertical-align: top;\n    }\n\n    .dataframe thead th {\n        text-align: right;\n    }\n</style>\n<table border=\"1\" class=\"dataframe\">\n  <thead>\n    <tr style=\"text-align: right;\">\n      <th></th>\n      <th>Mutation_Effect_Label</th>\n      <th>UniProt_ID</th>\n      <th>Mutation</th>\n      <th>Interactor_UniProt_ID</th>\n      <th>Template_cath_id</th>\n      <th>Chain_id</th>\n      <th>Actual</th>\n      <th>Prediction_default</th>\n      <th>Prediction_FS</th>\n      <th>Prediction_FS_HP</th>\n      <th>Prediction_default_probs</th>\n      <th>Prediction_FS_probs</th>\n      <th>Prediction_FS_HP_probs</th>\n      <th>Prediction_default_probs_1</th>\n      <th>Prediction_FS_probs_1</th>\n      <th>Prediction_FS_HP_probs_1</th>\n    </tr>\n  </thead>\n  <tbody>\n    <tr>\n      <th>0</th>\n      <td>1</td>\n      <td>Q9BPZ3</td>\n      <td>F118A</td>\n      <td>P11940</td>\n      <td>1jgnB</td>\n      <td>B</td>\n      <td>1</td>\n      <td>0</td>\n      <td>0</td>\n      <td>1</td>\n      <td>[0.52, 0.48]</td>\n      <td>[0.55, 0.45]</td>\n      <td>[0.48382508, 0.51617492]</td>\n      <td>0.48</td>\n      <td>0.45</td>\n      <td>0.516175</td>\n    </tr>\n    <tr>\n      <th>1</th>\n      <td>1</td>\n      <td>P01116</td>\n      <td>Y40C</td>\n      <td>P50749</td>\n      <td>3ddcA</td>\n      <td>A</td>\n      <td>1</td>\n      <td>1</td>\n      <td>1</td>\n      <td>1</td>\n      <td>[0.48, 0.52]</td>\n      <td>[0.22, 0.78]</td>\n      <td>[0.1575574, 0.8424426]</td>\n      <td>0.52</td>\n      <td>0.78</td>\n      <td>0.842443</td>\n    </tr>\n    <tr>\n      <th>2</th>\n      <td>1</td>\n      <td>Q96QK1</td>\n      <td>F534D</td>\n      <td>Q9UBQ0</td>\n      <td>2r17C</td>\n      <td>C</td>\n      <td>1</td>\n      <td>1</td>\n      <td>1</td>\n      <td>1</td>\n      <td>[0.08, 0.92]</td>\n      <td>[0.03, 0.97]</td>\n      <td>[0.02626213, 0.97373787]</td>\n      <td>0.92</td>\n      <td>0.97</td>\n      <td>0.973738</td>\n    </tr>\n    <tr>\n      <th>3</th>\n      <td>1</td>\n      <td>Q96QK1</td>\n      <td>F534D</td>\n      <td>Q9UBQ0-2</td>\n      <td>2r17C</td>\n      <td>C</td>\n      <td>1</td>\n      <td>1</td>\n      <td>1</td>\n      <td>1</td>\n      <td>[0.08, 0.92]</td>\n      <td>[0.03, 0.97]</td>\n      <td>[0.02626213, 0.97373787]</td>\n      <td>0.92</td>\n      <td>0.97</td>\n      <td>0.973738</td>\n    </tr>\n    <tr>\n      <th>4</th>\n      <td>1</td>\n      <td>O43521-3</td>\n      <td>G66A</td>\n      <td>Q07812</td>\n      <td>3fdlB</td>\n      <td>B</td>\n      <td>1</td>\n      <td>0</td>\n      <td>0</td>\n      <td>0</td>\n      <td>[0.63, 0.37]</td>\n      <td>[0.73, 0.27]</td>\n      <td>[0.70014576, 0.29985424]</td>\n      <td>0.37</td>\n      <td>0.27</td>\n      <td>0.299854</td>\n    </tr>\n    <tr>\n      <th>...</th>\n      <td>...</td>\n      <td>...</td>\n      <td>...</td>\n      <td>...</td>\n      <td>...</td>\n      <td>...</td>\n      <td>...</td>\n      <td>...</td>\n      <td>...</td>\n      <td>...</td>\n      <td>...</td>\n      <td>...</td>\n      <td>...</td>\n      <td>...</td>\n      <td>...</td>\n      <td>...</td>\n    </tr>\n    <tr>\n      <th>735</th>\n      <td>1</td>\n      <td>P84243</td>\n      <td>Q94A</td>\n      <td>Q9UER7-3</td>\n      <td>4hgaB</td>\n      <td>B</td>\n      <td>1</td>\n      <td>1</td>\n      <td>1</td>\n      <td>1</td>\n      <td>[0.47, 0.53]</td>\n      <td>[0.16, 0.84]</td>\n      <td>[0.13237586, 0.86762414]</td>\n      <td>0.53</td>\n      <td>0.84</td>\n      <td>0.867624</td>\n    </tr>\n    <tr>\n      <th>736</th>\n      <td>1</td>\n      <td>Q96QK1</td>\n      <td>L589D</td>\n      <td>Q9UBQ0</td>\n      <td>2r17C</td>\n      <td>C</td>\n      <td>1</td>\n      <td>1</td>\n      <td>1</td>\n      <td>1</td>\n      <td>[0.06, 0.94]</td>\n      <td>[0.07, 0.93]</td>\n      <td>[0.15107901, 0.84892099]</td>\n      <td>0.94</td>\n      <td>0.93</td>\n      <td>0.848921</td>\n    </tr>\n    <tr>\n      <th>737</th>\n      <td>1</td>\n      <td>Q96QK1</td>\n      <td>L589D</td>\n      <td>Q9UBQ0-2</td>\n      <td>2r17C</td>\n      <td>C</td>\n      <td>1</td>\n      <td>1</td>\n      <td>1</td>\n      <td>1</td>\n      <td>[0.06, 0.94]</td>\n      <td>[0.07, 0.93]</td>\n      <td>[0.15107901, 0.84892099]</td>\n      <td>0.94</td>\n      <td>0.93</td>\n      <td>0.848921</td>\n    </tr>\n    <tr>\n      <th>738</th>\n      <td>1</td>\n      <td>P23297</td>\n      <td>F72L</td>\n      <td>P25815</td>\n      <td>2y5iA</td>\n      <td>A</td>\n      <td>1</td>\n      <td>1</td>\n      <td>1</td>\n      <td>1</td>\n      <td>[0.08, 0.92]</td>\n      <td>[0.22, 0.78]</td>\n      <td>[0.22585215, 0.77414785]</td>\n      <td>0.92</td>\n      <td>0.78</td>\n      <td>0.774148</td>\n    </tr>\n    <tr>\n      <th>739</th>\n      <td>1</td>\n      <td>Q15836</td>\n      <td>L46P</td>\n      <td>O43752</td>\n      <td>2npsA</td>\n      <td>A</td>\n      <td>1</td>\n      <td>1</td>\n      <td>1</td>\n      <td>1</td>\n      <td>[0.17, 0.83]</td>\n      <td>[0.12, 0.88]</td>\n      <td>[0.13927656, 0.86072344]</td>\n      <td>0.83</td>\n      <td>0.88</td>\n      <td>0.860723</td>\n    </tr>\n  </tbody>\n</table>\n<p>740 rows × 16 columns</p>\n</div>"
     },
     "execution_count": 27,
     "metadata": {},
     "output_type": "execute_result"
    }
   ],
   "source": [
    "loco_data"
   ],
   "metadata": {
    "collapsed": false,
    "pycharm": {
     "name": "#%%\n"
    }
   }
  },
  {
   "cell_type": "code",
   "execution_count": null,
   "outputs": [],
   "source": [],
   "metadata": {
    "collapsed": false,
    "pycharm": {
     "name": "#%%\n"
    }
   }
  },
  {
   "cell_type": "code",
   "execution_count": 28,
   "outputs": [],
   "source": [
    "from sklearn import metrics"
   ],
   "metadata": {
    "collapsed": false,
    "pycharm": {
     "name": "#%%\n"
    }
   }
  },
  {
   "cell_type": "code",
   "execution_count": 29,
   "outputs": [
    {
     "data": {
      "text/plain": "0.7465"
     },
     "execution_count": 29,
     "metadata": {},
     "output_type": "execute_result"
    }
   ],
   "source": [
    "y = loco_data[\"Mutation_Effect_Label\"]\n",
    "pred = loco_data[f\"Prediction_FS_probs_{disruptive_label_pos}\"]\n",
    "\n",
    "fpr, tpr, thresholds = metrics.roc_curve(y, pred, pos_label=ClassLabels.DISRUPTING)\n",
    "metrics.auc(fpr, tpr)"
   ],
   "metadata": {
    "collapsed": false,
    "pycharm": {
     "name": "#%%\n"
    }
   }
  },
  {
   "cell_type": "code",
   "execution_count": 30,
   "outputs": [
    {
     "data": {
      "text/plain": "0.7496481481481481"
     },
     "execution_count": 30,
     "metadata": {},
     "output_type": "execute_result"
    }
   ],
   "source": [
    "y = loco_data[\"Mutation_Effect_Label\"]\n",
    "pred = loco_data[f\"Prediction_FS_HP_probs_{disruptive_label_pos}\"]\n",
    "\n",
    "fpr, tpr, thresholds = metrics.roc_curve(y, pred, pos_label=ClassLabels.DISRUPTING)\n",
    "metrics.auc(fpr, tpr)"
   ],
   "metadata": {
    "collapsed": false,
    "pycharm": {
     "name": "#%%\n"
    }
   }
  },
  {
   "cell_type": "code",
   "execution_count": 32,
   "outputs": [
    {
     "data": {
      "text/plain": "0.2503518518518518"
     },
     "execution_count": 32,
     "metadata": {},
     "output_type": "execute_result"
    }
   ],
   "source": [
    "# using pos_label=0\n",
    "y = loco_data[\"Mutation_Effect_Label\"]\n",
    "pred = loco_data[f\"Prediction_FS_HP_probs_{disruptive_label_pos}\"]\n",
    "\n",
    "fpr, tpr, thresholds = metrics.roc_curve(y, pred, pos_label=0)\n",
    "metrics.auc(fpr, tpr)"
   ],
   "metadata": {
    "collapsed": false,
    "pycharm": {
     "name": "#%%\n"
    }
   }
  },
  {
   "cell_type": "code",
   "execution_count": 33,
   "outputs": [],
   "source": [
    "from sklearn.metrics import roc_auc_score"
   ],
   "metadata": {
    "collapsed": false,
    "pycharm": {
     "name": "#%%\n"
    }
   }
  },
  {
   "cell_type": "code",
   "execution_count": 34,
   "outputs": [
    {
     "data": {
      "text/plain": "0.7496481481481481"
     },
     "execution_count": 34,
     "metadata": {},
     "output_type": "execute_result"
    }
   ],
   "source": [
    "roc_auc_score(y_true, pred)"
   ],
   "metadata": {
    "collapsed": false,
    "pycharm": {
     "name": "#%%\n"
    }
   }
  },
  {
   "cell_type": "markdown",
   "source": [
    "# ---------------------------------------------------------------"
   ],
   "metadata": {
    "collapsed": false,
    "pycharm": {
     "name": "#%% md\n"
    }
   }
  },
  {
   "cell_type": "code",
   "execution_count": 60,
   "outputs": [],
   "source": [
    "# The end."
   ],
   "metadata": {
    "collapsed": false,
    "pycharm": {
     "name": "#%%\n"
    }
   }
  },
  {
   "cell_type": "code",
   "execution_count": null,
   "outputs": [],
   "source": [],
   "metadata": {
    "collapsed": false,
    "pycharm": {
     "name": "#%%\n"
    }
   }
  }
 ],
 "metadata": {
  "kernelspec": {
   "name": "predator",
   "language": "python",
   "display_name": "Predator"
  },
  "language_info": {
   "codemirror_mode": {
    "name": "ipython",
    "version": 2
   },
   "file_extension": ".py",
   "mimetype": "text/x-python",
   "name": "python",
   "nbconvert_exporter": "python",
   "pygments_lexer": "ipython2",
   "version": "2.7.6"
  }
 },
 "nbformat": 4,
 "nbformat_minor": 0
}