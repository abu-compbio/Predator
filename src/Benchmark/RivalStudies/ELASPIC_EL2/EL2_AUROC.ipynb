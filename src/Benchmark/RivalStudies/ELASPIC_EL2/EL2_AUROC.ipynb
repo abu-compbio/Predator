{
 "cells": [
  {
   "cell_type": "markdown",
   "source": [
    "# ELASPIC EL2 AUROC\n"
   ],
   "metadata": {
    "collapsed": false,
    "pycharm": {
     "name": "#%% md\n"
    }
   }
  },
  {
   "cell_type": "code",
   "execution_count": 1,
   "outputs": [
    {
     "name": "stdout",
     "output_type": "stream",
     "text": [
      "\u001B[32mJune 21, 2022 15:14:22\u001B[0m\n"
     ]
    }
   ],
   "source": [
    "from datetime import datetime\n",
    "\n",
    "print(\"\\033[32m{}\\033[0m\".format(datetime.now().strftime(\"%B %d, %Y %H:%M:%S\")))"
   ],
   "metadata": {
    "collapsed": false,
    "pycharm": {
     "name": "#%%\n"
    }
   }
  },
  {
   "cell_type": "code",
   "execution_count": 2,
   "outputs": [],
   "source": [
    "import pandas as pd\n",
    "import numpy as np\n",
    "from sklearn.metrics import roc_auc_score\n",
    "from sklearn import metrics\n",
    "\n",
    "TRAIN_DATA_PATH = \"../../common/train_data_with_PDB_features.csv\"\n",
    "\n",
    "# Reflect changes in the modules immediately.\n",
    "%load_ext autoreload\n",
    "%autoreload 2"
   ],
   "metadata": {
    "collapsed": false,
    "pycharm": {
     "name": "#%%\n"
    }
   }
  },
  {
   "cell_type": "markdown",
   "source": [
    "# EL2_score AUROC"
   ],
   "metadata": {
    "collapsed": false,
    "pycharm": {
     "name": "#%% md\n"
    }
   }
  },
  {
   "cell_type": "code",
   "execution_count": 3,
   "outputs": [
    {
     "name": "stdout",
     "output_type": "stream",
     "text": [
      "(740, 107)\n"
     ]
    },
    {
     "data": {
      "text/plain": "   Mutation_Effect_Label Input_identifier UniProt_ID Mutation Status  \\\n0                      1           Q9BPZ3     Q9BPZ3    F118A   done   \n1                      1           P01116     P01116     Y40C   done   \n2                      1           Q96QK1     Q96QK1    F534D   done   \n3                      1           Q96QK1     Q96QK1    F534D   done   \n4                      1         O43521-3   O43521-3     G66A   done   \n\n        Type COSMIC_mut_ID ClinVar_mut_ID UniProt_mut_ID    Domain_name  ...  \\\n0  interface             -              -              -           PAM2  ...   \n1  interface             -              -              -            Ras  ...   \n2  interface             -              -              -          Vps35  ...   \n3  interface             -              -              -          Vps35  ...   \n4  interface             -              -              -  Bclx_interact  ...   \n\n  IntraclashesEnergy2_wt IntraclashesEnergy2_mut Interface_hydrophobic_area  \\\n0                52.4675                 52.4675                    427.775   \n1                70.2902                 70.2461                     464.47   \n2                59.2321                 59.1774                     510.69   \n3                59.2321                 59.1774                     510.69   \n4                41.5937                 41.5937                     405.51   \n\n   Interface_hydrophilic_area  Interface_total_area  \\\n0                     194.715               622.495   \n1                      400.03               864.505   \n2                      298.82                809.51   \n3                      298.82                809.51   \n4                      273.74               679.245   \n\n  Interface_contact_distance_wt Interface_contact_distance_mut  \\\n0                       3.35293                        3.35293   \n1                       3.07827                        3.59123   \n2                       3.03938                        3.24435   \n3                       3.03938                        3.24435   \n4                       3.37301                        3.22505   \n\n  Template_cath_id_pdb Chain_id Interactor_template_cath_id_pdb  \n0                 1jgn        B                            1jgn  \n1                 3ddc        A                            3ddc  \n2                 2r17        C                            2r17  \n3                 2r17        C                            2r17  \n4                 3fdl        B                            3fdl  \n\n[5 rows x 107 columns]",
      "text/html": "<div>\n<style scoped>\n    .dataframe tbody tr th:only-of-type {\n        vertical-align: middle;\n    }\n\n    .dataframe tbody tr th {\n        vertical-align: top;\n    }\n\n    .dataframe thead th {\n        text-align: right;\n    }\n</style>\n<table border=\"1\" class=\"dataframe\">\n  <thead>\n    <tr style=\"text-align: right;\">\n      <th></th>\n      <th>Mutation_Effect_Label</th>\n      <th>Input_identifier</th>\n      <th>UniProt_ID</th>\n      <th>Mutation</th>\n      <th>Status</th>\n      <th>Type</th>\n      <th>COSMIC_mut_ID</th>\n      <th>ClinVar_mut_ID</th>\n      <th>UniProt_mut_ID</th>\n      <th>Domain_name</th>\n      <th>...</th>\n      <th>IntraclashesEnergy2_wt</th>\n      <th>IntraclashesEnergy2_mut</th>\n      <th>Interface_hydrophobic_area</th>\n      <th>Interface_hydrophilic_area</th>\n      <th>Interface_total_area</th>\n      <th>Interface_contact_distance_wt</th>\n      <th>Interface_contact_distance_mut</th>\n      <th>Template_cath_id_pdb</th>\n      <th>Chain_id</th>\n      <th>Interactor_template_cath_id_pdb</th>\n    </tr>\n  </thead>\n  <tbody>\n    <tr>\n      <th>0</th>\n      <td>1</td>\n      <td>Q9BPZ3</td>\n      <td>Q9BPZ3</td>\n      <td>F118A</td>\n      <td>done</td>\n      <td>interface</td>\n      <td>-</td>\n      <td>-</td>\n      <td>-</td>\n      <td>PAM2</td>\n      <td>...</td>\n      <td>52.4675</td>\n      <td>52.4675</td>\n      <td>427.775</td>\n      <td>194.715</td>\n      <td>622.495</td>\n      <td>3.35293</td>\n      <td>3.35293</td>\n      <td>1jgn</td>\n      <td>B</td>\n      <td>1jgn</td>\n    </tr>\n    <tr>\n      <th>1</th>\n      <td>1</td>\n      <td>P01116</td>\n      <td>P01116</td>\n      <td>Y40C</td>\n      <td>done</td>\n      <td>interface</td>\n      <td>-</td>\n      <td>-</td>\n      <td>-</td>\n      <td>Ras</td>\n      <td>...</td>\n      <td>70.2902</td>\n      <td>70.2461</td>\n      <td>464.47</td>\n      <td>400.03</td>\n      <td>864.505</td>\n      <td>3.07827</td>\n      <td>3.59123</td>\n      <td>3ddc</td>\n      <td>A</td>\n      <td>3ddc</td>\n    </tr>\n    <tr>\n      <th>2</th>\n      <td>1</td>\n      <td>Q96QK1</td>\n      <td>Q96QK1</td>\n      <td>F534D</td>\n      <td>done</td>\n      <td>interface</td>\n      <td>-</td>\n      <td>-</td>\n      <td>-</td>\n      <td>Vps35</td>\n      <td>...</td>\n      <td>59.2321</td>\n      <td>59.1774</td>\n      <td>510.69</td>\n      <td>298.82</td>\n      <td>809.51</td>\n      <td>3.03938</td>\n      <td>3.24435</td>\n      <td>2r17</td>\n      <td>C</td>\n      <td>2r17</td>\n    </tr>\n    <tr>\n      <th>3</th>\n      <td>1</td>\n      <td>Q96QK1</td>\n      <td>Q96QK1</td>\n      <td>F534D</td>\n      <td>done</td>\n      <td>interface</td>\n      <td>-</td>\n      <td>-</td>\n      <td>-</td>\n      <td>Vps35</td>\n      <td>...</td>\n      <td>59.2321</td>\n      <td>59.1774</td>\n      <td>510.69</td>\n      <td>298.82</td>\n      <td>809.51</td>\n      <td>3.03938</td>\n      <td>3.24435</td>\n      <td>2r17</td>\n      <td>C</td>\n      <td>2r17</td>\n    </tr>\n    <tr>\n      <th>4</th>\n      <td>1</td>\n      <td>O43521-3</td>\n      <td>O43521-3</td>\n      <td>G66A</td>\n      <td>done</td>\n      <td>interface</td>\n      <td>-</td>\n      <td>-</td>\n      <td>-</td>\n      <td>Bclx_interact</td>\n      <td>...</td>\n      <td>41.5937</td>\n      <td>41.5937</td>\n      <td>405.51</td>\n      <td>273.74</td>\n      <td>679.245</td>\n      <td>3.37301</td>\n      <td>3.22505</td>\n      <td>3fdl</td>\n      <td>B</td>\n      <td>3fdl</td>\n    </tr>\n  </tbody>\n</table>\n<p>5 rows × 107 columns</p>\n</div>"
     },
     "execution_count": 3,
     "metadata": {},
     "output_type": "execute_result"
    }
   ],
   "source": [
    "train_data = pd.read_csv(TRAIN_DATA_PATH)\n",
    "\n",
    "print(train_data.shape)\n",
    "\n",
    "train_data.head()"
   ],
   "metadata": {
    "collapsed": false,
    "pycharm": {
     "name": "#%%\n"
    }
   }
  },
  {
   "cell_type": "code",
   "execution_count": 4,
   "outputs": [
    {
     "data": {
      "text/plain": "0        -0.9762564045989829\n1         2.4317822701676404\n2         1.9569694812476832\n3         1.9569694812476832\n4    -0.00030319601902174576\nName: EL2_score, dtype: object"
     },
     "execution_count": 4,
     "metadata": {},
     "output_type": "execute_result"
    }
   ],
   "source": [
    "train_data[\"EL2_score\"].head()"
   ],
   "metadata": {
    "collapsed": false,
    "pycharm": {
     "name": "#%%\n"
    }
   }
  },
  {
   "cell_type": "code",
   "execution_count": 5,
   "outputs": [],
   "source": [
    "# There are 6 entries having \"None\" value. I convert them to zero.\n",
    "train_data[\"EL2_score\"] = pd.to_numeric(train_data[\"EL2_score\"], errors=\"coerce\")\n",
    "train_data[\"EL2_score\"] = train_data[\"EL2_score\"].replace(np.nan, 0)"
   ],
   "metadata": {
    "collapsed": false,
    "pycharm": {
     "name": "#%%\n"
    }
   }
  },
  {
   "cell_type": "markdown",
   "source": [
    "**calculation #1**"
   ],
   "metadata": {
    "collapsed": false,
    "pycharm": {
     "name": "#%% md\n"
    }
   }
  },
  {
   "cell_type": "code",
   "execution_count": 6,
   "outputs": [
    {
     "data": {
      "text/plain": "0.7059861111111111"
     },
     "execution_count": 6,
     "metadata": {},
     "output_type": "execute_result"
    }
   ],
   "source": [
    "y_true = train_data[\"Mutation_Effect_Label\"]\n",
    "y_scores = train_data[\"EL2_score\"]\n",
    "\n",
    "roc_auc_score(y_true, y_scores)"
   ],
   "metadata": {
    "collapsed": false,
    "pycharm": {
     "name": "#%%\n"
    }
   }
  },
  {
   "cell_type": "markdown",
   "source": [
    "**calculation #2**"
   ],
   "metadata": {
    "collapsed": false,
    "pycharm": {
     "name": "#%% md\n"
    }
   }
  },
  {
   "cell_type": "code",
   "execution_count": 7,
   "outputs": [
    {
     "data": {
      "text/plain": "0.29401388888888885"
     },
     "execution_count": 7,
     "metadata": {},
     "output_type": "execute_result"
    }
   ],
   "source": [
    "# using pos_label=0\n",
    "y = train_data[\"Mutation_Effect_Label\"]\n",
    "pred = train_data[\"EL2_score\"]\n",
    "\n",
    "fpr, tpr, thresholds = metrics.roc_curve(y, pred, pos_label=0)\n",
    "metrics.auc(fpr, tpr)"
   ],
   "metadata": {
    "collapsed": false,
    "pycharm": {
     "name": "#%%\n"
    }
   }
  },
  {
   "cell_type": "markdown",
   "source": [
    "**calculation #3**"
   ],
   "metadata": {
    "collapsed": false,
    "pycharm": {
     "name": "#%% md\n"
    }
   }
  },
  {
   "cell_type": "code",
   "execution_count": 8,
   "outputs": [
    {
     "data": {
      "text/plain": "0.7059861111111111"
     },
     "execution_count": 8,
     "metadata": {},
     "output_type": "execute_result"
    }
   ],
   "source": [
    "# using pos_label=1\n",
    "y = train_data[\"Mutation_Effect_Label\"]\n",
    "pred = train_data[\"EL2_score\"]\n",
    "\n",
    "fpr, tpr, thresholds = metrics.roc_curve(y, pred, pos_label=1)\n",
    "metrics.auc(fpr, tpr)"
   ],
   "metadata": {
    "collapsed": false,
    "pycharm": {
     "name": "#%%\n"
    }
   }
  },
  {
   "cell_type": "code",
   "execution_count": null,
   "outputs": [],
   "source": [],
   "metadata": {
    "collapsed": false,
    "pycharm": {
     "name": "#%%\n"
    }
   }
  },
  {
   "cell_type": "code",
   "execution_count": null,
   "outputs": [],
   "source": [],
   "metadata": {
    "collapsed": false,
    "pycharm": {
     "name": "#%%\n"
    }
   }
  }
 ],
 "metadata": {
  "kernelspec": {
   "name": "predator",
   "language": "python",
   "display_name": "Predator"
  },
  "language_info": {
   "codemirror_mode": {
    "name": "ipython",
    "version": 2
   },
   "file_extension": ".py",
   "mimetype": "text/x-python",
   "name": "python",
   "nbconvert_exporter": "python",
   "pygments_lexer": "ipython2",
   "version": "2.7.6"
  }
 },
 "nbformat": 4,
 "nbformat_minor": 0
}