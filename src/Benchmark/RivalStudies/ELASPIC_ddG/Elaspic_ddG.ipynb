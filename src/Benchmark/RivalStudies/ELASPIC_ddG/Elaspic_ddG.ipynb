{
 "cells": [
  {
   "cell_type": "markdown",
   "metadata": {
    "collapsed": true,
    "pycharm": {
     "name": "#%% md\n"
    }
   },
   "source": [
    "# Elapsic ddG\n",
    "\n",
    "June 19nd, 2022"
   ]
  },
  {
   "cell_type": "code",
   "execution_count": 1,
   "outputs": [],
   "source": [
    "import pandas as pd\n",
    "from utils import(\n",
    "    save_prediction_data,\n",
    "    BaselineDeltaDeltaGClassifier,\n",
    ")\n",
    "\n",
    "TRAIN_DATA_PATH = \"../../common/train_data_with_PDB_features.csv\""
   ],
   "metadata": {
    "collapsed": false,
    "pycharm": {
     "name": "#%%\n"
    }
   }
  },
  {
   "cell_type": "code",
   "execution_count": 2,
   "outputs": [],
   "source": [
    "train_data = pd.read_csv(\n",
    "    TRAIN_DATA_PATH, usecols=[\n",
    "        \"Mutation_Effect_Label\",\n",
    "        \"UniProt_ID\",\n",
    "        \"Mutation\",\n",
    "        \"Interactor_UniProt_ID\",\n",
    "        \"Final_ddG\",\n",
    "        \"Template_cath_id_pdb\",\n",
    "        \"Chain_id\",\n",
    "    ]\n",
    ")"
   ],
   "metadata": {
    "collapsed": false,
    "pycharm": {
     "name": "#%%\n"
    }
   }
  },
  {
   "cell_type": "code",
   "execution_count": 3,
   "outputs": [
    {
     "data": {
      "text/plain": "     Mutation_Effect_Label UniProt_ID Mutation Interactor_UniProt_ID  \\\n0                        1     Q9BPZ3    F118A                P11940   \n1                        1     P01116     Y40C                P50749   \n2                        1     Q96QK1    F534D                Q9UBQ0   \n3                        1     Q96QK1    F534D              Q9UBQ0-2   \n4                        1   O43521-3     G66A                Q07812   \n..                     ...        ...      ...                   ...   \n735                      1     P84243     Q94A              Q9UER7-3   \n736                      1     Q96QK1    L589D                Q9UBQ0   \n737                      1     Q96QK1    L589D              Q9UBQ0-2   \n738                      1     P23297     F72L                P25815   \n739                      1     Q15836     L46P                O43752   \n\n     Final_ddG Template_cath_id_pdb Chain_id  \n0     1.219700                 1jgn        B  \n1     2.076950                 3ddc        A  \n2     2.695710                 2r17        C  \n3     2.695710                 2r17        C  \n4     0.683334                 3fdl        B  \n..         ...                  ...      ...  \n735  -0.387860                 4hga        B  \n736   2.178790                 2r17        C  \n737   2.178790                 2r17        C  \n738   1.742750                 2y5i        A  \n739   2.464990                 2nps        A  \n\n[740 rows x 7 columns]",
      "text/html": "<div>\n<style scoped>\n    .dataframe tbody tr th:only-of-type {\n        vertical-align: middle;\n    }\n\n    .dataframe tbody tr th {\n        vertical-align: top;\n    }\n\n    .dataframe thead th {\n        text-align: right;\n    }\n</style>\n<table border=\"1\" class=\"dataframe\">\n  <thead>\n    <tr style=\"text-align: right;\">\n      <th></th>\n      <th>Mutation_Effect_Label</th>\n      <th>UniProt_ID</th>\n      <th>Mutation</th>\n      <th>Interactor_UniProt_ID</th>\n      <th>Final_ddG</th>\n      <th>Template_cath_id_pdb</th>\n      <th>Chain_id</th>\n    </tr>\n  </thead>\n  <tbody>\n    <tr>\n      <th>0</th>\n      <td>1</td>\n      <td>Q9BPZ3</td>\n      <td>F118A</td>\n      <td>P11940</td>\n      <td>1.219700</td>\n      <td>1jgn</td>\n      <td>B</td>\n    </tr>\n    <tr>\n      <th>1</th>\n      <td>1</td>\n      <td>P01116</td>\n      <td>Y40C</td>\n      <td>P50749</td>\n      <td>2.076950</td>\n      <td>3ddc</td>\n      <td>A</td>\n    </tr>\n    <tr>\n      <th>2</th>\n      <td>1</td>\n      <td>Q96QK1</td>\n      <td>F534D</td>\n      <td>Q9UBQ0</td>\n      <td>2.695710</td>\n      <td>2r17</td>\n      <td>C</td>\n    </tr>\n    <tr>\n      <th>3</th>\n      <td>1</td>\n      <td>Q96QK1</td>\n      <td>F534D</td>\n      <td>Q9UBQ0-2</td>\n      <td>2.695710</td>\n      <td>2r17</td>\n      <td>C</td>\n    </tr>\n    <tr>\n      <th>4</th>\n      <td>1</td>\n      <td>O43521-3</td>\n      <td>G66A</td>\n      <td>Q07812</td>\n      <td>0.683334</td>\n      <td>3fdl</td>\n      <td>B</td>\n    </tr>\n    <tr>\n      <th>...</th>\n      <td>...</td>\n      <td>...</td>\n      <td>...</td>\n      <td>...</td>\n      <td>...</td>\n      <td>...</td>\n      <td>...</td>\n    </tr>\n    <tr>\n      <th>735</th>\n      <td>1</td>\n      <td>P84243</td>\n      <td>Q94A</td>\n      <td>Q9UER7-3</td>\n      <td>-0.387860</td>\n      <td>4hga</td>\n      <td>B</td>\n    </tr>\n    <tr>\n      <th>736</th>\n      <td>1</td>\n      <td>Q96QK1</td>\n      <td>L589D</td>\n      <td>Q9UBQ0</td>\n      <td>2.178790</td>\n      <td>2r17</td>\n      <td>C</td>\n    </tr>\n    <tr>\n      <th>737</th>\n      <td>1</td>\n      <td>Q96QK1</td>\n      <td>L589D</td>\n      <td>Q9UBQ0-2</td>\n      <td>2.178790</td>\n      <td>2r17</td>\n      <td>C</td>\n    </tr>\n    <tr>\n      <th>738</th>\n      <td>1</td>\n      <td>P23297</td>\n      <td>F72L</td>\n      <td>P25815</td>\n      <td>1.742750</td>\n      <td>2y5i</td>\n      <td>A</td>\n    </tr>\n    <tr>\n      <th>739</th>\n      <td>1</td>\n      <td>Q15836</td>\n      <td>L46P</td>\n      <td>O43752</td>\n      <td>2.464990</td>\n      <td>2nps</td>\n      <td>A</td>\n    </tr>\n  </tbody>\n</table>\n<p>740 rows × 7 columns</p>\n</div>"
     },
     "execution_count": 3,
     "metadata": {},
     "output_type": "execute_result"
    }
   ],
   "source": [
    "train_data"
   ],
   "metadata": {
    "collapsed": false,
    "pycharm": {
     "name": "#%%\n"
    }
   }
  },
  {
   "cell_type": "code",
   "execution_count": 4,
   "outputs": [],
   "source": [
    "train_data[\"Elaspic_ddG_Fixed_Prediction\"] = BaselineDeltaDeltaGClassifier().predict(train_data[[\"Final_ddG\"]])"
   ],
   "metadata": {
    "collapsed": false,
    "pycharm": {
     "name": "#%%\n"
    }
   }
  },
  {
   "cell_type": "code",
   "execution_count": 5,
   "outputs": [
    {
     "data": {
      "text/plain": "     Mutation_Effect_Label UniProt_ID Mutation Interactor_UniProt_ID  \\\n0                        1     Q9BPZ3    F118A                P11940   \n1                        1     P01116     Y40C                P50749   \n2                        1     Q96QK1    F534D                Q9UBQ0   \n3                        1     Q96QK1    F534D              Q9UBQ0-2   \n4                        1   O43521-3     G66A                Q07812   \n..                     ...        ...      ...                   ...   \n735                      1     P84243     Q94A              Q9UER7-3   \n736                      1     Q96QK1    L589D                Q9UBQ0   \n737                      1     Q96QK1    L589D              Q9UBQ0-2   \n738                      1     P23297     F72L                P25815   \n739                      1     Q15836     L46P                O43752   \n\n     Final_ddG Template_cath_id_pdb Chain_id  Elaspic_ddG_Fixed_Prediction  \n0     1.219700                 1jgn        B                             1  \n1     2.076950                 3ddc        A                             1  \n2     2.695710                 2r17        C                             1  \n3     2.695710                 2r17        C                             1  \n4     0.683334                 3fdl        B                             1  \n..         ...                  ...      ...                           ...  \n735  -0.387860                 4hga        B                             0  \n736   2.178790                 2r17        C                             1  \n737   2.178790                 2r17        C                             1  \n738   1.742750                 2y5i        A                             1  \n739   2.464990                 2nps        A                             1  \n\n[740 rows x 8 columns]",
      "text/html": "<div>\n<style scoped>\n    .dataframe tbody tr th:only-of-type {\n        vertical-align: middle;\n    }\n\n    .dataframe tbody tr th {\n        vertical-align: top;\n    }\n\n    .dataframe thead th {\n        text-align: right;\n    }\n</style>\n<table border=\"1\" class=\"dataframe\">\n  <thead>\n    <tr style=\"text-align: right;\">\n      <th></th>\n      <th>Mutation_Effect_Label</th>\n      <th>UniProt_ID</th>\n      <th>Mutation</th>\n      <th>Interactor_UniProt_ID</th>\n      <th>Final_ddG</th>\n      <th>Template_cath_id_pdb</th>\n      <th>Chain_id</th>\n      <th>Elaspic_ddG_Fixed_Prediction</th>\n    </tr>\n  </thead>\n  <tbody>\n    <tr>\n      <th>0</th>\n      <td>1</td>\n      <td>Q9BPZ3</td>\n      <td>F118A</td>\n      <td>P11940</td>\n      <td>1.219700</td>\n      <td>1jgn</td>\n      <td>B</td>\n      <td>1</td>\n    </tr>\n    <tr>\n      <th>1</th>\n      <td>1</td>\n      <td>P01116</td>\n      <td>Y40C</td>\n      <td>P50749</td>\n      <td>2.076950</td>\n      <td>3ddc</td>\n      <td>A</td>\n      <td>1</td>\n    </tr>\n    <tr>\n      <th>2</th>\n      <td>1</td>\n      <td>Q96QK1</td>\n      <td>F534D</td>\n      <td>Q9UBQ0</td>\n      <td>2.695710</td>\n      <td>2r17</td>\n      <td>C</td>\n      <td>1</td>\n    </tr>\n    <tr>\n      <th>3</th>\n      <td>1</td>\n      <td>Q96QK1</td>\n      <td>F534D</td>\n      <td>Q9UBQ0-2</td>\n      <td>2.695710</td>\n      <td>2r17</td>\n      <td>C</td>\n      <td>1</td>\n    </tr>\n    <tr>\n      <th>4</th>\n      <td>1</td>\n      <td>O43521-3</td>\n      <td>G66A</td>\n      <td>Q07812</td>\n      <td>0.683334</td>\n      <td>3fdl</td>\n      <td>B</td>\n      <td>1</td>\n    </tr>\n    <tr>\n      <th>...</th>\n      <td>...</td>\n      <td>...</td>\n      <td>...</td>\n      <td>...</td>\n      <td>...</td>\n      <td>...</td>\n      <td>...</td>\n      <td>...</td>\n    </tr>\n    <tr>\n      <th>735</th>\n      <td>1</td>\n      <td>P84243</td>\n      <td>Q94A</td>\n      <td>Q9UER7-3</td>\n      <td>-0.387860</td>\n      <td>4hga</td>\n      <td>B</td>\n      <td>0</td>\n    </tr>\n    <tr>\n      <th>736</th>\n      <td>1</td>\n      <td>Q96QK1</td>\n      <td>L589D</td>\n      <td>Q9UBQ0</td>\n      <td>2.178790</td>\n      <td>2r17</td>\n      <td>C</td>\n      <td>1</td>\n    </tr>\n    <tr>\n      <th>737</th>\n      <td>1</td>\n      <td>Q96QK1</td>\n      <td>L589D</td>\n      <td>Q9UBQ0-2</td>\n      <td>2.178790</td>\n      <td>2r17</td>\n      <td>C</td>\n      <td>1</td>\n    </tr>\n    <tr>\n      <th>738</th>\n      <td>1</td>\n      <td>P23297</td>\n      <td>F72L</td>\n      <td>P25815</td>\n      <td>1.742750</td>\n      <td>2y5i</td>\n      <td>A</td>\n      <td>1</td>\n    </tr>\n    <tr>\n      <th>739</th>\n      <td>1</td>\n      <td>Q15836</td>\n      <td>L46P</td>\n      <td>O43752</td>\n      <td>2.464990</td>\n      <td>2nps</td>\n      <td>A</td>\n      <td>1</td>\n    </tr>\n  </tbody>\n</table>\n<p>740 rows × 8 columns</p>\n</div>"
     },
     "execution_count": 5,
     "metadata": {},
     "output_type": "execute_result"
    }
   ],
   "source": [
    "train_data"
   ],
   "metadata": {
    "collapsed": false,
    "pycharm": {
     "name": "#%%\n"
    }
   }
  },
  {
   "cell_type": "code",
   "execution_count": 6,
   "outputs": [
    {
     "name": "stdout",
     "output_type": "stream",
     "text": [
      "1    663\n",
      "0     77\n",
      "Name: Elaspic_ddG_Fixed_Prediction, dtype: int64\n"
     ]
    },
    {
     "data": {
      "text/plain": "<Figure size 432x288 with 1 Axes>",
      "image/png": "[encoded data removed]"
     },
     "metadata": {
      "needs_background": "light"
     },
     "output_type": "display_data"
    }
   ],
   "source": [
    "print(train_data[\"Elaspic_ddG_Fixed_Prediction\"].value_counts())\n",
    "train_data[\"Elaspic_ddG_Fixed_Prediction\"].value_counts().plot(kind=\"bar\");"
   ],
   "metadata": {
    "collapsed": false,
    "pycharm": {
     "name": "#%%\n"
    }
   }
  },
  {
   "cell_type": "code",
   "execution_count": 7,
   "outputs": [
    {
     "name": "stdout",
     "output_type": "stream",
     "text": [
      "Prediction data `.\\ELASPIC_ddG_Fixed_Predictions_2022-06-19.csv`is exported.\n"
     ]
    }
   ],
   "source": [
    "save_prediction_data(\n",
    "    benchmark_dir=\".\",\n",
    "    prediction_file_name=\"ELASPIC_ddG_Fixed_Predictions\",\n",
    "    prediction_data=train_data,\n",
    ")"
   ],
   "metadata": {
    "collapsed": false,
    "pycharm": {
     "name": "#%%\n"
    }
   }
  },
  {
   "cell_type": "code",
   "execution_count": null,
   "outputs": [],
   "source": [],
   "metadata": {
    "collapsed": false,
    "pycharm": {
     "name": "#%%\n"
    }
   }
  }
 ],
 "metadata": {
  "kernelspec": {
   "display_name": "Python 3",
   "language": "python",
   "name": "python3"
  },
  "language_info": {
   "codemirror_mode": {
    "name": "ipython",
    "version": 2
   },
   "file_extension": ".py",
   "mimetype": "text/x-python",
   "name": "python",
   "nbconvert_exporter": "python",
   "pygments_lexer": "ipython2",
   "version": "2.7.6"
  }
 },
 "nbformat": 4,
 "nbformat_minor": 0
}