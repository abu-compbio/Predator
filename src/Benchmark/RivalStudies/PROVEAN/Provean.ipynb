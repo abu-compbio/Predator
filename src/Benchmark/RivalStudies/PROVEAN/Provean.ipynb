{
 "cells": [
  {
   "cell_type": "markdown",
   "metadata": {
    "collapsed": true,
    "pycharm": {
     "name": "#%% md\n"
    }
   },
   "source": [
    "# Provean\n",
    "\n",
    "June 19th, 2022"
   ]
  },
  {
   "cell_type": "code",
   "execution_count": 1,
   "outputs": [],
   "source": [
    "import pandas as pd\n",
    "from utils import(\n",
    "    save_prediction_data,\n",
    "    BaselineProveanClassifier,\n",
    ")\n",
    "\n",
    "TRAIN_DATA_PATH = \"../../common/train_data_with_PDB_features.csv\""
   ],
   "metadata": {
    "collapsed": false,
    "pycharm": {
     "name": "#%%\n"
    }
   }
  },
  {
   "cell_type": "code",
   "execution_count": 2,
   "outputs": [],
   "source": [
    "train_data = pd.read_csv(\n",
    "    TRAIN_DATA_PATH, usecols=[\n",
    "        \"Mutation_Effect_Label\",\n",
    "        \"UniProt_ID\",\n",
    "        \"Mutation\",\n",
    "        \"Interactor_UniProt_ID\",\n",
    "        \"Provean_score\",\n",
    "        \"Template_cath_id_pdb\",\n",
    "        \"Chain_id\",\n",
    "    ]\n",
    ")"
   ],
   "metadata": {
    "collapsed": false,
    "pycharm": {
     "name": "#%%\n"
    }
   }
  },
  {
   "cell_type": "code",
   "execution_count": 3,
   "outputs": [
    {
     "data": {
      "text/plain": "     Mutation_Effect_Label UniProt_ID Mutation Interactor_UniProt_ID  \\\n0                        1     Q9BPZ3    F118A                P11940   \n1                        1     P01116     Y40C                P50749   \n2                        1     Q96QK1    F534D                Q9UBQ0   \n3                        1     Q96QK1    F534D              Q9UBQ0-2   \n4                        1   O43521-3     G66A                Q07812   \n..                     ...        ...      ...                   ...   \n735                      1     P84243     Q94A              Q9UER7-3   \n736                      1     Q96QK1    L589D                Q9UBQ0   \n737                      1     Q96QK1    L589D              Q9UBQ0-2   \n738                      1     P23297     F72L                P25815   \n739                      1     Q15836     L46P                O43752   \n\n     Provean_score Template_cath_id_pdb Chain_id  \n0           -5.895                 1jgn        B  \n1           -8.175                 3ddc        A  \n2           -7.553                 2r17        C  \n3           -7.553                 2r17        C  \n4           -4.158                 3fdl        B  \n..             ...                  ...      ...  \n735         -5.785                 4hga        B  \n736         -6.559                 2r17        C  \n737         -6.559                 2r17        C  \n738         -5.860                 2y5i        A  \n739         -6.995                 2nps        A  \n\n[740 rows x 7 columns]",
      "text/html": "<div>\n<style scoped>\n    .dataframe tbody tr th:only-of-type {\n        vertical-align: middle;\n    }\n\n    .dataframe tbody tr th {\n        vertical-align: top;\n    }\n\n    .dataframe thead th {\n        text-align: right;\n    }\n</style>\n<table border=\"1\" class=\"dataframe\">\n  <thead>\n    <tr style=\"text-align: right;\">\n      <th></th>\n      <th>Mutation_Effect_Label</th>\n      <th>UniProt_ID</th>\n      <th>Mutation</th>\n      <th>Interactor_UniProt_ID</th>\n      <th>Provean_score</th>\n      <th>Template_cath_id_pdb</th>\n      <th>Chain_id</th>\n    </tr>\n  </thead>\n  <tbody>\n    <tr>\n      <th>0</th>\n      <td>1</td>\n      <td>Q9BPZ3</td>\n      <td>F118A</td>\n      <td>P11940</td>\n      <td>-5.895</td>\n      <td>1jgn</td>\n      <td>B</td>\n    </tr>\n    <tr>\n      <th>1</th>\n      <td>1</td>\n      <td>P01116</td>\n      <td>Y40C</td>\n      <td>P50749</td>\n      <td>-8.175</td>\n      <td>3ddc</td>\n      <td>A</td>\n    </tr>\n    <tr>\n      <th>2</th>\n      <td>1</td>\n      <td>Q96QK1</td>\n      <td>F534D</td>\n      <td>Q9UBQ0</td>\n      <td>-7.553</td>\n      <td>2r17</td>\n      <td>C</td>\n    </tr>\n    <tr>\n      <th>3</th>\n      <td>1</td>\n      <td>Q96QK1</td>\n      <td>F534D</td>\n      <td>Q9UBQ0-2</td>\n      <td>-7.553</td>\n      <td>2r17</td>\n      <td>C</td>\n    </tr>\n    <tr>\n      <th>4</th>\n      <td>1</td>\n      <td>O43521-3</td>\n      <td>G66A</td>\n      <td>Q07812</td>\n      <td>-4.158</td>\n      <td>3fdl</td>\n      <td>B</td>\n    </tr>\n    <tr>\n      <th>...</th>\n      <td>...</td>\n      <td>...</td>\n      <td>...</td>\n      <td>...</td>\n      <td>...</td>\n      <td>...</td>\n      <td>...</td>\n    </tr>\n    <tr>\n      <th>735</th>\n      <td>1</td>\n      <td>P84243</td>\n      <td>Q94A</td>\n      <td>Q9UER7-3</td>\n      <td>-5.785</td>\n      <td>4hga</td>\n      <td>B</td>\n    </tr>\n    <tr>\n      <th>736</th>\n      <td>1</td>\n      <td>Q96QK1</td>\n      <td>L589D</td>\n      <td>Q9UBQ0</td>\n      <td>-6.559</td>\n      <td>2r17</td>\n      <td>C</td>\n    </tr>\n    <tr>\n      <th>737</th>\n      <td>1</td>\n      <td>Q96QK1</td>\n      <td>L589D</td>\n      <td>Q9UBQ0-2</td>\n      <td>-6.559</td>\n      <td>2r17</td>\n      <td>C</td>\n    </tr>\n    <tr>\n      <th>738</th>\n      <td>1</td>\n      <td>P23297</td>\n      <td>F72L</td>\n      <td>P25815</td>\n      <td>-5.860</td>\n      <td>2y5i</td>\n      <td>A</td>\n    </tr>\n    <tr>\n      <th>739</th>\n      <td>1</td>\n      <td>Q15836</td>\n      <td>L46P</td>\n      <td>O43752</td>\n      <td>-6.995</td>\n      <td>2nps</td>\n      <td>A</td>\n    </tr>\n  </tbody>\n</table>\n<p>740 rows × 7 columns</p>\n</div>"
     },
     "execution_count": 3,
     "metadata": {},
     "output_type": "execute_result"
    }
   ],
   "source": [
    "train_data"
   ],
   "metadata": {
    "collapsed": false,
    "pycharm": {
     "name": "#%%\n"
    }
   }
  },
  {
   "cell_type": "code",
   "execution_count": 4,
   "outputs": [],
   "source": [
    "train_data[\"Provean_Fixed_Prediction\"] = BaselineProveanClassifier().predict(train_data[[\"Provean_score\"]])"
   ],
   "metadata": {
    "collapsed": false,
    "pycharm": {
     "name": "#%%\n"
    }
   }
  },
  {
   "cell_type": "code",
   "execution_count": 5,
   "outputs": [
    {
     "data": {
      "text/plain": "     Mutation_Effect_Label UniProt_ID Mutation Interactor_UniProt_ID  \\\n0                        1     Q9BPZ3    F118A                P11940   \n1                        1     P01116     Y40C                P50749   \n2                        1     Q96QK1    F534D                Q9UBQ0   \n3                        1     Q96QK1    F534D              Q9UBQ0-2   \n4                        1   O43521-3     G66A                Q07812   \n..                     ...        ...      ...                   ...   \n735                      1     P84243     Q94A              Q9UER7-3   \n736                      1     Q96QK1    L589D                Q9UBQ0   \n737                      1     Q96QK1    L589D              Q9UBQ0-2   \n738                      1     P23297     F72L                P25815   \n739                      1     Q15836     L46P                O43752   \n\n     Provean_score Template_cath_id_pdb Chain_id  Provean_Fixed_Prediction  \n0           -5.895                 1jgn        B                         1  \n1           -8.175                 3ddc        A                         1  \n2           -7.553                 2r17        C                         1  \n3           -7.553                 2r17        C                         1  \n4           -4.158                 3fdl        B                         1  \n..             ...                  ...      ...                       ...  \n735         -5.785                 4hga        B                         1  \n736         -6.559                 2r17        C                         1  \n737         -6.559                 2r17        C                         1  \n738         -5.860                 2y5i        A                         1  \n739         -6.995                 2nps        A                         1  \n\n[740 rows x 8 columns]",
      "text/html": "<div>\n<style scoped>\n    .dataframe tbody tr th:only-of-type {\n        vertical-align: middle;\n    }\n\n    .dataframe tbody tr th {\n        vertical-align: top;\n    }\n\n    .dataframe thead th {\n        text-align: right;\n    }\n</style>\n<table border=\"1\" class=\"dataframe\">\n  <thead>\n    <tr style=\"text-align: right;\">\n      <th></th>\n      <th>Mutation_Effect_Label</th>\n      <th>UniProt_ID</th>\n      <th>Mutation</th>\n      <th>Interactor_UniProt_ID</th>\n      <th>Provean_score</th>\n      <th>Template_cath_id_pdb</th>\n      <th>Chain_id</th>\n      <th>Provean_Fixed_Prediction</th>\n    </tr>\n  </thead>\n  <tbody>\n    <tr>\n      <th>0</th>\n      <td>1</td>\n      <td>Q9BPZ3</td>\n      <td>F118A</td>\n      <td>P11940</td>\n      <td>-5.895</td>\n      <td>1jgn</td>\n      <td>B</td>\n      <td>1</td>\n    </tr>\n    <tr>\n      <th>1</th>\n      <td>1</td>\n      <td>P01116</td>\n      <td>Y40C</td>\n      <td>P50749</td>\n      <td>-8.175</td>\n      <td>3ddc</td>\n      <td>A</td>\n      <td>1</td>\n    </tr>\n    <tr>\n      <th>2</th>\n      <td>1</td>\n      <td>Q96QK1</td>\n      <td>F534D</td>\n      <td>Q9UBQ0</td>\n      <td>-7.553</td>\n      <td>2r17</td>\n      <td>C</td>\n      <td>1</td>\n    </tr>\n    <tr>\n      <th>3</th>\n      <td>1</td>\n      <td>Q96QK1</td>\n      <td>F534D</td>\n      <td>Q9UBQ0-2</td>\n      <td>-7.553</td>\n      <td>2r17</td>\n      <td>C</td>\n      <td>1</td>\n    </tr>\n    <tr>\n      <th>4</th>\n      <td>1</td>\n      <td>O43521-3</td>\n      <td>G66A</td>\n      <td>Q07812</td>\n      <td>-4.158</td>\n      <td>3fdl</td>\n      <td>B</td>\n      <td>1</td>\n    </tr>\n    <tr>\n      <th>...</th>\n      <td>...</td>\n      <td>...</td>\n      <td>...</td>\n      <td>...</td>\n      <td>...</td>\n      <td>...</td>\n      <td>...</td>\n      <td>...</td>\n    </tr>\n    <tr>\n      <th>735</th>\n      <td>1</td>\n      <td>P84243</td>\n      <td>Q94A</td>\n      <td>Q9UER7-3</td>\n      <td>-5.785</td>\n      <td>4hga</td>\n      <td>B</td>\n      <td>1</td>\n    </tr>\n    <tr>\n      <th>736</th>\n      <td>1</td>\n      <td>Q96QK1</td>\n      <td>L589D</td>\n      <td>Q9UBQ0</td>\n      <td>-6.559</td>\n      <td>2r17</td>\n      <td>C</td>\n      <td>1</td>\n    </tr>\n    <tr>\n      <th>737</th>\n      <td>1</td>\n      <td>Q96QK1</td>\n      <td>L589D</td>\n      <td>Q9UBQ0-2</td>\n      <td>-6.559</td>\n      <td>2r17</td>\n      <td>C</td>\n      <td>1</td>\n    </tr>\n    <tr>\n      <th>738</th>\n      <td>1</td>\n      <td>P23297</td>\n      <td>F72L</td>\n      <td>P25815</td>\n      <td>-5.860</td>\n      <td>2y5i</td>\n      <td>A</td>\n      <td>1</td>\n    </tr>\n    <tr>\n      <th>739</th>\n      <td>1</td>\n      <td>Q15836</td>\n      <td>L46P</td>\n      <td>O43752</td>\n      <td>-6.995</td>\n      <td>2nps</td>\n      <td>A</td>\n      <td>1</td>\n    </tr>\n  </tbody>\n</table>\n<p>740 rows × 8 columns</p>\n</div>"
     },
     "execution_count": 5,
     "metadata": {},
     "output_type": "execute_result"
    }
   ],
   "source": [
    "train_data"
   ],
   "metadata": {
    "collapsed": false,
    "pycharm": {
     "name": "#%%\n"
    }
   }
  },
  {
   "cell_type": "code",
   "execution_count": 6,
   "outputs": [
    {
     "name": "stdout",
     "output_type": "stream",
     "text": [
      "1    647\n",
      "0     93\n",
      "Name: Provean_Fixed_Prediction, dtype: int64\n"
     ]
    },
    {
     "data": {
      "text/plain": "<Figure size 432x288 with 1 Axes>",
      "image/png": "[encoded data removed]"
     },
     "metadata": {
      "needs_background": "light"
     },
     "output_type": "display_data"
    }
   ],
   "source": [
    "print(train_data[\"Provean_Fixed_Prediction\"].value_counts())\n",
    "train_data[\"Provean_Fixed_Prediction\"].value_counts().plot(kind=\"bar\");"
   ],
   "metadata": {
    "collapsed": false,
    "pycharm": {
     "name": "#%%\n"
    }
   }
  },
  {
   "cell_type": "code",
   "execution_count": 7,
   "outputs": [
    {
     "name": "stdout",
     "output_type": "stream",
     "text": [
      "Prediction data `.\\Provean_Fixed_Predictions_2022-06-19.csv`is exported.\n"
     ]
    }
   ],
   "source": [
    "save_prediction_data(\n",
    "    benchmark_dir=\".\",\n",
    "    prediction_file_name=\"Provean_Fixed_Predictions\",\n",
    "    prediction_data=train_data,\n",
    ")"
   ],
   "metadata": {
    "collapsed": false,
    "pycharm": {
     "name": "#%%\n"
    }
   }
  },
  {
   "cell_type": "code",
   "execution_count": null,
   "outputs": [],
   "source": [],
   "metadata": {
    "collapsed": false,
    "pycharm": {
     "name": "#%%\n"
    }
   }
  },
  {
   "cell_type": "code",
   "execution_count": null,
   "outputs": [],
   "source": [],
   "metadata": {
    "collapsed": false,
    "pycharm": {
     "name": "#%%\n"
    }
   }
  }
 ],
 "metadata": {
  "kernelspec": {
   "display_name": "Python 3",
   "language": "python",
   "name": "python3"
  },
  "language_info": {
   "codemirror_mode": {
    "name": "ipython",
    "version": 2
   },
   "file_extension": ".py",
   "mimetype": "text/x-python",
   "name": "python",
   "nbconvert_exporter": "python",
   "pygments_lexer": "ipython2",
   "version": "2.7.6"
  }
 },
 "nbformat": 4,
 "nbformat_minor": 0
}