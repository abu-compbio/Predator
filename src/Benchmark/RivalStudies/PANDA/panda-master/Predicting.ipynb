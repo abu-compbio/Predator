{
 "cells": [
  {
   "cell_type": "markdown",
   "metadata": {
    "pycharm": {
     "name": "#%% md\n"
    }
   },
   "source": [
    "# Panda Study "
   ]
  },
  {
   "cell_type": "code",
   "execution_count": 1,
   "metadata": {
    "collapsed": false,
    "pycharm": {
     "name": "#%%\n"
    }
   },
   "outputs": [],
   "source": [
    "import sys\n",
    "sys.path.insert(0, \"../../../../../src\")"
   ]
  },
  {
   "cell_type": "code",
   "execution_count": null,
   "outputs": [],
   "source": [
    "from utils import (\n",
    "    download_protein_sequence,\n",
    "    read_train_data,\n",
    "    save_prediction_data,\n",
    "    test_mutate_sequence\n",
    ")\n",
    "\n",
    "from matplotlib import pyplot as plt\n",
    "\n",
    "from helpers.labels import ClassLabels\n",
    "\n",
    "from panda import *\n",
    "\n",
    "TRAIN_DATA_PATH = \"../../../common/train_data_with_PDB.csv\"\n",
    "SEQUENCE_FILES_DIR = \"sequence_files\"\n",
    "\n",
    "# Reflect changes in the modules immediately.\n",
    "%load_ext autoreload\n",
    "%autoreload 2"
   ],
   "metadata": {
    "collapsed": false,
    "pycharm": {
     "name": "#%%\n"
    }
   }
  },
  {
   "cell_type": "code",
   "execution_count": null,
   "outputs": [],
   "source": [
    "def predict_panda(WT_seq1, WT_seq2, M_seq1, M_seq2):\n",
    "    \n",
    "    affinity_change = predict_affinity(WT_seq1, WT_seq2, M_seq1, M_seq2)\n",
    "    \n",
    "    print(\"The predicted Change in binding affinity is:\" + str(affinity_change[0]) + \" kcal/mol\")\n",
    "\n",
    "    if affinity_change[0] < 0:\n",
    "        return \"decreasing_affinity\"\n",
    "        \n",
    "    elif affinity_change[0] > 0:\n",
    "        return \"increasing_affinity\"\n",
    "        \n",
    "    else:\n",
    "        return \"no_change_affinity\""
   ],
   "metadata": {
    "collapsed": false,
    "pycharm": {
     "name": "#%%\n"
    }
   }
  },
  {
   "cell_type": "markdown",
   "source": [
    "### Read the train data"
   ],
   "metadata": {
    "collapsed": false,
    "pycharm": {
     "name": "#%% md\n"
    }
   }
  },
  {
   "cell_type": "code",
   "execution_count": null,
   "outputs": [],
   "source": [
    "train_data = read_train_data(TRAIN_DATA_PATH)\n",
    "\n",
    "print(\"The size of the data is {}\".format(train_data.shape))\n",
    "\n",
    "train_data.head()"
   ],
   "metadata": {
    "collapsed": false,
    "pycharm": {
     "name": "#%%\n"
    }
   }
  },
  {
   "cell_type": "markdown",
   "source": [
    "### Testing Panda with sample input"
   ],
   "metadata": {
    "collapsed": false,
    "pycharm": {
     "name": "#%% md\n"
    }
   }
  },
  {
   "cell_type": "code",
   "execution_count": null,
   "outputs": [],
   "source": [
    "def test_with_sample_input():\n",
    "    protein = \"Q9BPZ3\"\n",
    "    mutation = \"F118A\"\n",
    "    interactor = \"P11940\"\n",
    "    \n",
    "    protein_1_sequence = download_protein_sequence(protein=protein, output_dir=SEQUENCE_FILES_DIR)\n",
    "    protein_1_sequence_mutated = download_protein_sequence(protein=protein, output_dir=SEQUENCE_FILES_DIR, mutation=mutation)\n",
    "    protein_2_sequence = download_protein_sequence(protein=interactor, output_dir=SEQUENCE_FILES_DIR)\n",
    "    \n",
    "    \n",
    "    test_mutate_sequence(protein_1_sequence, protein_1_sequence_mutated, mutation)\n",
    "    \n",
    "        # run predict_panda with protein_1_sequence, protein_1_sequence_mutated, protein_2_sequence, use keyword args\n",
    "    ddG_prediction = predict_panda(\n",
    "        WT_seq1=protein_1_sequence, \n",
    "        WT_seq2=protein_2_sequence, \n",
    "        M_seq1=protein_1_sequence_mutated, \n",
    "        M_seq2=protein_2_sequence\n",
    "    )\n",
    "\n",
    "    print(\"ddG_prediction:\", ddG_prediction)\n",
    "    "
   ],
   "metadata": {
    "collapsed": false,
    "pycharm": {
     "name": "#%%\n"
    }
   }
  },
  {
   "cell_type": "code",
   "execution_count": null,
   "outputs": [],
   "source": [
    "test_with_sample_input() "
   ],
   "metadata": {
    "collapsed": false,
    "pycharm": {
     "name": "#%%\n"
    }
   }
  },
  {
   "cell_type": "markdown",
   "source": [
    "## Predicting with `Panda`"
   ],
   "metadata": {
    "collapsed": false,
    "pycharm": {
     "name": "#%% md\n"
    }
   }
  },
  {
   "cell_type": "code",
   "execution_count": null,
   "outputs": [],
   "source": [
    "def run_panda_method(data):\n",
    "    \n",
    "    y_predict = []\n",
    "    y_actual = []\n",
    "    \n",
    "    output_label_mapping = {\n",
    "        \"decreasing_affinity\": ClassLabels.DISRUPTING,\n",
    "        \"increasing_affinity\": ClassLabels.NONDISRUPTING,\n",
    "        \"no_change_affinity\": ClassLabels.NONDISRUPTING,\n",
    "    }\n",
    "\n",
    "    counts = {\n",
    "        \"errors\": 0,\n",
    "        \"true_predictions\": 0,\n",
    "        \"false_predictions\": 0,\n",
    "    }\n",
    "    \n",
    "    for index, row in data.iterrows():\n",
    "        \n",
    "        print(\" Processing row {} of {} \".format(index, train_data.shape[0]).center(100, \"-\"))\n",
    "        \n",
    "        protein = row[\"UniProt_ID\"]\n",
    "        mutation = row[\"Mutation\"]\n",
    "        interactor = row[\"Interactor_UniProt_ID\"]\n",
    "        actual_class_label = row[\"Mutation_Effect_Label\"]\n",
    "        \n",
    "        protein_sequence = download_protein_sequence(protein=protein, output_dir=SEQUENCE_FILES_DIR)\n",
    "        protein_sequence_mutated = download_protein_sequence(protein=protein, output_dir=SEQUENCE_FILES_DIR, mutation=mutation)\n",
    "        interactor_sequence = download_protein_sequence(protein=interactor, output_dir=SEQUENCE_FILES_DIR)\n",
    "\n",
    "        output = predict_panda(\n",
    "            WT_seq1=protein_sequence,\n",
    "            WT_seq2=interactor_sequence,\n",
    "            M_seq1=protein_sequence_mutated,\n",
    "            M_seq2=interactor_sequence,\n",
    "        )\n",
    "        \n",
    "        output_class_label = output_label_mapping[output]\n",
    "        \n",
    "        y_predict.append(output_class_label)\n",
    "        y_actual.append(actual_class_label)\n",
    "    \n",
    "        if output_class_label == actual_class_label:\n",
    "            print(\"\\033[92mPredicted: {} ({}) Actual: {} \\033[00m\".format(output, output_class_label, actual_class_label))\n",
    "            counts[\"true_predictions\"] += 1\n",
    "                \n",
    "        else:\n",
    "            print(\"\\033[91mPredicted: {} ({}) Actual: {} \\033[00m\".format(output, output_class_label, actual_class_label))\n",
    "            counts[\"false_predictions\"] += 1\n",
    "            \n",
    "    \n",
    "    # print(f\"Predicted: {output} ({output_class_label}) Actual: {actual_class_label}\")\n",
    "    \n",
    "    # plot the distribution of the counts in dictionary \"counts\"\n",
    "    plt.title(\"Prediction Results\")\n",
    "    plt.bar(range(len(counts)), list(counts.values()), align=\"center\")\n",
    "    plt.xticks(range(len(counts)), list(counts.keys()))\n",
    "    plt.show()\n",
    "    \n",
    "    return y_predict, y_actual\n",
    " "
   ],
   "metadata": {
    "collapsed": false,
    "pycharm": {
     "name": "#%%\n"
    }
   }
  },
  {
   "cell_type": "markdown",
   "source": [
    "### Run PANDA with train data"
   ],
   "metadata": {
    "collapsed": false,
    "pycharm": {
     "name": "#%% md\n"
    }
   }
  },
  {
   "cell_type": "code",
   "execution_count": null,
   "outputs": [],
   "source": [
    "# run\n",
    "predicted_labels, actual_labels = run_panda_method(train_data)"
   ],
   "metadata": {
    "collapsed": false,
    "pycharm": {
     "name": "#%%\n"
    }
   }
  },
  {
   "cell_type": "markdown",
   "source": [
    "### Add predictions to the train data"
   ],
   "metadata": {
    "collapsed": false,
    "pycharm": {
     "name": "#%% md\n"
    }
   }
  },
  {
   "cell_type": "code",
   "execution_count": null,
   "outputs": [],
   "source": [
    "train_data_predictions = train_data.copy()\n",
    "train_data_predictions[\"PANDA_Predictions\"] = predicted_labels\n",
    "assert train_data_predictions[\"Mutation_Effect_Label\"].tolist() == actual_labels"
   ],
   "metadata": {
    "collapsed": false,
    "pycharm": {
     "name": "#%%\n"
    }
   }
  },
  {
   "cell_type": "code",
   "execution_count": null,
   "outputs": [],
   "source": [
    "save_prediction_data(\".\", \"train_data_with_PANDA_prediction\", prediction_data=train_data_predictions)"
   ],
   "metadata": {
    "collapsed": false,
    "pycharm": {
     "name": "#%%\n"
    }
   }
  },
  {
   "cell_type": "code",
   "execution_count": 12,
   "metadata": {
    "pycharm": {
     "name": "#%%\n"
    }
   },
   "outputs": [
    {
     "data": {
      "text/plain": [
       "-0.06571407088565617"
      ]
     },
     "execution_count": 12,
     "metadata": {},
     "output_type": "execute_result"
    }
   ],
   "source": [
    "matthews_corrcoef(actual_labels, predicted_labels)"
   ]
  },
  {
   "cell_type": "code",
   "execution_count": 13,
   "metadata": {
    "pycharm": {
     "name": "#%%\n"
    }
   },
   "outputs": [],
   "source": [
    "# the end."
   ]
  },
  {
   "cell_type": "markdown",
   "metadata": {
    "pycharm": {
     "name": "#%% md\n"
    }
   },
   "source": [
    "# ******************"
   ]
  },
  {
   "cell_type": "code",
   "execution_count": null,
   "metadata": {
    "pycharm": {
     "name": "#%%\n"
    }
   },
   "outputs": [],
   "source": [
    "# ignore the rest of the notebook."
   ]
  },
  {
   "cell_type": "code",
   "execution_count": 14,
   "metadata": {
    "pycharm": {
     "name": "#%%\n"
    }
   },
   "outputs": [
    {
     "data": {
      "text/plain": [
       "SVR(C=10.0, cache_size=200, coef0=0.0, degree=3, epsilon=0.2, gamma=0.5,\n",
       "  kernel='rbf', max_iter=-1, shrinking=True, tol=0.001, verbose=False)"
      ]
     },
     "execution_count": 14,
     "metadata": {},
     "output_type": "execute_result"
    }
   ],
   "source": [
    "sk_joblib.load('trained_model_affinity_change_2mer_full.pkl')"
   ]
  },
  {
   "cell_type": "code",
   "execution_count": null,
   "metadata": {
    "pycharm": {
     "name": "#%%\n"
    }
   },
   "outputs": [],
   "source": []
  },
  {
   "cell_type": "code",
   "execution_count": null,
   "metadata": {
    "pycharm": {
     "name": "#%%\n"
    }
   },
   "outputs": [],
   "source": []
  },
  {
   "cell_type": "code",
   "execution_count": 43,
   "metadata": {
    "pycharm": {
     "name": "#%%\n"
    }
   },
   "outputs": [
    {
     "data": {
      "text/plain": [
       "<matplotlib.axes._subplots.AxesSubplot at 0x172afd22a20>"
      ]
     },
     "execution_count": 43,
     "metadata": {},
     "output_type": "execute_result"
    },
    {
     "data": {
      "image/png": "[encoded data removed]",
      "text/plain": [
       "<Figure size 432x288 with 2 Axes>"
      ]
     },
     "metadata": {
      "needs_background": "light"
     },
     "output_type": "display_data"
    }
   ],
   "source": [
    "# plot confusion matrix using seaborn library\n",
    "from sklearn.metrics import confusion_matrix\n",
    "import seaborn as sns\n",
    "\n",
    "\n",
    "sns.heatmap(confusion_matrix(actual_labels, predicted_labels), annot=True, fmt=\"d\")"
   ]
  },
  {
   "cell_type": "code",
   "execution_count": 45,
   "metadata": {
    "pycharm": {
     "name": "#%%\n"
    }
   },
   "outputs": [],
   "source": [
    "# # import plot_confusion_matrix from sklearn.metrics\n",
    "# from sklearn.metrics import plot_confusion_matrix\n",
    "\n",
    "# plot_confusion_matrix(actual_labels, predicted_labels, classes=[\"decreasing_affinity\", \"increasing_affinity\"])"
   ]
  },
  {
   "cell_type": "code",
   "execution_count": 46,
   "metadata": {
    "pycharm": {
     "name": "#%%\n"
    }
   },
   "outputs": [
    {
     "data": {
      "image/png": "[encoded data removed]",
      "text/plain": [
       "<Figure size 432x288 with 2 Axes>"
      ]
     },
     "metadata": {
      "needs_background": "light"
     },
     "output_type": "display_data"
    }
   ],
   "source": [
    "import seaborn as sns\n",
    "import matplotlib.pyplot as plt     \n",
    "\n",
    "ax= plt.subplot()\n",
    "\n",
    "cm = confusion_matrix(actual_labels, predicted_labels)\n",
    "\n",
    "sns.heatmap(cm, annot=True, fmt='g', ax=ax);  #annot=True to annotate cells, ftm='g' to disable scientific notation\n",
    "\n",
    "# labels, title and ticks\n",
    "ax.set_xlabel('Predicted labels');ax.set_ylabel('True labels'); \n",
    "ax.set_title('Confusion Matrix'); \n",
    "# ax.xaxis.set_ticklabels(['business', 'health']); \n",
    "# ax.yaxis.set_ticklabels(['health', 'business']);"
   ]
  },
  {
   "cell_type": "code",
   "execution_count": 32,
   "metadata": {
    "pycharm": {
     "name": "#%%\n"
    }
   },
   "outputs": [
    {
     "data": {
      "text/plain": [
       "0.6743243243243243"
      ]
     },
     "execution_count": 32,
     "metadata": {},
     "output_type": "execute_result"
    }
   ],
   "source": [
    "(488 + 11) / (740)"
   ]
  },
  {
   "cell_type": "code",
   "execution_count": 47,
   "metadata": {
    "pycharm": {
     "name": "#%%\n"
    }
   },
   "outputs": [
    {
     "name": "stdout",
     "output_type": "stream",
     "text": [
      "              precision    recall  f1-score   support\n",
      "\n",
      "           0       0.72      0.90      0.80       540\n",
      "           1       0.17      0.06      0.08       200\n",
      "\n",
      "   micro avg       0.67      0.67      0.67       740\n",
      "   macro avg       0.45      0.48      0.44       740\n",
      "weighted avg       0.57      0.67      0.61       740\n",
      "\n",
      "Accuracy: 0.6743243243243243\n",
      "Balanced Accuracy: 0.47935185185185186\n",
      "F1 Score: 0.08365019011406845\n",
      "Precision Score: 0.1746031746031746\n",
      "Recall Score: 0.055\n"
     ]
    }
   ],
   "source": [
    "# assess the performance of the model using predicted_labels and actual_labels\n",
    "from sklearn.metrics import (\n",
    "    classification_report,\n",
    "    accuracy_score,\n",
    "    balanced_accuracy_score,\n",
    "    f1_score,\n",
    "    precision_score,\n",
    "    recall_score,\n",
    ")\n",
    "\n",
    "# print all metrics using predicted_labels and actual_labels\n",
    "print(classification_report(actual_labels, predicted_labels))\n",
    "print(\"Accuracy:\", accuracy_score(actual_labels, predicted_labels))\n",
    "print(\"Balanced Accuracy:\", balanced_accuracy_score(actual_labels, predicted_labels))\n",
    "print(\"F1 Score:\", f1_score(actual_labels, predicted_labels))\n",
    "print(\"Precision Score:\", precision_score(actual_labels, predicted_labels, pos_label=0))\n",
    "print(\"Recall Score:\", recall_score(actual_labels, predicted_labels))"
   ]
  },
  {
   "cell_type": "code",
   "execution_count": 48,
   "metadata": {
    "pycharm": {
     "name": "#%%\n"
    }
   },
   "outputs": [
    {
     "name": "stdout",
     "output_type": "stream",
     "text": [
      "Precision Score: 0.7208271787296898\n"
     ]
    }
   ],
   "source": [
    "print(\"Precision Score:\", precision_score(actual_labels, predicted_labels, pos_label=0))"
   ]
  },
  {
   "cell_type": "code",
   "execution_count": 49,
   "metadata": {
    "pycharm": {
     "name": "#%%\n"
    }
   },
   "outputs": [
    {
     "data": {
      "text/plain": [
       "-0.06571407088565617"
      ]
     },
     "execution_count": 49,
     "metadata": {},
     "output_type": "execute_result"
    }
   ],
   "source": [
    "from sklearn.metrics import matthews_corrcoef\n",
    "\n",
    "matthews_corrcoef(actual_labels, predicted_labels)"
   ]
  },
  {
   "cell_type": "code",
   "execution_count": 51,
   "metadata": {
    "pycharm": {
     "name": "#%%\n"
    }
   },
   "outputs": [],
   "source": [
    "# from sklearn.metrics import roc_auc_score\n",
    "\n",
    "\n",
    "# roc_auc_score()"
   ]
  },
  {
   "cell_type": "code",
   "execution_count": 29,
   "metadata": {
    "pycharm": {
     "name": "#%%\n"
    }
   },
   "outputs": [
    {
     "name": "stdout",
     "output_type": "stream",
     "text": [
      "              precision    recall  f1-score   support\n",
      "\n",
      "           0       0.72      0.90      0.80       540\n",
      "           1       0.17      0.06      0.08       200\n",
      "\n",
      "   micro avg       0.67      0.67      0.67       740\n",
      "   macro avg       0.45      0.48      0.44       740\n",
      "weighted avg       0.57      0.67      0.61       740\n",
      "\n",
      "Accuracy: 0.6743243243243243\n",
      "Balanced Accuracy: 0.47935185185185186\n",
      "F1 Score: 0.08365019011406845\n",
      "Precision Score: 0.1746031746031746\n",
      "Recall Score: 0.055\n"
     ]
    }
   ],
   "source": [
    "# assess the performance of the model using predicted_labels and actual_labels\n",
    "from sklearn.metrics import (\n",
    "    classification_report,\n",
    "    accuracy_score,\n",
    "    balanced_accuracy_score,\n",
    "    f1_score,\n",
    "    precision_score,\n",
    "    recall_score,\n",
    ")\n",
    "\n",
    "# print all metrics using predicted_labels and actual_labels\n",
    "print(classification_report(actual_labels, predicted_labels))\n",
    "print(\"Accuracy:\", accuracy_score(actual_labels, predicted_labels))\n",
    "print(\"Balanced Accuracy:\", balanced_accuracy_score(actual_labels, predicted_labels))\n",
    "print(\"F1 Score:\", f1_score(actual_labels, predicted_labels))\n",
    "print(\"Precision Score:\", precision_score(actual_labels, predicted_labels))\n",
    "print(\"Recall Score:\", recall_score(actual_labels, predicted_labels))"
   ]
  },
  {
   "cell_type": "code",
   "execution_count": null,
   "metadata": {
    "pycharm": {
     "name": "#%%\n"
    }
   },
   "outputs": [],
   "source": []
  },
  {
   "cell_type": "code",
   "execution_count": 10,
   "metadata": {
    "pycharm": {
     "name": "#%%\n"
    }
   },
   "outputs": [
    {
     "data": {
      "text/html": [
       "<div>\n",
       "<style scoped>\n",
       "    .dataframe tbody tr th:only-of-type {\n",
       "        vertical-align: middle;\n",
       "    }\n",
       "\n",
       "    .dataframe tbody tr th {\n",
       "        vertical-align: top;\n",
       "    }\n",
       "\n",
       "    .dataframe thead th {\n",
       "        text-align: right;\n",
       "    }\n",
       "</style>\n",
       "<table border=\"1\" class=\"dataframe\">\n",
       "  <thead>\n",
       "    <tr style=\"text-align: right;\">\n",
       "      <th></th>\n",
       "      <th>Mutation_Effect_Label</th>\n",
       "      <th>UniProt_ID</th>\n",
       "      <th>Mutation</th>\n",
       "      <th>Interactor_UniProt_ID</th>\n",
       "    </tr>\n",
       "  </thead>\n",
       "  <tbody>\n",
       "    <tr>\n",
       "      <th>0</th>\n",
       "      <td>0</td>\n",
       "      <td>Q9BPZ3</td>\n",
       "      <td>F118A</td>\n",
       "      <td>P11940</td>\n",
       "    </tr>\n",
       "    <tr>\n",
       "      <th>1</th>\n",
       "      <td>0</td>\n",
       "      <td>P01116</td>\n",
       "      <td>Y40C</td>\n",
       "      <td>P50749</td>\n",
       "    </tr>\n",
       "    <tr>\n",
       "      <th>2</th>\n",
       "      <td>0</td>\n",
       "      <td>Q96QK1</td>\n",
       "      <td>F534D</td>\n",
       "      <td>Q9UBQ0</td>\n",
       "    </tr>\n",
       "    <tr>\n",
       "      <th>3</th>\n",
       "      <td>0</td>\n",
       "      <td>Q96QK1</td>\n",
       "      <td>F534D</td>\n",
       "      <td>Q9UBQ0-2</td>\n",
       "    </tr>\n",
       "    <tr>\n",
       "      <th>4</th>\n",
       "      <td>0</td>\n",
       "      <td>O43521-3</td>\n",
       "      <td>G66A</td>\n",
       "      <td>Q07812</td>\n",
       "    </tr>\n",
       "    <tr>\n",
       "      <th>...</th>\n",
       "      <td>...</td>\n",
       "      <td>...</td>\n",
       "      <td>...</td>\n",
       "      <td>...</td>\n",
       "    </tr>\n",
       "    <tr>\n",
       "      <th>735</th>\n",
       "      <td>0</td>\n",
       "      <td>P84243</td>\n",
       "      <td>Q94A</td>\n",
       "      <td>Q9UER7-3</td>\n",
       "    </tr>\n",
       "    <tr>\n",
       "      <th>736</th>\n",
       "      <td>0</td>\n",
       "      <td>Q96QK1</td>\n",
       "      <td>L589D</td>\n",
       "      <td>Q9UBQ0</td>\n",
       "    </tr>\n",
       "    <tr>\n",
       "      <th>737</th>\n",
       "      <td>0</td>\n",
       "      <td>Q96QK1</td>\n",
       "      <td>L589D</td>\n",
       "      <td>Q9UBQ0-2</td>\n",
       "    </tr>\n",
       "    <tr>\n",
       "      <th>738</th>\n",
       "      <td>0</td>\n",
       "      <td>P23297</td>\n",
       "      <td>F72L</td>\n",
       "      <td>P25815</td>\n",
       "    </tr>\n",
       "    <tr>\n",
       "      <th>739</th>\n",
       "      <td>0</td>\n",
       "      <td>Q15836</td>\n",
       "      <td>L46P</td>\n",
       "      <td>O43752</td>\n",
       "    </tr>\n",
       "  </tbody>\n",
       "</table>\n",
       "<p>740 rows × 4 columns</p>\n",
       "</div>"
      ],
      "text/plain": [
       "     Mutation_Effect_Label UniProt_ID Mutation Interactor_UniProt_ID\n",
       "0                        0     Q9BPZ3    F118A                P11940\n",
       "1                        0     P01116     Y40C                P50749\n",
       "2                        0     Q96QK1    F534D                Q9UBQ0\n",
       "3                        0     Q96QK1    F534D              Q9UBQ0-2\n",
       "4                        0   O43521-3     G66A                Q07812\n",
       "..                     ...        ...      ...                   ...\n",
       "735                      0     P84243     Q94A              Q9UER7-3\n",
       "736                      0     Q96QK1    L589D                Q9UBQ0\n",
       "737                      0     Q96QK1    L589D              Q9UBQ0-2\n",
       "738                      0     P23297     F72L                P25815\n",
       "739                      0     Q15836     L46P                O43752\n",
       "\n",
       "[740 rows x 4 columns]"
      ]
     },
     "execution_count": 10,
     "metadata": {},
     "output_type": "execute_result"
    }
   ],
   "source": [
    "train_data"
   ]
  },
  {
   "cell_type": "code",
   "execution_count": null,
   "metadata": {
    "pycharm": {
     "name": "#%%\n"
    }
   },
   "outputs": [],
   "source": []
  },
  {
   "cell_type": "code",
   "execution_count": null,
   "metadata": {
    "pycharm": {
     "name": "#%%\n"
    }
   },
   "outputs": [],
   "source": []
  },
  {
   "cell_type": "code",
   "execution_count": null,
   "metadata": {
    "pycharm": {
     "name": "#%%\n"
    }
   },
   "outputs": [],
   "source": [
    "# original code.\n",
    "ligand_WT='YADEVLGDVQVYPARGTVAFGSGLHGWAFTIRQFAYADEVLGDVQVYPARGTVAFGSGLHGWAFTIRQFAYADEVLGDVQVYPARGTVAFGSGLHGWAFTIRQFAYADEVLGDVQYADEVLGDVQVYPARGTVAFGSGLHGWAFTIRQFAYADEVLGDVQVYPARGTVAFGSGLHGWAFTIRQFATRYAKKFGVDKAKMMDRLWGDSFFNPKTKKWTNKDTDAEGKPLERAFNMFILDPIFRLFTAIMNFKKDEIPVLLEKLEIVLKGDEKDLEGKALLKVVMRKFLPAADALLEMIVLHLPSPVTAQAYRAEQLYEGPADDANCIAIKNCDPKADLMLYVSKMVPTSDKGRFYAFGRVFAGTVKSGQKVRIQGPNYVPGKKDDLFIKAIQRVVLMMGRFVEPIDDCPAGNIIGLVGIDQFLLKTGTLTTSETAHNMKVMKFSVSPVVQVAVEVKNANDLPKLVEGLKRLSKSDPCVLTYMSESGEHIVAGTGELHLEICLQDLEHDHAGVPLKISPPVVAYRETVESESSQTALSKSPNKHNRIYLKAEPIDEEVSLAIENGIINPRDDFKARARIMADDYGWDVTDARKIWCFGPDGNGPNLVIDQTKAVQYLHEIKDSVVAAFQWATKEGPIFGEEMRSVRVNILDVTLHADAIRGGGQIIPTMRRATYAGFLLADPKIQEPVFLVEIQCPEQAVGGIYSVLNKKRGQVVSEEQRPGTPLFTVKAYLPVNESFGFTGELRQATGGQAFPQMVFDHWSTLGSDPLDPTSKAGEIVLAARKRHGMKEEVPGWQEYYDKL'\n",
    "Receptor_WT='DEVLGDVQVYPARGTVAFGSGLHGWAFTIRQFAYADEVLGDVQVYPARGTVAFGSGLHGWAFTIRQFAYADEVLGDVQYADEVLGDVQVYPARGTVAFGSGLHGWAFTIRQFAYADEVLGDVQVYPARGTVAFGSGLHGWAFTIRQFATRYAKKFGVDKAKMMDR'\n",
    "ligand_M='YRRRVLGDVQVYPARGTVAFGSGLHGWAFTVLGDVQVYPARGTVAFGSGLHGWAFTIRQFAYADEVLGDVQVYPARGTVAFGSGLHGWAFTIRQFAYADEVLGDVQYADEVLGDVQVYPARGTVAFGSGLHGWAFTIRQFAYADEVLGDVQVYPARGTVAFGSGLHGWAFTIRQFATRYAKKFGVDKKWTNKDTDAEGKPLERAFNMFILDPIFRLFTAIMNFKKDEIPVLLEKLEIVLKGDEKDLEGKALLKVVMRKFLPAADALLEMIVLHLPSPVTAQAYRAEQLYEGPADDANCIAIKNCDPKADLMLYVSKMVPTSDKGRFYAFGRVFAGTVKSGQKVRIQGPNYVPGKKDDLFIKAIQRVVLMMGRFVEPIDDCPAGNIIGLVGIDQFLLKTGTLTTSETAHNMKVMKFSVSPVVQVAVEVKNANDLPKLVEGLKRLSKSDPCVLTYMSESGEHIVAGTGELHLEICLQDLEHDHAGVPLKISPPVVAYRETVESESSQTALSKSPNKHNRIYLKAEPIDEEVSLAIENGIINPRDDFKARARIMADDYGWDVTDARKIWCFGPDGNGPNLVIDQTKAVQYLHEIKDSVVAAFQWATKEGPIFGEEMRSVRVNILDVTLHADAIRGGGQIIPTMRRATYAGFLLADPKIQEPVFLVEIQCPEQAVGGIYSVLNKKRGQVVSEEQRPGTPLFTVKAYLPVNESFGFTGELRQATGGQAFPQMVFDHWSTLGSDPLDPTSKAGEIVLAARKRHGMKEEVPGWQEYYDKL'\n",
    "Receptor_M='DEVLGDVQVYPARGTVAFGSGLHGWAFTIRQFAYADEVLGDVQVYPARGTVAFGSGLHGWAFTIRQFAYADEVLGDVQYADEVLGDVQVYPARGTVAFGSGLHGWAFTIRQFAYADEVLGDVQVYPARGTVAFGSGLHGWAFTIRQFATRYAKKFGVDKAKMMDR'\n",
    "\n",
    "affinity_change = predict_affinity(ligand_WT,Receptor_WT,ligand_M,Receptor_M)\n",
    "\n",
    "print (\"The predicted Change in binding affinity is:\"+str(affinity_change[0])+\" kcal/mol\")\n",
    "\n",
    "if affinity_change[0]<0:\n",
    "    print(\"Decreasing affinity\")\n",
    "elif affinity_change[0]>0:\n",
    "    print(\"increasing affinity\")\n",
    "else:\n",
    "    print(\"No Change in affinity!\")\n"
   ]
  },
  {
   "cell_type": "code",
   "execution_count": null,
   "metadata": {
    "pycharm": {
     "name": "#%%\n"
    }
   },
   "outputs": [],
   "source": []
  },
  {
   "cell_type": "code",
   "execution_count": null,
   "metadata": {
    "pycharm": {
     "name": "#%%\n"
    }
   },
   "outputs": [],
   "source": []
  },
  {
   "cell_type": "code",
   "execution_count": null,
   "metadata": {
    "pycharm": {
     "name": "#%%\n"
    }
   },
   "outputs": [],
   "source": []
  }
 ],
 "metadata": {
  "kernelspec": {
   "display_name": "Python 3.6.15 ('Panda_Study')",
   "language": "python",
   "name": "python3"
  },
  "language_info": {
   "codemirror_mode": {
    "name": "ipython",
    "version": 3
   },
   "file_extension": ".py",
   "mimetype": "text/x-python",
   "name": "python",
   "nbconvert_exporter": "python",
   "pygments_lexer": "ipython3",
   "version": "3.6.15"
  },
  "orig_nbformat": 4,
  "vscode": {
   "interpreter": {
    "hash": "f3b5ea7f777850fea49bb7b310e77dd8839506e26685b3d50f260671308e7bf1"
   }
  }
 },
 "nbformat": 4,
 "nbformat_minor": 2
}