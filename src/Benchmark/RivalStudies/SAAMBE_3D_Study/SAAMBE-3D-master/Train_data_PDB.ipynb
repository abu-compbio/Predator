{
 "cells": [
  {
   "cell_type": "markdown",
   "metadata": {
    "pycharm": {
     "name": "#%% md\n"
    }
   },
   "source": [
    "# Extract the PDB files "
   ]
  },
  {
   "cell_type": "code",
   "execution_count": 1,
   "metadata": {
    "pycharm": {
     "name": "#%%\n"
    }
   },
   "outputs": [],
   "source": [
    "import pandas as pd\n",
    "\n",
    "pd.set_option('display.max_columns', None)\n",
    "\n",
    "DATA_PATH = \"../../../../../data/training_data_M1.txt\"\n",
    "\n",
    "# Reflect changes in the modules immediately.\n",
    "%load_ext autoreload\n",
    "%autoreload 2"
   ]
  },
  {
   "cell_type": "code",
   "execution_count": 2,
   "outputs": [
    {
     "name": "stdout",
     "output_type": "stream",
     "text": [
      "(1101, 104)\n"
     ]
    },
    {
     "data": {
      "text/plain": "               Mutation_Effect_Label Input_identifier UniProt_ID Mutation  \\\n0  mutation decreasing rate(MI:1130)           P63000     P63000     Q61L   \n1  mutation decreasing rate(MI:1130)           P63000     P63000     Q61L   \n2  mutation decreasing rate(MI:1130)           P63000     P63000     Q61L   \n3  mutation decreasing rate(MI:1130)           P63000     P63000     Q61L   \n4  mutation decreasing rate(MI:1130)           P63000     P63000     Q61L   \n\n  Status       Type COSMIC_mut_ID ClinVar_mut_ID UniProt_mut_ID Domain_name  \\\n0   done  interface             -              -              -         Ras   \n1   done  interface             -              -              -         Ras   \n2   done  interface             -              -              -         Ras   \n3   done  interface             -              -              -         Ras   \n4   done  interface             -              -              -         Ras   \n\n  Domain_clan Domain_definitions Template_cath_id  Template_sequence_identity  \\\n0         Ras              1:177            2vrwA                         1.0   \n1         Ras              1:177            2vrwA                         1.0   \n2         Ras              1:177            2vrwA                         1.0   \n3         Ras              1:177            2vrwA                         1.0   \n4         Ras              1:177            2vrwA                         1.0   \n\n   Alignment_score Interactor_UniProt_ID Interactor_domain_name  \\\n0         0.921875                Q14155                 RhoGEF   \n1         0.921875              Q14155-1                 RhoGEF   \n2         0.921875              Q14155-2                 RhoGEF   \n3         0.921875              Q14155-3                 RhoGEF   \n4         0.921875              Q14155-5                 RhoGEF   \n\n  Interactor_domain_clan Interactor_domain_definitions  \\\n0                 RhoGEF                       259:459   \n1                 RhoGEF                        81:281   \n2                 RhoGEF                       209:409   \n3                 RhoGEF                       238:438   \n4                 RhoGEF                       166:366   \n\n  Interactor_template_cath_id  Interactor_template_sequence_identity  \\\n0                       2vrwB                                 0.2432   \n1                       2vrwB                                 0.2432   \n2                       2vrwB                                 0.2432   \n3                       2vrwB                                 0.2432   \n4                       2vrwB                                 0.2432   \n\n   Interactor_alignment_score  Final_ddG      ProtBert_score  \\\n0                    0.253076    1.72835  0.9981741060182685   \n1                    0.253076    1.72835  0.9981741060182685   \n2                    0.253076    1.72835  0.9981741060182685   \n3                    0.253076    1.72835  0.9981741060182685   \n4                    0.253076    1.72835  0.9981741060182685   \n\n    ProteinSolver_score           EL2_score  Model/DOPE_score  Provean_score  \\\n0  0.009480022825300694  1.7654914439219185          -1.14785         -6.338   \n1  0.009480022825300694  1.7654914439219185          -1.14785         -6.338   \n2  0.009480022825300694  1.7654914439219185          -1.14785         -6.338   \n3  0.009480022825300694  1.7654914439219185          -1.14785         -6.338   \n4  0.009480022825300694  1.7654914439219185          -1.14785         -6.338   \n\n   Matrix_score Secondary_structure_wt Secondary_structure_mut  \\\n0          -3.0   hydrogen bonded turn    hydrogen bonded turn   \n1          -3.0   hydrogen bonded turn    hydrogen bonded turn   \n2          -3.0   hydrogen bonded turn    hydrogen bonded turn   \n3          -3.0   hydrogen bonded turn    hydrogen bonded turn   \n4          -3.0   hydrogen bonded turn    hydrogen bonded turn   \n\n   Solvent_accessibility_wt  Solvent_accessibility_mut  pcv_salt_equal_wt  \\\n0                   24.8016                     31.444                  0   \n1                   24.8016                     31.444                  0   \n2                   24.8016                     31.444                  0   \n3                   24.8016                     31.444                  0   \n4                   24.8016                     31.444                  0   \n\n   pcv_salt_opposite_wt  pcv_hbond_wt  pcv_vdW_wt  pcv_salt_equal_mut  \\\n0                     0             0          11                   0   \n1                     0             0          11                   0   \n2                     0             0          11                   0   \n3                     0             0          11                   0   \n4                     0             0          11                   0   \n\n   pcv_salt_opposite_mut  pcv_hbond_mut  pcv_vdW_mut  pcv_salt_equal_self_wt  \\\n0                      0              0           15                       0   \n1                      0              0           15                       0   \n2                      0              0           15                       0   \n3                      0              0           15                       0   \n4                      0              0           15                       0   \n\n   pcv_salt_opposite_self_wt  pcv_hbond_self_wt  pcv_vdW_self_wt  \\\n0                          0                  4               24   \n1                          0                  4               24   \n2                          0                  4               24   \n3                          0                  4               24   \n4                          0                  4               24   \n\n   pcv_salt_equal_self_mut  pcv_salt_opposite_self_mut  pcv_hbond_self_mut  \\\n0                        0                           0                   0   \n1                        0                           0                   0   \n2                        0                           0                   0   \n3                        0                           0                   0   \n4                        0                           0                   0   \n\n   pcv_vdW_self_mut    dg_wt  backbone_hbond_wt  sidechain_hbond_wt  \\\n0                26 -10.8507           -2.08654            -3.62604   \n1                26 -10.8507           -2.08654            -3.62604   \n2                26 -10.8507           -2.08654            -3.62604   \n3                26 -10.8507           -2.08654            -3.62604   \n4                26 -10.8507           -2.08654            -3.62604   \n\n   van_der_waals_wt  electrostatics_wt  solvation_polar_wt  \\\n0          -19.2446           -2.82609             23.8666   \n1          -19.2446           -2.82609             23.8666   \n2          -19.2446           -2.82609             23.8666   \n3          -19.2446           -2.82609             23.8666   \n4          -19.2446           -2.82609             23.8666   \n\n   solvation_hydrophobic_wt  van_der_waals_clashes_wt  entropy_sidechain_wt  \\\n0                  -27.1192                   3.44873               11.1043   \n1                  -27.1192                   3.44873               11.1043   \n2                  -27.1192                   3.44873               11.1043   \n3                  -27.1192                   3.44873               11.1043   \n4                  -27.1192                   3.44873               11.1043   \n\n   entropy_mainchain_wt  sloop_entropy_wt  mloop_entropy_wt  cis_bond_wt  \\\n0               2.46978               0.0               0.0          0.0   \n1               2.46978               0.0               0.0          0.0   \n2               2.46978               0.0               0.0          0.0   \n3               2.46978               0.0               0.0          0.0   \n4               2.46978               0.0               0.0          0.0   \n\n   torsional_clash_wt  backbone_clash_wt  helix_dipole_wt  water_bridge_wt  \\\n0             1.42441            3.72488        -0.132308              0.0   \n1             1.42441            3.72488        -0.132308              0.0   \n2             1.42441            3.72488        -0.132308              0.0   \n3             1.42441            3.72488        -0.132308              0.0   \n4             1.42441            3.72488        -0.132308              0.0   \n\n   disulfide_wt  electrostatic_kon_wt  partial_covalent_bonds_wt  \\\n0           0.0             -0.548728                        0.0   \n1           0.0             -0.548728                        0.0   \n2           0.0             -0.548728                        0.0   \n3           0.0             -0.548728                        0.0   \n4           0.0             -0.548728                        0.0   \n\n   energy_ionisation_wt  entropy_complex_wt  number_of_residues_wt   dg_mut  \\\n0              0.035025               2.384                  378.0 -11.8032   \n1              0.035025               2.384                  378.0 -11.8032   \n2              0.035025               2.384                  378.0 -11.8032   \n3              0.035025               2.384                  378.0 -11.8032   \n4              0.035025               2.384                  378.0 -11.8032   \n\n   backbone_hbond_mut  sidechain_hbond_mut  van_der_waals_mut  \\\n0             -2.0983             -3.62604           -19.6566   \n1             -2.0983             -3.62604           -19.6566   \n2             -2.0983             -3.62604           -19.6566   \n3             -2.0983             -3.62604           -19.6566   \n4             -2.0983             -3.62604           -19.6566   \n\n   electrostatics_mut  solvation_polar_mut  solvation_hydrophobic_mut  \\\n0            -2.85434              24.0298                   -28.0708   \n1            -2.85434              24.0298                   -28.0708   \n2            -2.85434              24.0298                   -28.0708   \n3            -2.85434              24.0298                   -28.0708   \n4            -2.85434              24.0298                   -28.0708   \n\n   van_der_waals_clashes_mut  entropy_sidechain_mut  entropy_mainchain_mut  \\\n0                    3.55148                 11.178                2.55424   \n1                    3.55148                 11.178                2.55424   \n2                    3.55148                 11.178                2.55424   \n3                    3.55148                 11.178                2.55424   \n4                    3.55148                 11.178                2.55424   \n\n   sloop_entropy_mut  mloop_entropy_mut  cis_bond_mut  torsional_clash_mut  \\\n0                0.0                0.0           0.0              1.45134   \n1                0.0                0.0           0.0              1.45134   \n2                0.0                0.0           0.0              1.45134   \n3                0.0                0.0           0.0              1.45134   \n4                0.0                0.0           0.0              1.45134   \n\n   backbone_clash_mut  helix_dipole_mut  water_bridge_mut  disulfide_mut  \\\n0             3.95375         -0.132308               0.0            0.0   \n1             3.95375         -0.132308               0.0            0.0   \n2             3.95375         -0.132308               0.0            0.0   \n3             3.95375         -0.132308               0.0            0.0   \n4             3.95375         -0.132308               0.0            0.0   \n\n   electrostatic_kon_mut  partial_covalent_bonds_mut  energy_ionisation_mut  \\\n0              -0.548728                         0.0               0.035025   \n1              -0.548728                         0.0               0.035025   \n2              -0.548728                         0.0               0.035025   \n3              -0.548728                         0.0               0.035025   \n4              -0.548728                         0.0               0.035025   \n\n   entropy_complex_mut  number_of_residues_mut  IntraclashesEnergy1_wt  \\\n0                2.384                   378.0                 40.0165   \n1                2.384                   378.0                 40.0165   \n2                2.384                   378.0                 40.0165   \n3                2.384                   378.0                 40.0165   \n4                2.384                   378.0                 40.0165   \n\n   IntraclashesEnergy1_mut  IntraclashesEnergy2_wt  IntraclashesEnergy2_mut  \\\n0                  40.2638                 61.9441                  61.9441   \n1                  40.2638                 61.9441                  61.9441   \n2                  40.2638                 61.9441                  61.9441   \n3                  40.2638                 61.9441                  61.9441   \n4                  40.2638                 61.9441                  61.9441   \n\n  Interface_hydrophobic_area Interface_hydrophilic_area Interface_total_area  \\\n0                       None                       None                 None   \n1                       None                       None                 None   \n2                       None                       None                 None   \n3                       None                       None                 None   \n4                       None                       None                 None   \n\n   Interface_contact_distance_wt  Interface_contact_distance_mut  \n0                         3.7681                         3.21627  \n1                         3.7681                         3.21627  \n2                         3.7681                         3.21627  \n3                         3.7681                         3.21627  \n4                         3.7681                         3.21627  ",
      "text/html": "<div>\n<style scoped>\n    .dataframe tbody tr th:only-of-type {\n        vertical-align: middle;\n    }\n\n    .dataframe tbody tr th {\n        vertical-align: top;\n    }\n\n    .dataframe thead th {\n        text-align: right;\n    }\n</style>\n<table border=\"1\" class=\"dataframe\">\n  <thead>\n    <tr style=\"text-align: right;\">\n      <th></th>\n      <th>Mutation_Effect_Label</th>\n      <th>Input_identifier</th>\n      <th>UniProt_ID</th>\n      <th>Mutation</th>\n      <th>Status</th>\n      <th>Type</th>\n      <th>COSMIC_mut_ID</th>\n      <th>ClinVar_mut_ID</th>\n      <th>UniProt_mut_ID</th>\n      <th>Domain_name</th>\n      <th>Domain_clan</th>\n      <th>Domain_definitions</th>\n      <th>Template_cath_id</th>\n      <th>Template_sequence_identity</th>\n      <th>Alignment_score</th>\n      <th>Interactor_UniProt_ID</th>\n      <th>Interactor_domain_name</th>\n      <th>Interactor_domain_clan</th>\n      <th>Interactor_domain_definitions</th>\n      <th>Interactor_template_cath_id</th>\n      <th>Interactor_template_sequence_identity</th>\n      <th>Interactor_alignment_score</th>\n      <th>Final_ddG</th>\n      <th>ProtBert_score</th>\n      <th>ProteinSolver_score</th>\n      <th>EL2_score</th>\n      <th>Model/DOPE_score</th>\n      <th>Provean_score</th>\n      <th>Matrix_score</th>\n      <th>Secondary_structure_wt</th>\n      <th>Secondary_structure_mut</th>\n      <th>Solvent_accessibility_wt</th>\n      <th>Solvent_accessibility_mut</th>\n      <th>pcv_salt_equal_wt</th>\n      <th>pcv_salt_opposite_wt</th>\n      <th>pcv_hbond_wt</th>\n      <th>pcv_vdW_wt</th>\n      <th>pcv_salt_equal_mut</th>\n      <th>pcv_salt_opposite_mut</th>\n      <th>pcv_hbond_mut</th>\n      <th>pcv_vdW_mut</th>\n      <th>pcv_salt_equal_self_wt</th>\n      <th>pcv_salt_opposite_self_wt</th>\n      <th>pcv_hbond_self_wt</th>\n      <th>pcv_vdW_self_wt</th>\n      <th>pcv_salt_equal_self_mut</th>\n      <th>pcv_salt_opposite_self_mut</th>\n      <th>pcv_hbond_self_mut</th>\n      <th>pcv_vdW_self_mut</th>\n      <th>dg_wt</th>\n      <th>backbone_hbond_wt</th>\n      <th>sidechain_hbond_wt</th>\n      <th>van_der_waals_wt</th>\n      <th>electrostatics_wt</th>\n      <th>solvation_polar_wt</th>\n      <th>solvation_hydrophobic_wt</th>\n      <th>van_der_waals_clashes_wt</th>\n      <th>entropy_sidechain_wt</th>\n      <th>entropy_mainchain_wt</th>\n      <th>sloop_entropy_wt</th>\n      <th>mloop_entropy_wt</th>\n      <th>cis_bond_wt</th>\n      <th>torsional_clash_wt</th>\n      <th>backbone_clash_wt</th>\n      <th>helix_dipole_wt</th>\n      <th>water_bridge_wt</th>\n      <th>disulfide_wt</th>\n      <th>electrostatic_kon_wt</th>\n      <th>partial_covalent_bonds_wt</th>\n      <th>energy_ionisation_wt</th>\n      <th>entropy_complex_wt</th>\n      <th>number_of_residues_wt</th>\n      <th>dg_mut</th>\n      <th>backbone_hbond_mut</th>\n      <th>sidechain_hbond_mut</th>\n      <th>van_der_waals_mut</th>\n      <th>electrostatics_mut</th>\n      <th>solvation_polar_mut</th>\n      <th>solvation_hydrophobic_mut</th>\n      <th>van_der_waals_clashes_mut</th>\n      <th>entropy_sidechain_mut</th>\n      <th>entropy_mainchain_mut</th>\n      <th>sloop_entropy_mut</th>\n      <th>mloop_entropy_mut</th>\n      <th>cis_bond_mut</th>\n      <th>torsional_clash_mut</th>\n      <th>backbone_clash_mut</th>\n      <th>helix_dipole_mut</th>\n      <th>water_bridge_mut</th>\n      <th>disulfide_mut</th>\n      <th>electrostatic_kon_mut</th>\n      <th>partial_covalent_bonds_mut</th>\n      <th>energy_ionisation_mut</th>\n      <th>entropy_complex_mut</th>\n      <th>number_of_residues_mut</th>\n      <th>IntraclashesEnergy1_wt</th>\n      <th>IntraclashesEnergy1_mut</th>\n      <th>IntraclashesEnergy2_wt</th>\n      <th>IntraclashesEnergy2_mut</th>\n      <th>Interface_hydrophobic_area</th>\n      <th>Interface_hydrophilic_area</th>\n      <th>Interface_total_area</th>\n      <th>Interface_contact_distance_wt</th>\n      <th>Interface_contact_distance_mut</th>\n    </tr>\n  </thead>\n  <tbody>\n    <tr>\n      <th>0</th>\n      <td>mutation decreasing rate(MI:1130)</td>\n      <td>P63000</td>\n      <td>P63000</td>\n      <td>Q61L</td>\n      <td>done</td>\n      <td>interface</td>\n      <td>-</td>\n      <td>-</td>\n      <td>-</td>\n      <td>Ras</td>\n      <td>Ras</td>\n      <td>1:177</td>\n      <td>2vrwA</td>\n      <td>1.0</td>\n      <td>0.921875</td>\n      <td>Q14155</td>\n      <td>RhoGEF</td>\n      <td>RhoGEF</td>\n      <td>259:459</td>\n      <td>2vrwB</td>\n      <td>0.2432</td>\n      <td>0.253076</td>\n      <td>1.72835</td>\n      <td>0.9981741060182685</td>\n      <td>0.009480022825300694</td>\n      <td>1.7654914439219185</td>\n      <td>-1.14785</td>\n      <td>-6.338</td>\n      <td>-3.0</td>\n      <td>hydrogen bonded turn</td>\n      <td>hydrogen bonded turn</td>\n      <td>24.8016</td>\n      <td>31.444</td>\n      <td>0</td>\n      <td>0</td>\n      <td>0</td>\n      <td>11</td>\n      <td>0</td>\n      <td>0</td>\n      <td>0</td>\n      <td>15</td>\n      <td>0</td>\n      <td>0</td>\n      <td>4</td>\n      <td>24</td>\n      <td>0</td>\n      <td>0</td>\n      <td>0</td>\n      <td>26</td>\n      <td>-10.8507</td>\n      <td>-2.08654</td>\n      <td>-3.62604</td>\n      <td>-19.2446</td>\n      <td>-2.82609</td>\n      <td>23.8666</td>\n      <td>-27.1192</td>\n      <td>3.44873</td>\n      <td>11.1043</td>\n      <td>2.46978</td>\n      <td>0.0</td>\n      <td>0.0</td>\n      <td>0.0</td>\n      <td>1.42441</td>\n      <td>3.72488</td>\n      <td>-0.132308</td>\n      <td>0.0</td>\n      <td>0.0</td>\n      <td>-0.548728</td>\n      <td>0.0</td>\n      <td>0.035025</td>\n      <td>2.384</td>\n      <td>378.0</td>\n      <td>-11.8032</td>\n      <td>-2.0983</td>\n      <td>-3.62604</td>\n      <td>-19.6566</td>\n      <td>-2.85434</td>\n      <td>24.0298</td>\n      <td>-28.0708</td>\n      <td>3.55148</td>\n      <td>11.178</td>\n      <td>2.55424</td>\n      <td>0.0</td>\n      <td>0.0</td>\n      <td>0.0</td>\n      <td>1.45134</td>\n      <td>3.95375</td>\n      <td>-0.132308</td>\n      <td>0.0</td>\n      <td>0.0</td>\n      <td>-0.548728</td>\n      <td>0.0</td>\n      <td>0.035025</td>\n      <td>2.384</td>\n      <td>378.0</td>\n      <td>40.0165</td>\n      <td>40.2638</td>\n      <td>61.9441</td>\n      <td>61.9441</td>\n      <td>None</td>\n      <td>None</td>\n      <td>None</td>\n      <td>3.7681</td>\n      <td>3.21627</td>\n    </tr>\n    <tr>\n      <th>1</th>\n      <td>mutation decreasing rate(MI:1130)</td>\n      <td>P63000</td>\n      <td>P63000</td>\n      <td>Q61L</td>\n      <td>done</td>\n      <td>interface</td>\n      <td>-</td>\n      <td>-</td>\n      <td>-</td>\n      <td>Ras</td>\n      <td>Ras</td>\n      <td>1:177</td>\n      <td>2vrwA</td>\n      <td>1.0</td>\n      <td>0.921875</td>\n      <td>Q14155-1</td>\n      <td>RhoGEF</td>\n      <td>RhoGEF</td>\n      <td>81:281</td>\n      <td>2vrwB</td>\n      <td>0.2432</td>\n      <td>0.253076</td>\n      <td>1.72835</td>\n      <td>0.9981741060182685</td>\n      <td>0.009480022825300694</td>\n      <td>1.7654914439219185</td>\n      <td>-1.14785</td>\n      <td>-6.338</td>\n      <td>-3.0</td>\n      <td>hydrogen bonded turn</td>\n      <td>hydrogen bonded turn</td>\n      <td>24.8016</td>\n      <td>31.444</td>\n      <td>0</td>\n      <td>0</td>\n      <td>0</td>\n      <td>11</td>\n      <td>0</td>\n      <td>0</td>\n      <td>0</td>\n      <td>15</td>\n      <td>0</td>\n      <td>0</td>\n      <td>4</td>\n      <td>24</td>\n      <td>0</td>\n      <td>0</td>\n      <td>0</td>\n      <td>26</td>\n      <td>-10.8507</td>\n      <td>-2.08654</td>\n      <td>-3.62604</td>\n      <td>-19.2446</td>\n      <td>-2.82609</td>\n      <td>23.8666</td>\n      <td>-27.1192</td>\n      <td>3.44873</td>\n      <td>11.1043</td>\n      <td>2.46978</td>\n      <td>0.0</td>\n      <td>0.0</td>\n      <td>0.0</td>\n      <td>1.42441</td>\n      <td>3.72488</td>\n      <td>-0.132308</td>\n      <td>0.0</td>\n      <td>0.0</td>\n      <td>-0.548728</td>\n      <td>0.0</td>\n      <td>0.035025</td>\n      <td>2.384</td>\n      <td>378.0</td>\n      <td>-11.8032</td>\n      <td>-2.0983</td>\n      <td>-3.62604</td>\n      <td>-19.6566</td>\n      <td>-2.85434</td>\n      <td>24.0298</td>\n      <td>-28.0708</td>\n      <td>3.55148</td>\n      <td>11.178</td>\n      <td>2.55424</td>\n      <td>0.0</td>\n      <td>0.0</td>\n      <td>0.0</td>\n      <td>1.45134</td>\n      <td>3.95375</td>\n      <td>-0.132308</td>\n      <td>0.0</td>\n      <td>0.0</td>\n      <td>-0.548728</td>\n      <td>0.0</td>\n      <td>0.035025</td>\n      <td>2.384</td>\n      <td>378.0</td>\n      <td>40.0165</td>\n      <td>40.2638</td>\n      <td>61.9441</td>\n      <td>61.9441</td>\n      <td>None</td>\n      <td>None</td>\n      <td>None</td>\n      <td>3.7681</td>\n      <td>3.21627</td>\n    </tr>\n    <tr>\n      <th>2</th>\n      <td>mutation decreasing rate(MI:1130)</td>\n      <td>P63000</td>\n      <td>P63000</td>\n      <td>Q61L</td>\n      <td>done</td>\n      <td>interface</td>\n      <td>-</td>\n      <td>-</td>\n      <td>-</td>\n      <td>Ras</td>\n      <td>Ras</td>\n      <td>1:177</td>\n      <td>2vrwA</td>\n      <td>1.0</td>\n      <td>0.921875</td>\n      <td>Q14155-2</td>\n      <td>RhoGEF</td>\n      <td>RhoGEF</td>\n      <td>209:409</td>\n      <td>2vrwB</td>\n      <td>0.2432</td>\n      <td>0.253076</td>\n      <td>1.72835</td>\n      <td>0.9981741060182685</td>\n      <td>0.009480022825300694</td>\n      <td>1.7654914439219185</td>\n      <td>-1.14785</td>\n      <td>-6.338</td>\n      <td>-3.0</td>\n      <td>hydrogen bonded turn</td>\n      <td>hydrogen bonded turn</td>\n      <td>24.8016</td>\n      <td>31.444</td>\n      <td>0</td>\n      <td>0</td>\n      <td>0</td>\n      <td>11</td>\n      <td>0</td>\n      <td>0</td>\n      <td>0</td>\n      <td>15</td>\n      <td>0</td>\n      <td>0</td>\n      <td>4</td>\n      <td>24</td>\n      <td>0</td>\n      <td>0</td>\n      <td>0</td>\n      <td>26</td>\n      <td>-10.8507</td>\n      <td>-2.08654</td>\n      <td>-3.62604</td>\n      <td>-19.2446</td>\n      <td>-2.82609</td>\n      <td>23.8666</td>\n      <td>-27.1192</td>\n      <td>3.44873</td>\n      <td>11.1043</td>\n      <td>2.46978</td>\n      <td>0.0</td>\n      <td>0.0</td>\n      <td>0.0</td>\n      <td>1.42441</td>\n      <td>3.72488</td>\n      <td>-0.132308</td>\n      <td>0.0</td>\n      <td>0.0</td>\n      <td>-0.548728</td>\n      <td>0.0</td>\n      <td>0.035025</td>\n      <td>2.384</td>\n      <td>378.0</td>\n      <td>-11.8032</td>\n      <td>-2.0983</td>\n      <td>-3.62604</td>\n      <td>-19.6566</td>\n      <td>-2.85434</td>\n      <td>24.0298</td>\n      <td>-28.0708</td>\n      <td>3.55148</td>\n      <td>11.178</td>\n      <td>2.55424</td>\n      <td>0.0</td>\n      <td>0.0</td>\n      <td>0.0</td>\n      <td>1.45134</td>\n      <td>3.95375</td>\n      <td>-0.132308</td>\n      <td>0.0</td>\n      <td>0.0</td>\n      <td>-0.548728</td>\n      <td>0.0</td>\n      <td>0.035025</td>\n      <td>2.384</td>\n      <td>378.0</td>\n      <td>40.0165</td>\n      <td>40.2638</td>\n      <td>61.9441</td>\n      <td>61.9441</td>\n      <td>None</td>\n      <td>None</td>\n      <td>None</td>\n      <td>3.7681</td>\n      <td>3.21627</td>\n    </tr>\n    <tr>\n      <th>3</th>\n      <td>mutation decreasing rate(MI:1130)</td>\n      <td>P63000</td>\n      <td>P63000</td>\n      <td>Q61L</td>\n      <td>done</td>\n      <td>interface</td>\n      <td>-</td>\n      <td>-</td>\n      <td>-</td>\n      <td>Ras</td>\n      <td>Ras</td>\n      <td>1:177</td>\n      <td>2vrwA</td>\n      <td>1.0</td>\n      <td>0.921875</td>\n      <td>Q14155-3</td>\n      <td>RhoGEF</td>\n      <td>RhoGEF</td>\n      <td>238:438</td>\n      <td>2vrwB</td>\n      <td>0.2432</td>\n      <td>0.253076</td>\n      <td>1.72835</td>\n      <td>0.9981741060182685</td>\n      <td>0.009480022825300694</td>\n      <td>1.7654914439219185</td>\n      <td>-1.14785</td>\n      <td>-6.338</td>\n      <td>-3.0</td>\n      <td>hydrogen bonded turn</td>\n      <td>hydrogen bonded turn</td>\n      <td>24.8016</td>\n      <td>31.444</td>\n      <td>0</td>\n      <td>0</td>\n      <td>0</td>\n      <td>11</td>\n      <td>0</td>\n      <td>0</td>\n      <td>0</td>\n      <td>15</td>\n      <td>0</td>\n      <td>0</td>\n      <td>4</td>\n      <td>24</td>\n      <td>0</td>\n      <td>0</td>\n      <td>0</td>\n      <td>26</td>\n      <td>-10.8507</td>\n      <td>-2.08654</td>\n      <td>-3.62604</td>\n      <td>-19.2446</td>\n      <td>-2.82609</td>\n      <td>23.8666</td>\n      <td>-27.1192</td>\n      <td>3.44873</td>\n      <td>11.1043</td>\n      <td>2.46978</td>\n      <td>0.0</td>\n      <td>0.0</td>\n      <td>0.0</td>\n      <td>1.42441</td>\n      <td>3.72488</td>\n      <td>-0.132308</td>\n      <td>0.0</td>\n      <td>0.0</td>\n      <td>-0.548728</td>\n      <td>0.0</td>\n      <td>0.035025</td>\n      <td>2.384</td>\n      <td>378.0</td>\n      <td>-11.8032</td>\n      <td>-2.0983</td>\n      <td>-3.62604</td>\n      <td>-19.6566</td>\n      <td>-2.85434</td>\n      <td>24.0298</td>\n      <td>-28.0708</td>\n      <td>3.55148</td>\n      <td>11.178</td>\n      <td>2.55424</td>\n      <td>0.0</td>\n      <td>0.0</td>\n      <td>0.0</td>\n      <td>1.45134</td>\n      <td>3.95375</td>\n      <td>-0.132308</td>\n      <td>0.0</td>\n      <td>0.0</td>\n      <td>-0.548728</td>\n      <td>0.0</td>\n      <td>0.035025</td>\n      <td>2.384</td>\n      <td>378.0</td>\n      <td>40.0165</td>\n      <td>40.2638</td>\n      <td>61.9441</td>\n      <td>61.9441</td>\n      <td>None</td>\n      <td>None</td>\n      <td>None</td>\n      <td>3.7681</td>\n      <td>3.21627</td>\n    </tr>\n    <tr>\n      <th>4</th>\n      <td>mutation decreasing rate(MI:1130)</td>\n      <td>P63000</td>\n      <td>P63000</td>\n      <td>Q61L</td>\n      <td>done</td>\n      <td>interface</td>\n      <td>-</td>\n      <td>-</td>\n      <td>-</td>\n      <td>Ras</td>\n      <td>Ras</td>\n      <td>1:177</td>\n      <td>2vrwA</td>\n      <td>1.0</td>\n      <td>0.921875</td>\n      <td>Q14155-5</td>\n      <td>RhoGEF</td>\n      <td>RhoGEF</td>\n      <td>166:366</td>\n      <td>2vrwB</td>\n      <td>0.2432</td>\n      <td>0.253076</td>\n      <td>1.72835</td>\n      <td>0.9981741060182685</td>\n      <td>0.009480022825300694</td>\n      <td>1.7654914439219185</td>\n      <td>-1.14785</td>\n      <td>-6.338</td>\n      <td>-3.0</td>\n      <td>hydrogen bonded turn</td>\n      <td>hydrogen bonded turn</td>\n      <td>24.8016</td>\n      <td>31.444</td>\n      <td>0</td>\n      <td>0</td>\n      <td>0</td>\n      <td>11</td>\n      <td>0</td>\n      <td>0</td>\n      <td>0</td>\n      <td>15</td>\n      <td>0</td>\n      <td>0</td>\n      <td>4</td>\n      <td>24</td>\n      <td>0</td>\n      <td>0</td>\n      <td>0</td>\n      <td>26</td>\n      <td>-10.8507</td>\n      <td>-2.08654</td>\n      <td>-3.62604</td>\n      <td>-19.2446</td>\n      <td>-2.82609</td>\n      <td>23.8666</td>\n      <td>-27.1192</td>\n      <td>3.44873</td>\n      <td>11.1043</td>\n      <td>2.46978</td>\n      <td>0.0</td>\n      <td>0.0</td>\n      <td>0.0</td>\n      <td>1.42441</td>\n      <td>3.72488</td>\n      <td>-0.132308</td>\n      <td>0.0</td>\n      <td>0.0</td>\n      <td>-0.548728</td>\n      <td>0.0</td>\n      <td>0.035025</td>\n      <td>2.384</td>\n      <td>378.0</td>\n      <td>-11.8032</td>\n      <td>-2.0983</td>\n      <td>-3.62604</td>\n      <td>-19.6566</td>\n      <td>-2.85434</td>\n      <td>24.0298</td>\n      <td>-28.0708</td>\n      <td>3.55148</td>\n      <td>11.178</td>\n      <td>2.55424</td>\n      <td>0.0</td>\n      <td>0.0</td>\n      <td>0.0</td>\n      <td>1.45134</td>\n      <td>3.95375</td>\n      <td>-0.132308</td>\n      <td>0.0</td>\n      <td>0.0</td>\n      <td>-0.548728</td>\n      <td>0.0</td>\n      <td>0.035025</td>\n      <td>2.384</td>\n      <td>378.0</td>\n      <td>40.0165</td>\n      <td>40.2638</td>\n      <td>61.9441</td>\n      <td>61.9441</td>\n      <td>None</td>\n      <td>None</td>\n      <td>None</td>\n      <td>3.7681</td>\n      <td>3.21627</td>\n    </tr>\n  </tbody>\n</table>\n</div>"
     },
     "execution_count": 2,
     "metadata": {},
     "output_type": "execute_result"
    }
   ],
   "source": [
    "data = pd.read_csv(DATA_PATH, sep=\"\\t\")\n",
    "\n",
    "print(data.shape)\n",
    "\n",
    "data.head()"
   ],
   "metadata": {
    "collapsed": false,
    "pycharm": {
     "name": "#%%\n"
    }
   }
  },
  {
   "cell_type": "code",
   "execution_count": 3,
   "outputs": [
    {
     "name": "stdout",
     "output_type": "stream",
     "text": [
      "(1101, 6)\n"
     ]
    },
    {
     "data": {
      "text/plain": "               Mutation_Effect_Label UniProt_ID Mutation  \\\n0  mutation decreasing rate(MI:1130)     P63000     Q61L   \n1  mutation decreasing rate(MI:1130)     P63000     Q61L   \n2  mutation decreasing rate(MI:1130)     P63000     Q61L   \n3  mutation decreasing rate(MI:1130)     P63000     Q61L   \n4  mutation decreasing rate(MI:1130)     P63000     Q61L   \n\n  Interactor_UniProt_ID Template_cath_id Interactor_template_cath_id  \\\n0                Q14155            2vrwA                       2vrwB   \n1              Q14155-1            2vrwA                       2vrwB   \n2              Q14155-2            2vrwA                       2vrwB   \n3              Q14155-3            2vrwA                       2vrwB   \n4              Q14155-5            2vrwA                       2vrwB   \n\n  Template_cath_id_pdb Chain_id Interactor_template_cath_id_pdb  \n0                 2vrw        A                            2vrw  \n1                 2vrw        A                            2vrw  \n2                 2vrw        A                            2vrw  \n3                 2vrw        A                            2vrw  \n4                 2vrw        A                            2vrw  ",
      "text/html": "<div>\n<style scoped>\n    .dataframe tbody tr th:only-of-type {\n        vertical-align: middle;\n    }\n\n    .dataframe tbody tr th {\n        vertical-align: top;\n    }\n\n    .dataframe thead th {\n        text-align: right;\n    }\n</style>\n<table border=\"1\" class=\"dataframe\">\n  <thead>\n    <tr style=\"text-align: right;\">\n      <th></th>\n      <th>Mutation_Effect_Label</th>\n      <th>UniProt_ID</th>\n      <th>Mutation</th>\n      <th>Interactor_UniProt_ID</th>\n      <th>Template_cath_id</th>\n      <th>Interactor_template_cath_id</th>\n      <th>Template_cath_id_pdb</th>\n      <th>Chain_id</th>\n      <th>Interactor_template_cath_id_pdb</th>\n    </tr>\n  </thead>\n  <tbody>\n    <tr>\n      <th>0</th>\n      <td>mutation decreasing rate(MI:1130)</td>\n      <td>P63000</td>\n      <td>Q61L</td>\n      <td>Q14155</td>\n      <td>2vrwA</td>\n      <td>2vrwB</td>\n      <td>2vrw</td>\n      <td>A</td>\n      <td>2vrw</td>\n    </tr>\n    <tr>\n      <th>1</th>\n      <td>mutation decreasing rate(MI:1130)</td>\n      <td>P63000</td>\n      <td>Q61L</td>\n      <td>Q14155-1</td>\n      <td>2vrwA</td>\n      <td>2vrwB</td>\n      <td>2vrw</td>\n      <td>A</td>\n      <td>2vrw</td>\n    </tr>\n    <tr>\n      <th>2</th>\n      <td>mutation decreasing rate(MI:1130)</td>\n      <td>P63000</td>\n      <td>Q61L</td>\n      <td>Q14155-2</td>\n      <td>2vrwA</td>\n      <td>2vrwB</td>\n      <td>2vrw</td>\n      <td>A</td>\n      <td>2vrw</td>\n    </tr>\n    <tr>\n      <th>3</th>\n      <td>mutation decreasing rate(MI:1130)</td>\n      <td>P63000</td>\n      <td>Q61L</td>\n      <td>Q14155-3</td>\n      <td>2vrwA</td>\n      <td>2vrwB</td>\n      <td>2vrw</td>\n      <td>A</td>\n      <td>2vrw</td>\n    </tr>\n    <tr>\n      <th>4</th>\n      <td>mutation decreasing rate(MI:1130)</td>\n      <td>P63000</td>\n      <td>Q61L</td>\n      <td>Q14155-5</td>\n      <td>2vrwA</td>\n      <td>2vrwB</td>\n      <td>2vrw</td>\n      <td>A</td>\n      <td>2vrw</td>\n    </tr>\n  </tbody>\n</table>\n</div>"
     },
     "execution_count": 3,
     "metadata": {},
     "output_type": "execute_result"
    }
   ],
   "source": [
    "# Filter the data to keep following columns: Mutation_Effect_Label, uniprot_id, mutation, interactor_uniprot_id, template_cath_id, interactor_template_cath_id\n",
    "data_filtered = data[['Mutation_Effect_Label', 'UniProt_ID', 'Mutation', 'Interactor_UniProt_ID', 'Template_cath_id', 'Interactor_template_cath_id']].copy()\n",
    "\n",
    "print(data_filtered.shape)\n",
    "\n",
    "# Template_cath_id_pdb is the column that contains the template_cath_id's first 4 characters\n",
    "data_filtered = data_filtered.assign(Template_cath_id_pdb = data_filtered.Template_cath_id.str[0:4])\n",
    "\n",
    "# Chain_id is the column that contains the last character of the template_cath_id\n",
    "data_filtered = data_filtered.assign(Chain_id = data_filtered.Template_cath_id.str[-1])\n",
    "\n",
    "# Do the samething for interactor_template_cath_id as well\n",
    "data_filtered = data_filtered.assign(Interactor_template_cath_id_pdb = data_filtered.Interactor_template_cath_id.str[0:4])\n",
    "\n",
    "# display the first 5 rows of the filtered data\n",
    "data_filtered.head()"
   ],
   "metadata": {
    "collapsed": false,
    "pycharm": {
     "name": "#%%\n"
    }
   }
  },
  {
   "cell_type": "code",
   "execution_count": 4,
   "metadata": {
    "pycharm": {
     "name": "#%%\n"
    }
   },
   "outputs": [
    {
     "data": {
      "text/plain": "True"
     },
     "execution_count": 4,
     "metadata": {},
     "output_type": "execute_result"
    }
   ],
   "source": [
    "# check if Template_cath_id_pdb and Interactor_template_cath_id_pdb identical\n",
    "data_filtered.Template_cath_id_pdb.equals(data_filtered.Interactor_template_cath_id_pdb)"
   ]
  },
  {
   "cell_type": "code",
   "execution_count": 5,
   "metadata": {
    "pycharm": {
     "name": "#%%\n"
    }
   },
   "outputs": [
    {
     "data": {
      "text/plain": "array(['mutation decreasing rate(MI:1130)',\n       'mutation decreasing(MI:0119)', 'mutation disrupting(MI:0573)',\n       'mutation disrupting strength(MI:1128)',\n       'mutation with no effect(MI:2226)', 'disrupting',\n       'mutation decreasing strength(MI:1133)',\n       'mutation increasing(MI:0382)',\n       'mutation increasing strength(MI:1132)',\n       'mutation disrupting rate(MI:1129)',\n       'mutation increasing rate(MI:1131)', 'mutation causing(MI:2227)'],\n      dtype=object)"
     },
     "execution_count": 5,
     "metadata": {},
     "output_type": "execute_result"
    }
   ],
   "source": [
    "data_filtered_copy = data_filtered.copy()\n",
    "\n",
    "# get the unique values of Mutation_Effect_Label\n",
    "data_filtered_copy['Mutation_Effect_Label'].unique()"
   ]
  },
  {
   "cell_type": "code",
   "execution_count": 6,
   "outputs": [],
   "source": [
    "from src.helpers.helpers_predator.preprocessing import mutation_effect_label_binner"
   ],
   "metadata": {
    "collapsed": false,
    "pycharm": {
     "name": "#%%\n"
    }
   }
  },
  {
   "cell_type": "code",
   "execution_count": 7,
   "outputs": [],
   "source": [
    "train_data = mutation_effect_label_binner(data_filtered_copy)"
   ],
   "metadata": {
    "collapsed": false,
    "pycharm": {
     "name": "#%%\n"
    }
   }
  },
  {
   "cell_type": "code",
   "execution_count": 8,
   "outputs": [
    {
     "data": {
      "text/plain": "    Mutation_Effect_Label UniProt_ID Mutation Interactor_UniProt_ID  \\\n0                       1     Q9BPZ3    F118A                P11940   \n1                       1     P01116     Y40C                P50749   \n2                       1     Q96QK1    F534D                Q9UBQ0   \n3                       1     Q96QK1    F534D              Q9UBQ0-2   \n4                       1   O43521-3     G66A                Q07812   \n..                    ...        ...      ...                   ...   \n735                     1     P84243     Q94A              Q9UER7-3   \n736                     1     Q96QK1    L589D                Q9UBQ0   \n737                     1     Q96QK1    L589D              Q9UBQ0-2   \n738                     1     P23297     F72L                P25815   \n739                     1     Q15836     L46P                O43752   \n\n    Template_cath_id Interactor_template_cath_id Template_cath_id_pdb  \\\n0              1jgnB                       1jgnA                 1jgn   \n1              3ddcA                       3ddcB                 3ddc   \n2              2r17C                       2r17A                 2r17   \n3              2r17C                       2r17A                 2r17   \n4              3fdlB                       3fdlA                 3fdl   \n..               ...                         ...                  ...   \n735            4hgaB                       4hgaA                 4hga   \n736            2r17C                       2r17A                 2r17   \n737            2r17C                       2r17A                 2r17   \n738            2y5iA                       2y5iB                 2y5i   \n739            2npsA                       2npsD                 2nps   \n\n    Chain_id Interactor_template_cath_id_pdb  \n0          B                            1jgn  \n1          A                            3ddc  \n2          C                            2r17  \n3          C                            2r17  \n4          B                            3fdl  \n..       ...                             ...  \n735        B                            4hga  \n736        C                            2r17  \n737        C                            2r17  \n738        A                            2y5i  \n739        A                            2nps  \n\n[740 rows x 9 columns]",
      "text/html": "<div>\n<style scoped>\n    .dataframe tbody tr th:only-of-type {\n        vertical-align: middle;\n    }\n\n    .dataframe tbody tr th {\n        vertical-align: top;\n    }\n\n    .dataframe thead th {\n        text-align: right;\n    }\n</style>\n<table border=\"1\" class=\"dataframe\">\n  <thead>\n    <tr style=\"text-align: right;\">\n      <th></th>\n      <th>Mutation_Effect_Label</th>\n      <th>UniProt_ID</th>\n      <th>Mutation</th>\n      <th>Interactor_UniProt_ID</th>\n      <th>Template_cath_id</th>\n      <th>Interactor_template_cath_id</th>\n      <th>Template_cath_id_pdb</th>\n      <th>Chain_id</th>\n      <th>Interactor_template_cath_id_pdb</th>\n    </tr>\n  </thead>\n  <tbody>\n    <tr>\n      <th>0</th>\n      <td>1</td>\n      <td>Q9BPZ3</td>\n      <td>F118A</td>\n      <td>P11940</td>\n      <td>1jgnB</td>\n      <td>1jgnA</td>\n      <td>1jgn</td>\n      <td>B</td>\n      <td>1jgn</td>\n    </tr>\n    <tr>\n      <th>1</th>\n      <td>1</td>\n      <td>P01116</td>\n      <td>Y40C</td>\n      <td>P50749</td>\n      <td>3ddcA</td>\n      <td>3ddcB</td>\n      <td>3ddc</td>\n      <td>A</td>\n      <td>3ddc</td>\n    </tr>\n    <tr>\n      <th>2</th>\n      <td>1</td>\n      <td>Q96QK1</td>\n      <td>F534D</td>\n      <td>Q9UBQ0</td>\n      <td>2r17C</td>\n      <td>2r17A</td>\n      <td>2r17</td>\n      <td>C</td>\n      <td>2r17</td>\n    </tr>\n    <tr>\n      <th>3</th>\n      <td>1</td>\n      <td>Q96QK1</td>\n      <td>F534D</td>\n      <td>Q9UBQ0-2</td>\n      <td>2r17C</td>\n      <td>2r17A</td>\n      <td>2r17</td>\n      <td>C</td>\n      <td>2r17</td>\n    </tr>\n    <tr>\n      <th>4</th>\n      <td>1</td>\n      <td>O43521-3</td>\n      <td>G66A</td>\n      <td>Q07812</td>\n      <td>3fdlB</td>\n      <td>3fdlA</td>\n      <td>3fdl</td>\n      <td>B</td>\n      <td>3fdl</td>\n    </tr>\n    <tr>\n      <th>...</th>\n      <td>...</td>\n      <td>...</td>\n      <td>...</td>\n      <td>...</td>\n      <td>...</td>\n      <td>...</td>\n      <td>...</td>\n      <td>...</td>\n      <td>...</td>\n    </tr>\n    <tr>\n      <th>735</th>\n      <td>1</td>\n      <td>P84243</td>\n      <td>Q94A</td>\n      <td>Q9UER7-3</td>\n      <td>4hgaB</td>\n      <td>4hgaA</td>\n      <td>4hga</td>\n      <td>B</td>\n      <td>4hga</td>\n    </tr>\n    <tr>\n      <th>736</th>\n      <td>1</td>\n      <td>Q96QK1</td>\n      <td>L589D</td>\n      <td>Q9UBQ0</td>\n      <td>2r17C</td>\n      <td>2r17A</td>\n      <td>2r17</td>\n      <td>C</td>\n      <td>2r17</td>\n    </tr>\n    <tr>\n      <th>737</th>\n      <td>1</td>\n      <td>Q96QK1</td>\n      <td>L589D</td>\n      <td>Q9UBQ0-2</td>\n      <td>2r17C</td>\n      <td>2r17A</td>\n      <td>2r17</td>\n      <td>C</td>\n      <td>2r17</td>\n    </tr>\n    <tr>\n      <th>738</th>\n      <td>1</td>\n      <td>P23297</td>\n      <td>F72L</td>\n      <td>P25815</td>\n      <td>2y5iA</td>\n      <td>2y5iB</td>\n      <td>2y5i</td>\n      <td>A</td>\n      <td>2y5i</td>\n    </tr>\n    <tr>\n      <th>739</th>\n      <td>1</td>\n      <td>Q15836</td>\n      <td>L46P</td>\n      <td>O43752</td>\n      <td>2npsA</td>\n      <td>2npsD</td>\n      <td>2nps</td>\n      <td>A</td>\n      <td>2nps</td>\n    </tr>\n  </tbody>\n</table>\n<p>740 rows × 9 columns</p>\n</div>"
     },
     "execution_count": 8,
     "metadata": {},
     "output_type": "execute_result"
    }
   ],
   "source": [
    "train_data"
   ],
   "metadata": {
    "collapsed": false,
    "pycharm": {
     "name": "#%%\n"
    }
   }
  },
  {
   "cell_type": "code",
   "execution_count": 9,
   "metadata": {
    "pycharm": {
     "name": "#%%\n"
    }
   },
   "outputs": [
    {
     "name": "stdout",
     "output_type": "stream",
     "text": [
      "Size of train_data: (740, 9)\n"
     ]
    },
    {
     "data": {
      "text/plain": "  Mutation_Effect_Label UniProt_ID Mutation Interactor_UniProt_ID  \\\n0                     1     Q9BPZ3    F118A                P11940   \n1                     1     P01116     Y40C                P50749   \n2                     1     Q96QK1    F534D                Q9UBQ0   \n3                     1     Q96QK1    F534D              Q9UBQ0-2   \n4                     1   O43521-3     G66A                Q07812   \n\n  Template_cath_id Interactor_template_cath_id Template_cath_id_pdb Chain_id  \\\n0            1jgnB                       1jgnA                 1jgn        B   \n1            3ddcA                       3ddcB                 3ddc        A   \n2            2r17C                       2r17A                 2r17        C   \n3            2r17C                       2r17A                 2r17        C   \n4            3fdlB                       3fdlA                 3fdl        B   \n\n  Interactor_template_cath_id_pdb  \n0                            1jgn  \n1                            3ddc  \n2                            2r17  \n3                            2r17  \n4                            3fdl  ",
      "text/html": "<div>\n<style scoped>\n    .dataframe tbody tr th:only-of-type {\n        vertical-align: middle;\n    }\n\n    .dataframe tbody tr th {\n        vertical-align: top;\n    }\n\n    .dataframe thead th {\n        text-align: right;\n    }\n</style>\n<table border=\"1\" class=\"dataframe\">\n  <thead>\n    <tr style=\"text-align: right;\">\n      <th></th>\n      <th>Mutation_Effect_Label</th>\n      <th>UniProt_ID</th>\n      <th>Mutation</th>\n      <th>Interactor_UniProt_ID</th>\n      <th>Template_cath_id</th>\n      <th>Interactor_template_cath_id</th>\n      <th>Template_cath_id_pdb</th>\n      <th>Chain_id</th>\n      <th>Interactor_template_cath_id_pdb</th>\n    </tr>\n  </thead>\n  <tbody>\n    <tr>\n      <th>0</th>\n      <td>1</td>\n      <td>Q9BPZ3</td>\n      <td>F118A</td>\n      <td>P11940</td>\n      <td>1jgnB</td>\n      <td>1jgnA</td>\n      <td>1jgn</td>\n      <td>B</td>\n      <td>1jgn</td>\n    </tr>\n    <tr>\n      <th>1</th>\n      <td>1</td>\n      <td>P01116</td>\n      <td>Y40C</td>\n      <td>P50749</td>\n      <td>3ddcA</td>\n      <td>3ddcB</td>\n      <td>3ddc</td>\n      <td>A</td>\n      <td>3ddc</td>\n    </tr>\n    <tr>\n      <th>2</th>\n      <td>1</td>\n      <td>Q96QK1</td>\n      <td>F534D</td>\n      <td>Q9UBQ0</td>\n      <td>2r17C</td>\n      <td>2r17A</td>\n      <td>2r17</td>\n      <td>C</td>\n      <td>2r17</td>\n    </tr>\n    <tr>\n      <th>3</th>\n      <td>1</td>\n      <td>Q96QK1</td>\n      <td>F534D</td>\n      <td>Q9UBQ0-2</td>\n      <td>2r17C</td>\n      <td>2r17A</td>\n      <td>2r17</td>\n      <td>C</td>\n      <td>2r17</td>\n    </tr>\n    <tr>\n      <th>4</th>\n      <td>1</td>\n      <td>O43521-3</td>\n      <td>G66A</td>\n      <td>Q07812</td>\n      <td>3fdlB</td>\n      <td>3fdlA</td>\n      <td>3fdl</td>\n      <td>B</td>\n      <td>3fdl</td>\n    </tr>\n  </tbody>\n</table>\n</div>"
     },
     "execution_count": 9,
     "metadata": {},
     "output_type": "execute_result"
    }
   ],
   "source": [
    "print(f\"Size of train_data: {train_data.shape}\")\n",
    "\n",
    "train_data.head()"
   ]
  },
  {
   "cell_type": "code",
   "execution_count": 10,
   "outputs": [
    {
     "name": "stdout",
     "output_type": "stream",
     "text": [
      "Length of unique_pdb_ids: 157\n",
      "['1jgn', '3ddc', '2r17', '3fdl', '2nl9', '3rep', '1gl2', '1bi7', '2wjv', '3lhr']\n"
     ]
    }
   ],
   "source": [
    "# get the unique values of Template_cath_id_pdb and put it in a list\n",
    "unique_pdb_ids = train_data.Template_cath_id_pdb.unique().tolist()\n",
    "\n",
    "# print the length of the list\n",
    "print(f\"Length of unique_pdb_ids: {len(unique_pdb_ids)}\")\n",
    "\n",
    "# print the first 10 values of the list\n",
    "print(unique_pdb_ids[0:10])"
   ],
   "metadata": {
    "collapsed": false,
    "pycharm": {
     "name": "#%%\n"
    }
   }
  },
  {
   "cell_type": "markdown",
   "metadata": {
    "pycharm": {
     "name": "#%% md\n"
    }
   },
   "source": [
    "## Downloading the PDB files"
   ]
  },
  {
   "cell_type": "code",
   "execution_count": 12,
   "metadata": {
    "pycharm": {
     "name": "#%%\n"
    }
   },
   "outputs": [],
   "source": [
    "from utils import download_pdb"
   ]
  },
  {
   "cell_type": "code",
   "execution_count": 13,
   "metadata": {
    "pycharm": {
     "name": "#%%\n"
    }
   },
   "outputs": [
    {
     "name": "stdout",
     "output_type": "stream",
     "text": [
      "Downloading 1jgn...\n",
      "Downloading 3ddc...\n",
      "Downloading 2r17...\n",
      "Downloading 3fdl...\n",
      "Downloading 2nl9...\n",
      "Downloading 3rep...\n",
      "Downloading 1gl2...\n",
      "Downloading 1bi7...\n",
      "Downloading 2wjv...\n",
      "Downloading 3lhr...\n",
      "Downloading 4dxr...\n",
      "Downloading 3hct...\n",
      "Downloading 1kx5...\n",
      "Downloading 3ex7...\n",
      "Downloading 2qyf...\n",
      "Downloading 1p1z...\n",
      "Downloading 4g0n...\n",
      "Downloading 2zu6...\n",
      "Downloading 4idt...\n",
      "Downloading 1blx...\n",
      "Downloading 3mqp...\n",
      "Downloading 2b4d...\n",
      "Downloading 3su8...\n",
      "Downloading 2qag...\n",
      "Downloading 3ny5...\n",
      "Downloading 2d5r...\n",
      "Downloading 2y5i...\n",
      "Downloading 4f8e...\n",
      "Downloading 4c9b...\n",
      "Downloading 2ptt...\n",
      "Downloading 1zy3...\n",
      "Downloading 4h6j...\n",
      "Downloading 1jsu...\n",
      "Downloading 3t6g...\n",
      "Downloading 3ghg...\n",
      "Downloading 1p4l...\n",
      "Downloading 2j0s...\n",
      "Downloading 2wtk...\n",
      "Downloading 3gni...\n",
      "Downloading 4aj2...\n",
      "Downloading 4h58...\n",
      "Downloading 2leh...\n",
      "Downloading 1p8d...\n",
      "Downloading 2dyp...\n",
      "Downloading 4i21...\n",
      "Downloading 4aez...\n",
      "Downloading 3ojv...\n",
      "Downloading 4f9a...\n",
      "Downloading 3nc0...\n",
      "Downloading 4iop...\n",
      "Downloading 4bd2...\n",
      "Downloading 1rk8...\n",
      "Downloading 4md4...\n",
      "Downloading 2nps...\n",
      "Downloading 3hd7...\n",
      "Downloading 1sfc...\n",
      "Downloading 3tnu...\n",
      "Downloading 1nw9...\n",
      "Downloading 3fey...\n",
      "Downloading 2nn6...\n",
      "Downloading 3sop...\n",
      "Downloading 2k8f...\n",
      "Downloading 2pon...\n",
      "Downloading 2ot3...\n",
      "Downloading 1yhn...\n",
      "Downloading 2eho...\n",
      "Downloading 4hmy...\n",
      "Downloading 4bbn...\n",
      "Downloading 2uyz...\n",
      "Downloading 4h3k...\n",
      "Downloading 4i5b...\n",
      "Downloading 1r8s...\n",
      "Downloading 1h7s...\n",
      "Downloading 2hye...\n",
      "Downloading 3hqr...\n",
      "Downloading 1iil...\n",
      "Downloading 1cvs...\n",
      "Downloading 2d5g...\n",
      "Downloading 3qbv...\n",
      "Downloading 1pzn...\n",
      "Downloading 3zu7...\n",
      "Downloading 3h3g...\n",
      "Downloading 3lcp...\n",
      "Downloading 1nql...\n",
      "Downloading 3ltf...\n",
      "Downloading 1xdk...\n",
      "Downloading 3udw...\n",
      "Downloading 2zet...\n",
      "Downloading 3n3e...\n",
      "Downloading 2gd4...\n",
      "Downloading 3tsr...\n",
      "Downloading 3q2s...\n",
      "Downloading 3p5t...\n",
      "Downloading 3v4m...\n",
      "Downloading 4hxi...\n",
      "Downloading 1y96...\n",
      "Downloading 3tj3...\n",
      "Downloading 3f1p...\n",
      "Downloading 1khu...\n",
      "Downloading 4a1w...\n",
      "Downloading 3brw...\n",
      "Downloading 2ypa...\n",
      "Downloading 3zlr...\n",
      "Downloading 3h7h...\n",
      "Downloading 3k1r...\n",
      "Downloading 2y4i...\n",
      "Downloading 2y6w...\n",
      "Downloading 2hl3...\n",
      "Downloading 2j3t...\n",
      "Downloading 4bx9...\n",
      "Downloading 1dev...\n",
      "Downloading 4af3...\n",
      "Downloading 4ko8...\n",
      "Downloading 3eiq...\n",
      "Downloading 3am7...\n",
      "Downloading 1n0w...\n",
      "Downloading 1kdx...\n",
      "Downloading 2v55...\n",
      "Downloading 3c5w...\n",
      "Downloading 4hga...\n",
      "Downloading 4ap4...\n",
      "Downloading 2i32...\n",
      "Downloading 1uel...\n",
      "Downloading 1pq1...\n",
      "Downloading 2vje...\n",
      "Downloading 4gl9...\n",
      "Downloading 2a07...\n",
      "Downloading 1zoy...\n",
      "Downloading 3c4m...\n",
      "Downloading 1ilp...\n",
      "Downloading 3ggc...\n",
      "Downloading 3f7p...\n",
      "Downloading 1jh4...\n",
      "Downloading 3tdu...\n",
      "Downloading 3anq...\n",
      "Downloading 2nte...\n",
      "Downloading 1fos...\n",
      "Downloading 1d1z...\n",
      "Downloading 1jkg...\n",
      "Downloading 2ngr...\n",
      "Downloading 4h9n...\n",
      "Downloading 4ajy...\n",
      "Downloading 4ccg...\n",
      "Downloading 4bd8...\n",
      "Downloading 4bd7...\n",
      "Downloading 4hi8...\n",
      "Downloading 1fv1...\n",
      "Downloading 4eo5...\n",
      "Downloading 3qbq...\n",
      "Downloading 3nw0...\n",
      "Downloading 1ksh...\n",
      "Downloading 3t97...\n",
      "Downloading 1j1e...\n",
      "Downloading 3u7u...\n",
      "Downloading 4ii2...\n",
      "Downloading 1jm7...\n",
      "Downloading 1txq...\n"
     ]
    }
   ],
   "source": [
    "# download the pdb files \n",
    "for pdb_id in unique_pdb_ids:\n",
    "    download_pdb(pdb_id)"
   ]
  },
  {
   "cell_type": "code",
   "execution_count": 14,
   "metadata": {
    "pycharm": {
     "name": "#%%\n"
    }
   },
   "outputs": [
    {
     "name": "stdout",
     "output_type": "stream",
     "text": [
      "Downloading 1a22...\n"
     ]
    }
   ],
   "source": [
    "# download the 1a22 pdb file to compare it with original pdb file\n",
    "download_pdb(\"1a22\")"
   ]
  },
  {
   "cell_type": "code",
   "execution_count": 17,
   "metadata": {
    "pycharm": {
     "name": "#%%\n"
    }
   },
   "outputs": [
    {
     "name": "stdout",
     "output_type": "stream",
     "text": [
      "The two files are different\n"
     ]
    }
   ],
   "source": [
    "# read and compare two files: 1a22.pdb and 1a22_new.pdb\n",
    "with open(\"1a22.pdb\", \"r\") as f:\n",
    "    pdb_file_1 = f.read()\n",
    "    \n",
    "with open(\"1a22_original.pdb\", \"r\") as f:\n",
    "    pdb_file_2 = f.read()\n",
    "\n",
    "\n",
    "# compare the two files\n",
    "if pdb_file_1 == pdb_file_2:\n",
    "    print(\"The two files are identical\")\n",
    "else:\n",
    "    print(\"The two files are different\")"
   ]
  },
  {
   "cell_type": "code",
   "execution_count": null,
   "metadata": {
    "pycharm": {
     "name": "#%%\n"
    }
   },
   "outputs": [],
   "source": []
  },
  {
   "cell_type": "markdown",
   "metadata": {
    "pycharm": {
     "name": "#%% md\n"
    }
   },
   "source": [
    "## Prepare the data for running the SAAMBE"
   ]
  },
  {
   "cell_type": "code",
   "execution_count": 18,
   "metadata": {
    "pycharm": {
     "name": "#%%\n"
    }
   },
   "outputs": [
    {
     "data": {
      "text/plain": "  Mutation_Effect_Label UniProt_ID Mutation Interactor_UniProt_ID  \\\n0                     1     Q9BPZ3    F118A                P11940   \n1                     1     P01116     Y40C                P50749   \n2                     1     Q96QK1    F534D                Q9UBQ0   \n3                     1     Q96QK1    F534D              Q9UBQ0-2   \n4                     1   O43521-3     G66A                Q07812   \n\n  Template_cath_id Interactor_template_cath_id Template_cath_id_pdb Chain_id  \\\n0            1jgnB                       1jgnA                 1jgn        B   \n1            3ddcA                       3ddcB                 3ddc        A   \n2            2r17C                       2r17A                 2r17        C   \n3            2r17C                       2r17A                 2r17        C   \n4            3fdlB                       3fdlA                 3fdl        B   \n\n  Interactor_template_cath_id_pdb  \n0                            1jgn  \n1                            3ddc  \n2                            2r17  \n3                            2r17  \n4                            3fdl  ",
      "text/html": "<div>\n<style scoped>\n    .dataframe tbody tr th:only-of-type {\n        vertical-align: middle;\n    }\n\n    .dataframe tbody tr th {\n        vertical-align: top;\n    }\n\n    .dataframe thead th {\n        text-align: right;\n    }\n</style>\n<table border=\"1\" class=\"dataframe\">\n  <thead>\n    <tr style=\"text-align: right;\">\n      <th></th>\n      <th>Mutation_Effect_Label</th>\n      <th>UniProt_ID</th>\n      <th>Mutation</th>\n      <th>Interactor_UniProt_ID</th>\n      <th>Template_cath_id</th>\n      <th>Interactor_template_cath_id</th>\n      <th>Template_cath_id_pdb</th>\n      <th>Chain_id</th>\n      <th>Interactor_template_cath_id_pdb</th>\n    </tr>\n  </thead>\n  <tbody>\n    <tr>\n      <th>0</th>\n      <td>1</td>\n      <td>Q9BPZ3</td>\n      <td>F118A</td>\n      <td>P11940</td>\n      <td>1jgnB</td>\n      <td>1jgnA</td>\n      <td>1jgn</td>\n      <td>B</td>\n      <td>1jgn</td>\n    </tr>\n    <tr>\n      <th>1</th>\n      <td>1</td>\n      <td>P01116</td>\n      <td>Y40C</td>\n      <td>P50749</td>\n      <td>3ddcA</td>\n      <td>3ddcB</td>\n      <td>3ddc</td>\n      <td>A</td>\n      <td>3ddc</td>\n    </tr>\n    <tr>\n      <th>2</th>\n      <td>1</td>\n      <td>Q96QK1</td>\n      <td>F534D</td>\n      <td>Q9UBQ0</td>\n      <td>2r17C</td>\n      <td>2r17A</td>\n      <td>2r17</td>\n      <td>C</td>\n      <td>2r17</td>\n    </tr>\n    <tr>\n      <th>3</th>\n      <td>1</td>\n      <td>Q96QK1</td>\n      <td>F534D</td>\n      <td>Q9UBQ0-2</td>\n      <td>2r17C</td>\n      <td>2r17A</td>\n      <td>2r17</td>\n      <td>C</td>\n      <td>2r17</td>\n    </tr>\n    <tr>\n      <th>4</th>\n      <td>1</td>\n      <td>O43521-3</td>\n      <td>G66A</td>\n      <td>Q07812</td>\n      <td>3fdlB</td>\n      <td>3fdlA</td>\n      <td>3fdl</td>\n      <td>B</td>\n      <td>3fdl</td>\n    </tr>\n  </tbody>\n</table>\n</div>"
     },
     "execution_count": 18,
     "metadata": {},
     "output_type": "execute_result"
    }
   ],
   "source": [
    "train_data.head()"
   ]
  },
  {
   "cell_type": "code",
   "execution_count": 19,
   "metadata": {
    "pycharm": {
     "name": "#%%\n"
    }
   },
   "outputs": [],
   "source": [
    "train_data.to_csv(\"train_data_with_PDB.csv\", index=False)"
   ]
  },
  {
   "cell_type": "code",
   "execution_count": 20,
   "metadata": {
    "pycharm": {
     "name": "#%%\n"
    }
   },
   "outputs": [
    {
     "data": {
      "text/plain": "'aaaaaaa'"
     },
     "execution_count": 20,
     "metadata": {},
     "output_type": "execute_result"
    }
   ],
   "source": [
    "# create a list of strings of size 3\n",
    "L = [\"aaaa\", \"aa\", \"aaaaaaa\"]\n",
    "\n",
    "# write a function that returns the longest element of the list\n",
    "def longest_string(L):\n",
    "    # initialize the longest string\n",
    "    longest_string = \"\"\n",
    "    \n",
    "    # loop through the list\n",
    "    for string in L:\n",
    "        # if the length of the current string is greater than the length of the longest string\n",
    "        if len(string) > len(longest_string):\n",
    "            # set the longest string to the current string\n",
    "            longest_string = string\n",
    "            \n",
    "    # return the longest string\n",
    "    return longest_string\n",
    "\n",
    "\n",
    "# test the function\n",
    "longest_string(L)"
   ]
  },
  {
   "cell_type": "code",
   "execution_count": 21,
   "metadata": {
    "pycharm": {
     "name": "#%%\n"
    }
   },
   "outputs": [
    {
     "data": {
      "text/plain": "3332"
     },
     "execution_count": 21,
     "metadata": {},
     "output_type": "execute_result"
    }
   ],
   "source": [
    "sequence = \"GAGGAUGGCAUAGUAAAAGCUAUUACAGGGAGGAGUGUUGAGACCAGAUGUCAUCUACUGUCUCUUGGGUCAGCAGCACGCAUGACAGGACCAAGGAAUGGCAGCAACACGCAGAAUCUUAGCUAGCGCUCUCCAGCAGUCUUCUCUAUUAGGGAAUGUCUAAUUGGCAUGAGAUGUUCAAAUCAGACCUGGGAUUGGACAACUGUAAAGUAUGACUGGAUCGUCAGGGCGUCGCUUGGACUCUGUAAUCUAAUGUUUAGGGCAUAUUGAAGUUGAGGUGCUGCCUUCCAGAACUUAAACAUGUAGCUCACUUUCCCCCAUCUUUUUGACAAAUGACCAGUAGUUAAUUUCUAAGGUUUUUCUUAUCAAGAGAAGAAUACUUAAAAACUCUUCCUUGUUUGCAAAAGAAACUUCUGAGGACUGAGUCUUAACUAUGCACACAAUGUCACCAGACAUCUUGAAACUAUUCCUCUUAGUAGGAACUGUUUGUUUUUAACUCUUGGAAUGGUCGGGAGUAAUAUUUCAAUAAUUAAAAUUCUUCCUGGUUAUUGGGACUAUAUUAAUAGAGCUUUUCGGAAUGAAAUUUAUGUUACUGUCAUGUUUAAAGUACCACAAUGGUUUCUAAACAGCAUUCACCUUGGAGAGUUCUACAGUACGAUUCCUGCUCUCAUUGCUUUACGCUUACGGUUGGAAGUUGUAUUUGUCGGGGUUAACCUUGUUUGUGCUGAUUACCAAAUUACUAGAUGAAUACUGAUGUAGUGUGUUAAACUGCUUCUUGGACACACGCAGGAUAGCCGUCAAUGAGAUGCAGAUGCUAAAUUGAGAACCAGUGGCUUGCUGCUACAGGUCUACUAAGUUGACCACAUGGAAUCUUGCCUGUUUGUCUCGGUCAUGGGGAGGUUUUGAAUAAGAUGCCCCUUGUUUUCCAUCUUCGUGGCCUUUUUUGUUAGGAGACAUCUAAAAGUGUAUUAACAGUGCAUGCUUUUCCUUUGUAAAUGUGGUGCCAAAUCCCUGUUUGCCAUCGUUUUUACUGUAGCAAUGUUAACUGUAGUAGUAGUCCUUACUAUAUUCUUUUUCUAAAACUUGCAUUUGGGGACUUUUUCCACCUUGUCGUGUACAGAUUUGAAUCUGUUACAGUUGGCAGCAGUAUUAAAACAAACGGUGAGUGAAGAGCCUACGGUUGCUCCGUGCAUAACUAGUUCUUUCUGGGGAUCCUGUCUGUCUCUUUUUUCCCCUGACCUCUGUCUGAGAGUGGAUUUAUUAGGUAGAAAAGUGUCUUUGAAAGUCUAGCUCCUUGAUGUAAUAGUAUUACCAAGUCAGGACUGAGGGCUUUAUGUGCAGUCCGUGUACAAGAGGAAAGUCACAAUCCGGCUUUCGGAUGUGUACAGUUUGCUUGUGCUGAGAGCUACAGUCCUUUUGUACAGUAUAUAUCAAAUGUCAUUAAACACUGAGUGGACACUGAGGGACAGCAAACAAUGCAUUUGGAGCAUUUCAGAUCAGUAGUUUGAUCAGUGCCUUUUGAGGUCCAGUCGCUGUGGCUCGGAUCCAUUCAUCUCUAUGUUACCUCCUACUCGUUUGAAAGAAGGUUGAUGGUCAGAACUGCUUCAGAAGCAAGCCACGGUGAUCAGUGCCUUUGUUGGCAGCUUUUACAAUUUUUAAUUCUUACGUGUUUUGCAAAAUCAUUAUUAUGCAGACAGUAUAACUGUUAUCUUACAAAUAUUUCGUUAGGGCUAGGAAAAUGUCACUUGAAAGAAAGAAAAGUAUUGAUUUCAAUCGGCGAUUGACUCAAUUCCCACAAUGUAGGGGCUAAUAAGUCUUACUCUGAAUUUAUCUUUCCUUUGUUGUAUUCUGUAAUAUAAGAACAUCUGGUGAAAUAUUGUUUUCAUAAUUUUUCUAUACUUUGGGUUUAAUAAAAUGGUGUUGAUAAUCUAAAAUAUUAGAUAAUCCAAAUUUAAUUUUACUUCAGAAUGCAUUUUGUAUUUUCAUUUGAAUCUGUCUAUUUUUUAAACCUUUCUGUUAAUUAAAAAUAGAAGUUCUUCACUUCUUUGUCUCUGCACACCACUUUUAUUUGUCUUGUUUUUACAUGAAAUCAUUCUUACCUUACCAUCCAGGUUCCUUCCUUUAGAAGUCCCCCAAAGUCUGAAGACGAUGUUUCUUUCCUGGUGGGCCUUUAACCUGUAAGGUCUAAAACGGUUUUCUUUAGGUAGACUUUCACAUCACUAAUGUUUAUUUUGAAGAACAUUUCUUAGGCAAAAUCAAAAUGUGGGGGGAUUAAACAUCGUAUUAGCCUGGAGGGGGACAAAAAGAUUGAUACUUAAAGAAGCCAAAAGUUAGGUGUUUUCUCUGGAAAAUGCUGAUGUUUCAUGAUGGAUAUUAUUCAUAUUGAGAUGCCAGAUCUUUGGACCACCCAGAAGUCAGCUAAGAAAAUUAACGUUUAGUUAAUAAAAAACAAUAACUAGACCUUAGUUGGGAGAAUGGCAACAGUAGUCUUUGUUGGUGACAGCUCCAUUUUGUUCUGAGUGAAAGUAUGGACAGAUAGGAGUUCUUCUAAUGGACUCCCCUUUCCUUAUCAGCUUGUACUACAAGCCUUCUGCCAUGAAGUUCCAGAAACUAUUACAGGUGUUUGUCAGUGGAUCUUGUCACAAUAUUUUCAUCUUGGAUAAUUUAAGGCGCUGAAAUCAUACAAUCAGUGGACCAAUUUUAAAAAGUCUUAAGUUCUCAUAUAGAUCACUAUACAUAUAUUUUAGGCUCUUUAACCAAAAAUAGCUACUGGCUUUUCUGAUCAAUUCCCUCAACGCCUGCCCCUUCCCUGGCCCCUGCUGCUGUUUGGUGUUAGGCAGCGCUUCUUUGGCCUGACUUCUUGUGUUCAGAUCUCUAGCCAUUCGUUUAGCACUUGUUGCAGGUUCCUCGGUGGAUUGAAGGCAAACAGAAAGUCUCAUUCUGGUUAAAAACCUUCCUUUCCCUCUUCCAGAUGGUAAGGACGUUGAUCCGCGUCCUCUAGUCUAAACUAGUCUAAACUAGUACUCUGGUUGGUGAGUGUCGGCACCUGGGAACCUUAGAGUUCGUAUAUUCUGCUGACUGUAAGGAAACUGUGAUUUUAGAUUAGCUCUGCUGUCUGGUAACUGUUGUAUUCUUCCUCCAACUCCAUAGUCCAAACCAGAGACCUGAGCCCGAUCAGACAGCUCUUUAUGUGACUCUACGACCAUCAUGCAUUAUUGUAUUGUUCCCAGUAUGCACAAAAGACAGGACAUCUACAGGCUUGCUGUGGAAACUUGGAUUUUAUAUGAACUAUUAGGAAAUGAAAAUAAAGAUUUUUUUUUUUUAGAUGCUAA\"\n",
    "# the length of the sequence\n",
    "len(sequence)"
   ]
  },
  {
   "cell_type": "code",
   "execution_count": 22,
   "metadata": {
    "pycharm": {
     "name": "#%%\n"
    }
   },
   "outputs": [
    {
     "data": {
      "text/plain": "  Nucleotide  Count\n0          A    897\n1          C    625\n2          G    676\n3          U   1134",
      "text/html": "<div>\n<style scoped>\n    .dataframe tbody tr th:only-of-type {\n        vertical-align: middle;\n    }\n\n    .dataframe tbody tr th {\n        vertical-align: top;\n    }\n\n    .dataframe thead th {\n        text-align: right;\n    }\n</style>\n<table border=\"1\" class=\"dataframe\">\n  <thead>\n    <tr style=\"text-align: right;\">\n      <th></th>\n      <th>Nucleotide</th>\n      <th>Count</th>\n    </tr>\n  </thead>\n  <tbody>\n    <tr>\n      <th>0</th>\n      <td>A</td>\n      <td>897</td>\n    </tr>\n    <tr>\n      <th>1</th>\n      <td>C</td>\n      <td>625</td>\n    </tr>\n    <tr>\n      <th>2</th>\n      <td>G</td>\n      <td>676</td>\n    </tr>\n    <tr>\n      <th>3</th>\n      <td>U</td>\n      <td>1134</td>\n    </tr>\n  </tbody>\n</table>\n</div>"
     },
     "execution_count": 22,
     "metadata": {},
     "output_type": "execute_result"
    }
   ],
   "source": [
    "import pandas as pd\n",
    "\n",
    "# display the number of the occurrences of each nucleotide in RNA sequence \"sequence\" in a dataframe\n",
    "df = pd.DataFrame(\n",
    "    {\n",
    "        \"Nucleotide\": [\"A\", \"C\", \"G\", \"U\"],\n",
    "        \"Count\": [sequence.count(\"A\"), sequence.count(\"C\"), sequence.count(\"G\"), sequence.count(\"U\")]\n",
    "    }\n",
    ")\n",
    "df\n",
    "\n",
    "\n",
    "# pd.DataFrame({\"Nucleotide\": [\"A\", \"C\", \"G\", \"T\"], \"Count\": [sequence.count(\"A\"), sequence.count(\"C\"), sequence.count(\"G\"), sequence.count(\"T\")]})\n"
   ]
  },
  {
   "cell_type": "code",
   "execution_count": 23,
   "outputs": [
    {
     "data": {
      "text/plain": "<Figure size 432x288 with 1 Axes>",
      "image/png": "[encoded data removed]"
     },
     "metadata": {},
     "output_type": "display_data"
    }
   ],
   "source": [
    "df.plot(kind=\"bar\", x=\"Nucleotide\", y=\"Count\", rot=0, title=\"RNA sequence occurrences\", fontsize=12);"
   ],
   "metadata": {
    "collapsed": false,
    "pycharm": {
     "name": "#%%\n"
    }
   }
  },
  {
   "cell_type": "code",
   "execution_count": null,
   "metadata": {
    "pycharm": {
     "name": "#%%\n"
    }
   },
   "outputs": [],
   "source": []
  },
  {
   "cell_type": "code",
   "execution_count": 24,
   "metadata": {
    "pycharm": {
     "name": "#%%\n"
    }
   },
   "outputs": [
    {
     "data": {
      "text/plain": "['1jgn',\n '3ddc',\n '2r17',\n '3fdl',\n '2nl9',\n '3rep',\n '1gl2',\n '1bi7',\n '2wjv',\n '3lhr']"
     },
     "execution_count": 24,
     "metadata": {},
     "output_type": "execute_result"
    }
   ],
   "source": [
    "unique_pdb_ids[:10]"
   ]
  },
  {
   "cell_type": "code",
   "execution_count": null,
   "metadata": {
    "pycharm": {
     "name": "#%%\n"
    }
   },
   "outputs": [],
   "source": []
  },
  {
   "cell_type": "code",
   "execution_count": null,
   "metadata": {
    "pycharm": {
     "name": "#%%\n"
    }
   },
   "outputs": [],
   "source": []
  },
  {
   "cell_type": "code",
   "execution_count": null,
   "metadata": {
    "pycharm": {
     "name": "#%%\n"
    }
   },
   "outputs": [],
   "source": []
  },
  {
   "cell_type": "code",
   "execution_count": null,
   "metadata": {
    "pycharm": {
     "name": "#%%\n"
    }
   },
   "outputs": [],
   "source": []
  }
 ],
 "metadata": {
  "interpreter": {
   "hash": "24926d39acf6b917f2b3d78c5fc2139d5dd6ade39c9b2ac7dfb87a722734377f"
  },
  "kernelspec": {
   "name": "predator",
   "language": "python",
   "display_name": "Predator"
  },
  "language_info": {
   "codemirror_mode": {
    "name": "ipython",
    "version": 3
   },
   "file_extension": ".py",
   "mimetype": "text/x-python",
   "name": "python",
   "nbconvert_exporter": "python",
   "pygments_lexer": "ipython3",
   "version": "3.9.4"
  },
  "orig_nbformat": 4
 },
 "nbformat": 4,
 "nbformat_minor": 2
}