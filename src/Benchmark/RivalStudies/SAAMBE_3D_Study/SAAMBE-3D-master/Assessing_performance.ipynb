{
 "cells": [
  {
   "cell_type": "markdown",
   "metadata": {
    "pycharm": {
     "name": "#%% md\n"
    }
   },
   "source": [
    "# Assessing performance"
   ]
  },
  {
   "cell_type": "code",
   "execution_count": 1,
   "metadata": {
    "pycharm": {
     "name": "#%%\n"
    }
   },
   "outputs": [],
   "source": [
    "import pandas as pd\n",
    "\n",
    "from sklearn.metrics import (\n",
    "    accuracy_score,\n",
    "    balanced_accuracy_score,\n",
    "    f1_score,\n",
    "    matthews_corrcoef,\n",
    "    precision_score,\n",
    "    recall_score,\n",
    ")\n",
    "\n",
    "SAAMBE_3D_PREDICTION_DATA_PATH = \"SAAMBE_3D_predictions_2022-06-19.csv\"\n",
    "\n",
    "# Reflect changes in the modules immediately.\n",
    "%load_ext autoreload\n",
    "%autoreload 2"
   ]
  },
  {
   "cell_type": "code",
   "execution_count": 2,
   "outputs": [
    {
     "data": {
      "text/plain": "     Mutation_Effect_Label UniProt_ID Mutation Interactor_UniProt_ID  \\\n0                        1     Q9BPZ3    F118A                P11940   \n1                        1     P01116     Y40C                P50749   \n2                        1     Q96QK1    F534D                Q9UBQ0   \n3                        1     Q96QK1    F534D              Q9UBQ0-2   \n4                        1   O43521-3     G66A                Q07812   \n..                     ...        ...      ...                   ...   \n735                      1     P84243     Q94A              Q9UER7-3   \n736                      1     Q96QK1    L589D                Q9UBQ0   \n737                      1     Q96QK1    L589D              Q9UBQ0-2   \n738                      1     P23297     F72L                P25815   \n739                      1     Q15836     L46P                O43752   \n\n    Template_cath_id Interactor_template_cath_id Template_cath_id_pdb  \\\n0              1jgnB                       1jgnA                 1jgn   \n1              3ddcA                       3ddcB                 3ddc   \n2              2r17C                       2r17A                 2r17   \n3              2r17C                       2r17A                 2r17   \n4              3fdlB                       3fdlA                 3fdl   \n..               ...                         ...                  ...   \n735            4hgaB                       4hgaA                 4hga   \n736            2r17C                       2r17A                 2r17   \n737            2r17C                       2r17A                 2r17   \n738            2y5iA                       2y5iB                 2y5i   \n739            2npsA                       2npsD                 2nps   \n\n    Chain_id Interactor_template_cath_id_pdb  Prediction  \n0          B                            1jgn         NaN  \n1          A                            3ddc         0.0  \n2          C                            2r17         0.0  \n3          C                            2r17         0.0  \n4          B                            3fdl         NaN  \n..       ...                             ...         ...  \n735        B                            4hga         NaN  \n736        C                            2r17         0.0  \n737        C                            2r17         0.0  \n738        A                            2y5i         0.0  \n739        A                            2nps         NaN  \n\n[740 rows x 10 columns]",
      "text/html": "<div>\n<style scoped>\n    .dataframe tbody tr th:only-of-type {\n        vertical-align: middle;\n    }\n\n    .dataframe tbody tr th {\n        vertical-align: top;\n    }\n\n    .dataframe thead th {\n        text-align: right;\n    }\n</style>\n<table border=\"1\" class=\"dataframe\">\n  <thead>\n    <tr style=\"text-align: right;\">\n      <th></th>\n      <th>Mutation_Effect_Label</th>\n      <th>UniProt_ID</th>\n      <th>Mutation</th>\n      <th>Interactor_UniProt_ID</th>\n      <th>Template_cath_id</th>\n      <th>Interactor_template_cath_id</th>\n      <th>Template_cath_id_pdb</th>\n      <th>Chain_id</th>\n      <th>Interactor_template_cath_id_pdb</th>\n      <th>Prediction</th>\n    </tr>\n  </thead>\n  <tbody>\n    <tr>\n      <th>0</th>\n      <td>1</td>\n      <td>Q9BPZ3</td>\n      <td>F118A</td>\n      <td>P11940</td>\n      <td>1jgnB</td>\n      <td>1jgnA</td>\n      <td>1jgn</td>\n      <td>B</td>\n      <td>1jgn</td>\n      <td>NaN</td>\n    </tr>\n    <tr>\n      <th>1</th>\n      <td>1</td>\n      <td>P01116</td>\n      <td>Y40C</td>\n      <td>P50749</td>\n      <td>3ddcA</td>\n      <td>3ddcB</td>\n      <td>3ddc</td>\n      <td>A</td>\n      <td>3ddc</td>\n      <td>0.0</td>\n    </tr>\n    <tr>\n      <th>2</th>\n      <td>1</td>\n      <td>Q96QK1</td>\n      <td>F534D</td>\n      <td>Q9UBQ0</td>\n      <td>2r17C</td>\n      <td>2r17A</td>\n      <td>2r17</td>\n      <td>C</td>\n      <td>2r17</td>\n      <td>0.0</td>\n    </tr>\n    <tr>\n      <th>3</th>\n      <td>1</td>\n      <td>Q96QK1</td>\n      <td>F534D</td>\n      <td>Q9UBQ0-2</td>\n      <td>2r17C</td>\n      <td>2r17A</td>\n      <td>2r17</td>\n      <td>C</td>\n      <td>2r17</td>\n      <td>0.0</td>\n    </tr>\n    <tr>\n      <th>4</th>\n      <td>1</td>\n      <td>O43521-3</td>\n      <td>G66A</td>\n      <td>Q07812</td>\n      <td>3fdlB</td>\n      <td>3fdlA</td>\n      <td>3fdl</td>\n      <td>B</td>\n      <td>3fdl</td>\n      <td>NaN</td>\n    </tr>\n    <tr>\n      <th>...</th>\n      <td>...</td>\n      <td>...</td>\n      <td>...</td>\n      <td>...</td>\n      <td>...</td>\n      <td>...</td>\n      <td>...</td>\n      <td>...</td>\n      <td>...</td>\n      <td>...</td>\n    </tr>\n    <tr>\n      <th>735</th>\n      <td>1</td>\n      <td>P84243</td>\n      <td>Q94A</td>\n      <td>Q9UER7-3</td>\n      <td>4hgaB</td>\n      <td>4hgaA</td>\n      <td>4hga</td>\n      <td>B</td>\n      <td>4hga</td>\n      <td>NaN</td>\n    </tr>\n    <tr>\n      <th>736</th>\n      <td>1</td>\n      <td>Q96QK1</td>\n      <td>L589D</td>\n      <td>Q9UBQ0</td>\n      <td>2r17C</td>\n      <td>2r17A</td>\n      <td>2r17</td>\n      <td>C</td>\n      <td>2r17</td>\n      <td>0.0</td>\n    </tr>\n    <tr>\n      <th>737</th>\n      <td>1</td>\n      <td>Q96QK1</td>\n      <td>L589D</td>\n      <td>Q9UBQ0-2</td>\n      <td>2r17C</td>\n      <td>2r17A</td>\n      <td>2r17</td>\n      <td>C</td>\n      <td>2r17</td>\n      <td>0.0</td>\n    </tr>\n    <tr>\n      <th>738</th>\n      <td>1</td>\n      <td>P23297</td>\n      <td>F72L</td>\n      <td>P25815</td>\n      <td>2y5iA</td>\n      <td>2y5iB</td>\n      <td>2y5i</td>\n      <td>A</td>\n      <td>2y5i</td>\n      <td>0.0</td>\n    </tr>\n    <tr>\n      <th>739</th>\n      <td>1</td>\n      <td>Q15836</td>\n      <td>L46P</td>\n      <td>O43752</td>\n      <td>2npsA</td>\n      <td>2npsD</td>\n      <td>2nps</td>\n      <td>A</td>\n      <td>2nps</td>\n      <td>NaN</td>\n    </tr>\n  </tbody>\n</table>\n<p>740 rows × 10 columns</p>\n</div>"
     },
     "execution_count": 2,
     "metadata": {},
     "output_type": "execute_result"
    }
   ],
   "source": [
    "saambe_3d_prediction_data = pd.read_csv(SAAMBE_3D_PREDICTION_DATA_PATH)\n",
    "\n",
    "saambe_3d_prediction_data"
   ],
   "metadata": {
    "collapsed": false,
    "pycharm": {
     "name": "#%%\n"
    }
   }
  },
  {
   "cell_type": "code",
   "execution_count": 3,
   "metadata": {
    "pycharm": {
     "name": "#%%\n"
    }
   },
   "outputs": [],
   "source": [
    "# Drop nan entries in Prediction column.\n",
    "saambe_3d_prediction_data = saambe_3d_prediction_data.dropna(subset=[\"Prediction\"]).copy()\n",
    "\n",
    "# convert Prediction column to int.\n",
    "saambe_3d_prediction_data[\"Prediction\"] = saambe_3d_prediction_data[\"Prediction\"].astype(int)"
   ]
  },
  {
   "cell_type": "code",
   "execution_count": 4,
   "outputs": [
    {
     "data": {
      "text/plain": "0    331\n1     34\nName: Prediction, dtype: int64"
     },
     "execution_count": 4,
     "metadata": {},
     "output_type": "execute_result"
    }
   ],
   "source": [
    "saambe_3d_prediction_data[\"Prediction\"].value_counts()"
   ],
   "metadata": {
    "collapsed": false,
    "pycharm": {
     "name": "#%%\n"
    }
   }
  },
  {
   "cell_type": "code",
   "execution_count": null,
   "outputs": [],
   "source": [],
   "metadata": {
    "collapsed": false,
    "pycharm": {
     "name": "#%%\n"
    }
   }
  },
  {
   "cell_type": "code",
   "execution_count": 5,
   "outputs": [
    {
     "name": "stdout",
     "output_type": "stream",
     "text": [
      "accuracy_score: 0.26301369863013696\n",
      "balanced_accuracy_score: 0.48142721709902614\n",
      "f1_score: 0.15141955835962145\n",
      "matthews_corrcoef: -0.053340080460335865\n",
      "precision_score: 0.7058823529411765\n",
      "recall_score: 0.08480565371024736\n"
     ]
    }
   ],
   "source": [
    "print(\"accuracy_score: {}\".format(accuracy_score(saambe_3d_prediction_data[\"Mutation_Effect_Label\"], saambe_3d_prediction_data[\"Prediction\"])))\n",
    "print(\"balanced_accuracy_score: {}\".format(balanced_accuracy_score(saambe_3d_prediction_data[\"Mutation_Effect_Label\"], saambe_3d_prediction_data[\"Prediction\"])))\n",
    "print(\"f1_score: {}\".format(f1_score(saambe_3d_prediction_data[\"Mutation_Effect_Label\"], saambe_3d_prediction_data[\"Prediction\"])))\n",
    "print(\"matthews_corrcoef: {}\".format(matthews_corrcoef(saambe_3d_prediction_data[\"Mutation_Effect_Label\"], saambe_3d_prediction_data[\"Prediction\"])))\n",
    "print(\"precision_score: {}\".format(precision_score(saambe_3d_prediction_data[\"Mutation_Effect_Label\"], saambe_3d_prediction_data[\"Prediction\"])))\n",
    "print(\"recall_score: {}\".format(recall_score(saambe_3d_prediction_data[\"Mutation_Effect_Label\"], saambe_3d_prediction_data[\"Prediction\"])))"
   ],
   "metadata": {
    "collapsed": false,
    "pycharm": {
     "name": "#%%\n"
    }
   }
  },
  {
   "cell_type": "code",
   "execution_count": null,
   "outputs": [],
   "source": [],
   "metadata": {
    "collapsed": false,
    "pycharm": {
     "name": "#%%\n"
    }
   }
  },
  {
   "cell_type": "code",
   "execution_count": null,
   "outputs": [],
   "source": [],
   "metadata": {
    "collapsed": false,
    "pycharm": {
     "name": "#%%\n"
    }
   }
  }
 ],
 "metadata": {
  "interpreter": {
   "hash": "744a87e469587dbcf8fac8d052d878f92cd2bd4753678d29e8c66ba42908611b"
  },
  "kernelspec": {
   "display_name": "Python 2.7.15 64-bit ('SAAMBE_3D_Study': conda)",
   "language": "python",
   "name": "python3"
  },
  "language_info": {
   "codemirror_mode": {
    "name": "ipython",
    "version": 3
   },
   "file_extension": ".py",
   "mimetype": "text/x-python",
   "name": "python",
   "nbconvert_exporter": "python",
   "pygments_lexer": "ipython3",
   "version": "3.8.10"
  },
  "orig_nbformat": 4
 },
 "nbformat": 4,
 "nbformat_minor": 2
}