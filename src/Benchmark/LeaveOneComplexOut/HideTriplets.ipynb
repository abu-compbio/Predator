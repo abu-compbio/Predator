{
 "cells": [
  {
   "cell_type": "markdown",
   "metadata": {
    "collapsed": true,
    "pycharm": {
     "name": "#%% md\n"
    }
   },
   "source": [
    "# Hide One Triplet At a Time\n",
    "\n",
    "June 18rd, 2022"
   ]
  },
  {
   "cell_type": "markdown",
   "source": [
    "This time, I will make them in order!"
   ],
   "metadata": {
    "collapsed": false,
    "pycharm": {
     "name": "#%% md\n"
    }
   }
  },
  {
   "cell_type": "code",
   "execution_count": 1,
   "outputs": [
    {
     "name": "stdout",
     "output_type": "stream",
     "text": [
      " Volume in drive C has no label.\n",
      " Volume Serial Number is 022C-93CC\n",
      "\n",
      " Directory of C:\\Users\\ibrah\\Documents\\GitHub\\Predator\\src\\Benchmark\\LeaveOneComplexOut\n",
      "\n"
     ]
    },
    {
     "name": "stderr",
     "output_type": "stream",
     "text": [
      "File Not Found\n"
     ]
    }
   ],
   "source": [
    "!dir()"
   ],
   "metadata": {
    "collapsed": false,
    "pycharm": {
     "name": "#%%\n"
    }
   }
  },
  {
   "cell_type": "code",
   "execution_count": 2,
   "outputs": [],
   "source": [
    "from pathlib import Path\n",
    "import os.path as op\n",
    "\n",
    "import pandas as pd\n",
    "from datetime import datetime\n",
    "\n",
    "TRAIN_DATA_WITH_PDB_FEATURES_PATH = \"train_data_with_PDB_features.csv\""
   ],
   "metadata": {
    "collapsed": false,
    "pycharm": {
     "name": "#%%\n"
    }
   }
  },
  {
   "cell_type": "code",
   "execution_count": 3,
   "outputs": [
    {
     "data": {
      "text/plain": "     Mutation_Effect_Label Input_identifier UniProt_ID Mutation Status  \\\n0                        1           Q9BPZ3     Q9BPZ3    F118A   done   \n1                        1           P01116     P01116     Y40C   done   \n2                        1           Q96QK1     Q96QK1    F534D   done   \n3                        1           Q96QK1     Q96QK1    F534D   done   \n4                        1         O43521-3   O43521-3     G66A   done   \n..                     ...              ...        ...      ...    ...   \n735                      1           P84243     P84243     Q94A   done   \n736                      1           Q96QK1     Q96QK1    L589D   done   \n737                      1           Q96QK1     Q96QK1    L589D   done   \n738                      1           P23297     P23297     F72L   done   \n739                      1           Q15836     Q15836     L46P   done   \n\n          Type COSMIC_mut_ID ClinVar_mut_ID UniProt_mut_ID      Domain_name  \\\n0    interface             -              -              -             PAM2   \n1    interface             -              -              -              Ras   \n2    interface             -              -              -            Vps35   \n3    interface             -              -              -            Vps35   \n4    interface             -              -              -    Bclx_interact   \n..         ...           ...            ...            ...              ...   \n735  interface             -              -              -          Histone   \n736  interface             -              -              -            Vps35   \n737  interface             -              -              -            Vps35   \n738  interface             -              -              -  S_100+EF-hand_1   \n739  interface             -              -              -    Synaptobrevin   \n\n     ... IntraclashesEnergy2_wt IntraclashesEnergy2_mut  \\\n0    ...                52.4675                 52.4675   \n1    ...                70.2902                 70.2461   \n2    ...                59.2321                 59.1774   \n3    ...                59.2321                 59.1774   \n4    ...                41.5937                 41.5937   \n..   ...                    ...                     ...   \n735  ...                32.4886                 32.4886   \n736  ...                59.2629                 59.2629   \n737  ...                59.2629                 59.2629   \n738  ...                17.1488                 16.8699   \n739  ...                 6.4110                  6.4110   \n\n    Interface_hydrophobic_area  Interface_hydrophilic_area  \\\n0                      427.775                     194.715   \n1                       464.47                      400.03   \n2                       510.69                      298.82   \n3                       510.69                      298.82   \n4                       405.51                      273.74   \n..                         ...                         ...   \n735                     1159.7                     952.745   \n736                     510.69                      298.82   \n737                     510.69                      298.82   \n738                     667.92                     288.795   \n739                    765.775                      286.97   \n\n     Interface_total_area Interface_contact_distance_wt  \\\n0                 622.495                       3.35293   \n1                 864.505                       3.07827   \n2                  809.51                       3.03938   \n3                  809.51                       3.03938   \n4                 679.245                       3.37301   \n..                    ...                           ...   \n735               2112.45                       3.00752   \n736                809.51                       3.45879   \n737                809.51                       3.45879   \n738                956.72                       3.26388   \n739               1052.74                       3.45835   \n\n    Interface_contact_distance_mut Template_cath_id_pdb Chain_id  \\\n0                          3.35293                 1jgn        B   \n1                          3.59123                 3ddc        A   \n2                          3.24435                 2r17        C   \n3                          3.24435                 2r17        C   \n4                          3.22505                 3fdl        B   \n..                             ...                  ...      ...   \n735                        4.27950                 4hga        B   \n736                        3.26826                 2r17        C   \n737                        3.26826                 2r17        C   \n738                        3.30643                 2y5i        A   \n739                        3.68360                 2nps        A   \n\n    Interactor_template_cath_id_pdb  \n0                              1jgn  \n1                              3ddc  \n2                              2r17  \n3                              2r17  \n4                              3fdl  \n..                              ...  \n735                            4hga  \n736                            2r17  \n737                            2r17  \n738                            2y5i  \n739                            2nps  \n\n[740 rows x 107 columns]",
      "text/html": "<div>\n<style scoped>\n    .dataframe tbody tr th:only-of-type {\n        vertical-align: middle;\n    }\n\n    .dataframe tbody tr th {\n        vertical-align: top;\n    }\n\n    .dataframe thead th {\n        text-align: right;\n    }\n</style>\n<table border=\"1\" class=\"dataframe\">\n  <thead>\n    <tr style=\"text-align: right;\">\n      <th></th>\n      <th>Mutation_Effect_Label</th>\n      <th>Input_identifier</th>\n      <th>UniProt_ID</th>\n      <th>Mutation</th>\n      <th>Status</th>\n      <th>Type</th>\n      <th>COSMIC_mut_ID</th>\n      <th>ClinVar_mut_ID</th>\n      <th>UniProt_mut_ID</th>\n      <th>Domain_name</th>\n      <th>...</th>\n      <th>IntraclashesEnergy2_wt</th>\n      <th>IntraclashesEnergy2_mut</th>\n      <th>Interface_hydrophobic_area</th>\n      <th>Interface_hydrophilic_area</th>\n      <th>Interface_total_area</th>\n      <th>Interface_contact_distance_wt</th>\n      <th>Interface_contact_distance_mut</th>\n      <th>Template_cath_id_pdb</th>\n      <th>Chain_id</th>\n      <th>Interactor_template_cath_id_pdb</th>\n    </tr>\n  </thead>\n  <tbody>\n    <tr>\n      <th>0</th>\n      <td>1</td>\n      <td>Q9BPZ3</td>\n      <td>Q9BPZ3</td>\n      <td>F118A</td>\n      <td>done</td>\n      <td>interface</td>\n      <td>-</td>\n      <td>-</td>\n      <td>-</td>\n      <td>PAM2</td>\n      <td>...</td>\n      <td>52.4675</td>\n      <td>52.4675</td>\n      <td>427.775</td>\n      <td>194.715</td>\n      <td>622.495</td>\n      <td>3.35293</td>\n      <td>3.35293</td>\n      <td>1jgn</td>\n      <td>B</td>\n      <td>1jgn</td>\n    </tr>\n    <tr>\n      <th>1</th>\n      <td>1</td>\n      <td>P01116</td>\n      <td>P01116</td>\n      <td>Y40C</td>\n      <td>done</td>\n      <td>interface</td>\n      <td>-</td>\n      <td>-</td>\n      <td>-</td>\n      <td>Ras</td>\n      <td>...</td>\n      <td>70.2902</td>\n      <td>70.2461</td>\n      <td>464.47</td>\n      <td>400.03</td>\n      <td>864.505</td>\n      <td>3.07827</td>\n      <td>3.59123</td>\n      <td>3ddc</td>\n      <td>A</td>\n      <td>3ddc</td>\n    </tr>\n    <tr>\n      <th>2</th>\n      <td>1</td>\n      <td>Q96QK1</td>\n      <td>Q96QK1</td>\n      <td>F534D</td>\n      <td>done</td>\n      <td>interface</td>\n      <td>-</td>\n      <td>-</td>\n      <td>-</td>\n      <td>Vps35</td>\n      <td>...</td>\n      <td>59.2321</td>\n      <td>59.1774</td>\n      <td>510.69</td>\n      <td>298.82</td>\n      <td>809.51</td>\n      <td>3.03938</td>\n      <td>3.24435</td>\n      <td>2r17</td>\n      <td>C</td>\n      <td>2r17</td>\n    </tr>\n    <tr>\n      <th>3</th>\n      <td>1</td>\n      <td>Q96QK1</td>\n      <td>Q96QK1</td>\n      <td>F534D</td>\n      <td>done</td>\n      <td>interface</td>\n      <td>-</td>\n      <td>-</td>\n      <td>-</td>\n      <td>Vps35</td>\n      <td>...</td>\n      <td>59.2321</td>\n      <td>59.1774</td>\n      <td>510.69</td>\n      <td>298.82</td>\n      <td>809.51</td>\n      <td>3.03938</td>\n      <td>3.24435</td>\n      <td>2r17</td>\n      <td>C</td>\n      <td>2r17</td>\n    </tr>\n    <tr>\n      <th>4</th>\n      <td>1</td>\n      <td>O43521-3</td>\n      <td>O43521-3</td>\n      <td>G66A</td>\n      <td>done</td>\n      <td>interface</td>\n      <td>-</td>\n      <td>-</td>\n      <td>-</td>\n      <td>Bclx_interact</td>\n      <td>...</td>\n      <td>41.5937</td>\n      <td>41.5937</td>\n      <td>405.51</td>\n      <td>273.74</td>\n      <td>679.245</td>\n      <td>3.37301</td>\n      <td>3.22505</td>\n      <td>3fdl</td>\n      <td>B</td>\n      <td>3fdl</td>\n    </tr>\n    <tr>\n      <th>...</th>\n      <td>...</td>\n      <td>...</td>\n      <td>...</td>\n      <td>...</td>\n      <td>...</td>\n      <td>...</td>\n      <td>...</td>\n      <td>...</td>\n      <td>...</td>\n      <td>...</td>\n      <td>...</td>\n      <td>...</td>\n      <td>...</td>\n      <td>...</td>\n      <td>...</td>\n      <td>...</td>\n      <td>...</td>\n      <td>...</td>\n      <td>...</td>\n      <td>...</td>\n      <td>...</td>\n    </tr>\n    <tr>\n      <th>735</th>\n      <td>1</td>\n      <td>P84243</td>\n      <td>P84243</td>\n      <td>Q94A</td>\n      <td>done</td>\n      <td>interface</td>\n      <td>-</td>\n      <td>-</td>\n      <td>-</td>\n      <td>Histone</td>\n      <td>...</td>\n      <td>32.4886</td>\n      <td>32.4886</td>\n      <td>1159.7</td>\n      <td>952.745</td>\n      <td>2112.45</td>\n      <td>3.00752</td>\n      <td>4.27950</td>\n      <td>4hga</td>\n      <td>B</td>\n      <td>4hga</td>\n    </tr>\n    <tr>\n      <th>736</th>\n      <td>1</td>\n      <td>Q96QK1</td>\n      <td>Q96QK1</td>\n      <td>L589D</td>\n      <td>done</td>\n      <td>interface</td>\n      <td>-</td>\n      <td>-</td>\n      <td>-</td>\n      <td>Vps35</td>\n      <td>...</td>\n      <td>59.2629</td>\n      <td>59.2629</td>\n      <td>510.69</td>\n      <td>298.82</td>\n      <td>809.51</td>\n      <td>3.45879</td>\n      <td>3.26826</td>\n      <td>2r17</td>\n      <td>C</td>\n      <td>2r17</td>\n    </tr>\n    <tr>\n      <th>737</th>\n      <td>1</td>\n      <td>Q96QK1</td>\n      <td>Q96QK1</td>\n      <td>L589D</td>\n      <td>done</td>\n      <td>interface</td>\n      <td>-</td>\n      <td>-</td>\n      <td>-</td>\n      <td>Vps35</td>\n      <td>...</td>\n      <td>59.2629</td>\n      <td>59.2629</td>\n      <td>510.69</td>\n      <td>298.82</td>\n      <td>809.51</td>\n      <td>3.45879</td>\n      <td>3.26826</td>\n      <td>2r17</td>\n      <td>C</td>\n      <td>2r17</td>\n    </tr>\n    <tr>\n      <th>738</th>\n      <td>1</td>\n      <td>P23297</td>\n      <td>P23297</td>\n      <td>F72L</td>\n      <td>done</td>\n      <td>interface</td>\n      <td>-</td>\n      <td>-</td>\n      <td>-</td>\n      <td>S_100+EF-hand_1</td>\n      <td>...</td>\n      <td>17.1488</td>\n      <td>16.8699</td>\n      <td>667.92</td>\n      <td>288.795</td>\n      <td>956.72</td>\n      <td>3.26388</td>\n      <td>3.30643</td>\n      <td>2y5i</td>\n      <td>A</td>\n      <td>2y5i</td>\n    </tr>\n    <tr>\n      <th>739</th>\n      <td>1</td>\n      <td>Q15836</td>\n      <td>Q15836</td>\n      <td>L46P</td>\n      <td>done</td>\n      <td>interface</td>\n      <td>-</td>\n      <td>-</td>\n      <td>-</td>\n      <td>Synaptobrevin</td>\n      <td>...</td>\n      <td>6.4110</td>\n      <td>6.4110</td>\n      <td>765.775</td>\n      <td>286.97</td>\n      <td>1052.74</td>\n      <td>3.45835</td>\n      <td>3.68360</td>\n      <td>2nps</td>\n      <td>A</td>\n      <td>2nps</td>\n    </tr>\n  </tbody>\n</table>\n<p>740 rows × 107 columns</p>\n</div>"
     },
     "execution_count": 3,
     "metadata": {},
     "output_type": "execute_result"
    }
   ],
   "source": [
    "train_data = pd.read_csv(TRAIN_DATA_WITH_PDB_FEATURES_PATH)\n",
    "train_data"
   ],
   "metadata": {
    "collapsed": false,
    "pycharm": {
     "name": "#%%\n"
    }
   }
  },
  {
   "cell_type": "markdown",
   "source": [
    "Add a unique identifier so distinguish the entries."
   ],
   "metadata": {
    "collapsed": false,
    "pycharm": {
     "name": "#%% md\n"
    }
   }
  },
  {
   "cell_type": "code",
   "execution_count": 4,
   "outputs": [
    {
     "data": {
      "text/plain": "['Entry_00735', 'Entry_00736', 'Entry_00737', 'Entry_00738', 'Entry_00739']"
     },
     "execution_count": 4,
     "metadata": {},
     "output_type": "execute_result"
    }
   ],
   "source": [
    "entry_identifier = [\n",
    "    f\"Entry_{str(e).rjust(5, '0')}\" for e in range(len(train_data))\n",
    "]\n",
    "entry_identifier[-5:]"
   ],
   "metadata": {
    "collapsed": false,
    "pycharm": {
     "name": "#%%\n"
    }
   }
  },
  {
   "cell_type": "code",
   "execution_count": 5,
   "outputs": [
    {
     "data": {
      "text/plain": "    Distinguished_Index  Mutation_Effect_Label Input_identifier UniProt_ID  \\\n0           Entry_00000                      1           Q9BPZ3     Q9BPZ3   \n1           Entry_00001                      1           P01116     P01116   \n2           Entry_00002                      1           Q96QK1     Q96QK1   \n3           Entry_00003                      1           Q96QK1     Q96QK1   \n4           Entry_00004                      1         O43521-3   O43521-3   \n..                  ...                    ...              ...        ...   \n735         Entry_00735                      1           P84243     P84243   \n736         Entry_00736                      1           Q96QK1     Q96QK1   \n737         Entry_00737                      1           Q96QK1     Q96QK1   \n738         Entry_00738                      1           P23297     P23297   \n739         Entry_00739                      1           Q15836     Q15836   \n\n    Mutation Status       Type COSMIC_mut_ID ClinVar_mut_ID UniProt_mut_ID  \\\n0      F118A   done  interface             -              -              -   \n1       Y40C   done  interface             -              -              -   \n2      F534D   done  interface             -              -              -   \n3      F534D   done  interface             -              -              -   \n4       G66A   done  interface             -              -              -   \n..       ...    ...        ...           ...            ...            ...   \n735     Q94A   done  interface             -              -              -   \n736    L589D   done  interface             -              -              -   \n737    L589D   done  interface             -              -              -   \n738     F72L   done  interface             -              -              -   \n739     L46P   done  interface             -              -              -   \n\n     ... IntraclashesEnergy2_wt IntraclashesEnergy2_mut  \\\n0    ...                52.4675                 52.4675   \n1    ...                70.2902                 70.2461   \n2    ...                59.2321                 59.1774   \n3    ...                59.2321                 59.1774   \n4    ...                41.5937                 41.5937   \n..   ...                    ...                     ...   \n735  ...                32.4886                 32.4886   \n736  ...                59.2629                 59.2629   \n737  ...                59.2629                 59.2629   \n738  ...                17.1488                 16.8699   \n739  ...                 6.4110                  6.4110   \n\n    Interface_hydrophobic_area Interface_hydrophilic_area  \\\n0                      427.775                    194.715   \n1                       464.47                     400.03   \n2                       510.69                     298.82   \n3                       510.69                     298.82   \n4                       405.51                     273.74   \n..                         ...                        ...   \n735                     1159.7                    952.745   \n736                     510.69                     298.82   \n737                     510.69                     298.82   \n738                     667.92                    288.795   \n739                    765.775                     286.97   \n\n     Interface_total_area  Interface_contact_distance_wt  \\\n0                 622.495                        3.35293   \n1                 864.505                        3.07827   \n2                  809.51                        3.03938   \n3                  809.51                        3.03938   \n4                 679.245                        3.37301   \n..                    ...                            ...   \n735               2112.45                        3.00752   \n736                809.51                        3.45879   \n737                809.51                        3.45879   \n738                956.72                        3.26388   \n739               1052.74                        3.45835   \n\n    Interface_contact_distance_mut Template_cath_id_pdb Chain_id  \\\n0                          3.35293                 1jgn        B   \n1                          3.59123                 3ddc        A   \n2                          3.24435                 2r17        C   \n3                          3.24435                 2r17        C   \n4                          3.22505                 3fdl        B   \n..                             ...                  ...      ...   \n735                        4.27950                 4hga        B   \n736                        3.26826                 2r17        C   \n737                        3.26826                 2r17        C   \n738                        3.30643                 2y5i        A   \n739                        3.68360                 2nps        A   \n\n    Interactor_template_cath_id_pdb  \n0                              1jgn  \n1                              3ddc  \n2                              2r17  \n3                              2r17  \n4                              3fdl  \n..                              ...  \n735                            4hga  \n736                            2r17  \n737                            2r17  \n738                            2y5i  \n739                            2nps  \n\n[740 rows x 108 columns]",
      "text/html": "<div>\n<style scoped>\n    .dataframe tbody tr th:only-of-type {\n        vertical-align: middle;\n    }\n\n    .dataframe tbody tr th {\n        vertical-align: top;\n    }\n\n    .dataframe thead th {\n        text-align: right;\n    }\n</style>\n<table border=\"1\" class=\"dataframe\">\n  <thead>\n    <tr style=\"text-align: right;\">\n      <th></th>\n      <th>Distinguished_Index</th>\n      <th>Mutation_Effect_Label</th>\n      <th>Input_identifier</th>\n      <th>UniProt_ID</th>\n      <th>Mutation</th>\n      <th>Status</th>\n      <th>Type</th>\n      <th>COSMIC_mut_ID</th>\n      <th>ClinVar_mut_ID</th>\n      <th>UniProt_mut_ID</th>\n      <th>...</th>\n      <th>IntraclashesEnergy2_wt</th>\n      <th>IntraclashesEnergy2_mut</th>\n      <th>Interface_hydrophobic_area</th>\n      <th>Interface_hydrophilic_area</th>\n      <th>Interface_total_area</th>\n      <th>Interface_contact_distance_wt</th>\n      <th>Interface_contact_distance_mut</th>\n      <th>Template_cath_id_pdb</th>\n      <th>Chain_id</th>\n      <th>Interactor_template_cath_id_pdb</th>\n    </tr>\n  </thead>\n  <tbody>\n    <tr>\n      <th>0</th>\n      <td>Entry_00000</td>\n      <td>1</td>\n      <td>Q9BPZ3</td>\n      <td>Q9BPZ3</td>\n      <td>F118A</td>\n      <td>done</td>\n      <td>interface</td>\n      <td>-</td>\n      <td>-</td>\n      <td>-</td>\n      <td>...</td>\n      <td>52.4675</td>\n      <td>52.4675</td>\n      <td>427.775</td>\n      <td>194.715</td>\n      <td>622.495</td>\n      <td>3.35293</td>\n      <td>3.35293</td>\n      <td>1jgn</td>\n      <td>B</td>\n      <td>1jgn</td>\n    </tr>\n    <tr>\n      <th>1</th>\n      <td>Entry_00001</td>\n      <td>1</td>\n      <td>P01116</td>\n      <td>P01116</td>\n      <td>Y40C</td>\n      <td>done</td>\n      <td>interface</td>\n      <td>-</td>\n      <td>-</td>\n      <td>-</td>\n      <td>...</td>\n      <td>70.2902</td>\n      <td>70.2461</td>\n      <td>464.47</td>\n      <td>400.03</td>\n      <td>864.505</td>\n      <td>3.07827</td>\n      <td>3.59123</td>\n      <td>3ddc</td>\n      <td>A</td>\n      <td>3ddc</td>\n    </tr>\n    <tr>\n      <th>2</th>\n      <td>Entry_00002</td>\n      <td>1</td>\n      <td>Q96QK1</td>\n      <td>Q96QK1</td>\n      <td>F534D</td>\n      <td>done</td>\n      <td>interface</td>\n      <td>-</td>\n      <td>-</td>\n      <td>-</td>\n      <td>...</td>\n      <td>59.2321</td>\n      <td>59.1774</td>\n      <td>510.69</td>\n      <td>298.82</td>\n      <td>809.51</td>\n      <td>3.03938</td>\n      <td>3.24435</td>\n      <td>2r17</td>\n      <td>C</td>\n      <td>2r17</td>\n    </tr>\n    <tr>\n      <th>3</th>\n      <td>Entry_00003</td>\n      <td>1</td>\n      <td>Q96QK1</td>\n      <td>Q96QK1</td>\n      <td>F534D</td>\n      <td>done</td>\n      <td>interface</td>\n      <td>-</td>\n      <td>-</td>\n      <td>-</td>\n      <td>...</td>\n      <td>59.2321</td>\n      <td>59.1774</td>\n      <td>510.69</td>\n      <td>298.82</td>\n      <td>809.51</td>\n      <td>3.03938</td>\n      <td>3.24435</td>\n      <td>2r17</td>\n      <td>C</td>\n      <td>2r17</td>\n    </tr>\n    <tr>\n      <th>4</th>\n      <td>Entry_00004</td>\n      <td>1</td>\n      <td>O43521-3</td>\n      <td>O43521-3</td>\n      <td>G66A</td>\n      <td>done</td>\n      <td>interface</td>\n      <td>-</td>\n      <td>-</td>\n      <td>-</td>\n      <td>...</td>\n      <td>41.5937</td>\n      <td>41.5937</td>\n      <td>405.51</td>\n      <td>273.74</td>\n      <td>679.245</td>\n      <td>3.37301</td>\n      <td>3.22505</td>\n      <td>3fdl</td>\n      <td>B</td>\n      <td>3fdl</td>\n    </tr>\n    <tr>\n      <th>...</th>\n      <td>...</td>\n      <td>...</td>\n      <td>...</td>\n      <td>...</td>\n      <td>...</td>\n      <td>...</td>\n      <td>...</td>\n      <td>...</td>\n      <td>...</td>\n      <td>...</td>\n      <td>...</td>\n      <td>...</td>\n      <td>...</td>\n      <td>...</td>\n      <td>...</td>\n      <td>...</td>\n      <td>...</td>\n      <td>...</td>\n      <td>...</td>\n      <td>...</td>\n      <td>...</td>\n    </tr>\n    <tr>\n      <th>735</th>\n      <td>Entry_00735</td>\n      <td>1</td>\n      <td>P84243</td>\n      <td>P84243</td>\n      <td>Q94A</td>\n      <td>done</td>\n      <td>interface</td>\n      <td>-</td>\n      <td>-</td>\n      <td>-</td>\n      <td>...</td>\n      <td>32.4886</td>\n      <td>32.4886</td>\n      <td>1159.7</td>\n      <td>952.745</td>\n      <td>2112.45</td>\n      <td>3.00752</td>\n      <td>4.27950</td>\n      <td>4hga</td>\n      <td>B</td>\n      <td>4hga</td>\n    </tr>\n    <tr>\n      <th>736</th>\n      <td>Entry_00736</td>\n      <td>1</td>\n      <td>Q96QK1</td>\n      <td>Q96QK1</td>\n      <td>L589D</td>\n      <td>done</td>\n      <td>interface</td>\n      <td>-</td>\n      <td>-</td>\n      <td>-</td>\n      <td>...</td>\n      <td>59.2629</td>\n      <td>59.2629</td>\n      <td>510.69</td>\n      <td>298.82</td>\n      <td>809.51</td>\n      <td>3.45879</td>\n      <td>3.26826</td>\n      <td>2r17</td>\n      <td>C</td>\n      <td>2r17</td>\n    </tr>\n    <tr>\n      <th>737</th>\n      <td>Entry_00737</td>\n      <td>1</td>\n      <td>Q96QK1</td>\n      <td>Q96QK1</td>\n      <td>L589D</td>\n      <td>done</td>\n      <td>interface</td>\n      <td>-</td>\n      <td>-</td>\n      <td>-</td>\n      <td>...</td>\n      <td>59.2629</td>\n      <td>59.2629</td>\n      <td>510.69</td>\n      <td>298.82</td>\n      <td>809.51</td>\n      <td>3.45879</td>\n      <td>3.26826</td>\n      <td>2r17</td>\n      <td>C</td>\n      <td>2r17</td>\n    </tr>\n    <tr>\n      <th>738</th>\n      <td>Entry_00738</td>\n      <td>1</td>\n      <td>P23297</td>\n      <td>P23297</td>\n      <td>F72L</td>\n      <td>done</td>\n      <td>interface</td>\n      <td>-</td>\n      <td>-</td>\n      <td>-</td>\n      <td>...</td>\n      <td>17.1488</td>\n      <td>16.8699</td>\n      <td>667.92</td>\n      <td>288.795</td>\n      <td>956.72</td>\n      <td>3.26388</td>\n      <td>3.30643</td>\n      <td>2y5i</td>\n      <td>A</td>\n      <td>2y5i</td>\n    </tr>\n    <tr>\n      <th>739</th>\n      <td>Entry_00739</td>\n      <td>1</td>\n      <td>Q15836</td>\n      <td>Q15836</td>\n      <td>L46P</td>\n      <td>done</td>\n      <td>interface</td>\n      <td>-</td>\n      <td>-</td>\n      <td>-</td>\n      <td>...</td>\n      <td>6.4110</td>\n      <td>6.4110</td>\n      <td>765.775</td>\n      <td>286.97</td>\n      <td>1052.74</td>\n      <td>3.45835</td>\n      <td>3.68360</td>\n      <td>2nps</td>\n      <td>A</td>\n      <td>2nps</td>\n    </tr>\n  </tbody>\n</table>\n<p>740 rows × 108 columns</p>\n</div>"
     },
     "execution_count": 5,
     "metadata": {},
     "output_type": "execute_result"
    }
   ],
   "source": [
    "train_data.insert(0,\"Distinguished_Index\", entry_identifier)\n",
    "train_data"
   ],
   "metadata": {
    "collapsed": false,
    "pycharm": {
     "name": "#%%\n"
    }
   }
  },
  {
   "cell_type": "code",
   "execution_count": 6,
   "outputs": [],
   "source": [
    "train_data.to_csv(\"train_data_with_PDB_features_distinguished_index.csv\", index=False)"
   ],
   "metadata": {
    "collapsed": false,
    "pycharm": {
     "name": "#%%\n"
    }
   }
  },
  {
   "cell_type": "code",
   "execution_count": 7,
   "outputs": [],
   "source": [
    "def save_unique_proteins(proteins):\n",
    "    file_date = datetime.today().strftime('%Y-%m-%d')\n",
    "    file_name = f\"unique_proteins_ordered_{file_date}.txt\"\n",
    "    with open(file_name, \"w\") as fin:\n",
    "        for protein in proteins:\n",
    "            fin.write(f\"{protein}\\n\")\n",
    "\n",
    "    print(\"Proteins are extracted successfully.\")"
   ],
   "metadata": {
    "collapsed": false,
    "pycharm": {
     "name": "#%%\n"
    }
   }
  },
  {
   "cell_type": "code",
   "execution_count": 8,
   "outputs": [],
   "source": [
    "def save_protein_entries(single_protein_data):\n",
    "    current_date = datetime.today().strftime('%Y-%m-%d')\n",
    "    folder_path = f\"hidden_entries_{current_date}\"\n",
    "    Path(folder_path).mkdir(parents=True, exist_ok=True)\n",
    "    [protein] = single_protein_data[\"UniProt_ID\"].unique()\n",
    "    file_name = op.join(folder_path, f\"hidden_entries_{protein}.txt\")\n",
    "    single_protein_data.to_csv(file_name, sep=\"\\t\", index=False)"
   ],
   "metadata": {
    "collapsed": false,
    "pycharm": {
     "name": "#%%\n"
    }
   }
  },
  {
   "cell_type": "code",
   "execution_count": 9,
   "outputs": [],
   "source": [
    "def hide_protein_entries(data):\n",
    "    unique_proteins = train_data[\"UniProt_ID\"].unique().tolist()\n",
    "    print(f\"Number of unique proteins: {len(unique_proteins)}: {unique_proteins[:5]} ..\")\n",
    "    save_unique_proteins(unique_proteins)\n",
    "\n",
    "    for protein in unique_proteins:\n",
    "        query = data[data[\"UniProt_ID\"] == protein]\n",
    "        save_protein_entries(query)\n",
    "\n",
    "    print(\"Process completed.\")"
   ],
   "metadata": {
    "collapsed": false,
    "pycharm": {
     "name": "#%%\n"
    }
   }
  },
  {
   "cell_type": "code",
   "execution_count": 10,
   "outputs": [
    {
     "name": "stdout",
     "output_type": "stream",
     "text": [
      "Number of unique proteins: 164: ['Q9BPZ3', 'P01116', 'Q96QK1', 'O43521-3', 'Q13418'] ..\n",
      "Proteins are extracted successfully.\n",
      "Process completed.\n"
     ]
    }
   ],
   "source": [
    "hide_protein_entries(train_data)"
   ],
   "metadata": {
    "collapsed": false,
    "pycharm": {
     "name": "#%%\n"
    }
   }
  },
  {
   "cell_type": "code",
   "execution_count": 22,
   "outputs": [],
   "source": [],
   "metadata": {
    "collapsed": false,
    "pycharm": {
     "name": "#%%\n"
    }
   }
  },
  {
   "cell_type": "markdown",
   "source": [
    "## Testing"
   ],
   "metadata": {
    "collapsed": false,
    "pycharm": {
     "name": "#%% md\n"
    }
   }
  },
  {
   "cell_type": "code",
   "execution_count": 11,
   "outputs": [],
   "source": [
    "import os"
   ],
   "metadata": {
    "collapsed": false,
    "pycharm": {
     "name": "#%%\n"
    }
   }
  },
  {
   "cell_type": "code",
   "execution_count": 12,
   "outputs": [
    {
     "data": {
      "text/plain": "['Assessment_for_separate_classes.ipynb',\n 'features.txt',\n 'hidden_entries_2022-06-18',\n 'HideTriplets.ipynb',\n 'LeaveOneComplexOut.ipynb',\n 'LeaveOneComplexOut_Probs.ipynb',\n 'readme.md',\n 'train_data_with_PDB_features.csv',\n 'train_data_with_PDB_features_distinguished_index.csv',\n 'unique_proteins_ordered_2022-06-18.txt',\n 'utils.py']"
     },
     "execution_count": 12,
     "metadata": {},
     "output_type": "execute_result"
    }
   ],
   "source": [
    "os.listdir()"
   ],
   "metadata": {
    "collapsed": false,
    "pycharm": {
     "name": "#%%\n"
    }
   }
  },
  {
   "cell_type": "code",
   "execution_count": 14,
   "outputs": [],
   "source": [
    "ENTRIES_PATH = \"hidden_entries_2022-06-18\"\n",
    "extracted_files = os.listdir(ENTRIES_PATH)\n",
    "for file in extracted_files:\n",
    "    file_protein_name = file.split('_')[2].replace('.txt', '')\n",
    "    hidden_data = pd.read_csv(op.join(ENTRIES_PATH, file), sep=\"\\t\")\n",
    "    [hidden_data_protein_name] = hidden_data[\"UniProt_ID\"].unique()\n",
    "    assert hidden_data_protein_name == file_protein_name"
   ],
   "metadata": {
    "collapsed": false,
    "pycharm": {
     "name": "#%%\n"
    }
   }
  },
  {
   "cell_type": "code",
   "execution_count": null,
   "outputs": [],
   "source": [],
   "metadata": {
    "collapsed": false,
    "pycharm": {
     "name": "#%%\n"
    }
   }
  },
  {
   "cell_type": "code",
   "execution_count": null,
   "outputs": [],
   "source": [],
   "metadata": {
    "collapsed": false,
    "pycharm": {
     "name": "#%%\n"
    }
   }
  }
 ],
 "metadata": {
  "kernelspec": {
   "display_name": "Python 3",
   "language": "python",
   "name": "python3"
  },
  "language_info": {
   "codemirror_mode": {
    "name": "ipython",
    "version": 2
   },
   "file_extension": ".py",
   "mimetype": "text/x-python",
   "name": "python",
   "nbconvert_exporter": "python",
   "pygments_lexer": "ipython2",
   "version": "2.7.6"
  }
 },
 "nbformat": 4,
 "nbformat_minor": 0
}