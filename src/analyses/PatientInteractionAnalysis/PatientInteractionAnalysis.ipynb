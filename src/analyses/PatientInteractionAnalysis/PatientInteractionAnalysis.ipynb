{
 "cells": [
  {
   "cell_type": "markdown",
   "source": [
    "# Patient Interaction Analysis"
   ],
   "metadata": {
    "collapsed": false,
    "pycharm": {
     "name": "#%% md\n"
    }
   }
  },
  {
   "cell_type": "markdown",
   "source": [
    "## Setup"
   ],
   "metadata": {
    "collapsed": false,
    "pycharm": {
     "name": "#%% md\n"
    }
   }
  },
  {
   "cell_type": "code",
   "execution_count": 1,
   "outputs": [
    {
     "name": "stdout",
     "output_type": "stream",
     "text": [
      "\u001B[32mJune 18, 2022 17:58:18\u001B[0m\n"
     ]
    }
   ],
   "source": [
    "from datetime import datetime\n",
    "\n",
    "print(\"\\033[32m{}\\033[0m\".format(datetime.now().strftime(\"%B %d, %Y %H:%M:%S\")))"
   ],
   "metadata": {
    "collapsed": false,
    "pycharm": {
     "name": "#%%\n"
    }
   }
  },
  {
   "cell_type": "code",
   "execution_count": 2,
   "outputs": [],
   "source": [
    "import os.path as op\n",
    "from tqdm.notebook import tqdm\n",
    "import pandas as pd\n",
    "from src.helpers.helpers_analysis.patient_interaction_analysis import PatientInteractionAnalysis\n",
    "from src.helpers.helpers_analysis.protein_id_retrieval import ProteinIDFetcher\n",
    "\n",
    "# SNV_PATHS\n",
    "SNV_COMMON_PATH = \"../../../data/snv_datasets/\"\n",
    "BRCA_SNV_PATH = op.join(SNV_COMMON_PATH, \"SNV_BRCA_hg38_2021-09-22.csv\")\n",
    "COAD_SNV_PATH = op.join(SNV_COMMON_PATH, \"SNV_COAD_hg38_2021-09-22.csv\")\n",
    "ESCA_SNV_PATH = op.join(SNV_COMMON_PATH, \"SNV_ESCA_hg38_2021-09-22.csv\")\n",
    "GBM_SNV_PATH = op.join(SNV_COMMON_PATH, \"SNV_GBM_hg38_2021-09-22.csv\")\n",
    "HNSC_SNV_PATH = op.join(SNV_COMMON_PATH, \"SNV_HNSC_hg38_2021-09-22.csv\")\n",
    "OV_SNV_PATH = op.join(SNV_COMMON_PATH, \"SNV_OV_hg38_2021-09-22.csv\")\n",
    "\n",
    "BRCA_PRELIMINARY_DATA_PATH = r\"../../../data/predictions_datasets/brca_prediction_2022-06-17/ed35a3a3/brca_preliminary_data_cgc_2022-06-17.xlsx\"\n",
    "COAD_PRELIMINARY_DATA_PATH = r\"../../../data/predictions_datasets/coad_prediction_2022-06-17/84fd283a/coad_preliminary_data_cgc_2022-06-17.xlsx\"\n",
    "ESCA_PRELIMINARY_DATA_PATH = r\"../../../data/predictions_datasets/esca_prediction_2022-06-17/f2d1e99a/esca_preliminary_data_cgc_2022-06-17.xlsx\"\n",
    "GBM_PRELIMINARY_DATA_PATH = r\"../../../data/predictions_datasets/gbm_prediction_2022-06-17/8d7f7caa/gbm_preliminary_data_cgc_2022-06-17.xlsx\"\n",
    "HNSC_PRELIMINARY_DATA_PATH = r\"../../../data/predictions_datasets/hnsc_prediction_2022-06-17/76f498d9/hnsc_preliminary_data_cgc_2022-06-17.xlsx\"\n",
    "OV_PRELIMINARY_DATA_PATH = r\"../../../data/predictions_datasets/ov_prediction_2022-06-17/865d1897/ov_preliminary_data_cgc_2022-06-17.xlsx\"\n",
    "\n",
    "# PATIENT INTERACTION DATA PATHS\n",
    "BRCA_PATIENT_INTERACTION_DATA_PATH = \"../../../data/patient_interaction_datasets/BRCA_patient_interactions_analysis_table_2022-06-17.xlsx\"\n",
    "COAD_PATIENT_INTERACTION_DATA_PATH = \"../../../data/patient_interaction_datasets/COAD_patient_interactions_analysis_table_2022-06-17.xlsx\"\n",
    "ESCA_PATIENT_INTERACTION_DATA_PATH = \"../../../data/patient_interaction_datasets/ESCA_patient_interactions_analysis_table_2022-06-17.xlsx\"\n",
    "GBM_PATIENT_INTERACTION_DATA_PATH = \"../../../data/patient_interaction_datasets/GBM_patient_interactions_analysis_table_2022-06-17.xlsx\"\n",
    "HNSC_PATIENT_INTERACTION_DATA_PATH = \"../../../data/patient_interaction_datasets/HNSC_patient_interactions_analysis_table_2022-06-17.xlsx\"\n",
    "OV_PATIENT_INTERACTION_DATA_PATH = \"../../../data/patient_interaction_datasets/OV_patient_interactions_analysis_table_2022-06-17.xlsx\"\n",
    "\n",
    "UNIPROT_GENE_MAPPING_PATH = \"../../helpers/helpers_analysis/gene_retrieval/UNIPROT_GENE_MAPPING.csv\"\n",
    "\n",
    "# Reflect changes in the modules immediately.\n",
    "%load_ext autoreload\n",
    "%autoreload 2"
   ],
   "metadata": {
    "collapsed": false,
    "pycharm": {
     "name": "#%%\n"
    }
   }
  },
  {
   "cell_type": "markdown",
   "source": [
    "## Instantiate `PatientInteractionAnalysis` Objects for Each Cohort"
   ],
   "metadata": {
    "collapsed": false,
    "pycharm": {
     "name": "#%% md\n"
    }
   }
  },
  {
   "cell_type": "markdown",
   "source": [
    "### BRCA"
   ],
   "metadata": {
    "collapsed": false,
    "pycharm": {
     "name": "#%% md\n"
    }
   }
  },
  {
   "cell_type": "code",
   "execution_count": 3,
   "outputs": [
    {
     "name": "stdout",
     "output_type": "stream",
     "text": [
      "2022-06-18 17:58:20 |\u001B[36m DEBUG    \u001B[0m| src.helpers.helpers_analysis.patient_interaction_analysis | Loading SNV data simplified ..\n",
      "2022-06-18 17:58:20 |\u001B[32m INFO     \u001B[0m| src.helpers.helpers_analysis.loaders | Loading BRCA SNV datasets ..\n",
      "2022-06-18 17:58:29 |\u001B[36m DEBUG    \u001B[0m| src.helpers.helpers_analysis.loaders | BRCA SNV data size: (120988, 121)\n",
      "2022-06-18 17:58:29 |\u001B[36m DEBUG    \u001B[0m| src.helpers.helpers_analysis.loaders | BRCA SNV data processed size: (60251, 121)\n",
      "2022-06-18 17:58:29 |\u001B[32m INFO     \u001B[0m| src.helpers.helpers_analysis.loaders | BRCA SNV datasets are loaded.\n",
      "2022-06-18 17:58:29 |\u001B[36m DEBUG    \u001B[0m| src.helpers.helpers_analysis.patient_interaction_analysis | Loading patient ids ..\n",
      "2022-06-18 17:58:29 |\u001B[36m DEBUG    \u001B[0m| src.helpers.helpers_analysis.patient_interaction_analysis | Loading patient to snv_data ..\n"
     ]
    },
    {
     "data": {
      "text/plain": "  0%|          | 0/985 [00:00<?, ?it/s]",
      "application/vnd.jupyter.widget-view+json": {
       "version_major": 2,
       "version_minor": 0,
       "model_id": "33eeaa28f93448769596d109b1d849a3"
      }
     },
     "metadata": {},
     "output_type": "display_data"
    },
    {
     "name": "stdout",
     "output_type": "stream",
     "text": [
      "2022-06-18 17:58:39 |\u001B[36m DEBUG    \u001B[0m| src.helpers.helpers_analysis.patient_interaction_analysis | patient interaction data patient data ..\n"
     ]
    }
   ],
   "source": [
    "brca_pia = PatientInteractionAnalysis(\n",
    "    tcga=\"BRCA\",\n",
    "    tcga_snv_path=BRCA_SNV_PATH,\n",
    "    patient_interaction_data_path=BRCA_PATIENT_INTERACTION_DATA_PATH,\n",
    "    mapping_data_path=UNIPROT_GENE_MAPPING_PATH\n",
    ")"
   ],
   "metadata": {
    "collapsed": false,
    "pycharm": {
     "name": "#%%\n"
    }
   }
  },
  {
   "cell_type": "code",
   "execution_count": 4,
   "outputs": [
    {
     "data": {
      "text/plain": "985"
     },
     "execution_count": 4,
     "metadata": {},
     "output_type": "execute_result"
    }
   ],
   "source": [
    "len(brca_pia.patients)"
   ],
   "metadata": {
    "collapsed": false,
    "pycharm": {
     "name": "#%%\n"
    }
   }
  },
  {
   "cell_type": "markdown",
   "source": [
    "### COAD"
   ],
   "metadata": {
    "collapsed": false,
    "pycharm": {
     "name": "#%% md\n"
    }
   }
  },
  {
   "cell_type": "code",
   "execution_count": 5,
   "outputs": [
    {
     "name": "stdout",
     "output_type": "stream",
     "text": [
      "2022-06-18 17:58:40 |\u001B[36m DEBUG    \u001B[0m| src.helpers.helpers_analysis.patient_interaction_analysis | Loading SNV data simplified ..\n",
      "2022-06-18 17:58:40 |\u001B[32m INFO     \u001B[0m| src.helpers.helpers_analysis.loaders | Loading COAD SNV datasets ..\n",
      "2022-06-18 17:58:54 |\u001B[36m DEBUG    \u001B[0m| src.helpers.helpers_analysis.loaders | COAD SNV data size: (264786, 121)\n",
      "2022-06-18 17:58:55 |\u001B[36m DEBUG    \u001B[0m| src.helpers.helpers_analysis.loaders | COAD SNV data processed size: (126470, 121)\n",
      "2022-06-18 17:58:55 |\u001B[32m INFO     \u001B[0m| src.helpers.helpers_analysis.loaders | COAD SNV datasets are loaded.\n",
      "2022-06-18 17:58:55 |\u001B[36m DEBUG    \u001B[0m| src.helpers.helpers_analysis.patient_interaction_analysis | Loading patient ids ..\n",
      "2022-06-18 17:58:55 |\u001B[36m DEBUG    \u001B[0m| src.helpers.helpers_analysis.patient_interaction_analysis | Loading patient to snv_data ..\n"
     ]
    },
    {
     "data": {
      "text/plain": "  0%|          | 0/399 [00:00<?, ?it/s]",
      "application/vnd.jupyter.widget-view+json": {
       "version_major": 2,
       "version_minor": 0,
       "model_id": "977f552540d44aa2b343437765c454e5"
      }
     },
     "metadata": {},
     "output_type": "display_data"
    },
    {
     "name": "stdout",
     "output_type": "stream",
     "text": [
      "2022-06-18 17:59:02 |\u001B[36m DEBUG    \u001B[0m| src.helpers.helpers_analysis.patient_interaction_analysis | patient interaction data patient data ..\n"
     ]
    }
   ],
   "source": [
    "coad_pia = PatientInteractionAnalysis(\n",
    "    tcga=\"COAD\",\n",
    "    tcga_snv_path=COAD_SNV_PATH,\n",
    "    patient_interaction_data_path=COAD_PATIENT_INTERACTION_DATA_PATH,\n",
    "    mapping_data_path=UNIPROT_GENE_MAPPING_PATH\n",
    ")"
   ],
   "metadata": {
    "collapsed": false,
    "pycharm": {
     "name": "#%%\n"
    }
   }
  },
  {
   "cell_type": "code",
   "execution_count": 6,
   "outputs": [
    {
     "data": {
      "text/plain": "399"
     },
     "execution_count": 6,
     "metadata": {},
     "output_type": "execute_result"
    }
   ],
   "source": [
    "len(coad_pia.patients)"
   ],
   "metadata": {
    "collapsed": false,
    "pycharm": {
     "name": "#%%\n"
    }
   }
  },
  {
   "cell_type": "markdown",
   "source": [
    "### ESCA"
   ],
   "metadata": {
    "collapsed": false,
    "pycharm": {
     "name": "#%% md\n"
    }
   }
  },
  {
   "cell_type": "code",
   "execution_count": 7,
   "outputs": [
    {
     "name": "stdout",
     "output_type": "stream",
     "text": [
      "2022-06-18 17:59:04 |\u001B[36m DEBUG    \u001B[0m| src.helpers.helpers_analysis.patient_interaction_analysis | Loading SNV data simplified ..\n",
      "2022-06-18 17:59:04 |\u001B[32m INFO     \u001B[0m| src.helpers.helpers_analysis.loaders | Loading ESCA SNV datasets ..\n",
      "2022-06-18 17:59:06 |\u001B[36m DEBUG    \u001B[0m| src.helpers.helpers_analysis.loaders | ESCA SNV data size: (45313, 121)\n",
      "2022-06-18 17:59:07 |\u001B[36m DEBUG    \u001B[0m| src.helpers.helpers_analysis.loaders | ESCA SNV data processed size: (19497, 121)\n",
      "2022-06-18 17:59:07 |\u001B[32m INFO     \u001B[0m| src.helpers.helpers_analysis.loaders | ESCA SNV datasets are loaded.\n",
      "2022-06-18 17:59:07 |\u001B[36m DEBUG    \u001B[0m| src.helpers.helpers_analysis.patient_interaction_analysis | Loading patient ids ..\n",
      "2022-06-18 17:59:07 |\u001B[36m DEBUG    \u001B[0m| src.helpers.helpers_analysis.patient_interaction_analysis | Loading patient to snv_data ..\n"
     ]
    },
    {
     "data": {
      "text/plain": "  0%|          | 0/184 [00:00<?, ?it/s]",
      "application/vnd.jupyter.widget-view+json": {
       "version_major": 2,
       "version_minor": 0,
       "model_id": "2ebe9572da0e4c39b7b178f808350aac"
      }
     },
     "metadata": {},
     "output_type": "display_data"
    },
    {
     "name": "stdout",
     "output_type": "stream",
     "text": [
      "2022-06-18 17:59:08 |\u001B[36m DEBUG    \u001B[0m| src.helpers.helpers_analysis.patient_interaction_analysis | patient interaction data patient data ..\n"
     ]
    }
   ],
   "source": [
    "esca_pia = PatientInteractionAnalysis(\n",
    "    tcga=\"ESCA\", \n",
    "    tcga_snv_path=ESCA_SNV_PATH, \n",
    "    patient_interaction_data_path=ESCA_PATIENT_INTERACTION_DATA_PATH,\n",
    "    mapping_data_path=UNIPROT_GENE_MAPPING_PATH\n",
    ")"
   ],
   "metadata": {
    "collapsed": false,
    "pycharm": {
     "name": "#%%\n"
    }
   }
  },
  {
   "cell_type": "code",
   "execution_count": 8,
   "outputs": [
    {
     "data": {
      "text/plain": "184"
     },
     "execution_count": 8,
     "metadata": {},
     "output_type": "execute_result"
    }
   ],
   "source": [
    "len(esca_pia.patients)"
   ],
   "metadata": {
    "collapsed": false,
    "pycharm": {
     "name": "#%%\n"
    }
   }
  },
  {
   "cell_type": "markdown",
   "source": [
    "### GBM"
   ],
   "metadata": {
    "collapsed": false,
    "pycharm": {
     "name": "#%% md\n"
    }
   }
  },
  {
   "cell_type": "code",
   "execution_count": 9,
   "outputs": [
    {
     "name": "stdout",
     "output_type": "stream",
     "text": [
      "2022-06-18 17:59:08 |\u001B[36m DEBUG    \u001B[0m| src.helpers.helpers_analysis.patient_interaction_analysis | Loading SNV data simplified ..\n",
      "2022-06-18 17:59:08 |\u001B[32m INFO     \u001B[0m| src.helpers.helpers_analysis.loaders | Loading GBM SNV datasets ..\n",
      "2022-06-18 17:59:11 |\u001B[36m DEBUG    \u001B[0m| src.helpers.helpers_analysis.loaders | GBM SNV data size: (82765, 121)\n",
      "2022-06-18 17:59:11 |\u001B[36m DEBUG    \u001B[0m| src.helpers.helpers_analysis.loaders | GBM SNV data processed size: (46847, 121)\n",
      "2022-06-18 17:59:11 |\u001B[32m INFO     \u001B[0m| src.helpers.helpers_analysis.loaders | GBM SNV datasets are loaded.\n",
      "2022-06-18 17:59:11 |\u001B[36m DEBUG    \u001B[0m| src.helpers.helpers_analysis.patient_interaction_analysis | Loading patient ids ..\n",
      "2022-06-18 17:59:11 |\u001B[36m DEBUG    \u001B[0m| src.helpers.helpers_analysis.patient_interaction_analysis | Loading patient to snv_data ..\n"
     ]
    },
    {
     "data": {
      "text/plain": "  0%|          | 0/392 [00:00<?, ?it/s]",
      "application/vnd.jupyter.widget-view+json": {
       "version_major": 2,
       "version_minor": 0,
       "model_id": "694549e100de4982a5dafc4e72ac734d"
      }
     },
     "metadata": {},
     "output_type": "display_data"
    },
    {
     "name": "stdout",
     "output_type": "stream",
     "text": [
      "2022-06-18 17:59:15 |\u001B[36m DEBUG    \u001B[0m| src.helpers.helpers_analysis.patient_interaction_analysis | patient interaction data patient data ..\n"
     ]
    }
   ],
   "source": [
    "gbm_pia = PatientInteractionAnalysis(\n",
    "    tcga=\"GBM\", \n",
    "    tcga_snv_path=GBM_SNV_PATH, \n",
    "    patient_interaction_data_path=GBM_PATIENT_INTERACTION_DATA_PATH,\n",
    "    mapping_data_path=UNIPROT_GENE_MAPPING_PATH\n",
    ")"
   ],
   "metadata": {
    "collapsed": false,
    "pycharm": {
     "name": "#%%\n"
    }
   }
  },
  {
   "cell_type": "code",
   "execution_count": 10,
   "outputs": [
    {
     "data": {
      "text/plain": "392"
     },
     "execution_count": 10,
     "metadata": {},
     "output_type": "execute_result"
    }
   ],
   "source": [
    "len(gbm_pia.patients)"
   ],
   "metadata": {
    "collapsed": false,
    "pycharm": {
     "name": "#%%\n"
    }
   }
  },
  {
   "cell_type": "markdown",
   "source": [
    "### HNSC"
   ],
   "metadata": {
    "collapsed": false,
    "pycharm": {
     "name": "#%% md\n"
    }
   }
  },
  {
   "cell_type": "code",
   "execution_count": 11,
   "outputs": [
    {
     "name": "stdout",
     "output_type": "stream",
     "text": [
      "2022-06-18 17:59:15 |\u001B[36m DEBUG    \u001B[0m| src.helpers.helpers_analysis.patient_interaction_analysis | Loading SNV data simplified ..\n",
      "2022-06-18 17:59:15 |\u001B[32m INFO     \u001B[0m| src.helpers.helpers_analysis.loaders | Loading HNSC SNV datasets ..\n",
      "2022-06-18 17:59:21 |\u001B[36m DEBUG    \u001B[0m| src.helpers.helpers_analysis.loaders | HNSC SNV data size: (102309, 121)\n",
      "2022-06-18 17:59:21 |\u001B[36m DEBUG    \u001B[0m| src.helpers.helpers_analysis.loaders | HNSC SNV data processed size: (54883, 121)\n",
      "2022-06-18 17:59:21 |\u001B[32m INFO     \u001B[0m| src.helpers.helpers_analysis.loaders | HNSC SNV datasets are loaded.\n",
      "2022-06-18 17:59:22 |\u001B[36m DEBUG    \u001B[0m| src.helpers.helpers_analysis.patient_interaction_analysis | Loading patient ids ..\n",
      "2022-06-18 17:59:22 |\u001B[36m DEBUG    \u001B[0m| src.helpers.helpers_analysis.patient_interaction_analysis | Loading patient to snv_data ..\n"
     ]
    },
    {
     "data": {
      "text/plain": "  0%|          | 0/507 [00:00<?, ?it/s]",
      "application/vnd.jupyter.widget-view+json": {
       "version_major": 2,
       "version_minor": 0,
       "model_id": "297b9e3157574768865ae7fb58885f04"
      }
     },
     "metadata": {},
     "output_type": "display_data"
    },
    {
     "name": "stdout",
     "output_type": "stream",
     "text": [
      "2022-06-18 17:59:25 |\u001B[36m DEBUG    \u001B[0m| src.helpers.helpers_analysis.patient_interaction_analysis | patient interaction data patient data ..\n"
     ]
    }
   ],
   "source": [
    "hnsc_pia = PatientInteractionAnalysis(\n",
    "    tcga=\"HNSC\", \n",
    "    tcga_snv_path=HNSC_SNV_PATH, \n",
    "    patient_interaction_data_path=HNSC_PATIENT_INTERACTION_DATA_PATH,\n",
    "    mapping_data_path=UNIPROT_GENE_MAPPING_PATH\n",
    ")"
   ],
   "metadata": {
    "collapsed": false,
    "pycharm": {
     "name": "#%%\n"
    }
   }
  },
  {
   "cell_type": "code",
   "execution_count": 12,
   "outputs": [
    {
     "data": {
      "text/plain": "507"
     },
     "execution_count": 12,
     "metadata": {},
     "output_type": "execute_result"
    }
   ],
   "source": [
    "len(hnsc_pia.patients)"
   ],
   "metadata": {
    "collapsed": false,
    "pycharm": {
     "name": "#%%\n"
    }
   }
  },
  {
   "cell_type": "markdown",
   "source": [
    "### OV"
   ],
   "metadata": {
    "collapsed": false,
    "pycharm": {
     "name": "#%% md\n"
    }
   }
  },
  {
   "cell_type": "code",
   "execution_count": 13,
   "outputs": [
    {
     "name": "stdout",
     "output_type": "stream",
     "text": [
      "2022-06-18 17:59:26 |\u001B[36m DEBUG    \u001B[0m| src.helpers.helpers_analysis.patient_interaction_analysis | Loading SNV data simplified ..\n",
      "2022-06-18 17:59:26 |\u001B[32m INFO     \u001B[0m| src.helpers.helpers_analysis.loaders | Loading OV SNV datasets ..\n",
      "2022-06-18 17:59:31 |\u001B[36m DEBUG    \u001B[0m| src.helpers.helpers_analysis.loaders | OV SNV data size: (75168, 121)\n",
      "2022-06-18 17:59:31 |\u001B[36m DEBUG    \u001B[0m| src.helpers.helpers_analysis.loaders | OV SNV data processed size: (38486, 121)\n",
      "2022-06-18 17:59:31 |\u001B[32m INFO     \u001B[0m| src.helpers.helpers_analysis.loaders | OV SNV datasets are loaded.\n",
      "2022-06-18 17:59:31 |\u001B[36m DEBUG    \u001B[0m| src.helpers.helpers_analysis.patient_interaction_analysis | Loading patient ids ..\n",
      "2022-06-18 17:59:31 |\u001B[36m DEBUG    \u001B[0m| src.helpers.helpers_analysis.patient_interaction_analysis | Loading patient to snv_data ..\n"
     ]
    },
    {
     "data": {
      "text/plain": "  0%|          | 0/436 [00:00<?, ?it/s]",
      "application/vnd.jupyter.widget-view+json": {
       "version_major": 2,
       "version_minor": 0,
       "model_id": "491bab3e53cf448a9e59d7ed35be6f7c"
      }
     },
     "metadata": {},
     "output_type": "display_data"
    },
    {
     "name": "stdout",
     "output_type": "stream",
     "text": [
      "2022-06-18 17:59:34 |\u001B[36m DEBUG    \u001B[0m| src.helpers.helpers_analysis.patient_interaction_analysis | patient interaction data patient data ..\n"
     ]
    }
   ],
   "source": [
    "ov_pia = PatientInteractionAnalysis(\n",
    "    tcga=\"OV\", \n",
    "    tcga_snv_path=OV_SNV_PATH, \n",
    "    patient_interaction_data_path=OV_PATIENT_INTERACTION_DATA_PATH,\n",
    "    mapping_data_path=UNIPROT_GENE_MAPPING_PATH\n",
    ")"
   ],
   "metadata": {
    "collapsed": false,
    "pycharm": {
     "name": "#%%\n"
    }
   }
  },
  {
   "cell_type": "code",
   "execution_count": 14,
   "outputs": [
    {
     "data": {
      "text/plain": "436"
     },
     "execution_count": 14,
     "metadata": {},
     "output_type": "execute_result"
    }
   ],
   "source": [
    "len(ov_pia.patients)"
   ],
   "metadata": {
    "collapsed": false,
    "pycharm": {
     "name": "#%%\n"
    }
   }
  },
  {
   "cell_type": "code",
   "execution_count": null,
   "outputs": [],
   "source": [],
   "metadata": {
    "collapsed": false,
    "pycharm": {
     "name": "#%%\n"
    }
   }
  },
  {
   "cell_type": "code",
   "execution_count": 18,
   "outputs": [],
   "source": [
    "FILTERED_PROTEINS_PATH = \"../MostFrequentlyDisruptedInteractions/filtered_proteins/\""
   ],
   "metadata": {
    "collapsed": false,
    "pycharm": {
     "name": "#%%\n"
    }
   }
  },
  {
   "cell_type": "code",
   "execution_count": 21,
   "outputs": [],
   "source": [
    "import os.path as op\n",
    "\n",
    "def load_filtered_proteins(tcga, path):\n",
    "    file_path = op.join(path, f\"{tcga}_filtered_proteins.txt\")\n",
    "    with open(file_path) as file:\n",
    "        lines = file.readlines()\n",
    "        proteins = [line.strip().split(\"_\")[0] for line in lines]\n",
    "\n",
    "    print(f\"{len(proteins)} filtered proteins are returned for {tcga}\")\n",
    "    return proteins"
   ],
   "metadata": {
    "collapsed": false,
    "pycharm": {
     "name": "#%%\n"
    }
   }
  },
  {
   "cell_type": "code",
   "execution_count": 22,
   "outputs": [
    {
     "name": "stdout",
     "output_type": "stream",
     "text": [
      "7 filtered proteins are returned for brca\n",
      "32 filtered proteins are returned for coad\n",
      "2 filtered proteins are returned for esca\n",
      "3 filtered proteins are returned for gbm\n",
      "16 filtered proteins are returned for hnsc\n",
      "3 filtered proteins are returned for ov\n"
     ]
    }
   ],
   "source": [
    "brca_filtered_proteins = load_filtered_proteins(tcga=\"brca\", path=FILTERED_PROTEINS_PATH)\n",
    "coad_filtered_proteins = load_filtered_proteins(tcga=\"coad\", path=FILTERED_PROTEINS_PATH)\n",
    "esca_filtered_proteins = load_filtered_proteins(tcga=\"esca\", path=FILTERED_PROTEINS_PATH)\n",
    "gbm_filtered_proteins = load_filtered_proteins(tcga=\"gbm\", path=FILTERED_PROTEINS_PATH)\n",
    "hnsc_filtered_proteins = load_filtered_proteins(tcga=\"hnsc\", path=FILTERED_PROTEINS_PATH)\n",
    "ov_filtered_proteins = load_filtered_proteins(tcga=\"ov\", path=FILTERED_PROTEINS_PATH)"
   ],
   "metadata": {
    "collapsed": false,
    "pycharm": {
     "name": "#%%\n"
    }
   }
  },
  {
   "cell_type": "code",
   "execution_count": 23,
   "outputs": [
    {
     "data": {
      "text/plain": "['P42336', 'P04637', 'P68431', 'P62805', 'P45985', 'P04626', 'P0CG48']"
     },
     "execution_count": 23,
     "metadata": {},
     "output_type": "execute_result"
    }
   ],
   "source": [
    "brca_filtered_proteins"
   ],
   "metadata": {
    "collapsed": false,
    "pycharm": {
     "name": "#%%\n"
    }
   }
  },
  {
   "cell_type": "markdown",
   "source": [
    "## Mutual Exclusivity Calculation"
   ],
   "metadata": {
    "collapsed": false,
    "pycharm": {
     "name": "#%% md\n"
    }
   }
  },
  {
   "cell_type": "code",
   "execution_count": 31,
   "outputs": [],
   "source": [
    "MUTEX_PATH = \"../MutualExclusivity/mutex\""
   ],
   "metadata": {
    "collapsed": false,
    "pycharm": {
     "name": "#%%\n"
    }
   }
  },
  {
   "cell_type": "code",
   "execution_count": 25,
   "outputs": [
    {
     "data": {
      "text/plain": "['P38398']"
     },
     "execution_count": 25,
     "metadata": {},
     "output_type": "execute_result"
    }
   ],
   "source": [
    "ProteinIDFetcher(UNIPROT_GENE_MAPPING_PATH).fetch(\"BRCA1\")"
   ],
   "metadata": {
    "collapsed": false,
    "pycharm": {
     "name": "#%%\n"
    }
   }
  },
  {
   "cell_type": "code",
   "execution_count": 24,
   "outputs": [],
   "source": [],
   "metadata": {
    "collapsed": false,
    "pycharm": {
     "name": "#%%\n"
    }
   }
  },
  {
   "cell_type": "code",
   "execution_count": 26,
   "outputs": [],
   "source": [
    "## updates the Mutual exclusivity calculations"
   ],
   "metadata": {
    "collapsed": false,
    "pycharm": {
     "name": "#%%\n"
    }
   }
  },
  {
   "cell_type": "markdown",
   "source": [
    "### BRCA Mutex"
   ],
   "metadata": {
    "collapsed": false,
    "pycharm": {
     "name": "#%% md\n"
    }
   }
  },
  {
   "cell_type": "code",
   "execution_count": 27,
   "outputs": [
    {
     "data": {
      "text/plain": "Counter({'P27986:PIK3R1': 120,\n         'O00459:PIK3R2': 120,\n         'P43403:ZAP70': 115,\n         'Q92569:PIK3R3': 5})"
     },
     "execution_count": 27,
     "metadata": {},
     "output_type": "execute_result"
    }
   ],
   "source": [
    "brca_pia.get_disrupted_interactors(identifier=\"P42336\", identifier_type=\"protein\", return_counter=True)"
   ],
   "metadata": {
    "collapsed": false,
    "pycharm": {
     "name": "#%%\n"
    }
   }
  },
  {
   "cell_type": "code",
   "execution_count": 28,
   "outputs": [
    {
     "name": "stdout",
     "output_type": "stream",
     "text": [
      "2022-06-18 18:09:29 |\u001B[32m INFO     \u001B[0m| src.helpers.helpers_analysis.patient_interaction_analysis | Calculating Mutual Exclusivity over P42336's interactors ..\n",
      "2022-06-18 18:09:29 |\u001B[36m DEBUG    \u001B[0m| src.helpers.helpers_analysis.patient_interaction_analysis | P42336 have 4 interactors:\n",
      "Counter({'P27986:PIK3R1': 120, 'O00459:PIK3R2': 120, 'P43403:ZAP70': 115, 'Q92569:PIK3R3': 5})\n"
     ]
    },
    {
     "data": {
      "text/plain": "   TCGA   PROTEIN:GENE  NUM_PATIENTS     INTERACTOR  NUM_PATIENTS_INTERACTOR  \\\n0  BRCA  P42336:PIK3CA           311  P27986:PIK3R1                        8   \n1  BRCA  P42336:PIK3CA           311  O00459:PIK3R2                        3   \n2  BRCA  P42336:PIK3CA           311   P43403:ZAP70                        2   \n3  BRCA  P42336:PIK3CA           311  Q92569:PIK3R3                        3   \n\n   DISRUPTIVE_INTERACTOR_COUNT  #_PATIENTS_A_DISR_B  \\\n0                          120                  120   \n1                          120                  120   \n2                          115                  115   \n3                            5                    5   \n\n                                   PATIENTS_A_DISR_B  #_PATIENTS_B_DISR_A  \\\n0  {TCGA-E9-A1R5, TCGA-C8-A12Y, TCGA-EW-A1IX, TCG...                    0   \n1  {TCGA-E9-A1R5, TCGA-C8-A12Y, TCGA-EW-A1IX, TCG...                    0   \n2  {TCGA-C8-A12Y, TCGA-EW-A1IX, TCGA-D8-A143, TCG...                    0   \n3  {TCGA-LD-A74U, TCGA-E9-A1R5, TCGA-D8-A145, TCG...                    0   \n\n  PATIENTS_B_DISR_A  #_PATIENTS_INTERSECTION PATIENTS_INTERSECTION  \\\n0                {}                        0                    {}   \n1                {}                        0                    {}   \n2                {}                        0                    {}   \n3                {}                        0                    {}   \n\n   MUTUAL_EXCLUSIVITY  \n0              0.9937  \n1              0.9968  \n2              0.9936  \n3              0.9968  ",
      "text/html": "<div>\n<style scoped>\n    .dataframe tbody tr th:only-of-type {\n        vertical-align: middle;\n    }\n\n    .dataframe tbody tr th {\n        vertical-align: top;\n    }\n\n    .dataframe thead th {\n        text-align: right;\n    }\n</style>\n<table border=\"1\" class=\"dataframe\">\n  <thead>\n    <tr style=\"text-align: right;\">\n      <th></th>\n      <th>TCGA</th>\n      <th>PROTEIN:GENE</th>\n      <th>NUM_PATIENTS</th>\n      <th>INTERACTOR</th>\n      <th>NUM_PATIENTS_INTERACTOR</th>\n      <th>DISRUPTIVE_INTERACTOR_COUNT</th>\n      <th>#_PATIENTS_A_DISR_B</th>\n      <th>PATIENTS_A_DISR_B</th>\n      <th>#_PATIENTS_B_DISR_A</th>\n      <th>PATIENTS_B_DISR_A</th>\n      <th>#_PATIENTS_INTERSECTION</th>\n      <th>PATIENTS_INTERSECTION</th>\n      <th>MUTUAL_EXCLUSIVITY</th>\n    </tr>\n  </thead>\n  <tbody>\n    <tr>\n      <th>0</th>\n      <td>BRCA</td>\n      <td>P42336:PIK3CA</td>\n      <td>311</td>\n      <td>P27986:PIK3R1</td>\n      <td>8</td>\n      <td>120</td>\n      <td>120</td>\n      <td>{TCGA-E9-A1R5, TCGA-C8-A12Y, TCGA-EW-A1IX, TCG...</td>\n      <td>0</td>\n      <td>{}</td>\n      <td>0</td>\n      <td>{}</td>\n      <td>0.9937</td>\n    </tr>\n    <tr>\n      <th>1</th>\n      <td>BRCA</td>\n      <td>P42336:PIK3CA</td>\n      <td>311</td>\n      <td>O00459:PIK3R2</td>\n      <td>3</td>\n      <td>120</td>\n      <td>120</td>\n      <td>{TCGA-E9-A1R5, TCGA-C8-A12Y, TCGA-EW-A1IX, TCG...</td>\n      <td>0</td>\n      <td>{}</td>\n      <td>0</td>\n      <td>{}</td>\n      <td>0.9968</td>\n    </tr>\n    <tr>\n      <th>2</th>\n      <td>BRCA</td>\n      <td>P42336:PIK3CA</td>\n      <td>311</td>\n      <td>P43403:ZAP70</td>\n      <td>2</td>\n      <td>115</td>\n      <td>115</td>\n      <td>{TCGA-C8-A12Y, TCGA-EW-A1IX, TCGA-D8-A143, TCG...</td>\n      <td>0</td>\n      <td>{}</td>\n      <td>0</td>\n      <td>{}</td>\n      <td>0.9936</td>\n    </tr>\n    <tr>\n      <th>3</th>\n      <td>BRCA</td>\n      <td>P42336:PIK3CA</td>\n      <td>311</td>\n      <td>Q92569:PIK3R3</td>\n      <td>3</td>\n      <td>5</td>\n      <td>5</td>\n      <td>{TCGA-LD-A74U, TCGA-E9-A1R5, TCGA-D8-A145, TCG...</td>\n      <td>0</td>\n      <td>{}</td>\n      <td>0</td>\n      <td>{}</td>\n      <td>0.9968</td>\n    </tr>\n  </tbody>\n</table>\n</div>"
     },
     "execution_count": 28,
     "metadata": {},
     "output_type": "execute_result"
    }
   ],
   "source": [
    "brca_pia.get_disruptive_mutual_exclusivity_data(\"P42336\")"
   ],
   "metadata": {
    "collapsed": false,
    "pycharm": {
     "name": "#%%\n"
    }
   }
  },
  {
   "cell_type": "code",
   "execution_count": 29,
   "outputs": [
    {
     "name": "stdout",
     "output_type": "stream",
     "text": [
      "2022-06-18 18:10:21 |\u001B[32m INFO     \u001B[0m| src.helpers.helpers_analysis.patient_interaction_analysis | Calculating Mutual Exclusivity over P42336's interactors ..\n",
      "2022-06-18 18:10:21 |\u001B[36m DEBUG    \u001B[0m| src.helpers.helpers_analysis.patient_interaction_analysis | P42336 have 4 interactors:\n",
      "Counter({'P27986:PIK3R1': 120, 'O00459:PIK3R2': 120, 'P43403:ZAP70': 115, 'Q92569:PIK3R3': 5})\n"
     ]
    },
    {
     "data": {
      "text/plain": "   TCGA   PROTEIN:GENE  NUM_PATIENTS     INTERACTOR  NUM_PATIENTS_INTERACTOR  \\\n0  BRCA  P42336:PIK3CA           311  P27986:PIK3R1                        8   \n1  BRCA  P42336:PIK3CA           311  O00459:PIK3R2                        3   \n2  BRCA  P42336:PIK3CA           311   P43403:ZAP70                        2   \n3  BRCA  P42336:PIK3CA           311  Q92569:PIK3R3                        3   \n\n   DISRUPTIVE_INTERACTOR_COUNT  #_PATIENTS_A_DISR_B  \\\n0                          120                  120   \n1                          120                  120   \n2                          115                  115   \n3                            5                    5   \n\n                                   PATIENTS_A_DISR_B  #_PATIENTS_B_DISR_A  \\\n0  {TCGA-E9-A1R5, TCGA-C8-A12Y, TCGA-EW-A1IX, TCG...                    0   \n1  {TCGA-E9-A1R5, TCGA-C8-A12Y, TCGA-EW-A1IX, TCG...                    0   \n2  {TCGA-C8-A12Y, TCGA-EW-A1IX, TCGA-D8-A143, TCG...                    0   \n3  {TCGA-LD-A74U, TCGA-E9-A1R5, TCGA-D8-A145, TCG...                    0   \n\n  PATIENTS_B_DISR_A  #_PATIENTS_INTERSECTION PATIENTS_INTERSECTION  \\\n0                {}                        0                    {}   \n1                {}                        0                    {}   \n2                {}                        0                    {}   \n3                {}                        0                    {}   \n\n   MUTUAL_EXCLUSIVITY  \n0              0.9937  \n1              0.9968  \n2              0.9936  \n3              0.9968  ",
      "text/html": "<div>\n<style scoped>\n    .dataframe tbody tr th:only-of-type {\n        vertical-align: middle;\n    }\n\n    .dataframe tbody tr th {\n        vertical-align: top;\n    }\n\n    .dataframe thead th {\n        text-align: right;\n    }\n</style>\n<table border=\"1\" class=\"dataframe\">\n  <thead>\n    <tr style=\"text-align: right;\">\n      <th></th>\n      <th>TCGA</th>\n      <th>PROTEIN:GENE</th>\n      <th>NUM_PATIENTS</th>\n      <th>INTERACTOR</th>\n      <th>NUM_PATIENTS_INTERACTOR</th>\n      <th>DISRUPTIVE_INTERACTOR_COUNT</th>\n      <th>#_PATIENTS_A_DISR_B</th>\n      <th>PATIENTS_A_DISR_B</th>\n      <th>#_PATIENTS_B_DISR_A</th>\n      <th>PATIENTS_B_DISR_A</th>\n      <th>#_PATIENTS_INTERSECTION</th>\n      <th>PATIENTS_INTERSECTION</th>\n      <th>MUTUAL_EXCLUSIVITY</th>\n    </tr>\n  </thead>\n  <tbody>\n    <tr>\n      <th>0</th>\n      <td>BRCA</td>\n      <td>P42336:PIK3CA</td>\n      <td>311</td>\n      <td>P27986:PIK3R1</td>\n      <td>8</td>\n      <td>120</td>\n      <td>120</td>\n      <td>{TCGA-E9-A1R5, TCGA-C8-A12Y, TCGA-EW-A1IX, TCG...</td>\n      <td>0</td>\n      <td>{}</td>\n      <td>0</td>\n      <td>{}</td>\n      <td>0.9937</td>\n    </tr>\n    <tr>\n      <th>1</th>\n      <td>BRCA</td>\n      <td>P42336:PIK3CA</td>\n      <td>311</td>\n      <td>O00459:PIK3R2</td>\n      <td>3</td>\n      <td>120</td>\n      <td>120</td>\n      <td>{TCGA-E9-A1R5, TCGA-C8-A12Y, TCGA-EW-A1IX, TCG...</td>\n      <td>0</td>\n      <td>{}</td>\n      <td>0</td>\n      <td>{}</td>\n      <td>0.9968</td>\n    </tr>\n    <tr>\n      <th>2</th>\n      <td>BRCA</td>\n      <td>P42336:PIK3CA</td>\n      <td>311</td>\n      <td>P43403:ZAP70</td>\n      <td>2</td>\n      <td>115</td>\n      <td>115</td>\n      <td>{TCGA-C8-A12Y, TCGA-EW-A1IX, TCGA-D8-A143, TCG...</td>\n      <td>0</td>\n      <td>{}</td>\n      <td>0</td>\n      <td>{}</td>\n      <td>0.9936</td>\n    </tr>\n    <tr>\n      <th>3</th>\n      <td>BRCA</td>\n      <td>P42336:PIK3CA</td>\n      <td>311</td>\n      <td>Q92569:PIK3R3</td>\n      <td>3</td>\n      <td>5</td>\n      <td>5</td>\n      <td>{TCGA-LD-A74U, TCGA-E9-A1R5, TCGA-D8-A145, TCG...</td>\n      <td>0</td>\n      <td>{}</td>\n      <td>0</td>\n      <td>{}</td>\n      <td>0.9968</td>\n    </tr>\n  </tbody>\n</table>\n</div>"
     },
     "execution_count": 29,
     "metadata": {},
     "output_type": "execute_result"
    }
   ],
   "source": [
    "brca_pia.get_disruptive_mutual_exclusivity_data(\"P42336\")"
   ],
   "metadata": {
    "collapsed": false,
    "pycharm": {
     "name": "#%%\n"
    }
   }
  },
  {
   "cell_type": "code",
   "execution_count": 29,
   "outputs": [],
   "source": [],
   "metadata": {
    "collapsed": false,
    "pycharm": {
     "name": "#%%\n"
    }
   }
  },
  {
   "cell_type": "code",
   "execution_count": 30,
   "outputs": [
    {
     "data": {
      "text/plain": "0.9937304075235109"
     },
     "execution_count": 30,
     "metadata": {},
     "output_type": "execute_result"
    }
   ],
   "source": [
    "brca_pia.calculate_mutual_exclusivity(\"P42336\", \"P27986\", verbose=False, return_num_patients=False)"
   ],
   "metadata": {
    "collapsed": false,
    "pycharm": {
     "name": "#%%\n"
    }
   }
  },
  {
   "cell_type": "code",
   "execution_count": null,
   "outputs": [],
   "source": [],
   "metadata": {
    "collapsed": false,
    "pycharm": {
     "name": "#%%\n"
    }
   }
  },
  {
   "cell_type": "code",
   "execution_count": 33,
   "outputs": [
    {
     "name": "stdout",
     "output_type": "stream",
     "text": [
      "2022-06-18 18:14:52 |\u001B[32m INFO     \u001B[0m| src.helpers.helpers_analysis.patient_interaction_analysis | Calculating Mutual Exclusivity over P42336's interactors ..\n",
      "2022-06-18 18:14:52 |\u001B[36m DEBUG    \u001B[0m| src.helpers.helpers_analysis.patient_interaction_analysis | P42336 have 4 interactors:\n",
      "Counter({'P27986:PIK3R1': 120, 'O00459:PIK3R2': 120, 'P43403:ZAP70': 115, 'Q92569:PIK3R3': 5})\n",
      "2022-06-18 18:14:52 |\u001B[36m DEBUG    \u001B[0m| src.helpers.helpers_analysis.patient_interaction_analysis | Exporting Mutual Exclusivity BRCA P42336 ..\n",
      "2022-06-18 18:14:52 |\u001B[32m INFO     \u001B[0m| src.helpers.helpers_analysis.patient_interaction_analysis | ../MutualExclusivity/mutex\\BRCA\\BRCA_P42336_PIK3CA_2022-06-18.csv is exported successfully.\n",
      "2022-06-18 18:14:52 |\u001B[32m INFO     \u001B[0m| src.helpers.helpers_analysis.patient_interaction_analysis | Calculating Mutual Exclusivity over P04637's interactors ..\n",
      "2022-06-18 18:14:52 |\u001B[36m DEBUG    \u001B[0m| src.helpers.helpers_analysis.patient_interaction_analysis | P04637 have 15 interactors:\n",
      "Counter({'Q13625:TP53BP2': 41, 'Q96KQ4:PPP1R13B': 41, 'Q06187:BTK': 33, 'P62993:GRB2': 32, 'Q8WUF5:PPP1R13L': 29, 'Q9H3D4:TP63': 18, 'H2EHT1:TP53': 16, 'K7PPA8:TP53': 16, 'Q96KQ7:EHMT2': 14, 'O15350:TP73': 13, 'P07948:LYN': 12, 'Q9H9B1:EHMT1': 8, 'Q99728:BARD1': 8, 'O75832:PSMD10': 8, 'Q9ULT8:HECTD1': 8})\n",
      "2022-06-18 18:14:53 |\u001B[36m DEBUG    \u001B[0m| src.helpers.helpers_analysis.patient_interaction_analysis | Exporting Mutual Exclusivity BRCA P04637 ..\n",
      "2022-06-18 18:14:53 |\u001B[32m INFO     \u001B[0m| src.helpers.helpers_analysis.patient_interaction_analysis | ../MutualExclusivity/mutex\\BRCA\\BRCA_P04637_TP53_2022-06-18.csv is exported successfully.\n",
      "2022-06-18 18:14:53 |\u001B[32m INFO     \u001B[0m| src.helpers.helpers_analysis.patient_interaction_analysis | Calculating Mutual Exclusivity over P68431's interactors ..\n",
      "2022-06-18 18:14:53 |\u001B[36m DEBUG    \u001B[0m| src.helpers.helpers_analysis.patient_interaction_analysis | P68431 have 11 interactors:\n",
      "Counter({'Q9UER7:DAXX': 8, 'P62805:H4C1': 7, 'P04908:H2AC4': 4, 'P16104:H2AX': 4, 'P0C0S8:H2AC11': 4, 'O75367:MACROH2A1': 4, 'P0C0S5:H2AZ1': 4, 'Q16777:H2AC20': 3, 'Q9Y294:ASF1A': 3, 'Q9NVP2:ASF1B': 3, 'P49450:CENPA': 3})\n",
      "2022-06-18 18:14:53 |\u001B[36m DEBUG    \u001B[0m| src.helpers.helpers_analysis.patient_interaction_analysis | Exporting Mutual Exclusivity BRCA P68431 ..\n",
      "2022-06-18 18:14:53 |\u001B[32m INFO     \u001B[0m| src.helpers.helpers_analysis.patient_interaction_analysis | ../MutualExclusivity/mutex\\BRCA\\BRCA_P68431_H3C1_2022-06-18.csv is exported successfully.\n",
      "2022-06-18 18:14:53 |\u001B[32m INFO     \u001B[0m| src.helpers.helpers_analysis.patient_interaction_analysis | Calculating Mutual Exclusivity over P62805's interactors ..\n",
      "2022-06-18 18:14:53 |\u001B[36m DEBUG    \u001B[0m| src.helpers.helpers_analysis.patient_interaction_analysis | P62805 have 16 interactors:\n",
      "Counter({'Q71DI3:H3C15': 8, 'P68431:H3C1': 8, 'P84243:H3-3A': 7, 'Q16695:H3-4': 5, 'P49450:CENPA': 5, 'B4E1C1:nan': 4, 'Q53F85:nan': 3, 'Q16514:TAF12': 2, 'Q9UER7:DAXX': 2, 'P04908:H2AC4': 2, 'P0C0S5:H2AZ1': 2, 'Q16777:H2AC20': 2, 'P06899:H2BC11': 1, 'Q16778:H2BC21': 1, 'P16104:H2AX': 1, 'Q9Y294:ASF1A': 1})\n",
      "2022-06-18 18:14:53 |\u001B[36m DEBUG    \u001B[0m| src.helpers.helpers_analysis.patient_interaction_analysis | Exporting Mutual Exclusivity BRCA P62805 ..\n",
      "2022-06-18 18:14:53 |\u001B[32m INFO     \u001B[0m| src.helpers.helpers_analysis.patient_interaction_analysis | ../MutualExclusivity/mutex\\BRCA\\BRCA_P62805_H4C1_2022-06-18.csv is exported successfully.\n",
      "2022-06-18 18:14:53 |\u001B[32m INFO     \u001B[0m| src.helpers.helpers_analysis.patient_interaction_analysis | Calculating Mutual Exclusivity over P45985's interactors ..\n",
      "2022-06-18 18:14:53 |\u001B[36m DEBUG    \u001B[0m| src.helpers.helpers_analysis.patient_interaction_analysis | P45985 have 7 interactors:\n",
      "Counter({'Q5S007:LRRK2': 6, 'P52564:MAP2K6': 6, 'Q16539:MAPK14': 2, 'P00533:EGFR': 1, 'P35916:FLT4': 1, 'Q99558:MAP3K14': 1, 'P45984:MAPK9': 1})\n",
      "2022-06-18 18:14:54 |\u001B[36m DEBUG    \u001B[0m| src.helpers.helpers_analysis.patient_interaction_analysis | Exporting Mutual Exclusivity BRCA P45985 ..\n",
      "2022-06-18 18:14:54 |\u001B[32m INFO     \u001B[0m| src.helpers.helpers_analysis.patient_interaction_analysis | ../MutualExclusivity/mutex\\BRCA\\BRCA_P45985_MAP2K4_2022-06-18.csv is exported successfully.\n",
      "2022-06-18 18:14:54 |\u001B[32m INFO     \u001B[0m| src.helpers.helpers_analysis.patient_interaction_analysis | Calculating Mutual Exclusivity over P04626's interactors ..\n",
      "2022-06-18 18:14:54 |\u001B[36m DEBUG    \u001B[0m| src.helpers.helpers_analysis.patient_interaction_analysis | P04626 have 15 interactors:\n",
      "Counter({'Q96SB4:SRPK1': 7, 'P00533:EGFR': 2, 'P51813:BMX': 2, 'Q14289:PTK2B': 2, 'P16591:FER': 2, 'P06241:FYN': 2, 'P08069:IGF1R': 2, 'Q13153:PAK1': 2, 'P42680:TEC': 2, 'P21860:ERBB3': 1, 'O60674:JAK2': 1, 'P15153:RAC2': 1, 'Q9UJM3:ERRFI1': 1, 'Q92625:ANKS1A': 1, 'P23458:JAK1': 1})\n",
      "2022-06-18 18:14:54 |\u001B[36m DEBUG    \u001B[0m| src.helpers.helpers_analysis.patient_interaction_analysis | Exporting Mutual Exclusivity BRCA P04626 ..\n",
      "2022-06-18 18:14:54 |\u001B[32m INFO     \u001B[0m| src.helpers.helpers_analysis.patient_interaction_analysis | ../MutualExclusivity/mutex\\BRCA\\BRCA_P04626_ERBB2_2022-06-18.csv is exported successfully.\n",
      "2022-06-18 18:14:54 |\u001B[32m INFO     \u001B[0m| src.helpers.helpers_analysis.patient_interaction_analysis | Calculating Mutual Exclusivity over P0CG48's interactors ..\n",
      "2022-06-18 18:14:54 |\u001B[36m DEBUG    \u001B[0m| src.helpers.helpers_analysis.patient_interaction_analysis | P0CG48 have 5 interactors:\n",
      "Counter({'P21734:UBC1': 4, 'P61077:UBE2D3': 2, 'Q9UMX0:UBQLN1': 1, 'A8K3R3:nan': 1, 'Q99816:TSG101': 1})\n",
      "2022-06-18 18:14:55 |\u001B[36m DEBUG    \u001B[0m| src.helpers.helpers_analysis.patient_interaction_analysis | Exporting Mutual Exclusivity BRCA P0CG48 ..\n",
      "2022-06-18 18:14:55 |\u001B[32m INFO     \u001B[0m| src.helpers.helpers_analysis.patient_interaction_analysis | ../MutualExclusivity/mutex\\BRCA\\BRCA_P0CG48_UBC_2022-06-18.csv is exported successfully.\n"
     ]
    }
   ],
   "source": [
    "for brca_protein in brca_filtered_proteins:\n",
    "    brca_pia.export_disruptive_mutual_exclusivity_data(folder_path=fr\"{MUTEX_PATH}\\BRCA\", protein=brca_protein)"
   ],
   "metadata": {
    "collapsed": false,
    "pycharm": {
     "name": "#%%\n"
    }
   }
  },
  {
   "cell_type": "code",
   "execution_count": null,
   "outputs": [],
   "source": [],
   "metadata": {
    "collapsed": false,
    "pycharm": {
     "name": "#%%\n"
    }
   }
  },
  {
   "cell_type": "markdown",
   "source": [
    "### COAD"
   ],
   "metadata": {
    "collapsed": false,
    "pycharm": {
     "name": "#%% md\n"
    }
   }
  },
  {
   "cell_type": "code",
   "execution_count": 34,
   "outputs": [
    {
     "name": "stdout",
     "output_type": "stream",
     "text": [
      "2022-06-18 18:15:57 |\u001B[32m INFO     \u001B[0m| src.helpers.helpers_analysis.patient_interaction_analysis | Calculating Mutual Exclusivity over P04637's interactors ..\n",
      "2022-06-18 18:15:57 |\u001B[36m DEBUG    \u001B[0m| src.helpers.helpers_analysis.patient_interaction_analysis | P04637 have 18 interactors:\n",
      "Counter({'Q13625:TP53BP2': 41, 'Q96KQ4:PPP1R13B': 41, 'Q06187:BTK': 38, 'P62993:GRB2': 31, 'Q8WUF5:PPP1R13L': 29, 'P07948:LYN': 20, 'Q9H3D4:TP63': 13, 'H2EHT1:TP53': 11, 'K7PPA8:TP53': 10, 'O15350:TP73': 6, 'Q96KQ7:EHMT2': 5, 'O75832:PSMD10': 2, 'Q9ULT8:HECTD1': 2, 'Q9GZV1:ANKRD2': 1, 'Q99466:NOTCH4': 1, 'P25963:NFKBIA': 1, 'Q9H9B1:EHMT1': 1, 'Q99728:BARD1': 1})\n",
      "2022-06-18 18:15:58 |\u001B[36m DEBUG    \u001B[0m| src.helpers.helpers_analysis.patient_interaction_analysis | Exporting Mutual Exclusivity COAD P04637 ..\n",
      "2022-06-18 18:15:58 |\u001B[32m INFO     \u001B[0m| src.helpers.helpers_analysis.patient_interaction_analysis | ../MutualExclusivity/mutex\\COAD\\COAD_P04637_TP53_2022-06-18.csv is exported successfully.\n",
      "2022-06-18 18:15:58 |\u001B[32m INFO     \u001B[0m| src.helpers.helpers_analysis.patient_interaction_analysis | Calculating Mutual Exclusivity over P19784's interactors ..\n",
      "2022-06-18 18:15:58 |\u001B[36m DEBUG    \u001B[0m| src.helpers.helpers_analysis.patient_interaction_analysis | P19784 have 10 interactors:\n",
      "Counter({'Q16539:MAPK14': 4, 'Q13153:PAK1': 4, 'P67870:CSNK2B': 2, 'N0E4C7:CSNK2B': 2, 'P36897:TGFBR1': 1, 'P68400:CSNK2A1': 1, 'P24941:CDK2': 1, 'Q96S94:CCNL2': 1, 'P21127:CDK11B': 1, 'Q9NZU7:CABP1': 1})\n",
      "2022-06-18 18:15:59 |\u001B[36m DEBUG    \u001B[0m| src.helpers.helpers_analysis.patient_interaction_analysis | Exporting Mutual Exclusivity COAD P19784 ..\n",
      "2022-06-18 18:15:59 |\u001B[32m INFO     \u001B[0m| src.helpers.helpers_analysis.patient_interaction_analysis | ../MutualExclusivity/mutex\\COAD\\COAD_P19784_CSNK2A2_2022-06-18.csv is exported successfully.\n",
      "2022-06-18 18:15:59 |\u001B[32m INFO     \u001B[0m| src.helpers.helpers_analysis.patient_interaction_analysis | Calculating Mutual Exclusivity over Q15365's interactors ..\n",
      "2022-06-18 18:15:59 |\u001B[36m DEBUG    \u001B[0m| src.helpers.helpers_analysis.patient_interaction_analysis | Q15365 have 5 interactors:\n",
      "Counter({'P61978:HNRNPK': 9, 'Q15366:PCBP2': 9, 'P57723:PCBP4': 9, 'Q96AE4:FUBP1': 7, 'P51513:NOVA1': 7})\n",
      "2022-06-18 18:15:59 |\u001B[36m DEBUG    \u001B[0m| src.helpers.helpers_analysis.patient_interaction_analysis | Exporting Mutual Exclusivity COAD Q15365 ..\n",
      "2022-06-18 18:15:59 |\u001B[32m INFO     \u001B[0m| src.helpers.helpers_analysis.patient_interaction_analysis | ../MutualExclusivity/mutex\\COAD\\COAD_Q15365_PCBP1_2022-06-18.csv is exported successfully.\n",
      "2022-06-18 18:15:59 |\u001B[32m INFO     \u001B[0m| src.helpers.helpers_analysis.patient_interaction_analysis | Calculating Mutual Exclusivity over O00238's interactors ..\n",
      "2022-06-18 18:15:59 |\u001B[36m DEBUG    \u001B[0m| src.helpers.helpers_analysis.patient_interaction_analysis | O00238 have 14 interactors:\n",
      "Counter({'Q13153:PAK1': 2, 'P37173:TGFBR2': 1, 'Q13873:BMPR2': 1, 'P22004:BMP6': 1, 'P18075:BMP7': 1, 'P43026:GDF5': 1, 'O60383:GDF9': 1, 'O95972:BMP15': 1, 'P12643:BMP2': 1, 'P12644:BMP4': 1, 'Q6KF10:GDF6': 1, 'C8C060:BMP2': 1, 'F1T0J1:GDF5': 1, 'P36894:BMPR1A': 1})\n",
      "2022-06-18 18:16:00 |\u001B[36m DEBUG    \u001B[0m| src.helpers.helpers_analysis.patient_interaction_analysis | Exporting Mutual Exclusivity COAD O00238 ..\n",
      "2022-06-18 18:16:00 |\u001B[32m INFO     \u001B[0m| src.helpers.helpers_analysis.patient_interaction_analysis | ../MutualExclusivity/mutex\\COAD\\COAD_O00238_BMPR1B_2022-06-18.csv is exported successfully.\n",
      "2022-06-18 18:16:00 |\u001B[32m INFO     \u001B[0m| src.helpers.helpers_analysis.patient_interaction_analysis | Calculating Mutual Exclusivity over P16885's interactors ..\n",
      "2022-06-18 18:16:00 |\u001B[36m DEBUG    \u001B[0m| src.helpers.helpers_analysis.patient_interaction_analysis | P16885 have 7 interactors:\n",
      "Counter({'Q13094:LCP2': 3, 'Q9UN19:DAPP1': 2, 'P27986:PIK3R1': 2, 'P07947:YES1': 2, 'O00459:PIK3R2': 2, 'P05129:PRKCG': 1, 'P06239:LCK': 1})\n",
      "2022-06-18 18:16:00 |\u001B[36m DEBUG    \u001B[0m| src.helpers.helpers_analysis.patient_interaction_analysis | Exporting Mutual Exclusivity COAD P16885 ..\n",
      "2022-06-18 18:16:00 |\u001B[32m INFO     \u001B[0m| src.helpers.helpers_analysis.patient_interaction_analysis | ../MutualExclusivity/mutex\\COAD\\COAD_P16885_PLCG2_2022-06-18.csv is exported successfully.\n",
      "2022-06-18 18:16:00 |\u001B[32m INFO     \u001B[0m| src.helpers.helpers_analysis.patient_interaction_analysis | Calculating Mutual Exclusivity over P84022's interactors ..\n",
      "2022-06-18 18:16:00 |\u001B[36m DEBUG    \u001B[0m| src.helpers.helpers_analysis.patient_interaction_analysis | P84022 have 5 interactors:\n",
      "Counter({'Q15796:SMAD2': 3, 'O95405:ZFYVE9': 3, 'P12757:SKIL': 2, 'P12755:SKI': 2, 'O15105:SMAD7': 1})\n",
      "2022-06-18 18:16:01 |\u001B[36m DEBUG    \u001B[0m| src.helpers.helpers_analysis.patient_interaction_analysis | Exporting Mutual Exclusivity COAD P84022 ..\n",
      "2022-06-18 18:16:01 |\u001B[32m INFO     \u001B[0m| src.helpers.helpers_analysis.patient_interaction_analysis | ../MutualExclusivity/mutex\\COAD\\COAD_P84022_SMAD3_2022-06-18.csv is exported successfully.\n",
      "2022-06-18 18:16:01 |\u001B[32m INFO     \u001B[0m| src.helpers.helpers_analysis.patient_interaction_analysis | Calculating Mutual Exclusivity over Q96E17's interactors ..\n",
      "2022-06-18 18:16:01 |\u001B[36m DEBUG    \u001B[0m| src.helpers.helpers_analysis.patient_interaction_analysis | Q96E17 have 4 interactors:\n",
      "Counter({'Q86UR5:RIMS1': 6, 'Q9Y2J0:RPH3A': 6, 'Q9UQ26:RIMS2': 6, 'Q9UNE2:RPH3AL': 5})\n",
      "2022-06-18 18:16:01 |\u001B[36m DEBUG    \u001B[0m| src.helpers.helpers_analysis.patient_interaction_analysis | Exporting Mutual Exclusivity COAD Q96E17 ..\n",
      "2022-06-18 18:16:01 |\u001B[32m INFO     \u001B[0m| src.helpers.helpers_analysis.patient_interaction_analysis | ../MutualExclusivity/mutex\\COAD\\COAD_Q96E17_RAB3C_2022-06-18.csv is exported successfully.\n",
      "2022-06-18 18:16:01 |\u001B[32m INFO     \u001B[0m| src.helpers.helpers_analysis.patient_interaction_analysis | Calculating Mutual Exclusivity over P41743's interactors ..\n",
      "2022-06-18 18:16:01 |\u001B[36m DEBUG    \u001B[0m| src.helpers.helpers_analysis.patient_interaction_analysis | P41743 have 7 interactors:\n",
      "Counter({'Q7KZI7:MARK2': 3, 'Q96L34:MARK4': 3, 'P19838:NFKB1': 2, 'P63000:RAC1': 2, 'P01112:HRAS': 1, 'P51617:IRAK1': 1, 'P61019:RAB2A': 1})\n",
      "2022-06-18 18:16:01 |\u001B[36m DEBUG    \u001B[0m| src.helpers.helpers_analysis.patient_interaction_analysis | Exporting Mutual Exclusivity COAD P41743 ..\n",
      "2022-06-18 18:16:01 |\u001B[32m INFO     \u001B[0m| src.helpers.helpers_analysis.patient_interaction_analysis | ../MutualExclusivity/mutex\\COAD\\COAD_P41743_PRKCI_2022-06-18.csv is exported successfully.\n",
      "2022-06-18 18:16:01 |\u001B[32m INFO     \u001B[0m| src.helpers.helpers_analysis.patient_interaction_analysis | Calculating Mutual Exclusivity over P53350's interactors ..\n",
      "2022-06-18 18:16:01 |\u001B[36m DEBUG    \u001B[0m| src.helpers.helpers_analysis.patient_interaction_analysis | P53350 have 9 interactors:\n",
      "Counter({'O60285:NUAK1': 4, 'Q13153:PAK1': 4, 'O75914:PAK3': 2, 'Q8IYT8:ULK2': 2, 'Q13188:STK3': 1, 'O95835:LATS1': 1, 'Q16659:MAPK6': 1, 'O96017:CHEK2': 1, 'O43683:BUB1': 1})\n",
      "2022-06-18 18:16:02 |\u001B[36m DEBUG    \u001B[0m| src.helpers.helpers_analysis.patient_interaction_analysis | Exporting Mutual Exclusivity COAD P53350 ..\n",
      "2022-06-18 18:16:02 |\u001B[32m INFO     \u001B[0m| src.helpers.helpers_analysis.patient_interaction_analysis | ../MutualExclusivity/mutex\\COAD\\COAD_P53350_PLK1_2022-06-18.csv is exported successfully.\n",
      "2022-06-18 18:16:02 |\u001B[32m INFO     \u001B[0m| src.helpers.helpers_analysis.patient_interaction_analysis | Calculating Mutual Exclusivity over P55072's interactors ..\n",
      "2022-06-18 18:16:02 |\u001B[36m DEBUG    \u001B[0m| src.helpers.helpers_analysis.patient_interaction_analysis | P55072 have 9 interactors:\n",
      "Counter({'Q96IF9:VCP': 2, 'Q9UNN5:FAF1': 1, 'Q8TAT6:NPLOC4': 1, 'Q04323:UBXN1': 1, 'O94888:UBXN7': 1, 'O00124:UBXN8': 1, 'Q92575:UBXN4': 1, 'Q9UBP0:SPAST': 1, 'P40937:RFC5': 1})\n",
      "2022-06-18 18:16:02 |\u001B[36m DEBUG    \u001B[0m| src.helpers.helpers_analysis.patient_interaction_analysis | Exporting Mutual Exclusivity COAD P55072 ..\n",
      "2022-06-18 18:16:03 |\u001B[32m INFO     \u001B[0m| src.helpers.helpers_analysis.patient_interaction_analysis | ../MutualExclusivity/mutex\\COAD\\COAD_P55072_VCP_2022-06-18.csv is exported successfully.\n",
      "2022-06-18 18:16:03 |\u001B[32m INFO     \u001B[0m| src.helpers.helpers_analysis.patient_interaction_analysis | Calculating Mutual Exclusivity over P61586's interactors ..\n",
      "2022-06-18 18:16:03 |\u001B[36m DEBUG    \u001B[0m| src.helpers.helpers_analysis.patient_interaction_analysis | P61586 have 32 interactors:\n",
      "Counter({'Q96N67:DOCK7': 5, 'Q86VW2:ARHGEF25': 4, 'P52565:ARHGDIA': 4, 'O15068:MCF2L': 4, 'O75962:TRIO': 4, 'P15498:VAV1': 4, 'Q07960:ARHGAP1': 3, 'Q9Y3L3:SH3BP1': 3, 'Q9NR81:ARHGEF3': 3, 'P11274:BCR': 3, 'Q9NSV4:DIAPH3': 3, 'P52566:ARHGDIB': 3, 'Q99819:ARHGDIG': 3, 'P10911:MCF2': 3, 'Q9H7P9:PLEKHG2': 3, 'O43157:PLXNB1': 3, 'P85298:ARHGAP8': 3, 'Q5T5U3:ARHGAP21': 3, 'Q13017:ARHGAP5': 3, 'Q13464:ROCK1': 3, 'O60610:DIAPH1': 3, 'Q9NZN5:ARHGEF12': 2, 'Q9Y4D1:DAAM1': 2, 'O60890:OPHN1': 2, 'Q13972:RASGRF1': 2, 'Q9UNA1:ARHGAP26': 2, 'A7KAX9:ARHGAP32': 2, 'Q9UKW4:VAV3': 2, 'Q7Z628:NET1': 2, 'Q12774:ARHGEF5': 1, 'O43924:PDE6D': 1, 'Q9NR80:ARHGEF4': 1})\n",
      "2022-06-18 18:16:04 |\u001B[36m DEBUG    \u001B[0m| src.helpers.helpers_analysis.patient_interaction_analysis | Exporting Mutual Exclusivity COAD P61586 ..\n",
      "2022-06-18 18:16:04 |\u001B[32m INFO     \u001B[0m| src.helpers.helpers_analysis.patient_interaction_analysis | ../MutualExclusivity/mutex\\COAD\\COAD_P61586_RHOA_2022-06-18.csv is exported successfully.\n",
      "2022-06-18 18:16:04 |\u001B[32m INFO     \u001B[0m| src.helpers.helpers_analysis.patient_interaction_analysis | Calculating Mutual Exclusivity over Q13310's interactors ..\n",
      "2022-06-18 18:16:04 |\u001B[36m DEBUG    \u001B[0m| src.helpers.helpers_analysis.patient_interaction_analysis | Q13310 have 5 interactors:\n",
      "Counter({'P09651:HNRNPA1': 4, 'Q9UHX1:PUF60': 3, 'Q15717:ELAVL1': 3, 'Q13148:TARDBP': 2, 'Q8WXA9:SREK1': 1})\n",
      "2022-06-18 18:16:05 |\u001B[36m DEBUG    \u001B[0m| src.helpers.helpers_analysis.patient_interaction_analysis | Exporting Mutual Exclusivity COAD Q13310 ..\n",
      "2022-06-18 18:16:05 |\u001B[32m INFO     \u001B[0m| src.helpers.helpers_analysis.patient_interaction_analysis | ../MutualExclusivity/mutex\\COAD\\COAD_Q13310_PABPC4_2022-06-18.csv is exported successfully.\n",
      "2022-06-18 18:16:05 |\u001B[32m INFO     \u001B[0m| src.helpers.helpers_analysis.patient_interaction_analysis | Calculating Mutual Exclusivity over Q9UKV0's interactors ..\n",
      "2022-06-18 18:16:05 |\u001B[36m DEBUG    \u001B[0m| src.helpers.helpers_analysis.patient_interaction_analysis | Q9UKV0 have 3 interactors:\n",
      "Counter({'O15379:HDAC3': 4, 'Q13547:HDAC1': 2, 'P56524:HDAC4': 1})\n",
      "2022-06-18 18:16:05 |\u001B[36m DEBUG    \u001B[0m| src.helpers.helpers_analysis.patient_interaction_analysis | Exporting Mutual Exclusivity COAD Q9UKV0 ..\n",
      "2022-06-18 18:16:05 |\u001B[32m INFO     \u001B[0m| src.helpers.helpers_analysis.patient_interaction_analysis | ../MutualExclusivity/mutex\\COAD\\COAD_Q9UKV0_HDAC9_2022-06-18.csv is exported successfully.\n",
      "2022-06-18 18:16:05 |\u001B[32m INFO     \u001B[0m| src.helpers.helpers_analysis.patient_interaction_analysis | Calculating Mutual Exclusivity over P15056's interactors ..\n",
      "2022-06-18 18:16:05 |\u001B[36m DEBUG    \u001B[0m| src.helpers.helpers_analysis.patient_interaction_analysis | P15056 have 3 interactors:\n",
      "Counter({'P53667:LIMK1': 50, 'Q13177:PAK2': 50, 'P17252:PRKCA': 1})\n",
      "2022-06-18 18:16:06 |\u001B[36m DEBUG    \u001B[0m| src.helpers.helpers_analysis.patient_interaction_analysis | Exporting Mutual Exclusivity COAD P15056 ..\n",
      "2022-06-18 18:16:06 |\u001B[32m INFO     \u001B[0m| src.helpers.helpers_analysis.patient_interaction_analysis | ../MutualExclusivity/mutex\\COAD\\COAD_P15056_BRAF_2022-06-18.csv is exported successfully.\n",
      "2022-06-18 18:16:06 |\u001B[32m INFO     \u001B[0m| src.helpers.helpers_analysis.patient_interaction_analysis | Calculating Mutual Exclusivity over Q969H0's interactors ..\n",
      "2022-06-18 18:16:06 |\u001B[36m DEBUG    \u001B[0m| src.helpers.helpers_analysis.patient_interaction_analysis | Q969H0 have 4 interactors:\n",
      "Counter({'P42345:MTOR': 22, 'A6NE52:WDR97': 7, 'P63208:SKP1': 1, 'P63244:RACK1': 1})\n",
      "2022-06-18 18:16:06 |\u001B[36m DEBUG    \u001B[0m| src.helpers.helpers_analysis.patient_interaction_analysis | Exporting Mutual Exclusivity COAD Q969H0 ..\n",
      "2022-06-18 18:16:06 |\u001B[32m INFO     \u001B[0m| src.helpers.helpers_analysis.patient_interaction_analysis | ../MutualExclusivity/mutex\\COAD\\COAD_Q969H0_FBXW7_2022-06-18.csv is exported successfully.\n",
      "2022-06-18 18:16:06 |\u001B[32m INFO     \u001B[0m| src.helpers.helpers_analysis.patient_interaction_analysis | Calculating Mutual Exclusivity over P62805's interactors ..\n",
      "2022-06-18 18:16:06 |\u001B[36m DEBUG    \u001B[0m| src.helpers.helpers_analysis.patient_interaction_analysis | P62805 have 18 interactors:\n",
      "Counter({'P68431:H3C1': 9, 'P84243:H3-3A': 8, 'Q16695:H3-4': 8, 'Q71DI3:H3C15': 8, 'P49450:CENPA': 7, 'Q53F85:nan': 5, 'Q9UER7:DAXX': 4, 'Q8NCD3:HJURP': 4, 'Q16514:TAF12': 2, 'P06899:H2BC11': 2, 'Q16778:H2BC21': 2, 'P04908:H2AC4': 2, 'P16104:H2AX': 2, 'P0C0S5:H2AZ1': 2, 'Q16777:H2AC20': 2, 'Q9Y294:ASF1A': 1, 'Q9NVP2:ASF1B': 1, 'B4E1C1:nan': 1})\n",
      "2022-06-18 18:16:07 |\u001B[36m DEBUG    \u001B[0m| src.helpers.helpers_analysis.patient_interaction_analysis | Exporting Mutual Exclusivity COAD P62805 ..\n",
      "2022-06-18 18:16:07 |\u001B[32m INFO     \u001B[0m| src.helpers.helpers_analysis.patient_interaction_analysis | ../MutualExclusivity/mutex\\COAD\\COAD_P62805_H4C1_2022-06-18.csv is exported successfully.\n",
      "2022-06-18 18:16:07 |\u001B[32m INFO     \u001B[0m| src.helpers.helpers_analysis.patient_interaction_analysis | Calculating Mutual Exclusivity over Q13485's interactors ..\n",
      "2022-06-18 18:16:07 |\u001B[36m DEBUG    \u001B[0m| src.helpers.helpers_analysis.patient_interaction_analysis | Q13485 have 5 interactors:\n",
      "Counter({'B7Z5N5:SMAD2': 16, 'Q68DB7:DKFZp781O1323': 16, 'Q53XR6:SMAD2': 16, 'O43541:SMAD6': 4, 'O15105:SMAD7': 4})\n",
      "2022-06-18 18:16:07 |\u001B[36m DEBUG    \u001B[0m| src.helpers.helpers_analysis.patient_interaction_analysis | Exporting Mutual Exclusivity COAD Q13485 ..\n",
      "2022-06-18 18:16:07 |\u001B[32m INFO     \u001B[0m| src.helpers.helpers_analysis.patient_interaction_analysis | ../MutualExclusivity/mutex\\COAD\\COAD_Q13485_SMAD4_2022-06-18.csv is exported successfully.\n",
      "2022-06-18 18:16:07 |\u001B[32m INFO     \u001B[0m| src.helpers.helpers_analysis.patient_interaction_analysis | Calculating Mutual Exclusivity over P37173's interactors ..\n",
      "2022-06-18 18:16:07 |\u001B[36m DEBUG    \u001B[0m| src.helpers.helpers_analysis.patient_interaction_analysis | P37173 have 2 interactors:\n",
      "Counter({'P23443:RPS6KB1': 4, 'O00238:BMPR1B': 2})\n",
      "2022-06-18 18:16:07 |\u001B[36m DEBUG    \u001B[0m| src.helpers.helpers_analysis.patient_interaction_analysis | Exporting Mutual Exclusivity COAD P37173 ..\n",
      "2022-06-18 18:16:07 |\u001B[32m INFO     \u001B[0m| src.helpers.helpers_analysis.patient_interaction_analysis | ../MutualExclusivity/mutex\\COAD\\COAD_P37173_TGFBR2_2022-06-18.csv is exported successfully.\n",
      "2022-06-18 18:16:07 |\u001B[32m INFO     \u001B[0m| src.helpers.helpers_analysis.patient_interaction_analysis | Calculating Mutual Exclusivity over Q13748's interactors ..\n",
      "2022-06-18 18:16:07 |\u001B[36m DEBUG    \u001B[0m| src.helpers.helpers_analysis.patient_interaction_analysis | Q13748 have 4 interactors:\n",
      "Counter({'P23258:TUBG1': 2, 'P25963:NFKBIA': 2, 'P19838:NFKB1': 1, 'Q15653:NFKBIB': 1})\n",
      "2022-06-18 18:16:07 |\u001B[36m DEBUG    \u001B[0m| src.helpers.helpers_analysis.patient_interaction_analysis | Exporting Mutual Exclusivity COAD Q13748 ..\n",
      "2022-06-18 18:16:07 |\u001B[32m INFO     \u001B[0m| src.helpers.helpers_analysis.patient_interaction_analysis | ../MutualExclusivity/mutex\\COAD\\COAD_Q13748_TUBA3C_2022-06-18.csv is exported successfully.\n",
      "2022-06-18 18:16:07 |\u001B[32m INFO     \u001B[0m| src.helpers.helpers_analysis.patient_interaction_analysis | Calculating Mutual Exclusivity over Q15796's interactors ..\n",
      "2022-06-18 18:16:07 |\u001B[36m DEBUG    \u001B[0m| src.helpers.helpers_analysis.patient_interaction_analysis | Q15796 have 7 interactors:\n",
      "Counter({'O15105:SMAD7': 3, 'P84022:SMAD3': 2, 'Q99717:SMAD5': 1, 'O15198:SMAD9': 1, 'B7Z5N5:SMAD2': 1, 'Q53XR6:SMAD2': 1, 'O95405:ZFYVE9': 1})\n",
      "2022-06-18 18:16:08 |\u001B[36m DEBUG    \u001B[0m| src.helpers.helpers_analysis.patient_interaction_analysis | Exporting Mutual Exclusivity COAD Q15796 ..\n",
      "2022-06-18 18:16:08 |\u001B[32m INFO     \u001B[0m| src.helpers.helpers_analysis.patient_interaction_analysis | ../MutualExclusivity/mutex\\COAD\\COAD_Q15796_SMAD2_2022-06-18.csv is exported successfully.\n",
      "2022-06-18 18:16:08 |\u001B[32m INFO     \u001B[0m| src.helpers.helpers_analysis.patient_interaction_analysis | Calculating Mutual Exclusivity over P45985's interactors ..\n",
      "2022-06-18 18:16:08 |\u001B[36m DEBUG    \u001B[0m| src.helpers.helpers_analysis.patient_interaction_analysis | P45985 have 9 interactors:\n",
      "Counter({'P45984:MAPK9': 3, 'P52564:MAP2K6': 2, 'P00533:EGFR': 1, 'Q5S007:LRRK2': 1, 'P35916:FLT4': 1, 'Q99558:MAP3K14': 1, 'Q16539:MAPK14': 1, 'Q99759:MAP3K3': 1, 'Q02750:MAP2K1': 1})\n",
      "2022-06-18 18:16:08 |\u001B[36m DEBUG    \u001B[0m| src.helpers.helpers_analysis.patient_interaction_analysis | Exporting Mutual Exclusivity COAD P45985 ..\n",
      "2022-06-18 18:16:08 |\u001B[32m INFO     \u001B[0m| src.helpers.helpers_analysis.patient_interaction_analysis | ../MutualExclusivity/mutex\\COAD\\COAD_P45985_MAP2K4_2022-06-18.csv is exported successfully.\n",
      "2022-06-18 18:16:08 |\u001B[32m INFO     \u001B[0m| src.helpers.helpers_analysis.patient_interaction_analysis | Calculating Mutual Exclusivity over Q16576's interactors ..\n",
      "2022-06-18 18:16:08 |\u001B[36m DEBUG    \u001B[0m| src.helpers.helpers_analysis.patient_interaction_analysis | Q16576 have 3 interactors:\n",
      "Counter({'O75083:WDR1': 5, 'Q12788:TBL3': 3, 'Q09028:RBBP4': 2})\n",
      "2022-06-18 18:16:08 |\u001B[36m DEBUG    \u001B[0m| src.helpers.helpers_analysis.patient_interaction_analysis | Exporting Mutual Exclusivity COAD Q16576 ..\n",
      "2022-06-18 18:16:08 |\u001B[32m INFO     \u001B[0m| src.helpers.helpers_analysis.patient_interaction_analysis | ../MutualExclusivity/mutex\\COAD\\COAD_Q16576_RBBP7_2022-06-18.csv is exported successfully.\n",
      "2022-06-18 18:16:08 |\u001B[32m INFO     \u001B[0m| src.helpers.helpers_analysis.patient_interaction_analysis | Calculating Mutual Exclusivity over Q9Y463's interactors ..\n",
      "2022-06-18 18:16:08 |\u001B[36m DEBUG    \u001B[0m| src.helpers.helpers_analysis.patient_interaction_analysis | Q9Y463 have 5 interactors:\n",
      "Counter({'Q13233:MAP3K1': 3, 'P42771:CDKN2A': 2, 'Q16539:MAPK14': 2, 'P17612:PRKACA': 1, 'Q13153:PAK1': 1})\n",
      "2022-06-18 18:16:08 |\u001B[36m DEBUG    \u001B[0m| src.helpers.helpers_analysis.patient_interaction_analysis | Exporting Mutual Exclusivity COAD Q9Y463 ..\n",
      "2022-06-18 18:16:08 |\u001B[32m INFO     \u001B[0m| src.helpers.helpers_analysis.patient_interaction_analysis | ../MutualExclusivity/mutex\\COAD\\COAD_Q9Y463_DYRK1B_2022-06-18.csv is exported successfully.\n",
      "2022-06-18 18:16:08 |\u001B[32m INFO     \u001B[0m| src.helpers.helpers_analysis.patient_interaction_analysis | Calculating Mutual Exclusivity over Q9Y6R4's interactors ..\n",
      "2022-06-18 18:16:08 |\u001B[36m DEBUG    \u001B[0m| src.helpers.helpers_analysis.patient_interaction_analysis | Q9Y6R4 have 7 interactors:\n",
      "Counter({'O43353:RIPK2': 2, 'P45985:MAP2K4': 2, 'P52564:MAP2K6': 2, 'O14733:MAP2K7': 1, 'P46734:MAP2K3': 1, 'A8K3Y2:MAP2K6': 1, 'Q02750:MAP2K1': 1})\n",
      "2022-06-18 18:16:08 |\u001B[36m DEBUG    \u001B[0m| src.helpers.helpers_analysis.patient_interaction_analysis | Exporting Mutual Exclusivity COAD Q9Y6R4 ..\n",
      "2022-06-18 18:16:08 |\u001B[32m INFO     \u001B[0m| src.helpers.helpers_analysis.patient_interaction_analysis | ../MutualExclusivity/mutex\\COAD\\COAD_Q9Y6R4_MAP3K4_2022-06-18.csv is exported successfully.\n",
      "2022-06-18 18:16:08 |\u001B[32m INFO     \u001B[0m| src.helpers.helpers_analysis.patient_interaction_analysis | Calculating Mutual Exclusivity over P05107's interactors ..\n",
      "2022-06-18 18:16:08 |\u001B[36m DEBUG    \u001B[0m| src.helpers.helpers_analysis.patient_interaction_analysis | P05107 have 6 interactors:\n",
      "Counter({'P11215:ITGAM': 2, 'P20702:ITGAX': 1, 'H3BN02:ITGAX': 1, 'P06756:ITGAV': 1, 'Q13683:ITGA7': 1, 'P20701:ITGAL': 1})\n",
      "2022-06-18 18:16:09 |\u001B[36m DEBUG    \u001B[0m| src.helpers.helpers_analysis.patient_interaction_analysis | Exporting Mutual Exclusivity COAD P05107 ..\n",
      "2022-06-18 18:16:09 |\u001B[32m INFO     \u001B[0m| src.helpers.helpers_analysis.patient_interaction_analysis | ../MutualExclusivity/mutex\\COAD\\COAD_P05107_ITGB2_2022-06-18.csv is exported successfully.\n",
      "2022-06-18 18:16:09 |\u001B[32m INFO     \u001B[0m| src.helpers.helpers_analysis.patient_interaction_analysis | Calculating Mutual Exclusivity over P09619's interactors ..\n",
      "2022-06-18 18:16:09 |\u001B[36m DEBUG    \u001B[0m| src.helpers.helpers_analysis.patient_interaction_analysis | P09619 have 7 interactors:\n",
      "Counter({'P16234:PDGFRA': 1, 'P06241:FYN': 1, 'P15692:VEGFA': 1, 'P04085:PDGFA': 1, 'P49765:VEGFB': 1, 'Q9UJM3:ERRFI1': 1, 'P06239:LCK': 1})\n",
      "2022-06-18 18:16:09 |\u001B[36m DEBUG    \u001B[0m| src.helpers.helpers_analysis.patient_interaction_analysis | Exporting Mutual Exclusivity COAD P09619 ..\n",
      "2022-06-18 18:16:09 |\u001B[32m INFO     \u001B[0m| src.helpers.helpers_analysis.patient_interaction_analysis | ../MutualExclusivity/mutex\\COAD\\COAD_P09619_PDGFRB_2022-06-18.csv is exported successfully.\n",
      "2022-06-18 18:16:09 |\u001B[32m INFO     \u001B[0m| src.helpers.helpers_analysis.patient_interaction_analysis | Calculating Mutual Exclusivity over P49674's interactors ..\n",
      "2022-06-18 18:16:09 |\u001B[36m DEBUG    \u001B[0m| src.helpers.helpers_analysis.patient_interaction_analysis | P49674 have 3 interactors:\n",
      "Counter({'Q15418:RPS6KA1': 3, 'P78396:CCNA1': 1, 'P52272:HNRNPM': 1})\n",
      "2022-06-18 18:16:09 |\u001B[36m DEBUG    \u001B[0m| src.helpers.helpers_analysis.patient_interaction_analysis | Exporting Mutual Exclusivity COAD P49674 ..\n",
      "2022-06-18 18:16:09 |\u001B[32m INFO     \u001B[0m| src.helpers.helpers_analysis.patient_interaction_analysis | ../MutualExclusivity/mutex\\COAD\\COAD_P49674_CSNK1E_2022-06-18.csv is exported successfully.\n",
      "2022-06-18 18:16:09 |\u001B[32m INFO     \u001B[0m| src.helpers.helpers_analysis.patient_interaction_analysis | Calculating Mutual Exclusivity over P49902's interactors ..\n",
      "2022-06-18 18:16:09 |\u001B[36m DEBUG    \u001B[0m| src.helpers.helpers_analysis.patient_interaction_analysis | P49902 have 1 interactors:\n",
      "Counter({'A8K6K2:nan': 4})\n",
      "2022-06-18 18:16:09 |\u001B[36m DEBUG    \u001B[0m| src.helpers.helpers_analysis.patient_interaction_analysis | Exporting Mutual Exclusivity COAD P49902 ..\n",
      "2022-06-18 18:16:09 |\u001B[32m INFO     \u001B[0m| src.helpers.helpers_analysis.patient_interaction_analysis | ../MutualExclusivity/mutex\\COAD\\COAD_P49902_NT5C2_2022-06-18.csv is exported successfully.\n",
      "2022-06-18 18:16:09 |\u001B[32m INFO     \u001B[0m| src.helpers.helpers_analysis.patient_interaction_analysis | Calculating Mutual Exclusivity over P61244's interactors ..\n",
      "2022-06-18 18:16:09 |\u001B[36m DEBUG    \u001B[0m| src.helpers.helpers_analysis.patient_interaction_analysis | P61244 have 12 interactors:\n",
      "Counter({'Q05195:MXD1': 4, 'P22415:USF1': 3, 'Q14582:MXD4': 3, 'P01106:MYC': 3, 'B9EGR5:MGA': 3, 'Q8TAX8:MAX': 3, 'Q9BW11:MXD3': 1, 'Q8IWI9:MGA': 1, 'P04198:MYCN': 1, 'Q99583:MNT': 1, 'P50539:MXI1': 1, 'B7ZLI7:MXD1': 1})\n",
      "2022-06-18 18:16:10 |\u001B[36m DEBUG    \u001B[0m| src.helpers.helpers_analysis.patient_interaction_analysis | Exporting Mutual Exclusivity COAD P61244 ..\n",
      "2022-06-18 18:16:10 |\u001B[32m INFO     \u001B[0m| src.helpers.helpers_analysis.patient_interaction_analysis | ../MutualExclusivity/mutex\\COAD\\COAD_P61244_MAX_2022-06-18.csv is exported successfully.\n",
      "2022-06-18 18:16:10 |\u001B[32m INFO     \u001B[0m| src.helpers.helpers_analysis.patient_interaction_analysis | Calculating Mutual Exclusivity over Q16478's interactors ..\n",
      "2022-06-18 18:16:10 |\u001B[36m DEBUG    \u001B[0m| src.helpers.helpers_analysis.patient_interaction_analysis | Q16478 have 3 interactors:\n",
      "Counter({'O43424:GRID2': 3, 'Q13003:GRIK3': 2, 'Q13002:GRIK2': 1})\n",
      "2022-06-18 18:16:10 |\u001B[36m DEBUG    \u001B[0m| src.helpers.helpers_analysis.patient_interaction_analysis | Exporting Mutual Exclusivity COAD Q16478 ..\n",
      "2022-06-18 18:16:10 |\u001B[32m INFO     \u001B[0m| src.helpers.helpers_analysis.patient_interaction_analysis | ../MutualExclusivity/mutex\\COAD\\COAD_Q16478_GRIK5_2022-06-18.csv is exported successfully.\n",
      "2022-06-18 18:16:10 |\u001B[32m INFO     \u001B[0m| src.helpers.helpers_analysis.patient_interaction_analysis | Calculating Mutual Exclusivity over Q16659's interactors ..\n",
      "2022-06-18 18:16:10 |\u001B[36m DEBUG    \u001B[0m| src.helpers.helpers_analysis.patient_interaction_analysis | Q16659 have 3 interactors:\n",
      "Counter({'O14965:AURKA': 3, 'P05771:PRKCB': 2, 'P53350:PLK1': 1})\n",
      "2022-06-18 18:16:11 |\u001B[36m DEBUG    \u001B[0m| src.helpers.helpers_analysis.patient_interaction_analysis | Exporting Mutual Exclusivity COAD Q16659 ..\n",
      "2022-06-18 18:16:11 |\u001B[32m INFO     \u001B[0m| src.helpers.helpers_analysis.patient_interaction_analysis | ../MutualExclusivity/mutex\\COAD\\COAD_Q16659_MAPK6_2022-06-18.csv is exported successfully.\n",
      "2022-06-18 18:16:11 |\u001B[32m INFO     \u001B[0m| src.helpers.helpers_analysis.patient_interaction_analysis | Calculating Mutual Exclusivity over Q9NRM7's interactors ..\n",
      "2022-06-18 18:16:11 |\u001B[36m DEBUG    \u001B[0m| src.helpers.helpers_analysis.patient_interaction_analysis | Q9NRM7 have 8 interactors:\n",
      "Counter({'O96017:CHEK2': 2, 'P24941:CDK2': 1, 'P01112:HRAS': 1, 'Q86W92:PPFIBP1': 1, 'O14757:CHEK1': 1, 'Q9Y2I6:NINL': 1, 'P00519:ABL1': 1, 'O96013:PAK4': 1})\n",
      "2022-06-18 18:16:11 |\u001B[36m DEBUG    \u001B[0m| src.helpers.helpers_analysis.patient_interaction_analysis | Exporting Mutual Exclusivity COAD Q9NRM7 ..\n",
      "2022-06-18 18:16:11 |\u001B[32m INFO     \u001B[0m| src.helpers.helpers_analysis.patient_interaction_analysis | ../MutualExclusivity/mutex\\COAD\\COAD_Q9NRM7_LATS2_2022-06-18.csv is exported successfully.\n"
     ]
    }
   ],
   "source": [
    "# protein versions\n",
    "for coad_protein in coad_filtered_proteins:\n",
    "    coad_pia.export_disruptive_mutual_exclusivity_data(folder_path=fr\"{MUTEX_PATH}\\COAD\", protein=coad_protein)"
   ],
   "metadata": {
    "collapsed": false,
    "pycharm": {
     "name": "#%%\n"
    }
   }
  },
  {
   "cell_type": "code",
   "execution_count": 34,
   "outputs": [],
   "source": [],
   "metadata": {
    "collapsed": false,
    "pycharm": {
     "name": "#%%\n"
    }
   }
  },
  {
   "cell_type": "markdown",
   "source": [
    "### ESCA"
   ],
   "metadata": {
    "collapsed": false,
    "pycharm": {
     "name": "#%% md\n"
    }
   }
  },
  {
   "cell_type": "code",
   "execution_count": 35,
   "outputs": [
    {
     "data": {
      "text/plain": "['P04637', 'P62805']"
     },
     "execution_count": 35,
     "metadata": {},
     "output_type": "execute_result"
    }
   ],
   "source": [
    "esca_filtered_proteins"
   ],
   "metadata": {
    "collapsed": false,
    "pycharm": {
     "name": "#%%\n"
    }
   }
  },
  {
   "cell_type": "code",
   "execution_count": 36,
   "outputs": [
    {
     "name": "stdout",
     "output_type": "stream",
     "text": [
      "2022-06-18 18:16:45 |\u001B[32m INFO     \u001B[0m| src.helpers.helpers_analysis.patient_interaction_analysis | Calculating Mutual Exclusivity over P04637's interactors ..\n",
      "2022-06-18 18:16:45 |\u001B[36m DEBUG    \u001B[0m| src.helpers.helpers_analysis.patient_interaction_analysis | P04637 have 17 interactors:\n",
      "Counter({'Q13625:TP53BP2': 29, 'Q96KQ4:PPP1R13B': 29, 'Q06187:BTK': 26, 'P62993:GRB2': 18, 'P07948:LYN': 18, 'Q8WUF5:PPP1R13L': 16, 'Q9H3D4:TP63': 12, 'H2EHT1:TP53': 11, 'K7PPA8:TP53': 11, 'Q96KQ7:EHMT2': 7, 'O15350:TP73': 6, 'O75832:PSMD10': 3, 'Q9H9B1:EHMT1': 2, 'Q99728:BARD1': 2, 'Q9ULT8:HECTD1': 2, 'Q99466:NOTCH4': 1, 'Q53GA5:nan': 1})\n",
      "2022-06-18 18:16:45 |\u001B[36m DEBUG    \u001B[0m| src.helpers.helpers_analysis.patient_interaction_analysis | Exporting Mutual Exclusivity ESCA P04637 ..\n",
      "2022-06-18 18:16:45 |\u001B[32m INFO     \u001B[0m| src.helpers.helpers_analysis.patient_interaction_analysis | ../MutualExclusivity/mutex\\ESCA\\ESCA_P04637_TP53_2022-06-18.csv is exported successfully.\n",
      "2022-06-18 18:16:45 |\u001B[32m INFO     \u001B[0m| src.helpers.helpers_analysis.patient_interaction_analysis | Calculating Mutual Exclusivity over P62805's interactors ..\n",
      "2022-06-18 18:16:45 |\u001B[36m DEBUG    \u001B[0m| src.helpers.helpers_analysis.patient_interaction_analysis | P62805 have 11 interactors:\n",
      "Counter({'Q9UER7:DAXX': 4, 'Q16695:H3-4': 3, 'P68431:H3C1': 3, 'Q53F85:nan': 3, 'Q16514:TAF12': 2, 'P06899:H2BC11': 2, 'Q16778:H2BC21': 2, 'P84243:H3-3A': 2, 'Q71DI3:H3C15': 2, 'P49450:CENPA': 2, 'B4E1C1:nan': 1})\n",
      "2022-06-18 18:16:45 |\u001B[36m DEBUG    \u001B[0m| src.helpers.helpers_analysis.patient_interaction_analysis | Exporting Mutual Exclusivity ESCA P62805 ..\n",
      "2022-06-18 18:16:45 |\u001B[32m INFO     \u001B[0m| src.helpers.helpers_analysis.patient_interaction_analysis | ../MutualExclusivity/mutex\\ESCA\\ESCA_P62805_H4C1_2022-06-18.csv is exported successfully.\n"
     ]
    }
   ],
   "source": [
    "# Running them all at once.\n",
    "\n",
    "for esca_protein in esca_filtered_proteins:\n",
    "    esca_pia.export_disruptive_mutual_exclusivity_data(folder_path=fr\"{MUTEX_PATH}\\ESCA\", protein=esca_protein)"
   ],
   "metadata": {
    "collapsed": false,
    "pycharm": {
     "name": "#%%\n"
    }
   }
  },
  {
   "cell_type": "code",
   "execution_count": 36,
   "outputs": [],
   "source": [],
   "metadata": {
    "collapsed": false,
    "pycharm": {
     "name": "#%%\n"
    }
   }
  },
  {
   "cell_type": "markdown",
   "source": [
    "### GBM"
   ],
   "metadata": {
    "collapsed": false,
    "pycharm": {
     "name": "#%% md\n"
    }
   }
  },
  {
   "cell_type": "code",
   "execution_count": 37,
   "outputs": [
    {
     "data": {
      "text/plain": "['P04637', 'P15056', 'Q05655']"
     },
     "execution_count": 37,
     "metadata": {},
     "output_type": "execute_result"
    }
   ],
   "source": [
    "gbm_filtered_proteins"
   ],
   "metadata": {
    "collapsed": false,
    "pycharm": {
     "name": "#%%\n"
    }
   }
  },
  {
   "cell_type": "code",
   "execution_count": 39,
   "outputs": [
    {
     "name": "stdout",
     "output_type": "stream",
     "text": [
      "2022-06-18 18:17:38 |\u001B[32m INFO     \u001B[0m| src.helpers.helpers_analysis.patient_interaction_analysis | Calculating Mutual Exclusivity over P04637's interactors ..\n",
      "2022-06-18 18:17:38 |\u001B[36m DEBUG    \u001B[0m| src.helpers.helpers_analysis.patient_interaction_analysis | P04637 have 15 interactors:\n",
      "Counter({'Q13625:TP53BP2': 28, 'Q96KQ4:PPP1R13B': 28, 'Q06187:BTK': 24, 'P62993:GRB2': 21, 'Q9H3D4:TP63': 17, 'Q8WUF5:PPP1R13L': 17, 'P07948:LYN': 17, 'H2EHT1:TP53': 13, 'K7PPA8:TP53': 13, 'Q96KQ7:EHMT2': 6, 'O15350:TP73': 5, 'Q9H9B1:EHMT1': 4, 'Q99728:BARD1': 4, 'O75832:PSMD10': 4, 'Q9ULT8:HECTD1': 4})\n",
      "2022-06-18 18:17:38 |\u001B[36m DEBUG    \u001B[0m| src.helpers.helpers_analysis.patient_interaction_analysis | Exporting Mutual Exclusivity GBM P04637 ..\n",
      "2022-06-18 18:17:38 |\u001B[32m INFO     \u001B[0m| src.helpers.helpers_analysis.patient_interaction_analysis | ../MutualExclusivity/mutex\\GBM\\GBM_P04637_TP53_2022-06-18.csv is exported successfully.\n",
      "2022-06-18 18:17:38 |\u001B[32m INFO     \u001B[0m| src.helpers.helpers_analysis.patient_interaction_analysis | Calculating Mutual Exclusivity over P15056's interactors ..\n",
      "2022-06-18 18:17:38 |\u001B[36m DEBUG    \u001B[0m| src.helpers.helpers_analysis.patient_interaction_analysis | P15056 have 3 interactors:\n",
      "Counter({'P53667:LIMK1': 4, 'Q13177:PAK2': 4, 'Q13233:MAP3K1': 1})\n",
      "2022-06-18 18:17:38 |\u001B[36m DEBUG    \u001B[0m| src.helpers.helpers_analysis.patient_interaction_analysis | Exporting Mutual Exclusivity GBM P15056 ..\n",
      "2022-06-18 18:17:38 |\u001B[32m INFO     \u001B[0m| src.helpers.helpers_analysis.patient_interaction_analysis | ../MutualExclusivity/mutex\\GBM\\GBM_P15056_BRAF_2022-06-18.csv is exported successfully.\n",
      "2022-06-18 18:17:38 |\u001B[32m INFO     \u001B[0m| src.helpers.helpers_analysis.patient_interaction_analysis | Calculating Mutual Exclusivity over Q05655's interactors ..\n",
      "2022-06-18 18:17:38 |\u001B[36m DEBUG    \u001B[0m| src.helpers.helpers_analysis.patient_interaction_analysis | Q05655 have 9 interactors:\n",
      "Counter({'P51617:IRAK1': 2, 'Q14012:CAMK1': 1, 'P57078:RIPK4': 1, 'P25963:NFKBIA': 1, 'P27361:MAPK3': 1, 'P00519:ABL1': 1, 'Q13164:MAPK7': 1, 'P06239:LCK': 1, 'P45985:MAP2K4': 1})\n",
      "2022-06-18 18:17:38 |\u001B[36m DEBUG    \u001B[0m| src.helpers.helpers_analysis.patient_interaction_analysis | Exporting Mutual Exclusivity GBM Q05655 ..\n",
      "2022-06-18 18:17:38 |\u001B[32m INFO     \u001B[0m| src.helpers.helpers_analysis.patient_interaction_analysis | ../MutualExclusivity/mutex\\GBM\\GBM_Q05655_PRKCD_2022-06-18.csv is exported successfully.\n"
     ]
    }
   ],
   "source": [
    "# Running them all at once.\n",
    "\n",
    "for gbm_protein in gbm_filtered_proteins:\n",
    "    gbm_pia.export_disruptive_mutual_exclusivity_data(folder_path=fr\"{MUTEX_PATH}\\GBM\", protein=gbm_protein)"
   ],
   "metadata": {
    "collapsed": false,
    "pycharm": {
     "name": "#%%\n"
    }
   }
  },
  {
   "cell_type": "code",
   "execution_count": 39,
   "outputs": [],
   "source": [],
   "metadata": {
    "collapsed": false,
    "pycharm": {
     "name": "#%%\n"
    }
   }
  },
  {
   "cell_type": "markdown",
   "source": [
    "### HNSC"
   ],
   "metadata": {
    "collapsed": false,
    "pycharm": {
     "name": "#%% md\n"
    }
   }
  },
  {
   "cell_type": "code",
   "execution_count": 40,
   "outputs": [
    {
     "name": "stdout",
     "output_type": "stream",
     "text": [
      "2022-06-18 18:18:13 |\u001B[32m INFO     \u001B[0m| src.helpers.helpers_analysis.patient_interaction_analysis | Calculating Mutual Exclusivity over P01112's interactors ..\n",
      "2022-06-18 18:18:13 |\u001B[36m DEBUG    \u001B[0m| src.helpers.helpers_analysis.patient_interaction_analysis | P01112 have 16 interactors:\n",
      "Counter({'Q07889:SOS1': 25, 'Q07890:SOS2': 25, 'G5E9C8:SOS1': 22, 'Q13972:RASGRF1': 16, 'Q9UJ41:RABGEF1': 15, 'Q13671:RIN1': 12, 'Q15811:ITSN1': 4, 'Q8IV61:RASGRP3': 4, 'Q9NZL6:RGL1': 4, 'P15498:VAV1': 3, 'Q13905:RAPGEF1': 3, 'Q13009:TIAM1': 3, 'Q9P212:PLCE1': 3, 'P10398:ARAF': 1, 'P08069:IGF1R': 1, 'P06239:LCK': 1})\n",
      "2022-06-18 18:18:14 |\u001B[36m DEBUG    \u001B[0m| src.helpers.helpers_analysis.patient_interaction_analysis | Exporting Mutual Exclusivity HNSC P01112 ..\n",
      "2022-06-18 18:18:14 |\u001B[32m INFO     \u001B[0m| src.helpers.helpers_analysis.patient_interaction_analysis | ../MutualExclusivity/mutex\\HNSC\\HNSC_P01112_HRAS_2022-06-18.csv is exported successfully.\n",
      "2022-06-18 18:18:14 |\u001B[32m INFO     \u001B[0m| src.helpers.helpers_analysis.patient_interaction_analysis | Calculating Mutual Exclusivity over P63000's interactors ..\n",
      "2022-06-18 18:18:14 |\u001B[36m DEBUG    \u001B[0m| src.helpers.helpers_analysis.patient_interaction_analysis | P63000 have 7 interactors:\n",
      "Counter({'Q17R89:ARHGAP44': 9, 'Q8NF50:DOCK8': 2, 'Q13972:RASGRF1': 2, 'Q14185:DOCK1': 1, 'Q92608:DOCK2': 1, 'Q15286:RAB35': 1, 'O14559:ARHGAP33': 1})\n",
      "2022-06-18 18:18:14 |\u001B[36m DEBUG    \u001B[0m| src.helpers.helpers_analysis.patient_interaction_analysis | Exporting Mutual Exclusivity HNSC P63000 ..\n",
      "2022-06-18 18:18:14 |\u001B[32m INFO     \u001B[0m| src.helpers.helpers_analysis.patient_interaction_analysis | ../MutualExclusivity/mutex\\HNSC\\HNSC_P63000_RAC1_2022-06-18.csv is exported successfully.\n",
      "2022-06-18 18:18:14 |\u001B[32m INFO     \u001B[0m| src.helpers.helpers_analysis.patient_interaction_analysis | Calculating Mutual Exclusivity over P61586's interactors ..\n",
      "2022-06-18 18:18:14 |\u001B[36m DEBUG    \u001B[0m| src.helpers.helpers_analysis.patient_interaction_analysis | P61586 have 18 interactors:\n",
      "Counter({'O43157:PLXNB1': 4, 'O60610:DIAPH1': 4, 'Q86VW2:ARHGEF25': 3, 'Q16513:PKN2': 2, 'O14578:CIT': 1, 'O75962:TRIO': 1, 'P17612:PRKACA': 1, 'Q9Y4D1:DAAM1': 1, 'Q9NSV4:DIAPH3': 1, 'P52565:ARHGDIA': 1, 'P52566:ARHGDIB': 1, 'Q99819:ARHGDIG': 1, 'O15068:MCF2L': 1, 'Q7Z628:NET1': 1, 'Q5S007:LRRK2': 1, 'Q07960:ARHGAP1': 1, 'Q96N67:DOCK7': 1, 'Q16512:PKN1': 1})\n",
      "2022-06-18 18:18:14 |\u001B[36m DEBUG    \u001B[0m| src.helpers.helpers_analysis.patient_interaction_analysis | Exporting Mutual Exclusivity HNSC P61586 ..\n",
      "2022-06-18 18:18:14 |\u001B[32m INFO     \u001B[0m| src.helpers.helpers_analysis.patient_interaction_analysis | ../MutualExclusivity/mutex\\HNSC\\HNSC_P61586_RHOA_2022-06-18.csv is exported successfully.\n",
      "2022-06-18 18:18:14 |\u001B[32m INFO     \u001B[0m| src.helpers.helpers_analysis.patient_interaction_analysis | Calculating Mutual Exclusivity over P15056's interactors ..\n",
      "2022-06-18 18:18:14 |\u001B[36m DEBUG    \u001B[0m| src.helpers.helpers_analysis.patient_interaction_analysis | P15056 have 5 interactors:\n",
      "Counter({'Q13177:PAK2': 3, 'P17252:PRKCA': 2, 'P53667:LIMK1': 2, 'P36507:MAP2K2': 1, 'A4QPA9:MAP2K1': 1})\n",
      "2022-06-18 18:18:14 |\u001B[36m DEBUG    \u001B[0m| src.helpers.helpers_analysis.patient_interaction_analysis | Exporting Mutual Exclusivity HNSC P15056 ..\n",
      "2022-06-18 18:18:14 |\u001B[32m INFO     \u001B[0m| src.helpers.helpers_analysis.patient_interaction_analysis | ../MutualExclusivity/mutex\\HNSC\\HNSC_P15056_BRAF_2022-06-18.csv is exported successfully.\n",
      "2022-06-18 18:18:14 |\u001B[32m INFO     \u001B[0m| src.helpers.helpers_analysis.patient_interaction_analysis | Calculating Mutual Exclusivity over P49336's interactors ..\n",
      "2022-06-18 18:18:14 |\u001B[36m DEBUG    \u001B[0m| src.helpers.helpers_analysis.patient_interaction_analysis | P49336 have 3 interactors:\n",
      "Counter({'Q96KQ7:EHMT2': 5, 'P42772:CDKN2B': 1, 'Q13136:PPFIA1': 1})\n",
      "2022-06-18 18:18:15 |\u001B[36m DEBUG    \u001B[0m| src.helpers.helpers_analysis.patient_interaction_analysis | Exporting Mutual Exclusivity HNSC P49336 ..\n",
      "2022-06-18 18:18:15 |\u001B[32m INFO     \u001B[0m| src.helpers.helpers_analysis.patient_interaction_analysis | ../MutualExclusivity/mutex\\HNSC\\HNSC_P49336_CDK8_2022-06-18.csv is exported successfully.\n",
      "2022-06-18 18:18:15 |\u001B[32m INFO     \u001B[0m| src.helpers.helpers_analysis.patient_interaction_analysis | Calculating Mutual Exclusivity over Q14790's interactors ..\n",
      "2022-06-18 18:18:15 |\u001B[36m DEBUG    \u001B[0m| src.helpers.helpers_analysis.patient_interaction_analysis | Q14790 have 5 interactors:\n",
      "Counter({'P55210:CASP7': 3, 'B4DWA2:nan': 3, 'P19838:NFKB1': 2, 'Q13418:ILK': 2, 'P55211:CASP9': 1})\n",
      "2022-06-18 18:18:15 |\u001B[36m DEBUG    \u001B[0m| src.helpers.helpers_analysis.patient_interaction_analysis | Exporting Mutual Exclusivity HNSC Q14790 ..\n",
      "2022-06-18 18:18:15 |\u001B[32m INFO     \u001B[0m| src.helpers.helpers_analysis.patient_interaction_analysis | ../MutualExclusivity/mutex\\HNSC\\HNSC_Q14790_CASP8_2022-06-18.csv is exported successfully.\n",
      "2022-06-18 18:18:15 |\u001B[32m INFO     \u001B[0m| src.helpers.helpers_analysis.patient_interaction_analysis | Calculating Mutual Exclusivity over P04637's interactors ..\n",
      "2022-06-18 18:18:15 |\u001B[36m DEBUG    \u001B[0m| src.helpers.helpers_analysis.patient_interaction_analysis | P04637 have 16 interactors:\n",
      "Counter({'Q96KQ4:PPP1R13B': 46, 'Q13625:TP53BP2': 44, 'Q06187:BTK': 38, 'P62993:GRB2': 34, 'Q8WUF5:PPP1R13L': 27, 'Q9H3D4:TP63': 24, 'P07948:LYN': 23, 'H2EHT1:TP53': 20, 'K7PPA8:TP53': 20, 'Q96KQ7:EHMT2': 15, 'O15350:TP73': 12, 'Q9H9B1:EHMT1': 7, 'Q99728:BARD1': 7, 'O75832:PSMD10': 7, 'Q9ULT8:HECTD1': 7, 'Q99466:NOTCH4': 1})\n",
      "2022-06-18 18:18:15 |\u001B[36m DEBUG    \u001B[0m| src.helpers.helpers_analysis.patient_interaction_analysis | Exporting Mutual Exclusivity HNSC P04637 ..\n",
      "2022-06-18 18:18:15 |\u001B[32m INFO     \u001B[0m| src.helpers.helpers_analysis.patient_interaction_analysis | ../MutualExclusivity/mutex\\HNSC\\HNSC_P04637_TP53_2022-06-18.csv is exported successfully.\n",
      "2022-06-18 18:18:15 |\u001B[32m INFO     \u001B[0m| src.helpers.helpers_analysis.patient_interaction_analysis | Calculating Mutual Exclusivity over P42336's interactors ..\n",
      "2022-06-18 18:18:15 |\u001B[36m DEBUG    \u001B[0m| src.helpers.helpers_analysis.patient_interaction_analysis | P42336 have 3 interactors:\n",
      "Counter({'P27986:PIK3R1': 13, 'O00459:PIK3R2': 13, 'P43403:ZAP70': 13})\n",
      "2022-06-18 18:18:15 |\u001B[36m DEBUG    \u001B[0m| src.helpers.helpers_analysis.patient_interaction_analysis | Exporting Mutual Exclusivity HNSC P42336 ..\n",
      "2022-06-18 18:18:15 |\u001B[32m INFO     \u001B[0m| src.helpers.helpers_analysis.patient_interaction_analysis | ../MutualExclusivity/mutex\\HNSC\\HNSC_P42336_PIK3CA_2022-06-18.csv is exported successfully.\n",
      "2022-06-18 18:18:15 |\u001B[32m INFO     \u001B[0m| src.helpers.helpers_analysis.patient_interaction_analysis | Calculating Mutual Exclusivity over P42771's interactors ..\n",
      "2022-06-18 18:18:15 |\u001B[36m DEBUG    \u001B[0m| src.helpers.helpers_analysis.patient_interaction_analysis | P42771 have 23 interactors:\n",
      "Counter({'P11802:CDK4': 14, 'P29320:EPHA3': 12, 'O14920:IKBKB': 11, 'P17252:PRKCA': 11, 'P45983:MAPK8': 9, 'P49760:CLK2': 9, 'A4D1G0:CDK6': 9, 'Q9UQ88:CDK11A': 8, 'Q00534:CDK6': 8, 'A1L4K2:MAPK8': 8, 'B2R6V2:nan': 8, 'O14965:AURKA': 7, 'P53779:MAPK10': 6, 'O00311:CDC7': 5, 'Q8NE63:HIPK4': 5, 'Q14164:IKBKE': 4, 'A8MWW6:nan': 3, 'Q9Y463:DYRK1B': 3, 'P07437:TUBB': 2, 'Q499Y8:MAPK10': 2, 'Q71U36:TUBA1A': 1, 'Q9BQE3:TUBA1C': 1, 'P68371:TUBB4B': 1})\n",
      "2022-06-18 18:18:16 |\u001B[36m DEBUG    \u001B[0m| src.helpers.helpers_analysis.patient_interaction_analysis | Exporting Mutual Exclusivity HNSC P42771 ..\n",
      "2022-06-18 18:18:16 |\u001B[32m INFO     \u001B[0m| src.helpers.helpers_analysis.patient_interaction_analysis | ../MutualExclusivity/mutex\\HNSC\\HNSC_P42771_CDKN2A_2022-06-18.csv is exported successfully.\n",
      "2022-06-18 18:18:16 |\u001B[32m INFO     \u001B[0m| src.helpers.helpers_analysis.patient_interaction_analysis | Calculating Mutual Exclusivity over Q969H0's interactors ..\n",
      "2022-06-18 18:18:16 |\u001B[36m DEBUG    \u001B[0m| src.helpers.helpers_analysis.patient_interaction_analysis | Q969H0 have 3 interactors:\n",
      "Counter({'P42345:MTOR': 11, 'A6NE52:WDR97': 9, 'P63244:RACK1': 5})\n",
      "2022-06-18 18:18:16 |\u001B[36m DEBUG    \u001B[0m| src.helpers.helpers_analysis.patient_interaction_analysis | Exporting Mutual Exclusivity HNSC Q969H0 ..\n",
      "2022-06-18 18:18:16 |\u001B[32m INFO     \u001B[0m| src.helpers.helpers_analysis.patient_interaction_analysis | ../MutualExclusivity/mutex\\HNSC\\HNSC_Q969H0_FBXW7_2022-06-18.csv is exported successfully.\n",
      "2022-06-18 18:18:16 |\u001B[32m INFO     \u001B[0m| src.helpers.helpers_analysis.patient_interaction_analysis | Calculating Mutual Exclusivity over P22607's interactors ..\n",
      "2022-06-18 18:18:16 |\u001B[36m DEBUG    \u001B[0m| src.helpers.helpers_analysis.patient_interaction_analysis | P22607 have 12 interactors:\n",
      "Counter({'P09038:FGF2': 4, 'P10767:FGF6': 4, 'P05230:FGF1': 4, 'P61328:FGF12': 4, 'A1A515:FGF8': 4, 'A8K147:nan': 4, 'P08620:FGF4': 3, 'Q9GZV9:FGF23': 1, 'O95750:FGF19': 1, 'P11487:FGF3': 1, 'O15524:SOCS1': 1, 'Q0IJ44:FGFR3': 1})\n",
      "2022-06-18 18:18:16 |\u001B[36m DEBUG    \u001B[0m| src.helpers.helpers_analysis.patient_interaction_analysis | Exporting Mutual Exclusivity HNSC P22607 ..\n",
      "2022-06-18 18:18:16 |\u001B[32m INFO     \u001B[0m| src.helpers.helpers_analysis.patient_interaction_analysis | ../MutualExclusivity/mutex\\HNSC\\HNSC_P22607_FGFR3_2022-06-18.csv is exported successfully.\n",
      "2022-06-18 18:18:16 |\u001B[32m INFO     \u001B[0m| src.helpers.helpers_analysis.patient_interaction_analysis | Calculating Mutual Exclusivity over P07288's interactors ..\n",
      "2022-06-18 18:18:16 |\u001B[36m DEBUG    \u001B[0m| src.helpers.helpers_analysis.patient_interaction_analysis | P07288 have 4 interactors:\n",
      "Counter({'P01009:SERPINA1': 4, 'P05154:SERPINA5': 3, 'P03973:SLPI': 3, 'P01011:SERPINA3': 1})\n",
      "2022-06-18 18:18:16 |\u001B[36m DEBUG    \u001B[0m| src.helpers.helpers_analysis.patient_interaction_analysis | Exporting Mutual Exclusivity HNSC P07288 ..\n",
      "2022-06-18 18:18:16 |\u001B[32m INFO     \u001B[0m| src.helpers.helpers_analysis.patient_interaction_analysis | ../MutualExclusivity/mutex\\HNSC\\HNSC_P07288_KLK3_2022-06-18.csv is exported successfully.\n",
      "2022-06-18 18:18:16 |\u001B[32m INFO     \u001B[0m| src.helpers.helpers_analysis.patient_interaction_analysis | Calculating Mutual Exclusivity over P28827's interactors ..\n",
      "2022-06-18 18:18:16 |\u001B[36m DEBUG    \u001B[0m| src.helpers.helpers_analysis.patient_interaction_analysis | P28827 have 3 interactors:\n",
      "Counter({'Q15262:PTPRK': 3, 'Q13332:PTPRS': 2, 'P18433:PTPRA': 1})\n",
      "2022-06-18 18:18:16 |\u001B[36m DEBUG    \u001B[0m| src.helpers.helpers_analysis.patient_interaction_analysis | Exporting Mutual Exclusivity HNSC P28827 ..\n",
      "2022-06-18 18:18:16 |\u001B[32m INFO     \u001B[0m| src.helpers.helpers_analysis.patient_interaction_analysis | ../MutualExclusivity/mutex\\HNSC\\HNSC_P28827_PTPRM_2022-06-18.csv is exported successfully.\n",
      "2022-06-18 18:18:16 |\u001B[32m INFO     \u001B[0m| src.helpers.helpers_analysis.patient_interaction_analysis | Calculating Mutual Exclusivity over P37173's interactors ..\n",
      "2022-06-18 18:18:16 |\u001B[36m DEBUG    \u001B[0m| src.helpers.helpers_analysis.patient_interaction_analysis | P37173 have 5 interactors:\n",
      "Counter({'P23443:RPS6KB1': 2, 'O00238:BMPR1B': 1, 'P36897:TGFBR1': 1, 'Q5T7S2:TGFBR1': 1, 'O95747:OXSR1': 1})\n",
      "2022-06-18 18:18:17 |\u001B[36m DEBUG    \u001B[0m| src.helpers.helpers_analysis.patient_interaction_analysis | Exporting Mutual Exclusivity HNSC P37173 ..\n",
      "2022-06-18 18:18:17 |\u001B[32m INFO     \u001B[0m| src.helpers.helpers_analysis.patient_interaction_analysis | ../MutualExclusivity/mutex\\HNSC\\HNSC_P37173_TGFBR2_2022-06-18.csv is exported successfully.\n",
      "2022-06-18 18:18:17 |\u001B[32m INFO     \u001B[0m| src.helpers.helpers_analysis.patient_interaction_analysis | Calculating Mutual Exclusivity over P68431's interactors ..\n",
      "2022-06-18 18:18:17 |\u001B[36m DEBUG    \u001B[0m| src.helpers.helpers_analysis.patient_interaction_analysis | P68431 have 11 interactors:\n",
      "Counter({'Q9UER7:DAXX': 4, 'P62805:H4C1': 3, 'P04908:H2AC4': 2, 'Q16777:H2AC20': 2, 'P16104:H2AX': 2, 'P0C0S8:H2AC11': 2, 'O75367:MACROH2A1': 2, 'P0C0S5:H2AZ1': 2, 'Q9Y294:ASF1A': 1, 'Q9NVP2:ASF1B': 1, 'P49450:CENPA': 1})\n",
      "2022-06-18 18:18:17 |\u001B[36m DEBUG    \u001B[0m| src.helpers.helpers_analysis.patient_interaction_analysis | Exporting Mutual Exclusivity HNSC P68431 ..\n",
      "2022-06-18 18:18:17 |\u001B[32m INFO     \u001B[0m| src.helpers.helpers_analysis.patient_interaction_analysis | ../MutualExclusivity/mutex\\HNSC\\HNSC_P68431_H3C1_2022-06-18.csv is exported successfully.\n",
      "2022-06-18 18:18:17 |\u001B[32m INFO     \u001B[0m| src.helpers.helpers_analysis.patient_interaction_analysis | Calculating Mutual Exclusivity over Q16478's interactors ..\n",
      "2022-06-18 18:18:17 |\u001B[36m DEBUG    \u001B[0m| src.helpers.helpers_analysis.patient_interaction_analysis | Q16478 have 4 interactors:\n",
      "Counter({'O43424:GRID2': 3, 'Q13002:GRIK2': 2, 'Q13003:GRIK3': 1, 'P42262:GRIA2': 1})\n",
      "2022-06-18 18:18:17 |\u001B[36m DEBUG    \u001B[0m| src.helpers.helpers_analysis.patient_interaction_analysis | Exporting Mutual Exclusivity HNSC Q16478 ..\n",
      "2022-06-18 18:18:17 |\u001B[32m INFO     \u001B[0m| src.helpers.helpers_analysis.patient_interaction_analysis | ../MutualExclusivity/mutex\\HNSC\\HNSC_Q16478_GRIK5_2022-06-18.csv is exported successfully.\n"
     ]
    }
   ],
   "source": [
    "\n",
    "for hnsc_protein in hnsc_filtered_proteins:\n",
    "    hnsc_pia.export_disruptive_mutual_exclusivity_data(folder_path=fr\"{MUTEX_PATH}\\HNSC\", protein=hnsc_protein)"
   ],
   "metadata": {
    "collapsed": false,
    "pycharm": {
     "name": "#%%\n"
    }
   }
  },
  {
   "cell_type": "code",
   "execution_count": null,
   "outputs": [],
   "source": [],
   "metadata": {
    "collapsed": false,
    "pycharm": {
     "name": "#%%\n"
    }
   }
  },
  {
   "cell_type": "markdown",
   "source": [
    "### OV"
   ],
   "metadata": {
    "collapsed": false,
    "pycharm": {
     "name": "#%% md\n"
    }
   }
  },
  {
   "cell_type": "code",
   "execution_count": 41,
   "outputs": [
    {
     "name": "stdout",
     "output_type": "stream",
     "text": [
      "2022-06-18 18:18:51 |\u001B[32m INFO     \u001B[0m| src.helpers.helpers_analysis.patient_interaction_analysis | Calculating Mutual Exclusivity over P04637's interactors ..\n",
      "2022-06-18 18:18:51 |\u001B[36m DEBUG    \u001B[0m| src.helpers.helpers_analysis.patient_interaction_analysis | P04637 have 19 interactors:\n",
      "Counter({'Q13625:TP53BP2': 61, 'Q96KQ4:PPP1R13B': 61, 'Q06187:BTK': 51, 'P62993:GRB2': 46, 'Q8WUF5:PPP1R13L': 40, 'P07948:LYN': 33, 'Q9H3D4:TP63': 31, 'H2EHT1:TP53': 27, 'K7PPA8:TP53': 27, 'O15350:TP73': 21, 'Q96KQ7:EHMT2': 17, 'O75832:PSMD10': 8, 'Q9H9B1:EHMT1': 6, 'Q99728:BARD1': 6, 'Q9ULT8:HECTD1': 6, 'Q99466:NOTCH4': 3, 'Q53GA5:nan': 3, 'Q9GZV1:ANKRD2': 1, 'P25963:NFKBIA': 1})\n",
      "2022-06-18 18:18:52 |\u001B[36m DEBUG    \u001B[0m| src.helpers.helpers_analysis.patient_interaction_analysis | Exporting Mutual Exclusivity OV P04637 ..\n",
      "2022-06-18 18:18:52 |\u001B[32m INFO     \u001B[0m| src.helpers.helpers_analysis.patient_interaction_analysis | ../MutualExclusivity/mutex\\OV\\OV_P04637_TP53_2022-06-18.csv is exported successfully.\n",
      "2022-06-18 18:18:52 |\u001B[32m INFO     \u001B[0m| src.helpers.helpers_analysis.patient_interaction_analysis | Calculating Mutual Exclusivity over P62805's interactors ..\n",
      "2022-06-18 18:18:52 |\u001B[36m DEBUG    \u001B[0m| src.helpers.helpers_analysis.patient_interaction_analysis | P62805 have 18 interactors:\n",
      "Counter({'P84243:H3-3A': 4, 'P49450:CENPA': 3, 'P68431:H3C1': 3, 'P04908:H2AC4': 2, 'Q16695:H3-4': 2, 'Q71DI3:H3C15': 2, 'P0C0S5:H2AZ1': 2, 'Q16777:H2AC20': 2, 'Q53F85:nan': 2, 'Q9UER7:DAXX': 1, 'B4E1C1:nan': 1, 'Q8NCD3:HJURP': 1, 'Q16514:TAF12': 1, 'P06899:H2BC11': 1, 'Q16778:H2BC21': 1, 'P16104:H2AX': 1, 'Q9Y294:ASF1A': 1, 'Q9NVP2:ASF1B': 1})\n",
      "2022-06-18 18:18:52 |\u001B[36m DEBUG    \u001B[0m| src.helpers.helpers_analysis.patient_interaction_analysis | Exporting Mutual Exclusivity OV P62805 ..\n",
      "2022-06-18 18:18:52 |\u001B[32m INFO     \u001B[0m| src.helpers.helpers_analysis.patient_interaction_analysis | ../MutualExclusivity/mutex\\OV\\OV_P62805_H4C1_2022-06-18.csv is exported successfully.\n",
      "2022-06-18 18:18:52 |\u001B[32m INFO     \u001B[0m| src.helpers.helpers_analysis.patient_interaction_analysis | Calculating Mutual Exclusivity over O95835's interactors ..\n",
      "2022-06-18 18:18:52 |\u001B[36m DEBUG    \u001B[0m| src.helpers.helpers_analysis.patient_interaction_analysis | O95835 have 4 interactors:\n",
      "Counter({'Q96J84:KIRREL1': 1, 'P53350:PLK1': 1, 'O14974:PPP1R12A': 1, 'P06493:CDK1': 1})\n",
      "2022-06-18 18:18:52 |\u001B[36m DEBUG    \u001B[0m| src.helpers.helpers_analysis.patient_interaction_analysis | Exporting Mutual Exclusivity OV O95835 ..\n",
      "2022-06-18 18:18:52 |\u001B[32m INFO     \u001B[0m| src.helpers.helpers_analysis.patient_interaction_analysis | ../MutualExclusivity/mutex\\OV\\OV_O95835_LATS1_2022-06-18.csv is exported successfully.\n"
     ]
    }
   ],
   "source": [
    "\n",
    "for ov_protein in ov_filtered_proteins:\n",
    "    ov_pia.export_disruptive_mutual_exclusivity_data(folder_path=fr\"{MUTEX_PATH}\\OV\", protein=ov_protein)"
   ],
   "metadata": {
    "collapsed": false,
    "pycharm": {
     "name": "#%%\n"
    }
   }
  },
  {
   "cell_type": "code",
   "execution_count": 42,
   "outputs": [
    {
     "name": "stdout",
     "output_type": "stream",
     "text": [
      "2022-06-18 18:19:11 |\u001B[32m INFO     \u001B[0m| src.helpers.helpers_analysis.patient_interaction_analysis | Calculating Mutual Exclusivity over P04637's interactors ..\n",
      "2022-06-18 18:19:11 |\u001B[36m DEBUG    \u001B[0m| src.helpers.helpers_analysis.patient_interaction_analysis | P04637 have 19 interactors:\n",
      "Counter({'Q13625:TP53BP2': 61, 'Q96KQ4:PPP1R13B': 61, 'Q06187:BTK': 51, 'P62993:GRB2': 46, 'Q8WUF5:PPP1R13L': 40, 'P07948:LYN': 33, 'Q9H3D4:TP63': 31, 'H2EHT1:TP53': 27, 'K7PPA8:TP53': 27, 'O15350:TP73': 21, 'Q96KQ7:EHMT2': 17, 'O75832:PSMD10': 8, 'Q9H9B1:EHMT1': 6, 'Q99728:BARD1': 6, 'Q9ULT8:HECTD1': 6, 'Q99466:NOTCH4': 3, 'Q53GA5:nan': 3, 'Q9GZV1:ANKRD2': 1, 'P25963:NFKBIA': 1})\n"
     ]
    },
    {
     "data": {
      "text/plain": "   TCGA PROTEIN:GENE  NUM_PATIENTS       INTERACTOR  NUM_PATIENTS_INTERACTOR  \\\n0    OV  P04637:TP53           237   Q13625:TP53BP2                        4   \n3    OV  P04637:TP53           237  Q96KQ4:PPP1R13B                        0   \n6    OV  P04637:TP53           237       Q06187:BTK                        6   \n1    OV  P04637:TP53           237      P62993:GRB2                        3   \n4    OV  P04637:TP53           237  Q8WUF5:PPP1R13L                        2   \n5    OV  P04637:TP53           237       P07948:LYN                        3   \n2    OV  P04637:TP53           237      Q9H3D4:TP63                        5   \n7    OV  P04637:TP53           237      H2EHT1:TP53                        0   \n8    OV  P04637:TP53           237      K7PPA8:TP53                        0   \n9    OV  P04637:TP53           237      O15350:TP73                        2   \n10   OV  P04637:TP53           237     Q96KQ7:EHMT2                        3   \n13   OV  P04637:TP53           237    O75832:PSMD10                        1   \n11   OV  P04637:TP53           237     Q9H9B1:EHMT1                        5   \n12   OV  P04637:TP53           237     Q99728:BARD1                        3   \n14   OV  P04637:TP53           237    Q9ULT8:HECTD1                        7   \n15   OV  P04637:TP53           237    Q99466:NOTCH4                       12   \n16   OV  P04637:TP53           237       Q53GA5:nan                        0   \n17   OV  P04637:TP53           237    Q9GZV1:ANKRD2                        1   \n18   OV  P04637:TP53           237    P25963:NFKBIA                        0   \n\n    DISRUPTIVE_INTERACTOR_COUNT  #_PATIENTS_A_DISR_B  \\\n0                            61                   60   \n3                            61                   60   \n6                            51                   50   \n1                            46                   46   \n4                            40                   40   \n5                            33                   33   \n2                            31                   31   \n7                            27                   27   \n8                            27                   27   \n9                            21                   21   \n10                           17                   17   \n13                            8                    8   \n11                            6                    6   \n12                            6                    6   \n14                            6                    6   \n15                            3                    3   \n16                            3                    3   \n17                            1                    1   \n18                            1                    1   \n\n                                    PATIENTS_A_DISR_B  #_PATIENTS_B_DISR_A  \\\n0   {TCGA-24-2260, TCGA-25-1315, TCGA-13-2060, TCG...                    0   \n3   {TCGA-24-2260, TCGA-25-1315, TCGA-13-2060, TCG...                    0   \n6   {TCGA-24-2260, TCGA-25-1315, TCGA-25-2409, TCG...                    0   \n1   {TCGA-25-1315, TCGA-25-2409, TCGA-25-2397, TCG...                    1   \n4   {TCGA-25-1315, TCGA-25-2409, TCGA-25-2397, TCG...                    0   \n5   {TCGA-24-2260, TCGA-25-2409, TCGA-25-2397, TCG...                    0   \n2   {TCGA-13-2060, TCGA-25-2409, TCGA-13-1481, TCG...                    1   \n7   {TCGA-13-2060, TCGA-25-2409, TCGA-13-1481, TCG...                    0   \n8   {TCGA-13-2060, TCGA-25-2409, TCGA-13-1481, TCG...                    0   \n9   {TCGA-23-1123, TCGA-13-2060, TCGA-29-1768, TCG...                    0   \n10  {TCGA-29-1771, TCGA-23-1123, TCGA-13-1404, TCG...                    0   \n13  {TCGA-29-1771, TCGA-13-2060, TCGA-13-2059, TCG...                    0   \n11  {TCGA-13-2060, TCGA-13-2059, TCGA-04-1332, TCG...                    0   \n12  {TCGA-13-2060, TCGA-13-2059, TCGA-04-1332, TCG...                    0   \n14  {TCGA-13-2060, TCGA-13-2059, TCGA-04-1332, TCG...                    0   \n15         {TCGA-13-1481, TCGA-29-1771, TCGA-04-1332}                    0   \n16         {TCGA-13-1481, TCGA-29-1771, TCGA-04-1332}                    0   \n17                                     {TCGA-04-1332}                    0   \n18                                     {TCGA-04-1332}                    0   \n\n   PATIENTS_B_DISR_A  #_PATIENTS_INTERSECTION PATIENTS_INTERSECTION  \\\n0                 {}                        0                    {}   \n3                 {}                        0                    {}   \n6                 {}                        0                    {}   \n1     {TCGA-23-1121}                        0                    {}   \n4                 {}                        0                    {}   \n5                 {}                        0                    {}   \n2     {TCGA-59-2351}                        0                    {}   \n7                 {}                        0                    {}   \n8                 {}                        0                    {}   \n9                 {}                        0                    {}   \n10                {}                        0                    {}   \n13                {}                        0                    {}   \n11                {}                        0                    {}   \n12                {}                        0                    {}   \n14                {}                        0                    {}   \n15                {}                        0                    {}   \n16                {}                        0                    {}   \n17                {}                        0                    {}   \n18                {}                        0                    {}   \n\n    MUTUAL_EXCLUSIVITY  \n0               0.9917  \n3               1.0000  \n6               1.0000  \n1               0.9917  \n4               1.0000  \n5               0.9958  \n2               0.9959  \n7               1.0000  \n8               1.0000  \n9               0.9958  \n10              0.9958  \n13              1.0000  \n11              0.9793  \n12              0.9958  \n14              0.9836  \n15              0.9759  \n16              1.0000  \n17              1.0000  \n18              1.0000  ",
      "text/html": "<div>\n<style scoped>\n    .dataframe tbody tr th:only-of-type {\n        vertical-align: middle;\n    }\n\n    .dataframe tbody tr th {\n        vertical-align: top;\n    }\n\n    .dataframe thead th {\n        text-align: right;\n    }\n</style>\n<table border=\"1\" class=\"dataframe\">\n  <thead>\n    <tr style=\"text-align: right;\">\n      <th></th>\n      <th>TCGA</th>\n      <th>PROTEIN:GENE</th>\n      <th>NUM_PATIENTS</th>\n      <th>INTERACTOR</th>\n      <th>NUM_PATIENTS_INTERACTOR</th>\n      <th>DISRUPTIVE_INTERACTOR_COUNT</th>\n      <th>#_PATIENTS_A_DISR_B</th>\n      <th>PATIENTS_A_DISR_B</th>\n      <th>#_PATIENTS_B_DISR_A</th>\n      <th>PATIENTS_B_DISR_A</th>\n      <th>#_PATIENTS_INTERSECTION</th>\n      <th>PATIENTS_INTERSECTION</th>\n      <th>MUTUAL_EXCLUSIVITY</th>\n    </tr>\n  </thead>\n  <tbody>\n    <tr>\n      <th>0</th>\n      <td>OV</td>\n      <td>P04637:TP53</td>\n      <td>237</td>\n      <td>Q13625:TP53BP2</td>\n      <td>4</td>\n      <td>61</td>\n      <td>60</td>\n      <td>{TCGA-24-2260, TCGA-25-1315, TCGA-13-2060, TCG...</td>\n      <td>0</td>\n      <td>{}</td>\n      <td>0</td>\n      <td>{}</td>\n      <td>0.9917</td>\n    </tr>\n    <tr>\n      <th>3</th>\n      <td>OV</td>\n      <td>P04637:TP53</td>\n      <td>237</td>\n      <td>Q96KQ4:PPP1R13B</td>\n      <td>0</td>\n      <td>61</td>\n      <td>60</td>\n      <td>{TCGA-24-2260, TCGA-25-1315, TCGA-13-2060, TCG...</td>\n      <td>0</td>\n      <td>{}</td>\n      <td>0</td>\n      <td>{}</td>\n      <td>1.0000</td>\n    </tr>\n    <tr>\n      <th>6</th>\n      <td>OV</td>\n      <td>P04637:TP53</td>\n      <td>237</td>\n      <td>Q06187:BTK</td>\n      <td>6</td>\n      <td>51</td>\n      <td>50</td>\n      <td>{TCGA-24-2260, TCGA-25-1315, TCGA-25-2409, TCG...</td>\n      <td>0</td>\n      <td>{}</td>\n      <td>0</td>\n      <td>{}</td>\n      <td>1.0000</td>\n    </tr>\n    <tr>\n      <th>1</th>\n      <td>OV</td>\n      <td>P04637:TP53</td>\n      <td>237</td>\n      <td>P62993:GRB2</td>\n      <td>3</td>\n      <td>46</td>\n      <td>46</td>\n      <td>{TCGA-25-1315, TCGA-25-2409, TCGA-25-2397, TCG...</td>\n      <td>1</td>\n      <td>{TCGA-23-1121}</td>\n      <td>0</td>\n      <td>{}</td>\n      <td>0.9917</td>\n    </tr>\n    <tr>\n      <th>4</th>\n      <td>OV</td>\n      <td>P04637:TP53</td>\n      <td>237</td>\n      <td>Q8WUF5:PPP1R13L</td>\n      <td>2</td>\n      <td>40</td>\n      <td>40</td>\n      <td>{TCGA-25-1315, TCGA-25-2409, TCGA-25-2397, TCG...</td>\n      <td>0</td>\n      <td>{}</td>\n      <td>0</td>\n      <td>{}</td>\n      <td>1.0000</td>\n    </tr>\n    <tr>\n      <th>5</th>\n      <td>OV</td>\n      <td>P04637:TP53</td>\n      <td>237</td>\n      <td>P07948:LYN</td>\n      <td>3</td>\n      <td>33</td>\n      <td>33</td>\n      <td>{TCGA-24-2260, TCGA-25-2409, TCGA-25-2397, TCG...</td>\n      <td>0</td>\n      <td>{}</td>\n      <td>0</td>\n      <td>{}</td>\n      <td>0.9958</td>\n    </tr>\n    <tr>\n      <th>2</th>\n      <td>OV</td>\n      <td>P04637:TP53</td>\n      <td>237</td>\n      <td>Q9H3D4:TP63</td>\n      <td>5</td>\n      <td>31</td>\n      <td>31</td>\n      <td>{TCGA-13-2060, TCGA-25-2409, TCGA-13-1481, TCG...</td>\n      <td>1</td>\n      <td>{TCGA-59-2351}</td>\n      <td>0</td>\n      <td>{}</td>\n      <td>0.9959</td>\n    </tr>\n    <tr>\n      <th>7</th>\n      <td>OV</td>\n      <td>P04637:TP53</td>\n      <td>237</td>\n      <td>H2EHT1:TP53</td>\n      <td>0</td>\n      <td>27</td>\n      <td>27</td>\n      <td>{TCGA-13-2060, TCGA-25-2409, TCGA-13-1481, TCG...</td>\n      <td>0</td>\n      <td>{}</td>\n      <td>0</td>\n      <td>{}</td>\n      <td>1.0000</td>\n    </tr>\n    <tr>\n      <th>8</th>\n      <td>OV</td>\n      <td>P04637:TP53</td>\n      <td>237</td>\n      <td>K7PPA8:TP53</td>\n      <td>0</td>\n      <td>27</td>\n      <td>27</td>\n      <td>{TCGA-13-2060, TCGA-25-2409, TCGA-13-1481, TCG...</td>\n      <td>0</td>\n      <td>{}</td>\n      <td>0</td>\n      <td>{}</td>\n      <td>1.0000</td>\n    </tr>\n    <tr>\n      <th>9</th>\n      <td>OV</td>\n      <td>P04637:TP53</td>\n      <td>237</td>\n      <td>O15350:TP73</td>\n      <td>2</td>\n      <td>21</td>\n      <td>21</td>\n      <td>{TCGA-23-1123, TCGA-13-2060, TCGA-29-1768, TCG...</td>\n      <td>0</td>\n      <td>{}</td>\n      <td>0</td>\n      <td>{}</td>\n      <td>0.9958</td>\n    </tr>\n    <tr>\n      <th>10</th>\n      <td>OV</td>\n      <td>P04637:TP53</td>\n      <td>237</td>\n      <td>Q96KQ7:EHMT2</td>\n      <td>3</td>\n      <td>17</td>\n      <td>17</td>\n      <td>{TCGA-29-1771, TCGA-23-1123, TCGA-13-1404, TCG...</td>\n      <td>0</td>\n      <td>{}</td>\n      <td>0</td>\n      <td>{}</td>\n      <td>0.9958</td>\n    </tr>\n    <tr>\n      <th>13</th>\n      <td>OV</td>\n      <td>P04637:TP53</td>\n      <td>237</td>\n      <td>O75832:PSMD10</td>\n      <td>1</td>\n      <td>8</td>\n      <td>8</td>\n      <td>{TCGA-29-1771, TCGA-13-2060, TCGA-13-2059, TCG...</td>\n      <td>0</td>\n      <td>{}</td>\n      <td>0</td>\n      <td>{}</td>\n      <td>1.0000</td>\n    </tr>\n    <tr>\n      <th>11</th>\n      <td>OV</td>\n      <td>P04637:TP53</td>\n      <td>237</td>\n      <td>Q9H9B1:EHMT1</td>\n      <td>5</td>\n      <td>6</td>\n      <td>6</td>\n      <td>{TCGA-13-2060, TCGA-13-2059, TCGA-04-1332, TCG...</td>\n      <td>0</td>\n      <td>{}</td>\n      <td>0</td>\n      <td>{}</td>\n      <td>0.9793</td>\n    </tr>\n    <tr>\n      <th>12</th>\n      <td>OV</td>\n      <td>P04637:TP53</td>\n      <td>237</td>\n      <td>Q99728:BARD1</td>\n      <td>3</td>\n      <td>6</td>\n      <td>6</td>\n      <td>{TCGA-13-2060, TCGA-13-2059, TCGA-04-1332, TCG...</td>\n      <td>0</td>\n      <td>{}</td>\n      <td>0</td>\n      <td>{}</td>\n      <td>0.9958</td>\n    </tr>\n    <tr>\n      <th>14</th>\n      <td>OV</td>\n      <td>P04637:TP53</td>\n      <td>237</td>\n      <td>Q9ULT8:HECTD1</td>\n      <td>7</td>\n      <td>6</td>\n      <td>6</td>\n      <td>{TCGA-13-2060, TCGA-13-2059, TCGA-04-1332, TCG...</td>\n      <td>0</td>\n      <td>{}</td>\n      <td>0</td>\n      <td>{}</td>\n      <td>0.9836</td>\n    </tr>\n    <tr>\n      <th>15</th>\n      <td>OV</td>\n      <td>P04637:TP53</td>\n      <td>237</td>\n      <td>Q99466:NOTCH4</td>\n      <td>12</td>\n      <td>3</td>\n      <td>3</td>\n      <td>{TCGA-13-1481, TCGA-29-1771, TCGA-04-1332}</td>\n      <td>0</td>\n      <td>{}</td>\n      <td>0</td>\n      <td>{}</td>\n      <td>0.9759</td>\n    </tr>\n    <tr>\n      <th>16</th>\n      <td>OV</td>\n      <td>P04637:TP53</td>\n      <td>237</td>\n      <td>Q53GA5:nan</td>\n      <td>0</td>\n      <td>3</td>\n      <td>3</td>\n      <td>{TCGA-13-1481, TCGA-29-1771, TCGA-04-1332}</td>\n      <td>0</td>\n      <td>{}</td>\n      <td>0</td>\n      <td>{}</td>\n      <td>1.0000</td>\n    </tr>\n    <tr>\n      <th>17</th>\n      <td>OV</td>\n      <td>P04637:TP53</td>\n      <td>237</td>\n      <td>Q9GZV1:ANKRD2</td>\n      <td>1</td>\n      <td>1</td>\n      <td>1</td>\n      <td>{TCGA-04-1332}</td>\n      <td>0</td>\n      <td>{}</td>\n      <td>0</td>\n      <td>{}</td>\n      <td>1.0000</td>\n    </tr>\n    <tr>\n      <th>18</th>\n      <td>OV</td>\n      <td>P04637:TP53</td>\n      <td>237</td>\n      <td>P25963:NFKBIA</td>\n      <td>0</td>\n      <td>1</td>\n      <td>1</td>\n      <td>{TCGA-04-1332}</td>\n      <td>0</td>\n      <td>{}</td>\n      <td>0</td>\n      <td>{}</td>\n      <td>1.0000</td>\n    </tr>\n  </tbody>\n</table>\n</div>"
     },
     "execution_count": 42,
     "metadata": {},
     "output_type": "execute_result"
    }
   ],
   "source": [
    "ov_pia.get_disruptive_mutual_exclusivity_data(\"P04637\")"
   ],
   "metadata": {
    "collapsed": false,
    "pycharm": {
     "name": "#%%\n"
    }
   }
  },
  {
   "cell_type": "code",
   "execution_count": 42,
   "outputs": [],
   "source": [],
   "metadata": {
    "collapsed": false,
    "pycharm": {
     "name": "#%%\n"
    }
   }
  },
  {
   "cell_type": "code",
   "execution_count": 42,
   "outputs": [],
   "source": [],
   "metadata": {
    "collapsed": false,
    "pycharm": {
     "name": "#%%\n"
    }
   }
  },
  {
   "cell_type": "markdown",
   "source": [
    "# Codes for Analsis.docx"
   ],
   "metadata": {
    "collapsed": false,
    "pycharm": {
     "name": "#%% md\n"
    }
   }
  },
  {
   "cell_type": "code",
   "execution_count": 43,
   "outputs": [],
   "source": [
    "INTERACTIONS_SUMMARY_TABLES_PATH = fr\"../MostFrequentlyDisruptedInteractions/interactions_summary_tables\""
   ],
   "metadata": {
    "collapsed": false,
    "pycharm": {
     "name": "#%%\n"
    }
   }
  },
  {
   "cell_type": "markdown",
   "source": [
    "## BRCA"
   ],
   "metadata": {
    "collapsed": false,
    "pycharm": {
     "name": "#%% md\n"
    }
   }
  },
  {
   "cell_type": "code",
   "execution_count": 45,
   "outputs": [
    {
     "data": {
      "text/plain": "  0%|          | 0/7 [00:00<?, ?it/s]",
      "application/vnd.jupyter.widget-view+json": {
       "version_major": 2,
       "version_minor": 0,
       "model_id": "558a7673ab0d4c81883838611b95da37"
      }
     },
     "metadata": {},
     "output_type": "display_data"
    },
    {
     "name": "stdout",
     "output_type": "stream",
     "text": [
      "2022-06-18 18:22:53 |\u001B[36m DEBUG    \u001B[0m| src.helpers.helpers_analysis.patient_interaction_analysis | interactors: ['P27986:PIK3R1', 'O00459:PIK3R2', 'P43403:ZAP70', 'Q92569:PIK3R3']\n",
      "2022-06-18 18:22:53 |\u001B[36m DEBUG    \u001B[0m| src.helpers.helpers_analysis.patient_interaction_analysis | Exporting Counts Summary Table BRCA P42336 PIK3CA..\n",
      "2022-06-18 18:22:53 |\u001B[32m INFO     \u001B[0m| src.helpers.helpers_analysis.patient_interaction_analysis | ../MostFrequentlyDisruptedInteractions/interactions_summary_tables\\BRCA\\BRCA_P42336_PIK3CA_2022-06-18.csv is exported successfully.\n",
      "2022-06-18 18:22:53 |\u001B[36m DEBUG    \u001B[0m| src.helpers.helpers_analysis.patient_interaction_analysis | interactors: ['Q13625:TP53BP2', 'Q96KQ4:PPP1R13B', 'Q06187:BTK', 'P62993:GRB2', 'Q8WUF5:PPP1R13L', 'Q9H3D4:TP63', 'H2EHT1:TP53', 'K7PPA8:TP53', 'Q96KQ7:EHMT2', 'O15350:TP73', 'P07948:LYN', 'Q9H9B1:EHMT1', 'Q99728:BARD1', 'O75832:PSMD10', 'Q9ULT8:HECTD1']\n",
      "2022-06-18 18:22:53 |\u001B[36m DEBUG    \u001B[0m| src.helpers.helpers_analysis.patient_interaction_analysis | Exporting Counts Summary Table BRCA P04637 TP53..\n",
      "2022-06-18 18:22:53 |\u001B[32m INFO     \u001B[0m| src.helpers.helpers_analysis.patient_interaction_analysis | ../MostFrequentlyDisruptedInteractions/interactions_summary_tables\\BRCA\\BRCA_P04637_TP53_2022-06-18.csv is exported successfully.\n",
      "2022-06-18 18:22:53 |\u001B[36m DEBUG    \u001B[0m| src.helpers.helpers_analysis.patient_interaction_analysis | interactors: ['Q9UER7:DAXX', 'P62805:H4C1', 'P04908:H2AC4', 'P16104:H2AX', 'P0C0S8:H2AC11', 'O75367:MACROH2A1', 'P0C0S5:H2AZ1', 'Q16777:H2AC20', 'Q9Y294:ASF1A', 'Q9NVP2:ASF1B', 'P49450:CENPA']\n",
      "2022-06-18 18:22:54 |\u001B[33m WARNING  \u001B[0m| src.helpers.helpers_analysis.patient_interaction_analysis | There is a difference between counts.PROTEIN: P68431 INTERACTOR(S): Q9UER7:DAXX, P62805:H4C1\n",
      "2022-06-18 18:22:54 |\u001B[36m DEBUG    \u001B[0m| src.helpers.helpers_analysis.patient_interaction_analysis | Exporting Counts Summary Table BRCA P68431 H3C1..\n",
      "2022-06-18 18:22:54 |\u001B[32m INFO     \u001B[0m| src.helpers.helpers_analysis.patient_interaction_analysis | ../MostFrequentlyDisruptedInteractions/interactions_summary_tables\\BRCA\\BRCA_P68431_H3C1_2022-06-18.csv is exported successfully.\n",
      "2022-06-18 18:22:54 |\u001B[36m DEBUG    \u001B[0m| src.helpers.helpers_analysis.patient_interaction_analysis | interactors: ['Q71DI3:H3C15', 'P68431:H3C1', 'P84243:H3-3A', 'Q16695:H3-4', 'P49450:CENPA', 'B4E1C1:nan', 'Q53F85:nan', 'Q16514:TAF12', 'Q9UER7:DAXX', 'P04908:H2AC4', 'P0C0S5:H2AZ1', 'Q16777:H2AC20', 'P06899:H2BC11', 'Q16778:H2BC21', 'P16104:H2AX', 'Q9Y294:ASF1A']\n",
      "2022-06-18 18:22:54 |\u001B[36m DEBUG    \u001B[0m| src.helpers.helpers_analysis.patient_interaction_analysis | Exporting Counts Summary Table BRCA P62805 H4C1..\n",
      "2022-06-18 18:22:54 |\u001B[32m INFO     \u001B[0m| src.helpers.helpers_analysis.patient_interaction_analysis | ../MostFrequentlyDisruptedInteractions/interactions_summary_tables\\BRCA\\BRCA_P62805_H4C1_2022-06-18.csv is exported successfully.\n",
      "2022-06-18 18:22:54 |\u001B[36m DEBUG    \u001B[0m| src.helpers.helpers_analysis.patient_interaction_analysis | interactors: ['Q5S007:LRRK2', 'P52564:MAP2K6', 'Q16539:MAPK14', 'P00533:EGFR', 'P35916:FLT4', 'Q99558:MAP3K14', 'P45984:MAPK9']\n",
      "2022-06-18 18:22:54 |\u001B[36m DEBUG    \u001B[0m| src.helpers.helpers_analysis.patient_interaction_analysis | Exporting Counts Summary Table BRCA P45985 MAP2K4..\n",
      "2022-06-18 18:22:54 |\u001B[32m INFO     \u001B[0m| src.helpers.helpers_analysis.patient_interaction_analysis | ../MostFrequentlyDisruptedInteractions/interactions_summary_tables\\BRCA\\BRCA_P45985_MAP2K4_2022-06-18.csv is exported successfully.\n",
      "2022-06-18 18:22:54 |\u001B[36m DEBUG    \u001B[0m| src.helpers.helpers_analysis.patient_interaction_analysis | interactors: ['Q96SB4:SRPK1', 'P00533:EGFR', 'P51813:BMX', 'Q14289:PTK2B', 'P16591:FER', 'P06241:FYN', 'P08069:IGF1R', 'Q13153:PAK1', 'P42680:TEC', 'P21860:ERBB3', 'O60674:JAK2', 'P15153:RAC2', 'Q9UJM3:ERRFI1', 'Q92625:ANKS1A', 'P23458:JAK1']\n",
      "2022-06-18 18:22:54 |\u001B[36m DEBUG    \u001B[0m| src.helpers.helpers_analysis.patient_interaction_analysis | Exporting Counts Summary Table BRCA P04626 ERBB2..\n",
      "2022-06-18 18:22:54 |\u001B[32m INFO     \u001B[0m| src.helpers.helpers_analysis.patient_interaction_analysis | ../MostFrequentlyDisruptedInteractions/interactions_summary_tables\\BRCA\\BRCA_P04626_ERBB2_2022-06-18.csv is exported successfully.\n",
      "2022-06-18 18:22:54 |\u001B[36m DEBUG    \u001B[0m| src.helpers.helpers_analysis.patient_interaction_analysis | interactors: ['P21734:UBC1', 'P61077:UBE2D3', 'Q9UMX0:UBQLN1', 'A8K3R3:nan', 'Q99816:TSG101']\n",
      "2022-06-18 18:22:54 |\u001B[36m DEBUG    \u001B[0m| src.helpers.helpers_analysis.patient_interaction_analysis | Exporting Counts Summary Table BRCA P0CG48 UBC..\n",
      "2022-06-18 18:22:54 |\u001B[32m INFO     \u001B[0m| src.helpers.helpers_analysis.patient_interaction_analysis | ../MostFrequentlyDisruptedInteractions/interactions_summary_tables\\BRCA\\BRCA_P0CG48_UBC_2022-06-18.csv is exported successfully.\n"
     ]
    }
   ],
   "source": [
    "for brca_protein in tqdm(brca_filtered_proteins):\n",
    "    brca_pia.export_counts_summary_table_protein(fr\"{INTERACTIONS_SUMMARY_TABLES_PATH}\\BRCA\", brca_protein)"
   ],
   "metadata": {
    "collapsed": false,
    "pycharm": {
     "name": "#%%\n"
    }
   }
  },
  {
   "cell_type": "code",
   "execution_count": 45,
   "outputs": [],
   "source": [],
   "metadata": {
    "collapsed": false,
    "pycharm": {
     "name": "#%%\n"
    }
   }
  },
  {
   "cell_type": "code",
   "execution_count": 46,
   "outputs": [
    {
     "data": {
      "text/plain": "[('P27986:PIK3R1', 120),\n ('O00459:PIK3R2', 120),\n ('P43403:ZAP70', 115),\n ('Q92569:PIK3R3', 5)]"
     },
     "execution_count": 46,
     "metadata": {},
     "output_type": "execute_result"
    }
   ],
   "source": [
    "brca_pia.get_disrupted_interactors(\n",
    "    \"PIK3CA\", identifier_type=\"gene\", return_counter=True, most_common=True\n",
    ")"
   ],
   "metadata": {
    "collapsed": false,
    "pycharm": {
     "name": "#%%\n"
    }
   }
  },
  {
   "cell_type": "code",
   "execution_count": 47,
   "outputs": [
    {
     "data": {
      "text/plain": "[('P27986:PIK3R1', 120),\n ('O00459:PIK3R2', 120),\n ('P43403:ZAP70', 115),\n ('Q92569:PIK3R3', 5)]"
     },
     "execution_count": 47,
     "metadata": {},
     "output_type": "execute_result"
    }
   ],
   "source": [
    "brca_pia.get_disrupted_interactors(\n",
    "    \"PIK3CA\", identifier_type=\"gene\", return_counter=True, most_common=True\n",
    ")"
   ],
   "metadata": {
    "collapsed": false,
    "pycharm": {
     "name": "#%%\n"
    }
   }
  },
  {
   "cell_type": "code",
   "execution_count": 48,
   "outputs": [],
   "source": [
    "# PIK3R1"
   ],
   "metadata": {
    "collapsed": false,
    "pycharm": {
     "name": "#%%\n"
    }
   }
  },
  {
   "cell_type": "markdown",
   "source": [
    "## COAD"
   ],
   "metadata": {
    "collapsed": false,
    "pycharm": {
     "name": "#%% md\n"
    }
   }
  },
  {
   "cell_type": "code",
   "execution_count": 49,
   "outputs": [
    {
     "name": "stdout",
     "output_type": "stream",
     "text": [
      "2022-06-18 18:24:53 |\u001B[36m DEBUG    \u001B[0m| src.helpers.helpers_analysis.patient_interaction_analysis | interactors: ['Q13625:TP53BP2', 'Q96KQ4:PPP1R13B', 'Q06187:BTK', 'P62993:GRB2', 'Q8WUF5:PPP1R13L', 'P07948:LYN', 'Q9H3D4:TP63', 'H2EHT1:TP53', 'K7PPA8:TP53', 'O15350:TP73', 'Q96KQ7:EHMT2', 'O75832:PSMD10', 'Q9ULT8:HECTD1', 'Q9GZV1:ANKRD2', 'Q99466:NOTCH4', 'P25963:NFKBIA', 'Q9H9B1:EHMT1', 'Q99728:BARD1']\n",
      "2022-06-18 18:24:53 |\u001B[36m DEBUG    \u001B[0m| src.helpers.helpers_analysis.patient_interaction_analysis | Exporting Counts Summary Table COAD P04637 TP53..\n",
      "2022-06-18 18:24:53 |\u001B[32m INFO     \u001B[0m| src.helpers.helpers_analysis.patient_interaction_analysis | ../MostFrequentlyDisruptedInteractions/interactions_summary_tables\\COAD\\COAD_P04637_TP53_2022-06-18.csv is exported successfully.\n",
      "2022-06-18 18:24:53 |\u001B[36m DEBUG    \u001B[0m| src.helpers.helpers_analysis.patient_interaction_analysis | interactors: ['Q16539:MAPK14', 'Q13153:PAK1', 'P67870:CSNK2B', 'N0E4C7:CSNK2B', 'P36897:TGFBR1', 'P68400:CSNK2A1', 'P24941:CDK2', 'Q96S94:CCNL2', 'P21127:CDK11B', 'Q9NZU7:CABP1']\n",
      "2022-06-18 18:24:53 |\u001B[36m DEBUG    \u001B[0m| src.helpers.helpers_analysis.patient_interaction_analysis | Exporting Counts Summary Table COAD P19784 CSNK2A2..\n",
      "2022-06-18 18:24:53 |\u001B[32m INFO     \u001B[0m| src.helpers.helpers_analysis.patient_interaction_analysis | ../MostFrequentlyDisruptedInteractions/interactions_summary_tables\\COAD\\COAD_P19784_CSNK2A2_2022-06-18.csv is exported successfully.\n",
      "2022-06-18 18:24:53 |\u001B[36m DEBUG    \u001B[0m| src.helpers.helpers_analysis.patient_interaction_analysis | interactors: ['P61978:HNRNPK', 'Q15366:PCBP2', 'P57723:PCBP4', 'Q96AE4:FUBP1', 'P51513:NOVA1']\n",
      "2022-06-18 18:24:53 |\u001B[36m DEBUG    \u001B[0m| src.helpers.helpers_analysis.patient_interaction_analysis | Exporting Counts Summary Table COAD Q15365 PCBP1..\n",
      "2022-06-18 18:24:53 |\u001B[32m INFO     \u001B[0m| src.helpers.helpers_analysis.patient_interaction_analysis | ../MostFrequentlyDisruptedInteractions/interactions_summary_tables\\COAD\\COAD_Q15365_PCBP1_2022-06-18.csv is exported successfully.\n",
      "2022-06-18 18:24:53 |\u001B[36m DEBUG    \u001B[0m| src.helpers.helpers_analysis.patient_interaction_analysis | interactors: ['Q13153:PAK1', 'P37173:TGFBR2', 'Q13873:BMPR2', 'P22004:BMP6', 'P18075:BMP7', 'P43026:GDF5', 'O60383:GDF9', 'O95972:BMP15', 'P12643:BMP2', 'P12644:BMP4', 'Q6KF10:GDF6', 'C8C060:BMP2', 'F1T0J1:GDF5', 'P36894:BMPR1A']\n",
      "2022-06-18 18:24:53 |\u001B[36m DEBUG    \u001B[0m| src.helpers.helpers_analysis.patient_interaction_analysis | Exporting Counts Summary Table COAD O00238 BMPR1B..\n",
      "2022-06-18 18:24:53 |\u001B[32m INFO     \u001B[0m| src.helpers.helpers_analysis.patient_interaction_analysis | ../MostFrequentlyDisruptedInteractions/interactions_summary_tables\\COAD\\COAD_O00238_BMPR1B_2022-06-18.csv is exported successfully.\n",
      "2022-06-18 18:24:53 |\u001B[36m DEBUG    \u001B[0m| src.helpers.helpers_analysis.patient_interaction_analysis | interactors: ['Q13094:LCP2', 'Q9UN19:DAPP1', 'P27986:PIK3R1', 'P07947:YES1', 'O00459:PIK3R2', 'P05129:PRKCG', 'P06239:LCK']\n",
      "2022-06-18 18:24:54 |\u001B[36m DEBUG    \u001B[0m| src.helpers.helpers_analysis.patient_interaction_analysis | Exporting Counts Summary Table COAD P16885 PLCG2..\n",
      "2022-06-18 18:24:54 |\u001B[32m INFO     \u001B[0m| src.helpers.helpers_analysis.patient_interaction_analysis | ../MostFrequentlyDisruptedInteractions/interactions_summary_tables\\COAD\\COAD_P16885_PLCG2_2022-06-18.csv is exported successfully.\n",
      "2022-06-18 18:24:54 |\u001B[36m DEBUG    \u001B[0m| src.helpers.helpers_analysis.patient_interaction_analysis | interactors: ['Q15796:SMAD2', 'O95405:ZFYVE9', 'P12757:SKIL', 'P12755:SKI', 'O15105:SMAD7']\n",
      "2022-06-18 18:24:54 |\u001B[36m DEBUG    \u001B[0m| src.helpers.helpers_analysis.patient_interaction_analysis | Exporting Counts Summary Table COAD P84022 SMAD3..\n",
      "2022-06-18 18:24:54 |\u001B[32m INFO     \u001B[0m| src.helpers.helpers_analysis.patient_interaction_analysis | ../MostFrequentlyDisruptedInteractions/interactions_summary_tables\\COAD\\COAD_P84022_SMAD3_2022-06-18.csv is exported successfully.\n",
      "2022-06-18 18:24:54 |\u001B[36m DEBUG    \u001B[0m| src.helpers.helpers_analysis.patient_interaction_analysis | interactors: ['Q86UR5:RIMS1', 'Q9Y2J0:RPH3A', 'Q9UQ26:RIMS2', 'Q9UNE2:RPH3AL']\n",
      "2022-06-18 18:24:54 |\u001B[36m DEBUG    \u001B[0m| src.helpers.helpers_analysis.patient_interaction_analysis | Exporting Counts Summary Table COAD Q96E17 RAB3C..\n",
      "2022-06-18 18:24:54 |\u001B[32m INFO     \u001B[0m| src.helpers.helpers_analysis.patient_interaction_analysis | ../MostFrequentlyDisruptedInteractions/interactions_summary_tables\\COAD\\COAD_Q96E17_RAB3C_2022-06-18.csv is exported successfully.\n",
      "2022-06-18 18:24:54 |\u001B[36m DEBUG    \u001B[0m| src.helpers.helpers_analysis.patient_interaction_analysis | interactors: ['Q7KZI7:MARK2', 'Q96L34:MARK4', 'P19838:NFKB1', 'P63000:RAC1', 'P01112:HRAS', 'P51617:IRAK1', 'P61019:RAB2A']\n",
      "2022-06-18 18:24:54 |\u001B[36m DEBUG    \u001B[0m| src.helpers.helpers_analysis.patient_interaction_analysis | Exporting Counts Summary Table COAD P41743 PRKCI..\n",
      "2022-06-18 18:24:54 |\u001B[32m INFO     \u001B[0m| src.helpers.helpers_analysis.patient_interaction_analysis | ../MostFrequentlyDisruptedInteractions/interactions_summary_tables\\COAD\\COAD_P41743_PRKCI_2022-06-18.csv is exported successfully.\n",
      "2022-06-18 18:24:54 |\u001B[36m DEBUG    \u001B[0m| src.helpers.helpers_analysis.patient_interaction_analysis | interactors: ['O60285:NUAK1', 'Q13153:PAK1', 'O75914:PAK3', 'Q8IYT8:ULK2', 'Q13188:STK3', 'O95835:LATS1', 'Q16659:MAPK6', 'O96017:CHEK2', 'O43683:BUB1']\n",
      "2022-06-18 18:24:54 |\u001B[36m DEBUG    \u001B[0m| src.helpers.helpers_analysis.patient_interaction_analysis | Exporting Counts Summary Table COAD P53350 PLK1..\n",
      "2022-06-18 18:24:54 |\u001B[32m INFO     \u001B[0m| src.helpers.helpers_analysis.patient_interaction_analysis | ../MostFrequentlyDisruptedInteractions/interactions_summary_tables\\COAD\\COAD_P53350_PLK1_2022-06-18.csv is exported successfully.\n",
      "2022-06-18 18:24:54 |\u001B[36m DEBUG    \u001B[0m| src.helpers.helpers_analysis.patient_interaction_analysis | interactors: ['Q96IF9:VCP', 'Q9UNN5:FAF1', 'Q8TAT6:NPLOC4', 'Q04323:UBXN1', 'O94888:UBXN7', 'O00124:UBXN8', 'Q92575:UBXN4', 'Q9UBP0:SPAST', 'P40937:RFC5']\n",
      "2022-06-18 18:24:54 |\u001B[36m DEBUG    \u001B[0m| src.helpers.helpers_analysis.patient_interaction_analysis | Exporting Counts Summary Table COAD P55072 VCP..\n",
      "2022-06-18 18:24:54 |\u001B[32m INFO     \u001B[0m| src.helpers.helpers_analysis.patient_interaction_analysis | ../MostFrequentlyDisruptedInteractions/interactions_summary_tables\\COAD\\COAD_P55072_VCP_2022-06-18.csv is exported successfully.\n",
      "2022-06-18 18:24:54 |\u001B[36m DEBUG    \u001B[0m| src.helpers.helpers_analysis.patient_interaction_analysis | interactors: ['Q96N67:DOCK7', 'Q86VW2:ARHGEF25', 'P52565:ARHGDIA', 'O15068:MCF2L', 'O75962:TRIO', 'P15498:VAV1', 'Q07960:ARHGAP1', 'Q9Y3L3:SH3BP1', 'Q9NR81:ARHGEF3', 'P11274:BCR', 'Q9NSV4:DIAPH3', 'P52566:ARHGDIB', 'Q99819:ARHGDIG', 'P10911:MCF2', 'Q9H7P9:PLEKHG2', 'O43157:PLXNB1', 'P85298:ARHGAP8', 'Q5T5U3:ARHGAP21', 'Q13017:ARHGAP5', 'Q13464:ROCK1', 'O60610:DIAPH1', 'Q9NZN5:ARHGEF12', 'Q9Y4D1:DAAM1', 'O60890:OPHN1', 'Q13972:RASGRF1', 'Q9UNA1:ARHGAP26', 'A7KAX9:ARHGAP32', 'Q9UKW4:VAV3', 'Q7Z628:NET1', 'Q12774:ARHGEF5', 'O43924:PDE6D', 'Q9NR80:ARHGEF4']\n",
      "2022-06-18 18:24:54 |\u001B[36m DEBUG    \u001B[0m| src.helpers.helpers_analysis.patient_interaction_analysis | Exporting Counts Summary Table COAD P61586 RHOA..\n",
      "2022-06-18 18:24:55 |\u001B[32m INFO     \u001B[0m| src.helpers.helpers_analysis.patient_interaction_analysis | ../MostFrequentlyDisruptedInteractions/interactions_summary_tables\\COAD\\COAD_P61586_RHOA_2022-06-18.csv is exported successfully.\n",
      "2022-06-18 18:24:55 |\u001B[36m DEBUG    \u001B[0m| src.helpers.helpers_analysis.patient_interaction_analysis | interactors: ['P09651:HNRNPA1', 'Q9UHX1:PUF60', 'Q15717:ELAVL1', 'Q13148:TARDBP', 'Q8WXA9:SREK1']\n",
      "2022-06-18 18:24:55 |\u001B[36m DEBUG    \u001B[0m| src.helpers.helpers_analysis.patient_interaction_analysis | Exporting Counts Summary Table COAD Q13310 PABPC4..\n",
      "2022-06-18 18:24:55 |\u001B[32m INFO     \u001B[0m| src.helpers.helpers_analysis.patient_interaction_analysis | ../MostFrequentlyDisruptedInteractions/interactions_summary_tables\\COAD\\COAD_Q13310_PABPC4_2022-06-18.csv is exported successfully.\n",
      "2022-06-18 18:24:55 |\u001B[36m DEBUG    \u001B[0m| src.helpers.helpers_analysis.patient_interaction_analysis | interactors: ['O15379:HDAC3', 'Q13547:HDAC1', 'P56524:HDAC4']\n",
      "2022-06-18 18:24:55 |\u001B[36m DEBUG    \u001B[0m| src.helpers.helpers_analysis.patient_interaction_analysis | Exporting Counts Summary Table COAD Q9UKV0 HDAC9..\n",
      "2022-06-18 18:24:55 |\u001B[32m INFO     \u001B[0m| src.helpers.helpers_analysis.patient_interaction_analysis | ../MostFrequentlyDisruptedInteractions/interactions_summary_tables\\COAD\\COAD_Q9UKV0_HDAC9_2022-06-18.csv is exported successfully.\n",
      "2022-06-18 18:24:55 |\u001B[36m DEBUG    \u001B[0m| src.helpers.helpers_analysis.patient_interaction_analysis | interactors: ['P53667:LIMK1', 'Q13177:PAK2', 'P17252:PRKCA']\n",
      "2022-06-18 18:24:55 |\u001B[36m DEBUG    \u001B[0m| src.helpers.helpers_analysis.patient_interaction_analysis | Exporting Counts Summary Table COAD P15056 BRAF..\n",
      "2022-06-18 18:24:55 |\u001B[32m INFO     \u001B[0m| src.helpers.helpers_analysis.patient_interaction_analysis | ../MostFrequentlyDisruptedInteractions/interactions_summary_tables\\COAD\\COAD_P15056_BRAF_2022-06-18.csv is exported successfully.\n",
      "2022-06-18 18:24:55 |\u001B[36m DEBUG    \u001B[0m| src.helpers.helpers_analysis.patient_interaction_analysis | interactors: ['P42345:MTOR', 'A6NE52:WDR97', 'P63208:SKP1', 'P63244:RACK1']\n",
      "2022-06-18 18:24:55 |\u001B[36m DEBUG    \u001B[0m| src.helpers.helpers_analysis.patient_interaction_analysis | Exporting Counts Summary Table COAD Q969H0 FBXW7..\n",
      "2022-06-18 18:24:55 |\u001B[32m INFO     \u001B[0m| src.helpers.helpers_analysis.patient_interaction_analysis | ../MostFrequentlyDisruptedInteractions/interactions_summary_tables\\COAD\\COAD_Q969H0_FBXW7_2022-06-18.csv is exported successfully.\n",
      "2022-06-18 18:24:55 |\u001B[36m DEBUG    \u001B[0m| src.helpers.helpers_analysis.patient_interaction_analysis | interactors: ['P68431:H3C1', 'P84243:H3-3A', 'Q16695:H3-4', 'Q71DI3:H3C15', 'P49450:CENPA', 'Q53F85:nan', 'Q9UER7:DAXX', 'Q8NCD3:HJURP', 'Q16514:TAF12', 'P06899:H2BC11', 'Q16778:H2BC21', 'P04908:H2AC4', 'P16104:H2AX', 'P0C0S5:H2AZ1', 'Q16777:H2AC20', 'Q9Y294:ASF1A', 'Q9NVP2:ASF1B', 'B4E1C1:nan']\n",
      "2022-06-18 18:24:56 |\u001B[36m DEBUG    \u001B[0m| src.helpers.helpers_analysis.patient_interaction_analysis | Exporting Counts Summary Table COAD P62805 H4C1..\n",
      "2022-06-18 18:24:56 |\u001B[32m INFO     \u001B[0m| src.helpers.helpers_analysis.patient_interaction_analysis | ../MostFrequentlyDisruptedInteractions/interactions_summary_tables\\COAD\\COAD_P62805_H4C1_2022-06-18.csv is exported successfully.\n",
      "2022-06-18 18:24:56 |\u001B[36m DEBUG    \u001B[0m| src.helpers.helpers_analysis.patient_interaction_analysis | interactors: ['B7Z5N5:SMAD2', 'Q68DB7:DKFZp781O1323', 'Q53XR6:SMAD2', 'O43541:SMAD6', 'O15105:SMAD7']\n",
      "2022-06-18 18:24:56 |\u001B[36m DEBUG    \u001B[0m| src.helpers.helpers_analysis.patient_interaction_analysis | Exporting Counts Summary Table COAD Q13485 SMAD4..\n",
      "2022-06-18 18:24:56 |\u001B[32m INFO     \u001B[0m| src.helpers.helpers_analysis.patient_interaction_analysis | ../MostFrequentlyDisruptedInteractions/interactions_summary_tables\\COAD\\COAD_Q13485_SMAD4_2022-06-18.csv is exported successfully.\n",
      "2022-06-18 18:24:56 |\u001B[36m DEBUG    \u001B[0m| src.helpers.helpers_analysis.patient_interaction_analysis | interactors: ['P23443:RPS6KB1', 'O00238:BMPR1B']\n",
      "2022-06-18 18:24:56 |\u001B[36m DEBUG    \u001B[0m| src.helpers.helpers_analysis.patient_interaction_analysis | Exporting Counts Summary Table COAD P37173 TGFBR2..\n",
      "2022-06-18 18:24:56 |\u001B[32m INFO     \u001B[0m| src.helpers.helpers_analysis.patient_interaction_analysis | ../MostFrequentlyDisruptedInteractions/interactions_summary_tables\\COAD\\COAD_P37173_TGFBR2_2022-06-18.csv is exported successfully.\n",
      "2022-06-18 18:24:56 |\u001B[36m DEBUG    \u001B[0m| src.helpers.helpers_analysis.patient_interaction_analysis | interactors: ['P23258:TUBG1', 'P25963:NFKBIA', 'P19838:NFKB1', 'Q15653:NFKBIB']\n",
      "2022-06-18 18:24:56 |\u001B[36m DEBUG    \u001B[0m| src.helpers.helpers_analysis.patient_interaction_analysis | Exporting Counts Summary Table COAD Q13748 TUBA3C..\n",
      "2022-06-18 18:24:56 |\u001B[32m INFO     \u001B[0m| src.helpers.helpers_analysis.patient_interaction_analysis | ../MostFrequentlyDisruptedInteractions/interactions_summary_tables\\COAD\\COAD_Q13748_TUBA3C_2022-06-18.csv is exported successfully.\n",
      "2022-06-18 18:24:56 |\u001B[36m DEBUG    \u001B[0m| src.helpers.helpers_analysis.patient_interaction_analysis | interactors: ['O15105:SMAD7', 'P84022:SMAD3', 'Q99717:SMAD5', 'O15198:SMAD9', 'B7Z5N5:SMAD2', 'Q53XR6:SMAD2', 'O95405:ZFYVE9']\n",
      "2022-06-18 18:24:56 |\u001B[36m DEBUG    \u001B[0m| src.helpers.helpers_analysis.patient_interaction_analysis | Exporting Counts Summary Table COAD Q15796 SMAD2..\n",
      "2022-06-18 18:24:56 |\u001B[32m INFO     \u001B[0m| src.helpers.helpers_analysis.patient_interaction_analysis | ../MostFrequentlyDisruptedInteractions/interactions_summary_tables\\COAD\\COAD_Q15796_SMAD2_2022-06-18.csv is exported successfully.\n",
      "2022-06-18 18:24:56 |\u001B[36m DEBUG    \u001B[0m| src.helpers.helpers_analysis.patient_interaction_analysis | interactors: ['P45984:MAPK9', 'P52564:MAP2K6', 'P00533:EGFR', 'Q5S007:LRRK2', 'P35916:FLT4', 'Q99558:MAP3K14', 'Q16539:MAPK14', 'Q99759:MAP3K3', 'Q02750:MAP2K1']\n",
      "2022-06-18 18:24:56 |\u001B[36m DEBUG    \u001B[0m| src.helpers.helpers_analysis.patient_interaction_analysis | Exporting Counts Summary Table COAD P45985 MAP2K4..\n",
      "2022-06-18 18:24:56 |\u001B[32m INFO     \u001B[0m| src.helpers.helpers_analysis.patient_interaction_analysis | ../MostFrequentlyDisruptedInteractions/interactions_summary_tables\\COAD\\COAD_P45985_MAP2K4_2022-06-18.csv is exported successfully.\n",
      "2022-06-18 18:24:56 |\u001B[36m DEBUG    \u001B[0m| src.helpers.helpers_analysis.patient_interaction_analysis | interactors: ['O75083:WDR1', 'Q12788:TBL3', 'Q09028:RBBP4']\n",
      "2022-06-18 18:24:56 |\u001B[36m DEBUG    \u001B[0m| src.helpers.helpers_analysis.patient_interaction_analysis | Exporting Counts Summary Table COAD Q16576 RBBP7..\n",
      "2022-06-18 18:24:56 |\u001B[32m INFO     \u001B[0m| src.helpers.helpers_analysis.patient_interaction_analysis | ../MostFrequentlyDisruptedInteractions/interactions_summary_tables\\COAD\\COAD_Q16576_RBBP7_2022-06-18.csv is exported successfully.\n",
      "2022-06-18 18:24:56 |\u001B[36m DEBUG    \u001B[0m| src.helpers.helpers_analysis.patient_interaction_analysis | interactors: ['Q13233:MAP3K1', 'P42771:CDKN2A', 'Q16539:MAPK14', 'P17612:PRKACA', 'Q13153:PAK1']\n",
      "2022-06-18 18:24:56 |\u001B[36m DEBUG    \u001B[0m| src.helpers.helpers_analysis.patient_interaction_analysis | Exporting Counts Summary Table COAD Q9Y463 DYRK1B..\n",
      "2022-06-18 18:24:56 |\u001B[32m INFO     \u001B[0m| src.helpers.helpers_analysis.patient_interaction_analysis | ../MostFrequentlyDisruptedInteractions/interactions_summary_tables\\COAD\\COAD_Q9Y463_DYRK1B_2022-06-18.csv is exported successfully.\n",
      "2022-06-18 18:24:56 |\u001B[36m DEBUG    \u001B[0m| src.helpers.helpers_analysis.patient_interaction_analysis | interactors: ['O43353:RIPK2', 'P45985:MAP2K4', 'P52564:MAP2K6', 'O14733:MAP2K7', 'P46734:MAP2K3', 'A8K3Y2:MAP2K6', 'Q02750:MAP2K1']\n",
      "2022-06-18 18:24:56 |\u001B[36m DEBUG    \u001B[0m| src.helpers.helpers_analysis.patient_interaction_analysis | Exporting Counts Summary Table COAD Q9Y6R4 MAP3K4..\n",
      "2022-06-18 18:24:56 |\u001B[32m INFO     \u001B[0m| src.helpers.helpers_analysis.patient_interaction_analysis | ../MostFrequentlyDisruptedInteractions/interactions_summary_tables\\COAD\\COAD_Q9Y6R4_MAP3K4_2022-06-18.csv is exported successfully.\n",
      "2022-06-18 18:24:56 |\u001B[36m DEBUG    \u001B[0m| src.helpers.helpers_analysis.patient_interaction_analysis | interactors: ['P11215:ITGAM', 'P20702:ITGAX', 'H3BN02:ITGAX', 'P06756:ITGAV', 'Q13683:ITGA7', 'P20701:ITGAL']\n",
      "2022-06-18 18:24:56 |\u001B[36m DEBUG    \u001B[0m| src.helpers.helpers_analysis.patient_interaction_analysis | Exporting Counts Summary Table COAD P05107 ITGB2..\n",
      "2022-06-18 18:24:56 |\u001B[32m INFO     \u001B[0m| src.helpers.helpers_analysis.patient_interaction_analysis | ../MostFrequentlyDisruptedInteractions/interactions_summary_tables\\COAD\\COAD_P05107_ITGB2_2022-06-18.csv is exported successfully.\n",
      "2022-06-18 18:24:56 |\u001B[36m DEBUG    \u001B[0m| src.helpers.helpers_analysis.patient_interaction_analysis | interactors: ['P16234:PDGFRA', 'P06241:FYN', 'P15692:VEGFA', 'P04085:PDGFA', 'P49765:VEGFB', 'Q9UJM3:ERRFI1', 'P06239:LCK']\n",
      "2022-06-18 18:24:56 |\u001B[36m DEBUG    \u001B[0m| src.helpers.helpers_analysis.patient_interaction_analysis | Exporting Counts Summary Table COAD P09619 PDGFRB..\n",
      "2022-06-18 18:24:56 |\u001B[32m INFO     \u001B[0m| src.helpers.helpers_analysis.patient_interaction_analysis | ../MostFrequentlyDisruptedInteractions/interactions_summary_tables\\COAD\\COAD_P09619_PDGFRB_2022-06-18.csv is exported successfully.\n",
      "2022-06-18 18:24:56 |\u001B[36m DEBUG    \u001B[0m| src.helpers.helpers_analysis.patient_interaction_analysis | interactors: ['Q15418:RPS6KA1', 'P78396:CCNA1', 'P52272:HNRNPM']\n",
      "2022-06-18 18:24:56 |\u001B[36m DEBUG    \u001B[0m| src.helpers.helpers_analysis.patient_interaction_analysis | Exporting Counts Summary Table COAD P49674 CSNK1E..\n",
      "2022-06-18 18:24:56 |\u001B[32m INFO     \u001B[0m| src.helpers.helpers_analysis.patient_interaction_analysis | ../MostFrequentlyDisruptedInteractions/interactions_summary_tables\\COAD\\COAD_P49674_CSNK1E_2022-06-18.csv is exported successfully.\n",
      "2022-06-18 18:24:56 |\u001B[36m DEBUG    \u001B[0m| src.helpers.helpers_analysis.patient_interaction_analysis | interactors: ['A8K6K2:nan']\n",
      "2022-06-18 18:24:57 |\u001B[36m DEBUG    \u001B[0m| src.helpers.helpers_analysis.patient_interaction_analysis | Exporting Counts Summary Table COAD P49902 NT5C2..\n",
      "2022-06-18 18:24:57 |\u001B[32m INFO     \u001B[0m| src.helpers.helpers_analysis.patient_interaction_analysis | ../MostFrequentlyDisruptedInteractions/interactions_summary_tables\\COAD\\COAD_P49902_NT5C2_2022-06-18.csv is exported successfully.\n",
      "2022-06-18 18:24:57 |\u001B[36m DEBUG    \u001B[0m| src.helpers.helpers_analysis.patient_interaction_analysis | interactors: ['Q05195:MXD1', 'P22415:USF1', 'Q14582:MXD4', 'P01106:MYC', 'B9EGR5:MGA', 'Q8TAX8:MAX', 'Q9BW11:MXD3', 'Q8IWI9:MGA', 'P04198:MYCN', 'Q99583:MNT', 'P50539:MXI1', 'B7ZLI7:MXD1']\n",
      "2022-06-18 18:24:57 |\u001B[36m DEBUG    \u001B[0m| src.helpers.helpers_analysis.patient_interaction_analysis | Exporting Counts Summary Table COAD P61244 MAX..\n",
      "2022-06-18 18:24:57 |\u001B[32m INFO     \u001B[0m| src.helpers.helpers_analysis.patient_interaction_analysis | ../MostFrequentlyDisruptedInteractions/interactions_summary_tables\\COAD\\COAD_P61244_MAX_2022-06-18.csv is exported successfully.\n",
      "2022-06-18 18:24:57 |\u001B[36m DEBUG    \u001B[0m| src.helpers.helpers_analysis.patient_interaction_analysis | interactors: ['O43424:GRID2', 'Q13003:GRIK3', 'Q13002:GRIK2']\n",
      "2022-06-18 18:24:57 |\u001B[36m DEBUG    \u001B[0m| src.helpers.helpers_analysis.patient_interaction_analysis | Exporting Counts Summary Table COAD Q16478 GRIK5..\n",
      "2022-06-18 18:24:57 |\u001B[32m INFO     \u001B[0m| src.helpers.helpers_analysis.patient_interaction_analysis | ../MostFrequentlyDisruptedInteractions/interactions_summary_tables\\COAD\\COAD_Q16478_GRIK5_2022-06-18.csv is exported successfully.\n",
      "2022-06-18 18:24:57 |\u001B[36m DEBUG    \u001B[0m| src.helpers.helpers_analysis.patient_interaction_analysis | interactors: ['O14965:AURKA', 'P05771:PRKCB', 'P53350:PLK1']\n",
      "2022-06-18 18:24:57 |\u001B[36m DEBUG    \u001B[0m| src.helpers.helpers_analysis.patient_interaction_analysis | Exporting Counts Summary Table COAD Q16659 MAPK6..\n",
      "2022-06-18 18:24:57 |\u001B[32m INFO     \u001B[0m| src.helpers.helpers_analysis.patient_interaction_analysis | ../MostFrequentlyDisruptedInteractions/interactions_summary_tables\\COAD\\COAD_Q16659_MAPK6_2022-06-18.csv is exported successfully.\n",
      "2022-06-18 18:24:57 |\u001B[36m DEBUG    \u001B[0m| src.helpers.helpers_analysis.patient_interaction_analysis | interactors: ['O96017:CHEK2', 'P24941:CDK2', 'P01112:HRAS', 'Q86W92:PPFIBP1', 'O14757:CHEK1', 'Q9Y2I6:NINL', 'P00519:ABL1', 'O96013:PAK4']\n",
      "2022-06-18 18:24:57 |\u001B[36m DEBUG    \u001B[0m| src.helpers.helpers_analysis.patient_interaction_analysis | Exporting Counts Summary Table COAD Q9NRM7 LATS2..\n",
      "2022-06-18 18:24:57 |\u001B[32m INFO     \u001B[0m| src.helpers.helpers_analysis.patient_interaction_analysis | ../MostFrequentlyDisruptedInteractions/interactions_summary_tables\\COAD\\COAD_Q9NRM7_LATS2_2022-06-18.csv is exported successfully.\n"
     ]
    }
   ],
   "source": [
    "\n",
    "for coad_protein in coad_filtered_proteins:\n",
    "    coad_pia.export_counts_summary_table_protein(fr\"{INTERACTIONS_SUMMARY_TABLES_PATH}\\COAD\", coad_protein)"
   ],
   "metadata": {
    "collapsed": false,
    "pycharm": {
     "name": "#%%\n"
    }
   }
  },
  {
   "cell_type": "code",
   "execution_count": 50,
   "outputs": [
    {
     "name": "stdout",
     "output_type": "stream",
     "text": [
      "2022-06-18 18:24:57 |\u001B[36m DEBUG    \u001B[0m| src.helpers.helpers_analysis.patient_interaction_analysis | interactors: ['Q05195:MXD1', 'P22415:USF1', 'Q14582:MXD4', 'P01106:MYC', 'B9EGR5:MGA', 'Q8TAX8:MAX', 'Q9BW11:MXD3', 'Q8IWI9:MGA', 'P04198:MYCN', 'Q99583:MNT', 'P50539:MXI1', 'B7ZLI7:MXD1']\n"
     ]
    },
    {
     "data": {
      "text/plain": "    TCGA PROTEIN_A GENE_A PROTEIN_GENE_B  GENERAL_OCCURRENCE  \\\n0   COAD    P61244    MAX    Q05195:MXD1                   4   \n1   COAD    P61244    MAX    P22415:USF1                   3   \n2   COAD    P61244    MAX    Q14582:MXD4                   3   \n3   COAD    P61244    MAX     P01106:MYC                   3   \n4   COAD    P61244    MAX     B9EGR5:MGA                   3   \n5   COAD    P61244    MAX     Q8TAX8:MAX                   3   \n6   COAD    P61244    MAX    Q9BW11:MXD3                   1   \n7   COAD    P61244    MAX     Q8IWI9:MGA                   1   \n8   COAD    P61244    MAX    P04198:MYCN                   1   \n9   COAD    P61244    MAX     Q99583:MNT                   1   \n10  COAD    P61244    MAX    P50539:MXI1                   1   \n11  COAD    P61244    MAX    B7ZLI7:MXD1                   1   \n\n    #_PATIENTS_A_DISR_B                                  PATIENTS_A_DISR_B  \\\n0                     4  {TCGA-F4-6461, TCGA-CA-6717, TCGA-AD-6895, TCG...   \n1                     3         {TCGA-F4-6461, TCGA-CA-6717, TCGA-AZ-5407}   \n2                     3         {TCGA-F4-6461, TCGA-CA-6717, TCGA-AZ-5407}   \n3                     3         {TCGA-F4-6461, TCGA-CA-6717, TCGA-AZ-5407}   \n4                     3         {TCGA-F4-6461, TCGA-CA-6717, TCGA-AZ-5407}   \n5                     3         {TCGA-F4-6461, TCGA-CA-6717, TCGA-AZ-5407}   \n6                     1                                     {TCGA-CA-6717}   \n7                     1                                     {TCGA-CA-6717}   \n8                     1                                     {TCGA-CA-6717}   \n9                     1                                     {TCGA-CA-6717}   \n10                    1                                     {TCGA-CA-6717}   \n11                    1                                     {TCGA-CA-6717}   \n\n    #_PATIENTS_B_DISR_A PATIENTS_B_DISR_A  #_PATIENTS_INTERSECTION  \\\n0                     1    {TCGA-A6-5661}                        0   \n1                     0                {}                        0   \n2                     0                {}                        0   \n3                     0                {}                        0   \n4                     0                {}                        0   \n5                     0                {}                        0   \n6                     0                {}                        0   \n7                     0                {}                        0   \n8                     0                {}                        0   \n9                     0                {}                        0   \n10                    0                {}                        0   \n11                    0                {}                        0   \n\n   PATIENTS_INTERSECTION  \n0                     {}  \n1                     {}  \n2                     {}  \n3                     {}  \n4                     {}  \n5                     {}  \n6                     {}  \n7                     {}  \n8                     {}  \n9                     {}  \n10                    {}  \n11                    {}  ",
      "text/html": "<div>\n<style scoped>\n    .dataframe tbody tr th:only-of-type {\n        vertical-align: middle;\n    }\n\n    .dataframe tbody tr th {\n        vertical-align: top;\n    }\n\n    .dataframe thead th {\n        text-align: right;\n    }\n</style>\n<table border=\"1\" class=\"dataframe\">\n  <thead>\n    <tr style=\"text-align: right;\">\n      <th></th>\n      <th>TCGA</th>\n      <th>PROTEIN_A</th>\n      <th>GENE_A</th>\n      <th>PROTEIN_GENE_B</th>\n      <th>GENERAL_OCCURRENCE</th>\n      <th>#_PATIENTS_A_DISR_B</th>\n      <th>PATIENTS_A_DISR_B</th>\n      <th>#_PATIENTS_B_DISR_A</th>\n      <th>PATIENTS_B_DISR_A</th>\n      <th>#_PATIENTS_INTERSECTION</th>\n      <th>PATIENTS_INTERSECTION</th>\n    </tr>\n  </thead>\n  <tbody>\n    <tr>\n      <th>0</th>\n      <td>COAD</td>\n      <td>P61244</td>\n      <td>MAX</td>\n      <td>Q05195:MXD1</td>\n      <td>4</td>\n      <td>4</td>\n      <td>{TCGA-F4-6461, TCGA-CA-6717, TCGA-AD-6895, TCG...</td>\n      <td>1</td>\n      <td>{TCGA-A6-5661}</td>\n      <td>0</td>\n      <td>{}</td>\n    </tr>\n    <tr>\n      <th>1</th>\n      <td>COAD</td>\n      <td>P61244</td>\n      <td>MAX</td>\n      <td>P22415:USF1</td>\n      <td>3</td>\n      <td>3</td>\n      <td>{TCGA-F4-6461, TCGA-CA-6717, TCGA-AZ-5407}</td>\n      <td>0</td>\n      <td>{}</td>\n      <td>0</td>\n      <td>{}</td>\n    </tr>\n    <tr>\n      <th>2</th>\n      <td>COAD</td>\n      <td>P61244</td>\n      <td>MAX</td>\n      <td>Q14582:MXD4</td>\n      <td>3</td>\n      <td>3</td>\n      <td>{TCGA-F4-6461, TCGA-CA-6717, TCGA-AZ-5407}</td>\n      <td>0</td>\n      <td>{}</td>\n      <td>0</td>\n      <td>{}</td>\n    </tr>\n    <tr>\n      <th>3</th>\n      <td>COAD</td>\n      <td>P61244</td>\n      <td>MAX</td>\n      <td>P01106:MYC</td>\n      <td>3</td>\n      <td>3</td>\n      <td>{TCGA-F4-6461, TCGA-CA-6717, TCGA-AZ-5407}</td>\n      <td>0</td>\n      <td>{}</td>\n      <td>0</td>\n      <td>{}</td>\n    </tr>\n    <tr>\n      <th>4</th>\n      <td>COAD</td>\n      <td>P61244</td>\n      <td>MAX</td>\n      <td>B9EGR5:MGA</td>\n      <td>3</td>\n      <td>3</td>\n      <td>{TCGA-F4-6461, TCGA-CA-6717, TCGA-AZ-5407}</td>\n      <td>0</td>\n      <td>{}</td>\n      <td>0</td>\n      <td>{}</td>\n    </tr>\n    <tr>\n      <th>5</th>\n      <td>COAD</td>\n      <td>P61244</td>\n      <td>MAX</td>\n      <td>Q8TAX8:MAX</td>\n      <td>3</td>\n      <td>3</td>\n      <td>{TCGA-F4-6461, TCGA-CA-6717, TCGA-AZ-5407}</td>\n      <td>0</td>\n      <td>{}</td>\n      <td>0</td>\n      <td>{}</td>\n    </tr>\n    <tr>\n      <th>6</th>\n      <td>COAD</td>\n      <td>P61244</td>\n      <td>MAX</td>\n      <td>Q9BW11:MXD3</td>\n      <td>1</td>\n      <td>1</td>\n      <td>{TCGA-CA-6717}</td>\n      <td>0</td>\n      <td>{}</td>\n      <td>0</td>\n      <td>{}</td>\n    </tr>\n    <tr>\n      <th>7</th>\n      <td>COAD</td>\n      <td>P61244</td>\n      <td>MAX</td>\n      <td>Q8IWI9:MGA</td>\n      <td>1</td>\n      <td>1</td>\n      <td>{TCGA-CA-6717}</td>\n      <td>0</td>\n      <td>{}</td>\n      <td>0</td>\n      <td>{}</td>\n    </tr>\n    <tr>\n      <th>8</th>\n      <td>COAD</td>\n      <td>P61244</td>\n      <td>MAX</td>\n      <td>P04198:MYCN</td>\n      <td>1</td>\n      <td>1</td>\n      <td>{TCGA-CA-6717}</td>\n      <td>0</td>\n      <td>{}</td>\n      <td>0</td>\n      <td>{}</td>\n    </tr>\n    <tr>\n      <th>9</th>\n      <td>COAD</td>\n      <td>P61244</td>\n      <td>MAX</td>\n      <td>Q99583:MNT</td>\n      <td>1</td>\n      <td>1</td>\n      <td>{TCGA-CA-6717}</td>\n      <td>0</td>\n      <td>{}</td>\n      <td>0</td>\n      <td>{}</td>\n    </tr>\n    <tr>\n      <th>10</th>\n      <td>COAD</td>\n      <td>P61244</td>\n      <td>MAX</td>\n      <td>P50539:MXI1</td>\n      <td>1</td>\n      <td>1</td>\n      <td>{TCGA-CA-6717}</td>\n      <td>0</td>\n      <td>{}</td>\n      <td>0</td>\n      <td>{}</td>\n    </tr>\n    <tr>\n      <th>11</th>\n      <td>COAD</td>\n      <td>P61244</td>\n      <td>MAX</td>\n      <td>B7ZLI7:MXD1</td>\n      <td>1</td>\n      <td>1</td>\n      <td>{TCGA-CA-6717}</td>\n      <td>0</td>\n      <td>{}</td>\n      <td>0</td>\n      <td>{}</td>\n    </tr>\n  </tbody>\n</table>\n</div>"
     },
     "execution_count": 50,
     "metadata": {},
     "output_type": "execute_result"
    }
   ],
   "source": [
    "coad_pia.get_counts_summary_table_protein(\"P61244\")"
   ],
   "metadata": {
    "collapsed": false,
    "pycharm": {
     "name": "#%%\n"
    }
   }
  },
  {
   "cell_type": "code",
   "execution_count": 50,
   "outputs": [],
   "source": [],
   "metadata": {
    "collapsed": false,
    "pycharm": {
     "name": "#%%\n"
    }
   }
  },
  {
   "cell_type": "code",
   "execution_count": 50,
   "outputs": [],
   "source": [],
   "metadata": {
    "collapsed": false,
    "pycharm": {
     "name": "#%%\n"
    }
   }
  },
  {
   "cell_type": "code",
   "execution_count": null,
   "outputs": [],
   "source": [],
   "metadata": {
    "collapsed": false,
    "pycharm": {
     "name": "#%%\n"
    }
   }
  },
  {
   "cell_type": "code",
   "execution_count": 51,
   "outputs": [],
   "source": [
    "# MAX - P61244"
   ],
   "metadata": {
    "collapsed": false,
    "pycharm": {
     "name": "#%%\n"
    }
   }
  },
  {
   "cell_type": "code",
   "execution_count": 52,
   "outputs": [
    {
     "data": {
      "text/plain": "['P61244', 'Q8TAX8']"
     },
     "execution_count": 52,
     "metadata": {},
     "output_type": "execute_result"
    }
   ],
   "source": [
    "ProteinIDFetcher(UNIPROT_GENE_MAPPING_PATH).fetch(\"MAX\")"
   ],
   "metadata": {
    "collapsed": false,
    "pycharm": {
     "name": "#%%\n"
    }
   }
  },
  {
   "cell_type": "code",
   "execution_count": 53,
   "outputs": [],
   "source": [
    "# Q8IWI9:MGA\n",
    "# B9EGR5:MGA"
   ],
   "metadata": {
    "collapsed": false,
    "pycharm": {
     "name": "#%%\n"
    }
   }
  },
  {
   "cell_type": "code",
   "execution_count": 56,
   "outputs": [
    {
     "data": {
      "text/plain": "   PROTEIN_GENE_B  GENERAL_OCCURRENCE\n0     Q05195:MXD1                   4\n1     P22415:USF1                   3\n2     Q14582:MXD4                   3\n3      P01106:MYC                   3\n4      B9EGR5:MGA                   3\n5      Q8TAX8:MAX                   3\n6     Q9BW11:MXD3                   1\n7      Q8IWI9:MGA                   1\n8     P04198:MYCN                   1\n9      Q99583:MNT                   1\n10    P50539:MXI1                   1\n11    B7ZLI7:MXD1                   1",
      "text/html": "<div>\n<style scoped>\n    .dataframe tbody tr th:only-of-type {\n        vertical-align: middle;\n    }\n\n    .dataframe tbody tr th {\n        vertical-align: top;\n    }\n\n    .dataframe thead th {\n        text-align: right;\n    }\n</style>\n<table border=\"1\" class=\"dataframe\">\n  <thead>\n    <tr style=\"text-align: right;\">\n      <th></th>\n      <th>PROTEIN_GENE_B</th>\n      <th>GENERAL_OCCURRENCE</th>\n    </tr>\n  </thead>\n  <tbody>\n    <tr>\n      <th>0</th>\n      <td>Q05195:MXD1</td>\n      <td>4</td>\n    </tr>\n    <tr>\n      <th>1</th>\n      <td>P22415:USF1</td>\n      <td>3</td>\n    </tr>\n    <tr>\n      <th>2</th>\n      <td>Q14582:MXD4</td>\n      <td>3</td>\n    </tr>\n    <tr>\n      <th>3</th>\n      <td>P01106:MYC</td>\n      <td>3</td>\n    </tr>\n    <tr>\n      <th>4</th>\n      <td>B9EGR5:MGA</td>\n      <td>3</td>\n    </tr>\n    <tr>\n      <th>5</th>\n      <td>Q8TAX8:MAX</td>\n      <td>3</td>\n    </tr>\n    <tr>\n      <th>6</th>\n      <td>Q9BW11:MXD3</td>\n      <td>1</td>\n    </tr>\n    <tr>\n      <th>7</th>\n      <td>Q8IWI9:MGA</td>\n      <td>1</td>\n    </tr>\n    <tr>\n      <th>8</th>\n      <td>P04198:MYCN</td>\n      <td>1</td>\n    </tr>\n    <tr>\n      <th>9</th>\n      <td>Q99583:MNT</td>\n      <td>1</td>\n    </tr>\n    <tr>\n      <th>10</th>\n      <td>P50539:MXI1</td>\n      <td>1</td>\n    </tr>\n    <tr>\n      <th>11</th>\n      <td>B7ZLI7:MXD1</td>\n      <td>1</td>\n    </tr>\n  </tbody>\n</table>\n</div>"
     },
     "execution_count": 56,
     "metadata": {},
     "output_type": "execute_result"
    }
   ],
   "source": [
    "pd.DataFrame(\n",
    "    coad_pia.get_disrupted_interactors(\n",
    "        \"P61244\", identifier_type=\"protein\", return_counter=True, most_common=True\n",
    "    ), columns=[\"PROTEIN_GENE_B\", \"GENERAL_OCCURRENCE\"]\n",
    ")"
   ],
   "metadata": {
    "collapsed": false,
    "pycharm": {
     "name": "#%%\n"
    }
   }
  },
  {
   "cell_type": "code",
   "execution_count": 56,
   "outputs": [],
   "source": [],
   "metadata": {
    "collapsed": false,
    "pycharm": {
     "name": "#%%\n"
    }
   }
  },
  {
   "cell_type": "code",
   "execution_count": 57,
   "outputs": [
    {
     "data": {
      "text/plain": "   PROTEIN_GENE_B  GENERAL_OCCURRENCE\n0     Q05195:MXD1                   4\n1     P22415:USF1                   3\n2     Q14582:MXD4                   3\n3      P01106:MYC                   3\n4      B9EGR5:MGA                   3\n5      Q8TAX8:MAX                   3\n6     Q9BW11:MXD3                   1\n7      Q8IWI9:MGA                   1\n8     P04198:MYCN                   1\n9      Q99583:MNT                   1\n10    P50539:MXI1                   1\n11    B7ZLI7:MXD1                   1",
      "text/html": "<div>\n<style scoped>\n    .dataframe tbody tr th:only-of-type {\n        vertical-align: middle;\n    }\n\n    .dataframe tbody tr th {\n        vertical-align: top;\n    }\n\n    .dataframe thead th {\n        text-align: right;\n    }\n</style>\n<table border=\"1\" class=\"dataframe\">\n  <thead>\n    <tr style=\"text-align: right;\">\n      <th></th>\n      <th>PROTEIN_GENE_B</th>\n      <th>GENERAL_OCCURRENCE</th>\n    </tr>\n  </thead>\n  <tbody>\n    <tr>\n      <th>0</th>\n      <td>Q05195:MXD1</td>\n      <td>4</td>\n    </tr>\n    <tr>\n      <th>1</th>\n      <td>P22415:USF1</td>\n      <td>3</td>\n    </tr>\n    <tr>\n      <th>2</th>\n      <td>Q14582:MXD4</td>\n      <td>3</td>\n    </tr>\n    <tr>\n      <th>3</th>\n      <td>P01106:MYC</td>\n      <td>3</td>\n    </tr>\n    <tr>\n      <th>4</th>\n      <td>B9EGR5:MGA</td>\n      <td>3</td>\n    </tr>\n    <tr>\n      <th>5</th>\n      <td>Q8TAX8:MAX</td>\n      <td>3</td>\n    </tr>\n    <tr>\n      <th>6</th>\n      <td>Q9BW11:MXD3</td>\n      <td>1</td>\n    </tr>\n    <tr>\n      <th>7</th>\n      <td>Q8IWI9:MGA</td>\n      <td>1</td>\n    </tr>\n    <tr>\n      <th>8</th>\n      <td>P04198:MYCN</td>\n      <td>1</td>\n    </tr>\n    <tr>\n      <th>9</th>\n      <td>Q99583:MNT</td>\n      <td>1</td>\n    </tr>\n    <tr>\n      <th>10</th>\n      <td>P50539:MXI1</td>\n      <td>1</td>\n    </tr>\n    <tr>\n      <th>11</th>\n      <td>B7ZLI7:MXD1</td>\n      <td>1</td>\n    </tr>\n  </tbody>\n</table>\n</div>"
     },
     "execution_count": 57,
     "metadata": {},
     "output_type": "execute_result"
    }
   ],
   "source": [
    "pd.DataFrame(\n",
    "    coad_pia.get_disrupted_interactors(\n",
    "        \"MAX\", identifier_type=\"gene\", return_counter=True, most_common=True\n",
    "    ), columns=[\"PROTEIN_GENE_B\", \"GENERAL_OCCURRENCE\"]\n",
    ")"
   ],
   "metadata": {
    "collapsed": false,
    "pycharm": {
     "name": "#%%\n"
    }
   }
  },
  {
   "cell_type": "code",
   "execution_count": 58,
   "outputs": [
    {
     "data": {
      "text/plain": "   PROTEIN_GENE_B  GENERAL_OCCURRENCE\n0     Q05195:MXD1                   4\n1     P22415:USF1                   3\n2     Q14582:MXD4                   3\n3      P01106:MYC                   3\n4      B9EGR5:MGA                   3\n5      Q8TAX8:MAX                   3\n6     Q9BW11:MXD3                   1\n7      Q8IWI9:MGA                   1\n8     P04198:MYCN                   1\n9      Q99583:MNT                   1\n10    P50539:MXI1                   1\n11    B7ZLI7:MXD1                   1",
      "text/html": "<div>\n<style scoped>\n    .dataframe tbody tr th:only-of-type {\n        vertical-align: middle;\n    }\n\n    .dataframe tbody tr th {\n        vertical-align: top;\n    }\n\n    .dataframe thead th {\n        text-align: right;\n    }\n</style>\n<table border=\"1\" class=\"dataframe\">\n  <thead>\n    <tr style=\"text-align: right;\">\n      <th></th>\n      <th>PROTEIN_GENE_B</th>\n      <th>GENERAL_OCCURRENCE</th>\n    </tr>\n  </thead>\n  <tbody>\n    <tr>\n      <th>0</th>\n      <td>Q05195:MXD1</td>\n      <td>4</td>\n    </tr>\n    <tr>\n      <th>1</th>\n      <td>P22415:USF1</td>\n      <td>3</td>\n    </tr>\n    <tr>\n      <th>2</th>\n      <td>Q14582:MXD4</td>\n      <td>3</td>\n    </tr>\n    <tr>\n      <th>3</th>\n      <td>P01106:MYC</td>\n      <td>3</td>\n    </tr>\n    <tr>\n      <th>4</th>\n      <td>B9EGR5:MGA</td>\n      <td>3</td>\n    </tr>\n    <tr>\n      <th>5</th>\n      <td>Q8TAX8:MAX</td>\n      <td>3</td>\n    </tr>\n    <tr>\n      <th>6</th>\n      <td>Q9BW11:MXD3</td>\n      <td>1</td>\n    </tr>\n    <tr>\n      <th>7</th>\n      <td>Q8IWI9:MGA</td>\n      <td>1</td>\n    </tr>\n    <tr>\n      <th>8</th>\n      <td>P04198:MYCN</td>\n      <td>1</td>\n    </tr>\n    <tr>\n      <th>9</th>\n      <td>Q99583:MNT</td>\n      <td>1</td>\n    </tr>\n    <tr>\n      <th>10</th>\n      <td>P50539:MXI1</td>\n      <td>1</td>\n    </tr>\n    <tr>\n      <th>11</th>\n      <td>B7ZLI7:MXD1</td>\n      <td>1</td>\n    </tr>\n  </tbody>\n</table>\n</div>"
     },
     "execution_count": 58,
     "metadata": {},
     "output_type": "execute_result"
    }
   ],
   "source": [
    "pd.DataFrame(\n",
    "    coad_pia.get_disrupted_interactors(\n",
    "        \"MAX\", identifier_type=\"gene\", return_counter=True, most_common=True\n",
    "    ), columns=[\"PROTEIN_GENE_B\", \"GENERAL_OCCURRENCE\"]\n",
    ")"
   ],
   "metadata": {
    "collapsed": false,
    "pycharm": {
     "name": "#%%\n"
    }
   }
  },
  {
   "cell_type": "code",
   "execution_count": 59,
   "outputs": [
    {
     "data": {
      "text/plain": "              0  1\n0   Q05195:MXD1  4\n1   P22415:USF1  3\n2   Q14582:MXD4  3\n3    P01106:MYC  3\n4    B9EGR5:MGA  3\n5    Q8TAX8:MAX  3\n6   Q9BW11:MXD3  1\n7    Q8IWI9:MGA  1\n8   P04198:MYCN  1\n9    Q99583:MNT  1\n10  P50539:MXI1  1\n11  B7ZLI7:MXD1  1",
      "text/html": "<div>\n<style scoped>\n    .dataframe tbody tr th:only-of-type {\n        vertical-align: middle;\n    }\n\n    .dataframe tbody tr th {\n        vertical-align: top;\n    }\n\n    .dataframe thead th {\n        text-align: right;\n    }\n</style>\n<table border=\"1\" class=\"dataframe\">\n  <thead>\n    <tr style=\"text-align: right;\">\n      <th></th>\n      <th>0</th>\n      <th>1</th>\n    </tr>\n  </thead>\n  <tbody>\n    <tr>\n      <th>0</th>\n      <td>Q05195:MXD1</td>\n      <td>4</td>\n    </tr>\n    <tr>\n      <th>1</th>\n      <td>P22415:USF1</td>\n      <td>3</td>\n    </tr>\n    <tr>\n      <th>2</th>\n      <td>Q14582:MXD4</td>\n      <td>3</td>\n    </tr>\n    <tr>\n      <th>3</th>\n      <td>P01106:MYC</td>\n      <td>3</td>\n    </tr>\n    <tr>\n      <th>4</th>\n      <td>B9EGR5:MGA</td>\n      <td>3</td>\n    </tr>\n    <tr>\n      <th>5</th>\n      <td>Q8TAX8:MAX</td>\n      <td>3</td>\n    </tr>\n    <tr>\n      <th>6</th>\n      <td>Q9BW11:MXD3</td>\n      <td>1</td>\n    </tr>\n    <tr>\n      <th>7</th>\n      <td>Q8IWI9:MGA</td>\n      <td>1</td>\n    </tr>\n    <tr>\n      <th>8</th>\n      <td>P04198:MYCN</td>\n      <td>1</td>\n    </tr>\n    <tr>\n      <th>9</th>\n      <td>Q99583:MNT</td>\n      <td>1</td>\n    </tr>\n    <tr>\n      <th>10</th>\n      <td>P50539:MXI1</td>\n      <td>1</td>\n    </tr>\n    <tr>\n      <th>11</th>\n      <td>B7ZLI7:MXD1</td>\n      <td>1</td>\n    </tr>\n  </tbody>\n</table>\n</div>"
     },
     "execution_count": 59,
     "metadata": {},
     "output_type": "execute_result"
    }
   ],
   "source": [
    "pd.DataFrame(\n",
    "    coad_pia.get_disrupted_interactors(\n",
    "        \"P61244\", identifier_type=\"protein\", return_counter=True, most_common=True\n",
    "    )\n",
    ")"
   ],
   "metadata": {
    "collapsed": false,
    "pycharm": {
     "name": "#%%\n"
    }
   }
  },
  {
   "cell_type": "code",
   "execution_count": null,
   "outputs": [],
   "source": [],
   "metadata": {
    "collapsed": false,
    "pycharm": {
     "name": "#%%\n"
    }
   }
  },
  {
   "cell_type": "markdown",
   "source": [
    "## OV"
   ],
   "metadata": {
    "collapsed": false,
    "pycharm": {
     "name": "#%% md\n"
    }
   }
  },
  {
   "cell_type": "code",
   "execution_count": 60,
   "outputs": [
    {
     "data": {
      "text/plain": "  0%|          | 0/3 [00:00<?, ?it/s]",
      "application/vnd.jupyter.widget-view+json": {
       "version_major": 2,
       "version_minor": 0,
       "model_id": "b4d1a0afc75645fb82965573c527175e"
      }
     },
     "metadata": {},
     "output_type": "display_data"
    },
    {
     "name": "stdout",
     "output_type": "stream",
     "text": [
      "2022-06-18 18:29:17 |\u001B[36m DEBUG    \u001B[0m| src.helpers.helpers_analysis.patient_interaction_analysis | interactors: ['Q13625:TP53BP2', 'Q96KQ4:PPP1R13B', 'Q06187:BTK', 'P62993:GRB2', 'Q8WUF5:PPP1R13L', 'P07948:LYN', 'Q9H3D4:TP63', 'H2EHT1:TP53', 'K7PPA8:TP53', 'O15350:TP73', 'Q96KQ7:EHMT2', 'O75832:PSMD10', 'Q9H9B1:EHMT1', 'Q99728:BARD1', 'Q9ULT8:HECTD1', 'Q99466:NOTCH4', 'Q53GA5:nan', 'Q9GZV1:ANKRD2', 'P25963:NFKBIA']\n",
      "2022-06-18 18:29:17 |\u001B[33m WARNING  \u001B[0m| src.helpers.helpers_analysis.patient_interaction_analysis | There is a difference between counts.PROTEIN: P04637 INTERACTOR(S): Q13625:TP53BP2, Q96KQ4:PPP1R13B, Q06187:BTK\n",
      "2022-06-18 18:29:17 |\u001B[36m DEBUG    \u001B[0m| src.helpers.helpers_analysis.patient_interaction_analysis | Exporting Counts Summary Table OV P04637 TP53..\n",
      "2022-06-18 18:29:17 |\u001B[32m INFO     \u001B[0m| src.helpers.helpers_analysis.patient_interaction_analysis | ../MostFrequentlyDisruptedInteractions/interactions_summary_tables\\OV\\OV_P04637_TP53_2022-06-18.csv is exported successfully.\n",
      "2022-06-18 18:29:17 |\u001B[36m DEBUG    \u001B[0m| src.helpers.helpers_analysis.patient_interaction_analysis | interactors: ['P84243:H3-3A', 'P49450:CENPA', 'P68431:H3C1', 'P04908:H2AC4', 'Q16695:H3-4', 'Q71DI3:H3C15', 'P0C0S5:H2AZ1', 'Q16777:H2AC20', 'Q53F85:nan', 'Q9UER7:DAXX', 'B4E1C1:nan', 'Q8NCD3:HJURP', 'Q16514:TAF12', 'P06899:H2BC11', 'Q16778:H2BC21', 'P16104:H2AX', 'Q9Y294:ASF1A', 'Q9NVP2:ASF1B']\n",
      "2022-06-18 18:29:17 |\u001B[36m DEBUG    \u001B[0m| src.helpers.helpers_analysis.patient_interaction_analysis | Exporting Counts Summary Table OV P62805 H4C1..\n",
      "2022-06-18 18:29:17 |\u001B[32m INFO     \u001B[0m| src.helpers.helpers_analysis.patient_interaction_analysis | ../MostFrequentlyDisruptedInteractions/interactions_summary_tables\\OV\\OV_P62805_H4C1_2022-06-18.csv is exported successfully.\n",
      "2022-06-18 18:29:17 |\u001B[36m DEBUG    \u001B[0m| src.helpers.helpers_analysis.patient_interaction_analysis | interactors: ['Q96J84:KIRREL1', 'P53350:PLK1', 'O14974:PPP1R12A', 'P06493:CDK1']\n",
      "2022-06-18 18:29:17 |\u001B[36m DEBUG    \u001B[0m| src.helpers.helpers_analysis.patient_interaction_analysis | Exporting Counts Summary Table OV O95835 LATS1..\n",
      "2022-06-18 18:29:17 |\u001B[32m INFO     \u001B[0m| src.helpers.helpers_analysis.patient_interaction_analysis | ../MostFrequentlyDisruptedInteractions/interactions_summary_tables\\OV\\OV_O95835_LATS1_2022-06-18.csv is exported successfully.\n"
     ]
    }
   ],
   "source": [
    "\n",
    "for ov_protein in tqdm(ov_filtered_proteins):\n",
    "    ov_pia.export_counts_summary_table_protein(fr\"{INTERACTIONS_SUMMARY_TABLES_PATH}\\OV\", ov_protein)"
   ],
   "metadata": {
    "collapsed": false,
    "pycharm": {
     "name": "#%%\n"
    }
   }
  },
  {
   "cell_type": "code",
   "execution_count": 61,
   "outputs": [
    {
     "data": {
      "text/plain": "[('Q13625:TP53BP2', 61),\n ('Q96KQ4:PPP1R13B', 61),\n ('Q06187:BTK', 51),\n ('P62993:GRB2', 46),\n ('Q8WUF5:PPP1R13L', 40),\n ('P07948:LYN', 33),\n ('Q9H3D4:TP63', 31),\n ('H2EHT1:TP53', 27),\n ('K7PPA8:TP53', 27),\n ('O15350:TP73', 21),\n ('Q96KQ7:EHMT2', 17),\n ('O75832:PSMD10', 8),\n ('Q9H9B1:EHMT1', 6),\n ('Q99728:BARD1', 6),\n ('Q9ULT8:HECTD1', 6),\n ('Q99466:NOTCH4', 3),\n ('Q53GA5:nan', 3),\n ('Q9GZV1:ANKRD2', 1),\n ('P25963:NFKBIA', 1)]"
     },
     "execution_count": 61,
     "metadata": {},
     "output_type": "execute_result"
    }
   ],
   "source": [
    "ov_pia.get_disrupted_interactors(\n",
    "    \"TP53\", identifier_type=\"gene\", return_counter=True, most_common=True\n",
    ")"
   ],
   "metadata": {
    "collapsed": false,
    "pycharm": {
     "name": "#%%\n"
    }
   }
  },
  {
   "cell_type": "code",
   "execution_count": 61,
   "outputs": [],
   "source": [],
   "metadata": {
    "collapsed": false,
    "pycharm": {
     "name": "#%%\n"
    }
   }
  },
  {
   "cell_type": "code",
   "execution_count": 62,
   "outputs": [],
   "source": [
    "# ovarian için LATS1 proteininde de aynı şekilde bakabilir misin en çok bozulan inteactionlara?"
   ],
   "metadata": {
    "collapsed": false,
    "pycharm": {
     "name": "#%%\n"
    }
   }
  },
  {
   "cell_type": "code",
   "execution_count": 63,
   "outputs": [
    {
     "data": {
      "text/plain": "[('Q96J84:KIRREL1', 1),\n ('P53350:PLK1', 1),\n ('O14974:PPP1R12A', 1),\n ('P06493:CDK1', 1)]"
     },
     "execution_count": 63,
     "metadata": {},
     "output_type": "execute_result"
    }
   ],
   "source": [
    "ov_pia.get_disrupted_interactors(\n",
    "    \"LATS1\", identifier_type=\"gene\", return_counter=True, most_common=True\n",
    ")"
   ],
   "metadata": {
    "collapsed": false,
    "pycharm": {
     "name": "#%%\n"
    }
   }
  },
  {
   "cell_type": "code",
   "execution_count": 63,
   "outputs": [],
   "source": [],
   "metadata": {
    "collapsed": false,
    "pycharm": {
     "name": "#%%\n"
    }
   }
  },
  {
   "cell_type": "code",
   "execution_count": 63,
   "outputs": [],
   "source": [],
   "metadata": {
    "collapsed": false,
    "pycharm": {
     "name": "#%%\n"
    }
   }
  },
  {
   "cell_type": "markdown",
   "source": [
    "## HNSC"
   ],
   "metadata": {
    "collapsed": false,
    "pycharm": {
     "name": "#%% md\n"
    }
   }
  },
  {
   "cell_type": "code",
   "execution_count": 64,
   "outputs": [
    {
     "data": {
      "text/plain": "  0%|          | 0/16 [00:00<?, ?it/s]",
      "application/vnd.jupyter.widget-view+json": {
       "version_major": 2,
       "version_minor": 0,
       "model_id": "4be33e2a46a74380943609c12fdceab6"
      }
     },
     "metadata": {},
     "output_type": "display_data"
    },
    {
     "name": "stdout",
     "output_type": "stream",
     "text": [
      "2022-06-18 18:29:56 |\u001B[36m DEBUG    \u001B[0m| src.helpers.helpers_analysis.patient_interaction_analysis | interactors: ['Q07889:SOS1', 'Q07890:SOS2', 'G5E9C8:SOS1', 'Q13972:RASGRF1', 'Q9UJ41:RABGEF1', 'Q13671:RIN1', 'Q15811:ITSN1', 'Q8IV61:RASGRP3', 'Q9NZL6:RGL1', 'P15498:VAV1', 'Q13905:RAPGEF1', 'Q13009:TIAM1', 'Q9P212:PLCE1', 'P10398:ARAF', 'P08069:IGF1R', 'P06239:LCK']\n",
      "2022-06-18 18:29:56 |\u001B[33m WARNING  \u001B[0m| src.helpers.helpers_analysis.patient_interaction_analysis | There is a difference between counts.PROTEIN: P01112 INTERACTOR(S): Q9UJ41:RABGEF1, Q15811:ITSN1, Q8IV61:RASGRP3\n",
      "2022-06-18 18:29:56 |\u001B[36m DEBUG    \u001B[0m| src.helpers.helpers_analysis.patient_interaction_analysis | Exporting Counts Summary Table HNSC P01112 HRAS..\n",
      "2022-06-18 18:29:56 |\u001B[32m INFO     \u001B[0m| src.helpers.helpers_analysis.patient_interaction_analysis | ../MostFrequentlyDisruptedInteractions/interactions_summary_tables\\HNSC\\HNSC_P01112_HRAS_2022-06-18.csv is exported successfully.\n",
      "2022-06-18 18:29:56 |\u001B[36m DEBUG    \u001B[0m| src.helpers.helpers_analysis.patient_interaction_analysis | interactors: ['Q17R89:ARHGAP44', 'Q8NF50:DOCK8', 'Q13972:RASGRF1', 'Q14185:DOCK1', 'Q92608:DOCK2', 'Q15286:RAB35', 'O14559:ARHGAP33']\n",
      "2022-06-18 18:29:56 |\u001B[36m DEBUG    \u001B[0m| src.helpers.helpers_analysis.patient_interaction_analysis | Exporting Counts Summary Table HNSC P63000 RAC1..\n",
      "2022-06-18 18:29:56 |\u001B[32m INFO     \u001B[0m| src.helpers.helpers_analysis.patient_interaction_analysis | ../MostFrequentlyDisruptedInteractions/interactions_summary_tables\\HNSC\\HNSC_P63000_RAC1_2022-06-18.csv is exported successfully.\n",
      "2022-06-18 18:29:56 |\u001B[36m DEBUG    \u001B[0m| src.helpers.helpers_analysis.patient_interaction_analysis | interactors: ['O43157:PLXNB1', 'O60610:DIAPH1', 'Q86VW2:ARHGEF25', 'Q16513:PKN2', 'O14578:CIT', 'O75962:TRIO', 'P17612:PRKACA', 'Q9Y4D1:DAAM1', 'Q9NSV4:DIAPH3', 'P52565:ARHGDIA', 'P52566:ARHGDIB', 'Q99819:ARHGDIG', 'O15068:MCF2L', 'Q7Z628:NET1', 'Q5S007:LRRK2', 'Q07960:ARHGAP1', 'Q96N67:DOCK7', 'Q16512:PKN1']\n",
      "2022-06-18 18:29:57 |\u001B[36m DEBUG    \u001B[0m| src.helpers.helpers_analysis.patient_interaction_analysis | Exporting Counts Summary Table HNSC P61586 RHOA..\n",
      "2022-06-18 18:29:57 |\u001B[32m INFO     \u001B[0m| src.helpers.helpers_analysis.patient_interaction_analysis | ../MostFrequentlyDisruptedInteractions/interactions_summary_tables\\HNSC\\HNSC_P61586_RHOA_2022-06-18.csv is exported successfully.\n",
      "2022-06-18 18:29:57 |\u001B[36m DEBUG    \u001B[0m| src.helpers.helpers_analysis.patient_interaction_analysis | interactors: ['Q13177:PAK2', 'P17252:PRKCA', 'P53667:LIMK1', 'P36507:MAP2K2', 'A4QPA9:MAP2K1']\n",
      "2022-06-18 18:29:57 |\u001B[36m DEBUG    \u001B[0m| src.helpers.helpers_analysis.patient_interaction_analysis | Exporting Counts Summary Table HNSC P15056 BRAF..\n",
      "2022-06-18 18:29:57 |\u001B[32m INFO     \u001B[0m| src.helpers.helpers_analysis.patient_interaction_analysis | ../MostFrequentlyDisruptedInteractions/interactions_summary_tables\\HNSC\\HNSC_P15056_BRAF_2022-06-18.csv is exported successfully.\n",
      "2022-06-18 18:29:57 |\u001B[36m DEBUG    \u001B[0m| src.helpers.helpers_analysis.patient_interaction_analysis | interactors: ['Q96KQ7:EHMT2', 'P42772:CDKN2B', 'Q13136:PPFIA1']\n",
      "2022-06-18 18:29:57 |\u001B[36m DEBUG    \u001B[0m| src.helpers.helpers_analysis.patient_interaction_analysis | Exporting Counts Summary Table HNSC P49336 CDK8..\n",
      "2022-06-18 18:29:57 |\u001B[32m INFO     \u001B[0m| src.helpers.helpers_analysis.patient_interaction_analysis | ../MostFrequentlyDisruptedInteractions/interactions_summary_tables\\HNSC\\HNSC_P49336_CDK8_2022-06-18.csv is exported successfully.\n",
      "2022-06-18 18:29:57 |\u001B[36m DEBUG    \u001B[0m| src.helpers.helpers_analysis.patient_interaction_analysis | interactors: ['P55210:CASP7', 'B4DWA2:nan', 'P19838:NFKB1', 'Q13418:ILK', 'P55211:CASP9']\n",
      "2022-06-18 18:29:57 |\u001B[36m DEBUG    \u001B[0m| src.helpers.helpers_analysis.patient_interaction_analysis | Exporting Counts Summary Table HNSC Q14790 CASP8..\n",
      "2022-06-18 18:29:57 |\u001B[32m INFO     \u001B[0m| src.helpers.helpers_analysis.patient_interaction_analysis | ../MostFrequentlyDisruptedInteractions/interactions_summary_tables\\HNSC\\HNSC_Q14790_CASP8_2022-06-18.csv is exported successfully.\n",
      "2022-06-18 18:29:57 |\u001B[36m DEBUG    \u001B[0m| src.helpers.helpers_analysis.patient_interaction_analysis | interactors: ['Q96KQ4:PPP1R13B', 'Q13625:TP53BP2', 'Q06187:BTK', 'P62993:GRB2', 'Q8WUF5:PPP1R13L', 'Q9H3D4:TP63', 'P07948:LYN', 'H2EHT1:TP53', 'K7PPA8:TP53', 'Q96KQ7:EHMT2', 'O15350:TP73', 'Q9H9B1:EHMT1', 'Q99728:BARD1', 'O75832:PSMD10', 'Q9ULT8:HECTD1', 'Q99466:NOTCH4']\n",
      "2022-06-18 18:29:57 |\u001B[36m DEBUG    \u001B[0m| src.helpers.helpers_analysis.patient_interaction_analysis | Exporting Counts Summary Table HNSC P04637 TP53..\n",
      "2022-06-18 18:29:57 |\u001B[32m INFO     \u001B[0m| src.helpers.helpers_analysis.patient_interaction_analysis | ../MostFrequentlyDisruptedInteractions/interactions_summary_tables\\HNSC\\HNSC_P04637_TP53_2022-06-18.csv is exported successfully.\n",
      "2022-06-18 18:29:57 |\u001B[36m DEBUG    \u001B[0m| src.helpers.helpers_analysis.patient_interaction_analysis | interactors: ['P27986:PIK3R1', 'O00459:PIK3R2', 'P43403:ZAP70']\n",
      "2022-06-18 18:29:57 |\u001B[36m DEBUG    \u001B[0m| src.helpers.helpers_analysis.patient_interaction_analysis | Exporting Counts Summary Table HNSC P42336 PIK3CA..\n",
      "2022-06-18 18:29:57 |\u001B[32m INFO     \u001B[0m| src.helpers.helpers_analysis.patient_interaction_analysis | ../MostFrequentlyDisruptedInteractions/interactions_summary_tables\\HNSC\\HNSC_P42336_PIK3CA_2022-06-18.csv is exported successfully.\n",
      "2022-06-18 18:29:57 |\u001B[36m DEBUG    \u001B[0m| src.helpers.helpers_analysis.patient_interaction_analysis | interactors: ['P11802:CDK4', 'P29320:EPHA3', 'O14920:IKBKB', 'P17252:PRKCA', 'P45983:MAPK8', 'P49760:CLK2', 'A4D1G0:CDK6', 'Q9UQ88:CDK11A', 'Q00534:CDK6', 'A1L4K2:MAPK8', 'B2R6V2:nan', 'O14965:AURKA', 'P53779:MAPK10', 'O00311:CDC7', 'Q8NE63:HIPK4', 'Q14164:IKBKE', 'A8MWW6:nan', 'Q9Y463:DYRK1B', 'P07437:TUBB', 'Q499Y8:MAPK10', 'Q71U36:TUBA1A', 'Q9BQE3:TUBA1C', 'P68371:TUBB4B']\n",
      "2022-06-18 18:29:57 |\u001B[36m DEBUG    \u001B[0m| src.helpers.helpers_analysis.patient_interaction_analysis | Exporting Counts Summary Table HNSC P42771 CDKN2A..\n",
      "2022-06-18 18:29:57 |\u001B[32m INFO     \u001B[0m| src.helpers.helpers_analysis.patient_interaction_analysis | ../MostFrequentlyDisruptedInteractions/interactions_summary_tables\\HNSC\\HNSC_P42771_CDKN2A_2022-06-18.csv is exported successfully.\n",
      "2022-06-18 18:29:57 |\u001B[36m DEBUG    \u001B[0m| src.helpers.helpers_analysis.patient_interaction_analysis | interactors: ['P42345:MTOR', 'A6NE52:WDR97', 'P63244:RACK1']\n",
      "2022-06-18 18:29:57 |\u001B[36m DEBUG    \u001B[0m| src.helpers.helpers_analysis.patient_interaction_analysis | Exporting Counts Summary Table HNSC Q969H0 FBXW7..\n",
      "2022-06-18 18:29:57 |\u001B[32m INFO     \u001B[0m| src.helpers.helpers_analysis.patient_interaction_analysis | ../MostFrequentlyDisruptedInteractions/interactions_summary_tables\\HNSC\\HNSC_Q969H0_FBXW7_2022-06-18.csv is exported successfully.\n",
      "2022-06-18 18:29:57 |\u001B[36m DEBUG    \u001B[0m| src.helpers.helpers_analysis.patient_interaction_analysis | interactors: ['P09038:FGF2', 'P10767:FGF6', 'P05230:FGF1', 'P61328:FGF12', 'A1A515:FGF8', 'A8K147:nan', 'P08620:FGF4', 'Q9GZV9:FGF23', 'O95750:FGF19', 'P11487:FGF3', 'O15524:SOCS1', 'Q0IJ44:FGFR3']\n",
      "2022-06-18 18:29:57 |\u001B[36m DEBUG    \u001B[0m| src.helpers.helpers_analysis.patient_interaction_analysis | Exporting Counts Summary Table HNSC P22607 FGFR3..\n",
      "2022-06-18 18:29:57 |\u001B[32m INFO     \u001B[0m| src.helpers.helpers_analysis.patient_interaction_analysis | ../MostFrequentlyDisruptedInteractions/interactions_summary_tables\\HNSC\\HNSC_P22607_FGFR3_2022-06-18.csv is exported successfully.\n",
      "2022-06-18 18:29:57 |\u001B[36m DEBUG    \u001B[0m| src.helpers.helpers_analysis.patient_interaction_analysis | interactors: ['P01009:SERPINA1', 'P05154:SERPINA5', 'P03973:SLPI', 'P01011:SERPINA3']\n",
      "2022-06-18 18:29:57 |\u001B[36m DEBUG    \u001B[0m| src.helpers.helpers_analysis.patient_interaction_analysis | Exporting Counts Summary Table HNSC P07288 KLK3..\n",
      "2022-06-18 18:29:57 |\u001B[32m INFO     \u001B[0m| src.helpers.helpers_analysis.patient_interaction_analysis | ../MostFrequentlyDisruptedInteractions/interactions_summary_tables\\HNSC\\HNSC_P07288_KLK3_2022-06-18.csv is exported successfully.\n",
      "2022-06-18 18:29:57 |\u001B[36m DEBUG    \u001B[0m| src.helpers.helpers_analysis.patient_interaction_analysis | interactors: ['Q15262:PTPRK', 'Q13332:PTPRS', 'P18433:PTPRA']\n",
      "2022-06-18 18:29:57 |\u001B[36m DEBUG    \u001B[0m| src.helpers.helpers_analysis.patient_interaction_analysis | Exporting Counts Summary Table HNSC P28827 PTPRM..\n",
      "2022-06-18 18:29:57 |\u001B[32m INFO     \u001B[0m| src.helpers.helpers_analysis.patient_interaction_analysis | ../MostFrequentlyDisruptedInteractions/interactions_summary_tables\\HNSC\\HNSC_P28827_PTPRM_2022-06-18.csv is exported successfully.\n",
      "2022-06-18 18:29:57 |\u001B[36m DEBUG    \u001B[0m| src.helpers.helpers_analysis.patient_interaction_analysis | interactors: ['P23443:RPS6KB1', 'O00238:BMPR1B', 'P36897:TGFBR1', 'Q5T7S2:TGFBR1', 'O95747:OXSR1']\n",
      "2022-06-18 18:29:57 |\u001B[36m DEBUG    \u001B[0m| src.helpers.helpers_analysis.patient_interaction_analysis | Exporting Counts Summary Table HNSC P37173 TGFBR2..\n",
      "2022-06-18 18:29:57 |\u001B[32m INFO     \u001B[0m| src.helpers.helpers_analysis.patient_interaction_analysis | ../MostFrequentlyDisruptedInteractions/interactions_summary_tables\\HNSC\\HNSC_P37173_TGFBR2_2022-06-18.csv is exported successfully.\n",
      "2022-06-18 18:29:57 |\u001B[36m DEBUG    \u001B[0m| src.helpers.helpers_analysis.patient_interaction_analysis | interactors: ['Q9UER7:DAXX', 'P62805:H4C1', 'P04908:H2AC4', 'Q16777:H2AC20', 'P16104:H2AX', 'P0C0S8:H2AC11', 'O75367:MACROH2A1', 'P0C0S5:H2AZ1', 'Q9Y294:ASF1A', 'Q9NVP2:ASF1B', 'P49450:CENPA']\n",
      "2022-06-18 18:29:57 |\u001B[36m DEBUG    \u001B[0m| src.helpers.helpers_analysis.patient_interaction_analysis | Exporting Counts Summary Table HNSC P68431 H3C1..\n",
      "2022-06-18 18:29:58 |\u001B[32m INFO     \u001B[0m| src.helpers.helpers_analysis.patient_interaction_analysis | ../MostFrequentlyDisruptedInteractions/interactions_summary_tables\\HNSC\\HNSC_P68431_H3C1_2022-06-18.csv is exported successfully.\n",
      "2022-06-18 18:29:58 |\u001B[36m DEBUG    \u001B[0m| src.helpers.helpers_analysis.patient_interaction_analysis | interactors: ['O43424:GRID2', 'Q13002:GRIK2', 'Q13003:GRIK3', 'P42262:GRIA2']\n",
      "2022-06-18 18:29:58 |\u001B[36m DEBUG    \u001B[0m| src.helpers.helpers_analysis.patient_interaction_analysis | Exporting Counts Summary Table HNSC Q16478 GRIK5..\n",
      "2022-06-18 18:29:58 |\u001B[32m INFO     \u001B[0m| src.helpers.helpers_analysis.patient_interaction_analysis | ../MostFrequentlyDisruptedInteractions/interactions_summary_tables\\HNSC\\HNSC_Q16478_GRIK5_2022-06-18.csv is exported successfully.\n"
     ]
    }
   ],
   "source": [
    "\n",
    "for hnsc_protein in tqdm(hnsc_filtered_proteins):\n",
    "    hnsc_pia.export_counts_summary_table_protein(rf\"{INTERACTIONS_SUMMARY_TABLES_PATH}\\HNSC\", hnsc_protein)"
   ],
   "metadata": {
    "collapsed": false,
    "pycharm": {
     "name": "#%%\n"
    }
   }
  },
  {
   "cell_type": "code",
   "execution_count": null,
   "outputs": [],
   "source": [],
   "metadata": {
    "collapsed": false,
    "pycharm": {
     "name": "#%%\n"
    }
   }
  },
  {
   "cell_type": "code",
   "execution_count": null,
   "outputs": [],
   "source": [],
   "metadata": {
    "collapsed": false,
    "pycharm": {
     "name": "#%%\n"
    }
   }
  },
  {
   "cell_type": "markdown",
   "source": [
    "## GBM"
   ],
   "metadata": {
    "collapsed": false,
    "pycharm": {
     "name": "#%% md\n"
    }
   }
  },
  {
   "cell_type": "code",
   "execution_count": 65,
   "outputs": [
    {
     "data": {
      "text/plain": "  0%|          | 0/3 [00:00<?, ?it/s]",
      "application/vnd.jupyter.widget-view+json": {
       "version_major": 2,
       "version_minor": 0,
       "model_id": "1a224a99ef4c4f7bb687ace7e53b6c30"
      }
     },
     "metadata": {},
     "output_type": "display_data"
    },
    {
     "name": "stdout",
     "output_type": "stream",
     "text": [
      "2022-06-18 18:30:30 |\u001B[36m DEBUG    \u001B[0m| src.helpers.helpers_analysis.patient_interaction_analysis | interactors: ['Q13625:TP53BP2', 'Q96KQ4:PPP1R13B', 'Q06187:BTK', 'P62993:GRB2', 'Q9H3D4:TP63', 'Q8WUF5:PPP1R13L', 'P07948:LYN', 'H2EHT1:TP53', 'K7PPA8:TP53', 'Q96KQ7:EHMT2', 'O15350:TP73', 'Q9H9B1:EHMT1', 'Q99728:BARD1', 'O75832:PSMD10', 'Q9ULT8:HECTD1']\n",
      "2022-06-18 18:30:30 |\u001B[36m DEBUG    \u001B[0m| src.helpers.helpers_analysis.patient_interaction_analysis | Exporting Counts Summary Table GBM P04637 TP53..\n",
      "2022-06-18 18:30:30 |\u001B[32m INFO     \u001B[0m| src.helpers.helpers_analysis.patient_interaction_analysis | ../MostFrequentlyDisruptedInteractions/interactions_summary_tables\\GBM\\GBM_P04637_TP53_2022-06-18.csv is exported successfully.\n",
      "2022-06-18 18:30:30 |\u001B[36m DEBUG    \u001B[0m| src.helpers.helpers_analysis.patient_interaction_analysis | interactors: ['P53667:LIMK1', 'Q13177:PAK2', 'Q13233:MAP3K1']\n",
      "2022-06-18 18:30:30 |\u001B[36m DEBUG    \u001B[0m| src.helpers.helpers_analysis.patient_interaction_analysis | Exporting Counts Summary Table GBM P15056 BRAF..\n",
      "2022-06-18 18:30:30 |\u001B[32m INFO     \u001B[0m| src.helpers.helpers_analysis.patient_interaction_analysis | ../MostFrequentlyDisruptedInteractions/interactions_summary_tables\\GBM\\GBM_P15056_BRAF_2022-06-18.csv is exported successfully.\n",
      "2022-06-18 18:30:30 |\u001B[36m DEBUG    \u001B[0m| src.helpers.helpers_analysis.patient_interaction_analysis | interactors: ['P51617:IRAK1', 'Q14012:CAMK1', 'P57078:RIPK4', 'P25963:NFKBIA', 'P27361:MAPK3', 'P00519:ABL1', 'Q13164:MAPK7', 'P06239:LCK', 'P45985:MAP2K4']\n",
      "2022-06-18 18:30:30 |\u001B[36m DEBUG    \u001B[0m| src.helpers.helpers_analysis.patient_interaction_analysis | Exporting Counts Summary Table GBM Q05655 PRKCD..\n",
      "2022-06-18 18:30:30 |\u001B[32m INFO     \u001B[0m| src.helpers.helpers_analysis.patient_interaction_analysis | ../MostFrequentlyDisruptedInteractions/interactions_summary_tables\\GBM\\GBM_Q05655_PRKCD_2022-06-18.csv is exported successfully.\n"
     ]
    }
   ],
   "source": [
    "\n",
    "for gbm_protein in tqdm(gbm_filtered_proteins):\n",
    "    gbm_pia.export_counts_summary_table_protein(fr\"{INTERACTIONS_SUMMARY_TABLES_PATH}\\GBM\", protein_A=gbm_protein)"
   ],
   "metadata": {
    "collapsed": false,
    "pycharm": {
     "name": "#%%\n"
    }
   }
  },
  {
   "cell_type": "code",
   "execution_count": null,
   "outputs": [],
   "source": [],
   "metadata": {
    "collapsed": false,
    "pycharm": {
     "name": "#%%\n"
    }
   }
  },
  {
   "cell_type": "markdown",
   "source": [
    "## ESCA"
   ],
   "metadata": {
    "collapsed": false,
    "pycharm": {
     "name": "#%% md\n"
    }
   }
  },
  {
   "cell_type": "code",
   "execution_count": 66,
   "outputs": [
    {
     "data": {
      "text/plain": "  0%|          | 0/2 [00:00<?, ?it/s]",
      "application/vnd.jupyter.widget-view+json": {
       "version_major": 2,
       "version_minor": 0,
       "model_id": "67912067d35748759f23f34965f86bd1"
      }
     },
     "metadata": {},
     "output_type": "display_data"
    },
    {
     "name": "stdout",
     "output_type": "stream",
     "text": [
      "2022-06-18 18:31:29 |\u001B[36m DEBUG    \u001B[0m| src.helpers.helpers_analysis.patient_interaction_analysis | interactors: ['Q13625:TP53BP2', 'Q96KQ4:PPP1R13B', 'Q06187:BTK', 'P62993:GRB2', 'P07948:LYN', 'Q8WUF5:PPP1R13L', 'Q9H3D4:TP63', 'H2EHT1:TP53', 'K7PPA8:TP53', 'Q96KQ7:EHMT2', 'O15350:TP73', 'O75832:PSMD10', 'Q9H9B1:EHMT1', 'Q99728:BARD1', 'Q9ULT8:HECTD1', 'Q99466:NOTCH4', 'Q53GA5:nan']\n",
      "2022-06-18 18:31:29 |\u001B[36m DEBUG    \u001B[0m| src.helpers.helpers_analysis.patient_interaction_analysis | Exporting Counts Summary Table ESCA P04637 TP53..\n",
      "2022-06-18 18:31:29 |\u001B[32m INFO     \u001B[0m| src.helpers.helpers_analysis.patient_interaction_analysis | ../MostFrequentlyDisruptedInteractions/interactions_summary_tables\\ESCA\\ESCA_P04637_TP53_2022-06-18.csv is exported successfully.\n",
      "2022-06-18 18:31:29 |\u001B[36m DEBUG    \u001B[0m| src.helpers.helpers_analysis.patient_interaction_analysis | interactors: ['Q9UER7:DAXX', 'Q16695:H3-4', 'P68431:H3C1', 'Q53F85:nan', 'Q16514:TAF12', 'P06899:H2BC11', 'Q16778:H2BC21', 'P84243:H3-3A', 'Q71DI3:H3C15', 'P49450:CENPA', 'B4E1C1:nan']\n",
      "2022-06-18 18:31:29 |\u001B[36m DEBUG    \u001B[0m| src.helpers.helpers_analysis.patient_interaction_analysis | Exporting Counts Summary Table ESCA P62805 H4C1..\n",
      "2022-06-18 18:31:29 |\u001B[32m INFO     \u001B[0m| src.helpers.helpers_analysis.patient_interaction_analysis | ../MostFrequentlyDisruptedInteractions/interactions_summary_tables\\ESCA\\ESCA_P62805_H4C1_2022-06-18.csv is exported successfully.\n"
     ]
    }
   ],
   "source": [
    "\n",
    "for esca_protein in tqdm(esca_filtered_proteins):\n",
    "    esca_pia.export_counts_summary_table_protein(rf\"{INTERACTIONS_SUMMARY_TABLES_PATH}\\ESCA\", protein_A=esca_protein)"
   ],
   "metadata": {
    "collapsed": false,
    "pycharm": {
     "name": "#%%\n"
    }
   }
  },
  {
   "cell_type": "code",
   "execution_count": null,
   "outputs": [],
   "source": [],
   "metadata": {
    "collapsed": false,
    "pycharm": {
     "name": "#%%\n"
    }
   }
  },
  {
   "cell_type": "markdown",
   "source": [
    "# ------------------------------"
   ],
   "metadata": {
    "collapsed": false,
    "pycharm": {
     "name": "#%% md\n"
    }
   }
  },
  {
   "cell_type": "code",
   "execution_count": null,
   "outputs": [],
   "source": [],
   "metadata": {
    "collapsed": false,
    "pycharm": {
     "name": "#%%\n"
    }
   }
  }
 ],
 "metadata": {
  "kernelspec": {
   "name": "predator",
   "language": "python",
   "display_name": "Predator"
  },
  "language_info": {
   "codemirror_mode": {
    "name": "ipython",
    "version": 3
   },
   "file_extension": ".py",
   "mimetype": "text/x-python",
   "name": "python",
   "nbconvert_exporter": "python",
   "pygments_lexer": "ipython3",
   "version": "3.8.10"
  }
 },
 "nbformat": 4,
 "nbformat_minor": 5
}