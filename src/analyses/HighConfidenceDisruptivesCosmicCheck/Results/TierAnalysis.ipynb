{
 "cells": [
  {
   "cell_type": "markdown",
   "source": [
    "# Tier Analysis"
   ],
   "metadata": {
    "collapsed": false,
    "pycharm": {
     "name": "#%% md\n"
    }
   }
  },
  {
   "cell_type": "code",
   "execution_count": 1,
   "outputs": [
    {
     "name": "stdout",
     "output_type": "stream",
     "text": [
      "\u001B[32mJune 18, 2022 15:36:53\u001B[0m\n"
     ]
    }
   ],
   "source": [
    "from datetime import datetime\n",
    "\n",
    "print(\"\\033[32m{}\\033[0m\".format(datetime.now().strftime(\"%B %d, %Y %H:%M:%S\")))"
   ],
   "metadata": {
    "collapsed": false,
    "pycharm": {
     "name": "#%%\n"
    }
   }
  },
  {
   "cell_type": "code",
   "execution_count": 2,
   "outputs": [],
   "source": [
    "import pandas as pd\n",
    "from pandas import read_csv\n",
    "\n",
    "# Confidence 0.80s\n",
    "BRCA_PREDICTION_PATH = r\"0.80\\BRCA_high_confidence_disruptive_0.80_cosmic_2022-06-18.csv\"\n",
    "COAD_PREDICTION_PATH = r\"0.80\\COAD_high_confidence_disruptive_0.80_cosmic_2022-06-18.csv\"\n",
    "ESCA_PREDICTION_PATH = r\"0.80\\ESCA_high_confidence_disruptive_0.80_cosmic_2022-06-18.csv\"\n",
    "GBM_PREDICTION_PATH = r\"0.80\\GBM_high_confidence_disruptive_0.80_cosmic_2022-06-18.csv\"\n",
    "HNSC_PREDICTION_PATH = r\"0.80\\HNSC_high_confidence_disruptive_0.80_cosmic_2022-06-18.csv\"\n",
    "OV_PREDICTION_PATH = r\"0.80\\OV_high_confidence_disruptive_0.80_cosmic_2022-06-18.csv\"\n",
    "\n",
    "# Reflect changes in the modules immediately.\n",
    "%load_ext autoreload\n",
    "%autoreload 2"
   ],
   "metadata": {
    "collapsed": false,
    "pycharm": {
     "name": "#%%\n"
    }
   }
  },
  {
   "cell_type": "code",
   "execution_count": 3,
   "outputs": [],
   "source": [
    "def get_summary_table(tcga_to_prediction_data):\n",
    "    summary_entries = []\n",
    "\n",
    "    for tcga, tcga_data in tcga_to_prediction_data.items():\n",
    "        summary_entries.append(\n",
    "            (\n",
    "                tcga,\n",
    "                len(tcga_data),\n",
    "                len(\n",
    "                    tcga_data[\n",
    "                        tcga_data[\"MOST_SIGNIFICANT_CODON_TIER\"].isin([\"TIER_1\", \"TIER_2\", \"TIER_3\"])\n",
    "                    ]\n",
    "                ),\n",
    "                len(\n",
    "                    tcga_data[\n",
    "                        tcga_data[\"CGC_status\"].isin([\"Tier 1\", \"Tier 2\", \"Tier 3\"])\n",
    "                    ]\n",
    "                ),\n",
    "            )\n",
    "        )\n",
    "\n",
    "    summary_data = pd.DataFrame(\n",
    "        summary_entries,\n",
    "        columns=[\n",
    "            \"TCGA\",\n",
    "            \"Num Total Entries\",\n",
    "            \"Num Entries with Tier 1, Tier 2, Tier 3 annotation\",\n",
    "            \"Num Entries containing a mutation CGC Gene\",\n",
    "        ]\n",
    "    )\n",
    "\n",
    "    return summary_data"
   ],
   "metadata": {
    "collapsed": false,
    "pycharm": {
     "name": "#%%\n"
    }
   }
  },
  {
   "cell_type": "code",
   "execution_count": 4,
   "outputs": [],
   "source": [
    "brca_prediction_data = read_csv(BRCA_PREDICTION_PATH)\n",
    "coad_prediction_data = read_csv(COAD_PREDICTION_PATH)\n",
    "esca_prediction_data = read_csv(ESCA_PREDICTION_PATH)\n",
    "gbm_prediction_data = read_csv(GBM_PREDICTION_PATH)\n",
    "hnsc_prediction_data = read_csv(HNSC_PREDICTION_PATH)\n",
    "ov_prediction_data = read_csv(OV_PREDICTION_PATH)\n",
    "\n",
    "TCGA_TO_PREDICTION_DATA = {\n",
    "    \"BRCA\": brca_prediction_data,\n",
    "    \"COAD\": coad_prediction_data,\n",
    "    \"ESCA\": esca_prediction_data,\n",
    "    \"GBM\": gbm_prediction_data,\n",
    "    \"HNSC\": hnsc_prediction_data,\n",
    "    \"OV\": ov_prediction_data,\n",
    "}"
   ],
   "metadata": {
    "collapsed": false,
    "pycharm": {
     "name": "#%%\n"
    }
   }
  },
  {
   "cell_type": "code",
   "execution_count": 5,
   "outputs": [
    {
     "data": {
      "text/plain": "   TCGA  Num Total Entries  \\\n0  BRCA                334   \n1  COAD                683   \n2  ESCA                131   \n3   GBM                269   \n4  HNSC                364   \n5    OV                244   \n\n   Num Entries with Tier 1, Tier 2, Tier 3 annotation  \\\n0                                                 64    \n1                                                 47    \n2                                                 36    \n3                                                 56    \n4                                                 92    \n5                                                 59    \n\n   Num Entries containing a mutation CGC Gene  \n0                                         101  \n1                                          94  \n2                                          40  \n3                                          61  \n4                                         132  \n5                                          69  ",
      "text/html": "<div>\n<style scoped>\n    .dataframe tbody tr th:only-of-type {\n        vertical-align: middle;\n    }\n\n    .dataframe tbody tr th {\n        vertical-align: top;\n    }\n\n    .dataframe thead th {\n        text-align: right;\n    }\n</style>\n<table border=\"1\" class=\"dataframe\">\n  <thead>\n    <tr style=\"text-align: right;\">\n      <th></th>\n      <th>TCGA</th>\n      <th>Num Total Entries</th>\n      <th>Num Entries with Tier 1, Tier 2, Tier 3 annotation</th>\n      <th>Num Entries containing a mutation CGC Gene</th>\n    </tr>\n  </thead>\n  <tbody>\n    <tr>\n      <th>0</th>\n      <td>BRCA</td>\n      <td>334</td>\n      <td>64</td>\n      <td>101</td>\n    </tr>\n    <tr>\n      <th>1</th>\n      <td>COAD</td>\n      <td>683</td>\n      <td>47</td>\n      <td>94</td>\n    </tr>\n    <tr>\n      <th>2</th>\n      <td>ESCA</td>\n      <td>131</td>\n      <td>36</td>\n      <td>40</td>\n    </tr>\n    <tr>\n      <th>3</th>\n      <td>GBM</td>\n      <td>269</td>\n      <td>56</td>\n      <td>61</td>\n    </tr>\n    <tr>\n      <th>4</th>\n      <td>HNSC</td>\n      <td>364</td>\n      <td>92</td>\n      <td>132</td>\n    </tr>\n    <tr>\n      <th>5</th>\n      <td>OV</td>\n      <td>244</td>\n      <td>59</td>\n      <td>69</td>\n    </tr>\n  </tbody>\n</table>\n</div>"
     },
     "execution_count": 5,
     "metadata": {},
     "output_type": "execute_result"
    }
   ],
   "source": [
    "get_summary_table(TCGA_TO_PREDICTION_DATA)"
   ],
   "metadata": {
    "collapsed": false,
    "pycharm": {
     "name": "#%%\n"
    }
   }
  },
  {
   "cell_type": "code",
   "execution_count": 6,
   "outputs": [
    {
     "name": "stdout",
     "output_type": "stream",
     "text": [
      "\\begin{tabular}{llrrr}\n",
      "\\toprule\n",
      "{} &  TCGA &  Num Total Entries &  Num Entries with Tier 1, Tier 2, Tier 3 annotation &  Num Entries containing a mutation CGC Gene \\\\\n",
      "\\midrule\n",
      "0 &  BRCA &                334 &                                                 64 &                                         101 \\\\\n",
      "1 &  COAD &                683 &                                                 47 &                                          94 \\\\\n",
      "2 &  ESCA &                131 &                                                 36 &                                          40 \\\\\n",
      "3 &   GBM &                269 &                                                 56 &                                          61 \\\\\n",
      "4 &  HNSC &                364 &                                                 92 &                                         132 \\\\\n",
      "5 &    OV &                244 &                                                 59 &                                          69 \\\\\n",
      "\\bottomrule\n",
      "\\end{tabular}\n",
      "\n"
     ]
    }
   ],
   "source": [
    "print(get_summary_table(TCGA_TO_PREDICTION_DATA).to_latex())"
   ],
   "metadata": {
    "collapsed": false,
    "pycharm": {
     "name": "#%%\n"
    }
   }
  },
  {
   "cell_type": "markdown",
   "source": [
    "---"
   ],
   "metadata": {
    "collapsed": false,
    "pycharm": {
     "name": "#%% md\n"
    }
   }
  },
  {
   "cell_type": "code",
   "execution_count": null,
   "outputs": [],
   "source": [],
   "metadata": {
    "collapsed": false,
    "pycharm": {
     "name": "#%%\n"
    }
   }
  }
 ],
 "metadata": {
  "kernelspec": {
   "name": "predator",
   "language": "python",
   "display_name": "Predator"
  },
  "language_info": {
   "codemirror_mode": {
    "name": "ipython",
    "version": 2
   },
   "file_extension": ".py",
   "mimetype": "text/x-python",
   "name": "python",
   "nbconvert_exporter": "python",
   "pygments_lexer": "ipython2",
   "version": "2.7.6"
  }
 },
 "nbformat": 4,
 "nbformat_minor": 0
}