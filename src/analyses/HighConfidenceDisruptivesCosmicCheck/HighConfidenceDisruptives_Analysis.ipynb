{
 "cells": [
  {
   "cell_type": "markdown",
   "source": [
    "# High Confidence Disruptive Mutations"
   ],
   "metadata": {
    "collapsed": false,
    "pycharm": {
     "name": "#%% md\n"
    }
   }
  },
  {
   "cell_type": "code",
   "execution_count": 1,
   "outputs": [
    {
     "name": "stdout",
     "output_type": "stream",
     "text": [
      "\u001B[32mJune 18, 2022 15:25:57\u001B[0m\n"
     ]
    }
   ],
   "source": [
    "from datetime import datetime\n",
    "\n",
    "print(\"\\033[32m{}\\033[0m\".format(datetime.now().strftime(\"%B %d, %Y %H:%M:%S\")))"
   ],
   "metadata": {
    "collapsed": false,
    "pycharm": {
     "name": "#%%\n"
    }
   }
  },
  {
   "cell_type": "markdown",
   "source": [
    "**Setup**"
   ],
   "metadata": {
    "collapsed": false,
    "pycharm": {
     "name": "#%% md\n"
    }
   }
  },
  {
   "cell_type": "code",
   "execution_count": 2,
   "outputs": [],
   "source": [
    "import pandas as pd\n",
    "from utils import CosmicResultsAttaching\n",
    "\n",
    "COSMIC_RESULTS_RECORD_DATA_PATH = r\"CosmicAPI\\Record\\record_data.csv\"\n",
    "HIGH_CONFIDENCE_DISRUPTIVE_DATA_FOLDER_PATH = r\"HighConfidenceDisruptiveData\"\n",
    "\n",
    "# Confidence 0.80s\n",
    "BRCA_DISRUPTIVES_CONFIDENCE_80_PATH = r\"HighConfidenceDisruptiveData\\confidence_0.80\\BRCA_confidence_0.80_2022-06-17.csv\"\n",
    "COAD_DISRUPTIVES_CONFIDENCE_80_PATH = r\"HighConfidenceDisruptiveData\\confidence_0.80\\COAD_confidence_0.80_2022-06-17.csv\"\n",
    "ESCA_DISRUPTIVES_CONFIDENCE_80_PATH = r\"HighConfidenceDisruptiveData\\confidence_0.80\\ESCA_confidence_0.80_2022-06-17.csv\"\n",
    "GBM_DISRUPTIVES_CONFIDENCE_80_PATH = r\"HighConfidenceDisruptiveData\\confidence_0.80\\GBM_confidence_0.80_2022-06-17.csv\"\n",
    "HNSC_DISRUPTIVES_CONFIDENCE_80_PATH = r\"HighConfidenceDisruptiveData\\confidence_0.80\\HNSC_confidence_0.80_2022-06-17.csv\"\n",
    "OV_DISRUPTIVES_CONFIDENCE_80_PATH = r\"HighConfidenceDisruptiveData\\confidence_0.80\\OV_confidence_0.80_2022-06-17.csv\"\n",
    "\n",
    "# Reflect changes in the modules immediately.\n",
    "%load_ext autoreload\n",
    "%autoreload 2"
   ],
   "metadata": {
    "collapsed": false,
    "pycharm": {
     "name": "#%%\n"
    }
   }
  },
  {
   "cell_type": "code",
   "execution_count": 3,
   "outputs": [],
   "source": [
    "brca_disruptive_confidence_80 = pd.read_csv(BRCA_DISRUPTIVES_CONFIDENCE_80_PATH)\n",
    "coad_disruptive_confidence_80 = pd.read_csv(COAD_DISRUPTIVES_CONFIDENCE_80_PATH)\n",
    "esca_disruptive_confidence_80 = pd.read_csv(ESCA_DISRUPTIVES_CONFIDENCE_80_PATH)\n",
    "gbm_disruptive_confidence_80 = pd.read_csv(GBM_DISRUPTIVES_CONFIDENCE_80_PATH)\n",
    "hnsc_disruptive_confidence_80 = pd.read_csv(HNSC_DISRUPTIVES_CONFIDENCE_80_PATH)\n",
    "ov_disruptive_confidence_80 = pd.read_csv(OV_DISRUPTIVES_CONFIDENCE_80_PATH)"
   ],
   "metadata": {
    "collapsed": false,
    "pycharm": {
     "name": "#%%\n"
    }
   }
  },
  {
   "cell_type": "code",
   "execution_count": 4,
   "outputs": [
    {
     "name": "stdout",
     "output_type": "stream",
     "text": [
      "(334, 9)\n",
      "(683, 9)\n",
      "(131, 9)\n",
      "(269, 9)\n",
      "(364, 9)\n",
      "(244, 9)\n"
     ]
    }
   ],
   "source": [
    "print(brca_disruptive_confidence_80.shape)\n",
    "print(coad_disruptive_confidence_80.shape)\n",
    "print(esca_disruptive_confidence_80.shape)\n",
    "print(gbm_disruptive_confidence_80.shape)\n",
    "print(hnsc_disruptive_confidence_80.shape)\n",
    "print(ov_disruptive_confidence_80.shape)"
   ],
   "metadata": {
    "collapsed": false,
    "pycharm": {
     "name": "#%%\n"
    }
   }
  },
  {
   "cell_type": "code",
   "execution_count": 6,
   "outputs": [
    {
     "data": {
      "text/plain": "       GENE  RESIDUE_POSITION  \\\n0     LIN7B               115   \n1     ITGAM               166   \n2      E2F1               168   \n3      ESR1               222   \n4      TP53               273   \n...     ...               ...   \n1063   RCC1               323   \n1064  MEX3B               542   \n1065  FGFR2               252   \n1066  ESYT3               487   \n1067   FGF1               109   \n\n                                      ERROR_ENCOUNTERED  SUBMITTED  \\\n0                                                   NaN          1   \n1                                                   NaN          1   \n2                                                   NaN          1   \n3                                                   NaN          1   \n4                                                   NaN          1   \n...                                                 ...        ...   \n1063                                                NaN          1   \n1064                                                NaN          1   \n1065                                                NaN          1   \n1066  We don’t recognise that codon in our database!...          1   \n1067  We don’t recognise that codon in our database!...          1   \n\n      DOWNLOADED CGC_STATUS MOST_SIGNIFICANT_CODON_TIER  \\\n0              1       None              OTHER_MUTATION   \n1              1       None              OTHER_MUTATION   \n2              1       None              OTHER_MUTATION   \n3              1     Tier 1              OTHER_MUTATION   \n4              1     Tier 1                      TIER_1   \n...          ...        ...                         ...   \n1063           1       None              OTHER_MUTATION   \n1064           1       None              OTHER_MUTATION   \n1065           1     Tier 1                      TIER_1   \n1066           0        NaN                         NaN   \n1067           0        NaN                         NaN   \n\n                                                    URL  \n0     https://cancer.sanger.ac.uk/cmc/gene/LIN7B/cod...  \n1     https://cancer.sanger.ac.uk/cmc/gene/ITGAM/cod...  \n2     https://cancer.sanger.ac.uk/cmc/gene/E2F1/codo...  \n3     https://cancer.sanger.ac.uk/cmc/gene/ESR1/codo...  \n4     https://cancer.sanger.ac.uk/cmc/gene/TP53/codo...  \n...                                                 ...  \n1063  https://cancer.sanger.ac.uk/cmc/gene/RCC1/codo...  \n1064  https://cancer.sanger.ac.uk/cmc/gene/MEX3B/cod...  \n1065  https://cancer.sanger.ac.uk/cmc/gene/FGFR2/cod...  \n1066  https://cancer.sanger.ac.uk/cmc/gene/ESYT3/cod...  \n1067  https://cancer.sanger.ac.uk/cmc/gene/FGF1/codo...  \n\n[1068 rows x 8 columns]",
      "text/html": "<div>\n<style scoped>\n    .dataframe tbody tr th:only-of-type {\n        vertical-align: middle;\n    }\n\n    .dataframe tbody tr th {\n        vertical-align: top;\n    }\n\n    .dataframe thead th {\n        text-align: right;\n    }\n</style>\n<table border=\"1\" class=\"dataframe\">\n  <thead>\n    <tr style=\"text-align: right;\">\n      <th></th>\n      <th>GENE</th>\n      <th>RESIDUE_POSITION</th>\n      <th>ERROR_ENCOUNTERED</th>\n      <th>SUBMITTED</th>\n      <th>DOWNLOADED</th>\n      <th>CGC_STATUS</th>\n      <th>MOST_SIGNIFICANT_CODON_TIER</th>\n      <th>URL</th>\n    </tr>\n  </thead>\n  <tbody>\n    <tr>\n      <th>0</th>\n      <td>LIN7B</td>\n      <td>115</td>\n      <td>NaN</td>\n      <td>1</td>\n      <td>1</td>\n      <td>None</td>\n      <td>OTHER_MUTATION</td>\n      <td>https://cancer.sanger.ac.uk/cmc/gene/LIN7B/cod...</td>\n    </tr>\n    <tr>\n      <th>1</th>\n      <td>ITGAM</td>\n      <td>166</td>\n      <td>NaN</td>\n      <td>1</td>\n      <td>1</td>\n      <td>None</td>\n      <td>OTHER_MUTATION</td>\n      <td>https://cancer.sanger.ac.uk/cmc/gene/ITGAM/cod...</td>\n    </tr>\n    <tr>\n      <th>2</th>\n      <td>E2F1</td>\n      <td>168</td>\n      <td>NaN</td>\n      <td>1</td>\n      <td>1</td>\n      <td>None</td>\n      <td>OTHER_MUTATION</td>\n      <td>https://cancer.sanger.ac.uk/cmc/gene/E2F1/codo...</td>\n    </tr>\n    <tr>\n      <th>3</th>\n      <td>ESR1</td>\n      <td>222</td>\n      <td>NaN</td>\n      <td>1</td>\n      <td>1</td>\n      <td>Tier 1</td>\n      <td>OTHER_MUTATION</td>\n      <td>https://cancer.sanger.ac.uk/cmc/gene/ESR1/codo...</td>\n    </tr>\n    <tr>\n      <th>4</th>\n      <td>TP53</td>\n      <td>273</td>\n      <td>NaN</td>\n      <td>1</td>\n      <td>1</td>\n      <td>Tier 1</td>\n      <td>TIER_1</td>\n      <td>https://cancer.sanger.ac.uk/cmc/gene/TP53/codo...</td>\n    </tr>\n    <tr>\n      <th>...</th>\n      <td>...</td>\n      <td>...</td>\n      <td>...</td>\n      <td>...</td>\n      <td>...</td>\n      <td>...</td>\n      <td>...</td>\n      <td>...</td>\n    </tr>\n    <tr>\n      <th>1063</th>\n      <td>RCC1</td>\n      <td>323</td>\n      <td>NaN</td>\n      <td>1</td>\n      <td>1</td>\n      <td>None</td>\n      <td>OTHER_MUTATION</td>\n      <td>https://cancer.sanger.ac.uk/cmc/gene/RCC1/codo...</td>\n    </tr>\n    <tr>\n      <th>1064</th>\n      <td>MEX3B</td>\n      <td>542</td>\n      <td>NaN</td>\n      <td>1</td>\n      <td>1</td>\n      <td>None</td>\n      <td>OTHER_MUTATION</td>\n      <td>https://cancer.sanger.ac.uk/cmc/gene/MEX3B/cod...</td>\n    </tr>\n    <tr>\n      <th>1065</th>\n      <td>FGFR2</td>\n      <td>252</td>\n      <td>NaN</td>\n      <td>1</td>\n      <td>1</td>\n      <td>Tier 1</td>\n      <td>TIER_1</td>\n      <td>https://cancer.sanger.ac.uk/cmc/gene/FGFR2/cod...</td>\n    </tr>\n    <tr>\n      <th>1066</th>\n      <td>ESYT3</td>\n      <td>487</td>\n      <td>We don’t recognise that codon in our database!...</td>\n      <td>1</td>\n      <td>0</td>\n      <td>NaN</td>\n      <td>NaN</td>\n      <td>https://cancer.sanger.ac.uk/cmc/gene/ESYT3/cod...</td>\n    </tr>\n    <tr>\n      <th>1067</th>\n      <td>FGF1</td>\n      <td>109</td>\n      <td>We don’t recognise that codon in our database!...</td>\n      <td>1</td>\n      <td>0</td>\n      <td>NaN</td>\n      <td>NaN</td>\n      <td>https://cancer.sanger.ac.uk/cmc/gene/FGF1/codo...</td>\n    </tr>\n  </tbody>\n</table>\n<p>1068 rows × 8 columns</p>\n</div>"
     },
     "execution_count": 6,
     "metadata": {},
     "output_type": "execute_result"
    }
   ],
   "source": [
    "cosmic_results_record_data = pd.read_csv(COSMIC_RESULTS_RECORD_DATA_PATH)\n",
    "cosmic_results_record_data"
   ],
   "metadata": {
    "collapsed": false,
    "pycharm": {
     "name": "#%%\n"
    }
   }
  },
  {
   "cell_type": "markdown",
   "source": [
    "### CosmicResultsAttaching"
   ],
   "metadata": {
    "collapsed": false,
    "pycharm": {
     "name": "#%% md\n"
    }
   }
  },
  {
   "cell_type": "code",
   "execution_count": 7,
   "outputs": [],
   "source": [
    "cra = CosmicResultsAttaching(cosmic_results_data=cosmic_results_record_data)"
   ],
   "metadata": {
    "collapsed": false,
    "pycharm": {
     "name": "#%%\n"
    }
   }
  },
  {
   "cell_type": "code",
   "execution_count": 8,
   "outputs": [],
   "source": [
    "brca_disruptive_confidence_80_cosmic_results = cra.attach_results(brca_disruptive_confidence_80)\n",
    "coad_disruptive_confidence_80_cosmic_results = cra.attach_results(coad_disruptive_confidence_80)\n",
    "esca_disruptive_confidence_80_cosmic_results = cra.attach_results(esca_disruptive_confidence_80)\n",
    "gbm_disruptive_confidence_80_cosmic_results = cra.attach_results(gbm_disruptive_confidence_80)\n",
    "hnsc_disruptive_confidence_80_cosmic_results = cra.attach_results(hnsc_disruptive_confidence_80)\n",
    "ov_disruptive_confidence_80_cosmic_results = cra.attach_results(ov_disruptive_confidence_80)"
   ],
   "metadata": {
    "collapsed": false,
    "pycharm": {
     "name": "#%%\n"
    }
   }
  },
  {
   "cell_type": "code",
   "execution_count": 10,
   "outputs": [
    {
     "data": {
      "text/plain": "     TCGA   GENE UniProt_ID Mutation INTERACTOR_GENE Interactor_UniProt_ID  \\\n0    COAD  MYL6B     P14649     G97D            MYL6                P60660   \n1    COAD  MYL6B     P14649     G97D           MYO5A                Q9Y4I1   \n2    COAD  MYL6B     P14649     G97D             NaN                A8CDT9   \n3    COAD  MYL6B     P14649     G97D           MYO5A                F8WE88   \n4    COAD  MYL6B     P14649     G97D           MYO5A                G3V394   \n..    ...    ...        ...      ...             ...                   ...   \n678  COAD   TFEC     O14948    I155T            MITF                O75030   \n679  COAD   TFEC     O14948    I155T            TFE3                P19532   \n680  COAD   TFEC     O14948    I155T            TFEB                P19484   \n681  COAD   RHEB     Q15382     T42I            RAF1                P04049   \n682  COAD   RHEB     Q15382     T42I            RAF1                L7RRS6   \n\n     Prediction  Median_Probability  Disruptive_probability CGC_status  \\\n0             1             0.80710                 0.80710       None   \n1             1             0.84348                 0.84348       None   \n2             1             0.83331                 0.83331       None   \n3             1             0.83331                 0.83331       None   \n4             1             0.83331                 0.83331       None   \n..          ...                 ...                     ...        ...   \n678           1             0.89719                 0.89719       None   \n679           1             0.88654                 0.88654       None   \n680           1             0.87913                 0.87913       None   \n681           1             0.87438                 0.87438       None   \n682           1             0.97429                 0.97429       None   \n\n    MOST_SIGNIFICANT_CODON_TIER  \n0                OTHER_MUTATION  \n1                OTHER_MUTATION  \n2                OTHER_MUTATION  \n3                OTHER_MUTATION  \n4                OTHER_MUTATION  \n..                          ...  \n678              OTHER_MUTATION  \n679              OTHER_MUTATION  \n680              OTHER_MUTATION  \n681              OTHER_MUTATION  \n682              OTHER_MUTATION  \n\n[683 rows x 11 columns]",
      "text/html": "<div>\n<style scoped>\n    .dataframe tbody tr th:only-of-type {\n        vertical-align: middle;\n    }\n\n    .dataframe tbody tr th {\n        vertical-align: top;\n    }\n\n    .dataframe thead th {\n        text-align: right;\n    }\n</style>\n<table border=\"1\" class=\"dataframe\">\n  <thead>\n    <tr style=\"text-align: right;\">\n      <th></th>\n      <th>TCGA</th>\n      <th>GENE</th>\n      <th>UniProt_ID</th>\n      <th>Mutation</th>\n      <th>INTERACTOR_GENE</th>\n      <th>Interactor_UniProt_ID</th>\n      <th>Prediction</th>\n      <th>Median_Probability</th>\n      <th>Disruptive_probability</th>\n      <th>CGC_status</th>\n      <th>MOST_SIGNIFICANT_CODON_TIER</th>\n    </tr>\n  </thead>\n  <tbody>\n    <tr>\n      <th>0</th>\n      <td>COAD</td>\n      <td>MYL6B</td>\n      <td>P14649</td>\n      <td>G97D</td>\n      <td>MYL6</td>\n      <td>P60660</td>\n      <td>1</td>\n      <td>0.80710</td>\n      <td>0.80710</td>\n      <td>None</td>\n      <td>OTHER_MUTATION</td>\n    </tr>\n    <tr>\n      <th>1</th>\n      <td>COAD</td>\n      <td>MYL6B</td>\n      <td>P14649</td>\n      <td>G97D</td>\n      <td>MYO5A</td>\n      <td>Q9Y4I1</td>\n      <td>1</td>\n      <td>0.84348</td>\n      <td>0.84348</td>\n      <td>None</td>\n      <td>OTHER_MUTATION</td>\n    </tr>\n    <tr>\n      <th>2</th>\n      <td>COAD</td>\n      <td>MYL6B</td>\n      <td>P14649</td>\n      <td>G97D</td>\n      <td>NaN</td>\n      <td>A8CDT9</td>\n      <td>1</td>\n      <td>0.83331</td>\n      <td>0.83331</td>\n      <td>None</td>\n      <td>OTHER_MUTATION</td>\n    </tr>\n    <tr>\n      <th>3</th>\n      <td>COAD</td>\n      <td>MYL6B</td>\n      <td>P14649</td>\n      <td>G97D</td>\n      <td>MYO5A</td>\n      <td>F8WE88</td>\n      <td>1</td>\n      <td>0.83331</td>\n      <td>0.83331</td>\n      <td>None</td>\n      <td>OTHER_MUTATION</td>\n    </tr>\n    <tr>\n      <th>4</th>\n      <td>COAD</td>\n      <td>MYL6B</td>\n      <td>P14649</td>\n      <td>G97D</td>\n      <td>MYO5A</td>\n      <td>G3V394</td>\n      <td>1</td>\n      <td>0.83331</td>\n      <td>0.83331</td>\n      <td>None</td>\n      <td>OTHER_MUTATION</td>\n    </tr>\n    <tr>\n      <th>...</th>\n      <td>...</td>\n      <td>...</td>\n      <td>...</td>\n      <td>...</td>\n      <td>...</td>\n      <td>...</td>\n      <td>...</td>\n      <td>...</td>\n      <td>...</td>\n      <td>...</td>\n      <td>...</td>\n    </tr>\n    <tr>\n      <th>678</th>\n      <td>COAD</td>\n      <td>TFEC</td>\n      <td>O14948</td>\n      <td>I155T</td>\n      <td>MITF</td>\n      <td>O75030</td>\n      <td>1</td>\n      <td>0.89719</td>\n      <td>0.89719</td>\n      <td>None</td>\n      <td>OTHER_MUTATION</td>\n    </tr>\n    <tr>\n      <th>679</th>\n      <td>COAD</td>\n      <td>TFEC</td>\n      <td>O14948</td>\n      <td>I155T</td>\n      <td>TFE3</td>\n      <td>P19532</td>\n      <td>1</td>\n      <td>0.88654</td>\n      <td>0.88654</td>\n      <td>None</td>\n      <td>OTHER_MUTATION</td>\n    </tr>\n    <tr>\n      <th>680</th>\n      <td>COAD</td>\n      <td>TFEC</td>\n      <td>O14948</td>\n      <td>I155T</td>\n      <td>TFEB</td>\n      <td>P19484</td>\n      <td>1</td>\n      <td>0.87913</td>\n      <td>0.87913</td>\n      <td>None</td>\n      <td>OTHER_MUTATION</td>\n    </tr>\n    <tr>\n      <th>681</th>\n      <td>COAD</td>\n      <td>RHEB</td>\n      <td>Q15382</td>\n      <td>T42I</td>\n      <td>RAF1</td>\n      <td>P04049</td>\n      <td>1</td>\n      <td>0.87438</td>\n      <td>0.87438</td>\n      <td>None</td>\n      <td>OTHER_MUTATION</td>\n    </tr>\n    <tr>\n      <th>682</th>\n      <td>COAD</td>\n      <td>RHEB</td>\n      <td>Q15382</td>\n      <td>T42I</td>\n      <td>RAF1</td>\n      <td>L7RRS6</td>\n      <td>1</td>\n      <td>0.97429</td>\n      <td>0.97429</td>\n      <td>None</td>\n      <td>OTHER_MUTATION</td>\n    </tr>\n  </tbody>\n</table>\n<p>683 rows × 11 columns</p>\n</div>"
     },
     "execution_count": 10,
     "metadata": {},
     "output_type": "execute_result"
    }
   ],
   "source": [
    "coad_disruptive_confidence_80_cosmic_results"
   ],
   "metadata": {
    "collapsed": false,
    "pycharm": {
     "name": "#%%\n"
    }
   }
  },
  {
   "cell_type": "code",
   "execution_count": 11,
   "outputs": [
    {
     "data": {
      "text/plain": "       GENE  RESIDUE_POSITION ERROR_ENCOUNTERED  SUBMITTED  DOWNLOADED  \\\n738  PDGFRA               842               NaN          1           1   \n\n    CGC_STATUS MOST_SIGNIFICANT_CODON_TIER  \\\n738     Tier 1                      TIER_1   \n\n                                                   URL  \n738  https://cancer.sanger.ac.uk/cmc/gene/PDGFRA/co...  ",
      "text/html": "<div>\n<style scoped>\n    .dataframe tbody tr th:only-of-type {\n        vertical-align: middle;\n    }\n\n    .dataframe tbody tr th {\n        vertical-align: top;\n    }\n\n    .dataframe thead th {\n        text-align: right;\n    }\n</style>\n<table border=\"1\" class=\"dataframe\">\n  <thead>\n    <tr style=\"text-align: right;\">\n      <th></th>\n      <th>GENE</th>\n      <th>RESIDUE_POSITION</th>\n      <th>ERROR_ENCOUNTERED</th>\n      <th>SUBMITTED</th>\n      <th>DOWNLOADED</th>\n      <th>CGC_STATUS</th>\n      <th>MOST_SIGNIFICANT_CODON_TIER</th>\n      <th>URL</th>\n    </tr>\n  </thead>\n  <tbody>\n    <tr>\n      <th>738</th>\n      <td>PDGFRA</td>\n      <td>842</td>\n      <td>NaN</td>\n      <td>1</td>\n      <td>1</td>\n      <td>Tier 1</td>\n      <td>TIER_1</td>\n      <td>https://cancer.sanger.ac.uk/cmc/gene/PDGFRA/co...</td>\n    </tr>\n  </tbody>\n</table>\n</div>"
     },
     "execution_count": 11,
     "metadata": {},
     "output_type": "execute_result"
    }
   ],
   "source": [
    "cosmic_results_record_data[\n",
    "    (cosmic_results_record_data[\"GENE\"] == \"PDGFRA\") &\n",
    "    (cosmic_results_record_data[\"RESIDUE_POSITION\"] == 842)\n",
    "    ]"
   ],
   "metadata": {
    "collapsed": false,
    "pycharm": {
     "name": "#%%\n"
    }
   }
  },
  {
   "cell_type": "markdown",
   "source": [
    "### PROVEAN Score Attaching"
   ],
   "metadata": {
    "collapsed": false,
    "pycharm": {
     "name": "#%% md\n"
    }
   }
  },
  {
   "cell_type": "code",
   "execution_count": 12,
   "outputs": [],
   "source": [
    "from pathlib import Path\n",
    "from utils import ProveanScoreAttaching\n",
    "\n",
    "BRCA_INTERFACE_DATA_PATH = Path(r\"../../../data/Elaspic_merged_results/BRCA_Interface_2021-11-17.txt\")\n",
    "COAD_INTERFACE_DATA_PATH = Path(r\"../../../data/Elaspic_merged_results/COAD_Interface_2022-01-06.txt\")\n",
    "ESCA_INTERFACE_DATA_PATH = Path(r\"../../../data/Elaspic_merged_results/ESCA_Interface_2021-11-17.txt\")\n",
    "GBM_INTERFACE_DATA_PATH = Path(r\"../../../data/Elaspic_merged_results/GBM_Interface_2021-11-17.txt\")\n",
    "HNSC_INTERFACE_DATA_PATH = Path(r\"../../../data/Elaspic_merged_results/HNSC_Interface_2021-11-17.txt\")\n",
    "OV_INTERFACE_DATA_PATH = Path(r\"../../../data/Elaspic_merged_results/OV_Interface_2021-11-17.txt\")"
   ],
   "metadata": {
    "collapsed": false,
    "pycharm": {
     "name": "#%%\n"
    }
   }
  },
  {
   "cell_type": "code",
   "execution_count": 13,
   "outputs": [
    {
     "name": "stdout",
     "output_type": "stream",
     "text": [
      "2022-06-18 15:29:12 |\u001B[33m WARNING  \u001B[0m| utils | \n",
      "protein='P03372'\n",
      "mutation='P222S'\n",
      "interactor='P10827'\n",
      "Took average of [-6.261 -6.071]\n",
      "2022-06-18 15:29:12 |\u001B[33m WARNING  \u001B[0m| utils | \n",
      "protein='Q16288'\n",
      "mutation='R582W'\n",
      "interactor='Q07912'\n",
      "Took average of [-6.814 -6.819 -6.803]\n",
      "2022-06-18 15:29:14 |\u001B[33m WARNING  \u001B[0m| utils | \n",
      "protein='P14649'\n",
      "mutation='G97D'\n",
      "interactor='Q9Y4I1'\n",
      "Took average of [-6.679 -6.418]\n",
      "2022-06-18 15:29:14 |\u001B[33m WARNING  \u001B[0m| utils | \n",
      "protein='P29322'\n",
      "mutation='R106C'\n",
      "interactor='P20827'\n",
      "Took average of [-7.107 -7.135]\n",
      "2022-06-18 15:29:15 |\u001B[33m WARNING  \u001B[0m| utils | \n",
      "protein='P12034'\n",
      "mutation='G98D'\n",
      "interactor='P22607'\n",
      "Took average of [-5.377 -5.31 ]\n",
      "2022-06-18 15:29:15 |\u001B[33m WARNING  \u001B[0m| utils | \n",
      "protein='P12034'\n",
      "mutation='G98D'\n",
      "interactor='P22455'\n",
      "Took average of [-5.377 -5.31 ]\n",
      "2022-06-18 15:29:15 |\u001B[33m WARNING  \u001B[0m| utils | \n",
      "protein='P12034'\n",
      "mutation='G98D'\n",
      "interactor='P11362'\n",
      "Took average of [-5.435 -5.31 ]\n",
      "2022-06-18 15:29:15 |\u001B[33m WARNING  \u001B[0m| utils | \n",
      "protein='P01024'\n",
      "mutation='R148W'\n",
      "interactor='P00751'\n",
      "Took average of [-6.97  -6.499]\n",
      "2022-06-18 15:29:17 |\u001B[33m WARNING  \u001B[0m| utils | \n",
      "protein='Q9UPN9'\n",
      "mutation='Y994C'\n",
      "interactor='Q86U86'\n",
      "Took average of [-8.011 -8.098]\n",
      "2022-06-18 15:29:17 |\u001B[33m WARNING  \u001B[0m| utils | \n",
      "protein='P51965'\n",
      "mutation='E55G'\n",
      "interactor='P38398'\n",
      "Took average of [-6.063 -6.027]\n",
      "2022-06-18 15:29:18 |\u001B[33m WARNING  \u001B[0m| utils | \n",
      "protein='P42261'\n",
      "mutation='F505L'\n",
      "interactor='P48058'\n",
      "Took average of [-5.283 -5.284]\n",
      "2022-06-18 15:29:18 |\u001B[33m WARNING  \u001B[0m| utils | \n",
      "protein='Q9BZY9'\n",
      "mutation='P17L'\n",
      "interactor='P61086'\n",
      "Took average of [-8.601 -8.538]\n",
      "2022-06-18 15:29:18 |\u001B[33m WARNING  \u001B[0m| utils | \n",
      "protein='O14948'\n",
      "mutation='I155T'\n",
      "interactor='O75030'\n",
      "Took average of [-4.6   -4.581]\n",
      "2022-06-18 15:29:19 |\u001B[33m WARNING  \u001B[0m| utils | \n",
      "protein='O14745'\n",
      "mutation='G176A'\n",
      "interactor='Q5T2W1'\n",
      "Took average of [-5.66 -5.15]\n",
      "2022-06-18 15:29:20 |\u001B[33m WARNING  \u001B[0m| utils | \n",
      "protein='P42261'\n",
      "mutation='F505L'\n",
      "interactor='P48058'\n",
      "Took average of [-5.283 -5.284]\n",
      "2022-06-18 15:29:22 |\u001B[33m WARNING  \u001B[0m| utils | \n",
      "protein='Q13554'\n",
      "mutation='R275H'\n",
      "interactor='Q13557'\n",
      "Took average of [-4.968 -4.973]\n"
     ]
    }
   ],
   "source": [
    "brca_disruptive_confidence_80_provean_added = ProveanScoreAttaching(\n",
    "    tcga_cosmic_results_data=brca_disruptive_confidence_80_cosmic_results,\n",
    "    tcga=\"BRCA\",\n",
    "    tcga_elaspic_results_data_path=BRCA_INTERFACE_DATA_PATH\n",
    ").attach_provean_scores()\n",
    "\n",
    "coad_disruptive_confidence_80_provean_added = ProveanScoreAttaching(\n",
    "    tcga_cosmic_results_data=coad_disruptive_confidence_80_cosmic_results,\n",
    "    tcga=\"COAD\",\n",
    "    tcga_elaspic_results_data_path=COAD_INTERFACE_DATA_PATH\n",
    ").attach_provean_scores()\n",
    "\n",
    "esca_disruptive_confidence_80_provean_added = ProveanScoreAttaching(\n",
    "    tcga_cosmic_results_data=esca_disruptive_confidence_80_cosmic_results,\n",
    "    tcga=\"ESCA\",\n",
    "    tcga_elaspic_results_data_path=ESCA_INTERFACE_DATA_PATH\n",
    ").attach_provean_scores()\n",
    "\n",
    "gbm_disruptive_confidence_80_provean_added = ProveanScoreAttaching(\n",
    "    tcga_cosmic_results_data=gbm_disruptive_confidence_80_cosmic_results,\n",
    "    tcga=\"GBM\",\n",
    "    tcga_elaspic_results_data_path=GBM_INTERFACE_DATA_PATH\n",
    ").attach_provean_scores()\n",
    "\n",
    "hnsc_disruptive_confidence_80_provean_added = ProveanScoreAttaching(\n",
    "    tcga_cosmic_results_data=hnsc_disruptive_confidence_80_cosmic_results,\n",
    "    tcga=\"HNSC\",\n",
    "    tcga_elaspic_results_data_path=HNSC_INTERFACE_DATA_PATH\n",
    ").attach_provean_scores()\n",
    "\n",
    "ov_disruptive_confidence_80_provean_added = ProveanScoreAttaching(\n",
    "    tcga_cosmic_results_data=ov_disruptive_confidence_80_cosmic_results,\n",
    "    tcga=\"OV\",\n",
    "    tcga_elaspic_results_data_path=OV_INTERFACE_DATA_PATH\n",
    ").attach_provean_scores()"
   ],
   "metadata": {
    "collapsed": false,
    "pycharm": {
     "name": "#%%\n"
    }
   }
  },
  {
   "cell_type": "code",
   "execution_count": 13,
   "outputs": [],
   "source": [],
   "metadata": {
    "collapsed": false,
    "pycharm": {
     "name": "#%%\n"
    }
   }
  },
  {
   "cell_type": "markdown",
   "source": [
    "## Export the results"
   ],
   "metadata": {
    "collapsed": false,
    "pycharm": {
     "name": "#%% md\n"
    }
   }
  },
  {
   "cell_type": "markdown",
   "source": [
    "For now, I just extracted with confidence 0.80 or above."
   ],
   "metadata": {
    "collapsed": false,
    "pycharm": {
     "name": "#%% md\n"
    }
   }
  },
  {
   "cell_type": "code",
   "execution_count": 16,
   "outputs": [],
   "source": [
    "import os.path as op\n",
    "\n",
    "\n",
    "file_date = datetime.today().strftime('%Y-%m-%d')\n",
    "confidence = \"0.80\"\n",
    "export_results_folder_path = op.join(\"Results\", confidence)\n",
    "Path(f\"{export_results_folder_path}\").mkdir(parents=True, exist_ok=True)"
   ],
   "metadata": {
    "collapsed": false,
    "pycharm": {
     "name": "#%%\n"
    }
   }
  },
  {
   "cell_type": "code",
   "execution_count": 17,
   "outputs": [],
   "source": [
    "brca_disruptive_confidence_80_provean_added.to_csv(\n",
    "    op.join(export_results_folder_path, f\"BRCA_high_confidence_disruptive_{confidence}_cosmic_{file_date}.csv\"), index=False\n",
    ")\n",
    "coad_disruptive_confidence_80_provean_added.to_csv(\n",
    "    op.join(export_results_folder_path, f\"COAD_high_confidence_disruptive_{confidence}_cosmic_{file_date}.csv\"), index=False\n",
    ")\n",
    "esca_disruptive_confidence_80_provean_added.to_csv(\n",
    "    op.join(export_results_folder_path, f\"ESCA_high_confidence_disruptive_{confidence}_cosmic_{file_date}.csv\"), index=False\n",
    ")\n",
    "gbm_disruptive_confidence_80_provean_added.to_csv(\n",
    "    op.join(export_results_folder_path, f\"GBM_high_confidence_disruptive_{confidence}_cosmic_{file_date}.csv\"), index=False\n",
    ")\n",
    "hnsc_disruptive_confidence_80_provean_added.to_csv(\n",
    "    op.join(export_results_folder_path, f\"HNSC_high_confidence_disruptive_{confidence}_cosmic_{file_date}.csv\"), index=False\n",
    ")\n",
    "ov_disruptive_confidence_80_provean_added.to_csv(\n",
    "    op.join(export_results_folder_path, f\"OV_high_confidence_disruptive_{confidence}_cosmic_{file_date}.csv\"), index=False\n",
    ")"
   ],
   "metadata": {
    "collapsed": false,
    "pycharm": {
     "name": "#%%\n"
    }
   }
  },
  {
   "cell_type": "code",
   "execution_count": 11,
   "outputs": [],
   "source": [],
   "metadata": {
    "collapsed": false,
    "pycharm": {
     "name": "#%%\n"
    }
   }
  },
  {
   "cell_type": "markdown",
   "source": [
    "# ---"
   ],
   "metadata": {
    "collapsed": false,
    "pycharm": {
     "name": "#%% md\n"
    }
   }
  },
  {
   "cell_type": "code",
   "execution_count": null,
   "outputs": [],
   "source": [],
   "metadata": {
    "collapsed": false,
    "pycharm": {
     "name": "#%%\n"
    }
   }
  }
 ],
 "metadata": {
  "kernelspec": {
   "name": "predator",
   "language": "python",
   "display_name": "Predator"
  },
  "language_info": {
   "codemirror_mode": {
    "name": "ipython",
    "version": 2
   },
   "file_extension": ".py",
   "mimetype": "text/x-python",
   "name": "python",
   "nbconvert_exporter": "python",
   "pygments_lexer": "ipython2",
   "version": "2.7.6"
  }
 },
 "nbformat": 4,
 "nbformat_minor": 0
}