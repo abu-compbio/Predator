{
 "cells": [
  {
   "cell_type": "markdown",
   "metadata": {
    "collapsed": true,
    "pycharm": {
     "name": "#%% md\n"
    }
   },
   "source": [
    "# High Confidence Disruptive Mutations"
   ]
  },
  {
   "cell_type": "code",
   "execution_count": 1,
   "outputs": [
    {
     "name": "stdout",
     "output_type": "stream",
     "text": [
      "\u001B[32mJune 17, 2022 23:26:26\u001B[0m\n"
     ]
    }
   ],
   "source": [
    "from datetime import datetime\n",
    "\n",
    "print(\"\\033[32m{}\\033[0m\".format(datetime.now().strftime(\"%B %d, %Y %H:%M:%S\")))"
   ],
   "metadata": {
    "collapsed": false,
    "pycharm": {
     "name": "#%%\n"
    }
   }
  },
  {
   "cell_type": "markdown",
   "source": [
    "**Setup**"
   ],
   "metadata": {
    "collapsed": false,
    "pycharm": {
     "name": "#%% md\n"
    }
   }
  },
  {
   "cell_type": "code",
   "execution_count": 2,
   "outputs": [],
   "source": [
    "from pandas import read_csv\n",
    "from utils import HighConfidenceDisruptiveMutationsHelper\n",
    "from tqdm.notebook import tqdm\n",
    "\n",
    "BRCA_PREDICTION_PATH = \"../../../data/predictions_datasets/brca_prediction_2022-06-17/ed35a3a3/predictions_soft_2022-06-17.csv\"\n",
    "COAD_PREDICTION_PATH = \"../../../data/predictions_datasets/coad_prediction_2022-06-17/84fd283a/predictions_soft_2022-06-17.csv\"\n",
    "ESCA_PREDICTION_PATH = \"../../../data/predictions_datasets/esca_prediction_2022-06-17/f2d1e99a/predictions_soft_2022-06-17.csv\"\n",
    "GBM_PREDICTION_PATH = \"../../../data/predictions_datasets/gbm_prediction_2022-06-17/8d7f7caa/predictions_soft_2022-06-17.csv\"\n",
    "HNSC_PREDICTION_PATH = \"../../../data/predictions_datasets/hnsc_prediction_2022-06-17/76f498d9/predictions_soft_2022-06-17.csv\"\n",
    "OV_PREDICTION_PATH = \"../../../data/predictions_datasets/ov_prediction_2022-06-17/865d1897/predictions_soft_2022-06-17.csv\"\n",
    "\n",
    "# Reflect changes in the modules immediately.\n",
    "%load_ext autoreload\n",
    "%autoreload 2"
   ],
   "metadata": {
    "collapsed": false,
    "pycharm": {
     "name": "#%%\n"
    }
   }
  },
  {
   "cell_type": "code",
   "execution_count": 3,
   "outputs": [],
   "source": [
    "brca_prediction_data = read_csv(BRCA_PREDICTION_PATH)\n",
    "coad_prediction_data = read_csv(COAD_PREDICTION_PATH)\n",
    "esca_prediction_data = read_csv(ESCA_PREDICTION_PATH)\n",
    "gbm_prediction_data = read_csv(GBM_PREDICTION_PATH)\n",
    "hnsc_prediction_data = read_csv(HNSC_PREDICTION_PATH)\n",
    "ov_prediction_data = read_csv(OV_PREDICTION_PATH)\n",
    "\n",
    "TCGA_TO_PREDICTION_DATA = {\n",
    "    \"BRCA\": brca_prediction_data,\n",
    "    \"COAD\": coad_prediction_data,\n",
    "    \"ESCA\": esca_prediction_data,\n",
    "    \"GBM\": gbm_prediction_data,\n",
    "    \"HNSC\": hnsc_prediction_data,\n",
    "    \"OV\": ov_prediction_data,\n",
    "}\n",
    "\n",
    "CONFIDENCES = [0.80, 0.85, 0.90, 0.95]"
   ],
   "metadata": {
    "collapsed": false,
    "pycharm": {
     "name": "#%%\n"
    }
   }
  },
  {
   "cell_type": "code",
   "execution_count": 4,
   "outputs": [],
   "source": [
    "def run(confidences, tcga_to_prediction_data):\n",
    "    for confidence in tqdm(confidences):\n",
    "        for tcga, tcga_prediction_data in tcga_to_prediction_data.items():\n",
    "            print(f\"tcga : {tcga}\")\n",
    "            print(f\"tcga_prediction_data : {tcga_prediction_data.shape}\")\n",
    "            HighConfidenceDisruptiveMutationsHelper(\n",
    "                tcga=tcga,\n",
    "                data=tcga_prediction_data,\n",
    "                confidence=confidence\n",
    "            ).extract_high_confidence_disruptive_mutations(view=False)"
   ],
   "metadata": {
    "collapsed": false,
    "pycharm": {
     "name": "#%%\n"
    }
   }
  },
  {
   "cell_type": "code",
   "execution_count": 4,
   "outputs": [],
   "source": [],
   "metadata": {
    "collapsed": false,
    "pycharm": {
     "name": "#%%\n"
    }
   }
  },
  {
   "cell_type": "code",
   "execution_count": 5,
   "outputs": [
    {
     "data": {
      "text/plain": "  0%|          | 0/4 [00:00<?, ?it/s]",
      "application/vnd.jupyter.widget-view+json": {
       "version_major": 2,
       "version_minor": 0,
       "model_id": "1d1247512e8a4a818dd8ae360ef74ebb"
      }
     },
     "metadata": {},
     "output_type": "display_data"
    },
    {
     "name": "stdout",
     "output_type": "stream",
     "text": [
      "tcga : BRCA\n",
      "tcga_prediction_data : (3991, 5)\n",
      "BRCA data is extracted to HighConfidenceDisruptiveData\\confidence_0.80\\BRCA_confidence_0.80_2022-06-17.csv successfully.\n",
      "tcga : COAD\n",
      "tcga_prediction_data : (7496, 5)\n",
      "COAD data is extracted to HighConfidenceDisruptiveData\\confidence_0.80\\COAD_confidence_0.80_2022-06-17.csv successfully.\n",
      "tcga : ESCA\n",
      "tcga_prediction_data : (1189, 5)\n",
      "ESCA data is extracted to HighConfidenceDisruptiveData\\confidence_0.80\\ESCA_confidence_0.80_2022-06-17.csv successfully.\n",
      "tcga : GBM\n",
      "tcga_prediction_data : (2934, 5)\n",
      "GBM data is extracted to HighConfidenceDisruptiveData\\confidence_0.80\\GBM_confidence_0.80_2022-06-17.csv successfully.\n",
      "tcga : HNSC\n",
      "tcga_prediction_data : (3990, 5)\n",
      "HNSC data is extracted to HighConfidenceDisruptiveData\\confidence_0.80\\HNSC_confidence_0.80_2022-06-17.csv successfully.\n",
      "tcga : OV\n",
      "tcga_prediction_data : (2501, 5)\n",
      "OV data is extracted to HighConfidenceDisruptiveData\\confidence_0.80\\OV_confidence_0.80_2022-06-17.csv successfully.\n",
      "tcga : BRCA\n",
      "tcga_prediction_data : (3991, 6)\n",
      "BRCA data is extracted to HighConfidenceDisruptiveData\\confidence_0.85\\BRCA_confidence_0.85_2022-06-17.csv successfully.\n",
      "tcga : COAD\n",
      "tcga_prediction_data : (7496, 6)\n",
      "COAD data is extracted to HighConfidenceDisruptiveData\\confidence_0.85\\COAD_confidence_0.85_2022-06-17.csv successfully.\n",
      "tcga : ESCA\n",
      "tcga_prediction_data : (1189, 6)\n",
      "ESCA data is extracted to HighConfidenceDisruptiveData\\confidence_0.85\\ESCA_confidence_0.85_2022-06-17.csv successfully.\n",
      "tcga : GBM\n",
      "tcga_prediction_data : (2934, 6)\n",
      "GBM data is extracted to HighConfidenceDisruptiveData\\confidence_0.85\\GBM_confidence_0.85_2022-06-17.csv successfully.\n",
      "tcga : HNSC\n",
      "tcga_prediction_data : (3990, 6)\n",
      "HNSC data is extracted to HighConfidenceDisruptiveData\\confidence_0.85\\HNSC_confidence_0.85_2022-06-17.csv successfully.\n",
      "tcga : OV\n",
      "tcga_prediction_data : (2501, 6)\n",
      "OV data is extracted to HighConfidenceDisruptiveData\\confidence_0.85\\OV_confidence_0.85_2022-06-17.csv successfully.\n",
      "tcga : BRCA\n",
      "tcga_prediction_data : (3991, 6)\n",
      "BRCA data is extracted to HighConfidenceDisruptiveData\\confidence_0.90\\BRCA_confidence_0.90_2022-06-17.csv successfully.\n",
      "tcga : COAD\n",
      "tcga_prediction_data : (7496, 6)\n",
      "COAD data is extracted to HighConfidenceDisruptiveData\\confidence_0.90\\COAD_confidence_0.90_2022-06-17.csv successfully.\n",
      "tcga : ESCA\n",
      "tcga_prediction_data : (1189, 6)\n",
      "ESCA data is extracted to HighConfidenceDisruptiveData\\confidence_0.90\\ESCA_confidence_0.90_2022-06-17.csv successfully.\n",
      "tcga : GBM\n",
      "tcga_prediction_data : (2934, 6)\n",
      "GBM data is extracted to HighConfidenceDisruptiveData\\confidence_0.90\\GBM_confidence_0.90_2022-06-17.csv successfully.\n",
      "tcga : HNSC\n",
      "tcga_prediction_data : (3990, 6)\n",
      "HNSC data is extracted to HighConfidenceDisruptiveData\\confidence_0.90\\HNSC_confidence_0.90_2022-06-17.csv successfully.\n",
      "tcga : OV\n",
      "tcga_prediction_data : (2501, 6)\n",
      "OV data is extracted to HighConfidenceDisruptiveData\\confidence_0.90\\OV_confidence_0.90_2022-06-17.csv successfully.\n",
      "tcga : BRCA\n",
      "tcga_prediction_data : (3991, 6)\n",
      "BRCA data is extracted to HighConfidenceDisruptiveData\\confidence_0.95\\BRCA_confidence_0.95_2022-06-17.csv successfully.\n",
      "tcga : COAD\n",
      "tcga_prediction_data : (7496, 6)\n",
      "COAD data is extracted to HighConfidenceDisruptiveData\\confidence_0.95\\COAD_confidence_0.95_2022-06-17.csv successfully.\n",
      "tcga : ESCA\n",
      "tcga_prediction_data : (1189, 6)\n",
      "ESCA data is extracted to HighConfidenceDisruptiveData\\confidence_0.95\\ESCA_confidence_0.95_2022-06-17.csv successfully.\n",
      "tcga : GBM\n",
      "tcga_prediction_data : (2934, 6)\n",
      "GBM data is extracted to HighConfidenceDisruptiveData\\confidence_0.95\\GBM_confidence_0.95_2022-06-17.csv successfully.\n",
      "tcga : HNSC\n",
      "tcga_prediction_data : (3990, 6)\n",
      "HNSC data is extracted to HighConfidenceDisruptiveData\\confidence_0.95\\HNSC_confidence_0.95_2022-06-17.csv successfully.\n",
      "tcga : OV\n",
      "tcga_prediction_data : (2501, 6)\n",
      "OV data is extracted to HighConfidenceDisruptiveData\\confidence_0.95\\OV_confidence_0.95_2022-06-17.csv successfully.\n"
     ]
    }
   ],
   "source": [
    "run(confidences=CONFIDENCES, tcga_to_prediction_data=TCGA_TO_PREDICTION_DATA)"
   ],
   "metadata": {
    "collapsed": false,
    "pycharm": {
     "name": "#%%\n"
    }
   }
  },
  {
   "cell_type": "code",
   "execution_count": null,
   "outputs": [],
   "source": [],
   "metadata": {
    "collapsed": false,
    "pycharm": {
     "name": "#%%\n"
    }
   }
  },
  {
   "cell_type": "code",
   "execution_count": null,
   "outputs": [],
   "source": [],
   "metadata": {
    "collapsed": false,
    "pycharm": {
     "name": "#%%\n"
    }
   }
  }
 ],
 "metadata": {
  "kernelspec": {
   "name": "predator",
   "language": "python",
   "display_name": "Predator"
  },
  "language_info": {
   "codemirror_mode": {
    "name": "ipython",
    "version": 2
   },
   "file_extension": ".py",
   "mimetype": "text/x-python",
   "name": "python",
   "nbconvert_exporter": "python",
   "pygments_lexer": "ipython2",
   "version": "2.7.6"
  }
 },
 "nbformat": 4,
 "nbformat_minor": 0
}