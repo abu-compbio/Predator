{
 "cells": [
  {
   "cell_type": "markdown",
   "source": [
    "# Construction of Pairs for All TCGA to run WExT Method"
   ],
   "metadata": {
    "collapsed": false,
    "pycharm": {
     "name": "#%% md\n"
    }
   }
  },
  {
   "cell_type": "markdown",
   "source": [
    "[12:52, 07/03/2022] Hilal Kazan (ABU CS Prof. ): sadece most frequently disrupted interactions'lara odaklanalım."
   ],
   "metadata": {
    "collapsed": false,
    "pycharm": {
     "name": "#%% md\n"
    }
   }
  },
  {
   "cell_type": "code",
   "execution_count": 1,
   "outputs": [
    {
     "name": "stdout",
     "output_type": "stream",
     "text": [
      "\u001B[32mJune 18, 2022 19:50:22\u001B[0m\n"
     ]
    }
   ],
   "source": [
    "from datetime import datetime\n",
    "\n",
    "print(\"\\033[32m{}\\033[0m\".format(datetime.now().strftime(\"%B %d, %Y %H:%M:%S\")))"
   ],
   "metadata": {
    "collapsed": false,
    "pycharm": {
     "name": "#%%\n"
    }
   }
  },
  {
   "cell_type": "code",
   "execution_count": 1,
   "outputs": [],
   "source": [],
   "metadata": {
    "collapsed": false,
    "pycharm": {
     "name": "#%%\n"
    }
   }
  },
  {
   "cell_type": "code",
   "execution_count": 2,
   "outputs": [],
   "source": [
    "import pandas as pd\n",
    "import os.path as op\n",
    "import glob\n",
    "\n",
    "# Reflect changes in the modules immediately.\n",
    "%load_ext autoreload\n",
    "%autoreload 2"
   ],
   "metadata": {
    "collapsed": false,
    "pycharm": {
     "name": "#%%\n"
    }
   }
  },
  {
   "cell_type": "code",
   "execution_count": 3,
   "outputs": [],
   "source": [
    "INTERACTION_SUMMARY_TABLES_PATH = r\"../../MostFrequentlyDisruptedInteractions/interactions_summary_tables\""
   ],
   "metadata": {
    "collapsed": false,
    "pycharm": {
     "name": "#%%\n"
    }
   }
  },
  {
   "cell_type": "code",
   "execution_count": 4,
   "outputs": [],
   "source": [
    "TCGA_TYPES = [\"BRCA\", \"COAD\", \"ESCA\", \"GBM\", \"HNSC\", \"OV\"]"
   ],
   "metadata": {
    "collapsed": false,
    "pycharm": {
     "name": "#%%\n"
    }
   }
  },
  {
   "cell_type": "code",
   "execution_count": 5,
   "outputs": [],
   "source": [
    "def get_tcga_pairs(\n",
    "        tcga,\n",
    "        interaction_summary_tables_path=INTERACTION_SUMMARY_TABLES_PATH,\n",
    "        export=False\n",
    "):\n",
    "    tcga_interaction_summary_tables_paths = glob.glob(\n",
    "        op.join(interaction_summary_tables_path, tcga, \"*.csv\")\n",
    "    )\n",
    "\n",
    "    tcga_concated_dataframes = []\n",
    "    for table_path in tcga_interaction_summary_tables_paths:\n",
    "        tcga_concated_dataframes.append(\n",
    "            pd.read_csv(table_path)\n",
    "        )\n",
    "\n",
    "    tcga_concated = pd.concat(tcga_concated_dataframes)\n",
    "    assert tcga_concated[\"TCGA\"].unique() == [tcga]\n",
    "\n",
    "    output = tcga_concated[\"TCGA\"] + \"_\" + tcga_concated[\"PROTEIN_A\"] + \":\" + tcga_concated[\"GENE_A\"].apply(lambda x: str(x)) + \"_\" + tcga_concated[\"PROTEIN_GENE_B\"]\n",
    "\n",
    "    if export:\n",
    "        file_date = datetime.today().strftime('%Y-%m-%d')\n",
    "        file_name = f\"{tcga}_pairs_{file_date}.txt\"\n",
    "\n",
    "        if op.isfile(file_name):\n",
    "            raise FileExistsError\n",
    "\n",
    "        output.to_csv(file_name, header=False, index=False)\n",
    "        print(f\"{file_name} is extracted successfully.\")\n",
    "\n",
    "    else:\n",
    "        return output\n"
   ],
   "metadata": {
    "collapsed": false,
    "pycharm": {
     "name": "#%%\n"
    }
   }
  },
  {
   "cell_type": "code",
   "execution_count": 6,
   "outputs": [],
   "source": [
    "# get_tcga_pairs(tcga=\"BRCA\")"
   ],
   "metadata": {
    "collapsed": false,
    "pycharm": {
     "name": "#%%\n"
    }
   }
  },
  {
   "cell_type": "code",
   "execution_count": 7,
   "outputs": [
    {
     "name": "stdout",
     "output_type": "stream",
     "text": [
      "BRCA_pairs_2022-06-18.txt is extracted successfully.\n",
      "COAD_pairs_2022-06-18.txt is extracted successfully.\n",
      "ESCA_pairs_2022-06-18.txt is extracted successfully.\n",
      "GBM_pairs_2022-06-18.txt is extracted successfully.\n",
      "HNSC_pairs_2022-06-18.txt is extracted successfully.\n",
      "OV_pairs_2022-06-18.txt is extracted successfully.\n"
     ]
    }
   ],
   "source": [
    "for TCGA in TCGA_TYPES:\n",
    "    get_tcga_pairs(tcga=TCGA, export=True)"
   ],
   "metadata": {
    "collapsed": false,
    "pycharm": {
     "name": "#%%\n"
    }
   }
  },
  {
   "cell_type": "code",
   "execution_count": null,
   "outputs": [],
   "source": [],
   "metadata": {
    "collapsed": false,
    "pycharm": {
     "name": "#%%\n"
    }
   }
  },
  {
   "cell_type": "code",
   "execution_count": null,
   "outputs": [],
   "source": [],
   "metadata": {
    "collapsed": false,
    "pycharm": {
     "name": "#%%\n"
    }
   }
  }
 ],
 "metadata": {
  "kernelspec": {
   "name": "predator",
   "language": "python",
   "display_name": "Predator"
  },
  "language_info": {
   "codemirror_mode": {
    "name": "ipython",
    "version": 2
   },
   "file_extension": ".py",
   "mimetype": "text/x-python",
   "name": "python",
   "nbconvert_exporter": "python",
   "pygments_lexer": "ipython2",
   "version": "2.7.6"
  }
 },
 "nbformat": 4,
 "nbformat_minor": 0
}