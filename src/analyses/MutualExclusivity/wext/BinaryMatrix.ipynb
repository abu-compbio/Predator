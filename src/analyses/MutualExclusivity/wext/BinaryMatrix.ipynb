{
 "cells": [
  {
   "cell_type": "markdown",
   "id": "32ec010a-5a39-466a-abbe-4354f51fd849",
   "metadata": {
    "pycharm": {
     "name": "#%% md\n"
    }
   },
   "source": [
    "# Construction of Binary Matrix for All TCGA to run WExT Method"
   ]
  },
  {
   "cell_type": "code",
   "execution_count": 1,
   "outputs": [
    {
     "name": "stdout",
     "output_type": "stream",
     "text": [
      "\u001B[32mJune 18, 2022 19:52:43\u001B[0m\n"
     ]
    }
   ],
   "source": [
    "from datetime import datetime\n",
    "\n",
    "print(\"\\033[32m{}\\033[0m\".format(datetime.now().strftime(\"%B %d, %Y %H:%M:%S\")))"
   ],
   "metadata": {
    "collapsed": false,
    "pycharm": {
     "name": "#%%\n"
    }
   }
  },
  {
   "cell_type": "code",
   "execution_count": 2,
   "id": "e066ad8e-6730-49de-b02a-3d30a90ba29b",
   "metadata": {
    "pycharm": {
     "name": "#%%\n"
    }
   },
   "outputs": [],
   "source": [
    "from src.helpers.helpers_analysis.binary_matrix_mutations_vs_samples import BinaryMatrix\n",
    "import os.path as op\n",
    "\n",
    "# SNV_PATHS\n",
    "SNV_COMMON_PATH = \"../../../../data/snv_datasets/\"\n",
    "BRCA_SNV_PATH = op.join(SNV_COMMON_PATH, \"SNV_BRCA_hg38_2021-09-22.csv\")\n",
    "ESCA_SNV_PATH = op.join(SNV_COMMON_PATH, \"SNV_ESCA_hg38_2021-09-22.csv\")\n",
    "GBM_SNV_PATH = op.join(SNV_COMMON_PATH, \"SNV_GBM_hg38_2021-09-22.csv\")\n",
    "OV_SNV_PATH = op.join(SNV_COMMON_PATH, \"SNV_OV_hg38_2021-09-22.csv\")\n",
    "HNSC_SNV_PATH = op.join(SNV_COMMON_PATH, \"SNV_HNSC_hg38_2021-09-22.csv\")\n",
    "COAD_SNV_PATH = op.join(SNV_COMMON_PATH, \"SNV_COAD_hg38_2021-09-22.csv\")\n",
    "\n",
    "BRCA_FILTERING_PAIRS_FILE_PATH = \"BRCA_pairs_2022-06-18.txt\"\n",
    "ESCA_FILTERING_PAIRS_FILE_PATH = \"ESCA_pairs_2022-06-18.txt\"\n",
    "GBM_FILTERING_PAIRS_FILE_PATH = \"GBM_pairs_2022-06-18.txt\"\n",
    "OV_FILTERING_PAIRS_FILE_PATH = \"OV_pairs_2022-06-18.txt\"\n",
    "HNSC_FILTERING_PAIRS_FILE_PATH = \"HNSC_pairs_2022-06-18.txt\"\n",
    "COAD_FILTERING_PAIRS_FILE_PATH = \"COAD_pairs_2022-06-18.txt\"\n",
    "\n",
    "# Reflect changes in the modules immediately.\n",
    "%load_ext autoreload\n",
    "%autoreload 2"
   ]
  },
  {
   "cell_type": "code",
   "execution_count": 3,
   "outputs": [
    {
     "name": "stdout",
     "output_type": "stream",
     "text": [
      "2022-06-18 19:53:39 |\u001B[36m DEBUG    \u001B[0m| src.helpers.helpers_analysis.binary_matrix_mutations_vs_samples | Loading SNV data simplified ..\n",
      "2022-06-18 19:53:39 |\u001B[32m INFO     \u001B[0m| src.helpers.helpers_analysis.loaders | Loading BRCA SNV datasets ..\n",
      "2022-06-18 19:53:49 |\u001B[36m DEBUG    \u001B[0m| src.helpers.helpers_analysis.loaders | BRCA SNV data size: (120988, 121)\n",
      "2022-06-18 19:53:49 |\u001B[36m DEBUG    \u001B[0m| src.helpers.helpers_analysis.loaders | BRCA SNV data processed size: (60251, 121)\n",
      "2022-06-18 19:53:50 |\u001B[32m INFO     \u001B[0m| src.helpers.helpers_analysis.loaders | BRCA SNV datasets are loaded.\n",
      "2022-06-18 19:53:50 |\u001B[36m DEBUG    \u001B[0m| src.helpers.helpers_analysis.binary_matrix_mutations_vs_samples | Loading patient ids ..\n",
      "2022-06-18 19:53:50 |\u001B[36m DEBUG    \u001B[0m| src.helpers.helpers_analysis.binary_matrix_mutations_vs_samples | Loading proteins ..\n",
      "2022-06-18 19:53:50 |\u001B[36m DEBUG    \u001B[0m| src.helpers.helpers_analysis.binary_matrix_mutations_vs_samples | Loading patient to snv_data ..\n"
     ]
    },
    {
     "data": {
      "text/plain": "  0%|          | 0/985 [00:00<?, ?it/s]",
      "application/vnd.jupyter.widget-view+json": {
       "version_major": 2,
       "version_minor": 0,
       "model_id": "a9db7193d154442a98790a6285bf0c0f"
      }
     },
     "metadata": {},
     "output_type": "display_data"
    },
    {
     "name": "stdout",
     "output_type": "stream",
     "text": [
      "2022-06-18 19:54:02 |\u001B[36m DEBUG    \u001B[0m| src.helpers.helpers_analysis.binary_matrix_mutations_vs_samples | Constructing binary matrix ..\n"
     ]
    },
    {
     "data": {
      "text/plain": "  0%|          | 0/985 [00:00<?, ?it/s]",
      "application/vnd.jupyter.widget-view+json": {
       "version_major": 2,
       "version_minor": 0,
       "model_id": "419ad8be1b5341e983bd198f6435a72a"
      }
     },
     "metadata": {},
     "output_type": "display_data"
    },
    {
     "name": "stdout",
     "output_type": "stream",
     "text": [
      "2022-06-18 19:54:49 |\u001B[32m INFO     \u001B[0m| src.helpers.helpers_analysis.binary_matrix_mutations_vs_samples | Constructing binary matrix completed.\n",
      "(59, 985)\n",
      "2022-06-18 19:54:49 |\u001B[32m INFO     \u001B[0m| src.helpers.helpers_analysis.binary_matrix_mutations_vs_samples | BRCA_binary_matrix_2022-06-18_filtered.csv.gz is exported (compressed).\n"
     ]
    }
   ],
   "source": [
    "brca_binary_matrix = BinaryMatrix(\"BRCA\", BRCA_SNV_PATH, BRCA_FILTERING_PAIRS_FILE_PATH)\n",
    "print(brca_binary_matrix.binary_matrix.shape)\n",
    "brca_binary_matrix.extract(compress=True)\n",
    "del brca_binary_matrix"
   ],
   "metadata": {
    "collapsed": false,
    "pycharm": {
     "name": "#%%\n"
    }
   }
  },
  {
   "cell_type": "code",
   "execution_count": 4,
   "outputs": [
    {
     "name": "stdout",
     "output_type": "stream",
     "text": [
      "2022-06-18 19:54:49 |\u001B[36m DEBUG    \u001B[0m| src.helpers.helpers_analysis.binary_matrix_mutations_vs_samples | Loading SNV data simplified ..\n",
      "2022-06-18 19:54:49 |\u001B[32m INFO     \u001B[0m| src.helpers.helpers_analysis.loaders | Loading COAD SNV datasets ..\n",
      "2022-06-18 19:55:00 |\u001B[36m DEBUG    \u001B[0m| src.helpers.helpers_analysis.loaders | COAD SNV data size: (264786, 121)\n",
      "2022-06-18 19:55:01 |\u001B[36m DEBUG    \u001B[0m| src.helpers.helpers_analysis.loaders | COAD SNV data processed size: (126470, 121)\n",
      "2022-06-18 19:55:01 |\u001B[32m INFO     \u001B[0m| src.helpers.helpers_analysis.loaders | COAD SNV datasets are loaded.\n",
      "2022-06-18 19:55:01 |\u001B[36m DEBUG    \u001B[0m| src.helpers.helpers_analysis.binary_matrix_mutations_vs_samples | Loading patient ids ..\n",
      "2022-06-18 19:55:01 |\u001B[36m DEBUG    \u001B[0m| src.helpers.helpers_analysis.binary_matrix_mutations_vs_samples | Loading proteins ..\n",
      "2022-06-18 19:55:01 |\u001B[36m DEBUG    \u001B[0m| src.helpers.helpers_analysis.binary_matrix_mutations_vs_samples | Loading patient to snv_data ..\n"
     ]
    },
    {
     "data": {
      "text/plain": "  0%|          | 0/399 [00:00<?, ?it/s]",
      "application/vnd.jupyter.widget-view+json": {
       "version_major": 2,
       "version_minor": 0,
       "model_id": "d6453cde696c4326886cd67768f40492"
      }
     },
     "metadata": {},
     "output_type": "display_data"
    },
    {
     "name": "stdout",
     "output_type": "stream",
     "text": [
      "2022-06-18 19:55:06 |\u001B[36m DEBUG    \u001B[0m| src.helpers.helpers_analysis.binary_matrix_mutations_vs_samples | Constructing binary matrix ..\n"
     ]
    },
    {
     "data": {
      "text/plain": "  0%|          | 0/399 [00:00<?, ?it/s]",
      "application/vnd.jupyter.widget-view+json": {
       "version_major": 2,
       "version_minor": 0,
       "model_id": "ce130efc14da4e1e886e1af193a29a0e"
      }
     },
     "metadata": {},
     "output_type": "display_data"
    },
    {
     "name": "stdout",
     "output_type": "stream",
     "text": [
      "2022-06-18 19:56:05 |\u001B[32m INFO     \u001B[0m| src.helpers.helpers_analysis.binary_matrix_mutations_vs_samples | Constructing binary matrix completed.\n",
      "(219, 399)\n",
      "2022-06-18 19:56:05 |\u001B[32m INFO     \u001B[0m| src.helpers.helpers_analysis.binary_matrix_mutations_vs_samples | COAD_binary_matrix_2022-06-18_filtered.csv.gz is exported (compressed).\n"
     ]
    }
   ],
   "source": [
    "coad_binary_matrix = BinaryMatrix(\"COAD\", COAD_SNV_PATH, COAD_FILTERING_PAIRS_FILE_PATH)\n",
    "print(coad_binary_matrix.binary_matrix.shape)\n",
    "coad_binary_matrix.extract(compress=True)\n",
    "del coad_binary_matrix"
   ],
   "metadata": {
    "collapsed": false,
    "pycharm": {
     "name": "#%%\n"
    }
   }
  },
  {
   "cell_type": "code",
   "execution_count": 5,
   "outputs": [
    {
     "name": "stdout",
     "output_type": "stream",
     "text": [
      "2022-06-18 19:56:05 |\u001B[36m DEBUG    \u001B[0m| src.helpers.helpers_analysis.binary_matrix_mutations_vs_samples | Loading SNV data simplified ..\n",
      "2022-06-18 19:56:05 |\u001B[32m INFO     \u001B[0m| src.helpers.helpers_analysis.loaders | Loading ESCA SNV datasets ..\n",
      "2022-06-18 19:56:07 |\u001B[36m DEBUG    \u001B[0m| src.helpers.helpers_analysis.loaders | ESCA SNV data size: (45313, 121)\n",
      "2022-06-18 19:56:07 |\u001B[36m DEBUG    \u001B[0m| src.helpers.helpers_analysis.loaders | ESCA SNV data processed size: (19497, 121)\n",
      "2022-06-18 19:56:07 |\u001B[32m INFO     \u001B[0m| src.helpers.helpers_analysis.loaders | ESCA SNV datasets are loaded.\n",
      "2022-06-18 19:56:07 |\u001B[36m DEBUG    \u001B[0m| src.helpers.helpers_analysis.binary_matrix_mutations_vs_samples | Loading patient ids ..\n",
      "2022-06-18 19:56:07 |\u001B[36m DEBUG    \u001B[0m| src.helpers.helpers_analysis.binary_matrix_mutations_vs_samples | Loading proteins ..\n",
      "2022-06-18 19:56:07 |\u001B[36m DEBUG    \u001B[0m| src.helpers.helpers_analysis.binary_matrix_mutations_vs_samples | Loading patient to snv_data ..\n"
     ]
    },
    {
     "data": {
      "text/plain": "  0%|          | 0/184 [00:00<?, ?it/s]",
      "application/vnd.jupyter.widget-view+json": {
       "version_major": 2,
       "version_minor": 0,
       "model_id": "f1dbafa7033b404a98943ef034d9e7c5"
      }
     },
     "metadata": {},
     "output_type": "display_data"
    },
    {
     "name": "stdout",
     "output_type": "stream",
     "text": [
      "2022-06-18 19:56:07 |\u001B[36m DEBUG    \u001B[0m| src.helpers.helpers_analysis.binary_matrix_mutations_vs_samples | Constructing binary matrix ..\n"
     ]
    },
    {
     "data": {
      "text/plain": "  0%|          | 0/184 [00:00<?, ?it/s]",
      "application/vnd.jupyter.widget-view+json": {
       "version_major": 2,
       "version_minor": 0,
       "model_id": "4b9fd3f2d9684b2fa28db63c37a871de"
      }
     },
     "metadata": {},
     "output_type": "display_data"
    },
    {
     "name": "stdout",
     "output_type": "stream",
     "text": [
      "2022-06-18 19:56:14 |\u001B[32m INFO     \u001B[0m| src.helpers.helpers_analysis.binary_matrix_mutations_vs_samples | Constructing binary matrix completed.\n",
      "(16, 184)\n",
      "2022-06-18 19:56:14 |\u001B[32m INFO     \u001B[0m| src.helpers.helpers_analysis.binary_matrix_mutations_vs_samples | ESCA_binary_matrix_2022-06-18_filtered.csv.gz is exported (compressed).\n"
     ]
    }
   ],
   "source": [
    "esca_binary_matrix = BinaryMatrix(\"ESCA\", ESCA_SNV_PATH, ESCA_FILTERING_PAIRS_FILE_PATH)\n",
    "print(esca_binary_matrix.binary_matrix.shape)\n",
    "esca_binary_matrix.extract(compress=True)\n",
    "del esca_binary_matrix"
   ],
   "metadata": {
    "collapsed": false,
    "pycharm": {
     "name": "#%%\n"
    }
   }
  },
  {
   "cell_type": "code",
   "execution_count": 6,
   "outputs": [
    {
     "name": "stdout",
     "output_type": "stream",
     "text": [
      "2022-06-18 19:56:14 |\u001B[36m DEBUG    \u001B[0m| src.helpers.helpers_analysis.binary_matrix_mutations_vs_samples | Loading SNV data simplified ..\n",
      "2022-06-18 19:56:14 |\u001B[32m INFO     \u001B[0m| src.helpers.helpers_analysis.loaders | Loading GBM SNV datasets ..\n",
      "2022-06-18 19:56:17 |\u001B[36m DEBUG    \u001B[0m| src.helpers.helpers_analysis.loaders | GBM SNV data size: (82765, 121)\n",
      "2022-06-18 19:56:17 |\u001B[36m DEBUG    \u001B[0m| src.helpers.helpers_analysis.loaders | GBM SNV data processed size: (46847, 121)\n",
      "2022-06-18 19:56:17 |\u001B[32m INFO     \u001B[0m| src.helpers.helpers_analysis.loaders | GBM SNV datasets are loaded.\n",
      "2022-06-18 19:56:17 |\u001B[36m DEBUG    \u001B[0m| src.helpers.helpers_analysis.binary_matrix_mutations_vs_samples | Loading patient ids ..\n",
      "2022-06-18 19:56:17 |\u001B[36m DEBUG    \u001B[0m| src.helpers.helpers_analysis.binary_matrix_mutations_vs_samples | Loading proteins ..\n",
      "2022-06-18 19:56:17 |\u001B[36m DEBUG    \u001B[0m| src.helpers.helpers_analysis.binary_matrix_mutations_vs_samples | Loading patient to snv_data ..\n"
     ]
    },
    {
     "data": {
      "text/plain": "  0%|          | 0/392 [00:00<?, ?it/s]",
      "application/vnd.jupyter.widget-view+json": {
       "version_major": 2,
       "version_minor": 0,
       "model_id": "42a1bd17d0ae49ca9e4b93ddeace5181"
      }
     },
     "metadata": {},
     "output_type": "display_data"
    },
    {
     "name": "stdout",
     "output_type": "stream",
     "text": [
      "2022-06-18 19:56:19 |\u001B[36m DEBUG    \u001B[0m| src.helpers.helpers_analysis.binary_matrix_mutations_vs_samples | Constructing binary matrix ..\n"
     ]
    },
    {
     "data": {
      "text/plain": "  0%|          | 0/392 [00:00<?, ?it/s]",
      "application/vnd.jupyter.widget-view+json": {
       "version_major": 2,
       "version_minor": 0,
       "model_id": "79efc984cf024c578f812f139e798309"
      }
     },
     "metadata": {},
     "output_type": "display_data"
    },
    {
     "name": "stdout",
     "output_type": "stream",
     "text": [
      "2022-06-18 19:56:39 |\u001B[32m INFO     \u001B[0m| src.helpers.helpers_analysis.binary_matrix_mutations_vs_samples | Constructing binary matrix completed.\n",
      "(25, 392)\n",
      "2022-06-18 19:56:39 |\u001B[32m INFO     \u001B[0m| src.helpers.helpers_analysis.binary_matrix_mutations_vs_samples | GBM_binary_matrix_2022-06-18_filtered.csv.gz is exported (compressed).\n"
     ]
    }
   ],
   "source": [
    "gbm_binary_matrix = BinaryMatrix(\"GBM\", GBM_SNV_PATH, GBM_FILTERING_PAIRS_FILE_PATH)\n",
    "print(gbm_binary_matrix.binary_matrix.shape)\n",
    "gbm_binary_matrix.extract(compress=True)\n",
    "del gbm_binary_matrix"
   ],
   "metadata": {
    "collapsed": false,
    "pycharm": {
     "name": "#%%\n"
    }
   }
  },
  {
   "cell_type": "code",
   "execution_count": 7,
   "outputs": [
    {
     "name": "stdout",
     "output_type": "stream",
     "text": [
      "2022-06-18 19:56:39 |\u001B[36m DEBUG    \u001B[0m| src.helpers.helpers_analysis.binary_matrix_mutations_vs_samples | Loading SNV data simplified ..\n",
      "2022-06-18 19:56:39 |\u001B[32m INFO     \u001B[0m| src.helpers.helpers_analysis.loaders | Loading HNSC SNV datasets ..\n",
      "2022-06-18 19:56:43 |\u001B[36m DEBUG    \u001B[0m| src.helpers.helpers_analysis.loaders | HNSC SNV data size: (102309, 121)\n",
      "2022-06-18 19:56:43 |\u001B[36m DEBUG    \u001B[0m| src.helpers.helpers_analysis.loaders | HNSC SNV data processed size: (54883, 121)\n",
      "2022-06-18 19:56:43 |\u001B[32m INFO     \u001B[0m| src.helpers.helpers_analysis.loaders | HNSC SNV datasets are loaded.\n",
      "2022-06-18 19:56:44 |\u001B[36m DEBUG    \u001B[0m| src.helpers.helpers_analysis.binary_matrix_mutations_vs_samples | Loading patient ids ..\n",
      "2022-06-18 19:56:44 |\u001B[36m DEBUG    \u001B[0m| src.helpers.helpers_analysis.binary_matrix_mutations_vs_samples | Loading proteins ..\n",
      "2022-06-18 19:56:44 |\u001B[36m DEBUG    \u001B[0m| src.helpers.helpers_analysis.binary_matrix_mutations_vs_samples | Loading patient to snv_data ..\n"
     ]
    },
    {
     "data": {
      "text/plain": "  0%|          | 0/507 [00:00<?, ?it/s]",
      "application/vnd.jupyter.widget-view+json": {
       "version_major": 2,
       "version_minor": 0,
       "model_id": "b9f85c122900461a977d7e96e01f3e4d"
      }
     },
     "metadata": {},
     "output_type": "display_data"
    },
    {
     "name": "stdout",
     "output_type": "stream",
     "text": [
      "2022-06-18 19:56:47 |\u001B[36m DEBUG    \u001B[0m| src.helpers.helpers_analysis.binary_matrix_mutations_vs_samples | Constructing binary matrix ..\n"
     ]
    },
    {
     "data": {
      "text/plain": "  0%|          | 0/507 [00:00<?, ?it/s]",
      "application/vnd.jupyter.widget-view+json": {
       "version_major": 2,
       "version_minor": 0,
       "model_id": "95936fed1ee248b8ad8a560366a3d1ea"
      }
     },
     "metadata": {},
     "output_type": "display_data"
    },
    {
     "name": "stdout",
     "output_type": "stream",
     "text": [
      "2022-06-18 19:57:12 |\u001B[32m INFO     \u001B[0m| src.helpers.helpers_analysis.binary_matrix_mutations_vs_samples | Constructing binary matrix completed.\n",
      "(121, 507)\n",
      "2022-06-18 19:57:12 |\u001B[32m INFO     \u001B[0m| src.helpers.helpers_analysis.binary_matrix_mutations_vs_samples | HNSC_binary_matrix_2022-06-18_filtered.csv.gz is exported (compressed).\n"
     ]
    }
   ],
   "source": [
    "hnsc_binary_matrix = BinaryMatrix(\"HNSC\", HNSC_SNV_PATH, HNSC_FILTERING_PAIRS_FILE_PATH)\n",
    "print(hnsc_binary_matrix.binary_matrix.shape)\n",
    "hnsc_binary_matrix.extract(compress=True)\n",
    "del hnsc_binary_matrix"
   ],
   "metadata": {
    "collapsed": false,
    "pycharm": {
     "name": "#%%\n"
    }
   }
  },
  {
   "cell_type": "code",
   "execution_count": 8,
   "outputs": [
    {
     "name": "stdout",
     "output_type": "stream",
     "text": [
      "2022-06-18 19:57:12 |\u001B[36m DEBUG    \u001B[0m| src.helpers.helpers_analysis.binary_matrix_mutations_vs_samples | Loading SNV data simplified ..\n",
      "2022-06-18 19:57:12 |\u001B[32m INFO     \u001B[0m| src.helpers.helpers_analysis.loaders | Loading OV SNV datasets ..\n",
      "2022-06-18 19:57:15 |\u001B[36m DEBUG    \u001B[0m| src.helpers.helpers_analysis.loaders | OV SNV data size: (75168, 121)\n",
      "2022-06-18 19:57:15 |\u001B[36m DEBUG    \u001B[0m| src.helpers.helpers_analysis.loaders | OV SNV data processed size: (38486, 121)\n",
      "2022-06-18 19:57:15 |\u001B[32m INFO     \u001B[0m| src.helpers.helpers_analysis.loaders | OV SNV datasets are loaded.\n",
      "2022-06-18 19:57:16 |\u001B[36m DEBUG    \u001B[0m| src.helpers.helpers_analysis.binary_matrix_mutations_vs_samples | Loading patient ids ..\n",
      "2022-06-18 19:57:16 |\u001B[36m DEBUG    \u001B[0m| src.helpers.helpers_analysis.binary_matrix_mutations_vs_samples | Loading proteins ..\n",
      "2022-06-18 19:57:16 |\u001B[36m DEBUG    \u001B[0m| src.helpers.helpers_analysis.binary_matrix_mutations_vs_samples | Loading patient to snv_data ..\n"
     ]
    },
    {
     "data": {
      "text/plain": "  0%|          | 0/436 [00:00<?, ?it/s]",
      "application/vnd.jupyter.widget-view+json": {
       "version_major": 2,
       "version_minor": 0,
       "model_id": "68f4bd0ac85f4cef90bc359ff59795d4"
      }
     },
     "metadata": {},
     "output_type": "display_data"
    },
    {
     "name": "stdout",
     "output_type": "stream",
     "text": [
      "2022-06-18 19:57:18 |\u001B[36m DEBUG    \u001B[0m| src.helpers.helpers_analysis.binary_matrix_mutations_vs_samples | Constructing binary matrix ..\n"
     ]
    },
    {
     "data": {
      "text/plain": "  0%|          | 0/436 [00:00<?, ?it/s]",
      "application/vnd.jupyter.widget-view+json": {
       "version_major": 2,
       "version_minor": 0,
       "model_id": "843557d94f1d43c4ba7ef47a6c57500c"
      }
     },
     "metadata": {},
     "output_type": "display_data"
    },
    {
     "name": "stdout",
     "output_type": "stream",
     "text": [
      "2022-06-18 19:57:34 |\u001B[32m INFO     \u001B[0m| src.helpers.helpers_analysis.binary_matrix_mutations_vs_samples | Constructing binary matrix completed.\n",
      "(34, 436)\n",
      "2022-06-18 19:57:34 |\u001B[32m INFO     \u001B[0m| src.helpers.helpers_analysis.binary_matrix_mutations_vs_samples | OV_binary_matrix_2022-06-18_filtered.csv.gz is exported (compressed).\n"
     ]
    }
   ],
   "source": [
    "ov_binary_matrix = BinaryMatrix(\"OV\", OV_SNV_PATH, OV_FILTERING_PAIRS_FILE_PATH)\n",
    "print(ov_binary_matrix.binary_matrix.shape)\n",
    "ov_binary_matrix.extract(compress=True)\n",
    "del ov_binary_matrix"
   ],
   "metadata": {
    "collapsed": false,
    "pycharm": {
     "name": "#%%\n"
    }
   }
  },
  {
   "cell_type": "code",
   "execution_count": 8,
   "id": "7b1bcf06-9178-4947-8442-14dfd36a485b",
   "metadata": {
    "pycharm": {
     "name": "#%%\n"
    }
   },
   "outputs": [],
   "source": []
  },
  {
   "cell_type": "code",
   "execution_count": 9,
   "outputs": [
    {
     "name": "stdout",
     "output_type": "stream",
     "text": [
      "end\n"
     ]
    }
   ],
   "source": [
    "print(\"end\")"
   ],
   "metadata": {
    "collapsed": false,
    "pycharm": {
     "name": "#%%\n"
    }
   }
  },
  {
   "cell_type": "markdown",
   "id": "3bfde126-3e5d-40dd-9918-7a39863a4301",
   "metadata": {
    "pycharm": {
     "name": "#%% md\n"
    }
   },
   "source": [
    "---"
   ]
  },
  {
   "cell_type": "code",
   "execution_count": null,
   "outputs": [],
   "source": [],
   "metadata": {
    "collapsed": false,
    "pycharm": {
     "name": "#%%\n"
    }
   }
  }
 ],
 "metadata": {
  "kernelspec": {
   "name": "predator",
   "language": "python",
   "display_name": "Predator"
  },
  "language_info": {
   "codemirror_mode": {
    "name": "ipython",
    "version": 3
   },
   "file_extension": ".py",
   "mimetype": "text/x-python",
   "name": "python",
   "nbconvert_exporter": "python",
   "pygments_lexer": "ipython3",
   "version": "3.8.10"
  }
 },
 "nbformat": 4,
 "nbformat_minor": 5
}