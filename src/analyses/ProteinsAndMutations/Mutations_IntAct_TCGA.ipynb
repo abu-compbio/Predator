{
 "cells": [
  {
   "cell_type": "markdown",
   "source": [
    "# Mutations IntAct TCGA"
   ],
   "metadata": {
    "collapsed": false,
    "pycharm": {
     "name": "#%% md\n"
    }
   }
  },
  {
   "cell_type": "markdown",
   "source": [
    "_The number of mutations predicted to influence an interaction in the TCGA datasets that were already present in the training set should be mentioned?\n",
    "We also should give the list of the 164 proteins included in the training dataset_."
   ],
   "metadata": {
    "collapsed": false,
    "pycharm": {
     "name": "#%% md\n"
    }
   }
  },
  {
   "cell_type": "code",
   "execution_count": 1,
   "outputs": [
    {
     "name": "stdout",
     "output_type": "stream",
     "text": [
      "\u001B[32mJune 21, 2022 14:56:24\u001B[0m\n"
     ]
    }
   ],
   "source": [
    "from datetime import datetime\n",
    "\n",
    "print(\"\\033[32m{}\\033[0m\".format(datetime.now().strftime(\"%B %d, %Y %H:%M:%S\")))"
   ],
   "metadata": {
    "collapsed": false,
    "pycharm": {
     "name": "#%%\n"
    }
   }
  },
  {
   "cell_type": "code",
   "execution_count": 2,
   "outputs": [],
   "source": [
    "import pandas as pd\n",
    "import os\n",
    "\n",
    "from src.helpers.helpers_predator.common import load_predator\n",
    "from src.helpers.helpers_analysis.convert_primary_isomer import convert_primary_isomer\n",
    "\n",
    "PREDATOR_PATH = \"PredatorModels/PredatorModel_2022-06-16/cc84a54e/predator.pkl\"\n",
    "\n",
    "os.chdir(\"../../\")\n",
    "\n",
    "# Reflect changes in the modules immediately.\n",
    "%load_ext autoreload\n",
    "%autoreload 2"
   ],
   "metadata": {
    "collapsed": false,
    "pycharm": {
     "name": "#%%\n"
    }
   }
  },
  {
   "cell_type": "markdown",
   "source": [
    "# Interactions in IntAct data"
   ],
   "metadata": {
    "collapsed": false,
    "pycharm": {
     "name": "#%% md\n"
    }
   }
  },
  {
   "cell_type": "code",
   "execution_count": 3,
   "outputs": [
    {
     "name": "stdout",
     "output_type": "stream",
     "text": [
      "2022-06-21 14:56:26 |\u001B[32m INFO     \u001B[0m| src.helpers.helpers_predator.common | Predator object PredatorModels/PredatorModel_2022-06-16/cc84a54e/predator.pkl is loaded successfully.\n"
     ]
    }
   ],
   "source": [
    "predator = load_predator(PREDATOR_PATH)"
   ],
   "metadata": {
    "collapsed": false,
    "pycharm": {
     "name": "#%%\n"
    }
   }
  },
  {
   "cell_type": "code",
   "execution_count": 4,
   "outputs": [
    {
     "data": {
      "text/plain": "[83811, 14593, 3279, 97197, 36049, 32099, 29257, 18290, 96531, 13435]"
     },
     "execution_count": 4,
     "metadata": {},
     "output_type": "execute_result"
    }
   ],
   "source": [
    "predator.data_materials.random_seeds[:10]"
   ],
   "metadata": {
    "collapsed": false,
    "pycharm": {
     "name": "#%%\n"
    }
   }
  },
  {
   "cell_type": "code",
   "execution_count": 5,
   "outputs": [
    {
     "data": {
      "text/plain": "    UniProt_ID Mutation Interactor_UniProt_ID\n0       Q9BPZ3    F118A                P11940\n1       P01116     Y40C                P50749\n2       Q96QK1    F534D                Q9UBQ0\n3       Q96QK1    F534D              Q9UBQ0-2\n4     O43521-3     G66A                Q07812\n..         ...      ...                   ...\n735     P84243     Q94A              Q9UER7-3\n736     Q96QK1    L589D                Q9UBQ0\n737     Q96QK1    L589D              Q9UBQ0-2\n738     P23297     F72L                P25815\n739     Q15836     L46P                O43752\n\n[740 rows x 3 columns]",
      "text/html": "<div>\n<style scoped>\n    .dataframe tbody tr th:only-of-type {\n        vertical-align: middle;\n    }\n\n    .dataframe tbody tr th {\n        vertical-align: top;\n    }\n\n    .dataframe thead th {\n        text-align: right;\n    }\n</style>\n<table border=\"1\" class=\"dataframe\">\n  <thead>\n    <tr style=\"text-align: right;\">\n      <th></th>\n      <th>UniProt_ID</th>\n      <th>Mutation</th>\n      <th>Interactor_UniProt_ID</th>\n    </tr>\n  </thead>\n  <tbody>\n    <tr>\n      <th>0</th>\n      <td>Q9BPZ3</td>\n      <td>F118A</td>\n      <td>P11940</td>\n    </tr>\n    <tr>\n      <th>1</th>\n      <td>P01116</td>\n      <td>Y40C</td>\n      <td>P50749</td>\n    </tr>\n    <tr>\n      <th>2</th>\n      <td>Q96QK1</td>\n      <td>F534D</td>\n      <td>Q9UBQ0</td>\n    </tr>\n    <tr>\n      <th>3</th>\n      <td>Q96QK1</td>\n      <td>F534D</td>\n      <td>Q9UBQ0-2</td>\n    </tr>\n    <tr>\n      <th>4</th>\n      <td>O43521-3</td>\n      <td>G66A</td>\n      <td>Q07812</td>\n    </tr>\n    <tr>\n      <th>...</th>\n      <td>...</td>\n      <td>...</td>\n      <td>...</td>\n    </tr>\n    <tr>\n      <th>735</th>\n      <td>P84243</td>\n      <td>Q94A</td>\n      <td>Q9UER7-3</td>\n    </tr>\n    <tr>\n      <th>736</th>\n      <td>Q96QK1</td>\n      <td>L589D</td>\n      <td>Q9UBQ0</td>\n    </tr>\n    <tr>\n      <th>737</th>\n      <td>Q96QK1</td>\n      <td>L589D</td>\n      <td>Q9UBQ0-2</td>\n    </tr>\n    <tr>\n      <th>738</th>\n      <td>P23297</td>\n      <td>F72L</td>\n      <td>P25815</td>\n    </tr>\n    <tr>\n      <th>739</th>\n      <td>Q15836</td>\n      <td>L46P</td>\n      <td>O43752</td>\n    </tr>\n  </tbody>\n</table>\n<p>740 rows × 3 columns</p>\n</div>"
     },
     "execution_count": 5,
     "metadata": {},
     "output_type": "execute_result"
    }
   ],
   "source": [
    "intact_data = predator.data_materials[\"train_data_processed\"][[\"UniProt_ID\", \"Mutation\", \"Interactor_UniProt_ID\"]].copy()\n",
    "intact_data"
   ],
   "metadata": {
    "collapsed": false,
    "pycharm": {
     "name": "#%%\n"
    }
   }
  },
  {
   "cell_type": "code",
   "execution_count": 6,
   "outputs": [],
   "source": [
    "intact_data = convert_primary_isomer(\"UniProt_ID\", intact_data)\n",
    "intact_data = convert_primary_isomer(\"Interactor_UniProt_ID\", intact_data)"
   ],
   "metadata": {
    "collapsed": false,
    "pycharm": {
     "name": "#%%\n"
    }
   }
  },
  {
   "cell_type": "code",
   "execution_count": 7,
   "outputs": [
    {
     "data": {
      "text/plain": "    UniProt_ID Mutation Interactor_UniProt_ID\n0       Q9BPZ3    F118A                P11940\n1       P01116     Y40C                P50749\n2       Q96QK1    F534D                Q9UBQ0\n3       O43521     G66A                Q07812\n4       Q13418    Q362H                Q9NVD7\n..         ...      ...                   ...\n434     P35908    L484P                O76015\n435     P84243     Q94A                Q9UER7\n436     Q96QK1    L589D                Q9UBQ0\n437     P23297     F72L                P25815\n438     Q15836     L46P                O43752\n\n[439 rows x 3 columns]",
      "text/html": "<div>\n<style scoped>\n    .dataframe tbody tr th:only-of-type {\n        vertical-align: middle;\n    }\n\n    .dataframe tbody tr th {\n        vertical-align: top;\n    }\n\n    .dataframe thead th {\n        text-align: right;\n    }\n</style>\n<table border=\"1\" class=\"dataframe\">\n  <thead>\n    <tr style=\"text-align: right;\">\n      <th></th>\n      <th>UniProt_ID</th>\n      <th>Mutation</th>\n      <th>Interactor_UniProt_ID</th>\n    </tr>\n  </thead>\n  <tbody>\n    <tr>\n      <th>0</th>\n      <td>Q9BPZ3</td>\n      <td>F118A</td>\n      <td>P11940</td>\n    </tr>\n    <tr>\n      <th>1</th>\n      <td>P01116</td>\n      <td>Y40C</td>\n      <td>P50749</td>\n    </tr>\n    <tr>\n      <th>2</th>\n      <td>Q96QK1</td>\n      <td>F534D</td>\n      <td>Q9UBQ0</td>\n    </tr>\n    <tr>\n      <th>3</th>\n      <td>O43521</td>\n      <td>G66A</td>\n      <td>Q07812</td>\n    </tr>\n    <tr>\n      <th>4</th>\n      <td>Q13418</td>\n      <td>Q362H</td>\n      <td>Q9NVD7</td>\n    </tr>\n    <tr>\n      <th>...</th>\n      <td>...</td>\n      <td>...</td>\n      <td>...</td>\n    </tr>\n    <tr>\n      <th>434</th>\n      <td>P35908</td>\n      <td>L484P</td>\n      <td>O76015</td>\n    </tr>\n    <tr>\n      <th>435</th>\n      <td>P84243</td>\n      <td>Q94A</td>\n      <td>Q9UER7</td>\n    </tr>\n    <tr>\n      <th>436</th>\n      <td>Q96QK1</td>\n      <td>L589D</td>\n      <td>Q9UBQ0</td>\n    </tr>\n    <tr>\n      <th>437</th>\n      <td>P23297</td>\n      <td>F72L</td>\n      <td>P25815</td>\n    </tr>\n    <tr>\n      <th>438</th>\n      <td>Q15836</td>\n      <td>L46P</td>\n      <td>O43752</td>\n    </tr>\n  </tbody>\n</table>\n<p>439 rows × 3 columns</p>\n</div>"
     },
     "execution_count": 7,
     "metadata": {},
     "output_type": "execute_result"
    }
   ],
   "source": [
    "intact_data_unique_interactions = intact_data.drop_duplicates().reset_index(drop=True)\n",
    "intact_data_unique_interactions"
   ],
   "metadata": {
    "collapsed": false,
    "pycharm": {
     "name": "#%%\n"
    }
   }
  },
  {
   "cell_type": "code",
   "execution_count": 7,
   "outputs": [],
   "source": [],
   "metadata": {
    "collapsed": false,
    "pycharm": {
     "name": "#%%\n"
    }
   }
  },
  {
   "cell_type": "markdown",
   "source": [
    "# Interactions in TCGA data"
   ],
   "metadata": {
    "collapsed": false,
    "pycharm": {
     "name": "#%% md\n"
    }
   }
  },
  {
   "cell_type": "code",
   "execution_count": 8,
   "outputs": [],
   "source": [
    "# I look for only predicted interactions (remember that we do not have predictions for *all* interactions in a given TCGA cohort)"
   ],
   "metadata": {
    "collapsed": false,
    "pycharm": {
     "name": "#%%\n"
    }
   }
  },
  {
   "cell_type": "code",
   "execution_count": 9,
   "outputs": [],
   "source": [
    "BRCA_PREDICTION_PATH = \"../data/predictions_datasets/brca_prediction_2022-06-17/ed35a3a3/predictions_soft_2022-06-17.csv\"\n",
    "COAD_PREDICTION_PATH = \"../data/predictions_datasets/coad_prediction_2022-06-17/84fd283a/predictions_soft_2022-06-17.csv\"\n",
    "ESCA_PREDICTION_PATH = \"../data/predictions_datasets/esca_prediction_2022-06-17/f2d1e99a/predictions_soft_2022-06-17.csv\"\n",
    "GBM_PREDICTION_PATH = \"../data/predictions_datasets/gbm_prediction_2022-06-17/8d7f7caa/predictions_soft_2022-06-17.csv\"\n",
    "HNSC_PREDICTION_PATH = \"../data/predictions_datasets/hnsc_prediction_2022-06-17/76f498d9/predictions_soft_2022-06-17.csv\"\n",
    "OV_PREDICTION_PATH = \"../data/predictions_datasets/ov_prediction_2022-06-17/865d1897/predictions_soft_2022-06-17.csv\""
   ],
   "metadata": {
    "collapsed": false,
    "pycharm": {
     "name": "#%%\n"
    }
   }
  },
  {
   "cell_type": "code",
   "execution_count": 10,
   "outputs": [],
   "source": [
    "brca_predictions = pd.read_csv(BRCA_PREDICTION_PATH)\n",
    "coad_predictions = pd.read_csv(COAD_PREDICTION_PATH)\n",
    "esca_predictions = pd.read_csv(ESCA_PREDICTION_PATH)\n",
    "gbm_predictions = pd.read_csv(GBM_PREDICTION_PATH)\n",
    "hnsc_predictions = pd.read_csv(HNSC_PREDICTION_PATH)\n",
    "ov_predictions = pd.read_csv(OV_PREDICTION_PATH)"
   ],
   "metadata": {
    "collapsed": false,
    "pycharm": {
     "name": "#%%\n"
    }
   }
  },
  {
   "cell_type": "code",
   "execution_count": 11,
   "outputs": [],
   "source": [
    "tcga_predictions = pd.concat(\n",
    "    [\n",
    "        brca_predictions,\n",
    "        coad_predictions,\n",
    "        esca_predictions,\n",
    "        gbm_predictions,\n",
    "        hnsc_predictions,\n",
    "        ov_predictions,\n",
    "    ]\n",
    ")"
   ],
   "metadata": {
    "collapsed": false,
    "pycharm": {
     "name": "#%%\n"
    }
   }
  },
  {
   "cell_type": "code",
   "execution_count": 12,
   "outputs": [
    {
     "data": {
      "text/plain": "     UniProt_ID Mutation Interactor_UniProt_ID\n0        P28062    R216W                P40306\n1        Q15842    E237K                Q14654\n2        Q15842    E237K                P63252\n3        Q9UKS6     R24H                Q9BY11\n4        Q9UKS6     R24H                Q9UNF0\n...         ...      ...                   ...\n2496     P62942    F100L                Q5T7S2\n2497     P42336   H1047R                Q13535\n2498     P42336   H1047R                P27986\n2499     P42336   H1047R                O00459\n2500     P42336   H1047R                P43403\n\n[22101 rows x 3 columns]",
      "text/html": "<div>\n<style scoped>\n    .dataframe tbody tr th:only-of-type {\n        vertical-align: middle;\n    }\n\n    .dataframe tbody tr th {\n        vertical-align: top;\n    }\n\n    .dataframe thead th {\n        text-align: right;\n    }\n</style>\n<table border=\"1\" class=\"dataframe\">\n  <thead>\n    <tr style=\"text-align: right;\">\n      <th></th>\n      <th>UniProt_ID</th>\n      <th>Mutation</th>\n      <th>Interactor_UniProt_ID</th>\n    </tr>\n  </thead>\n  <tbody>\n    <tr>\n      <th>0</th>\n      <td>P28062</td>\n      <td>R216W</td>\n      <td>P40306</td>\n    </tr>\n    <tr>\n      <th>1</th>\n      <td>Q15842</td>\n      <td>E237K</td>\n      <td>Q14654</td>\n    </tr>\n    <tr>\n      <th>2</th>\n      <td>Q15842</td>\n      <td>E237K</td>\n      <td>P63252</td>\n    </tr>\n    <tr>\n      <th>3</th>\n      <td>Q9UKS6</td>\n      <td>R24H</td>\n      <td>Q9BY11</td>\n    </tr>\n    <tr>\n      <th>4</th>\n      <td>Q9UKS6</td>\n      <td>R24H</td>\n      <td>Q9UNF0</td>\n    </tr>\n    <tr>\n      <th>...</th>\n      <td>...</td>\n      <td>...</td>\n      <td>...</td>\n    </tr>\n    <tr>\n      <th>2496</th>\n      <td>P62942</td>\n      <td>F100L</td>\n      <td>Q5T7S2</td>\n    </tr>\n    <tr>\n      <th>2497</th>\n      <td>P42336</td>\n      <td>H1047R</td>\n      <td>Q13535</td>\n    </tr>\n    <tr>\n      <th>2498</th>\n      <td>P42336</td>\n      <td>H1047R</td>\n      <td>P27986</td>\n    </tr>\n    <tr>\n      <th>2499</th>\n      <td>P42336</td>\n      <td>H1047R</td>\n      <td>O00459</td>\n    </tr>\n    <tr>\n      <th>2500</th>\n      <td>P42336</td>\n      <td>H1047R</td>\n      <td>P43403</td>\n    </tr>\n  </tbody>\n</table>\n<p>22101 rows × 3 columns</p>\n</div>"
     },
     "execution_count": 12,
     "metadata": {},
     "output_type": "execute_result"
    }
   ],
   "source": [
    "tcga_interactions = tcga_predictions[[\"UniProt_ID\", \"Mutation\", \"Interactor_UniProt_ID\"]].copy()\n",
    "tcga_interactions"
   ],
   "metadata": {
    "collapsed": false,
    "pycharm": {
     "name": "#%%\n"
    }
   }
  },
  {
   "cell_type": "code",
   "execution_count": 13,
   "outputs": [
    {
     "data": {
      "text/plain": "      UniProt_ID Mutation Interactor_UniProt_ID\n0         P28062    R216W                P40306\n1         Q15842    E237K                Q14654\n2         Q15842    E237K                P63252\n3         Q9UKS6     R24H                Q9BY11\n4         Q9UKS6     R24H                Q9UNF0\n...          ...      ...                   ...\n21184     P24821    T959A                P02751\n21185     P11802    T177I                Q14012\n21186     P11802    T177I                Q16539\n21187     Q86U06    D277H                Q9BWF3\n21188     P20807    I765V                Q8WZ42\n\n[21189 rows x 3 columns]",
      "text/html": "<div>\n<style scoped>\n    .dataframe tbody tr th:only-of-type {\n        vertical-align: middle;\n    }\n\n    .dataframe tbody tr th {\n        vertical-align: top;\n    }\n\n    .dataframe thead th {\n        text-align: right;\n    }\n</style>\n<table border=\"1\" class=\"dataframe\">\n  <thead>\n    <tr style=\"text-align: right;\">\n      <th></th>\n      <th>UniProt_ID</th>\n      <th>Mutation</th>\n      <th>Interactor_UniProt_ID</th>\n    </tr>\n  </thead>\n  <tbody>\n    <tr>\n      <th>0</th>\n      <td>P28062</td>\n      <td>R216W</td>\n      <td>P40306</td>\n    </tr>\n    <tr>\n      <th>1</th>\n      <td>Q15842</td>\n      <td>E237K</td>\n      <td>Q14654</td>\n    </tr>\n    <tr>\n      <th>2</th>\n      <td>Q15842</td>\n      <td>E237K</td>\n      <td>P63252</td>\n    </tr>\n    <tr>\n      <th>3</th>\n      <td>Q9UKS6</td>\n      <td>R24H</td>\n      <td>Q9BY11</td>\n    </tr>\n    <tr>\n      <th>4</th>\n      <td>Q9UKS6</td>\n      <td>R24H</td>\n      <td>Q9UNF0</td>\n    </tr>\n    <tr>\n      <th>...</th>\n      <td>...</td>\n      <td>...</td>\n      <td>...</td>\n    </tr>\n    <tr>\n      <th>21184</th>\n      <td>P24821</td>\n      <td>T959A</td>\n      <td>P02751</td>\n    </tr>\n    <tr>\n      <th>21185</th>\n      <td>P11802</td>\n      <td>T177I</td>\n      <td>Q14012</td>\n    </tr>\n    <tr>\n      <th>21186</th>\n      <td>P11802</td>\n      <td>T177I</td>\n      <td>Q16539</td>\n    </tr>\n    <tr>\n      <th>21187</th>\n      <td>Q86U06</td>\n      <td>D277H</td>\n      <td>Q9BWF3</td>\n    </tr>\n    <tr>\n      <th>21188</th>\n      <td>P20807</td>\n      <td>I765V</td>\n      <td>Q8WZ42</td>\n    </tr>\n  </tbody>\n</table>\n<p>21189 rows × 3 columns</p>\n</div>"
     },
     "execution_count": 13,
     "metadata": {},
     "output_type": "execute_result"
    }
   ],
   "source": [
    "tcga_interactions_unique = tcga_interactions.drop_duplicates().reset_index(drop=True)\n",
    "tcga_interactions_unique"
   ],
   "metadata": {
    "collapsed": false,
    "pycharm": {
     "name": "#%%\n"
    }
   }
  },
  {
   "cell_type": "code",
   "execution_count": 14,
   "outputs": [
    {
     "data": {
      "text/plain": "21189"
     },
     "execution_count": 14,
     "metadata": {},
     "output_type": "execute_result"
    }
   ],
   "source": [
    "21189"
   ],
   "metadata": {
    "collapsed": false,
    "pycharm": {
     "name": "#%%\n"
    }
   }
  },
  {
   "cell_type": "code",
   "execution_count": 15,
   "outputs": [
    {
     "data": {
      "text/plain": "  UniProt_ID Mutation Interactor_UniProt_ID\n0     P42773     T69A                Q00534\n1     Q8IYM1    D197N                Q8WYJ6\n2     Q8IYM1    D197N                Q14141\n3     P21860    G284R                P04626",
      "text/html": "<div>\n<style scoped>\n    .dataframe tbody tr th:only-of-type {\n        vertical-align: middle;\n    }\n\n    .dataframe tbody tr th {\n        vertical-align: top;\n    }\n\n    .dataframe thead th {\n        text-align: right;\n    }\n</style>\n<table border=\"1\" class=\"dataframe\">\n  <thead>\n    <tr style=\"text-align: right;\">\n      <th></th>\n      <th>UniProt_ID</th>\n      <th>Mutation</th>\n      <th>Interactor_UniProt_ID</th>\n    </tr>\n  </thead>\n  <tbody>\n    <tr>\n      <th>0</th>\n      <td>P42773</td>\n      <td>T69A</td>\n      <td>Q00534</td>\n    </tr>\n    <tr>\n      <th>1</th>\n      <td>Q8IYM1</td>\n      <td>D197N</td>\n      <td>Q8WYJ6</td>\n    </tr>\n    <tr>\n      <th>2</th>\n      <td>Q8IYM1</td>\n      <td>D197N</td>\n      <td>Q14141</td>\n    </tr>\n    <tr>\n      <th>3</th>\n      <td>P21860</td>\n      <td>G284R</td>\n      <td>P04626</td>\n    </tr>\n  </tbody>\n</table>\n</div>"
     },
     "execution_count": 15,
     "metadata": {},
     "output_type": "execute_result"
    }
   ],
   "source": [
    "pd.merge(intact_data_unique_interactions, tcga_interactions_unique, how='inner')"
   ],
   "metadata": {
    "collapsed": false,
    "pycharm": {
     "name": "#%%\n"
    }
   }
  },
  {
   "cell_type": "code",
   "execution_count": 16,
   "outputs": [
    {
     "name": "stdout",
     "output_type": "stream",
     "text": [
      "|    | UniProt_ID   | Mutation   | Interactor_UniProt_ID   |\n",
      "|---:|:-------------|:-----------|:------------------------|\n",
      "|  0 | P42773       | T69A       | Q00534                  |\n",
      "|  1 | Q8IYM1       | D197N      | Q8WYJ6                  |\n",
      "|  2 | Q8IYM1       | D197N      | Q14141                  |\n",
      "|  3 | P21860       | G284R      | P04626                  |\n"
     ]
    }
   ],
   "source": [
    "print(pd.merge(intact_data_unique_interactions, tcga_interactions_unique, how='inner').to_markdown())"
   ],
   "metadata": {
    "collapsed": false,
    "pycharm": {
     "name": "#%%\n"
    }
   }
  },
  {
   "cell_type": "code",
   "execution_count": 17,
   "outputs": [
    {
     "name": "stdout",
     "output_type": "stream",
     "text": [
      "[('P21860', 'G284R', 'P04626'), ('P42773', 'T69A', 'Q00534'), ('Q8IYM1', 'D197N', 'Q14141'), ('Q8IYM1', 'D197N', 'Q8WYJ6')]\n"
     ]
    }
   ],
   "source": [
    "# alternative way of finding the common triplets using\n",
    "def get_array_of_tuples(df):\n",
    "    return list(zip(*map(df.get, df)))\n",
    "\n",
    "print(\n",
    "    [\n",
    "        interaction for interaction\n",
    "        in get_array_of_tuples(tcga_interactions_unique)\n",
    "        if interaction in get_array_of_tuples(intact_data_unique_interactions)\n",
    "    ]\n",
    ")"
   ],
   "metadata": {
    "collapsed": false,
    "pycharm": {
     "name": "#%%\n"
    }
   }
  },
  {
   "cell_type": "code",
   "execution_count": null,
   "outputs": [],
   "source": [],
   "metadata": {
    "collapsed": false,
    "pycharm": {
     "name": "#%%\n"
    }
   }
  },
  {
   "cell_type": "code",
   "execution_count": null,
   "outputs": [],
   "source": [],
   "metadata": {
    "collapsed": false,
    "pycharm": {
     "name": "#%%\n"
    }
   }
  }
 ],
 "metadata": {
  "kernelspec": {
   "name": "predator",
   "language": "python",
   "display_name": "Predator"
  },
  "language_info": {
   "codemirror_mode": {
    "name": "ipython",
    "version": 2
   },
   "file_extension": ".py",
   "mimetype": "text/x-python",
   "name": "python",
   "nbconvert_exporter": "python",
   "pygments_lexer": "ipython2",
   "version": "2.7.6"
  }
 },
 "nbformat": 4,
 "nbformat_minor": 0
}