{
 "cells": [
  {
   "cell_type": "markdown",
   "metadata": {
    "collapsed": true,
    "pycharm": {
     "name": "#%% md\n"
    }
   },
   "source": [
    "# Cancer Subtypes"
   ]
  },
  {
   "cell_type": "code",
   "execution_count": 1,
   "outputs": [
    {
     "name": "stderr",
     "output_type": "stream",
     "text": [
      "UsageError: Line magic function `%` not found.\n"
     ]
    }
   ],
   "source": [
    "from typing import List\n",
    "\n",
    "import pandas as pd\n",
    "from pandas import DataFrame\n",
    "from IPython.display import display\n",
    "\n",
    "BRCA_PATIENT_INTERACTION_DATA_PATH = \"../../../data/patient_interaction_datasets/BRCA_patient_interactions_analysis_table_2022-06-17.xlsx\"\n",
    "PATIENT_CLINICAL_DATA_PATH = \"brca_tcga_pan_can_atlas_2018_clinical_data.tsv\"\n",
    "\n",
    "% load_ext autoreload\n",
    "% autoreload 2"
   ],
   "metadata": {
    "collapsed": false,
    "pycharm": {
     "name": "#%%\n"
    }
   }
  },
  {
   "cell_type": "markdown",
   "source": [
    "[15:06, 14/12/2021] Hilal Kazan (ABU CS Prof. ): PIK3CA için interface hasta olarak sınıflandırdıgımız hastalar\n",
    "[15:06, 14/12/2021] Hilal Kazan (ABU CS Prof. ): onların subtype bilgilerini bul\n",
    "[15:06, 14/12/2021] Hilal Kazan (ABU CS Prof. ): sayılarını söylersin\n",
    "[15:06, 14/12/2021] Hilal Kazan (ABU CS Prof. ): 5 tane luminal, 4 tane bazal vs.\n",
    "[15:07, 14/12/2021] Ibrahim Berber: disruptive sınıflandırdığımız, değil mi\n",
    "[15:07, 14/12/2021] Hilal Kazan (ABU CS Prof. ): olur öyle de olur"
   ],
   "metadata": {
    "collapsed": false,
    "pycharm": {
     "name": "#%% md\n"
    }
   }
  },
  {
   "cell_type": "markdown",
   "source": [
    "## Read the Patient Interaction Data"
   ],
   "metadata": {
    "collapsed": false,
    "pycharm": {
     "name": "#%% md\n"
    }
   }
  },
  {
   "cell_type": "code",
   "execution_count": 2,
   "outputs": [],
   "source": [
    "brca_interaction_data = pd.read_excel(BRCA_PATIENT_INTERACTION_DATA_PATH)"
   ],
   "metadata": {
    "collapsed": false,
    "pycharm": {
     "name": "#%%\n"
    }
   }
  },
  {
   "cell_type": "code",
   "execution_count": 3,
   "outputs": [
    {
     "data": {
      "text/plain": "           PATIENT    PROTEIN_GENE MUTATION  \\\n0     TCGA-D8-A1XY  Q9UKS6:PACSIN3     R24H   \n1     TCGA-AO-A0J5   P42336:PIK3CA   H1047R   \n2     TCGA-A8-A093    P28062:PSMB8    R216W   \n3     TCGA-A8-A093    Q15842:KCNJ8    E237K   \n4     TCGA-A8-A07G   P42336:PIK3CA   H1047R   \n...            ...             ...      ...   \n1889  TCGA-PE-A5DE    Q9UNE7:STUB1    E238Q   \n1890  TCGA-PE-A5DE     P12830:CDH1    G278V   \n1891  TCGA-PE-A5DE    O43747:AP1G1     S36L   \n1892  TCGA-AN-A0XU    A0FGR9:ESYT3    Q320H   \n1893  TCGA-E9-A1NI     P35916:FLT4    V689A   \n\n                                            INTERACTORS  NUM_INTERACTORS  \\\n0     Q9BY11:PACSIN1,Q9UNF0:PACSIN2,Q5TZC3:PACSIN1,Q...                4   \n1     Q13535:ATR,P27986:PIK3R1,O00459:PIK3R2,P43403:...                4   \n2                                         P40306:PSMB10                1   \n3                            Q14654:KCNJ11,P63252:KCNJ2                2   \n4     Q13535:ATR,P27986:PIK3R1,O00459:PIK3R2,P43403:...                4   \n...                                                 ...              ...   \n1889  P68036:UBE2L3,Q13404:UBE2V1,P61088:UBE2N,P5166...               11   \n1890                         O60346:PHLPP1,Q96RT1:ERBIN                2   \n1891                                        P84077:ARF1                1   \n1892                                       Q9BSJ8:ESYT1                1   \n1893                                        Q05397:PTK2                1   \n\n                                 DISRUPTIVE_INTERACTORS  \\\n0     Q9BY11:PACSIN1:0.53,Q9UNF0:PACSIN2:0.62,Q5TZC3...   \n1     P27986:PIK3R1:0.6,O00459:PIK3R2:0.59,P43403:ZA...   \n2                                                   NaN   \n3                  Q14654:KCNJ11:0.52,P63252:KCNJ2:0.58   \n4     P27986:PIK3R1:0.6,O00459:PIK3R2:0.59,P43403:ZA...   \n...                                                 ...   \n1889  P61088:UBE2N:0.56,P51668:UBE2D1:0.54,P61077:UB...   \n1890                                                NaN   \n1891                                                NaN   \n1892                                                NaN   \n1893                                   Q05397:PTK2:0.53   \n\n      NUM_DISRUPTIVE_INTERACTORS  \\\n0                              4   \n1                              3   \n2                              0   \n3                              2   \n4                              3   \n...                          ...   \n1889                           4   \n1890                           0   \n1891                           0   \n1892                           0   \n1893                           1   \n\n                             NON_DISRUPTIVE_INTERACTORS  \\\n0                                                   NaN   \n1                                            Q13535:ATR   \n2                                         P40306:PSMB10   \n3                                                   NaN   \n4                                            Q13535:ATR   \n...                                                 ...   \n1889  P68036:UBE2L3,Q13404:UBE2V1,P51965:UBE2E1,Q96L...   \n1890                         O60346:PHLPP1,Q96RT1:ERBIN   \n1891                                        P84077:ARF1   \n1892                                       Q9BSJ8:ESYT1   \n1893                                                NaN   \n\n      NUM_NON_DISRUPTIVE_INTERACTORS CORE_INTERFACE_VS_INTERFACE_STATUS  \n0                                  0                                  I  \n1                                  1                                  I  \n2                                  1                                  I  \n3                                  0                                  I  \n4                                  1                                  I  \n...                              ...                                ...  \n1889                               7                                  I  \n1890                               2                                  I  \n1891                               1                                  I  \n1892                               1                                  I  \n1893                               0                                  I  \n\n[1894 rows x 10 columns]",
      "text/html": "<div>\n<style scoped>\n    .dataframe tbody tr th:only-of-type {\n        vertical-align: middle;\n    }\n\n    .dataframe tbody tr th {\n        vertical-align: top;\n    }\n\n    .dataframe thead th {\n        text-align: right;\n    }\n</style>\n<table border=\"1\" class=\"dataframe\">\n  <thead>\n    <tr style=\"text-align: right;\">\n      <th></th>\n      <th>PATIENT</th>\n      <th>PROTEIN_GENE</th>\n      <th>MUTATION</th>\n      <th>INTERACTORS</th>\n      <th>NUM_INTERACTORS</th>\n      <th>DISRUPTIVE_INTERACTORS</th>\n      <th>NUM_DISRUPTIVE_INTERACTORS</th>\n      <th>NON_DISRUPTIVE_INTERACTORS</th>\n      <th>NUM_NON_DISRUPTIVE_INTERACTORS</th>\n      <th>CORE_INTERFACE_VS_INTERFACE_STATUS</th>\n    </tr>\n  </thead>\n  <tbody>\n    <tr>\n      <th>0</th>\n      <td>TCGA-D8-A1XY</td>\n      <td>Q9UKS6:PACSIN3</td>\n      <td>R24H</td>\n      <td>Q9BY11:PACSIN1,Q9UNF0:PACSIN2,Q5TZC3:PACSIN1,Q...</td>\n      <td>4</td>\n      <td>Q9BY11:PACSIN1:0.53,Q9UNF0:PACSIN2:0.62,Q5TZC3...</td>\n      <td>4</td>\n      <td>NaN</td>\n      <td>0</td>\n      <td>I</td>\n    </tr>\n    <tr>\n      <th>1</th>\n      <td>TCGA-AO-A0J5</td>\n      <td>P42336:PIK3CA</td>\n      <td>H1047R</td>\n      <td>Q13535:ATR,P27986:PIK3R1,O00459:PIK3R2,P43403:...</td>\n      <td>4</td>\n      <td>P27986:PIK3R1:0.6,O00459:PIK3R2:0.59,P43403:ZA...</td>\n      <td>3</td>\n      <td>Q13535:ATR</td>\n      <td>1</td>\n      <td>I</td>\n    </tr>\n    <tr>\n      <th>2</th>\n      <td>TCGA-A8-A093</td>\n      <td>P28062:PSMB8</td>\n      <td>R216W</td>\n      <td>P40306:PSMB10</td>\n      <td>1</td>\n      <td>NaN</td>\n      <td>0</td>\n      <td>P40306:PSMB10</td>\n      <td>1</td>\n      <td>I</td>\n    </tr>\n    <tr>\n      <th>3</th>\n      <td>TCGA-A8-A093</td>\n      <td>Q15842:KCNJ8</td>\n      <td>E237K</td>\n      <td>Q14654:KCNJ11,P63252:KCNJ2</td>\n      <td>2</td>\n      <td>Q14654:KCNJ11:0.52,P63252:KCNJ2:0.58</td>\n      <td>2</td>\n      <td>NaN</td>\n      <td>0</td>\n      <td>I</td>\n    </tr>\n    <tr>\n      <th>4</th>\n      <td>TCGA-A8-A07G</td>\n      <td>P42336:PIK3CA</td>\n      <td>H1047R</td>\n      <td>Q13535:ATR,P27986:PIK3R1,O00459:PIK3R2,P43403:...</td>\n      <td>4</td>\n      <td>P27986:PIK3R1:0.6,O00459:PIK3R2:0.59,P43403:ZA...</td>\n      <td>3</td>\n      <td>Q13535:ATR</td>\n      <td>1</td>\n      <td>I</td>\n    </tr>\n    <tr>\n      <th>...</th>\n      <td>...</td>\n      <td>...</td>\n      <td>...</td>\n      <td>...</td>\n      <td>...</td>\n      <td>...</td>\n      <td>...</td>\n      <td>...</td>\n      <td>...</td>\n      <td>...</td>\n    </tr>\n    <tr>\n      <th>1889</th>\n      <td>TCGA-PE-A5DE</td>\n      <td>Q9UNE7:STUB1</td>\n      <td>E238Q</td>\n      <td>P68036:UBE2L3,Q13404:UBE2V1,P61088:UBE2N,P5166...</td>\n      <td>11</td>\n      <td>P61088:UBE2N:0.56,P51668:UBE2D1:0.54,P61077:UB...</td>\n      <td>4</td>\n      <td>P68036:UBE2L3,Q13404:UBE2V1,P51965:UBE2E1,Q96L...</td>\n      <td>7</td>\n      <td>I</td>\n    </tr>\n    <tr>\n      <th>1890</th>\n      <td>TCGA-PE-A5DE</td>\n      <td>P12830:CDH1</td>\n      <td>G278V</td>\n      <td>O60346:PHLPP1,Q96RT1:ERBIN</td>\n      <td>2</td>\n      <td>NaN</td>\n      <td>0</td>\n      <td>O60346:PHLPP1,Q96RT1:ERBIN</td>\n      <td>2</td>\n      <td>I</td>\n    </tr>\n    <tr>\n      <th>1891</th>\n      <td>TCGA-PE-A5DE</td>\n      <td>O43747:AP1G1</td>\n      <td>S36L</td>\n      <td>P84077:ARF1</td>\n      <td>1</td>\n      <td>NaN</td>\n      <td>0</td>\n      <td>P84077:ARF1</td>\n      <td>1</td>\n      <td>I</td>\n    </tr>\n    <tr>\n      <th>1892</th>\n      <td>TCGA-AN-A0XU</td>\n      <td>A0FGR9:ESYT3</td>\n      <td>Q320H</td>\n      <td>Q9BSJ8:ESYT1</td>\n      <td>1</td>\n      <td>NaN</td>\n      <td>0</td>\n      <td>Q9BSJ8:ESYT1</td>\n      <td>1</td>\n      <td>I</td>\n    </tr>\n    <tr>\n      <th>1893</th>\n      <td>TCGA-E9-A1NI</td>\n      <td>P35916:FLT4</td>\n      <td>V689A</td>\n      <td>Q05397:PTK2</td>\n      <td>1</td>\n      <td>Q05397:PTK2:0.53</td>\n      <td>1</td>\n      <td>NaN</td>\n      <td>0</td>\n      <td>I</td>\n    </tr>\n  </tbody>\n</table>\n<p>1894 rows × 10 columns</p>\n</div>"
     },
     "execution_count": 3,
     "metadata": {},
     "output_type": "execute_result"
    }
   ],
   "source": [
    "brca_interaction_data"
   ],
   "metadata": {
    "collapsed": false,
    "pycharm": {
     "name": "#%%\n"
    }
   }
  },
  {
   "cell_type": "markdown",
   "source": [
    "## Read Patient Clinical Data (for Subtype Info)"
   ],
   "metadata": {
    "collapsed": false,
    "pycharm": {
     "name": "#%% md\n"
    }
   }
  },
  {
   "cell_type": "code",
   "execution_count": 4,
   "outputs": [
    {
     "data": {
      "text/plain": "        Patient ID    Subtype\n0     TCGA-3C-AAAU  BRCA_LumA\n1     TCGA-3C-AALI  BRCA_Her2\n2     TCGA-3C-AALJ  BRCA_LumB\n3     TCGA-3C-AALK  BRCA_LumA\n4     TCGA-4H-AAAK  BRCA_LumA\n...            ...        ...\n1079  TCGA-WT-AB44  BRCA_LumA\n1080  TCGA-XX-A899  BRCA_LumA\n1081  TCGA-XX-A89A  BRCA_LumA\n1082  TCGA-Z7-A8R5  BRCA_LumA\n1083  TCGA-Z7-A8R6  BRCA_LumB\n\n[1084 rows x 2 columns]",
      "text/html": "<div>\n<style scoped>\n    .dataframe tbody tr th:only-of-type {\n        vertical-align: middle;\n    }\n\n    .dataframe tbody tr th {\n        vertical-align: top;\n    }\n\n    .dataframe thead th {\n        text-align: right;\n    }\n</style>\n<table border=\"1\" class=\"dataframe\">\n  <thead>\n    <tr style=\"text-align: right;\">\n      <th></th>\n      <th>Patient ID</th>\n      <th>Subtype</th>\n    </tr>\n  </thead>\n  <tbody>\n    <tr>\n      <th>0</th>\n      <td>TCGA-3C-AAAU</td>\n      <td>BRCA_LumA</td>\n    </tr>\n    <tr>\n      <th>1</th>\n      <td>TCGA-3C-AALI</td>\n      <td>BRCA_Her2</td>\n    </tr>\n    <tr>\n      <th>2</th>\n      <td>TCGA-3C-AALJ</td>\n      <td>BRCA_LumB</td>\n    </tr>\n    <tr>\n      <th>3</th>\n      <td>TCGA-3C-AALK</td>\n      <td>BRCA_LumA</td>\n    </tr>\n    <tr>\n      <th>4</th>\n      <td>TCGA-4H-AAAK</td>\n      <td>BRCA_LumA</td>\n    </tr>\n    <tr>\n      <th>...</th>\n      <td>...</td>\n      <td>...</td>\n    </tr>\n    <tr>\n      <th>1079</th>\n      <td>TCGA-WT-AB44</td>\n      <td>BRCA_LumA</td>\n    </tr>\n    <tr>\n      <th>1080</th>\n      <td>TCGA-XX-A899</td>\n      <td>BRCA_LumA</td>\n    </tr>\n    <tr>\n      <th>1081</th>\n      <td>TCGA-XX-A89A</td>\n      <td>BRCA_LumA</td>\n    </tr>\n    <tr>\n      <th>1082</th>\n      <td>TCGA-Z7-A8R5</td>\n      <td>BRCA_LumA</td>\n    </tr>\n    <tr>\n      <th>1083</th>\n      <td>TCGA-Z7-A8R6</td>\n      <td>BRCA_LumB</td>\n    </tr>\n  </tbody>\n</table>\n<p>1084 rows × 2 columns</p>\n</div>"
     },
     "execution_count": 4,
     "metadata": {},
     "output_type": "execute_result"
    }
   ],
   "source": [
    "brca_patient_clinical_data = pd.read_csv(PATIENT_CLINICAL_DATA_PATH, sep=\"\\t\")\n",
    "brca_subtype_data = brca_patient_clinical_data[[\"Patient ID\", \"Subtype\"]]\n",
    "brca_subtype_data"
   ],
   "metadata": {
    "collapsed": false,
    "pycharm": {
     "name": "#%%\n"
    }
   }
  },
  {
   "cell_type": "code",
   "execution_count": 5,
   "outputs": [],
   "source": [
    "protein_gene_values_of_interest = [\n",
    "    (\"P42336:PIK3CA\"),\n",
    "    (\"P04637:TP53\"),\n",
    "    (\"P68431:H3C1\"),\n",
    "    (\"P62805:H4C1\"),\n",
    "    (\"P45985:MAP2K4\"),\n",
    "    (\"P04626:ERBB2\"),\n",
    "    (\"P0CG48:UBC\"),\n",
    "]"
   ],
   "metadata": {
    "collapsed": false,
    "pycharm": {
     "name": "#%%\n"
    }
   }
  },
  {
   "cell_type": "code",
   "execution_count": 5,
   "outputs": [],
   "source": [],
   "metadata": {
    "collapsed": false,
    "pycharm": {
     "name": "#%%\n"
    }
   }
  },
  {
   "cell_type": "code",
   "execution_count": 6,
   "outputs": [],
   "source": [
    "def get_patients_with_disruptive_interaction(interaction_data: DataFrame, protein_gene: str):\n",
    "    interaction_data_filtered = interaction_data[\n",
    "        (interaction_data[\"PROTEIN_GENE\"] == protein_gene) &\n",
    "        (interaction_data[\"NUM_DISRUPTIVE_INTERACTORS\"] > 0)\n",
    "        ]\n",
    "    patients = sorted(interaction_data_filtered[\"PATIENT\"].unique())\n",
    "    return patients"
   ],
   "metadata": {
    "collapsed": false,
    "pycharm": {
     "name": "#%%\n"
    }
   }
  },
  {
   "cell_type": "code",
   "execution_count": 7,
   "outputs": [
    {
     "name": "stdout",
     "output_type": "stream",
     "text": [
      "Number of patients: 124\n"
     ]
    }
   ],
   "source": [
    "PIK3CA_patients = get_patients_with_disruptive_interaction(brca_interaction_data, \"P42336:PIK3CA\")\n",
    "print(f\"Number of patients: {len(PIK3CA_patients)}\")"
   ],
   "metadata": {
    "collapsed": false,
    "pycharm": {
     "name": "#%%\n"
    }
   }
  },
  {
   "cell_type": "code",
   "execution_count": 7,
   "outputs": [],
   "source": [],
   "metadata": {
    "collapsed": false,
    "pycharm": {
     "name": "#%%\n"
    }
   }
  },
  {
   "cell_type": "code",
   "execution_count": 8,
   "outputs": [],
   "source": [
    "def get_subtype_info(protein_gene, interaction_data, subtype_data, plot=False):\n",
    "    specified_patients = get_patients_with_disruptive_interaction(interaction_data, protein_gene)\n",
    "    subtype_data_filtered = subtype_data[\n",
    "        subtype_data[\"Patient ID\"].isin(specified_patients)\n",
    "    ]\n",
    "    subtype_value_counts = DataFrame(subtype_data_filtered[\"Subtype\"].value_counts())\n",
    "    subtype_value_counts.columns = [protein_gene]\n",
    "    if plot:\n",
    "        display(DataFrame(subtype_value_counts))\n",
    "        subtype_value_counts.plot(kind=\"barh\")\n",
    "\n",
    "    return subtype_value_counts"
   ],
   "metadata": {
    "collapsed": false,
    "pycharm": {
     "name": "#%%\n"
    }
   }
  },
  {
   "cell_type": "code",
   "execution_count": 9,
   "outputs": [
    {
     "data": {
      "text/plain": "             P42336:PIK3CA\nBRCA_LumA               81\nBRCA_LumB               26\nBRCA_Her2                8\nBRCA_Basal               6\nBRCA_Normal              2",
      "text/html": "<div>\n<style scoped>\n    .dataframe tbody tr th:only-of-type {\n        vertical-align: middle;\n    }\n\n    .dataframe tbody tr th {\n        vertical-align: top;\n    }\n\n    .dataframe thead th {\n        text-align: right;\n    }\n</style>\n<table border=\"1\" class=\"dataframe\">\n  <thead>\n    <tr style=\"text-align: right;\">\n      <th></th>\n      <th>P42336:PIK3CA</th>\n    </tr>\n  </thead>\n  <tbody>\n    <tr>\n      <th>BRCA_LumA</th>\n      <td>81</td>\n    </tr>\n    <tr>\n      <th>BRCA_LumB</th>\n      <td>26</td>\n    </tr>\n    <tr>\n      <th>BRCA_Her2</th>\n      <td>8</td>\n    </tr>\n    <tr>\n      <th>BRCA_Basal</th>\n      <td>6</td>\n    </tr>\n    <tr>\n      <th>BRCA_Normal</th>\n      <td>2</td>\n    </tr>\n  </tbody>\n</table>\n</div>"
     },
     "execution_count": 9,
     "metadata": {},
     "output_type": "execute_result"
    }
   ],
   "source": [
    "get_subtype_info(\"P42336:PIK3CA\", brca_interaction_data, brca_subtype_data)"
   ],
   "metadata": {
    "collapsed": false,
    "pycharm": {
     "name": "#%%\n"
    }
   }
  },
  {
   "cell_type": "code",
   "execution_count": 10,
   "outputs": [],
   "source": [],
   "metadata": {
    "collapsed": false,
    "pycharm": {
     "name": "#%%\n"
    }
   }
  },
  {
   "cell_type": "code",
   "execution_count": 10,
   "outputs": [],
   "source": [
    "def construct_table(protein_gene_values: List[str], interaction_data: DataFrame, subtype_data: DataFrame) -> DataFrame:\n",
    "    value_counts_data_list = []\n",
    "    for protein_gene in protein_gene_values:\n",
    "        value_counts = get_subtype_info(protein_gene, interaction_data, subtype_data)\n",
    "        value_counts_data_list.append(value_counts)\n",
    "\n",
    "    value_counts_data_concated = pd.concat(value_counts_data_list, axis=1)\n",
    "    return value_counts_data_concated"
   ],
   "metadata": {
    "collapsed": false,
    "pycharm": {
     "name": "#%%\n"
    }
   }
  },
  {
   "cell_type": "code",
   "execution_count": 11,
   "outputs": [
    {
     "data": {
      "text/plain": "             P42336:PIK3CA  P04637:TP53  P68431:H3C1  P62805:H4C1  \\\nBRCA_LumA               81            6            1          3.0   \nBRCA_LumB               26            8            3          1.0   \nBRCA_Her2                8           12            4          1.0   \nBRCA_Basal               6           21            2          5.0   \nBRCA_Normal              2            5            1          NaN   \n\n             P45985:MAP2K4  P04626:ERBB2  P0CG48:UBC  \nBRCA_LumA              5.0           8.0         2.0  \nBRCA_LumB              2.0           NaN         2.0  \nBRCA_Her2              NaN           2.0         1.0  \nBRCA_Basal             NaN           1.0         1.0  \nBRCA_Normal            NaN           1.0         NaN  ",
      "text/html": "<div>\n<style scoped>\n    .dataframe tbody tr th:only-of-type {\n        vertical-align: middle;\n    }\n\n    .dataframe tbody tr th {\n        vertical-align: top;\n    }\n\n    .dataframe thead th {\n        text-align: right;\n    }\n</style>\n<table border=\"1\" class=\"dataframe\">\n  <thead>\n    <tr style=\"text-align: right;\">\n      <th></th>\n      <th>P42336:PIK3CA</th>\n      <th>P04637:TP53</th>\n      <th>P68431:H3C1</th>\n      <th>P62805:H4C1</th>\n      <th>P45985:MAP2K4</th>\n      <th>P04626:ERBB2</th>\n      <th>P0CG48:UBC</th>\n    </tr>\n  </thead>\n  <tbody>\n    <tr>\n      <th>BRCA_LumA</th>\n      <td>81</td>\n      <td>6</td>\n      <td>1</td>\n      <td>3.0</td>\n      <td>5.0</td>\n      <td>8.0</td>\n      <td>2.0</td>\n    </tr>\n    <tr>\n      <th>BRCA_LumB</th>\n      <td>26</td>\n      <td>8</td>\n      <td>3</td>\n      <td>1.0</td>\n      <td>2.0</td>\n      <td>NaN</td>\n      <td>2.0</td>\n    </tr>\n    <tr>\n      <th>BRCA_Her2</th>\n      <td>8</td>\n      <td>12</td>\n      <td>4</td>\n      <td>1.0</td>\n      <td>NaN</td>\n      <td>2.0</td>\n      <td>1.0</td>\n    </tr>\n    <tr>\n      <th>BRCA_Basal</th>\n      <td>6</td>\n      <td>21</td>\n      <td>2</td>\n      <td>5.0</td>\n      <td>NaN</td>\n      <td>1.0</td>\n      <td>1.0</td>\n    </tr>\n    <tr>\n      <th>BRCA_Normal</th>\n      <td>2</td>\n      <td>5</td>\n      <td>1</td>\n      <td>NaN</td>\n      <td>NaN</td>\n      <td>1.0</td>\n      <td>NaN</td>\n    </tr>\n  </tbody>\n</table>\n</div>"
     },
     "execution_count": 11,
     "metadata": {},
     "output_type": "execute_result"
    }
   ],
   "source": [
    "construct_table(protein_gene_values_of_interest, brca_interaction_data, brca_subtype_data)"
   ],
   "metadata": {
    "collapsed": false,
    "pycharm": {
     "name": "#%%\n"
    }
   }
  },
  {
   "cell_type": "code",
   "execution_count": null,
   "outputs": [],
   "source": [],
   "metadata": {
    "collapsed": false,
    "pycharm": {
     "name": "#%%\n"
    }
   }
  },
  {
   "cell_type": "code",
   "execution_count": 12,
   "outputs": [
    {
     "data": {
      "text/plain": "             P04626:ERBB2\nBRCA_LumA               8\nBRCA_Her2               2\nBRCA_Normal             1\nBRCA_Basal              1",
      "text/html": "<div>\n<style scoped>\n    .dataframe tbody tr th:only-of-type {\n        vertical-align: middle;\n    }\n\n    .dataframe tbody tr th {\n        vertical-align: top;\n    }\n\n    .dataframe thead th {\n        text-align: right;\n    }\n</style>\n<table border=\"1\" class=\"dataframe\">\n  <thead>\n    <tr style=\"text-align: right;\">\n      <th></th>\n      <th>P04626:ERBB2</th>\n    </tr>\n  </thead>\n  <tbody>\n    <tr>\n      <th>BRCA_LumA</th>\n      <td>8</td>\n    </tr>\n    <tr>\n      <th>BRCA_Her2</th>\n      <td>2</td>\n    </tr>\n    <tr>\n      <th>BRCA_Normal</th>\n      <td>1</td>\n    </tr>\n    <tr>\n      <th>BRCA_Basal</th>\n      <td>1</td>\n    </tr>\n  </tbody>\n</table>\n</div>"
     },
     "execution_count": 12,
     "metadata": {},
     "output_type": "execute_result"
    }
   ],
   "source": [
    "get_subtype_info(\"P04626:ERBB2\", brca_interaction_data, brca_subtype_data)"
   ],
   "metadata": {
    "collapsed": false,
    "pycharm": {
     "name": "#%%\n"
    }
   }
  },
  {
   "cell_type": "code",
   "execution_count": null,
   "outputs": [],
   "source": [],
   "metadata": {
    "collapsed": false,
    "pycharm": {
     "name": "#%%\n"
    }
   }
  },
  {
   "cell_type": "code",
   "execution_count": null,
   "outputs": [],
   "source": [],
   "metadata": {
    "collapsed": false,
    "pycharm": {
     "name": "#%%\n"
    }
   }
  }
 ],
 "metadata": {
  "kernelspec": {
   "name": "predator",
   "language": "python",
   "display_name": "Predator"
  },
  "language_info": {
   "codemirror_mode": {
    "name": "ipython",
    "version": 2
   },
   "file_extension": ".py",
   "mimetype": "text/x-python",
   "name": "python",
   "nbconvert_exporter": "python",
   "pygments_lexer": "ipython2",
   "version": "2.7.6"
  }
 },
 "nbformat": 4,
 "nbformat_minor": 0
}