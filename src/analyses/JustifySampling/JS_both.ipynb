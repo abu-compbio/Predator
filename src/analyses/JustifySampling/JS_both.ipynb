{
 "cells": [
  {
   "cell_type": "code",
   "execution_count": 1,
   "id": "466bdc7d-6f70-445f-a0e4-b6100dca3b97",
   "metadata": {
    "pycharm": {
     "name": "#%%\n"
    }
   },
   "outputs": [],
   "source": [
    "from src.helpers.helpers_analysis.justify_sampling import (\n",
    "    InteractorJustifier,\n",
    ")"
   ]
  },
  {
   "cell_type": "code",
   "execution_count": 2,
   "id": "dd1f7dcc-c220-4392-9893-093df0979408",
   "metadata": {
    "pycharm": {
     "name": "#%%\n"
    }
   },
   "outputs": [],
   "source": [
    "TRAINING_DATA_PATH = \"../../processed_data_740.csv\"\n",
    "\n",
    "# Reflect changes in the modules immediately.\n",
    "%load_ext autoreload\n",
    "%autoreload 2"
   ]
  },
  {
   "cell_type": "code",
   "execution_count": 3,
   "id": "ba01c849-f87f-4507-9a1d-b67d5bcbfd7d",
   "metadata": {
    "pycharm": {
     "name": "#%%\n"
    }
   },
   "outputs": [
    {
     "data": {
      "text/plain": "  0%|          | 0/369 [00:00<?, ?it/s]",
      "application/vnd.jupyter.widget-view+json": {
       "version_major": 2,
       "version_minor": 0,
       "model_id": "20e79bbbd99b4c09973d338e9cd4161c"
      }
     },
     "metadata": {},
     "output_type": "display_data"
    },
    {
     "name": "stdout",
     "output_type": "stream",
     "text": [
      "2022-06-19 11:49:43 |\u001B[36m DEBUG    \u001B[0m| src.helpers.helpers_analysis.justify_sampling | skip (4, 5)\n",
      "2022-06-19 11:49:43 |\u001B[36m DEBUG    \u001B[0m| src.helpers.helpers_analysis.justify_sampling | skip (4, 6)\n",
      "2022-06-19 11:49:43 |\u001B[36m DEBUG    \u001B[0m| src.helpers.helpers_analysis.justify_sampling | skip (4, 7)\n",
      "2022-06-19 11:49:43 |\u001B[36m DEBUG    \u001B[0m| src.helpers.helpers_analysis.justify_sampling | skip (4, 8)\n",
      "2022-06-19 11:49:43 |\u001B[36m DEBUG    \u001B[0m| src.helpers.helpers_analysis.justify_sampling | skip (4, 9)\n",
      "2022-06-19 11:49:43 |\u001B[36m DEBUG    \u001B[0m| src.helpers.helpers_analysis.justify_sampling | skip (4, 10)\n",
      "2022-06-19 11:49:43 |\u001B[36m DEBUG    \u001B[0m| src.helpers.helpers_analysis.justify_sampling | skip (5, 6)\n",
      "2022-06-19 11:49:43 |\u001B[36m DEBUG    \u001B[0m| src.helpers.helpers_analysis.justify_sampling | skip (5, 7)\n",
      "2022-06-19 11:49:43 |\u001B[36m DEBUG    \u001B[0m| src.helpers.helpers_analysis.justify_sampling | skip (5, 8)\n",
      "2022-06-19 11:49:43 |\u001B[36m DEBUG    \u001B[0m| src.helpers.helpers_analysis.justify_sampling | skip (5, 9)\n",
      "2022-06-19 11:49:43 |\u001B[36m DEBUG    \u001B[0m| src.helpers.helpers_analysis.justify_sampling | skip (5, 10)\n",
      "2022-06-19 11:49:43 |\u001B[36m DEBUG    \u001B[0m| src.helpers.helpers_analysis.justify_sampling | skip (6, 7)\n",
      "2022-06-19 11:49:43 |\u001B[36m DEBUG    \u001B[0m| src.helpers.helpers_analysis.justify_sampling | skip (6, 8)\n",
      "2022-06-19 11:49:43 |\u001B[36m DEBUG    \u001B[0m| src.helpers.helpers_analysis.justify_sampling | skip (6, 9)\n",
      "2022-06-19 11:49:43 |\u001B[36m DEBUG    \u001B[0m| src.helpers.helpers_analysis.justify_sampling | skip (6, 10)\n",
      "2022-06-19 11:49:43 |\u001B[36m DEBUG    \u001B[0m| src.helpers.helpers_analysis.justify_sampling | skip (7, 8)\n",
      "2022-06-19 11:49:43 |\u001B[36m DEBUG    \u001B[0m| src.helpers.helpers_analysis.justify_sampling | skip (7, 9)\n",
      "2022-06-19 11:49:43 |\u001B[36m DEBUG    \u001B[0m| src.helpers.helpers_analysis.justify_sampling | skip (7, 10)\n",
      "2022-06-19 11:49:43 |\u001B[36m DEBUG    \u001B[0m| src.helpers.helpers_analysis.justify_sampling | skip (8, 9)\n",
      "2022-06-19 11:49:43 |\u001B[36m DEBUG    \u001B[0m| src.helpers.helpers_analysis.justify_sampling | skip (8, 10)\n",
      "2022-06-19 11:49:43 |\u001B[36m DEBUG    \u001B[0m| src.helpers.helpers_analysis.justify_sampling | skip (9, 10)\n",
      "2022-06-19 11:49:43 |\u001B[36m DEBUG    \u001B[0m| src.helpers.helpers_analysis.justify_sampling | skip (34, 35)\n",
      "2022-06-19 11:49:43 |\u001B[36m DEBUG    \u001B[0m| src.helpers.helpers_analysis.justify_sampling | skip (427, 428)\n",
      "2022-06-19 11:49:43 |\u001B[36m DEBUG    \u001B[0m| src.helpers.helpers_analysis.justify_sampling | skip (637, 638)\n",
      "2022-06-19 11:49:43 |\u001B[36m DEBUG    \u001B[0m| src.helpers.helpers_analysis.justify_sampling | len(corr_score_values)=54\n",
      "2022-06-19 11:49:43 |\u001B[36m DEBUG    \u001B[0m| src.helpers.helpers_analysis.justify_sampling | skip (82, 83)\n",
      "2022-06-19 11:49:43 |\u001B[36m DEBUG    \u001B[0m| src.helpers.helpers_analysis.justify_sampling | skip (82, 84)\n",
      "2022-06-19 11:49:43 |\u001B[36m DEBUG    \u001B[0m| src.helpers.helpers_analysis.justify_sampling | skip (82, 85)\n",
      "2022-06-19 11:49:44 |\u001B[36m DEBUG    \u001B[0m| src.helpers.helpers_analysis.justify_sampling | skip (82, 86)\n",
      "2022-06-19 11:49:44 |\u001B[36m DEBUG    \u001B[0m| src.helpers.helpers_analysis.justify_sampling | skip (82, 87)\n",
      "2022-06-19 11:49:44 |\u001B[36m DEBUG    \u001B[0m| src.helpers.helpers_analysis.justify_sampling | skip (82, 88)\n",
      "2022-06-19 11:49:44 |\u001B[36m DEBUG    \u001B[0m| src.helpers.helpers_analysis.justify_sampling | skip (83, 84)\n",
      "2022-06-19 11:49:44 |\u001B[36m DEBUG    \u001B[0m| src.helpers.helpers_analysis.justify_sampling | skip (83, 85)\n",
      "2022-06-19 11:49:44 |\u001B[36m DEBUG    \u001B[0m| src.helpers.helpers_analysis.justify_sampling | skip (83, 86)\n",
      "2022-06-19 11:49:44 |\u001B[36m DEBUG    \u001B[0m| src.helpers.helpers_analysis.justify_sampling | skip (83, 87)\n",
      "2022-06-19 11:49:44 |\u001B[36m DEBUG    \u001B[0m| src.helpers.helpers_analysis.justify_sampling | skip (83, 88)\n",
      "2022-06-19 11:49:44 |\u001B[36m DEBUG    \u001B[0m| src.helpers.helpers_analysis.justify_sampling | skip (84, 85)\n",
      "2022-06-19 11:49:44 |\u001B[36m DEBUG    \u001B[0m| src.helpers.helpers_analysis.justify_sampling | skip (84, 86)\n",
      "2022-06-19 11:49:44 |\u001B[36m DEBUG    \u001B[0m| src.helpers.helpers_analysis.justify_sampling | skip (84, 87)\n",
      "2022-06-19 11:49:44 |\u001B[36m DEBUG    \u001B[0m| src.helpers.helpers_analysis.justify_sampling | skip (84, 88)\n",
      "2022-06-19 11:49:44 |\u001B[36m DEBUG    \u001B[0m| src.helpers.helpers_analysis.justify_sampling | skip (85, 86)\n",
      "2022-06-19 11:49:44 |\u001B[36m DEBUG    \u001B[0m| src.helpers.helpers_analysis.justify_sampling | skip (85, 87)\n",
      "2022-06-19 11:49:44 |\u001B[36m DEBUG    \u001B[0m| src.helpers.helpers_analysis.justify_sampling | skip (85, 88)\n",
      "2022-06-19 11:49:44 |\u001B[36m DEBUG    \u001B[0m| src.helpers.helpers_analysis.justify_sampling | skip (86, 87)\n",
      "2022-06-19 11:49:44 |\u001B[36m DEBUG    \u001B[0m| src.helpers.helpers_analysis.justify_sampling | skip (86, 88)\n",
      "2022-06-19 11:49:44 |\u001B[36m DEBUG    \u001B[0m| src.helpers.helpers_analysis.justify_sampling | skip (87, 88)\n",
      "2022-06-19 11:49:44 |\u001B[36m DEBUG    \u001B[0m| src.helpers.helpers_analysis.justify_sampling | skip (359, 360)\n",
      "2022-06-19 11:49:44 |\u001B[36m DEBUG    \u001B[0m| src.helpers.helpers_analysis.justify_sampling | skip (723, 724)\n",
      "2022-06-19 11:49:44 |\u001B[36m DEBUG    \u001B[0m| src.helpers.helpers_analysis.justify_sampling | skip (731, 732)\n",
      "2022-06-19 11:49:44 |\u001B[36m DEBUG    \u001B[0m| src.helpers.helpers_analysis.justify_sampling | len(corr_score_values)=54\n",
      "2022-06-19 11:49:44 |\u001B[36m DEBUG    \u001B[0m| src.helpers.helpers_analysis.justify_sampling | skip (163, 164)\n",
      "2022-06-19 11:49:44 |\u001B[36m DEBUG    \u001B[0m| src.helpers.helpers_analysis.justify_sampling | skip (572, 573)\n",
      "2022-06-19 11:49:44 |\u001B[36m DEBUG    \u001B[0m| src.helpers.helpers_analysis.justify_sampling | len(corr_score_values)=4\n",
      "2022-06-19 11:49:44 |\u001B[36m DEBUG    \u001B[0m| src.helpers.helpers_analysis.justify_sampling | skip (642, 643)\n",
      "2022-06-19 11:49:44 |\u001B[36m DEBUG    \u001B[0m| src.helpers.helpers_analysis.justify_sampling | skip (642, 644)\n",
      "2022-06-19 11:49:44 |\u001B[36m DEBUG    \u001B[0m| src.helpers.helpers_analysis.justify_sampling | skip (642, 645)\n",
      "2022-06-19 11:49:44 |\u001B[36m DEBUG    \u001B[0m| src.helpers.helpers_analysis.justify_sampling | skip (642, 646)\n",
      "2022-06-19 11:49:44 |\u001B[36m DEBUG    \u001B[0m| src.helpers.helpers_analysis.justify_sampling | skip (643, 644)\n",
      "2022-06-19 11:49:44 |\u001B[36m DEBUG    \u001B[0m| src.helpers.helpers_analysis.justify_sampling | skip (643, 645)\n",
      "2022-06-19 11:49:44 |\u001B[36m DEBUG    \u001B[0m| src.helpers.helpers_analysis.justify_sampling | skip (643, 646)\n",
      "2022-06-19 11:49:44 |\u001B[36m DEBUG    \u001B[0m| src.helpers.helpers_analysis.justify_sampling | skip (644, 645)\n",
      "2022-06-19 11:49:44 |\u001B[36m DEBUG    \u001B[0m| src.helpers.helpers_analysis.justify_sampling | skip (644, 646)\n",
      "2022-06-19 11:49:44 |\u001B[36m DEBUG    \u001B[0m| src.helpers.helpers_analysis.justify_sampling | skip (645, 646)\n",
      "2022-06-19 11:49:44 |\u001B[36m DEBUG    \u001B[0m| src.helpers.helpers_analysis.justify_sampling | len(corr_score_values)=5\n",
      "2022-06-19 11:49:44 |\u001B[36m DEBUG    \u001B[0m| src.helpers.helpers_analysis.justify_sampling | len(corr_score_values)=1\n",
      "2022-06-19 11:49:44 |\u001B[36m DEBUG    \u001B[0m| src.helpers.helpers_analysis.justify_sampling | len(corr_score_values)=6\n",
      "2022-06-19 11:49:44 |\u001B[36m DEBUG    \u001B[0m| src.helpers.helpers_analysis.justify_sampling | skip (483, 484)\n",
      "2022-06-19 11:49:44 |\u001B[36m DEBUG    \u001B[0m| src.helpers.helpers_analysis.justify_sampling | len(corr_score_values)=2\n",
      "2022-06-19 11:49:44 |\u001B[36m DEBUG    \u001B[0m| src.helpers.helpers_analysis.justify_sampling | skip (325, 326)\n",
      "2022-06-19 11:49:44 |\u001B[36m DEBUG    \u001B[0m| src.helpers.helpers_analysis.justify_sampling | len(corr_score_values)=2\n",
      "2022-06-19 11:49:44 |\u001B[36m DEBUG    \u001B[0m| src.helpers.helpers_analysis.justify_sampling | skip (210, 211)\n",
      "2022-06-19 11:49:44 |\u001B[36m DEBUG    \u001B[0m| src.helpers.helpers_analysis.justify_sampling | skip (210, 212)\n",
      "2022-06-19 11:49:44 |\u001B[36m DEBUG    \u001B[0m| src.helpers.helpers_analysis.justify_sampling | skip (210, 213)\n",
      "2022-06-19 11:49:44 |\u001B[36m DEBUG    \u001B[0m| src.helpers.helpers_analysis.justify_sampling | skip (211, 212)\n",
      "2022-06-19 11:49:44 |\u001B[36m DEBUG    \u001B[0m| src.helpers.helpers_analysis.justify_sampling | skip (211, 213)\n",
      "2022-06-19 11:49:44 |\u001B[36m DEBUG    \u001B[0m| src.helpers.helpers_analysis.justify_sampling | skip (212, 213)\n",
      "2022-06-19 11:49:44 |\u001B[36m DEBUG    \u001B[0m| src.helpers.helpers_analysis.justify_sampling | len(corr_score_values)=15\n",
      "2022-06-19 11:49:44 |\u001B[36m DEBUG    \u001B[0m| src.helpers.helpers_analysis.justify_sampling | len(corr_score_values)=3\n",
      "2022-06-19 11:49:44 |\u001B[36m DEBUG    \u001B[0m| src.helpers.helpers_analysis.justify_sampling | len(corr_score_values)=1\n",
      "2022-06-19 11:49:44 |\u001B[36m DEBUG    \u001B[0m| src.helpers.helpers_analysis.justify_sampling | len(corr_score_values)=1\n",
      "2022-06-19 11:49:44 |\u001B[36m DEBUG    \u001B[0m| src.helpers.helpers_analysis.justify_sampling | len(corr_score_values)=1\n",
      "2022-06-19 11:49:44 |\u001B[36m DEBUG    \u001B[0m| src.helpers.helpers_analysis.justify_sampling | skip (204, 205)\n",
      "2022-06-19 11:49:44 |\u001B[36m DEBUG    \u001B[0m| src.helpers.helpers_analysis.justify_sampling | skip (204, 206)\n",
      "2022-06-19 11:49:44 |\u001B[36m DEBUG    \u001B[0m| src.helpers.helpers_analysis.justify_sampling | skip (205, 206)\n",
      "2022-06-19 11:49:44 |\u001B[36m DEBUG    \u001B[0m| src.helpers.helpers_analysis.justify_sampling | skip (422, 423)\n",
      "2022-06-19 11:49:44 |\u001B[36m DEBUG    \u001B[0m| src.helpers.helpers_analysis.justify_sampling | len(corr_score_values)=6\n",
      "2022-06-19 11:49:44 |\u001B[36m DEBUG    \u001B[0m| src.helpers.helpers_analysis.justify_sampling | skip (383, 384)\n",
      "2022-06-19 11:49:44 |\u001B[36m DEBUG    \u001B[0m| src.helpers.helpers_analysis.justify_sampling | len(corr_score_values)=2\n",
      "2022-06-19 11:49:44 |\u001B[36m DEBUG    \u001B[0m| src.helpers.helpers_analysis.justify_sampling | len(corr_score_values)=6\n",
      "2022-06-19 11:49:44 |\u001B[36m DEBUG    \u001B[0m| src.helpers.helpers_analysis.justify_sampling | len(corr_score_values)=1\n",
      "2022-06-19 11:49:44 |\u001B[36m DEBUG    \u001B[0m| src.helpers.helpers_analysis.justify_sampling | skip (708, 709)\n",
      "2022-06-19 11:49:44 |\u001B[36m DEBUG    \u001B[0m| src.helpers.helpers_analysis.justify_sampling | len(corr_score_values)=5\n",
      "2022-06-19 11:49:44 |\u001B[36m DEBUG    \u001B[0m| src.helpers.helpers_analysis.justify_sampling | skip (114, 115)\n",
      "2022-06-19 11:49:44 |\u001B[36m DEBUG    \u001B[0m| src.helpers.helpers_analysis.justify_sampling | len(corr_score_values)=5\n",
      "2022-06-19 11:49:44 |\u001B[36m DEBUG    \u001B[0m| src.helpers.helpers_analysis.justify_sampling | skip (477, 478)\n",
      "2022-06-19 11:49:44 |\u001B[36m DEBUG    \u001B[0m| src.helpers.helpers_analysis.justify_sampling | len(corr_score_values)=5\n",
      "2022-06-19 11:49:44 |\u001B[36m DEBUG    \u001B[0m| src.helpers.helpers_analysis.justify_sampling | len(corr_score_values)=1\n",
      "2022-06-19 11:49:44 |\u001B[36m DEBUG    \u001B[0m| src.helpers.helpers_analysis.justify_sampling | len(corr_score_values)=1\n",
      "2022-06-19 11:49:44 |\u001B[36m DEBUG    \u001B[0m| src.helpers.helpers_analysis.justify_sampling | len(corr_score_values)=1\n",
      "2022-06-19 11:49:44 |\u001B[36m DEBUG    \u001B[0m| src.helpers.helpers_analysis.justify_sampling | skip (684, 685)\n",
      "2022-06-19 11:49:44 |\u001B[36m DEBUG    \u001B[0m| src.helpers.helpers_analysis.justify_sampling | len(corr_score_values)=2\n",
      "2022-06-19 11:49:44 |\u001B[36m DEBUG    \u001B[0m| src.helpers.helpers_analysis.justify_sampling | skip (406, 407)\n",
      "2022-06-19 11:49:44 |\u001B[36m DEBUG    \u001B[0m| src.helpers.helpers_analysis.justify_sampling | len(corr_score_values)=2\n",
      "2022-06-19 11:49:44 |\u001B[36m DEBUG    \u001B[0m| src.helpers.helpers_analysis.justify_sampling | len(corr_score_values)=1\n",
      "2022-06-19 11:49:44 |\u001B[36m DEBUG    \u001B[0m| src.helpers.helpers_analysis.justify_sampling | len(corr_score_values)=1\n",
      "2022-06-19 11:49:44 |\u001B[36m DEBUG    \u001B[0m| src.helpers.helpers_analysis.justify_sampling | len(corr_score_values)=1\n",
      "2022-06-19 11:49:44 |\u001B[36m DEBUG    \u001B[0m| src.helpers.helpers_analysis.justify_sampling | len(corr_score_values)=1\n",
      "2022-06-19 11:49:44 |\u001B[36m DEBUG    \u001B[0m| src.helpers.helpers_analysis.justify_sampling | len(corr_score_values)=1\n",
      "2022-06-19 11:49:44 |\u001B[36m DEBUG    \u001B[0m| src.helpers.helpers_analysis.justify_sampling | len(corr_score_values)=1\n",
      "2022-06-19 11:49:44 |\u001B[36m DEBUG    \u001B[0m| src.helpers.helpers_analysis.justify_sampling | len(corr_score_values)=1\n",
      "2022-06-19 11:49:44 |\u001B[36m DEBUG    \u001B[0m| src.helpers.helpers_analysis.justify_sampling | skip (174, 175)\n",
      "2022-06-19 11:49:44 |\u001B[36m DEBUG    \u001B[0m| src.helpers.helpers_analysis.justify_sampling | len(corr_score_values)=2\n",
      "2022-06-19 11:49:44 |\u001B[36m DEBUG    \u001B[0m| src.helpers.helpers_analysis.justify_sampling | skip (650, 651)\n",
      "2022-06-19 11:49:44 |\u001B[36m DEBUG    \u001B[0m| src.helpers.helpers_analysis.justify_sampling | len(corr_score_values)=2\n",
      "2022-06-19 11:49:44 |\u001B[36m DEBUG    \u001B[0m| src.helpers.helpers_analysis.justify_sampling | skip (381, 382)\n",
      "2022-06-19 11:49:44 |\u001B[36m DEBUG    \u001B[0m| src.helpers.helpers_analysis.justify_sampling | len(corr_score_values)=5\n",
      "2022-06-19 11:49:44 |\u001B[36m DEBUG    \u001B[0m| src.helpers.helpers_analysis.justify_sampling | skip (560, 561)\n",
      "2022-06-19 11:49:44 |\u001B[36m DEBUG    \u001B[0m| src.helpers.helpers_analysis.justify_sampling | len(corr_score_values)=5\n",
      "2022-06-19 11:49:44 |\u001B[36m DEBUG    \u001B[0m| src.helpers.helpers_analysis.justify_sampling | skip (133, 134)\n",
      "2022-06-19 11:49:44 |\u001B[36m DEBUG    \u001B[0m| src.helpers.helpers_analysis.justify_sampling | len(corr_score_values)=5\n",
      "2022-06-19 11:49:44 |\u001B[36m DEBUG    \u001B[0m| src.helpers.helpers_analysis.justify_sampling | skip (508, 509)\n",
      "2022-06-19 11:49:44 |\u001B[36m DEBUG    \u001B[0m| src.helpers.helpers_analysis.justify_sampling | len(corr_score_values)=5\n",
      "2022-06-19 11:49:44 |\u001B[36m DEBUG    \u001B[0m| src.helpers.helpers_analysis.justify_sampling | skip (208, 209)\n",
      "2022-06-19 11:49:44 |\u001B[36m DEBUG    \u001B[0m| src.helpers.helpers_analysis.justify_sampling | skip (262, 263)\n",
      "2022-06-19 11:49:44 |\u001B[36m DEBUG    \u001B[0m| src.helpers.helpers_analysis.justify_sampling | skip (262, 264)\n",
      "2022-06-19 11:49:44 |\u001B[36m DEBUG    \u001B[0m| src.helpers.helpers_analysis.justify_sampling | skip (263, 264)\n",
      "2022-06-19 11:49:44 |\u001B[36m DEBUG    \u001B[0m| src.helpers.helpers_analysis.justify_sampling | len(corr_score_values)=11\n",
      "2022-06-19 11:49:44 |\u001B[36m DEBUG    \u001B[0m| src.helpers.helpers_analysis.justify_sampling | skip (238, 239)\n",
      "2022-06-19 11:49:44 |\u001B[36m DEBUG    \u001B[0m| src.helpers.helpers_analysis.justify_sampling | skip (238, 240)\n",
      "2022-06-19 11:49:44 |\u001B[36m DEBUG    \u001B[0m| src.helpers.helpers_analysis.justify_sampling | skip (238, 241)\n",
      "2022-06-19 11:49:44 |\u001B[36m DEBUG    \u001B[0m| src.helpers.helpers_analysis.justify_sampling | skip (239, 240)\n",
      "2022-06-19 11:49:44 |\u001B[36m DEBUG    \u001B[0m| src.helpers.helpers_analysis.justify_sampling | skip (239, 241)\n",
      "2022-06-19 11:49:44 |\u001B[36m DEBUG    \u001B[0m| src.helpers.helpers_analysis.justify_sampling | skip (240, 241)\n",
      "2022-06-19 11:49:44 |\u001B[36m DEBUG    \u001B[0m| src.helpers.helpers_analysis.justify_sampling | len(corr_score_values)=4\n",
      "2022-06-19 11:49:44 |\u001B[36m DEBUG    \u001B[0m| src.helpers.helpers_analysis.justify_sampling | len(corr_score_values)=1\n",
      "2022-06-19 11:49:44 |\u001B[36m DEBUG    \u001B[0m| src.helpers.helpers_analysis.justify_sampling | skip (494, 495)\n",
      "2022-06-19 11:49:44 |\u001B[36m DEBUG    \u001B[0m| src.helpers.helpers_analysis.justify_sampling | len(corr_score_values)=5\n",
      "2022-06-19 11:49:44 |\u001B[36m DEBUG    \u001B[0m| src.helpers.helpers_analysis.justify_sampling | skip (547, 548)\n",
      "2022-06-19 11:49:44 |\u001B[36m DEBUG    \u001B[0m| src.helpers.helpers_analysis.justify_sampling | len(corr_score_values)=5\n",
      "2022-06-19 11:49:45 |\u001B[36m DEBUG    \u001B[0m| src.helpers.helpers_analysis.justify_sampling | skip (313, 314)\n",
      "2022-06-19 11:49:45 |\u001B[36m DEBUG    \u001B[0m| src.helpers.helpers_analysis.justify_sampling | len(corr_score_values)=5\n",
      "2022-06-19 11:49:45 |\u001B[36m DEBUG    \u001B[0m| src.helpers.helpers_analysis.justify_sampling | skip (290, 291)\n",
      "2022-06-19 11:49:45 |\u001B[36m DEBUG    \u001B[0m| src.helpers.helpers_analysis.justify_sampling | len(corr_score_values)=5\n",
      "2022-06-19 11:49:45 |\u001B[36m DEBUG    \u001B[0m| src.helpers.helpers_analysis.justify_sampling | skip (679, 680)\n",
      "2022-06-19 11:49:45 |\u001B[36m DEBUG    \u001B[0m| src.helpers.helpers_analysis.justify_sampling | skip (679, 681)\n",
      "2022-06-19 11:49:45 |\u001B[36m DEBUG    \u001B[0m| src.helpers.helpers_analysis.justify_sampling | skip (680, 681)\n",
      "2022-06-19 11:49:45 |\u001B[36m DEBUG    \u001B[0m| src.helpers.helpers_analysis.justify_sampling | len(corr_score_values)=3\n",
      "2022-06-19 11:49:45 |\u001B[36m DEBUG    \u001B[0m| src.helpers.helpers_analysis.justify_sampling | len(corr_score_values)=1\n"
     ]
    }
   ],
   "source": [
    "interactor_justifier = InteractorJustifier(TRAINING_DATA_PATH)"
   ]
  },
  {
   "cell_type": "code",
   "execution_count": 4,
   "id": "e1cb8095-3870-4011-909c-e4836b8d3b2e",
   "metadata": {
    "pycharm": {
     "name": "#%%\n"
    }
   },
   "outputs": [
    {
     "name": "stdout",
     "output_type": "stream",
     "text": [
      "2022-06-19 11:49:45 |\u001B[36m DEBUG    \u001B[0m| src.helpers.helpers_analysis.justify_sampling | Exporting data interactor_justifier ..\n",
      "2022-06-19 11:49:45 |\u001B[32m INFO     \u001B[0m| src.helpers.helpers_analysis.justify_sampling | interactor_justifier_2022-06-19.csv is exported successfully.\n"
     ]
    }
   ],
   "source": [
    "interactor_justifier.export_data(file_name=\"interactor_justifier\")"
   ]
  },
  {
   "cell_type": "code",
   "execution_count": null,
   "id": "66f09f46-26b6-4cf2-a0dd-1841db8da2b5",
   "metadata": {
    "pycharm": {
     "name": "#%%\n"
    }
   },
   "outputs": [],
   "source": []
  },
  {
   "cell_type": "code",
   "execution_count": null,
   "id": "5f12b0db-03f5-40cb-b5af-fd4ef8ebe285",
   "metadata": {
    "pycharm": {
     "name": "#%%\n"
    }
   },
   "outputs": [],
   "source": []
  },
  {
   "cell_type": "code",
   "execution_count": null,
   "id": "e6b32111-1bea-4ebe-af15-f6b8b6fa57b9",
   "metadata": {
    "pycharm": {
     "name": "#%%\n"
    }
   },
   "outputs": [],
   "source": []
  }
 ],
 "metadata": {
  "kernelspec": {
   "name": "predator",
   "language": "python",
   "display_name": "Predator"
  },
  "language_info": {
   "codemirror_mode": {
    "name": "ipython",
    "version": 3
   },
   "file_extension": ".py",
   "mimetype": "text/x-python",
   "name": "python",
   "nbconvert_exporter": "python",
   "pygments_lexer": "ipython3",
   "version": "3.8.10"
  }
 },
 "nbformat": 4,
 "nbformat_minor": 5
}