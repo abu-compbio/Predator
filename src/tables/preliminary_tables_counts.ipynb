{
 "cells": [
  {
   "cell_type": "markdown",
   "id": "1faf96bb-2d37-4d6a-b1ad-459fae4ee667",
   "metadata": {
    "pycharm": {
     "name": "#%% md\n"
    }
   },
   "source": [
    "# Preliminary Data"
   ]
  },
  {
   "cell_type": "markdown",
   "source": [
    "### Setup"
   ],
   "metadata": {
    "collapsed": false,
    "pycharm": {
     "name": "#%% md\n"
    }
   }
  },
  {
   "cell_type": "code",
   "execution_count": 1,
   "outputs": [
    {
     "name": "stdout",
     "output_type": "stream",
     "text": [
      "\u001B[32mJune 18, 2022 18:50:25\u001B[0m\n"
     ]
    }
   ],
   "source": [
    "from datetime import datetime\n",
    "\n",
    "print(\"\\033[32m{}\\033[0m\".format(datetime.now().strftime(\"%B %d, %Y %H:%M:%S\")))"
   ],
   "metadata": {
    "collapsed": false,
    "pycharm": {
     "name": "#%%\n"
    }
   }
  },
  {
   "cell_type": "code",
   "execution_count": 2,
   "outputs": [],
   "source": [
    "import pandas as pd\n",
    "from pandas import DataFrame\n",
    "from utils import MostFrequentlyDisruptedPartnersAdder\n",
    "\n",
    "# Preliminary Data Paths\n",
    "BRCA_PRELIMINARY_DATA_PATH = r\"../../data/predictions_datasets/brca_prediction_2022-06-17/ed35a3a3/brca_preliminary_data_cgc_2022-06-17.xlsx\"\n",
    "COAD_PRELIMINARY_DATA_PATH = r\"../../data/predictions_datasets/coad_prediction_2022-06-17/84fd283a/coad_preliminary_data_cgc_2022-06-17.xlsx\"\n",
    "ESCA_PRELIMINARY_DATA_PATH = r\"../../data/predictions_datasets/esca_prediction_2022-06-17/f2d1e99a/esca_preliminary_data_cgc_2022-06-17.xlsx\"\n",
    "GBM_PRELIMINARY_DATA_PATH = r\"../../data/predictions_datasets/gbm_prediction_2022-06-17/8d7f7caa/gbm_preliminary_data_cgc_2022-06-17.xlsx\"\n",
    "HNSC_PRELIMINARY_DATA_PATH = r\"../../data/predictions_datasets/hnsc_prediction_2022-06-17/76f498d9/hnsc_preliminary_data_cgc_2022-06-17.xlsx\"\n",
    "OV_PRELIMINARY_DATA_PATH = r\"../../data/predictions_datasets/ov_prediction_2022-06-17/865d1897/ov_preliminary_data_cgc_2022-06-17.xlsx\"\n",
    "\n",
    "# Reflect changes in the modules immediately.\n",
    "%load_ext autoreload\n",
    "%autoreload 2"
   ],
   "metadata": {
    "collapsed": false,
    "pycharm": {
     "name": "#%%\n"
    }
   }
  },
  {
   "cell_type": "markdown",
   "source": [
    "### Filtering Condition"
   ],
   "metadata": {
    "collapsed": false,
    "pycharm": {
     "name": "#%% md\n"
    }
   }
  },
  {
   "cell_type": "markdown",
   "source": [
    "### Updated:\n",
    "[14:29, 03/03/2022] Hilal Kazan (ABU CS Prof. ): bu tabloda disruptive ratio 0.8 ve üstü desek daha iyi olacak, o zaman sığar sanıyorum\n",
    "[14:29, 03/03/2022] Hilal Kazan (ABU CS Prof. ): COADS Q13748 için TUBA3C gen id'si\n",
    "\n",
    "[15:51, 03/03/2022] Hilal Kazan (ABU CS Prof. ): Tablo 2 ile ilgili birkaç değişiklik\n",
    "[15:51, 03/03/2022] Hilal Kazan (ABU CS Prof. ): COAD'ı BRCA'dan sonraya taşıyalım. Bir de aynı kohort içindeki genleri interface count'a göre sort edelim.\n",
    "[15:51, 03/03/2022] Hilal Kazan (ABU CS Prof. ): Bir de aynı kohort içindeki genleri interface count'a göre sort edelim. yerine şu daha doğru önce disruptive ratio sonra interface count'a göre.\n",
    "[15:52, 03/03/2022] Hilal Kazan (ABU CS Prof. ): Örneğin COAD'da 13 gen 1 disruptive _ratio'ya sahip,\n",
    "[15:52, 03/03/2022] Hilal Kazan (ABU CS Prof. ): bu genler rastgele sıralanmasın, interface count'ı en yüksek olan en yukarıda olsun\n"
   ],
   "metadata": {
    "collapsed": false,
    "pycharm": {
     "name": "#%% md\n"
    }
   }
  },
  {
   "cell_type": "markdown",
   "source": [
    "[14:54, 04/03/2022] Hilal Kazan (ABU CS Prof. ): patient count'u 1 ve 2 olanları çıkartmak lazım bence\n",
    "[14:54, 04/03/2022] Hilal Kazan (ABU CS Prof. ): bir de nan'ları düzeltelim"
   ],
   "metadata": {
    "collapsed": false,
    "pycharm": {
     "name": "#%% md\n"
    }
   }
  },
  {
   "cell_type": "code",
   "execution_count": 3,
   "outputs": [],
   "source": [
    "def round_decimals(x, n_decimals=2):\n",
    "    if isinstance(x, float):\n",
    "        try:\n",
    "            return round(x, n_decimals)\n",
    "        except TypeError:\n",
    "            print(f\"VALUE X={x}\")\n",
    "    else:\n",
    "        return x"
   ],
   "metadata": {
    "collapsed": false,
    "pycharm": {
     "name": "#%%\n"
    }
   }
  },
  {
   "cell_type": "code",
   "execution_count": 4,
   "outputs": [],
   "source": [
    "def filterer(data, tcga) -> DataFrame:\n",
    "    data_filtered = data.copy()\n",
    "    # Disruptive ratio\n",
    "    data_filtered[\"RATIO_(prev_two_col)\"] = data_filtered[\"NUM_INTERFACE_PATIENTS_DISRUPTIVE_INTERACTOR\"] / data_filtered[\"PATIENT_INTERFACE_COUNT\"]\n",
    "    # Round the ratio values.\n",
    "    data_filtered[\"RATIO_(prev_two_col)\"] = data_filtered[\"RATIO_(prev_two_col)\"].apply(lambda x: round_decimals(x))\n",
    "    # Filtering based on given conditions.\n",
    "    data_filtered = data_filtered[\n",
    "        (data_filtered[\"PATIENT_INTERFACE_COUNT\"] >= 5) &\n",
    "        (data_filtered[\"RATIO_(prev_two_col)\"] >= 0.8)\n",
    "    ].copy()\n",
    "\n",
    "    # Keep only relevant columns\n",
    "    data_filtered = data_filtered[\n",
    "        [\"PROTEIN\", \"GENE\", \"PATIENT_CORE_COUNT\", \"PATIENT_INTERFACE_COUNT\", \"NUM_INTERFACE_PATIENTS_DISRUPTIVE_INTERACTOR\", \"RATIO_(prev_two_col)\", \"NUM_UNIQUE_INTERACTORS\", \"CGC_STATUS\"]\n",
    "    ].copy()\n",
    "\n",
    "    data_filtered.insert(0, \"TCGA\", tcga)\n",
    "\n",
    "    data_filtered = data_filtered.sort_values([\"RATIO_(prev_two_col)\", \"PATIENT_INTERFACE_COUNT\"], ascending=[False, False])\n",
    "\n",
    "    return data_filtered\n"
   ],
   "metadata": {
    "collapsed": false,
    "pycharm": {
     "name": "#%%\n"
    }
   }
  },
  {
   "cell_type": "markdown",
   "source": [
    "# Part I"
   ],
   "metadata": {
    "collapsed": false,
    "pycharm": {
     "name": "#%% md\n"
    }
   }
  },
  {
   "cell_type": "code",
   "execution_count": 5,
   "outputs": [],
   "source": [
    "brca_preliminary_data = pd.read_excel(BRCA_PRELIMINARY_DATA_PATH)\n",
    "coad_preliminary_data = pd.read_excel(COAD_PRELIMINARY_DATA_PATH)\n",
    "esca_preliminary_data = pd.read_excel(ESCA_PRELIMINARY_DATA_PATH)\n",
    "gbm_preliminary_data = pd.read_excel(GBM_PRELIMINARY_DATA_PATH)\n",
    "hnsc_preliminary_data = pd.read_excel(HNSC_PRELIMINARY_DATA_PATH)\n",
    "ov_preliminary_data = pd.read_excel(OV_PRELIMINARY_DATA_PATH)"
   ],
   "metadata": {
    "collapsed": false,
    "pycharm": {
     "name": "#%%\n"
    }
   }
  },
  {
   "cell_type": "code",
   "execution_count": 6,
   "outputs": [],
   "source": [
    "brca_preliminary_data_filtered = filterer(brca_preliminary_data, \"BRCA\")\n",
    "coad_preliminary_data_filtered = filterer(coad_preliminary_data, \"COAD\")\n",
    "esca_preliminary_data_filtered = filterer(esca_preliminary_data, \"ESCA\")\n",
    "gbm_preliminary_data_filtered = filterer(gbm_preliminary_data, \"GBM\")\n",
    "hnsc_preliminary_data_filtered = filterer(hnsc_preliminary_data, \"HNSC\")\n",
    "ov_preliminary_data_filtered = filterer(ov_preliminary_data, \"OV\")"
   ],
   "metadata": {
    "collapsed": false,
    "pycharm": {
     "name": "#%%\n"
    }
   }
  },
  {
   "cell_type": "code",
   "execution_count": 7,
   "outputs": [
    {
     "data": {
      "text/plain": "      TCGA PROTEIN    GENE  PATIENT_CORE_COUNT  PATIENT_INTERFACE_COUNT  \\\n2465  BRCA  P42336  PIK3CA                  35                      124   \n1204  BRCA  P04637    TP53                 141                       55   \n3126  BRCA  P68431    H3C1                   1                       13   \n3091  BRCA  P62805    H4C1                   6                       11   \n2534  BRCA  P45985  MAP2K4                   3                        8   \n1201  BRCA  P04626   ERBB2                  12                       14   \n1447  BRCA  P0CG48     UBC                   0                        7   \n\n      NUM_INTERFACE_PATIENTS_DISRUPTIVE_INTERACTOR  RATIO_(prev_two_col)  \\\n2465                                           120                  0.97   \n1204                                            51                  0.93   \n3126                                            12                  0.92   \n3091                                            10                  0.91   \n2534                                             7                  0.88   \n1201                                            12                  0.86   \n1447                                             6                  0.86   \n\n      NUM_UNIQUE_INTERACTORS CGC_STATUS  \n2465                       6          +  \n1204                      17          +  \n3126                      11          -  \n3091                      16          -  \n2534                       7          +  \n1201                      16          +  \n1447                       7          -  ",
      "text/html": "<div>\n<style scoped>\n    .dataframe tbody tr th:only-of-type {\n        vertical-align: middle;\n    }\n\n    .dataframe tbody tr th {\n        vertical-align: top;\n    }\n\n    .dataframe thead th {\n        text-align: right;\n    }\n</style>\n<table border=\"1\" class=\"dataframe\">\n  <thead>\n    <tr style=\"text-align: right;\">\n      <th></th>\n      <th>TCGA</th>\n      <th>PROTEIN</th>\n      <th>GENE</th>\n      <th>PATIENT_CORE_COUNT</th>\n      <th>PATIENT_INTERFACE_COUNT</th>\n      <th>NUM_INTERFACE_PATIENTS_DISRUPTIVE_INTERACTOR</th>\n      <th>RATIO_(prev_two_col)</th>\n      <th>NUM_UNIQUE_INTERACTORS</th>\n      <th>CGC_STATUS</th>\n    </tr>\n  </thead>\n  <tbody>\n    <tr>\n      <th>2465</th>\n      <td>BRCA</td>\n      <td>P42336</td>\n      <td>PIK3CA</td>\n      <td>35</td>\n      <td>124</td>\n      <td>120</td>\n      <td>0.97</td>\n      <td>6</td>\n      <td>+</td>\n    </tr>\n    <tr>\n      <th>1204</th>\n      <td>BRCA</td>\n      <td>P04637</td>\n      <td>TP53</td>\n      <td>141</td>\n      <td>55</td>\n      <td>51</td>\n      <td>0.93</td>\n      <td>17</td>\n      <td>+</td>\n    </tr>\n    <tr>\n      <th>3126</th>\n      <td>BRCA</td>\n      <td>P68431</td>\n      <td>H3C1</td>\n      <td>1</td>\n      <td>13</td>\n      <td>12</td>\n      <td>0.92</td>\n      <td>11</td>\n      <td>-</td>\n    </tr>\n    <tr>\n      <th>3091</th>\n      <td>BRCA</td>\n      <td>P62805</td>\n      <td>H4C1</td>\n      <td>6</td>\n      <td>11</td>\n      <td>10</td>\n      <td>0.91</td>\n      <td>16</td>\n      <td>-</td>\n    </tr>\n    <tr>\n      <th>2534</th>\n      <td>BRCA</td>\n      <td>P45985</td>\n      <td>MAP2K4</td>\n      <td>3</td>\n      <td>8</td>\n      <td>7</td>\n      <td>0.88</td>\n      <td>7</td>\n      <td>+</td>\n    </tr>\n    <tr>\n      <th>1201</th>\n      <td>BRCA</td>\n      <td>P04626</td>\n      <td>ERBB2</td>\n      <td>12</td>\n      <td>14</td>\n      <td>12</td>\n      <td>0.86</td>\n      <td>16</td>\n      <td>+</td>\n    </tr>\n    <tr>\n      <th>1447</th>\n      <td>BRCA</td>\n      <td>P0CG48</td>\n      <td>UBC</td>\n      <td>0</td>\n      <td>7</td>\n      <td>6</td>\n      <td>0.86</td>\n      <td>7</td>\n      <td>-</td>\n    </tr>\n  </tbody>\n</table>\n</div>"
     },
     "execution_count": 7,
     "metadata": {},
     "output_type": "execute_result"
    }
   ],
   "source": [
    "brca_preliminary_data_filtered"
   ],
   "metadata": {
    "collapsed": false,
    "pycharm": {
     "name": "#%%\n"
    }
   }
  },
  {
   "cell_type": "code",
   "execution_count": 8,
   "outputs": [],
   "source": [
    "from utils import extract_filtered_proteins\n",
    "\n",
    "FILTERED_PROTEINS_PATH = \"../analyses/MostFrequentlyDisruptedInteractions/filtered_proteins/\""
   ],
   "metadata": {
    "collapsed": false,
    "pycharm": {
     "name": "#%%\n"
    }
   }
  },
  {
   "cell_type": "code",
   "execution_count": 9,
   "outputs": [
    {
     "name": "stdout",
     "output_type": "stream",
     "text": [
      "7 proteins extracted into BRCA_filtered_proteins.txt\n",
      "32 proteins extracted into COAD_filtered_proteins.txt\n",
      "2 proteins extracted into ESCA_filtered_proteins.txt\n",
      "3 proteins extracted into GBM_filtered_proteins.txt\n",
      "16 proteins extracted into HNSC_filtered_proteins.txt\n",
      "3 proteins extracted into OV_filtered_proteins.txt\n"
     ]
    }
   ],
   "source": [
    "extract_filtered_proteins(brca_preliminary_data_filtered, path=FILTERED_PROTEINS_PATH)\n",
    "extract_filtered_proteins(coad_preliminary_data_filtered, path=FILTERED_PROTEINS_PATH)\n",
    "extract_filtered_proteins(esca_preliminary_data_filtered, path=FILTERED_PROTEINS_PATH)\n",
    "extract_filtered_proteins(gbm_preliminary_data_filtered, path=FILTERED_PROTEINS_PATH)\n",
    "extract_filtered_proteins(hnsc_preliminary_data_filtered, path=FILTERED_PROTEINS_PATH)\n",
    "extract_filtered_proteins(ov_preliminary_data_filtered, path=FILTERED_PROTEINS_PATH)"
   ],
   "metadata": {
    "collapsed": false,
    "pycharm": {
     "name": "#%%\n"
    }
   }
  },
  {
   "cell_type": "code",
   "execution_count": 10,
   "outputs": [],
   "source": [
    "# Now, run PatientInteractionAnalysis and come back here."
   ],
   "metadata": {
    "collapsed": false,
    "pycharm": {
     "name": "#%%\n"
    }
   }
  },
  {
   "cell_type": "markdown",
   "source": [
    "# Part II"
   ],
   "metadata": {
    "collapsed": false,
    "pycharm": {
     "name": "#%% md\n"
    }
   }
  },
  {
   "cell_type": "code",
   "execution_count": 11,
   "outputs": [],
   "source": [
    "# Welcome back"
   ],
   "metadata": {
    "collapsed": false,
    "pycharm": {
     "name": "#%%\n"
    }
   }
  },
  {
   "cell_type": "code",
   "execution_count": 12,
   "outputs": [],
   "source": [
    "INTERACTIONS_SUMMARY_TABLE_FOLDER_PATH = r\"../analyses/MostFrequentlyDisruptedInteractions/interactions_summary_tables\""
   ],
   "metadata": {
    "collapsed": false,
    "pycharm": {
     "name": "#%%\n"
    }
   }
  },
  {
   "cell_type": "code",
   "execution_count": 13,
   "outputs": [],
   "source": [
    "brca_preliminary_data_filtered_updated = MostFrequentlyDisruptedPartnersAdder(\n",
    "    tcga=\"BRCA\",\n",
    "    preliminary_data=brca_preliminary_data_filtered,\n",
    "    interactions_summary_folder_path=INTERACTIONS_SUMMARY_TABLE_FOLDER_PATH,\n",
    ").get_most_frequently_disrupted_partners_added_data()\n",
    "\n",
    "coad_preliminary_data_filtered_updated = MostFrequentlyDisruptedPartnersAdder(\n",
    "    tcga=\"COAD\",\n",
    "    preliminary_data=coad_preliminary_data_filtered,\n",
    "    interactions_summary_folder_path=INTERACTIONS_SUMMARY_TABLE_FOLDER_PATH,\n",
    ").get_most_frequently_disrupted_partners_added_data()\n",
    "\n",
    "esca_preliminary_data_filtered_updated = MostFrequentlyDisruptedPartnersAdder(\n",
    "    tcga=\"ESCA\",\n",
    "    preliminary_data=esca_preliminary_data_filtered,\n",
    "    interactions_summary_folder_path=INTERACTIONS_SUMMARY_TABLE_FOLDER_PATH,\n",
    ").get_most_frequently_disrupted_partners_added_data()\n",
    "\n",
    "gbm_preliminary_data_filtered_updated = MostFrequentlyDisruptedPartnersAdder(\n",
    "    tcga=\"GBM\",\n",
    "    preliminary_data=gbm_preliminary_data_filtered,\n",
    "    interactions_summary_folder_path=INTERACTIONS_SUMMARY_TABLE_FOLDER_PATH,\n",
    ").get_most_frequently_disrupted_partners_added_data()\n",
    "\n",
    "hnsc_preliminary_data_filtered_updated = MostFrequentlyDisruptedPartnersAdder(\n",
    "    tcga=\"HNSC\",\n",
    "    preliminary_data=hnsc_preliminary_data_filtered,\n",
    "    interactions_summary_folder_path=INTERACTIONS_SUMMARY_TABLE_FOLDER_PATH,\n",
    ").get_most_frequently_disrupted_partners_added_data()\n",
    "\n",
    "ov_preliminary_data_filtered_updated = MostFrequentlyDisruptedPartnersAdder(\n",
    "    tcga=\"OV\",\n",
    "    preliminary_data=ov_preliminary_data_filtered,\n",
    "    interactions_summary_folder_path=INTERACTIONS_SUMMARY_TABLE_FOLDER_PATH,\n",
    ").get_most_frequently_disrupted_partners_added_data()"
   ],
   "metadata": {
    "collapsed": false,
    "pycharm": {
     "name": "#%%\n"
    }
   }
  },
  {
   "cell_type": "code",
   "execution_count": 13,
   "outputs": [],
   "source": [],
   "metadata": {
    "collapsed": false,
    "pycharm": {
     "name": "#%%\n"
    }
   }
  },
  {
   "cell_type": "code",
   "execution_count": 14,
   "outputs": [
    {
     "data": {
      "text/plain": "      TCGA PROTEIN    GENE  PATIENT_CORE_COUNT  PATIENT_INTERFACE_COUNT  \\\n2465  BRCA  P42336  PIK3CA                  35                      124   \n1204  BRCA  P04637    TP53                 141                       55   \n3126  BRCA  P68431    H3C1                   1                       13   \n3091  BRCA  P62805    H4C1                   6                       11   \n2534  BRCA  P45985  MAP2K4                   3                        8   \n1201  BRCA  P04626   ERBB2                  12                       14   \n1447  BRCA  P0CG48     UBC                   0                        7   \n\n      NUM_INTERFACE_PATIENTS_DISRUPTIVE_INTERACTOR  RATIO_(prev_two_col)  \\\n2465                                           120                  0.97   \n1204                                            51                  0.93   \n3126                                            12                  0.92   \n3091                                            10                  0.91   \n2534                                             7                  0.88   \n1201                                            12                  0.86   \n1447                                             6                  0.86   \n\n      NUM_UNIQUE_INTERACTORS CGC_STATUS  \n2465                       6          +  \n1204                      17          +  \n3126                      11          -  \n3091                      16          -  \n2534                       7          +  \n1201                      16          +  \n1447                       7          -  ",
      "text/html": "<div>\n<style scoped>\n    .dataframe tbody tr th:only-of-type {\n        vertical-align: middle;\n    }\n\n    .dataframe tbody tr th {\n        vertical-align: top;\n    }\n\n    .dataframe thead th {\n        text-align: right;\n    }\n</style>\n<table border=\"1\" class=\"dataframe\">\n  <thead>\n    <tr style=\"text-align: right;\">\n      <th></th>\n      <th>TCGA</th>\n      <th>PROTEIN</th>\n      <th>GENE</th>\n      <th>PATIENT_CORE_COUNT</th>\n      <th>PATIENT_INTERFACE_COUNT</th>\n      <th>NUM_INTERFACE_PATIENTS_DISRUPTIVE_INTERACTOR</th>\n      <th>RATIO_(prev_two_col)</th>\n      <th>NUM_UNIQUE_INTERACTORS</th>\n      <th>CGC_STATUS</th>\n    </tr>\n  </thead>\n  <tbody>\n    <tr>\n      <th>2465</th>\n      <td>BRCA</td>\n      <td>P42336</td>\n      <td>PIK3CA</td>\n      <td>35</td>\n      <td>124</td>\n      <td>120</td>\n      <td>0.97</td>\n      <td>6</td>\n      <td>+</td>\n    </tr>\n    <tr>\n      <th>1204</th>\n      <td>BRCA</td>\n      <td>P04637</td>\n      <td>TP53</td>\n      <td>141</td>\n      <td>55</td>\n      <td>51</td>\n      <td>0.93</td>\n      <td>17</td>\n      <td>+</td>\n    </tr>\n    <tr>\n      <th>3126</th>\n      <td>BRCA</td>\n      <td>P68431</td>\n      <td>H3C1</td>\n      <td>1</td>\n      <td>13</td>\n      <td>12</td>\n      <td>0.92</td>\n      <td>11</td>\n      <td>-</td>\n    </tr>\n    <tr>\n      <th>3091</th>\n      <td>BRCA</td>\n      <td>P62805</td>\n      <td>H4C1</td>\n      <td>6</td>\n      <td>11</td>\n      <td>10</td>\n      <td>0.91</td>\n      <td>16</td>\n      <td>-</td>\n    </tr>\n    <tr>\n      <th>2534</th>\n      <td>BRCA</td>\n      <td>P45985</td>\n      <td>MAP2K4</td>\n      <td>3</td>\n      <td>8</td>\n      <td>7</td>\n      <td>0.88</td>\n      <td>7</td>\n      <td>+</td>\n    </tr>\n    <tr>\n      <th>1201</th>\n      <td>BRCA</td>\n      <td>P04626</td>\n      <td>ERBB2</td>\n      <td>12</td>\n      <td>14</td>\n      <td>12</td>\n      <td>0.86</td>\n      <td>16</td>\n      <td>+</td>\n    </tr>\n    <tr>\n      <th>1447</th>\n      <td>BRCA</td>\n      <td>P0CG48</td>\n      <td>UBC</td>\n      <td>0</td>\n      <td>7</td>\n      <td>6</td>\n      <td>0.86</td>\n      <td>7</td>\n      <td>-</td>\n    </tr>\n  </tbody>\n</table>\n</div>"
     },
     "execution_count": 14,
     "metadata": {},
     "output_type": "execute_result"
    }
   ],
   "source": [
    "brca_preliminary_data_filtered"
   ],
   "metadata": {
    "collapsed": false,
    "pycharm": {
     "name": "#%%\n"
    }
   }
  },
  {
   "cell_type": "code",
   "execution_count": 14,
   "outputs": [],
   "source": [],
   "metadata": {
    "collapsed": false,
    "pycharm": {
     "name": "#%%\n"
    }
   }
  },
  {
   "cell_type": "code",
   "execution_count": 15,
   "outputs": [
    {
     "data": {
      "text/plain": "       TCGA PROTEIN     GENE  PATIENT_CORE_COUNT  PATIENT_INTERFACE_COUNT  \\\n1489   COAD  P04637     TP53                  97                       49   \n2228   COAD  P19784  CSNK2A2                   2                        9   \n4709   COAD  Q15365    PCBP1                   4                        9   \n212    COAD  O00238   BMPR1B                   2                        6   \n2110   COAD  P16885    PLCG2                   4                        6   \n3870   COAD  P84022    SMAD3                   5                        6   \n7578   COAD  Q96E17    RAB3C                   1                        6   \n2968   COAD  P41743    PRKCI                   2                        5   \n3453   COAD  P53350     PLK1                   5                        5   \n3538   COAD  P55072      VCP                   3                        5   \n3713   COAD  P61586     RHOA                   0                        5   \n4337   COAD  Q13310   PABPC4                   2                        5   \n9855   COAD  Q9UKV0    HDAC9                   7                        5   \n2029   COAD  P15056     BRAF                   3                       52   \n7426   COAD  Q969H0    FBXW7                  13                       25   \n3757   COAD  P62805     H4C1                   5                       16   \n4379   COAD  Q13485    SMAD4                  14                       21   \n2882   COAD  P37173   TGFBR2                   3                        7   \n4431   COAD  Q13748      NaN                  14                        7   \n4783   COAD  Q15796    SMAD2                   3                        7   \n3068   COAD  P45985   MAP2K4                  11                        6   \n4846   COAD  Q16576    RBBP7                   3                        6   \n10247  COAD  Q9Y463   DYRK1B                   0                        6   \n10463  COAD  Q9Y6R4   MAP3K4                   0                        6   \n1510   COAD  P05107    ITGB2                   5                        5   \n1733   COAD  P09619   PDGFRB                   2                        5   \n3223   COAD  P49674   CSNK1E                   1                        5   \n3264   COAD  P49902    NT5C2                   1                        5   \n3705   COAD  P61244      MAX                   2                        5   \n4827   COAD  Q16478    GRIK5                  13                        5   \n4865   COAD  Q16659    MAPK6                   2                        5   \n9170   COAD  Q9NRM7    LATS2                   1                        5   \n\n       NUM_INTERFACE_PATIENTS_DISRUPTIVE_INTERACTOR  RATIO_(prev_two_col)  \\\n1489                                             49                  1.00   \n2228                                              9                  1.00   \n4709                                              9                  1.00   \n212                                               6                  1.00   \n2110                                              6                  1.00   \n3870                                              6                  1.00   \n7578                                              6                  1.00   \n2968                                              5                  1.00   \n3453                                              5                  1.00   \n3538                                              5                  1.00   \n3713                                              5                  1.00   \n4337                                              5                  1.00   \n9855                                              5                  1.00   \n2029                                             51                  0.98   \n7426                                             24                  0.96   \n3757                                             15                  0.94   \n4379                                             19                  0.90   \n2882                                              6                  0.86   \n4431                                              6                  0.86   \n4783                                              6                  0.86   \n3068                                              5                  0.83   \n4846                                              5                  0.83   \n10247                                             5                  0.83   \n10463                                             5                  0.83   \n1510                                              4                  0.80   \n1733                                              4                  0.80   \n3223                                              4                  0.80   \n3264                                              4                  0.80   \n3705                                              4                  0.80   \n4827                                              4                  0.80   \n4865                                              4                  0.80   \n9170                                              4                  0.80   \n\n       NUM_UNIQUE_INTERACTORS CGC_STATUS  \n1489                       19          +  \n2228                       10          -  \n4709                        5          +  \n212                        16          -  \n2110                       14          -  \n3870                        5          +  \n7578                        4          -  \n2968                       13          -  \n3453                       10          -  \n3538                       11          -  \n3713                       41          +  \n4337                        5          -  \n9855                        3          -  \n2029                        3          +  \n7426                        4          +  \n3757                       18          -  \n4379                        5          +  \n2882                        7          +  \n4431                        6          -  \n4783                        8          +  \n3068                       18          +  \n4846                        5          -  \n10247                       6          -  \n10463                      14          -  \n1510                        7          -  \n1733                       16          +  \n3223                        4          -  \n3264                        1          +  \n3705                       12          +  \n4827                        4          -  \n4865                        4          -  \n9170                        8          +  ",
      "text/html": "<div>\n<style scoped>\n    .dataframe tbody tr th:only-of-type {\n        vertical-align: middle;\n    }\n\n    .dataframe tbody tr th {\n        vertical-align: top;\n    }\n\n    .dataframe thead th {\n        text-align: right;\n    }\n</style>\n<table border=\"1\" class=\"dataframe\">\n  <thead>\n    <tr style=\"text-align: right;\">\n      <th></th>\n      <th>TCGA</th>\n      <th>PROTEIN</th>\n      <th>GENE</th>\n      <th>PATIENT_CORE_COUNT</th>\n      <th>PATIENT_INTERFACE_COUNT</th>\n      <th>NUM_INTERFACE_PATIENTS_DISRUPTIVE_INTERACTOR</th>\n      <th>RATIO_(prev_two_col)</th>\n      <th>NUM_UNIQUE_INTERACTORS</th>\n      <th>CGC_STATUS</th>\n    </tr>\n  </thead>\n  <tbody>\n    <tr>\n      <th>1489</th>\n      <td>COAD</td>\n      <td>P04637</td>\n      <td>TP53</td>\n      <td>97</td>\n      <td>49</td>\n      <td>49</td>\n      <td>1.00</td>\n      <td>19</td>\n      <td>+</td>\n    </tr>\n    <tr>\n      <th>2228</th>\n      <td>COAD</td>\n      <td>P19784</td>\n      <td>CSNK2A2</td>\n      <td>2</td>\n      <td>9</td>\n      <td>9</td>\n      <td>1.00</td>\n      <td>10</td>\n      <td>-</td>\n    </tr>\n    <tr>\n      <th>4709</th>\n      <td>COAD</td>\n      <td>Q15365</td>\n      <td>PCBP1</td>\n      <td>4</td>\n      <td>9</td>\n      <td>9</td>\n      <td>1.00</td>\n      <td>5</td>\n      <td>+</td>\n    </tr>\n    <tr>\n      <th>212</th>\n      <td>COAD</td>\n      <td>O00238</td>\n      <td>BMPR1B</td>\n      <td>2</td>\n      <td>6</td>\n      <td>6</td>\n      <td>1.00</td>\n      <td>16</td>\n      <td>-</td>\n    </tr>\n    <tr>\n      <th>2110</th>\n      <td>COAD</td>\n      <td>P16885</td>\n      <td>PLCG2</td>\n      <td>4</td>\n      <td>6</td>\n      <td>6</td>\n      <td>1.00</td>\n      <td>14</td>\n      <td>-</td>\n    </tr>\n    <tr>\n      <th>3870</th>\n      <td>COAD</td>\n      <td>P84022</td>\n      <td>SMAD3</td>\n      <td>5</td>\n      <td>6</td>\n      <td>6</td>\n      <td>1.00</td>\n      <td>5</td>\n      <td>+</td>\n    </tr>\n    <tr>\n      <th>7578</th>\n      <td>COAD</td>\n      <td>Q96E17</td>\n      <td>RAB3C</td>\n      <td>1</td>\n      <td>6</td>\n      <td>6</td>\n      <td>1.00</td>\n      <td>4</td>\n      <td>-</td>\n    </tr>\n    <tr>\n      <th>2968</th>\n      <td>COAD</td>\n      <td>P41743</td>\n      <td>PRKCI</td>\n      <td>2</td>\n      <td>5</td>\n      <td>5</td>\n      <td>1.00</td>\n      <td>13</td>\n      <td>-</td>\n    </tr>\n    <tr>\n      <th>3453</th>\n      <td>COAD</td>\n      <td>P53350</td>\n      <td>PLK1</td>\n      <td>5</td>\n      <td>5</td>\n      <td>5</td>\n      <td>1.00</td>\n      <td>10</td>\n      <td>-</td>\n    </tr>\n    <tr>\n      <th>3538</th>\n      <td>COAD</td>\n      <td>P55072</td>\n      <td>VCP</td>\n      <td>3</td>\n      <td>5</td>\n      <td>5</td>\n      <td>1.00</td>\n      <td>11</td>\n      <td>-</td>\n    </tr>\n    <tr>\n      <th>3713</th>\n      <td>COAD</td>\n      <td>P61586</td>\n      <td>RHOA</td>\n      <td>0</td>\n      <td>5</td>\n      <td>5</td>\n      <td>1.00</td>\n      <td>41</td>\n      <td>+</td>\n    </tr>\n    <tr>\n      <th>4337</th>\n      <td>COAD</td>\n      <td>Q13310</td>\n      <td>PABPC4</td>\n      <td>2</td>\n      <td>5</td>\n      <td>5</td>\n      <td>1.00</td>\n      <td>5</td>\n      <td>-</td>\n    </tr>\n    <tr>\n      <th>9855</th>\n      <td>COAD</td>\n      <td>Q9UKV0</td>\n      <td>HDAC9</td>\n      <td>7</td>\n      <td>5</td>\n      <td>5</td>\n      <td>1.00</td>\n      <td>3</td>\n      <td>-</td>\n    </tr>\n    <tr>\n      <th>2029</th>\n      <td>COAD</td>\n      <td>P15056</td>\n      <td>BRAF</td>\n      <td>3</td>\n      <td>52</td>\n      <td>51</td>\n      <td>0.98</td>\n      <td>3</td>\n      <td>+</td>\n    </tr>\n    <tr>\n      <th>7426</th>\n      <td>COAD</td>\n      <td>Q969H0</td>\n      <td>FBXW7</td>\n      <td>13</td>\n      <td>25</td>\n      <td>24</td>\n      <td>0.96</td>\n      <td>4</td>\n      <td>+</td>\n    </tr>\n    <tr>\n      <th>3757</th>\n      <td>COAD</td>\n      <td>P62805</td>\n      <td>H4C1</td>\n      <td>5</td>\n      <td>16</td>\n      <td>15</td>\n      <td>0.94</td>\n      <td>18</td>\n      <td>-</td>\n    </tr>\n    <tr>\n      <th>4379</th>\n      <td>COAD</td>\n      <td>Q13485</td>\n      <td>SMAD4</td>\n      <td>14</td>\n      <td>21</td>\n      <td>19</td>\n      <td>0.90</td>\n      <td>5</td>\n      <td>+</td>\n    </tr>\n    <tr>\n      <th>2882</th>\n      <td>COAD</td>\n      <td>P37173</td>\n      <td>TGFBR2</td>\n      <td>3</td>\n      <td>7</td>\n      <td>6</td>\n      <td>0.86</td>\n      <td>7</td>\n      <td>+</td>\n    </tr>\n    <tr>\n      <th>4431</th>\n      <td>COAD</td>\n      <td>Q13748</td>\n      <td>NaN</td>\n      <td>14</td>\n      <td>7</td>\n      <td>6</td>\n      <td>0.86</td>\n      <td>6</td>\n      <td>-</td>\n    </tr>\n    <tr>\n      <th>4783</th>\n      <td>COAD</td>\n      <td>Q15796</td>\n      <td>SMAD2</td>\n      <td>3</td>\n      <td>7</td>\n      <td>6</td>\n      <td>0.86</td>\n      <td>8</td>\n      <td>+</td>\n    </tr>\n    <tr>\n      <th>3068</th>\n      <td>COAD</td>\n      <td>P45985</td>\n      <td>MAP2K4</td>\n      <td>11</td>\n      <td>6</td>\n      <td>5</td>\n      <td>0.83</td>\n      <td>18</td>\n      <td>+</td>\n    </tr>\n    <tr>\n      <th>4846</th>\n      <td>COAD</td>\n      <td>Q16576</td>\n      <td>RBBP7</td>\n      <td>3</td>\n      <td>6</td>\n      <td>5</td>\n      <td>0.83</td>\n      <td>5</td>\n      <td>-</td>\n    </tr>\n    <tr>\n      <th>10247</th>\n      <td>COAD</td>\n      <td>Q9Y463</td>\n      <td>DYRK1B</td>\n      <td>0</td>\n      <td>6</td>\n      <td>5</td>\n      <td>0.83</td>\n      <td>6</td>\n      <td>-</td>\n    </tr>\n    <tr>\n      <th>10463</th>\n      <td>COAD</td>\n      <td>Q9Y6R4</td>\n      <td>MAP3K4</td>\n      <td>0</td>\n      <td>6</td>\n      <td>5</td>\n      <td>0.83</td>\n      <td>14</td>\n      <td>-</td>\n    </tr>\n    <tr>\n      <th>1510</th>\n      <td>COAD</td>\n      <td>P05107</td>\n      <td>ITGB2</td>\n      <td>5</td>\n      <td>5</td>\n      <td>4</td>\n      <td>0.80</td>\n      <td>7</td>\n      <td>-</td>\n    </tr>\n    <tr>\n      <th>1733</th>\n      <td>COAD</td>\n      <td>P09619</td>\n      <td>PDGFRB</td>\n      <td>2</td>\n      <td>5</td>\n      <td>4</td>\n      <td>0.80</td>\n      <td>16</td>\n      <td>+</td>\n    </tr>\n    <tr>\n      <th>3223</th>\n      <td>COAD</td>\n      <td>P49674</td>\n      <td>CSNK1E</td>\n      <td>1</td>\n      <td>5</td>\n      <td>4</td>\n      <td>0.80</td>\n      <td>4</td>\n      <td>-</td>\n    </tr>\n    <tr>\n      <th>3264</th>\n      <td>COAD</td>\n      <td>P49902</td>\n      <td>NT5C2</td>\n      <td>1</td>\n      <td>5</td>\n      <td>4</td>\n      <td>0.80</td>\n      <td>1</td>\n      <td>+</td>\n    </tr>\n    <tr>\n      <th>3705</th>\n      <td>COAD</td>\n      <td>P61244</td>\n      <td>MAX</td>\n      <td>2</td>\n      <td>5</td>\n      <td>4</td>\n      <td>0.80</td>\n      <td>12</td>\n      <td>+</td>\n    </tr>\n    <tr>\n      <th>4827</th>\n      <td>COAD</td>\n      <td>Q16478</td>\n      <td>GRIK5</td>\n      <td>13</td>\n      <td>5</td>\n      <td>4</td>\n      <td>0.80</td>\n      <td>4</td>\n      <td>-</td>\n    </tr>\n    <tr>\n      <th>4865</th>\n      <td>COAD</td>\n      <td>Q16659</td>\n      <td>MAPK6</td>\n      <td>2</td>\n      <td>5</td>\n      <td>4</td>\n      <td>0.80</td>\n      <td>4</td>\n      <td>-</td>\n    </tr>\n    <tr>\n      <th>9170</th>\n      <td>COAD</td>\n      <td>Q9NRM7</td>\n      <td>LATS2</td>\n      <td>1</td>\n      <td>5</td>\n      <td>4</td>\n      <td>0.80</td>\n      <td>8</td>\n      <td>+</td>\n    </tr>\n  </tbody>\n</table>\n</div>"
     },
     "execution_count": 15,
     "metadata": {},
     "output_type": "execute_result"
    }
   ],
   "source": [
    "coad_preliminary_data_filtered"
   ],
   "metadata": {
    "collapsed": false,
    "pycharm": {
     "name": "#%%\n"
    }
   }
  },
  {
   "cell_type": "code",
   "execution_count": 16,
   "outputs": [
    {
     "data": {
      "text/plain": "      TCGA PROTEIN  GENE  PATIENT_CORE_COUNT  PATIENT_INTERFACE_COUNT  \\\n627   ESCA  P04637  TP53                  56                       35   \n1571  ESCA  P62805  H4C1                   2                        7   \n\n      NUM_INTERFACE_PATIENTS_DISRUPTIVE_INTERACTOR  RATIO_(prev_two_col)  \\\n627                                             34                  0.97   \n1571                                             6                  0.86   \n\n      NUM_UNIQUE_INTERACTORS CGC_STATUS  \n627                       17          +  \n1571                      11          -  ",
      "text/html": "<div>\n<style scoped>\n    .dataframe tbody tr th:only-of-type {\n        vertical-align: middle;\n    }\n\n    .dataframe tbody tr th {\n        vertical-align: top;\n    }\n\n    .dataframe thead th {\n        text-align: right;\n    }\n</style>\n<table border=\"1\" class=\"dataframe\">\n  <thead>\n    <tr style=\"text-align: right;\">\n      <th></th>\n      <th>TCGA</th>\n      <th>PROTEIN</th>\n      <th>GENE</th>\n      <th>PATIENT_CORE_COUNT</th>\n      <th>PATIENT_INTERFACE_COUNT</th>\n      <th>NUM_INTERFACE_PATIENTS_DISRUPTIVE_INTERACTOR</th>\n      <th>RATIO_(prev_two_col)</th>\n      <th>NUM_UNIQUE_INTERACTORS</th>\n      <th>CGC_STATUS</th>\n    </tr>\n  </thead>\n  <tbody>\n    <tr>\n      <th>627</th>\n      <td>ESCA</td>\n      <td>P04637</td>\n      <td>TP53</td>\n      <td>56</td>\n      <td>35</td>\n      <td>34</td>\n      <td>0.97</td>\n      <td>17</td>\n      <td>+</td>\n    </tr>\n    <tr>\n      <th>1571</th>\n      <td>ESCA</td>\n      <td>P62805</td>\n      <td>H4C1</td>\n      <td>2</td>\n      <td>7</td>\n      <td>6</td>\n      <td>0.86</td>\n      <td>11</td>\n      <td>-</td>\n    </tr>\n  </tbody>\n</table>\n</div>"
     },
     "execution_count": 16,
     "metadata": {},
     "output_type": "execute_result"
    }
   ],
   "source": [
    "esca_preliminary_data_filtered"
   ],
   "metadata": {
    "collapsed": false,
    "pycharm": {
     "name": "#%%\n"
    }
   }
  },
  {
   "cell_type": "code",
   "execution_count": 17,
   "outputs": [
    {
     "data": {
      "text/plain": "     TCGA PROTEIN   GENE  PATIENT_CORE_COUNT  PATIENT_INTERFACE_COUNT  \\\n1050  GBM  P04637   TP53                  52                       35   \n1449  GBM  P15056   BRAF                   1                        5   \n2925  GBM  Q05655  PRKCD                   2                        5   \n\n      NUM_INTERFACE_PATIENTS_DISRUPTIVE_INTERACTOR  RATIO_(prev_two_col)  \\\n1050                                            35                   1.0   \n1449                                             5                   1.0   \n2925                                             4                   0.8   \n\n      NUM_UNIQUE_INTERACTORS CGC_STATUS  \n1050                      19          +  \n1449                       5          +  \n2925                      10          -  ",
      "text/html": "<div>\n<style scoped>\n    .dataframe tbody tr th:only-of-type {\n        vertical-align: middle;\n    }\n\n    .dataframe tbody tr th {\n        vertical-align: top;\n    }\n\n    .dataframe thead th {\n        text-align: right;\n    }\n</style>\n<table border=\"1\" class=\"dataframe\">\n  <thead>\n    <tr style=\"text-align: right;\">\n      <th></th>\n      <th>TCGA</th>\n      <th>PROTEIN</th>\n      <th>GENE</th>\n      <th>PATIENT_CORE_COUNT</th>\n      <th>PATIENT_INTERFACE_COUNT</th>\n      <th>NUM_INTERFACE_PATIENTS_DISRUPTIVE_INTERACTOR</th>\n      <th>RATIO_(prev_two_col)</th>\n      <th>NUM_UNIQUE_INTERACTORS</th>\n      <th>CGC_STATUS</th>\n    </tr>\n  </thead>\n  <tbody>\n    <tr>\n      <th>1050</th>\n      <td>GBM</td>\n      <td>P04637</td>\n      <td>TP53</td>\n      <td>52</td>\n      <td>35</td>\n      <td>35</td>\n      <td>1.0</td>\n      <td>19</td>\n      <td>+</td>\n    </tr>\n    <tr>\n      <th>1449</th>\n      <td>GBM</td>\n      <td>P15056</td>\n      <td>BRAF</td>\n      <td>1</td>\n      <td>5</td>\n      <td>5</td>\n      <td>1.0</td>\n      <td>5</td>\n      <td>+</td>\n    </tr>\n    <tr>\n      <th>2925</th>\n      <td>GBM</td>\n      <td>Q05655</td>\n      <td>PRKCD</td>\n      <td>2</td>\n      <td>5</td>\n      <td>4</td>\n      <td>0.8</td>\n      <td>10</td>\n      <td>-</td>\n    </tr>\n  </tbody>\n</table>\n</div>"
     },
     "execution_count": 17,
     "metadata": {},
     "output_type": "execute_result"
    }
   ],
   "source": [
    "gbm_preliminary_data_filtered"
   ],
   "metadata": {
    "collapsed": false,
    "pycharm": {
     "name": "#%%\n"
    }
   }
  },
  {
   "cell_type": "code",
   "execution_count": 18,
   "outputs": [
    {
     "data": {
      "text/plain": "      TCGA PROTEIN    GENE  PATIENT_CORE_COUNT  PATIENT_INTERFACE_COUNT  \\\n1012  HNSC  P01112    HRAS                   1                       26   \n2792  HNSC  P63000    RAC1                   0                       11   \n2750  HNSC  P61586    RHOA                   0                        7   \n1499  HNSC  P15056    BRAF                   0                        6   \n2381  HNSC  P49336    CDK8                   2                        6   \n3410  HNSC  Q14790   CASP8                  13                        5   \n1099  HNSC  P04637    TP53                 134                       59   \n2220  HNSC  P42336  PIK3CA                  13                       14   \n2236  HNSC  P42771  CDKN2A                   1                       19   \n5467  HNSC  Q969H0   FBXW7                   2                       18   \n1754  HNSC  P22607   FGFR3                   0                        6   \n1179  HNSC  P07288    KLK3                   1                        5   \n1908  HNSC  P28827   PTPRM                   9                        5   \n2137  HNSC  P37173  TGFBR2                   7                        5   \n2807  HNSC  P68431    H3C1                   0                        5   \n3562  HNSC  Q16478   GRIK5                   3                        5   \n\n      NUM_INTERFACE_PATIENTS_DISRUPTIVE_INTERACTOR  RATIO_(prev_two_col)  \\\n1012                                            26                  1.00   \n2792                                            11                  1.00   \n2750                                             7                  1.00   \n1499                                             6                  1.00   \n2381                                             6                  1.00   \n3410                                             5                  1.00   \n1099                                            58                  0.98   \n2220                                            13                  0.93   \n2236                                            17                  0.89   \n5467                                            16                  0.89   \n1754                                             5                  0.83   \n1179                                             4                  0.80   \n1908                                             4                  0.80   \n2137                                             4                  0.80   \n2807                                             4                  0.80   \n3562                                             4                  0.80   \n\n      NUM_UNIQUE_INTERACTORS CGC_STATUS  \n1012                      26          +  \n2792                       8          +  \n2750                      30          +  \n1499                       6          +  \n2381                       3          -  \n3410                       5          +  \n1099                      16          +  \n2220                       5          +  \n2236                      23          +  \n5467                       3          +  \n1754                      20          +  \n1179                       5          -  \n1908                       3          -  \n2137                       5          +  \n2807                      11          -  \n3562                       4          -  ",
      "text/html": "<div>\n<style scoped>\n    .dataframe tbody tr th:only-of-type {\n        vertical-align: middle;\n    }\n\n    .dataframe tbody tr th {\n        vertical-align: top;\n    }\n\n    .dataframe thead th {\n        text-align: right;\n    }\n</style>\n<table border=\"1\" class=\"dataframe\">\n  <thead>\n    <tr style=\"text-align: right;\">\n      <th></th>\n      <th>TCGA</th>\n      <th>PROTEIN</th>\n      <th>GENE</th>\n      <th>PATIENT_CORE_COUNT</th>\n      <th>PATIENT_INTERFACE_COUNT</th>\n      <th>NUM_INTERFACE_PATIENTS_DISRUPTIVE_INTERACTOR</th>\n      <th>RATIO_(prev_two_col)</th>\n      <th>NUM_UNIQUE_INTERACTORS</th>\n      <th>CGC_STATUS</th>\n    </tr>\n  </thead>\n  <tbody>\n    <tr>\n      <th>1012</th>\n      <td>HNSC</td>\n      <td>P01112</td>\n      <td>HRAS</td>\n      <td>1</td>\n      <td>26</td>\n      <td>26</td>\n      <td>1.00</td>\n      <td>26</td>\n      <td>+</td>\n    </tr>\n    <tr>\n      <th>2792</th>\n      <td>HNSC</td>\n      <td>P63000</td>\n      <td>RAC1</td>\n      <td>0</td>\n      <td>11</td>\n      <td>11</td>\n      <td>1.00</td>\n      <td>8</td>\n      <td>+</td>\n    </tr>\n    <tr>\n      <th>2750</th>\n      <td>HNSC</td>\n      <td>P61586</td>\n      <td>RHOA</td>\n      <td>0</td>\n      <td>7</td>\n      <td>7</td>\n      <td>1.00</td>\n      <td>30</td>\n      <td>+</td>\n    </tr>\n    <tr>\n      <th>1499</th>\n      <td>HNSC</td>\n      <td>P15056</td>\n      <td>BRAF</td>\n      <td>0</td>\n      <td>6</td>\n      <td>6</td>\n      <td>1.00</td>\n      <td>6</td>\n      <td>+</td>\n    </tr>\n    <tr>\n      <th>2381</th>\n      <td>HNSC</td>\n      <td>P49336</td>\n      <td>CDK8</td>\n      <td>2</td>\n      <td>6</td>\n      <td>6</td>\n      <td>1.00</td>\n      <td>3</td>\n      <td>-</td>\n    </tr>\n    <tr>\n      <th>3410</th>\n      <td>HNSC</td>\n      <td>Q14790</td>\n      <td>CASP8</td>\n      <td>13</td>\n      <td>5</td>\n      <td>5</td>\n      <td>1.00</td>\n      <td>5</td>\n      <td>+</td>\n    </tr>\n    <tr>\n      <th>1099</th>\n      <td>HNSC</td>\n      <td>P04637</td>\n      <td>TP53</td>\n      <td>134</td>\n      <td>59</td>\n      <td>58</td>\n      <td>0.98</td>\n      <td>16</td>\n      <td>+</td>\n    </tr>\n    <tr>\n      <th>2220</th>\n      <td>HNSC</td>\n      <td>P42336</td>\n      <td>PIK3CA</td>\n      <td>13</td>\n      <td>14</td>\n      <td>13</td>\n      <td>0.93</td>\n      <td>5</td>\n      <td>+</td>\n    </tr>\n    <tr>\n      <th>2236</th>\n      <td>HNSC</td>\n      <td>P42771</td>\n      <td>CDKN2A</td>\n      <td>1</td>\n      <td>19</td>\n      <td>17</td>\n      <td>0.89</td>\n      <td>23</td>\n      <td>+</td>\n    </tr>\n    <tr>\n      <th>5467</th>\n      <td>HNSC</td>\n      <td>Q969H0</td>\n      <td>FBXW7</td>\n      <td>2</td>\n      <td>18</td>\n      <td>16</td>\n      <td>0.89</td>\n      <td>3</td>\n      <td>+</td>\n    </tr>\n    <tr>\n      <th>1754</th>\n      <td>HNSC</td>\n      <td>P22607</td>\n      <td>FGFR3</td>\n      <td>0</td>\n      <td>6</td>\n      <td>5</td>\n      <td>0.83</td>\n      <td>20</td>\n      <td>+</td>\n    </tr>\n    <tr>\n      <th>1179</th>\n      <td>HNSC</td>\n      <td>P07288</td>\n      <td>KLK3</td>\n      <td>1</td>\n      <td>5</td>\n      <td>4</td>\n      <td>0.80</td>\n      <td>5</td>\n      <td>-</td>\n    </tr>\n    <tr>\n      <th>1908</th>\n      <td>HNSC</td>\n      <td>P28827</td>\n      <td>PTPRM</td>\n      <td>9</td>\n      <td>5</td>\n      <td>4</td>\n      <td>0.80</td>\n      <td>3</td>\n      <td>-</td>\n    </tr>\n    <tr>\n      <th>2137</th>\n      <td>HNSC</td>\n      <td>P37173</td>\n      <td>TGFBR2</td>\n      <td>7</td>\n      <td>5</td>\n      <td>4</td>\n      <td>0.80</td>\n      <td>5</td>\n      <td>+</td>\n    </tr>\n    <tr>\n      <th>2807</th>\n      <td>HNSC</td>\n      <td>P68431</td>\n      <td>H3C1</td>\n      <td>0</td>\n      <td>5</td>\n      <td>4</td>\n      <td>0.80</td>\n      <td>11</td>\n      <td>-</td>\n    </tr>\n    <tr>\n      <th>3562</th>\n      <td>HNSC</td>\n      <td>Q16478</td>\n      <td>GRIK5</td>\n      <td>3</td>\n      <td>5</td>\n      <td>4</td>\n      <td>0.80</td>\n      <td>4</td>\n      <td>-</td>\n    </tr>\n  </tbody>\n</table>\n</div>"
     },
     "execution_count": 18,
     "metadata": {},
     "output_type": "execute_result"
    }
   ],
   "source": [
    "hnsc_preliminary_data_filtered"
   ],
   "metadata": {
    "collapsed": false,
    "pycharm": {
     "name": "#%%\n"
    }
   }
  },
  {
   "cell_type": "code",
   "execution_count": 19,
   "outputs": [
    {
     "data": {
      "text/plain": "     TCGA PROTEIN   GENE  PATIENT_CORE_COUNT  PATIENT_INTERFACE_COUNT  \\\n927    OV  P04637   TP53                 147                       80   \n2436   OV  P62805   H4C1                   8                        8   \n782    OV  O95835  LATS1                   1                        5   \n\n      NUM_INTERFACE_PATIENTS_DISRUPTIVE_INTERACTOR  RATIO_(prev_two_col)  \\\n927                                             80                  1.00   \n2436                                             7                  0.88   \n782                                              4                  0.80   \n\n      NUM_UNIQUE_INTERACTORS CGC_STATUS  \n927                       19          +  \n2436                      18          -  \n782                        7          +  ",
      "text/html": "<div>\n<style scoped>\n    .dataframe tbody tr th:only-of-type {\n        vertical-align: middle;\n    }\n\n    .dataframe tbody tr th {\n        vertical-align: top;\n    }\n\n    .dataframe thead th {\n        text-align: right;\n    }\n</style>\n<table border=\"1\" class=\"dataframe\">\n  <thead>\n    <tr style=\"text-align: right;\">\n      <th></th>\n      <th>TCGA</th>\n      <th>PROTEIN</th>\n      <th>GENE</th>\n      <th>PATIENT_CORE_COUNT</th>\n      <th>PATIENT_INTERFACE_COUNT</th>\n      <th>NUM_INTERFACE_PATIENTS_DISRUPTIVE_INTERACTOR</th>\n      <th>RATIO_(prev_two_col)</th>\n      <th>NUM_UNIQUE_INTERACTORS</th>\n      <th>CGC_STATUS</th>\n    </tr>\n  </thead>\n  <tbody>\n    <tr>\n      <th>927</th>\n      <td>OV</td>\n      <td>P04637</td>\n      <td>TP53</td>\n      <td>147</td>\n      <td>80</td>\n      <td>80</td>\n      <td>1.00</td>\n      <td>19</td>\n      <td>+</td>\n    </tr>\n    <tr>\n      <th>2436</th>\n      <td>OV</td>\n      <td>P62805</td>\n      <td>H4C1</td>\n      <td>8</td>\n      <td>8</td>\n      <td>7</td>\n      <td>0.88</td>\n      <td>18</td>\n      <td>-</td>\n    </tr>\n    <tr>\n      <th>782</th>\n      <td>OV</td>\n      <td>O95835</td>\n      <td>LATS1</td>\n      <td>1</td>\n      <td>5</td>\n      <td>4</td>\n      <td>0.80</td>\n      <td>7</td>\n      <td>+</td>\n    </tr>\n  </tbody>\n</table>\n</div>"
     },
     "execution_count": 19,
     "metadata": {},
     "output_type": "execute_result"
    }
   ],
   "source": [
    "ov_preliminary_data_filtered"
   ],
   "metadata": {
    "collapsed": false,
    "pycharm": {
     "name": "#%%\n"
    }
   }
  },
  {
   "cell_type": "code",
   "execution_count": 19,
   "outputs": [],
   "source": [],
   "metadata": {
    "collapsed": false,
    "pycharm": {
     "name": "#%%\n"
    }
   }
  },
  {
   "cell_type": "code",
   "execution_count": 20,
   "outputs": [
    {
     "data": {
      "text/plain": "      TCGA PROTEIN    GENE MOST_FREQUENTLY_DISRUPTED_PARTNER  \\\n2465  BRCA  P42336  PIK3CA              PIK3R1, PIK3R2 (120)   \n1204  BRCA  P04637    TP53            PPP1R13B, TP53BP2 (41)   \n3126  BRCA  P68431    H3C1                          DAXX (7)   \n3091  BRCA  P62805    H4C1                   H3C1, H3C15 (8)   \n2534  BRCA  P45985  MAP2K4                 LRRK2, MAP2K6 (6)   \n1201  BRCA  P04626   ERBB2                         SRPK1 (7)   \n1447  BRCA  P0CG48     UBC                          UBC1 (4)   \n\n      PATIENT_CORE_COUNT  PATIENT_INTERFACE_COUNT  \\\n2465                  35                      124   \n1204                 141                       55   \n3126                   1                       13   \n3091                   6                       11   \n2534                   3                        8   \n1201                  12                       14   \n1447                   0                        7   \n\n      NUM_INTERFACE_PATIENTS_DISRUPTIVE_INTERACTOR  RATIO_(prev_two_col)  \\\n2465                                           120                  0.97   \n1204                                            51                  0.93   \n3126                                            12                  0.92   \n3091                                            10                  0.91   \n2534                                             7                  0.88   \n1201                                            12                  0.86   \n1447                                             6                  0.86   \n\n      NUM_UNIQUE_INTERACTORS CGC_STATUS  \n2465                       6          +  \n1204                      17          +  \n3126                      11          -  \n3091                      16          -  \n2534                       7          +  \n1201                      16          +  \n1447                       7          -  ",
      "text/html": "<div>\n<style scoped>\n    .dataframe tbody tr th:only-of-type {\n        vertical-align: middle;\n    }\n\n    .dataframe tbody tr th {\n        vertical-align: top;\n    }\n\n    .dataframe thead th {\n        text-align: right;\n    }\n</style>\n<table border=\"1\" class=\"dataframe\">\n  <thead>\n    <tr style=\"text-align: right;\">\n      <th></th>\n      <th>TCGA</th>\n      <th>PROTEIN</th>\n      <th>GENE</th>\n      <th>MOST_FREQUENTLY_DISRUPTED_PARTNER</th>\n      <th>PATIENT_CORE_COUNT</th>\n      <th>PATIENT_INTERFACE_COUNT</th>\n      <th>NUM_INTERFACE_PATIENTS_DISRUPTIVE_INTERACTOR</th>\n      <th>RATIO_(prev_two_col)</th>\n      <th>NUM_UNIQUE_INTERACTORS</th>\n      <th>CGC_STATUS</th>\n    </tr>\n  </thead>\n  <tbody>\n    <tr>\n      <th>2465</th>\n      <td>BRCA</td>\n      <td>P42336</td>\n      <td>PIK3CA</td>\n      <td>PIK3R1, PIK3R2 (120)</td>\n      <td>35</td>\n      <td>124</td>\n      <td>120</td>\n      <td>0.97</td>\n      <td>6</td>\n      <td>+</td>\n    </tr>\n    <tr>\n      <th>1204</th>\n      <td>BRCA</td>\n      <td>P04637</td>\n      <td>TP53</td>\n      <td>PPP1R13B, TP53BP2 (41)</td>\n      <td>141</td>\n      <td>55</td>\n      <td>51</td>\n      <td>0.93</td>\n      <td>17</td>\n      <td>+</td>\n    </tr>\n    <tr>\n      <th>3126</th>\n      <td>BRCA</td>\n      <td>P68431</td>\n      <td>H3C1</td>\n      <td>DAXX (7)</td>\n      <td>1</td>\n      <td>13</td>\n      <td>12</td>\n      <td>0.92</td>\n      <td>11</td>\n      <td>-</td>\n    </tr>\n    <tr>\n      <th>3091</th>\n      <td>BRCA</td>\n      <td>P62805</td>\n      <td>H4C1</td>\n      <td>H3C1, H3C15 (8)</td>\n      <td>6</td>\n      <td>11</td>\n      <td>10</td>\n      <td>0.91</td>\n      <td>16</td>\n      <td>-</td>\n    </tr>\n    <tr>\n      <th>2534</th>\n      <td>BRCA</td>\n      <td>P45985</td>\n      <td>MAP2K4</td>\n      <td>LRRK2, MAP2K6 (6)</td>\n      <td>3</td>\n      <td>8</td>\n      <td>7</td>\n      <td>0.88</td>\n      <td>7</td>\n      <td>+</td>\n    </tr>\n    <tr>\n      <th>1201</th>\n      <td>BRCA</td>\n      <td>P04626</td>\n      <td>ERBB2</td>\n      <td>SRPK1 (7)</td>\n      <td>12</td>\n      <td>14</td>\n      <td>12</td>\n      <td>0.86</td>\n      <td>16</td>\n      <td>+</td>\n    </tr>\n    <tr>\n      <th>1447</th>\n      <td>BRCA</td>\n      <td>P0CG48</td>\n      <td>UBC</td>\n      <td>UBC1 (4)</td>\n      <td>0</td>\n      <td>7</td>\n      <td>6</td>\n      <td>0.86</td>\n      <td>7</td>\n      <td>-</td>\n    </tr>\n  </tbody>\n</table>\n</div>"
     },
     "execution_count": 20,
     "metadata": {},
     "output_type": "execute_result"
    }
   ],
   "source": [
    "brca_preliminary_data_filtered_updated"
   ],
   "metadata": {
    "collapsed": false,
    "pycharm": {
     "name": "#%%\n"
    }
   }
  },
  {
   "cell_type": "code",
   "execution_count": 20,
   "outputs": [],
   "source": [],
   "metadata": {
    "collapsed": false,
    "pycharm": {
     "name": "#%%\n"
    }
   }
  },
  {
   "cell_type": "code",
   "execution_count": 21,
   "outputs": [],
   "source": [
    "concated_preliminary_filtered_data_updated = pd.concat(\n",
    "    [\n",
    "        brca_preliminary_data_filtered_updated,\n",
    "        coad_preliminary_data_filtered_updated,\n",
    "        esca_preliminary_data_filtered_updated,\n",
    "        gbm_preliminary_data_filtered_updated,\n",
    "        hnsc_preliminary_data_filtered_updated,\n",
    "        ov_preliminary_data_filtered_updated,\n",
    "    ], ignore_index=True\n",
    ")"
   ],
   "metadata": {
    "collapsed": false,
    "pycharm": {
     "name": "#%%\n"
    }
   }
  },
  {
   "cell_type": "code",
   "execution_count": 21,
   "outputs": [],
   "source": [],
   "metadata": {
    "collapsed": false,
    "pycharm": {
     "name": "#%%\n"
    }
   }
  },
  {
   "cell_type": "code",
   "execution_count": 22,
   "outputs": [
    {
     "data": {
      "text/plain": "       TCGA PROTEIN     GENE MOST_FREQUENTLY_DISRUPTED_PARTNER  \\\n1489   COAD  P04637     TP53            PPP1R13B, TP53BP2 (41)   \n2228   COAD  P19784  CSNK2A2                  MAPK14, PAK1 (4)   \n4709   COAD  Q15365    PCBP1          HNRNPK, PCBP2, PCBP4 (9)   \n212    COAD  O00238   BMPR1B                                 -   \n2110   COAD  P16885    PLCG2                          LCP2 (3)   \n3870   COAD  P84022    SMAD3                 SMAD2, ZFYVE9 (3)   \n7578   COAD  Q96E17    RAB3C           RIMS1, RIMS2, RPH3A (6)   \n2968   COAD  P41743    PRKCI                  MARK2, MARK4 (3)   \n3453   COAD  P53350     PLK1                   NUAK1, PAK1 (4)   \n3538   COAD  P55072      VCP                                 -   \n3713   COAD  P61586     RHOA                         DOCK7 (5)   \n4337   COAD  Q13310   PABPC4                       HNRNPA1 (4)   \n9855   COAD  Q9UKV0    HDAC9                         HDAC3 (4)   \n2029   COAD  P15056     BRAF                  LIMK1, PAK2 (50)   \n7426   COAD  Q969H0    FBXW7                         MTOR (22)   \n3757   COAD  P62805     H4C1                          H3C1 (9)   \n4379   COAD  Q13485    SMAD4         DKFZp781O1323, SMAD2 (16)   \n2882   COAD  P37173   TGFBR2                       RPS6KB1 (4)   \n4431   COAD  Q13748      NaN                                 -   \n4783   COAD  Q15796    SMAD2                         SMAD7 (3)   \n3068   COAD  P45985   MAP2K4                         MAPK9 (3)   \n4846   COAD  Q16576    RBBP7                          WDR1 (5)   \n10247  COAD  Q9Y463   DYRK1B                        MAP3K1 (3)   \n10463  COAD  Q9Y6R4   MAP3K4                                 -   \n1510   COAD  P05107    ITGB2                                 -   \n1733   COAD  P09619   PDGFRB                                 -   \n3223   COAD  P49674   CSNK1E                       RPS6KA1 (3)   \n3264   COAD  P49902    NT5C2                           nan (4)   \n3705   COAD  P61244      MAX                          MXD1 (4)   \n4827   COAD  Q16478    GRIK5                         GRID2 (3)   \n4865   COAD  Q16659    MAPK6                         AURKA (3)   \n9170   COAD  Q9NRM7    LATS2                                 -   \n\n       PATIENT_CORE_COUNT  PATIENT_INTERFACE_COUNT  \\\n1489                   97                       49   \n2228                    2                        9   \n4709                    4                        9   \n212                     2                        6   \n2110                    4                        6   \n3870                    5                        6   \n7578                    1                        6   \n2968                    2                        5   \n3453                    5                        5   \n3538                    3                        5   \n3713                    0                        5   \n4337                    2                        5   \n9855                    7                        5   \n2029                    3                       52   \n7426                   13                       25   \n3757                    5                       16   \n4379                   14                       21   \n2882                    3                        7   \n4431                   14                        7   \n4783                    3                        7   \n3068                   11                        6   \n4846                    3                        6   \n10247                   0                        6   \n10463                   0                        6   \n1510                    5                        5   \n1733                    2                        5   \n3223                    1                        5   \n3264                    1                        5   \n3705                    2                        5   \n4827                   13                        5   \n4865                    2                        5   \n9170                    1                        5   \n\n       NUM_INTERFACE_PATIENTS_DISRUPTIVE_INTERACTOR  RATIO_(prev_two_col)  \\\n1489                                             49                  1.00   \n2228                                              9                  1.00   \n4709                                              9                  1.00   \n212                                               6                  1.00   \n2110                                              6                  1.00   \n3870                                              6                  1.00   \n7578                                              6                  1.00   \n2968                                              5                  1.00   \n3453                                              5                  1.00   \n3538                                              5                  1.00   \n3713                                              5                  1.00   \n4337                                              5                  1.00   \n9855                                              5                  1.00   \n2029                                             51                  0.98   \n7426                                             24                  0.96   \n3757                                             15                  0.94   \n4379                                             19                  0.90   \n2882                                              6                  0.86   \n4431                                              6                  0.86   \n4783                                              6                  0.86   \n3068                                              5                  0.83   \n4846                                              5                  0.83   \n10247                                             5                  0.83   \n10463                                             5                  0.83   \n1510                                              4                  0.80   \n1733                                              4                  0.80   \n3223                                              4                  0.80   \n3264                                              4                  0.80   \n3705                                              4                  0.80   \n4827                                              4                  0.80   \n4865                                              4                  0.80   \n9170                                              4                  0.80   \n\n       NUM_UNIQUE_INTERACTORS CGC_STATUS  \n1489                       19          +  \n2228                       10          -  \n4709                        5          +  \n212                        16          -  \n2110                       14          -  \n3870                        5          +  \n7578                        4          -  \n2968                       13          -  \n3453                       10          -  \n3538                       11          -  \n3713                       41          +  \n4337                        5          -  \n9855                        3          -  \n2029                        3          +  \n7426                        4          +  \n3757                       18          -  \n4379                        5          +  \n2882                        7          +  \n4431                        6          -  \n4783                        8          +  \n3068                       18          +  \n4846                        5          -  \n10247                       6          -  \n10463                      14          -  \n1510                        7          -  \n1733                       16          +  \n3223                        4          -  \n3264                        1          +  \n3705                       12          +  \n4827                        4          -  \n4865                        4          -  \n9170                        8          +  ",
      "text/html": "<div>\n<style scoped>\n    .dataframe tbody tr th:only-of-type {\n        vertical-align: middle;\n    }\n\n    .dataframe tbody tr th {\n        vertical-align: top;\n    }\n\n    .dataframe thead th {\n        text-align: right;\n    }\n</style>\n<table border=\"1\" class=\"dataframe\">\n  <thead>\n    <tr style=\"text-align: right;\">\n      <th></th>\n      <th>TCGA</th>\n      <th>PROTEIN</th>\n      <th>GENE</th>\n      <th>MOST_FREQUENTLY_DISRUPTED_PARTNER</th>\n      <th>PATIENT_CORE_COUNT</th>\n      <th>PATIENT_INTERFACE_COUNT</th>\n      <th>NUM_INTERFACE_PATIENTS_DISRUPTIVE_INTERACTOR</th>\n      <th>RATIO_(prev_two_col)</th>\n      <th>NUM_UNIQUE_INTERACTORS</th>\n      <th>CGC_STATUS</th>\n    </tr>\n  </thead>\n  <tbody>\n    <tr>\n      <th>1489</th>\n      <td>COAD</td>\n      <td>P04637</td>\n      <td>TP53</td>\n      <td>PPP1R13B, TP53BP2 (41)</td>\n      <td>97</td>\n      <td>49</td>\n      <td>49</td>\n      <td>1.00</td>\n      <td>19</td>\n      <td>+</td>\n    </tr>\n    <tr>\n      <th>2228</th>\n      <td>COAD</td>\n      <td>P19784</td>\n      <td>CSNK2A2</td>\n      <td>MAPK14, PAK1 (4)</td>\n      <td>2</td>\n      <td>9</td>\n      <td>9</td>\n      <td>1.00</td>\n      <td>10</td>\n      <td>-</td>\n    </tr>\n    <tr>\n      <th>4709</th>\n      <td>COAD</td>\n      <td>Q15365</td>\n      <td>PCBP1</td>\n      <td>HNRNPK, PCBP2, PCBP4 (9)</td>\n      <td>4</td>\n      <td>9</td>\n      <td>9</td>\n      <td>1.00</td>\n      <td>5</td>\n      <td>+</td>\n    </tr>\n    <tr>\n      <th>212</th>\n      <td>COAD</td>\n      <td>O00238</td>\n      <td>BMPR1B</td>\n      <td>-</td>\n      <td>2</td>\n      <td>6</td>\n      <td>6</td>\n      <td>1.00</td>\n      <td>16</td>\n      <td>-</td>\n    </tr>\n    <tr>\n      <th>2110</th>\n      <td>COAD</td>\n      <td>P16885</td>\n      <td>PLCG2</td>\n      <td>LCP2 (3)</td>\n      <td>4</td>\n      <td>6</td>\n      <td>6</td>\n      <td>1.00</td>\n      <td>14</td>\n      <td>-</td>\n    </tr>\n    <tr>\n      <th>3870</th>\n      <td>COAD</td>\n      <td>P84022</td>\n      <td>SMAD3</td>\n      <td>SMAD2, ZFYVE9 (3)</td>\n      <td>5</td>\n      <td>6</td>\n      <td>6</td>\n      <td>1.00</td>\n      <td>5</td>\n      <td>+</td>\n    </tr>\n    <tr>\n      <th>7578</th>\n      <td>COAD</td>\n      <td>Q96E17</td>\n      <td>RAB3C</td>\n      <td>RIMS1, RIMS2, RPH3A (6)</td>\n      <td>1</td>\n      <td>6</td>\n      <td>6</td>\n      <td>1.00</td>\n      <td>4</td>\n      <td>-</td>\n    </tr>\n    <tr>\n      <th>2968</th>\n      <td>COAD</td>\n      <td>P41743</td>\n      <td>PRKCI</td>\n      <td>MARK2, MARK4 (3)</td>\n      <td>2</td>\n      <td>5</td>\n      <td>5</td>\n      <td>1.00</td>\n      <td>13</td>\n      <td>-</td>\n    </tr>\n    <tr>\n      <th>3453</th>\n      <td>COAD</td>\n      <td>P53350</td>\n      <td>PLK1</td>\n      <td>NUAK1, PAK1 (4)</td>\n      <td>5</td>\n      <td>5</td>\n      <td>5</td>\n      <td>1.00</td>\n      <td>10</td>\n      <td>-</td>\n    </tr>\n    <tr>\n      <th>3538</th>\n      <td>COAD</td>\n      <td>P55072</td>\n      <td>VCP</td>\n      <td>-</td>\n      <td>3</td>\n      <td>5</td>\n      <td>5</td>\n      <td>1.00</td>\n      <td>11</td>\n      <td>-</td>\n    </tr>\n    <tr>\n      <th>3713</th>\n      <td>COAD</td>\n      <td>P61586</td>\n      <td>RHOA</td>\n      <td>DOCK7 (5)</td>\n      <td>0</td>\n      <td>5</td>\n      <td>5</td>\n      <td>1.00</td>\n      <td>41</td>\n      <td>+</td>\n    </tr>\n    <tr>\n      <th>4337</th>\n      <td>COAD</td>\n      <td>Q13310</td>\n      <td>PABPC4</td>\n      <td>HNRNPA1 (4)</td>\n      <td>2</td>\n      <td>5</td>\n      <td>5</td>\n      <td>1.00</td>\n      <td>5</td>\n      <td>-</td>\n    </tr>\n    <tr>\n      <th>9855</th>\n      <td>COAD</td>\n      <td>Q9UKV0</td>\n      <td>HDAC9</td>\n      <td>HDAC3 (4)</td>\n      <td>7</td>\n      <td>5</td>\n      <td>5</td>\n      <td>1.00</td>\n      <td>3</td>\n      <td>-</td>\n    </tr>\n    <tr>\n      <th>2029</th>\n      <td>COAD</td>\n      <td>P15056</td>\n      <td>BRAF</td>\n      <td>LIMK1, PAK2 (50)</td>\n      <td>3</td>\n      <td>52</td>\n      <td>51</td>\n      <td>0.98</td>\n      <td>3</td>\n      <td>+</td>\n    </tr>\n    <tr>\n      <th>7426</th>\n      <td>COAD</td>\n      <td>Q969H0</td>\n      <td>FBXW7</td>\n      <td>MTOR (22)</td>\n      <td>13</td>\n      <td>25</td>\n      <td>24</td>\n      <td>0.96</td>\n      <td>4</td>\n      <td>+</td>\n    </tr>\n    <tr>\n      <th>3757</th>\n      <td>COAD</td>\n      <td>P62805</td>\n      <td>H4C1</td>\n      <td>H3C1 (9)</td>\n      <td>5</td>\n      <td>16</td>\n      <td>15</td>\n      <td>0.94</td>\n      <td>18</td>\n      <td>-</td>\n    </tr>\n    <tr>\n      <th>4379</th>\n      <td>COAD</td>\n      <td>Q13485</td>\n      <td>SMAD4</td>\n      <td>DKFZp781O1323, SMAD2 (16)</td>\n      <td>14</td>\n      <td>21</td>\n      <td>19</td>\n      <td>0.90</td>\n      <td>5</td>\n      <td>+</td>\n    </tr>\n    <tr>\n      <th>2882</th>\n      <td>COAD</td>\n      <td>P37173</td>\n      <td>TGFBR2</td>\n      <td>RPS6KB1 (4)</td>\n      <td>3</td>\n      <td>7</td>\n      <td>6</td>\n      <td>0.86</td>\n      <td>7</td>\n      <td>+</td>\n    </tr>\n    <tr>\n      <th>4431</th>\n      <td>COAD</td>\n      <td>Q13748</td>\n      <td>NaN</td>\n      <td>-</td>\n      <td>14</td>\n      <td>7</td>\n      <td>6</td>\n      <td>0.86</td>\n      <td>6</td>\n      <td>-</td>\n    </tr>\n    <tr>\n      <th>4783</th>\n      <td>COAD</td>\n      <td>Q15796</td>\n      <td>SMAD2</td>\n      <td>SMAD7 (3)</td>\n      <td>3</td>\n      <td>7</td>\n      <td>6</td>\n      <td>0.86</td>\n      <td>8</td>\n      <td>+</td>\n    </tr>\n    <tr>\n      <th>3068</th>\n      <td>COAD</td>\n      <td>P45985</td>\n      <td>MAP2K4</td>\n      <td>MAPK9 (3)</td>\n      <td>11</td>\n      <td>6</td>\n      <td>5</td>\n      <td>0.83</td>\n      <td>18</td>\n      <td>+</td>\n    </tr>\n    <tr>\n      <th>4846</th>\n      <td>COAD</td>\n      <td>Q16576</td>\n      <td>RBBP7</td>\n      <td>WDR1 (5)</td>\n      <td>3</td>\n      <td>6</td>\n      <td>5</td>\n      <td>0.83</td>\n      <td>5</td>\n      <td>-</td>\n    </tr>\n    <tr>\n      <th>10247</th>\n      <td>COAD</td>\n      <td>Q9Y463</td>\n      <td>DYRK1B</td>\n      <td>MAP3K1 (3)</td>\n      <td>0</td>\n      <td>6</td>\n      <td>5</td>\n      <td>0.83</td>\n      <td>6</td>\n      <td>-</td>\n    </tr>\n    <tr>\n      <th>10463</th>\n      <td>COAD</td>\n      <td>Q9Y6R4</td>\n      <td>MAP3K4</td>\n      <td>-</td>\n      <td>0</td>\n      <td>6</td>\n      <td>5</td>\n      <td>0.83</td>\n      <td>14</td>\n      <td>-</td>\n    </tr>\n    <tr>\n      <th>1510</th>\n      <td>COAD</td>\n      <td>P05107</td>\n      <td>ITGB2</td>\n      <td>-</td>\n      <td>5</td>\n      <td>5</td>\n      <td>4</td>\n      <td>0.80</td>\n      <td>7</td>\n      <td>-</td>\n    </tr>\n    <tr>\n      <th>1733</th>\n      <td>COAD</td>\n      <td>P09619</td>\n      <td>PDGFRB</td>\n      <td>-</td>\n      <td>2</td>\n      <td>5</td>\n      <td>4</td>\n      <td>0.80</td>\n      <td>16</td>\n      <td>+</td>\n    </tr>\n    <tr>\n      <th>3223</th>\n      <td>COAD</td>\n      <td>P49674</td>\n      <td>CSNK1E</td>\n      <td>RPS6KA1 (3)</td>\n      <td>1</td>\n      <td>5</td>\n      <td>4</td>\n      <td>0.80</td>\n      <td>4</td>\n      <td>-</td>\n    </tr>\n    <tr>\n      <th>3264</th>\n      <td>COAD</td>\n      <td>P49902</td>\n      <td>NT5C2</td>\n      <td>nan (4)</td>\n      <td>1</td>\n      <td>5</td>\n      <td>4</td>\n      <td>0.80</td>\n      <td>1</td>\n      <td>+</td>\n    </tr>\n    <tr>\n      <th>3705</th>\n      <td>COAD</td>\n      <td>P61244</td>\n      <td>MAX</td>\n      <td>MXD1 (4)</td>\n      <td>2</td>\n      <td>5</td>\n      <td>4</td>\n      <td>0.80</td>\n      <td>12</td>\n      <td>+</td>\n    </tr>\n    <tr>\n      <th>4827</th>\n      <td>COAD</td>\n      <td>Q16478</td>\n      <td>GRIK5</td>\n      <td>GRID2 (3)</td>\n      <td>13</td>\n      <td>5</td>\n      <td>4</td>\n      <td>0.80</td>\n      <td>4</td>\n      <td>-</td>\n    </tr>\n    <tr>\n      <th>4865</th>\n      <td>COAD</td>\n      <td>Q16659</td>\n      <td>MAPK6</td>\n      <td>AURKA (3)</td>\n      <td>2</td>\n      <td>5</td>\n      <td>4</td>\n      <td>0.80</td>\n      <td>4</td>\n      <td>-</td>\n    </tr>\n    <tr>\n      <th>9170</th>\n      <td>COAD</td>\n      <td>Q9NRM7</td>\n      <td>LATS2</td>\n      <td>-</td>\n      <td>1</td>\n      <td>5</td>\n      <td>4</td>\n      <td>0.80</td>\n      <td>8</td>\n      <td>+</td>\n    </tr>\n  </tbody>\n</table>\n</div>"
     },
     "execution_count": 22,
     "metadata": {},
     "output_type": "execute_result"
    }
   ],
   "source": [
    "coad_preliminary_data_filtered_updated"
   ],
   "metadata": {
    "collapsed": false,
    "pycharm": {
     "name": "#%%\n"
    }
   }
  },
  {
   "cell_type": "code",
   "execution_count": 22,
   "outputs": [],
   "source": [],
   "metadata": {
    "collapsed": false,
    "pycharm": {
     "name": "#%%\n"
    }
   }
  },
  {
   "cell_type": "code",
   "execution_count": 23,
   "outputs": [
    {
     "data": {
      "text/plain": "    TCGA PROTEIN    GENE MOST_FREQUENTLY_DISRUPTED_PARTNER  \\\n0   BRCA  P42336  PIK3CA              PIK3R1, PIK3R2 (120)   \n1   BRCA  P04637    TP53            PPP1R13B, TP53BP2 (41)   \n2   BRCA  P68431    H3C1                          DAXX (7)   \n3   BRCA  P62805    H4C1                   H3C1, H3C15 (8)   \n4   BRCA  P45985  MAP2K4                 LRRK2, MAP2K6 (6)   \n..   ...     ...     ...                               ...   \n58  HNSC  P68431    H3C1                          DAXX (4)   \n59  HNSC  Q16478   GRIK5                         GRID2 (3)   \n60    OV  P04637    TP53            PPP1R13B, TP53BP2 (60)   \n61    OV  P62805    H4C1                         H3-3A (4)   \n62    OV  O95835   LATS1                                 -   \n\n    PATIENT_CORE_COUNT  PATIENT_INTERFACE_COUNT  \\\n0                   35                      124   \n1                  141                       55   \n2                    1                       13   \n3                    6                       11   \n4                    3                        8   \n..                 ...                      ...   \n58                   0                        5   \n59                   3                        5   \n60                 147                       80   \n61                   8                        8   \n62                   1                        5   \n\n    NUM_INTERFACE_PATIENTS_DISRUPTIVE_INTERACTOR  RATIO_(prev_two_col)  \\\n0                                            120                  0.97   \n1                                             51                  0.93   \n2                                             12                  0.92   \n3                                             10                  0.91   \n4                                              7                  0.88   \n..                                           ...                   ...   \n58                                             4                  0.80   \n59                                             4                  0.80   \n60                                            80                  1.00   \n61                                             7                  0.88   \n62                                             4                  0.80   \n\n    NUM_UNIQUE_INTERACTORS CGC_STATUS  \n0                        6          +  \n1                       17          +  \n2                       11          -  \n3                       16          -  \n4                        7          +  \n..                     ...        ...  \n58                      11          -  \n59                       4          -  \n60                      19          +  \n61                      18          -  \n62                       7          +  \n\n[63 rows x 10 columns]",
      "text/html": "<div>\n<style scoped>\n    .dataframe tbody tr th:only-of-type {\n        vertical-align: middle;\n    }\n\n    .dataframe tbody tr th {\n        vertical-align: top;\n    }\n\n    .dataframe thead th {\n        text-align: right;\n    }\n</style>\n<table border=\"1\" class=\"dataframe\">\n  <thead>\n    <tr style=\"text-align: right;\">\n      <th></th>\n      <th>TCGA</th>\n      <th>PROTEIN</th>\n      <th>GENE</th>\n      <th>MOST_FREQUENTLY_DISRUPTED_PARTNER</th>\n      <th>PATIENT_CORE_COUNT</th>\n      <th>PATIENT_INTERFACE_COUNT</th>\n      <th>NUM_INTERFACE_PATIENTS_DISRUPTIVE_INTERACTOR</th>\n      <th>RATIO_(prev_two_col)</th>\n      <th>NUM_UNIQUE_INTERACTORS</th>\n      <th>CGC_STATUS</th>\n    </tr>\n  </thead>\n  <tbody>\n    <tr>\n      <th>0</th>\n      <td>BRCA</td>\n      <td>P42336</td>\n      <td>PIK3CA</td>\n      <td>PIK3R1, PIK3R2 (120)</td>\n      <td>35</td>\n      <td>124</td>\n      <td>120</td>\n      <td>0.97</td>\n      <td>6</td>\n      <td>+</td>\n    </tr>\n    <tr>\n      <th>1</th>\n      <td>BRCA</td>\n      <td>P04637</td>\n      <td>TP53</td>\n      <td>PPP1R13B, TP53BP2 (41)</td>\n      <td>141</td>\n      <td>55</td>\n      <td>51</td>\n      <td>0.93</td>\n      <td>17</td>\n      <td>+</td>\n    </tr>\n    <tr>\n      <th>2</th>\n      <td>BRCA</td>\n      <td>P68431</td>\n      <td>H3C1</td>\n      <td>DAXX (7)</td>\n      <td>1</td>\n      <td>13</td>\n      <td>12</td>\n      <td>0.92</td>\n      <td>11</td>\n      <td>-</td>\n    </tr>\n    <tr>\n      <th>3</th>\n      <td>BRCA</td>\n      <td>P62805</td>\n      <td>H4C1</td>\n      <td>H3C1, H3C15 (8)</td>\n      <td>6</td>\n      <td>11</td>\n      <td>10</td>\n      <td>0.91</td>\n      <td>16</td>\n      <td>-</td>\n    </tr>\n    <tr>\n      <th>4</th>\n      <td>BRCA</td>\n      <td>P45985</td>\n      <td>MAP2K4</td>\n      <td>LRRK2, MAP2K6 (6)</td>\n      <td>3</td>\n      <td>8</td>\n      <td>7</td>\n      <td>0.88</td>\n      <td>7</td>\n      <td>+</td>\n    </tr>\n    <tr>\n      <th>...</th>\n      <td>...</td>\n      <td>...</td>\n      <td>...</td>\n      <td>...</td>\n      <td>...</td>\n      <td>...</td>\n      <td>...</td>\n      <td>...</td>\n      <td>...</td>\n      <td>...</td>\n    </tr>\n    <tr>\n      <th>58</th>\n      <td>HNSC</td>\n      <td>P68431</td>\n      <td>H3C1</td>\n      <td>DAXX (4)</td>\n      <td>0</td>\n      <td>5</td>\n      <td>4</td>\n      <td>0.80</td>\n      <td>11</td>\n      <td>-</td>\n    </tr>\n    <tr>\n      <th>59</th>\n      <td>HNSC</td>\n      <td>Q16478</td>\n      <td>GRIK5</td>\n      <td>GRID2 (3)</td>\n      <td>3</td>\n      <td>5</td>\n      <td>4</td>\n      <td>0.80</td>\n      <td>4</td>\n      <td>-</td>\n    </tr>\n    <tr>\n      <th>60</th>\n      <td>OV</td>\n      <td>P04637</td>\n      <td>TP53</td>\n      <td>PPP1R13B, TP53BP2 (60)</td>\n      <td>147</td>\n      <td>80</td>\n      <td>80</td>\n      <td>1.00</td>\n      <td>19</td>\n      <td>+</td>\n    </tr>\n    <tr>\n      <th>61</th>\n      <td>OV</td>\n      <td>P62805</td>\n      <td>H4C1</td>\n      <td>H3-3A (4)</td>\n      <td>8</td>\n      <td>8</td>\n      <td>7</td>\n      <td>0.88</td>\n      <td>18</td>\n      <td>-</td>\n    </tr>\n    <tr>\n      <th>62</th>\n      <td>OV</td>\n      <td>O95835</td>\n      <td>LATS1</td>\n      <td>-</td>\n      <td>1</td>\n      <td>5</td>\n      <td>4</td>\n      <td>0.80</td>\n      <td>7</td>\n      <td>+</td>\n    </tr>\n  </tbody>\n</table>\n<p>63 rows × 10 columns</p>\n</div>"
     },
     "execution_count": 23,
     "metadata": {},
     "output_type": "execute_result"
    }
   ],
   "source": [
    "concated_preliminary_filtered_data_updated"
   ],
   "metadata": {
    "collapsed": false,
    "pycharm": {
     "name": "#%%\n"
    }
   }
  },
  {
   "cell_type": "code",
   "execution_count": 23,
   "outputs": [],
   "source": [],
   "metadata": {
    "collapsed": false,
    "pycharm": {
     "name": "#%%\n"
    }
   }
  },
  {
   "cell_type": "code",
   "execution_count": 24,
   "outputs": [],
   "source": [
    "def gene_nan_fixer(data):\n",
    "    pass"
   ],
   "metadata": {
    "collapsed": false,
    "pycharm": {
     "name": "#%%\n"
    }
   }
  },
  {
   "cell_type": "code",
   "execution_count": 24,
   "outputs": [],
   "source": [],
   "metadata": {
    "collapsed": false,
    "pycharm": {
     "name": "#%%\n"
    }
   }
  },
  {
   "cell_type": "code",
   "execution_count": 25,
   "outputs": [
    {
     "data": {
      "text/plain": "    TCGA PROTEIN   GENE       MOST_FREQUENTLY_DISRUPTED_PARTNER  \\\n34  COAD  P49902  NT5C2                                 nan (4)   \n49  HNSC  Q14790  CASP8                          CASP7, nan (3)   \n54  HNSC  P22607  FGFR3  FGF1, FGF12, FGF2, FGF6, FGF8, nan (4)   \n\n    PATIENT_CORE_COUNT  PATIENT_INTERFACE_COUNT  \\\n34                   1                        5   \n49                  13                        5   \n54                   0                        6   \n\n    NUM_INTERFACE_PATIENTS_DISRUPTIVE_INTERACTOR  RATIO_(prev_two_col)  \\\n34                                             4                  0.80   \n49                                             5                  1.00   \n54                                             5                  0.83   \n\n    NUM_UNIQUE_INTERACTORS CGC_STATUS  \n34                       1          +  \n49                       5          +  \n54                      20          +  ",
      "text/html": "<div>\n<style scoped>\n    .dataframe tbody tr th:only-of-type {\n        vertical-align: middle;\n    }\n\n    .dataframe tbody tr th {\n        vertical-align: top;\n    }\n\n    .dataframe thead th {\n        text-align: right;\n    }\n</style>\n<table border=\"1\" class=\"dataframe\">\n  <thead>\n    <tr style=\"text-align: right;\">\n      <th></th>\n      <th>TCGA</th>\n      <th>PROTEIN</th>\n      <th>GENE</th>\n      <th>MOST_FREQUENTLY_DISRUPTED_PARTNER</th>\n      <th>PATIENT_CORE_COUNT</th>\n      <th>PATIENT_INTERFACE_COUNT</th>\n      <th>NUM_INTERFACE_PATIENTS_DISRUPTIVE_INTERACTOR</th>\n      <th>RATIO_(prev_two_col)</th>\n      <th>NUM_UNIQUE_INTERACTORS</th>\n      <th>CGC_STATUS</th>\n    </tr>\n  </thead>\n  <tbody>\n    <tr>\n      <th>34</th>\n      <td>COAD</td>\n      <td>P49902</td>\n      <td>NT5C2</td>\n      <td>nan (4)</td>\n      <td>1</td>\n      <td>5</td>\n      <td>4</td>\n      <td>0.80</td>\n      <td>1</td>\n      <td>+</td>\n    </tr>\n    <tr>\n      <th>49</th>\n      <td>HNSC</td>\n      <td>Q14790</td>\n      <td>CASP8</td>\n      <td>CASP7, nan (3)</td>\n      <td>13</td>\n      <td>5</td>\n      <td>5</td>\n      <td>1.00</td>\n      <td>5</td>\n      <td>+</td>\n    </tr>\n    <tr>\n      <th>54</th>\n      <td>HNSC</td>\n      <td>P22607</td>\n      <td>FGFR3</td>\n      <td>FGF1, FGF12, FGF2, FGF6, FGF8, nan (4)</td>\n      <td>0</td>\n      <td>6</td>\n      <td>5</td>\n      <td>0.83</td>\n      <td>20</td>\n      <td>+</td>\n    </tr>\n  </tbody>\n</table>\n</div>"
     },
     "execution_count": 25,
     "metadata": {},
     "output_type": "execute_result"
    }
   ],
   "source": [
    "# very few `nan`s so I can fix it by hand.\n",
    "concated_preliminary_filtered_data_updated[\n",
    "    concated_preliminary_filtered_data_updated[\"MOST_FREQUENTLY_DISRUPTED_PARTNER\"].str.contains(\"nan\")\n",
    "]"
   ],
   "metadata": {
    "collapsed": false,
    "pycharm": {
     "name": "#%%\n"
    }
   }
  },
  {
   "cell_type": "code",
   "execution_count": 25,
   "outputs": [],
   "source": [],
   "metadata": {
    "collapsed": false,
    "pycharm": {
     "name": "#%%\n"
    }
   }
  },
  {
   "cell_type": "markdown",
   "source": [
    "[14:29, 03/03/2022] Hilal Kazan (ABU CS Prof. ): COADS Q13748 için TUBA3C gen id'si\n",
    "[13:21, 07/03/2022] Hilal Kazan (ABU CS Prof. ): Q53F85 DAXX\n",
    "[13:22, 07/03/2022] Hilal Kazan (ABU CS Prof. ): B4DWA2 CASP7\n",
    "[13:23, 07/03/2022] Hilal Kazan (ABU CS Prof. ): bunları kodda kaydedelim de karşımıza gelirse n/a olarak gelmesin tekrar"
   ],
   "metadata": {
    "collapsed": false,
    "pycharm": {
     "name": "#%% md\n"
    }
   }
  },
  {
   "cell_type": "code",
   "execution_count": 26,
   "outputs": [],
   "source": [
    "# Q53F85 DAXX"
   ],
   "metadata": {
    "collapsed": false,
    "pycharm": {
     "name": "#%%\n"
    }
   }
  },
  {
   "cell_type": "markdown",
   "source": [
    "### Merging columns _patient_core_count_ and _patient_interface_count_"
   ],
   "metadata": {
    "collapsed": false,
    "pycharm": {
     "name": "#%% md\n"
    }
   }
  },
  {
   "cell_type": "code",
   "execution_count": 27,
   "outputs": [
    {
     "data": {
      "text/plain": "    TCGA PROTEIN    GENE MOST_FREQUENTLY_DISRUPTED_PARTNER  \\\n0   BRCA  P42336  PIK3CA              PIK3R1, PIK3R2 (120)   \n1   BRCA  P04637    TP53            PPP1R13B, TP53BP2 (41)   \n2   BRCA  P68431    H3C1                          DAXX (7)   \n3   BRCA  P62805    H4C1                   H3C1, H3C15 (8)   \n4   BRCA  P45985  MAP2K4                 LRRK2, MAP2K6 (6)   \n..   ...     ...     ...                               ...   \n58  HNSC  P68431    H3C1                          DAXX (4)   \n59  HNSC  Q16478   GRIK5                         GRID2 (3)   \n60    OV  P04637    TP53            PPP1R13B, TP53BP2 (60)   \n61    OV  P62805    H4C1                         H3-3A (4)   \n62    OV  O95835   LATS1                                 -   \n\n    PATIENT_CORE_COUNT  PATIENT_INTERFACE_COUNT  \\\n0                   35                      124   \n1                  141                       55   \n2                    1                       13   \n3                    6                       11   \n4                    3                        8   \n..                 ...                      ...   \n58                   0                        5   \n59                   3                        5   \n60                 147                       80   \n61                   8                        8   \n62                   1                        5   \n\n    NUM_INTERFACE_PATIENTS_DISRUPTIVE_INTERACTOR  RATIO_(prev_two_col)  \\\n0                                            120                  0.97   \n1                                             51                  0.93   \n2                                             12                  0.92   \n3                                             10                  0.91   \n4                                              7                  0.88   \n..                                           ...                   ...   \n58                                             4                  0.80   \n59                                             4                  0.80   \n60                                            80                  1.00   \n61                                             7                  0.88   \n62                                             4                  0.80   \n\n    NUM_UNIQUE_INTERACTORS CGC_STATUS  \n0                        6          +  \n1                       17          +  \n2                       11          -  \n3                       16          -  \n4                        7          +  \n..                     ...        ...  \n58                      11          -  \n59                       4          -  \n60                      19          +  \n61                      18          -  \n62                       7          +  \n\n[63 rows x 10 columns]",
      "text/html": "<div>\n<style scoped>\n    .dataframe tbody tr th:only-of-type {\n        vertical-align: middle;\n    }\n\n    .dataframe tbody tr th {\n        vertical-align: top;\n    }\n\n    .dataframe thead th {\n        text-align: right;\n    }\n</style>\n<table border=\"1\" class=\"dataframe\">\n  <thead>\n    <tr style=\"text-align: right;\">\n      <th></th>\n      <th>TCGA</th>\n      <th>PROTEIN</th>\n      <th>GENE</th>\n      <th>MOST_FREQUENTLY_DISRUPTED_PARTNER</th>\n      <th>PATIENT_CORE_COUNT</th>\n      <th>PATIENT_INTERFACE_COUNT</th>\n      <th>NUM_INTERFACE_PATIENTS_DISRUPTIVE_INTERACTOR</th>\n      <th>RATIO_(prev_two_col)</th>\n      <th>NUM_UNIQUE_INTERACTORS</th>\n      <th>CGC_STATUS</th>\n    </tr>\n  </thead>\n  <tbody>\n    <tr>\n      <th>0</th>\n      <td>BRCA</td>\n      <td>P42336</td>\n      <td>PIK3CA</td>\n      <td>PIK3R1, PIK3R2 (120)</td>\n      <td>35</td>\n      <td>124</td>\n      <td>120</td>\n      <td>0.97</td>\n      <td>6</td>\n      <td>+</td>\n    </tr>\n    <tr>\n      <th>1</th>\n      <td>BRCA</td>\n      <td>P04637</td>\n      <td>TP53</td>\n      <td>PPP1R13B, TP53BP2 (41)</td>\n      <td>141</td>\n      <td>55</td>\n      <td>51</td>\n      <td>0.93</td>\n      <td>17</td>\n      <td>+</td>\n    </tr>\n    <tr>\n      <th>2</th>\n      <td>BRCA</td>\n      <td>P68431</td>\n      <td>H3C1</td>\n      <td>DAXX (7)</td>\n      <td>1</td>\n      <td>13</td>\n      <td>12</td>\n      <td>0.92</td>\n      <td>11</td>\n      <td>-</td>\n    </tr>\n    <tr>\n      <th>3</th>\n      <td>BRCA</td>\n      <td>P62805</td>\n      <td>H4C1</td>\n      <td>H3C1, H3C15 (8)</td>\n      <td>6</td>\n      <td>11</td>\n      <td>10</td>\n      <td>0.91</td>\n      <td>16</td>\n      <td>-</td>\n    </tr>\n    <tr>\n      <th>4</th>\n      <td>BRCA</td>\n      <td>P45985</td>\n      <td>MAP2K4</td>\n      <td>LRRK2, MAP2K6 (6)</td>\n      <td>3</td>\n      <td>8</td>\n      <td>7</td>\n      <td>0.88</td>\n      <td>7</td>\n      <td>+</td>\n    </tr>\n    <tr>\n      <th>...</th>\n      <td>...</td>\n      <td>...</td>\n      <td>...</td>\n      <td>...</td>\n      <td>...</td>\n      <td>...</td>\n      <td>...</td>\n      <td>...</td>\n      <td>...</td>\n      <td>...</td>\n    </tr>\n    <tr>\n      <th>58</th>\n      <td>HNSC</td>\n      <td>P68431</td>\n      <td>H3C1</td>\n      <td>DAXX (4)</td>\n      <td>0</td>\n      <td>5</td>\n      <td>4</td>\n      <td>0.80</td>\n      <td>11</td>\n      <td>-</td>\n    </tr>\n    <tr>\n      <th>59</th>\n      <td>HNSC</td>\n      <td>Q16478</td>\n      <td>GRIK5</td>\n      <td>GRID2 (3)</td>\n      <td>3</td>\n      <td>5</td>\n      <td>4</td>\n      <td>0.80</td>\n      <td>4</td>\n      <td>-</td>\n    </tr>\n    <tr>\n      <th>60</th>\n      <td>OV</td>\n      <td>P04637</td>\n      <td>TP53</td>\n      <td>PPP1R13B, TP53BP2 (60)</td>\n      <td>147</td>\n      <td>80</td>\n      <td>80</td>\n      <td>1.00</td>\n      <td>19</td>\n      <td>+</td>\n    </tr>\n    <tr>\n      <th>61</th>\n      <td>OV</td>\n      <td>P62805</td>\n      <td>H4C1</td>\n      <td>H3-3A (4)</td>\n      <td>8</td>\n      <td>8</td>\n      <td>7</td>\n      <td>0.88</td>\n      <td>18</td>\n      <td>-</td>\n    </tr>\n    <tr>\n      <th>62</th>\n      <td>OV</td>\n      <td>O95835</td>\n      <td>LATS1</td>\n      <td>-</td>\n      <td>1</td>\n      <td>5</td>\n      <td>4</td>\n      <td>0.80</td>\n      <td>7</td>\n      <td>+</td>\n    </tr>\n  </tbody>\n</table>\n<p>63 rows × 10 columns</p>\n</div>"
     },
     "execution_count": 27,
     "metadata": {},
     "output_type": "execute_result"
    }
   ],
   "source": [
    "table_gene_level_stats = concated_preliminary_filtered_data_updated.copy()\n",
    "table_gene_level_stats"
   ],
   "metadata": {
    "collapsed": false,
    "pycharm": {
     "name": "#%%\n"
    }
   }
  },
  {
   "cell_type": "code",
   "execution_count": 27,
   "outputs": [],
   "source": [],
   "metadata": {
    "collapsed": false,
    "pycharm": {
     "name": "#%%\n"
    }
   }
  },
  {
   "cell_type": "code",
   "execution_count": 28,
   "outputs": [
    {
     "data": {
      "text/plain": "    TCGA PROTEIN    GENE MOST_FREQUENTLY_DISRUPTED_PARTNER  \\\n0   BRCA  P42336  PIK3CA              PIK3R1, PIK3R2 (120)   \n1   BRCA  P04637    TP53            PPP1R13B, TP53BP2 (41)   \n2   BRCA  P68431    H3C1                          DAXX (7)   \n3   BRCA  P62805    H4C1                   H3C1, H3C15 (8)   \n4   BRCA  P45985  MAP2K4                 LRRK2, MAP2K6 (6)   \n..   ...     ...     ...                               ...   \n58  HNSC  P68431    H3C1                          DAXX (4)   \n59  HNSC  Q16478   GRIK5                         GRID2 (3)   \n60    OV  P04637    TP53            PPP1R13B, TP53BP2 (60)   \n61    OV  P62805    H4C1                         H3-3A (4)   \n62    OV  O95835   LATS1                                 -   \n\n   CORE_/_INTERFACE_COUNT  NUM_INTERFACE_PATIENTS_DISRUPTIVE_INTERACTOR  \\\n0                35 / 124                                           120   \n1                141 / 55                                            51   \n2                  1 / 13                                            12   \n3                  6 / 11                                            10   \n4                   3 / 8                                             7   \n..                    ...                                           ...   \n58                  0 / 5                                             4   \n59                  3 / 5                                             4   \n60               147 / 80                                            80   \n61                  8 / 8                                             7   \n62                  1 / 5                                             4   \n\n    RATIO_(prev_two_col)  NUM_UNIQUE_INTERACTORS CGC_STATUS  \n0                   0.97                       6          +  \n1                   0.93                      17          +  \n2                   0.92                      11          -  \n3                   0.91                      16          -  \n4                   0.88                       7          +  \n..                   ...                     ...        ...  \n58                  0.80                      11          -  \n59                  0.80                       4          -  \n60                  1.00                      19          +  \n61                  0.88                      18          -  \n62                  0.80                       7          +  \n\n[63 rows x 9 columns]",
      "text/html": "<div>\n<style scoped>\n    .dataframe tbody tr th:only-of-type {\n        vertical-align: middle;\n    }\n\n    .dataframe tbody tr th {\n        vertical-align: top;\n    }\n\n    .dataframe thead th {\n        text-align: right;\n    }\n</style>\n<table border=\"1\" class=\"dataframe\">\n  <thead>\n    <tr style=\"text-align: right;\">\n      <th></th>\n      <th>TCGA</th>\n      <th>PROTEIN</th>\n      <th>GENE</th>\n      <th>MOST_FREQUENTLY_DISRUPTED_PARTNER</th>\n      <th>CORE_/_INTERFACE_COUNT</th>\n      <th>NUM_INTERFACE_PATIENTS_DISRUPTIVE_INTERACTOR</th>\n      <th>RATIO_(prev_two_col)</th>\n      <th>NUM_UNIQUE_INTERACTORS</th>\n      <th>CGC_STATUS</th>\n    </tr>\n  </thead>\n  <tbody>\n    <tr>\n      <th>0</th>\n      <td>BRCA</td>\n      <td>P42336</td>\n      <td>PIK3CA</td>\n      <td>PIK3R1, PIK3R2 (120)</td>\n      <td>35 / 124</td>\n      <td>120</td>\n      <td>0.97</td>\n      <td>6</td>\n      <td>+</td>\n    </tr>\n    <tr>\n      <th>1</th>\n      <td>BRCA</td>\n      <td>P04637</td>\n      <td>TP53</td>\n      <td>PPP1R13B, TP53BP2 (41)</td>\n      <td>141 / 55</td>\n      <td>51</td>\n      <td>0.93</td>\n      <td>17</td>\n      <td>+</td>\n    </tr>\n    <tr>\n      <th>2</th>\n      <td>BRCA</td>\n      <td>P68431</td>\n      <td>H3C1</td>\n      <td>DAXX (7)</td>\n      <td>1 / 13</td>\n      <td>12</td>\n      <td>0.92</td>\n      <td>11</td>\n      <td>-</td>\n    </tr>\n    <tr>\n      <th>3</th>\n      <td>BRCA</td>\n      <td>P62805</td>\n      <td>H4C1</td>\n      <td>H3C1, H3C15 (8)</td>\n      <td>6 / 11</td>\n      <td>10</td>\n      <td>0.91</td>\n      <td>16</td>\n      <td>-</td>\n    </tr>\n    <tr>\n      <th>4</th>\n      <td>BRCA</td>\n      <td>P45985</td>\n      <td>MAP2K4</td>\n      <td>LRRK2, MAP2K6 (6)</td>\n      <td>3 / 8</td>\n      <td>7</td>\n      <td>0.88</td>\n      <td>7</td>\n      <td>+</td>\n    </tr>\n    <tr>\n      <th>...</th>\n      <td>...</td>\n      <td>...</td>\n      <td>...</td>\n      <td>...</td>\n      <td>...</td>\n      <td>...</td>\n      <td>...</td>\n      <td>...</td>\n      <td>...</td>\n    </tr>\n    <tr>\n      <th>58</th>\n      <td>HNSC</td>\n      <td>P68431</td>\n      <td>H3C1</td>\n      <td>DAXX (4)</td>\n      <td>0 / 5</td>\n      <td>4</td>\n      <td>0.80</td>\n      <td>11</td>\n      <td>-</td>\n    </tr>\n    <tr>\n      <th>59</th>\n      <td>HNSC</td>\n      <td>Q16478</td>\n      <td>GRIK5</td>\n      <td>GRID2 (3)</td>\n      <td>3 / 5</td>\n      <td>4</td>\n      <td>0.80</td>\n      <td>4</td>\n      <td>-</td>\n    </tr>\n    <tr>\n      <th>60</th>\n      <td>OV</td>\n      <td>P04637</td>\n      <td>TP53</td>\n      <td>PPP1R13B, TP53BP2 (60)</td>\n      <td>147 / 80</td>\n      <td>80</td>\n      <td>1.00</td>\n      <td>19</td>\n      <td>+</td>\n    </tr>\n    <tr>\n      <th>61</th>\n      <td>OV</td>\n      <td>P62805</td>\n      <td>H4C1</td>\n      <td>H3-3A (4)</td>\n      <td>8 / 8</td>\n      <td>7</td>\n      <td>0.88</td>\n      <td>18</td>\n      <td>-</td>\n    </tr>\n    <tr>\n      <th>62</th>\n      <td>OV</td>\n      <td>O95835</td>\n      <td>LATS1</td>\n      <td>-</td>\n      <td>1 / 5</td>\n      <td>4</td>\n      <td>0.80</td>\n      <td>7</td>\n      <td>+</td>\n    </tr>\n  </tbody>\n</table>\n<p>63 rows × 9 columns</p>\n</div>"
     },
     "execution_count": 28,
     "metadata": {},
     "output_type": "execute_result"
    }
   ],
   "source": [
    "core_interface_column = table_gene_level_stats.apply(lambda x: str(x[\"PATIENT_CORE_COUNT\"]) + \" / \" + str(x[\"PATIENT_INTERFACE_COUNT\"]), axis=1)\n",
    "table_gene_level_stats.insert(\n",
    "    loc=4,\n",
    "    column=\"CORE_/_INTERFACE_COUNT\",\n",
    "    value=core_interface_column.values\n",
    ")\n",
    "table_gene_level_stats = table_gene_level_stats.drop([\"PATIENT_CORE_COUNT\", \"PATIENT_INTERFACE_COUNT\"], axis=\"columns\")\n",
    "table_gene_level_stats"
   ],
   "metadata": {
    "collapsed": false,
    "pycharm": {
     "name": "#%%\n"
    }
   }
  },
  {
   "cell_type": "code",
   "execution_count": null,
   "outputs": [],
   "source": [],
   "metadata": {
    "collapsed": false,
    "pycharm": {
     "name": "#%%\n"
    }
   }
  },
  {
   "cell_type": "code",
   "execution_count": 29,
   "outputs": [],
   "source": [
    "table_gene_level_stats.to_clipboard(index=False, float_format='%.2f')"
   ],
   "metadata": {
    "collapsed": false,
    "pycharm": {
     "name": "#%%\n"
    }
   }
  },
  {
   "cell_type": "code",
   "execution_count": null,
   "outputs": [],
   "source": [],
   "metadata": {
    "collapsed": false,
    "pycharm": {
     "name": "#%%\n"
    }
   }
  },
  {
   "cell_type": "markdown",
   "source": [
    "- - -"
   ],
   "metadata": {
    "collapsed": false,
    "pycharm": {
     "name": "#%% md\n"
    }
   }
  },
  {
   "cell_type": "code",
   "execution_count": null,
   "outputs": [],
   "source": [],
   "metadata": {
    "collapsed": false,
    "pycharm": {
     "name": "#%%\n"
    }
   }
  },
  {
   "cell_type": "code",
   "execution_count": 7,
   "outputs": [],
   "source": [],
   "metadata": {
    "collapsed": false,
    "pycharm": {
     "name": "#%%\n"
    }
   }
  },
  {
   "cell_type": "code",
   "execution_count": null,
   "outputs": [],
   "source": [],
   "metadata": {
    "collapsed": false,
    "pycharm": {
     "name": "#%%\n"
    }
   }
  }
 ],
 "metadata": {
  "kernelspec": {
   "name": "predator",
   "language": "python",
   "display_name": "Predator"
  },
  "language_info": {
   "codemirror_mode": {
    "name": "ipython",
    "version": 3
   },
   "file_extension": ".py",
   "mimetype": "text/x-python",
   "name": "python",
   "nbconvert_exporter": "python",
   "pygments_lexer": "ipython3",
   "version": "3.8.10"
  }
 },
 "nbformat": 4,
 "nbformat_minor": 5
}