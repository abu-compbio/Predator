{
 "cells": [
  {
   "cell_type": "markdown",
   "id": "b0eea2f9-919a-44d2-970f-da295e7b77c5",
   "metadata": {
    "tags": [],
    "pycharm": {
     "name": "#%% md\n"
    }
   },
   "source": [
    "# PREDATOR: **PRED**icting the imp**A**ct of cancer somatic mu**T**ations on pr**O**tein-protein inte**R**actions\n"
   ]
  },
  {
   "cell_type": "markdown",
   "id": "0fc1bee2-776f-46dc-9aa7-80e979b941df",
   "metadata": {
    "pycharm": {
     "name": "#%% md\n"
    }
   },
   "source": [
    "## GBM"
   ]
  },
  {
   "cell_type": "markdown",
   "id": "f412b89c-b553-4606-95fb-d30520f77b97",
   "metadata": {
    "pycharm": {
     "name": "#%% md\n"
    }
   },
   "source": [
    "\n",
    "<b><i class=\"fa fa-folder-o\" area-hidden=\"true\" style=\"color:#1976D2\"> </i>&nbsp; File Location</b><br>\n",
    "<p style=\"background:#F5F5F5; text-indent: 1em;\">\n",
    "<code style=\"background:#F5F5F5; color:#404040; font-weight:bold; font-size:12px\">Predator\\src</code>\n",
    "</p>\n",
    "\n",
    "<b><i class=\"far fa-file\" area-hidden=\"true\" style=\"color:#1976D2\"> </i>&nbsp; File Name</b>\n",
    "<p style=\"background:#F5F5F5; text-indent: 1em;\">\n",
    "<code style=\"background:#F5F5F5; color:#404040; font-weight:bold; font-size:12px\">PredatorStudy_GBM.ipynb</code>\n",
    "</p>\n",
    "\n",
    "<b><i class=\"far fa-calendar-alt\" area-hidden=\"true\" style=\"color:#1976D2\"> </i>&nbsp; Last Edited</b>\n",
    "<p style=\"background:#F5F5F5; text-indent: 1em;\">\n",
    "<code style=\"background:#F5F5F5; color:#404040; font-weight:bold; font-size:12px\">June 17th, 2022</code>\n",
    "</p>\n"
   ]
  },
  {
   "cell_type": "markdown",
   "id": "8931daec-0e11-43e2-8a68-098571c3cc4e",
   "metadata": {
    "pycharm": {
     "name": "#%% md\n"
    }
   },
   "source": [
    "<div class=\"alert alert-block\" style=\"background-color: #F5F5F5; border: 1px solid; padding: 10px; border-color: #E0E0E0\">\n",
    "    <b><i class=\"fa fa-compass\" aria-hidden=\"true\" style=\"color:#404040\"></i></b>&nbsp; <b style=\"color: #404040\">Purpose </b> <br>\n",
    "<div>\n",
    "   \n",
    "- [x] Apply on Cancer Datasets\n",
    "    > GBM\n",
    "    \n",
    "**Dependent files:**\n",
    "\n",
    "* Target (Cancer) data: \n",
    "    - *GBM_Interface.txt*"
   ]
  },
  {
   "cell_type": "code",
   "execution_count": 5,
   "id": "3f602602-ac27-4390-9521-9bcdc73f06ef",
   "metadata": {
    "pycharm": {
     "name": "#%%\n"
    }
   },
   "outputs": [
    {
     "name": "stdout",
     "output_type": "stream",
     "text": [
      "The autoreload extension is already loaded. To reload it, use:\n",
      "  %reload_ext autoreload\n"
     ]
    }
   ],
   "source": [
    "from pathlib import Path\n",
    "\n",
    "from helpers.helpers_predator.displayers import (\n",
    "    visualize_label_counts,\n",
    "    display_data,\n",
    ")\n",
    "\n",
    "from helpers.helpers_predator.common import load_predator\n",
    "\n",
    "# PATHS\n",
    "GBM_PATH = Path(r\"../data/Elaspic_merged_results/GBM_Interface_2021-11-17.txt\")\n",
    "PREDATOR_MODEL_PATH = Path(r\"PredatorModels/PredatorModel_2022-06-16/cc84a54e/predator.pkl\")\n",
    "PREDICTIONS_DATASETS_FOLDER_PATH = \"../data/predictions_datasets/\"\n",
    "\n",
    "# Reflect changes in the modules immediately.\n",
    "%load_ext autoreload\n",
    "%autoreload 2"
   ]
  },
  {
   "cell_type": "markdown",
   "id": "c47b1edb-758c-460e-acf7-4f864330d19b",
   "metadata": {
    "pycharm": {
     "name": "#%% md\n"
    }
   },
   "source": [
    "## Load the Predator"
   ]
  },
  {
   "cell_type": "code",
   "execution_count": 2,
   "id": "0c164c31-9b7e-4366-8336-50cbc80bf9c7",
   "metadata": {
    "pycharm": {
     "name": "#%%\n"
    }
   },
   "outputs": [
    {
     "name": "stdout",
     "output_type": "stream",
     "text": [
      "2022-06-17 00:44:28 |\u001B[32m INFO     \u001B[0m| helpers.helpers_predator.common | Predator object PredatorModels\\PredatorModel_2022-06-16\\cc84a54e\\predator.pkl is loaded successfully.\n"
     ]
    }
   ],
   "source": [
    "predator = load_predator(PREDATOR_MODEL_PATH)"
   ]
  },
  {
   "cell_type": "markdown",
   "id": "60f783e4-28bb-4543-9d35-42c4b17b37b8",
   "metadata": {
    "pycharm": {
     "name": "#%% md\n"
    }
   },
   "source": [
    "## Prediction TCGA on Cancer Dataset: GBM"
   ]
  },
  {
   "cell_type": "code",
   "execution_count": 3,
   "id": "c27cc976-e356-4271-85e9-f23c9366dc67",
   "metadata": {
    "pycharm": {
     "name": "#%%\n"
    }
   },
   "outputs": [
    {
     "name": "stdout",
     "output_type": "stream",
     "text": [
      "2022-06-17 00:44:28 |\u001B[36m DEBUG    \u001B[0m| helpers.helpers_predator.data_materials | Initialize `gbm` ..\n",
      "2022-06-17 00:44:28 |\u001B[36m DEBUG    \u001B[0m| helpers.helpers_predator.data_materials | Initialize `target_gbm_data` ..\n",
      "2022-06-17 00:44:28 |\u001B[36m DEBUG    \u001B[0m| helpers.helpers_predator.data_materials | Initializing target data materials ..\n",
      "2022-06-17 00:44:28 |\u001B[36m DEBUG    \u001B[0m| helpers.helpers_predator.data_materials | Determined features: ['EL2_score', 'Provean_score', 'Final_ddG', 'Interactor_alignment_score', 'Matrix_score', 'Solvent_accessibility_wt', 'van_der_waals_mut', 'Solvent_accessibility_mut', 'Interactor_template_sequence_identity', 'solvation_polar_wt']\n",
      "2022-06-17 00:44:28 |\u001B[36m DEBUG    \u001B[0m| helpers.helpers_predator.data_materials | Declaring Xs_gbm data materials  ..\n"
     ]
    }
   ],
   "source": [
    "predator.initialize_target_data_materials(\n",
    "    tcga_code_path_pairs=[('gbm', GBM_PATH)]\n",
    ")"
   ]
  },
  {
   "cell_type": "markdown",
   "id": "245b2b8c-0c70-4cd5-9a09-b3428cf0b048",
   "metadata": {
    "tags": [],
    "pycharm": {
     "name": "#%% md\n"
    }
   },
   "source": [
    "#### TCGA Cancer Datasets"
   ]
  },
  {
   "cell_type": "markdown",
   "id": "4ab061ec-37b5-4651-a5c0-1f1238e7a08a",
   "metadata": {
    "pycharm": {
     "name": "#%% md\n"
    }
   },
   "source": [
    "##### GBM"
   ]
  },
  {
   "cell_type": "code",
   "execution_count": 4,
   "id": "342221d3-8e16-42eb-9801-20a3efed64f5",
   "metadata": {
    "pycharm": {
     "name": "#%%\n"
    }
   },
   "outputs": [
    {
     "name": "stdout",
     "output_type": "stream",
     "text": [
      "\u001B[36mData dimensions: (5631, 103)\u001B[0m\n"
     ]
    },
    {
     "data": {
      "text/plain": "  Input_identifier UniProt_ID Mutation Status       Type COSMIC_mut_ID  \\\n0           P46734     P46734    K200E   done  interface             -   \n1           P46734     P46734    K200E   done  interface             -   \n2           P46734     P46734    K200E   done  interface             -   \n\n  ClinVar_mut_ID UniProt_mut_ID Domain_name Domain_clan  ...  \\\n0              -              -     Pkinase     Pkinase  ...   \n1              -              -     Pkinase     Pkinase  ...   \n2              -              -     Pkinase     Pkinase  ...   \n\n  number_of_residues_mut IntraclashesEnergy1_wt  IntraclashesEnergy1_mut  \\\n0                  640.0               140.8630                 140.8620   \n1                  596.0                88.7587                  88.7927   \n2                  622.0               252.2520                 252.2990   \n\n   IntraclashesEnergy2_wt IntraclashesEnergy2_mut Interface_hydrophobic_area  \\\n0                 115.263                 115.263                     522.24   \n1                 264.825                 264.825                       None   \n2                 112.394                 112.522                       None   \n\n  Interface_hydrophilic_area Interface_total_area  \\\n0                    286.075              808.315   \n1                       None                 None   \n2                       None                 None   \n\n  Interface_contact_distance_wt  Interface_contact_distance_mut  \n0                       2.74325                         2.74325  \n1                       3.68021                         3.59315  \n2                       2.95347                         2.95347  \n\n[3 rows x 103 columns]",
      "text/html": "<div>\n<style scoped>\n    .dataframe tbody tr th:only-of-type {\n        vertical-align: middle;\n    }\n\n    .dataframe tbody tr th {\n        vertical-align: top;\n    }\n\n    .dataframe thead th {\n        text-align: right;\n    }\n</style>\n<table border=\"1\" class=\"dataframe\">\n  <thead>\n    <tr style=\"text-align: right;\">\n      <th></th>\n      <th>Input_identifier</th>\n      <th>UniProt_ID</th>\n      <th>Mutation</th>\n      <th>Status</th>\n      <th>Type</th>\n      <th>COSMIC_mut_ID</th>\n      <th>ClinVar_mut_ID</th>\n      <th>UniProt_mut_ID</th>\n      <th>Domain_name</th>\n      <th>Domain_clan</th>\n      <th>...</th>\n      <th>number_of_residues_mut</th>\n      <th>IntraclashesEnergy1_wt</th>\n      <th>IntraclashesEnergy1_mut</th>\n      <th>IntraclashesEnergy2_wt</th>\n      <th>IntraclashesEnergy2_mut</th>\n      <th>Interface_hydrophobic_area</th>\n      <th>Interface_hydrophilic_area</th>\n      <th>Interface_total_area</th>\n      <th>Interface_contact_distance_wt</th>\n      <th>Interface_contact_distance_mut</th>\n    </tr>\n  </thead>\n  <tbody>\n    <tr>\n      <th>0</th>\n      <td>P46734</td>\n      <td>P46734</td>\n      <td>K200E</td>\n      <td>done</td>\n      <td>interface</td>\n      <td>-</td>\n      <td>-</td>\n      <td>-</td>\n      <td>Pkinase</td>\n      <td>Pkinase</td>\n      <td>...</td>\n      <td>640.0</td>\n      <td>140.8630</td>\n      <td>140.8620</td>\n      <td>115.263</td>\n      <td>115.263</td>\n      <td>522.24</td>\n      <td>286.075</td>\n      <td>808.315</td>\n      <td>2.74325</td>\n      <td>2.74325</td>\n    </tr>\n    <tr>\n      <th>1</th>\n      <td>P46734</td>\n      <td>P46734</td>\n      <td>K200E</td>\n      <td>done</td>\n      <td>interface</td>\n      <td>-</td>\n      <td>-</td>\n      <td>-</td>\n      <td>Pkinase</td>\n      <td>Pkinase</td>\n      <td>...</td>\n      <td>596.0</td>\n      <td>88.7587</td>\n      <td>88.7927</td>\n      <td>264.825</td>\n      <td>264.825</td>\n      <td>None</td>\n      <td>None</td>\n      <td>None</td>\n      <td>3.68021</td>\n      <td>3.59315</td>\n    </tr>\n    <tr>\n      <th>2</th>\n      <td>P46734</td>\n      <td>P46734</td>\n      <td>K200E</td>\n      <td>done</td>\n      <td>interface</td>\n      <td>-</td>\n      <td>-</td>\n      <td>-</td>\n      <td>Pkinase</td>\n      <td>Pkinase</td>\n      <td>...</td>\n      <td>622.0</td>\n      <td>252.2520</td>\n      <td>252.2990</td>\n      <td>112.394</td>\n      <td>112.522</td>\n      <td>None</td>\n      <td>None</td>\n      <td>None</td>\n      <td>2.95347</td>\n      <td>2.95347</td>\n    </tr>\n  </tbody>\n</table>\n<p>3 rows × 103 columns</p>\n</div>"
     },
     "metadata": {},
     "output_type": "display_data"
    }
   ],
   "source": [
    "display_data(predator.data_materials[\"gbm\"])"
   ]
  },
  {
   "cell_type": "markdown",
   "id": "a22d630d-e0a0-4417-aa64-0df18f8f3a63",
   "metadata": {
    "tags": [],
    "pycharm": {
     "name": "#%% md\n"
    }
   },
   "source": [
    "#### Preprocessed TCGA Cancer Datasets"
   ]
  },
  {
   "cell_type": "markdown",
   "id": "ca038a01-2691-4943-9d7e-55a41661f3cc",
   "metadata": {
    "pycharm": {
     "name": "#%% md\n"
    }
   },
   "source": [
    "##### GBM"
   ]
  },
  {
   "cell_type": "code",
   "execution_count": 6,
   "id": "67f55bd2-c25a-4d6c-ba5b-08957cf03852",
   "metadata": {
    "pycharm": {
     "name": "#%%\n"
    }
   },
   "outputs": [
    {
     "name": "stdout",
     "output_type": "stream",
     "text": [
      "\u001B[36mData dimensions: (5631, 61)\u001B[0m\n"
     ]
    },
    {
     "data": {
      "text/plain": "  UniProt_ID Mutation Interactor_UniProt_ID  Template_sequence_identity  \\\n0     P46734    K200E                P27361                      0.2593   \n1     P46734    K200E              P27361-2                      0.8112   \n2     P46734    K200E              P27361-3                      0.2593   \n\n   Alignment_score  Interactor_template_sequence_identity  \\\n0         0.265785                                 0.8757   \n1         0.806540                                 0.2959   \n2         0.265785                                 0.8675   \n\n   Interactor_alignment_score  Final_ddG  ProtBert_score  ProteinSolver_score  \\\n0                    0.857142   0.461337        0.276329             0.154538   \n1                    0.253635  -0.891666        0.259010            -0.033457   \n2                    0.827016   0.677915        0.274909             0.204851   \n\n   ...  number_of_residues_mut  IntraclashesEnergy1_wt  \\\n0  ...                   640.0                140.8630   \n1  ...                   596.0                 88.7587   \n2  ...                   622.0                252.2520   \n\n   IntraclashesEnergy1_mut  IntraclashesEnergy2_wt  IntraclashesEnergy2_mut  \\\n0                 140.8620                 115.263                  115.263   \n1                  88.7927                 264.825                  264.825   \n2                 252.2990                 112.394                  112.522   \n\n   Interface_hydrophobic_area  Interface_hydrophilic_area  \\\n0                      522.24                     286.075   \n1                        0.00                       0.000   \n2                        0.00                       0.000   \n\n   Interface_total_area  Interface_contact_distance_wt  \\\n0               808.315                        2.74325   \n1                 0.000                        3.68021   \n2                 0.000                        2.95347   \n\n   Interface_contact_distance_mut  \n0                         2.74325  \n1                         3.59315  \n2                         2.95347  \n\n[3 rows x 61 columns]",
      "text/html": "<div>\n<style scoped>\n    .dataframe tbody tr th:only-of-type {\n        vertical-align: middle;\n    }\n\n    .dataframe tbody tr th {\n        vertical-align: top;\n    }\n\n    .dataframe thead th {\n        text-align: right;\n    }\n</style>\n<table border=\"1\" class=\"dataframe\">\n  <thead>\n    <tr style=\"text-align: right;\">\n      <th></th>\n      <th>UniProt_ID</th>\n      <th>Mutation</th>\n      <th>Interactor_UniProt_ID</th>\n      <th>Template_sequence_identity</th>\n      <th>Alignment_score</th>\n      <th>Interactor_template_sequence_identity</th>\n      <th>Interactor_alignment_score</th>\n      <th>Final_ddG</th>\n      <th>ProtBert_score</th>\n      <th>ProteinSolver_score</th>\n      <th>...</th>\n      <th>number_of_residues_mut</th>\n      <th>IntraclashesEnergy1_wt</th>\n      <th>IntraclashesEnergy1_mut</th>\n      <th>IntraclashesEnergy2_wt</th>\n      <th>IntraclashesEnergy2_mut</th>\n      <th>Interface_hydrophobic_area</th>\n      <th>Interface_hydrophilic_area</th>\n      <th>Interface_total_area</th>\n      <th>Interface_contact_distance_wt</th>\n      <th>Interface_contact_distance_mut</th>\n    </tr>\n  </thead>\n  <tbody>\n    <tr>\n      <th>0</th>\n      <td>P46734</td>\n      <td>K200E</td>\n      <td>P27361</td>\n      <td>0.2593</td>\n      <td>0.265785</td>\n      <td>0.8757</td>\n      <td>0.857142</td>\n      <td>0.461337</td>\n      <td>0.276329</td>\n      <td>0.154538</td>\n      <td>...</td>\n      <td>640.0</td>\n      <td>140.8630</td>\n      <td>140.8620</td>\n      <td>115.263</td>\n      <td>115.263</td>\n      <td>522.24</td>\n      <td>286.075</td>\n      <td>808.315</td>\n      <td>2.74325</td>\n      <td>2.74325</td>\n    </tr>\n    <tr>\n      <th>1</th>\n      <td>P46734</td>\n      <td>K200E</td>\n      <td>P27361-2</td>\n      <td>0.8112</td>\n      <td>0.806540</td>\n      <td>0.2959</td>\n      <td>0.253635</td>\n      <td>-0.891666</td>\n      <td>0.259010</td>\n      <td>-0.033457</td>\n      <td>...</td>\n      <td>596.0</td>\n      <td>88.7587</td>\n      <td>88.7927</td>\n      <td>264.825</td>\n      <td>264.825</td>\n      <td>0.00</td>\n      <td>0.000</td>\n      <td>0.000</td>\n      <td>3.68021</td>\n      <td>3.59315</td>\n    </tr>\n    <tr>\n      <th>2</th>\n      <td>P46734</td>\n      <td>K200E</td>\n      <td>P27361-3</td>\n      <td>0.2593</td>\n      <td>0.265785</td>\n      <td>0.8675</td>\n      <td>0.827016</td>\n      <td>0.677915</td>\n      <td>0.274909</td>\n      <td>0.204851</td>\n      <td>...</td>\n      <td>622.0</td>\n      <td>252.2520</td>\n      <td>252.2990</td>\n      <td>112.394</td>\n      <td>112.522</td>\n      <td>0.00</td>\n      <td>0.000</td>\n      <td>0.000</td>\n      <td>2.95347</td>\n      <td>2.95347</td>\n    </tr>\n  </tbody>\n</table>\n<p>3 rows × 61 columns</p>\n</div>"
     },
     "metadata": {},
     "output_type": "display_data"
    }
   ],
   "source": [
    "display_data(predator.data_materials[\"target_gbm_data\"])"
   ]
  },
  {
   "cell_type": "markdown",
   "id": "6cd1cc76-b56f-4789-b3b9-bf907fe7399e",
   "metadata": {
    "tags": [],
    "pycharm": {
     "name": "#%% md\n"
    }
   },
   "source": [
    "### Voting mode: `soft`"
   ]
  },
  {
   "cell_type": "code",
   "execution_count": 7,
   "id": "44e95ef5-2482-4d0d-93fa-305004853f7c",
   "metadata": {
    "pycharm": {
     "name": "#%%\n"
    }
   },
   "outputs": [
    {
     "name": "stdout",
     "output_type": "stream",
     "text": [
      "2022-06-17 00:44:43 |\u001B[36m DEBUG    \u001B[0m| helpers.helpers_predator.data_materials | Initialize `gbm` ..\n",
      "2022-06-17 00:44:43 |\u001B[36m DEBUG    \u001B[0m| helpers.helpers_predator.data_materials | Initialize `target_gbm_data` ..\n",
      "2022-06-17 00:44:44 |\u001B[36m DEBUG    \u001B[0m| helpers.helpers_predator.data_materials | Initializing target data materials ..\n",
      "2022-06-17 00:44:44 |\u001B[36m DEBUG    \u001B[0m| helpers.helpers_predator.data_materials | Determined features: ['EL2_score', 'Provean_score', 'Final_ddG', 'Interactor_alignment_score', 'Matrix_score', 'Solvent_accessibility_wt', 'van_der_waals_mut', 'Solvent_accessibility_mut', 'Interactor_template_sequence_identity', 'solvation_polar_wt']\n",
      "2022-06-17 00:44:44 |\u001B[36m DEBUG    \u001B[0m| helpers.helpers_predator.data_materials | Declaring Xs_gbm data materials  ..\n"
     ]
    }
   ],
   "source": [
    "predator.initialize_target_data_materials(\n",
    "    tcga_code_path_pairs=[('gbm', GBM_PATH)]\n",
    ")"
   ]
  },
  {
   "cell_type": "code",
   "execution_count": 8,
   "id": "323fbd63-7e32-471f-8cee-4b0abf9d82dc",
   "metadata": {
    "scrolled": true,
    "tags": [],
    "pycharm": {
     "name": "#%%\n"
    }
   },
   "outputs": [
    {
     "name": "stdout",
     "output_type": "stream",
     "text": [
      "2022-06-17 00:44:44 |\u001B[36m DEBUG    \u001B[0m| Predator | Predicting on cancer datasets ..\n",
      "2022-06-17 00:44:44 |\u001B[36m DEBUG    \u001B[0m| helpers.helpers_predator.models | Initializing EnsambledVotingClassifier.\n",
      "2022-06-17 00:44:44 |\u001B[36m DEBUG    \u001B[0m| helpers.helpers_predator.models | Voting mode: soft\n",
      "2022-06-17 00:44:44 |\u001B[36m DEBUG    \u001B[0m| helpers.helpers_predator.predictions | Initializing: PredictionsSoft\n",
      "2022-06-17 00:44:44 |\u001B[36m DEBUG    \u001B[0m| Predator | Predicting on gbm cohort ..\n",
      "2022-06-17 00:44:44 |\u001B[36m DEBUG    \u001B[0m| helpers.helpers_predator.models | Current estimator: RandomForestClassifier(max_depth=7, min_samples_leaf=4, min_samples_split=5,\n",
      "                       n_estimators=380, random_state=3279)\n",
      "2022-06-17 00:44:44 |\u001B[36m DEBUG    \u001B[0m| helpers.helpers_predator.models | X shape: (5631, 10)\n",
      "2022-06-17 00:44:45 |\u001B[36m DEBUG    \u001B[0m| helpers.helpers_predator.models | Current estimator: RandomForestClassifier(class_weight='balanced', max_depth=2, min_samples_leaf=2,\n",
      "                       min_samples_split=5, n_estimators=90,\n",
      "                       random_state=97197)\n",
      "2022-06-17 00:44:45 |\u001B[36m DEBUG    \u001B[0m| helpers.helpers_predator.models | X shape: (5631, 10)\n",
      "2022-06-17 00:44:45 |\u001B[36m DEBUG    \u001B[0m| helpers.helpers_predator.models | Current estimator: RandomForestClassifier(bootstrap=False, class_weight='balanced', max_depth=5,\n",
      "                       min_samples_leaf=2, n_estimators=500,\n",
      "                       random_state=29257)\n",
      "2022-06-17 00:44:45 |\u001B[36m DEBUG    \u001B[0m| helpers.helpers_predator.models | X shape: (5631, 10)\n",
      "2022-06-17 00:44:45 |\u001B[36m DEBUG    \u001B[0m| helpers.helpers_predator.models | Current estimator: RandomForestClassifier(class_weight='balanced', max_depth=3, min_samples_leaf=4,\n",
      "                       min_samples_split=5, n_estimators=480,\n",
      "                       random_state=96531)\n",
      "2022-06-17 00:44:45 |\u001B[36m DEBUG    \u001B[0m| helpers.helpers_predator.models | X shape: (5631, 10)\n",
      "2022-06-17 00:44:45 |\u001B[36m DEBUG    \u001B[0m| helpers.helpers_predator.models | Current estimator: RandomForestClassifier(class_weight='balanced', max_depth=13,\n",
      "                       min_samples_leaf=2, min_samples_split=5, n_estimators=80,\n",
      "                       random_state=13435)\n",
      "2022-06-17 00:44:45 |\u001B[36m DEBUG    \u001B[0m| helpers.helpers_predator.models | X shape: (5631, 10)\n",
      "2022-06-17 00:44:45 |\u001B[36m DEBUG    \u001B[0m| helpers.helpers_predator.models | Current estimator: RandomForestClassifier(class_weight='balanced', max_depth=10,\n",
      "                       max_features='sqrt', min_samples_leaf=4,\n",
      "                       n_estimators=340, random_state=88697)\n",
      "2022-06-17 00:44:45 |\u001B[36m DEBUG    \u001B[0m| helpers.helpers_predator.models | X shape: (5631, 10)\n",
      "2022-06-17 00:44:46 |\u001B[36m DEBUG    \u001B[0m| helpers.helpers_predator.models | Current estimator: RandomForestClassifier(class_weight='balanced', max_depth=2,\n",
      "                       max_features='sqrt', min_samples_leaf=4, n_estimators=5,\n",
      "                       random_state=97081)\n",
      "2022-06-17 00:44:46 |\u001B[36m DEBUG    \u001B[0m| helpers.helpers_predator.models | X shape: (5631, 10)\n",
      "2022-06-17 00:44:46 |\u001B[36m DEBUG    \u001B[0m| helpers.helpers_predator.models | Current estimator: RandomForestClassifier(bootstrap=False, class_weight='balanced', max_depth=9,\n",
      "                       max_features='sqrt', min_samples_leaf=2, n_estimators=50,\n",
      "                       random_state=77398)\n",
      "2022-06-17 00:44:46 |\u001B[36m DEBUG    \u001B[0m| helpers.helpers_predator.models | X shape: (5631, 10)\n",
      "2022-06-17 00:44:46 |\u001B[36m DEBUG    \u001B[0m| helpers.helpers_predator.models | Current estimator: RandomForestClassifier(class_weight='balanced', max_depth=2, n_estimators=50,\n",
      "                       random_state=55303)\n",
      "2022-06-17 00:44:46 |\u001B[36m DEBUG    \u001B[0m| helpers.helpers_predator.models | X shape: (5631, 10)\n",
      "2022-06-17 00:44:46 |\u001B[36m DEBUG    \u001B[0m| helpers.helpers_predator.models | Current estimator: RandomForestClassifier(bootstrap=False, class_weight='balanced', max_depth=5,\n",
      "                       min_samples_leaf=2, n_estimators=200, random_state=4166)\n",
      "2022-06-17 00:44:46 |\u001B[36m DEBUG    \u001B[0m| helpers.helpers_predator.models | X shape: (5631, 10)\n",
      "2022-06-17 00:44:46 |\u001B[36m DEBUG    \u001B[0m| helpers.helpers_predator.models | Current estimator: RandomForestClassifier(min_samples_leaf=2, n_estimators=60, random_state=3906)\n",
      "2022-06-17 00:44:46 |\u001B[36m DEBUG    \u001B[0m| helpers.helpers_predator.models | X shape: (5631, 10)\n",
      "2022-06-17 00:44:46 |\u001B[36m DEBUG    \u001B[0m| helpers.helpers_predator.models | Current estimator: RandomForestClassifier(class_weight='balanced', max_depth=13, max_features=None,\n",
      "                       min_samples_leaf=2, min_samples_split=5,\n",
      "                       n_estimators=600, random_state=12281)\n",
      "2022-06-17 00:44:46 |\u001B[36m DEBUG    \u001B[0m| helpers.helpers_predator.models | X shape: (5631, 10)\n",
      "2022-06-17 00:44:47 |\u001B[36m DEBUG    \u001B[0m| helpers.helpers_predator.models | Current estimator: RandomForestClassifier(bootstrap=False, class_weight='balanced', max_depth=6,\n",
      "                       min_samples_leaf=2, n_estimators=90, random_state=28658)\n",
      "2022-06-17 00:44:47 |\u001B[36m DEBUG    \u001B[0m| helpers.helpers_predator.models | X shape: (5631, 10)\n",
      "2022-06-17 00:44:47 |\u001B[36m DEBUG    \u001B[0m| helpers.helpers_predator.models | Current estimator: RandomForestClassifier(class_weight='balanced', max_depth=6,\n",
      "                       max_features='sqrt', min_samples_leaf=2, n_estimators=10,\n",
      "                       random_state=30496)\n",
      "2022-06-17 00:44:47 |\u001B[36m DEBUG    \u001B[0m| helpers.helpers_predator.models | X shape: (5631, 10)\n",
      "2022-06-17 00:44:47 |\u001B[36m DEBUG    \u001B[0m| helpers.helpers_predator.models | Current estimator: RandomForestClassifier(bootstrap=False, class_weight='balanced', max_depth=13,\n",
      "                       max_features=None, n_estimators=360, random_state=78908)\n",
      "2022-06-17 00:44:47 |\u001B[36m DEBUG    \u001B[0m| helpers.helpers_predator.models | X shape: (5631, 10)\n",
      "2022-06-17 00:44:47 |\u001B[36m DEBUG    \u001B[0m| helpers.helpers_predator.models | Current estimator: RandomForestClassifier(class_weight='balanced', max_depth=3,\n",
      "                       max_features='sqrt', min_samples_split=5,\n",
      "                       n_estimators=10, random_state=3479)\n",
      "2022-06-17 00:44:47 |\u001B[36m DEBUG    \u001B[0m| helpers.helpers_predator.models | X shape: (5631, 10)\n",
      "2022-06-17 00:44:47 |\u001B[36m DEBUG    \u001B[0m| helpers.helpers_predator.models | Current estimator: RandomForestClassifier(class_weight='balanced', max_depth=11,\n",
      "                       max_features='sqrt', min_samples_leaf=4, n_estimators=80,\n",
      "                       random_state=73564)\n",
      "2022-06-17 00:44:47 |\u001B[36m DEBUG    \u001B[0m| helpers.helpers_predator.models | X shape: (5631, 10)\n",
      "2022-06-17 00:44:47 |\u001B[36m DEBUG    \u001B[0m| helpers.helpers_predator.models | Current estimator: RandomForestClassifier(class_weight='balanced', max_depth=10,\n",
      "                       min_samples_leaf=2, min_samples_split=5,\n",
      "                       n_estimators=300, random_state=26063)\n",
      "2022-06-17 00:44:47 |\u001B[36m DEBUG    \u001B[0m| helpers.helpers_predator.models | X shape: (5631, 10)\n",
      "2022-06-17 00:44:47 |\u001B[36m DEBUG    \u001B[0m| helpers.helpers_predator.models | Current estimator: RandomForestClassifier(class_weight='balanced', max_depth=14,\n",
      "                       min_samples_leaf=4, min_samples_split=5,\n",
      "                       n_estimators=440, random_state=85182)\n",
      "2022-06-17 00:44:47 |\u001B[36m DEBUG    \u001B[0m| helpers.helpers_predator.models | X shape: (5631, 10)\n",
      "2022-06-17 00:44:48 |\u001B[36m DEBUG    \u001B[0m| helpers.helpers_predator.models | Current estimator: RandomForestClassifier(bootstrap=False, class_weight='balanced', max_depth=5,\n",
      "                       min_samples_leaf=4, min_samples_split=5,\n",
      "                       n_estimators=200, random_state=91925)\n",
      "2022-06-17 00:44:48 |\u001B[36m DEBUG    \u001B[0m| helpers.helpers_predator.models | X shape: (5631, 10)\n",
      "2022-06-17 00:44:48 |\u001B[36m DEBUG    \u001B[0m| helpers.helpers_predator.models | Current estimator: RandomForestClassifier(max_depth=7, max_features='sqrt', min_samples_split=5,\n",
      "                       n_estimators=40, random_state=71427)\n",
      "2022-06-17 00:44:48 |\u001B[36m DEBUG    \u001B[0m| helpers.helpers_predator.models | X shape: (5631, 10)\n",
      "2022-06-17 00:44:48 |\u001B[36m DEBUG    \u001B[0m| helpers.helpers_predator.models | Current estimator: RandomForestClassifier(bootstrap=False, max_features='sqrt', n_estimators=10,\n",
      "                       random_state=28894)\n",
      "2022-06-17 00:44:48 |\u001B[36m DEBUG    \u001B[0m| helpers.helpers_predator.models | X shape: (5631, 10)\n",
      "2022-06-17 00:44:48 |\u001B[36m DEBUG    \u001B[0m| helpers.helpers_predator.models | Current estimator: RandomForestClassifier(class_weight='balanced', max_depth=8,\n",
      "                       max_features='sqrt', min_samples_leaf=2,\n",
      "                       min_samples_split=5, n_estimators=600,\n",
      "                       random_state=58879)\n",
      "2022-06-17 00:44:48 |\u001B[36m DEBUG    \u001B[0m| helpers.helpers_predator.models | X shape: (5631, 10)\n",
      "2022-06-17 00:44:48 |\u001B[36m DEBUG    \u001B[0m| helpers.helpers_predator.models | Current estimator: RandomForestClassifier(class_weight='balanced', max_depth=2,\n",
      "                       max_features='sqrt', min_samples_split=5,\n",
      "                       n_estimators=340, random_state=77237)\n",
      "2022-06-17 00:44:48 |\u001B[36m DEBUG    \u001B[0m| helpers.helpers_predator.models | X shape: (5631, 10)\n",
      "2022-06-17 00:44:48 |\u001B[36m DEBUG    \u001B[0m| helpers.helpers_predator.models | Current estimator: RandomForestClassifier(bootstrap=False, max_depth=3, min_samples_leaf=4,\n",
      "                       min_samples_split=5, n_estimators=500, random_state=852)\n",
      "2022-06-17 00:44:48 |\u001B[36m DEBUG    \u001B[0m| helpers.helpers_predator.models | X shape: (5631, 10)\n",
      "2022-06-17 00:44:49 |\u001B[36m DEBUG    \u001B[0m| helpers.helpers_predator.models | Current estimator: RandomForestClassifier(class_weight='balanced', max_depth=3,\n",
      "                       max_features='sqrt', min_samples_leaf=4,\n",
      "                       min_samples_split=5, n_estimators=420,\n",
      "                       random_state=99459)\n",
      "2022-06-17 00:44:49 |\u001B[36m DEBUG    \u001B[0m| helpers.helpers_predator.models | X shape: (5631, 10)\n",
      "2022-06-17 00:44:49 |\u001B[36m DEBUG    \u001B[0m| helpers.helpers_predator.models | Current estimator: RandomForestClassifier(class_weight='balanced', max_depth=14,\n",
      "                       max_features='sqrt', min_samples_leaf=2,\n",
      "                       n_estimators=360, random_state=20927)\n",
      "2022-06-17 00:44:49 |\u001B[36m DEBUG    \u001B[0m| helpers.helpers_predator.models | X shape: (5631, 10)\n",
      "2022-06-17 00:44:49 |\u001B[36m DEBUG    \u001B[0m| helpers.helpers_predator.models | Current estimator: RandomForestClassifier(max_depth=8, min_samples_leaf=2, min_samples_split=5,\n",
      "                       n_estimators=180, random_state=91507)\n",
      "2022-06-17 00:44:49 |\u001B[36m DEBUG    \u001B[0m| helpers.helpers_predator.models | X shape: (5631, 10)\n",
      "2022-06-17 00:44:49 |\u001B[36m DEBUG    \u001B[0m| helpers.helpers_predator.models | Current estimator: RandomForestClassifier(bootstrap=False, class_weight='balanced', max_depth=12,\n",
      "                       max_features=None, min_samples_leaf=2, n_estimators=280,\n",
      "                       random_state=44598)\n",
      "2022-06-17 00:44:49 |\u001B[36m DEBUG    \u001B[0m| helpers.helpers_predator.models | X shape: (5631, 10)\n",
      "2022-06-17 00:44:49 |\u001B[36m DEBUG    \u001B[0m| helpers.helpers_predator.models | Current estimator: RandomForestClassifier(class_weight='balanced', max_depth=10, max_features=None,\n",
      "                       n_estimators=20, random_state=36422)\n",
      "2022-06-17 00:44:49 |\u001B[36m DEBUG    \u001B[0m| helpers.helpers_predator.models | X shape: (5631, 10)\n",
      "2022-06-17 00:44:49 |\u001B[36m DEBUG    \u001B[0m| helpers.helpers_predator.models | Current estimator: RandomForestClassifier(bootstrap=False, class_weight='balanced', max_depth=14,\n",
      "                       min_samples_split=5, n_estimators=340,\n",
      "                       random_state=20380)\n",
      "2022-06-17 00:44:49 |\u001B[36m DEBUG    \u001B[0m| helpers.helpers_predator.models | X shape: (5631, 10)\n",
      "2022-06-17 00:44:50 |\u001B[36m DEBUG    \u001B[0m| helpers.helpers_predator.models | Current estimator: RandomForestClassifier(class_weight='balanced', min_samples_leaf=4,\n",
      "                       min_samples_split=5, n_estimators=20,\n",
      "                       random_state=28222)\n",
      "2022-06-17 00:44:50 |\u001B[36m DEBUG    \u001B[0m| helpers.helpers_predator.models | X shape: (5631, 10)\n",
      "2022-06-17 00:44:50 |\u001B[36m DEBUG    \u001B[0m| helpers.helpers_predator.models | Current estimator: RandomForestClassifier(class_weight='balanced', max_depth=13,\n",
      "                       max_features='sqrt', min_samples_leaf=2,\n",
      "                       n_estimators=360, random_state=44119)\n",
      "2022-06-17 00:44:50 |\u001B[36m DEBUG    \u001B[0m| helpers.helpers_predator.models | X shape: (5631, 10)\n",
      "2022-06-17 00:44:50 |\u001B[36m DEBUG    \u001B[0m| helpers.helpers_predator.models | Current estimator: RandomForestClassifier(max_depth=10, max_features='sqrt', n_estimators=340,\n",
      "                       random_state=13397)\n",
      "2022-06-17 00:44:50 |\u001B[36m DEBUG    \u001B[0m| helpers.helpers_predator.models | X shape: (5631, 10)\n",
      "2022-06-17 00:44:50 |\u001B[36m DEBUG    \u001B[0m| helpers.helpers_predator.models | Current estimator: RandomForestClassifier(class_weight='balanced', max_depth=9, max_features=None,\n",
      "                       min_samples_leaf=2, n_estimators=200,\n",
      "                       random_state=12157)\n",
      "2022-06-17 00:44:50 |\u001B[36m DEBUG    \u001B[0m| helpers.helpers_predator.models | X shape: (5631, 10)\n",
      "2022-06-17 00:44:50 |\u001B[36m DEBUG    \u001B[0m| helpers.helpers_predator.models | Current estimator: RandomForestClassifier(bootstrap=False, max_depth=12, max_features=None,\n",
      "                       min_samples_leaf=4, min_samples_split=5, n_estimators=40,\n",
      "                       random_state=49798)\n",
      "2022-06-17 00:44:50 |\u001B[36m DEBUG    \u001B[0m| helpers.helpers_predator.models | X shape: (5631, 10)\n",
      "2022-06-17 00:44:50 |\u001B[36m DEBUG    \u001B[0m| helpers.helpers_predator.models | Current estimator: RandomForestClassifier(class_weight='balanced', max_depth=5, min_samples_leaf=4,\n",
      "                       n_estimators=40, random_state=12677)\n",
      "2022-06-17 00:44:50 |\u001B[36m DEBUG    \u001B[0m| helpers.helpers_predator.models | X shape: (5631, 10)\n",
      "2022-06-17 00:44:50 |\u001B[36m DEBUG    \u001B[0m| helpers.helpers_predator.models | Current estimator: RandomForestClassifier(class_weight='balanced', max_depth=6, min_samples_leaf=4,\n",
      "                       min_samples_split=5, n_estimators=420,\n",
      "                       random_state=47053)\n",
      "2022-06-17 00:44:50 |\u001B[36m DEBUG    \u001B[0m| helpers.helpers_predator.models | X shape: (5631, 10)\n",
      "2022-06-17 00:44:51 |\u001B[36m DEBUG    \u001B[0m| helpers.helpers_predator.predictions | PredictionsSoft\n",
      "2022-06-17 00:44:51 |\u001B[36m DEBUG    \u001B[0m| helpers.helpers_predator.predictions | Predicting probabilities on gbm cohort ..\n",
      "2022-06-17 00:44:51 |\u001B[36m DEBUG    \u001B[0m| helpers.helpers_predator.predictions | Adding key `gbm_prob` to self.predictions\n"
     ]
    }
   ],
   "source": [
    "predator.predict(voting='soft')"
   ]
  },
  {
   "cell_type": "code",
   "execution_count": 9,
   "id": "341a1a27-928b-47ae-9d45-69ec13771b81",
   "metadata": {
    "pycharm": {
     "name": "#%%\n"
    }
   },
   "outputs": [
    {
     "data": {
      "text/plain": "dict_keys(['gbm_prob'])"
     },
     "execution_count": 9,
     "metadata": {},
     "output_type": "execute_result"
    }
   ],
   "source": [
    "predator.predictions.keys()"
   ]
  },
  {
   "cell_type": "code",
   "execution_count": 10,
   "id": "d7054f49-ad45-408f-88b4-0e608fc81e81",
   "metadata": {
    "pycharm": {
     "name": "#%%\n"
    }
   },
   "outputs": [
    {
     "data": {
      "text/plain": "[array([[0.83680472, 0.16319528],\n        [0.89936473, 0.10063527],\n        [0.7194312 , 0.2805688 ],\n        ...,\n        [0.78268801, 0.21731199],\n        [0.73794227, 0.26205773],\n        [0.73794227, 0.26205773]]),\n array([[0.76129843, 0.23870157],\n        [0.75541749, 0.24458251],\n        [0.72814352, 0.27185648],\n        ...,\n        [0.80583958, 0.19416042],\n        [0.71273915, 0.28726085],\n        [0.71273915, 0.28726085]]),\n array([[0.88469682, 0.11530318],\n        [0.9568771 , 0.0431229 ],\n        [0.88977661, 0.11022339],\n        ...,\n        [0.81609842, 0.18390158],\n        [0.78932315, 0.21067685],\n        [0.78932315, 0.21067685]])]"
     },
     "execution_count": 10,
     "metadata": {},
     "output_type": "execute_result"
    }
   ],
   "source": [
    "# Predictions for first 10 experiment.\n",
    "predator.predictions[\"gbm_prob\"][:3]"
   ]
  },
  {
   "cell_type": "markdown",
   "id": "83e49c0d-9f61-4f48-a23d-8a21e9875041",
   "metadata": {
    "pycharm": {
     "name": "#%% md\n"
    }
   },
   "source": [
    "#### Predictions Post Processing"
   ]
  },
  {
   "cell_type": "markdown",
   "id": "3d18567f-1748-4446-bb12-8062515f02bd",
   "metadata": {
    "pycharm": {
     "name": "#%% md\n"
    }
   },
   "source": [
    "Post processing of predictions involves following steps:"
   ]
  },
  {
   "cell_type": "markdown",
   "id": "45aad6d0-0e73-413e-8b32-fbcb2bcc5426",
   "metadata": {
    "pycharm": {
     "name": "#%% md\n"
    }
   },
   "source": [
    "##### 1. Merging Predictions with SNV Data"
   ]
  },
  {
   "cell_type": "markdown",
   "id": "ba9bda7c-5736-4c44-8663-ec63927976db",
   "metadata": {
    "pycharm": {
     "name": "#%% md\n"
    }
   },
   "source": [
    "The prediction column is merged with SNV data for each experiment.\n",
    "\n",
    "$\\text{For each experiment } n: $\n",
    "\n",
    "$$\n",
    "  \\textit{(Prediction Merged Data)}_n = \\underbrace{[\\textit{Predictions}_n]}_\\text{Probs Percentages} + \n",
    "      \\underbrace{[\\textit{Protein }] [\\textit{Mutation }] [\\textit{Interactor }]}_\\text{Cancer Data Triplets} + \\underbrace{[\\textit{Features }] }_\\text{Elaspic}\n",
    "$$\n"
   ]
  },
  {
   "cell_type": "markdown",
   "id": "8b14c7d7-914f-40af-b695-b962c33ed9ee",
   "metadata": {
    "tags": [],
    "pycharm": {
     "name": "#%% md\n"
    }
   },
   "source": [
    "##### 2. Convert to 1-isomer: `Interactor_UniProt_ID`"
   ]
  },
  {
   "cell_type": "markdown",
   "id": "36c9284b-0d5d-4c41-b2d9-7274d9141f6a",
   "metadata": {
    "pycharm": {
     "name": "#%% md\n"
    }
   },
   "source": [
    "$\\textit{Interactor_UniProt_ID}$ column contains isomer proteins. Here, we convert them into primary isoform representation (i.e. without dashes)."
   ]
  },
  {
   "cell_type": "markdown",
   "id": "2314ef86-e11b-43ce-a9ee-8d3d39420d3d",
   "metadata": {
    "pycharm": {
     "name": "#%% md\n"
    }
   },
   "source": [
    "| Interactor_UniProt_ID |\n",
    "--------------\n",
    "| P38936     |\n",
    "| P16473     |\n",
    "| P16473-2   |\n",
    "| P19793     |"
   ]
  },
  {
   "cell_type": "markdown",
   "id": "ac37c712-d832-4450-8852-a9df5712c194",
   "metadata": {
    "pycharm": {
     "name": "#%% md\n"
    }
   },
   "source": [
    "##### 3. Dropping Invalid Predictions"
   ]
  },
  {
   "cell_type": "markdown",
   "id": "43293304-9ddf-4e94-b624-8ce6c9034fe1",
   "metadata": {
    "pycharm": {
     "name": "#%% md\n"
    }
   },
   "source": [
    "Entries whose predicted class-1 probability lies in both `Decreasing` and `Increasing+NoEff` are dropped."
   ]
  },
  {
   "cell_type": "markdown",
   "id": "0d57de49-9962-47a8-8a2d-96a42df2295a",
   "metadata": {
    "pycharm": {
     "name": "#%% md\n"
    }
   },
   "source": [
    "Due to having different features for the same $\\textit{(protein, mutation, interactor)}$ triplet from ELASPIC, the triplet $\\textit{(protein, mutation, interactor)}$ may contain class-1 probability prediction of both lower than 0.50 and higher than 50. We drop such instances."
   ]
  },
  {
   "cell_type": "code",
   "execution_count": 11,
   "id": "ee5ffd8b-af50-481e-b90f-fc0548568727",
   "metadata": {
    "scrolled": true,
    "tags": [],
    "pycharm": {
     "name": "#%%\n"
    }
   },
   "outputs": [
    {
     "name": "stdout",
     "output_type": "stream",
     "text": [
      "2022-06-17 00:45:01 |\u001B[36m DEBUG    \u001B[0m| helpers.helpers_predator.predictions | PredictionsSoft\n",
      "2022-06-17 00:45:01 |\u001B[36m DEBUG    \u001B[0m| helpers.helpers_predator.predictions | Post processing predictions for cohort gbm ..\n",
      "2022-06-17 00:45:01 |\u001B[36m DEBUG    \u001B[0m| helpers.helpers_predator.predictions | PredictionsSoft\n",
      "2022-06-17 00:45:01 |\u001B[36m DEBUG    \u001B[0m| helpers.helpers_predator.predictions | Merging predictions with gbm cancer dataset ..\n",
      "2022-06-17 00:45:01 |\u001B[36m DEBUG    \u001B[0m| helpers.helpers_predator.predictions | Handling valid and invalid entries ..\n"
     ]
    },
    {
     "data": {
      "text/plain": "  0%|          | 0/38 [00:00<?, ?it/s]",
      "application/vnd.jupyter.widget-view+json": {
       "version_major": 2,
       "version_minor": 0,
       "model_id": "891e5623bc4b409c968ce312fc6a045b"
      }
     },
     "metadata": {},
     "output_type": "display_data"
    },
    {
     "name": "stdout",
     "output_type": "stream",
     "text": [
      "2022-06-17 00:45:22 |\u001B[36m DEBUG    \u001B[0m| helpers.helpers_predator.predictions_utils | Removed entries first five rows (of 595): \n",
      "   PREDICTION PROTEIN MUTATION INTERACTOR\n",
      "0    0.540427  P09936    E211K     P0CG47\n",
      "1    0.777459  P09936    E211K     P0CG47\n",
      "2    0.479522  P09936    E211K     P0CG47\n",
      "3    0.358610  Q969K4    N142K     Q13618\n",
      "4    0.524688  Q969K4    N142K     Q13618\n",
      "2022-06-17 00:45:42 |\u001B[36m DEBUG    \u001B[0m| helpers.helpers_predator.predictions_utils | Removed entries first five rows (of 595): \n",
      "   PREDICTION PROTEIN MUTATION INTERACTOR\n",
      "0    0.409920  P09936    E211K     P0CG47\n",
      "1    0.561822  P09936    E211K     P0CG47\n",
      "2    0.393915  P09936    E211K     P0CG47\n",
      "3    0.496732  Q9BV40     F58C     P32856\n",
      "4    0.612161  Q9BV40     F58C     O00161\n",
      "2022-06-17 00:46:04 |\u001B[36m DEBUG    \u001B[0m| helpers.helpers_predator.predictions_utils | Removed entries first five rows (of 775): \n",
      "   PREDICTION PROTEIN MUTATION INTERACTOR\n",
      "0    0.396721  Q969V5    V303G     P51965\n",
      "1    0.795662  Q969V5    V303G     P51965\n",
      "2    0.874240  Q969V5    V303G     P51965\n",
      "3    0.325558  P09936    E211K     P0CG47\n",
      "4    0.656218  P09936    E211K     P0CG47\n",
      "2022-06-17 00:46:22 |\u001B[36m DEBUG    \u001B[0m| helpers.helpers_predator.predictions_utils | Removed entries first five rows (of 539): \n",
      "   PREDICTION PROTEIN MUTATION INTERACTOR\n",
      "0    0.515517  P09936    E211K     P0CG47\n",
      "1    0.688466  P09936    E211K     P0CG47\n",
      "2    0.465881  P09936    E211K     P0CG47\n",
      "3    0.500648  Q9BV40     F58C     P61266\n",
      "4    0.601835  Q9BV40     F58C     O00161\n",
      "2022-06-17 00:46:41 |\u001B[36m DEBUG    \u001B[0m| helpers.helpers_predator.predictions_utils | Removed entries first five rows (of 713): \n",
      "   PREDICTION PROTEIN MUTATION INTERACTOR\n",
      "0    0.476616  P09936    E211K     P0CG47\n",
      "1    0.707903  P09936    E211K     P0CG47\n",
      "2    0.397035  P09936    E211K     P0CG47\n",
      "3    0.328962  Q969K4    N142K     Q13618\n",
      "4    0.543160  Q969K4    N142K     Q13618\n",
      "2022-06-17 00:47:00 |\u001B[36m DEBUG    \u001B[0m| helpers.helpers_predator.predictions_utils | Removed entries first five rows (of 557): \n",
      "   PREDICTION PROTEIN MUTATION INTERACTOR\n",
      "0    0.445542  P09936    E211K     P0CG47\n",
      "1    0.620296  P09936    E211K     P0CG47\n",
      "2    0.393612  P09936    E211K     P0CG47\n",
      "3    0.468837  Q13322    G459R     P06241\n",
      "4    0.678261  Q13322    G459R     P06241\n",
      "2022-06-17 00:47:21 |\u001B[36m DEBUG    \u001B[0m| helpers.helpers_predator.predictions_utils | Removed entries first five rows (of 667): \n",
      "   PREDICTION PROTEIN MUTATION INTERACTOR\n",
      "0    0.342265  P09936    E211K     P0CG48\n",
      "1    0.342265  P09936    E211K     P0CG48\n",
      "2    0.342265  P09936    E211K     P0CG48\n",
      "3    0.342265  P09936    E211K     P0CG48\n",
      "4    0.614008  P09936    E211K     P0CG48\n",
      "2022-06-17 00:47:42 |\u001B[36m DEBUG    \u001B[0m| helpers.helpers_predator.predictions_utils | Removed entries first five rows (of 899): \n",
      "   PREDICTION PROTEIN MUTATION INTERACTOR\n",
      "0    0.134094  P09936    E211K     P0CG47\n",
      "1    0.647850  P09936    E211K     P0CG47\n",
      "2    0.088746  P09936    E211K     P0CG47\n",
      "3    0.406367  P51148     Q21P     Q8WYP3\n",
      "4    0.328955  P51148     Q21P     Q9H1K0\n",
      "2022-06-17 00:47:59 |\u001B[36m DEBUG    \u001B[0m| helpers.helpers_predator.predictions_utils | Removed entries first five rows (of 600): \n",
      "   PREDICTION PROTEIN MUTATION INTERACTOR\n",
      "0    0.471238  P09936    E211K     P0CG47\n",
      "1    0.564924  P09936    E211K     P0CG47\n",
      "2    0.462251  P09936    E211K     P0CG47\n",
      "3    0.615478  Q9BV40     F58C     O15400\n",
      "4    0.494800  Q9BV40     F58C     O15400\n",
      "2022-06-17 00:48:18 |\u001B[36m DEBUG    \u001B[0m| helpers.helpers_predator.predictions_utils | Removed entries first five rows (of 843): \n",
      "   PREDICTION PROTEIN MUTATION INTERACTOR\n",
      "0    0.556919  P04637    R248W     P62993\n",
      "1    0.556919  P04637    R248W     P62993\n",
      "2    0.515394  P04637    R248W     P62993\n",
      "3    0.468203  P04637    R248W     P62993\n",
      "4    0.387208  P09936    E211K     P0CG48\n",
      "2022-06-17 00:48:37 |\u001B[36m DEBUG    \u001B[0m| helpers.helpers_predator.predictions_utils | Removed entries first five rows (of 682): \n",
      "   PREDICTION PROTEIN MUTATION INTERACTOR\n",
      "0    0.393333  P09936    E211K     P0CG48\n",
      "1    0.346111  P09936    E211K     P0CG48\n",
      "2    0.285000  P09936    E211K     P0CG48\n",
      "3    0.285000  P09936    E211K     P0CG48\n",
      "4    0.575000  P09936    E211K     P0CG48\n",
      "2022-06-17 00:48:56 |\u001B[36m DEBUG    \u001B[0m| helpers.helpers_predator.predictions_utils | Removed entries first five rows (of 666): \n",
      "   PREDICTION PROTEIN MUTATION INTERACTOR\n",
      "0    0.419739  P09936    E211K     P0CG47\n",
      "1    0.651917  P09936    E211K     P0CG47\n",
      "2    0.352660  P09936    E211K     P0CG47\n",
      "3    0.453381  Q9BV40     F58C     P32856\n",
      "4    0.626736  Q9BV40     F58C     O00161\n",
      "2022-06-17 00:49:14 |\u001B[36m DEBUG    \u001B[0m| helpers.helpers_predator.predictions_utils | Removed entries first five rows (of 530): \n",
      "   PREDICTION PROTEIN MUTATION INTERACTOR\n",
      "0    0.319466  P09936    E211K     P0CG47\n",
      "1    0.566440  P09936    E211K     P0CG47\n",
      "2    0.285032  P09936    E211K     P0CG47\n",
      "3    0.517466  Q9BV40     F58C     O00161\n",
      "4    0.491881  Q9BV40     F58C     O00161\n",
      "2022-06-17 00:49:33 |\u001B[36m DEBUG    \u001B[0m| helpers.helpers_predator.predictions_utils | Removed entries first five rows (of 733): \n",
      "   PREDICTION PROTEIN MUTATION INTERACTOR\n",
      "0    0.552915  P09936    E211K     P0CG47\n",
      "1    0.752915  P09936    E211K     P0CG47\n",
      "2    0.317630  P09936    E211K     P0CG47\n",
      "3    0.115775  Q969K4    N142K     Q13618\n",
      "4    0.552915  Q969K4    N142K     Q13618\n",
      "2022-06-17 00:49:52 |\u001B[36m DEBUG    \u001B[0m| helpers.helpers_predator.predictions_utils | Removed entries first five rows (of 1176): \n",
      "   PREDICTION PROTEIN MUTATION INTERACTOR\n",
      "0         0.0  P46734    K200E     P27361\n",
      "1         0.0  P46734    K200E     P27361\n",
      "2         1.0  P46734    K200E     P27361\n",
      "3         1.0  P46734    K200E     Q99759\n",
      "4         0.0  P46734    K200E     Q99759\n",
      "2022-06-17 00:50:12 |\u001B[36m DEBUG    \u001B[0m| helpers.helpers_predator.predictions_utils | Removed entries first five rows (of 945): \n",
      "   PREDICTION PROTEIN MUTATION INTERACTOR\n",
      "0    0.473136  P09936    E211K     P0CG47\n",
      "1    0.783616  P09936    E211K     P0CG47\n",
      "2    0.430445  P09936    E211K     P0CG47\n",
      "3    0.377287  Q969K4    N142K     Q13618\n",
      "4    0.501390  Q969K4    N142K     Q13618\n",
      "2022-06-17 00:50:30 |\u001B[36m DEBUG    \u001B[0m| helpers.helpers_predator.predictions_utils | Removed entries first five rows (of 716): \n",
      "   PREDICTION PROTEIN MUTATION INTERACTOR\n",
      "0    0.447884  P09936    E211K     P0CG47\n",
      "1    0.692974  P09936    E211K     P0CG47\n",
      "2    0.383355  P09936    E211K     P0CG47\n",
      "3    0.523997  Q9GZV9     H52Y     P21802\n",
      "4    0.432031  Q9GZV9     H52Y     P21802\n",
      "2022-06-17 00:50:48 |\u001B[36m DEBUG    \u001B[0m| helpers.helpers_predator.predictions_utils | Removed entries first five rows (of 576): \n",
      "   PREDICTION PROTEIN MUTATION INTERACTOR\n",
      "0    0.367224  P09936    E211K     P0CG47\n",
      "1    0.562186  P09936    E211K     P0CG47\n",
      "2    0.256033  P09936    E211K     P0CG47\n",
      "3    0.413610  Q8IYM1    F116L     Q14141\n",
      "4    0.413610  Q8IYM1    F116L     Q14141\n",
      "2022-06-17 00:51:06 |\u001B[36m DEBUG    \u001B[0m| helpers.helpers_predator.predictions_utils | Removed entries first five rows (of 592): \n",
      "   PREDICTION PROTEIN MUTATION INTERACTOR\n",
      "0    0.403981  P09936    E211K     P0CG47\n",
      "1    0.585723  P09936    E211K     P0CG47\n",
      "2    0.362837  P09936    E211K     P0CG47\n",
      "3    0.686924  Q9BV40     F58C     O00161\n",
      "4    0.432302  Q9BV40     F58C     O00161\n",
      "2022-06-17 00:51:26 |\u001B[36m DEBUG    \u001B[0m| helpers.helpers_predator.predictions_utils | Removed entries first five rows (of 877): \n",
      "   PREDICTION PROTEIN MUTATION INTERACTOR\n",
      "0    0.272526  P09936    E211K     P0CG47\n",
      "1    0.643080  P09936    E211K     P0CG47\n",
      "2    0.181318  P09936    E211K     P0CG47\n",
      "3    0.503882  Q969K4    N142K     Q13618\n",
      "4    0.593479  Q969K4    N142K     Q13618\n",
      "2022-06-17 00:51:44 |\u001B[36m DEBUG    \u001B[0m| helpers.helpers_predator.predictions_utils | Removed entries first five rows (of 538): \n",
      "   PREDICTION PROTEIN MUTATION INTERACTOR\n",
      "0    0.417718  P09936    E211K     P0CG47\n",
      "1    0.507500  P09936    E211K     P0CG47\n",
      "2    0.387804  P09936    E211K     P0CG47\n",
      "3    0.606722  Q9BV40     F58C     P61266\n",
      "4    0.453166  Q9BV40     F58C     P61266\n",
      "2022-06-17 00:52:03 |\u001B[36m DEBUG    \u001B[0m| helpers.helpers_predator.predictions_utils | Removed entries first five rows (of 885): \n",
      "   PREDICTION PROTEIN MUTATION INTERACTOR\n",
      "0         0.1  P46734    K200E     P27361\n",
      "1         0.0  P46734    K200E     P27361\n",
      "2         0.8  P46734    K200E     P27361\n",
      "3         0.5  Q969V5    V303G     P51965\n",
      "4         1.0  Q969V5    V303G     P51965\n",
      "2022-06-17 00:52:22 |\u001B[36m DEBUG    \u001B[0m| helpers.helpers_predator.predictions_utils | Removed entries first five rows (of 560): \n",
      "   PREDICTION PROTEIN MUTATION INTERACTOR\n",
      "0    0.481017  P09936    E211K     P0CG47\n",
      "1    0.726695  P09936    E211K     P0CG47\n",
      "2    0.367096  P09936    E211K     P0CG47\n",
      "3    0.470027  Q9BV40     F58C     P32856\n",
      "4    0.530656  Q9BV40     F58C     P32856\n",
      "2022-06-17 00:52:41 |\u001B[36m DEBUG    \u001B[0m| helpers.helpers_predator.predictions_utils | Removed entries first five rows (of 490): \n",
      "   PREDICTION PROTEIN MUTATION INTERACTOR\n",
      "0    0.373186  P09936    E211K     P0CG47\n",
      "1    0.517736  P09936    E211K     P0CG47\n",
      "2    0.344538  P09936    E211K     P0CG47\n",
      "3    0.517631  Q9GZV9     H52Y     P21802\n",
      "4    0.486637  Q9GZV9     H52Y     P21802\n",
      "2022-06-17 00:52:59 |\u001B[36m DEBUG    \u001B[0m| helpers.helpers_predator.predictions_utils | Removed entries first five rows (of 485): \n",
      "   PREDICTION PROTEIN MUTATION INTERACTOR\n",
      "0    0.512049  P09936    E211K     P0CG48\n",
      "1    0.501081  P09936    E211K     P0CG48\n",
      "2    0.442670  P09936    E211K     P0CG48\n",
      "3    0.442670  P09936    E211K     P0CG48\n",
      "4    0.539707  P09936    E211K     P0CG48\n",
      "2022-06-17 00:53:21 |\u001B[36m DEBUG    \u001B[0m| helpers.helpers_predator.predictions_utils | Removed entries first five rows (of 609): \n",
      "   PREDICTION PROTEIN MUTATION INTERACTOR\n",
      "0    0.440181  P09936    E211K     P0CG47\n",
      "1    0.637443  P09936    E211K     P0CG47\n",
      "2    0.378921  P09936    E211K     P0CG47\n",
      "3    0.656089  Q9BV40     F58C     O00161\n",
      "4    0.499611  Q9BV40     F58C     O00161\n",
      "2022-06-17 00:53:40 |\u001B[36m DEBUG    \u001B[0m| helpers.helpers_predator.predictions_utils | Removed entries first five rows (of 642): \n",
      "   PREDICTION PROTEIN MUTATION INTERACTOR\n",
      "0    0.588907  P00747    C607S     Q9UIV8\n",
      "1    0.430379  P00747    C607S     Q9UIV8\n",
      "2    0.505845  Q8IYM1    F116L     Q14141\n",
      "3    0.505845  Q8IYM1    F116L     Q14141\n",
      "4    0.490093  Q8IYM1    F116L     Q14141\n",
      "2022-06-17 00:53:58 |\u001B[36m DEBUG    \u001B[0m| helpers.helpers_predator.predictions_utils | Removed entries first five rows (of 616): \n",
      "   PREDICTION PROTEIN MUTATION INTERACTOR\n",
      "0    0.542921  Q9BV40     F58C     P61266\n",
      "1    0.733923  Q9BV40     F58C     O00161\n",
      "2    0.450966  Q9BV40     F58C     O00161\n",
      "3    0.417734  Q9BV40     F58C     P61266\n",
      "4    0.420128  Q9BV40     F58C     Q13277\n",
      "2022-06-17 00:54:18 |\u001B[36m DEBUG    \u001B[0m| helpers.helpers_predator.predictions_utils | Removed entries first five rows (of 908): \n",
      "   PREDICTION PROTEIN MUTATION INTERACTOR\n",
      "0    0.500000  Q969V5    V303G     P51965\n",
      "1    1.000000  Q969V5    V303G     P51965\n",
      "2    1.000000  Q969V5    V303G     P51965\n",
      "3    0.606751  Q9BV40     F58C     Q16623\n",
      "4    0.606751  Q9BV40     F58C     O00161\n",
      "2022-06-17 00:54:37 |\u001B[36m DEBUG    \u001B[0m| helpers.helpers_predator.predictions_utils | Removed entries first five rows (of 617): \n",
      "   PREDICTION PROTEIN MUTATION INTERACTOR\n",
      "0        0.65  P00747    C607S     Q9UIV8\n",
      "1        0.50  P00747    C607S     Q9UIV8\n",
      "2        0.45  Q9GZV9     H52Y     P21802\n",
      "3        0.50  Q9GZV9     H52Y     P21802\n",
      "4        0.50  Q9GZV9     H52Y     P21802\n",
      "2022-06-17 00:54:55 |\u001B[36m DEBUG    \u001B[0m| helpers.helpers_predator.predictions_utils | Removed entries first five rows (of 795): \n",
      "   PREDICTION PROTEIN MUTATION INTERACTOR\n",
      "0    0.495041  Q969V5    V303G     P51965\n",
      "1    0.759038  Q969V5    V303G     P51965\n",
      "2    0.940132  Q969V5    V303G     P51965\n",
      "3    0.437209  P09936    E211K     P0CG47\n",
      "4    0.758040  P09936    E211K     P0CG47\n",
      "2022-06-17 00:55:14 |\u001B[36m DEBUG    \u001B[0m| helpers.helpers_predator.predictions_utils | Removed entries first five rows (of 745): \n",
      "   PREDICTION PROTEIN MUTATION INTERACTOR\n",
      "0    0.420024  P09936    E211K     P0CG48\n",
      "1    0.430598  P09936    E211K     P0CG48\n",
      "2    0.381224  P09936    E211K     P0CG48\n",
      "3    0.381224  P09936    E211K     P0CG48\n",
      "4    0.623715  P09936    E211K     P0CG48\n",
      "2022-06-17 00:55:32 |\u001B[36m DEBUG    \u001B[0m| helpers.helpers_predator.predictions_utils | Removed entries first five rows (of 582): \n",
      "   PREDICTION PROTEIN MUTATION INTERACTOR\n",
      "0    0.468341  P09936    E211K     P0CG47\n",
      "1    0.667334  P09936    E211K     P0CG47\n",
      "2    0.367870  P09936    E211K     P0CG47\n",
      "3    0.633719  Q9BV40     F58C     P61266\n",
      "4    0.786812  Q9BV40     F58C     O00161\n",
      "2022-06-17 00:55:52 |\u001B[36m DEBUG    \u001B[0m| helpers.helpers_predator.predictions_utils | Removed entries first five rows (of 580): \n",
      "   PREDICTION PROTEIN MUTATION INTERACTOR\n",
      "0    0.356618  P09936    E211K     P0CG47\n",
      "1    0.611765  P09936    E211K     P0CG47\n",
      "2    0.306618  P09936    E211K     P0CG47\n",
      "3    0.523414  Q9BV40     F58C     P32856\n",
      "4    0.464937  Q9BV40     F58C     P32856\n",
      "2022-06-17 00:56:13 |\u001B[36m DEBUG    \u001B[0m| helpers.helpers_predator.predictions_utils | Removed entries first five rows (of 617): \n",
      "   PREDICTION PROTEIN MUTATION INTERACTOR\n",
      "0    0.434649  P09936    E211K     P0CG47\n",
      "1    0.661224  P09936    E211K     P0CG47\n",
      "2    0.365442  P09936    E211K     P0CG47\n",
      "3    0.527123  Q9BV40     F58C     Q13277\n",
      "4    0.477161  Q9BV40     F58C     Q13277\n",
      "2022-06-17 00:56:33 |\u001B[36m DEBUG    \u001B[0m| helpers.helpers_predator.predictions_utils | Removed entries first five rows (of 751): \n",
      "   PREDICTION PROTEIN MUTATION INTERACTOR\n",
      "0    0.500000  P04637    R248W     P62993\n",
      "1    0.500000  P04637    R248W     P62993\n",
      "2    0.806250  P04637    R248W     P62993\n",
      "3    1.000000  P04637    R248W     P62993\n",
      "4    0.285714  Q9BV40     F58C     P32856\n",
      "2022-06-17 00:56:54 |\u001B[36m DEBUG    \u001B[0m| helpers.helpers_predator.predictions_utils | Removed entries first five rows (of 768): \n",
      "   PREDICTION PROTEIN MUTATION INTERACTOR\n",
      "0    0.468852  P09936    E211K     P0CG47\n",
      "1    0.679165  P09936    E211K     P0CG47\n",
      "2    0.417259  P09936    E211K     P0CG47\n",
      "3    0.677655  Q9BV40     F58C     Q16623\n",
      "4    0.532452  Q9BV40     F58C     P61266\n",
      "2022-06-17 00:57:15 |\u001B[36m DEBUG    \u001B[0m| helpers.helpers_predator.predictions_utils | Removed entries first five rows (of 636): \n",
      "   PREDICTION PROTEIN MUTATION INTERACTOR\n",
      "0    0.339591  P09936    E211K     P0CG47\n",
      "1    0.623263  P09936    E211K     P0CG47\n",
      "2    0.297200  P09936    E211K     P0CG47\n",
      "3    0.633814  Q9BV40     F58C     O00161\n",
      "4    0.391359  Q9BV40     F58C     O00161\n",
      "2022-06-17 00:57:15 |\u001B[36m DEBUG    \u001B[0m| helpers.helpers_predator.predictions | Preparing finalized prediction datasets for gbm ..\n",
      "2022-06-17 00:57:15 |\u001B[36m DEBUG    \u001B[0m| helpers.helpers_predator.predictions | Post processing completed for gbm.\n"
     ]
    }
   ],
   "source": [
    "predator.predictions_post_process()"
   ]
  },
  {
   "cell_type": "code",
   "execution_count": 12,
   "id": "90683791-df42-47a8-ae9d-6c6ba08bcafd",
   "metadata": {
    "pycharm": {
     "name": "#%%\n"
    }
   },
   "outputs": [
    {
     "data": {
      "text/plain": "dict_keys(['gbm_prob', 'gbm_predicted_probs_datasets', 'gbm_predicted_valid_datasets', 'gbm_predicted_invalid_datasets', 'gbm_finalized_prediction_dataframes'])"
     },
     "execution_count": 12,
     "metadata": {},
     "output_type": "execute_result"
    }
   ],
   "source": [
    "predator.predictions.keys()"
   ]
  },
  {
   "cell_type": "code",
   "execution_count": 13,
   "id": "fcf61287-2498-4b53-ac75-1f6baceed2a3",
   "metadata": {
    "pycharm": {
     "name": "#%%\n"
    }
   },
   "outputs": [
    {
     "name": "stdout",
     "output_type": "stream",
     "text": [
      "\u001B[36mData dimensions: (5631, 104)\u001B[0m\n"
     ]
    },
    {
     "data": {
      "text/plain": "   Prediction Input_identifier UniProt_ID Mutation Status       Type  \\\n0    0.163195           P46734     P46734    K200E   done  interface   \n1    0.100635           P46734     P46734    K200E   done  interface   \n2    0.280569           P46734     P46734    K200E   done  interface   \n\n  COSMIC_mut_ID ClinVar_mut_ID UniProt_mut_ID Domain_name  ...  \\\n0             -              -              -     Pkinase  ...   \n1             -              -              -     Pkinase  ...   \n2             -              -              -     Pkinase  ...   \n\n  number_of_residues_mut IntraclashesEnergy1_wt IntraclashesEnergy1_mut  \\\n0                  640.0               140.8630                140.8620   \n1                  596.0                88.7587                 88.7927   \n2                  622.0               252.2520                252.2990   \n\n   IntraclashesEnergy2_wt  IntraclashesEnergy2_mut Interface_hydrophobic_area  \\\n0                 115.263                  115.263                     522.24   \n1                 264.825                  264.825                       None   \n2                 112.394                  112.522                       None   \n\n  Interface_hydrophilic_area Interface_total_area  \\\n0                    286.075              808.315   \n1                       None                 None   \n2                       None                 None   \n\n  Interface_contact_distance_wt Interface_contact_distance_mut  \n0                       2.74325                        2.74325  \n1                       3.68021                        3.59315  \n2                       2.95347                        2.95347  \n\n[3 rows x 104 columns]",
      "text/html": "<div>\n<style scoped>\n    .dataframe tbody tr th:only-of-type {\n        vertical-align: middle;\n    }\n\n    .dataframe tbody tr th {\n        vertical-align: top;\n    }\n\n    .dataframe thead th {\n        text-align: right;\n    }\n</style>\n<table border=\"1\" class=\"dataframe\">\n  <thead>\n    <tr style=\"text-align: right;\">\n      <th></th>\n      <th>Prediction</th>\n      <th>Input_identifier</th>\n      <th>UniProt_ID</th>\n      <th>Mutation</th>\n      <th>Status</th>\n      <th>Type</th>\n      <th>COSMIC_mut_ID</th>\n      <th>ClinVar_mut_ID</th>\n      <th>UniProt_mut_ID</th>\n      <th>Domain_name</th>\n      <th>...</th>\n      <th>number_of_residues_mut</th>\n      <th>IntraclashesEnergy1_wt</th>\n      <th>IntraclashesEnergy1_mut</th>\n      <th>IntraclashesEnergy2_wt</th>\n      <th>IntraclashesEnergy2_mut</th>\n      <th>Interface_hydrophobic_area</th>\n      <th>Interface_hydrophilic_area</th>\n      <th>Interface_total_area</th>\n      <th>Interface_contact_distance_wt</th>\n      <th>Interface_contact_distance_mut</th>\n    </tr>\n  </thead>\n  <tbody>\n    <tr>\n      <th>0</th>\n      <td>0.163195</td>\n      <td>P46734</td>\n      <td>P46734</td>\n      <td>K200E</td>\n      <td>done</td>\n      <td>interface</td>\n      <td>-</td>\n      <td>-</td>\n      <td>-</td>\n      <td>Pkinase</td>\n      <td>...</td>\n      <td>640.0</td>\n      <td>140.8630</td>\n      <td>140.8620</td>\n      <td>115.263</td>\n      <td>115.263</td>\n      <td>522.24</td>\n      <td>286.075</td>\n      <td>808.315</td>\n      <td>2.74325</td>\n      <td>2.74325</td>\n    </tr>\n    <tr>\n      <th>1</th>\n      <td>0.100635</td>\n      <td>P46734</td>\n      <td>P46734</td>\n      <td>K200E</td>\n      <td>done</td>\n      <td>interface</td>\n      <td>-</td>\n      <td>-</td>\n      <td>-</td>\n      <td>Pkinase</td>\n      <td>...</td>\n      <td>596.0</td>\n      <td>88.7587</td>\n      <td>88.7927</td>\n      <td>264.825</td>\n      <td>264.825</td>\n      <td>None</td>\n      <td>None</td>\n      <td>None</td>\n      <td>3.68021</td>\n      <td>3.59315</td>\n    </tr>\n    <tr>\n      <th>2</th>\n      <td>0.280569</td>\n      <td>P46734</td>\n      <td>P46734</td>\n      <td>K200E</td>\n      <td>done</td>\n      <td>interface</td>\n      <td>-</td>\n      <td>-</td>\n      <td>-</td>\n      <td>Pkinase</td>\n      <td>...</td>\n      <td>622.0</td>\n      <td>252.2520</td>\n      <td>252.2990</td>\n      <td>112.394</td>\n      <td>112.522</td>\n      <td>None</td>\n      <td>None</td>\n      <td>None</td>\n      <td>2.95347</td>\n      <td>2.95347</td>\n    </tr>\n  </tbody>\n</table>\n<p>3 rows × 104 columns</p>\n</div>"
     },
     "metadata": {},
     "output_type": "display_data"
    }
   ],
   "source": [
    "display_data(predator.predictions[\"gbm_predicted_probs_datasets\"][0])"
   ]
  },
  {
   "cell_type": "code",
   "execution_count": 14,
   "id": "a603e902-b663-49e2-92c5-e6167cc06699",
   "metadata": {
    "pycharm": {
     "name": "#%%\n"
    }
   },
   "outputs": [
    {
     "data": {
      "text/plain": "<Figure size 1080x360 with 1 Axes>",
      "image/png": "[encoded data removed]"
     },
     "metadata": {
      "needs_background": "light"
     },
     "output_type": "display_data"
    }
   ],
   "source": [
    "predator.predictions.plot_distribution_valid_vs_invalid(\"gbm\")"
   ]
  },
  {
   "cell_type": "code",
   "execution_count": 15,
   "id": "77147287-c7ce-4771-b0ed-e45479644ccb",
   "metadata": {
    "pycharm": {
     "name": "#%%\n"
    }
   },
   "outputs": [
    {
     "name": "stdout",
     "output_type": "stream",
     "text": [
      "2022-06-17 09:25:14 |\u001B[36m DEBUG    \u001B[0m| helpers.helpers_predator.predictions | Plotting number of finalized predictions per model.\n",
      "Note that following plot shows the number of (protein, mutation, interactor) triplets which had valid prediction.\n"
     ]
    },
    {
     "data": {
      "text/plain": "<Figure size 1080x360 with 1 Axes>",
      "image/png": "[encoded data removed]"
     },
     "metadata": {
      "needs_background": "light"
     },
     "output_type": "display_data"
    }
   ],
   "source": [
    "predator.predictions.plot_num_finalized_predictions(\"gbm\")"
   ]
  },
  {
   "cell_type": "code",
   "execution_count": 16,
   "id": "a0762893-11a8-43c7-8b93-1b214a1a85e4",
   "metadata": {
    "pycharm": {
     "name": "#%%\n"
    }
   },
   "outputs": [
    {
     "name": "stdout",
     "output_type": "stream",
     "text": [
      "\u001B[36mData dimensions: (4014, 4)\u001B[0m\n"
     ]
    },
    {
     "data": {
      "text/plain": "   Prediction UniProt_ID Mutation Interactor_UniProt_ID\n0    0.163195     P46734    K200E                P27361\n1    0.100635     P46734    K200E                P27361\n2    0.280569     P46734    K200E                P27361",
      "text/html": "<div>\n<style scoped>\n    .dataframe tbody tr th:only-of-type {\n        vertical-align: middle;\n    }\n\n    .dataframe tbody tr th {\n        vertical-align: top;\n    }\n\n    .dataframe thead th {\n        text-align: right;\n    }\n</style>\n<table border=\"1\" class=\"dataframe\">\n  <thead>\n    <tr style=\"text-align: right;\">\n      <th></th>\n      <th>Prediction</th>\n      <th>UniProt_ID</th>\n      <th>Mutation</th>\n      <th>Interactor_UniProt_ID</th>\n    </tr>\n  </thead>\n  <tbody>\n    <tr>\n      <th>0</th>\n      <td>0.163195</td>\n      <td>P46734</td>\n      <td>K200E</td>\n      <td>P27361</td>\n    </tr>\n    <tr>\n      <th>1</th>\n      <td>0.100635</td>\n      <td>P46734</td>\n      <td>K200E</td>\n      <td>P27361</td>\n    </tr>\n    <tr>\n      <th>2</th>\n      <td>0.280569</td>\n      <td>P46734</td>\n      <td>K200E</td>\n      <td>P27361</td>\n    </tr>\n  </tbody>\n</table>\n</div>"
     },
     "metadata": {},
     "output_type": "display_data"
    }
   ],
   "source": [
    "display_data(predator.predictions['gbm_finalized_prediction_dataframes'][0])"
   ]
  },
  {
   "cell_type": "code",
   "execution_count": 17,
   "id": "7fab8dc7-62ea-4cba-bdfa-0a8187a53a27",
   "metadata": {
    "scrolled": true,
    "tags": [],
    "pycharm": {
     "name": "#%%\n"
    }
   },
   "outputs": [
    {
     "name": "stdout",
     "output_type": "stream",
     "text": [
      "2022-06-17 09:25:27 |\u001B[32m INFO     \u001B[0m| helpers.helpers_predator.predictions | PredictionsSoft\n",
      "2022-06-17 09:25:27 |\u001B[32m INFO     \u001B[0m| helpers.helpers_predator.predictions | Preparing ensemble prediction data for gbm taking median ..\n"
     ]
    },
    {
     "data": {
      "text/plain": "  0%|          | 0/38 [00:00<?, ?it/s]",
      "application/vnd.jupyter.widget-view+json": {
       "version_major": 2,
       "version_minor": 0,
       "model_id": "2fe485a4e5c44fd68ae45f9ddfa99173"
      }
     },
     "metadata": {},
     "output_type": "display_data"
    },
    {
     "name": "stdout",
     "output_type": "stream",
     "text": [
      "2022-06-17 09:32:00 |\u001B[36m DEBUG    \u001B[0m| helpers.helpers_predator.predictions | Prediction probabilities data for gbm is prepared.\n",
      "Accessible from `gbm_predictions_prob_data`.\n",
      "2022-06-17 09:32:00 |\u001B[36m DEBUG    \u001B[0m| helpers.helpers_predator.predictions | Ensemble prediction data for gbm is prepared.\n",
      "Accessible from `gbm_ensemble_prediction_data`.\n",
      "2022-06-17 09:32:00 |\u001B[36m DEBUG    \u001B[0m| helpers.helpers_predator.predictions | Resulting prediction data is available for gbm.\n",
      "Accessible from predictions.['gbm_prediction_results']\n",
      "2022-06-17 09:32:00 |\u001B[36m DEBUG    \u001B[0m| helpers.helpers_predator.predictions | Resulting prediction data (no_votes dropped) is available for gbm.\n",
      "Accessible from predictions.['gbm_prediction_results_no_votes_dropped']\n"
     ]
    }
   ],
   "source": [
    "predator.prepare_ensemble_prediction_data()"
   ]
  },
  {
   "cell_type": "code",
   "execution_count": 18,
   "id": "0ffd0f8a-b82f-4733-9a31-2d350402fecb",
   "metadata": {
    "pycharm": {
     "name": "#%%\n"
    }
   },
   "outputs": [
    {
     "name": "stdout",
     "output_type": "stream",
     "text": [
      "\u001B[36mData dimensions: (3032, 40)\u001B[0m\n"
     ]
    },
    {
     "data": {
      "text/plain": "    Trial 0   Trial 1   Trial 2   Trial 3   Trial 4   Trial 5   Trial 6  \\\n0  0.181466  0.251714   0.08955  0.211477  0.224938  0.135317  0.169393   \n1   0.08099  0.210206  0.048727  0.107785  0.119938  0.052478  0.114435   \n2  0.146882  0.279395   0.29198  0.131975  0.191446  0.082593  0.114435   \n\n    Trial 7   Trial 8   Trial 9  ...  Trial 30  Trial 31  Trial 32  Trial 33  \\\n0  0.150425  0.258642   0.24767  ...  0.190687  0.191875  0.241668  0.097059   \n1  0.004478  0.178768  0.053736  ...  0.001668  0.038592  0.057842  0.076471   \n2  0.011795  0.192076  0.101315  ...  0.065896  0.128208  0.103706  0.111765   \n\n   Trial 34  Trial 35  Trial 36  Trial 37 PROB_1s_AVG VOTED_PREDICTION  \n0  0.171609       0.0  0.218418  0.238131     0.18565                0  \n1  0.047177       0.0  0.059241  0.123513     0.08214                0  \n2  0.089455  0.166667   0.14323  0.209458     0.13307                0  \n\n[3 rows x 40 columns]",
      "text/html": "<div>\n<style scoped>\n    .dataframe tbody tr th:only-of-type {\n        vertical-align: middle;\n    }\n\n    .dataframe tbody tr th {\n        vertical-align: top;\n    }\n\n    .dataframe thead th {\n        text-align: right;\n    }\n</style>\n<table border=\"1\" class=\"dataframe\">\n  <thead>\n    <tr style=\"text-align: right;\">\n      <th></th>\n      <th>Trial 0</th>\n      <th>Trial 1</th>\n      <th>Trial 2</th>\n      <th>Trial 3</th>\n      <th>Trial 4</th>\n      <th>Trial 5</th>\n      <th>Trial 6</th>\n      <th>Trial 7</th>\n      <th>Trial 8</th>\n      <th>Trial 9</th>\n      <th>...</th>\n      <th>Trial 30</th>\n      <th>Trial 31</th>\n      <th>Trial 32</th>\n      <th>Trial 33</th>\n      <th>Trial 34</th>\n      <th>Trial 35</th>\n      <th>Trial 36</th>\n      <th>Trial 37</th>\n      <th>PROB_1s_AVG</th>\n      <th>VOTED_PREDICTION</th>\n    </tr>\n  </thead>\n  <tbody>\n    <tr>\n      <th>0</th>\n      <td>0.181466</td>\n      <td>0.251714</td>\n      <td>0.08955</td>\n      <td>0.211477</td>\n      <td>0.224938</td>\n      <td>0.135317</td>\n      <td>0.169393</td>\n      <td>0.150425</td>\n      <td>0.258642</td>\n      <td>0.24767</td>\n      <td>...</td>\n      <td>0.190687</td>\n      <td>0.191875</td>\n      <td>0.241668</td>\n      <td>0.097059</td>\n      <td>0.171609</td>\n      <td>0.0</td>\n      <td>0.218418</td>\n      <td>0.238131</td>\n      <td>0.18565</td>\n      <td>0</td>\n    </tr>\n    <tr>\n      <th>1</th>\n      <td>0.08099</td>\n      <td>0.210206</td>\n      <td>0.048727</td>\n      <td>0.107785</td>\n      <td>0.119938</td>\n      <td>0.052478</td>\n      <td>0.114435</td>\n      <td>0.004478</td>\n      <td>0.178768</td>\n      <td>0.053736</td>\n      <td>...</td>\n      <td>0.001668</td>\n      <td>0.038592</td>\n      <td>0.057842</td>\n      <td>0.076471</td>\n      <td>0.047177</td>\n      <td>0.0</td>\n      <td>0.059241</td>\n      <td>0.123513</td>\n      <td>0.08214</td>\n      <td>0</td>\n    </tr>\n    <tr>\n      <th>2</th>\n      <td>0.146882</td>\n      <td>0.279395</td>\n      <td>0.29198</td>\n      <td>0.131975</td>\n      <td>0.191446</td>\n      <td>0.082593</td>\n      <td>0.114435</td>\n      <td>0.011795</td>\n      <td>0.192076</td>\n      <td>0.101315</td>\n      <td>...</td>\n      <td>0.065896</td>\n      <td>0.128208</td>\n      <td>0.103706</td>\n      <td>0.111765</td>\n      <td>0.089455</td>\n      <td>0.166667</td>\n      <td>0.14323</td>\n      <td>0.209458</td>\n      <td>0.13307</td>\n      <td>0</td>\n    </tr>\n  </tbody>\n</table>\n<p>3 rows × 40 columns</p>\n</div>"
     },
     "metadata": {},
     "output_type": "display_data"
    }
   ],
   "source": [
    "display_data(predator.predictions['gbm_predictions_prob_data'])"
   ]
  },
  {
   "cell_type": "code",
   "execution_count": 19,
   "id": "f2b38467-e658-4ed6-9ac0-6de1f1017ce7",
   "metadata": {
    "pycharm": {
     "name": "#%%\n"
    }
   },
   "outputs": [
    {
     "data": {
      "text/plain": "<Figure size 432x288 with 1 Axes>",
      "image/png": "[encoded data removed]"
     },
     "metadata": {
      "needs_background": "light"
     },
     "output_type": "display_data"
    }
   ],
   "source": [
    "predator.predictions.plot_ensemble_prediction_distribution(\"gbm\")"
   ]
  },
  {
   "cell_type": "code",
   "execution_count": 20,
   "id": "c454d6a9-5c73-4fe6-b609-e7b160e2ddb8",
   "metadata": {
    "pycharm": {
     "name": "#%%\n"
    }
   },
   "outputs": [
    {
     "name": "stdout",
     "output_type": "stream",
     "text": [
      "\u001B[36mData dimensions: (3032, 4)\u001B[0m\n"
     ]
    },
    {
     "data": {
      "text/plain": "  UniProt_ID Mutation Interactor_UniProt_ID Prediction\n0     P46734    K200E                P27361          0\n1     P46734    K200E                Q16512          0\n2     P46734    K200E                Q5S007          0",
      "text/html": "<div>\n<style scoped>\n    .dataframe tbody tr th:only-of-type {\n        vertical-align: middle;\n    }\n\n    .dataframe tbody tr th {\n        vertical-align: top;\n    }\n\n    .dataframe thead th {\n        text-align: right;\n    }\n</style>\n<table border=\"1\" class=\"dataframe\">\n  <thead>\n    <tr style=\"text-align: right;\">\n      <th></th>\n      <th>UniProt_ID</th>\n      <th>Mutation</th>\n      <th>Interactor_UniProt_ID</th>\n      <th>Prediction</th>\n    </tr>\n  </thead>\n  <tbody>\n    <tr>\n      <th>0</th>\n      <td>P46734</td>\n      <td>K200E</td>\n      <td>P27361</td>\n      <td>0</td>\n    </tr>\n    <tr>\n      <th>1</th>\n      <td>P46734</td>\n      <td>K200E</td>\n      <td>Q16512</td>\n      <td>0</td>\n    </tr>\n    <tr>\n      <th>2</th>\n      <td>P46734</td>\n      <td>K200E</td>\n      <td>Q5S007</td>\n      <td>0</td>\n    </tr>\n  </tbody>\n</table>\n</div>"
     },
     "metadata": {},
     "output_type": "display_data"
    }
   ],
   "source": [
    "gbm_prediction_results_soft = predator.predictions['gbm_prediction_results']\n",
    "display_data(gbm_prediction_results_soft)"
   ]
  },
  {
   "cell_type": "code",
   "execution_count": 21,
   "id": "569c4dd1-e2d9-40d0-b7c0-1cc177adfabb",
   "metadata": {
    "pycharm": {
     "name": "#%%\n"
    }
   },
   "outputs": [
    {
     "name": "stdout",
     "output_type": "stream",
     "text": [
      "\u001B[36mData dimensions: (2934, 4)\u001B[0m\n"
     ]
    },
    {
     "data": {
      "text/plain": "  UniProt_ID Mutation Interactor_UniProt_ID Prediction\n0     P46734    K200E                P27361          0\n1     P46734    K200E                Q16512          0\n2     P46734    K200E                Q5S007          0",
      "text/html": "<div>\n<style scoped>\n    .dataframe tbody tr th:only-of-type {\n        vertical-align: middle;\n    }\n\n    .dataframe tbody tr th {\n        vertical-align: top;\n    }\n\n    .dataframe thead th {\n        text-align: right;\n    }\n</style>\n<table border=\"1\" class=\"dataframe\">\n  <thead>\n    <tr style=\"text-align: right;\">\n      <th></th>\n      <th>UniProt_ID</th>\n      <th>Mutation</th>\n      <th>Interactor_UniProt_ID</th>\n      <th>Prediction</th>\n    </tr>\n  </thead>\n  <tbody>\n    <tr>\n      <th>0</th>\n      <td>P46734</td>\n      <td>K200E</td>\n      <td>P27361</td>\n      <td>0</td>\n    </tr>\n    <tr>\n      <th>1</th>\n      <td>P46734</td>\n      <td>K200E</td>\n      <td>Q16512</td>\n      <td>0</td>\n    </tr>\n    <tr>\n      <th>2</th>\n      <td>P46734</td>\n      <td>K200E</td>\n      <td>Q5S007</td>\n      <td>0</td>\n    </tr>\n  </tbody>\n</table>\n</div>"
     },
     "metadata": {},
     "output_type": "display_data"
    }
   ],
   "source": [
    "gbm_prediction_results_soft_no_votes_dropped = predator.predictions[\"gbm_prediction_results_no_votes_dropped\"]\n",
    "display_data(gbm_prediction_results_soft_no_votes_dropped)"
   ]
  },
  {
   "cell_type": "code",
   "execution_count": 22,
   "id": "d1100263-ae65-405f-a13d-896927fdc1c5",
   "metadata": {
    "pycharm": {
     "name": "#%%\n"
    }
   },
   "outputs": [
    {
     "name": "stdout",
     "output_type": "stream",
     "text": [
      "\u001B[36mLabel counts:\n",
      "Increasing + No Effect    1476\n",
      "Disrupting                1458\n",
      "Name: Prediction, dtype: int64\u001B[0m\n"
     ]
    },
    {
     "data": {
      "text/plain": "<Figure size 432x288 with 1 Axes>",
      "image/png": "[encoded data removed]"
     },
     "metadata": {},
     "output_type": "display_data"
    }
   ],
   "source": [
    "visualize_label_counts(gbm_prediction_results_soft_no_votes_dropped, 'Prediction')"
   ]
  },
  {
   "cell_type": "code",
   "execution_count": 23,
   "id": "37c0a11a-e87e-40af-ba8a-8a28b82d956d",
   "metadata": {
    "pycharm": {
     "name": "#%%\n"
    }
   },
   "outputs": [],
   "source": [
    "gbm_ensemble_prediction_data_soft = predator.predictions[\"gbm_ensemble_prediction_data\"]"
   ]
  },
  {
   "cell_type": "code",
   "execution_count": 24,
   "id": "e4995e62-dfd6-4b54-bd6c-67a62eefb6a6",
   "metadata": {
    "pycharm": {
     "name": "#%%\n"
    }
   },
   "outputs": [],
   "source": [
    "gbm_predictions_prob_data_soft = predator.predictions[\"gbm_predictions_prob_data\"]"
   ]
  },
  {
   "cell_type": "code",
   "execution_count": 24,
   "id": "dabc60aa-0a63-4016-bbef-4f8788b625ed",
   "metadata": {
    "pycharm": {
     "name": "#%%\n"
    }
   },
   "outputs": [],
   "source": []
  },
  {
   "cell_type": "code",
   "execution_count": 25,
   "id": "a84ab98c-1e29-413a-8c6e-514b747fd38f",
   "metadata": {
    "pycharm": {
     "name": "#%%\n"
    }
   },
   "outputs": [],
   "source": [
    "def add_median_probabilities(prediction_results, predictions_prob_data):\n",
    "    assert len(prediction_results) == len(predictions_prob_data)\n",
    "    prediction_results_with_probabilities = prediction_results.copy()\n",
    "    prediction_results_with_probabilities[\"Median_Probability\"] = predictions_prob_data[\"PROB_1s_AVG\"]\n",
    "    return prediction_results_with_probabilities"
   ]
  },
  {
   "cell_type": "code",
   "execution_count": 26,
   "id": "b8955db8-7279-4644-acb9-6297e6e1c43c",
   "metadata": {
    "pycharm": {
     "name": "#%%\n"
    }
   },
   "outputs": [
    {
     "data": {
      "text/plain": "  UniProt_ID Mutation Interactor_UniProt_ID Prediction Median_Probability\n0     P46734    K200E                P27361          0            0.18565\n1     P46734    K200E                Q16512          0            0.08214\n2     P46734    K200E                Q5S007          0            0.13307\n3     P46734    K200E                Q9Y2U5          0            0.19098\n4     P46734    K200E                Q99759          0            0.15147",
      "text/html": "<div>\n<style scoped>\n    .dataframe tbody tr th:only-of-type {\n        vertical-align: middle;\n    }\n\n    .dataframe tbody tr th {\n        vertical-align: top;\n    }\n\n    .dataframe thead th {\n        text-align: right;\n    }\n</style>\n<table border=\"1\" class=\"dataframe\">\n  <thead>\n    <tr style=\"text-align: right;\">\n      <th></th>\n      <th>UniProt_ID</th>\n      <th>Mutation</th>\n      <th>Interactor_UniProt_ID</th>\n      <th>Prediction</th>\n      <th>Median_Probability</th>\n    </tr>\n  </thead>\n  <tbody>\n    <tr>\n      <th>0</th>\n      <td>P46734</td>\n      <td>K200E</td>\n      <td>P27361</td>\n      <td>0</td>\n      <td>0.18565</td>\n    </tr>\n    <tr>\n      <th>1</th>\n      <td>P46734</td>\n      <td>K200E</td>\n      <td>Q16512</td>\n      <td>0</td>\n      <td>0.08214</td>\n    </tr>\n    <tr>\n      <th>2</th>\n      <td>P46734</td>\n      <td>K200E</td>\n      <td>Q5S007</td>\n      <td>0</td>\n      <td>0.13307</td>\n    </tr>\n    <tr>\n      <th>3</th>\n      <td>P46734</td>\n      <td>K200E</td>\n      <td>Q9Y2U5</td>\n      <td>0</td>\n      <td>0.19098</td>\n    </tr>\n    <tr>\n      <th>4</th>\n      <td>P46734</td>\n      <td>K200E</td>\n      <td>Q99759</td>\n      <td>0</td>\n      <td>0.15147</td>\n    </tr>\n  </tbody>\n</table>\n</div>"
     },
     "execution_count": 26,
     "metadata": {},
     "output_type": "execute_result"
    }
   ],
   "source": [
    "gbm_prediction_results_soft_with_median_probs = add_median_probabilities(\n",
    "    prediction_results=predator.predictions[\"gbm_prediction_results\"],\n",
    "    predictions_prob_data=predator.predictions[\"gbm_predictions_prob_data\"]\n",
    ")\n",
    "gbm_prediction_results_soft_with_median_probs.head()"
   ]
  },
  {
   "cell_type": "code",
   "execution_count": 27,
   "id": "5328bf48-72fa-4a0c-86c5-76e0939b0e5c",
   "metadata": {
    "pycharm": {
     "name": "#%%\n"
    }
   },
   "outputs": [],
   "source": [
    "gbm_prediction_results_soft_no_votes_dropped_with_median_probabilities = gbm_prediction_results_soft_with_median_probs[\n",
    "    gbm_prediction_results_soft_with_median_probs['Prediction'].isin([0, 1])\n",
    "]"
   ]
  },
  {
   "cell_type": "code",
   "execution_count": 28,
   "id": "5040e7d0-4bd2-4197-8a21-58bfd68b6c76",
   "metadata": {
    "pycharm": {
     "name": "#%%\n"
    }
   },
   "outputs": [
    {
     "data": {
      "text/plain": "2934"
     },
     "execution_count": 28,
     "metadata": {},
     "output_type": "execute_result"
    }
   ],
   "source": [
    "len(gbm_prediction_results_soft_no_votes_dropped_with_median_probabilities)"
   ]
  },
  {
   "cell_type": "code",
   "execution_count": 28,
   "id": "b7a25147-be61-4e87-be52-840ae207d3c2",
   "metadata": {
    "pycharm": {
     "name": "#%%\n"
    }
   },
   "outputs": [],
   "source": []
  },
  {
   "cell_type": "markdown",
   "id": "412859ae-c188-410e-85ef-7df91b9d2b89",
   "metadata": {
    "pycharm": {
     "name": "#%% md\n"
    }
   },
   "source": [
    "## Exporting Predictions"
   ]
  },
  {
   "cell_type": "code",
   "execution_count": 29,
   "id": "4042b8ce-498b-4c6c-b964-bbf7632e4ae6",
   "metadata": {
    "pycharm": {
     "name": "#%%\n"
    }
   },
   "outputs": [
    {
     "name": "stdout",
     "output_type": "stream",
     "text": [
      "\u001B[36mData dimensions: (2934, 5)\u001B[0m\n"
     ]
    },
    {
     "data": {
      "text/plain": "  UniProt_ID Mutation Interactor_UniProt_ID Prediction Median_Probability\n0     P46734    K200E                P27361          0            0.18565\n1     P46734    K200E                Q16512          0            0.08214\n2     P46734    K200E                Q5S007          0            0.13307",
      "text/html": "<div>\n<style scoped>\n    .dataframe tbody tr th:only-of-type {\n        vertical-align: middle;\n    }\n\n    .dataframe tbody tr th {\n        vertical-align: top;\n    }\n\n    .dataframe thead th {\n        text-align: right;\n    }\n</style>\n<table border=\"1\" class=\"dataframe\">\n  <thead>\n    <tr style=\"text-align: right;\">\n      <th></th>\n      <th>UniProt_ID</th>\n      <th>Mutation</th>\n      <th>Interactor_UniProt_ID</th>\n      <th>Prediction</th>\n      <th>Median_Probability</th>\n    </tr>\n  </thead>\n  <tbody>\n    <tr>\n      <th>0</th>\n      <td>P46734</td>\n      <td>K200E</td>\n      <td>P27361</td>\n      <td>0</td>\n      <td>0.18565</td>\n    </tr>\n    <tr>\n      <th>1</th>\n      <td>P46734</td>\n      <td>K200E</td>\n      <td>Q16512</td>\n      <td>0</td>\n      <td>0.08214</td>\n    </tr>\n    <tr>\n      <th>2</th>\n      <td>P46734</td>\n      <td>K200E</td>\n      <td>Q5S007</td>\n      <td>0</td>\n      <td>0.13307</td>\n    </tr>\n  </tbody>\n</table>\n</div>"
     },
     "metadata": {},
     "output_type": "display_data"
    }
   ],
   "source": [
    "# gbm_prediction_results = gbm_prediction_results_hard_no_votes_dropped\n",
    "# gbm_prediction_results = gbm_prediction_results_soft_no_votes_dropped\n",
    "gbm_prediction_results = gbm_prediction_results_soft_no_votes_dropped_with_median_probabilities\n",
    "display_data(gbm_prediction_results)"
   ]
  },
  {
   "cell_type": "code",
   "execution_count": 30,
   "id": "4ab9fbc1-d3d2-4424-99ac-aa5515070d71",
   "metadata": {
    "pycharm": {
     "name": "#%%\n"
    }
   },
   "outputs": [
    {
     "name": "stdout",
     "output_type": "stream",
     "text": [
      "2022-06-17 09:35:46 |\u001B[36m DEBUG    \u001B[0m| helpers.helpers_predator.common | Folder with ID 8d7f7caa is created.\n",
      "2022-06-17 09:35:46 |\u001B[36m DEBUG    \u001B[0m| helpers.helpers_predator.common | Exporting data predictions at location ../data/predictions_datasets/ in folder gbm_prediction_2022-06-17\\8d7f7caa..\n",
      "2022-06-17 09:35:46 |\u001B[32m INFO     \u001B[0m| helpers.helpers_predator.common | ../data/predictions_datasets/gbm_prediction_2022-06-17\\8d7f7caa\\predictions_soft_2022-06-17.csv is exported successfully.\n",
      "2022-06-17 09:35:47 |\u001B[32m INFO     \u001B[0m| helpers.helpers_predator.common | Config is exported.\n"
     ]
    }
   ],
   "source": [
    "predator.export_prediction(\n",
    "    tcga=\"gbm\",\n",
    "    data=gbm_prediction_results,\n",
    "    file_name=\"predictions\",\n",
    "    folder_path=PREDICTIONS_DATASETS_FOLDER_PATH,\n",
    "    voting=\"soft\",\n",
    "    overwrite=False,\n",
    "    file_extension='csv'\n",
    ")"
   ]
  },
  {
   "cell_type": "markdown",
   "id": "fbc616a5-ce63-4b93-a858-b3d22fdce070",
   "metadata": {
    "pycharm": {
     "name": "#%% md\n"
    }
   },
   "source": [
    "---"
   ]
  },
  {
   "cell_type": "code",
   "execution_count": null,
   "outputs": [],
   "source": [],
   "metadata": {
    "collapsed": false,
    "pycharm": {
     "name": "#%%\n"
    }
   }
  }
 ],
 "metadata": {
  "kernelspec": {
   "name": "predator",
   "language": "python",
   "display_name": "Predator"
  },
  "language_info": {
   "codemirror_mode": {
    "name": "ipython",
    "version": 3
   },
   "file_extension": ".py",
   "mimetype": "text/x-python",
   "name": "python",
   "nbconvert_exporter": "python",
   "pygments_lexer": "ipython3",
   "version": "3.8.10"
  },
  "toc-autonumbering": false
 },
 "nbformat": 4,
 "nbformat_minor": 5
}