{
 "cells": [
  {
   "cell_type": "markdown",
   "id": "b0eea2f9-919a-44d2-970f-da295e7b77c5",
   "metadata": {
    "pycharm": {
     "name": "#%% md\n"
    },
    "tags": []
   },
   "source": [
    "# PREDATOR: **PRED**icting the imp**A**ct of cancer somatic mu**T**ations on pr**O**tein-protein inte**R**actions\n"
   ]
  },
  {
   "cell_type": "markdown",
   "id": "0fc1bee2-776f-46dc-9aa7-80e979b941df",
   "metadata": {
    "pycharm": {
     "name": "#%% md\n"
    }
   },
   "source": [
    "## HNSC"
   ]
  },
  {
   "cell_type": "markdown",
   "id": "f412b89c-b553-4606-95fb-d30520f77b97",
   "metadata": {
    "pycharm": {
     "name": "#%% md\n"
    }
   },
   "source": [
    "\n",
    "<b><i class=\"fa fa-folder-o\" area-hidden=\"true\" style=\"color:#1976D2\"> </i>&nbsp; File Location</b><br>\n",
    "<p style=\"background:#F5F5F5; text-indent: 1em;\">\n",
    "<code style=\"background:#F5F5F5; color:#404040; font-weight:bold; font-size:12px\">Predator\\src</code>\n",
    "</p>\n",
    "\n",
    "<b><i class=\"far fa-file\" area-hidden=\"true\" style=\"color:#1976D2\"> </i>&nbsp; File Name</b>\n",
    "<p style=\"background:#F5F5F5; text-indent: 1em;\">\n",
    "<code style=\"background:#F5F5F5; color:#404040; font-weight:bold; font-size:12px\">PredatorStudy_HNSC.ipynb</code>\n",
    "</p>\n",
    "\n",
    "<b><i class=\"far fa-calendar-alt\" area-hidden=\"true\" style=\"color:#1976D2\"> </i>&nbsp; Last Edited</b>\n",
    "<p style=\"background:#F5F5F5; text-indent: 1em;\">\n",
    "<code style=\"background:#F5F5F5; color:#404040; font-weight:bold; font-size:12px\">June 17th, 2022</code>\n",
    "</p>\n"
   ]
  },
  {
   "cell_type": "markdown",
   "id": "8931daec-0e11-43e2-8a68-098571c3cc4e",
   "metadata": {
    "pycharm": {
     "name": "#%% md\n"
    }
   },
   "source": [
    "<div class=\"alert alert-block\" style=\"background-color: #F5F5F5; border: 1px solid; padding: 10px; border-color: #E0E0E0\">\n",
    "    <b><i class=\"fa fa-compass\" aria-hidden=\"true\" style=\"color:#404040\"></i></b>&nbsp; <b style=\"color: #404040\">Purpose </b> <br>\n",
    "<div>\n",
    "   \n",
    "- [x] Apply on Cancer Datasets\n",
    "    > HNSC\n",
    "    \n",
    "**Dependent files:**\n",
    "\n",
    "* Target (Cancer) data: \n",
    "    - *HNSC_Interface.txt*"
   ]
  },
  {
   "cell_type": "code",
   "execution_count": 1,
   "id": "3f602602-ac27-4390-9521-9bcdc73f06ef",
   "metadata": {
    "pycharm": {
     "name": "#%%\n"
    },
    "tags": [
     "parameters"
    ]
   },
   "outputs": [],
   "source": [
    "from pathlib import Path\n",
    "\n",
    "from helpers.helpers_predator.displayers import (\n",
    "    visualize_label_counts,\n",
    "    display_data,\n",
    ")\n",
    "\n",
    "from helpers.helpers_predator.common import load_predator\n",
    "\n",
    "# PATHS\n",
    "HNSC_PATH = Path(r\"../data/Elaspic_merged_results/HNSC_Interface_2021-11-17.txt\")\n",
    "PREDATOR_MODEL_PATH = Path(r\"PredatorModels/PredatorModel_2022-06-16/cc84a54e/predator.pkl\")\n",
    "PREDICTIONS_DATASETS_FOLDER_PATH = \"../data/predictions_datasets/\"\n",
    "\n",
    "# Reflect changes in the modules immediately.\n",
    "%load_ext autoreload\n",
    "%autoreload 2"
   ]
  },
  {
   "cell_type": "markdown",
   "id": "c47b1edb-758c-460e-acf7-4f864330d19b",
   "metadata": {
    "pycharm": {
     "name": "#%% md\n"
    }
   },
   "source": [
    "## Load the Predator"
   ]
  },
  {
   "cell_type": "code",
   "execution_count": 2,
   "id": "0c164c31-9b7e-4366-8336-50cbc80bf9c7",
   "metadata": {
    "pycharm": {
     "name": "#%%\n"
    }
   },
   "outputs": [
    {
     "name": "stdout",
     "output_type": "stream",
     "text": [
      "2022-06-17 09:30:47 |\u001b[32m INFO     \u001b[0m| helpers.helpers_predator.common | Predator object PredatorModels\\PredatorModel_2022-06-16\\cc84a54e\\predator.pkl is loaded successfully.\n"
     ]
    }
   ],
   "source": [
    "predator = load_predator(PREDATOR_MODEL_PATH)"
   ]
  },
  {
   "cell_type": "markdown",
   "id": "60f783e4-28bb-4543-9d35-42c4b17b37b8",
   "metadata": {
    "pycharm": {
     "name": "#%% md\n"
    }
   },
   "source": [
    "## Prediction TCGA on Cancer Dataset: HNSC"
   ]
  },
  {
   "cell_type": "code",
   "execution_count": 3,
   "id": "c27cc976-e356-4271-85e9-f23c9366dc67",
   "metadata": {
    "pycharm": {
     "name": "#%%\n"
    }
   },
   "outputs": [
    {
     "name": "stdout",
     "output_type": "stream",
     "text": [
      "2022-06-17 09:30:50 |\u001b[36m DEBUG    \u001b[0m| helpers.helpers_predator.data_materials | Initialize `hnsc` ..\n",
      "2022-06-17 09:30:50 |\u001b[36m DEBUG    \u001b[0m| helpers.helpers_predator.data_materials | Initialize `target_hnsc_data` ..\n",
      "2022-06-17 09:30:51 |\u001b[36m DEBUG    \u001b[0m| helpers.helpers_predator.data_materials | Initializing target data materials ..\n",
      "2022-06-17 09:30:51 |\u001b[36m DEBUG    \u001b[0m| helpers.helpers_predator.data_materials | Determined features: ['EL2_score', 'Provean_score', 'Final_ddG', 'Interactor_alignment_score', 'Matrix_score', 'Solvent_accessibility_wt', 'van_der_waals_mut', 'Solvent_accessibility_mut', 'Interactor_template_sequence_identity', 'solvation_polar_wt']\n",
      "2022-06-17 09:30:51 |\u001b[36m DEBUG    \u001b[0m| helpers.helpers_predator.data_materials | Declaring Xs_hnsc data materials  ..\n"
     ]
    }
   ],
   "source": [
    "predator.initialize_target_data_materials(\n",
    "    tcga_code_path_pairs=[('hnsc', HNSC_PATH)]\n",
    ")"
   ]
  },
  {
   "cell_type": "markdown",
   "id": "245b2b8c-0c70-4cd5-9a09-b3428cf0b048",
   "metadata": {
    "pycharm": {
     "name": "#%% md\n"
    },
    "tags": []
   },
   "source": [
    "#### TCGA Cancer Datasets"
   ]
  },
  {
   "cell_type": "markdown",
   "id": "4ab061ec-37b5-4651-a5c0-1f1238e7a08a",
   "metadata": {
    "pycharm": {
     "name": "#%% md\n"
    }
   },
   "source": [
    "##### HNSC"
   ]
  },
  {
   "cell_type": "code",
   "execution_count": 4,
   "id": "342221d3-8e16-42eb-9801-20a3efed64f5",
   "metadata": {
    "pycharm": {
     "name": "#%%\n"
    }
   },
   "outputs": [
    {
     "name": "stdout",
     "output_type": "stream",
     "text": [
      "\u001b[36mData dimensions: (7853, 103)\u001b[0m\n"
     ]
    },
    {
     "data": {
      "text/html": [
       "<div>\n",
       "<style scoped>\n",
       "    .dataframe tbody tr th:only-of-type {\n",
       "        vertical-align: middle;\n",
       "    }\n",
       "\n",
       "    .dataframe tbody tr th {\n",
       "        vertical-align: top;\n",
       "    }\n",
       "\n",
       "    .dataframe thead th {\n",
       "        text-align: right;\n",
       "    }\n",
       "</style>\n",
       "<table border=\"1\" class=\"dataframe\">\n",
       "  <thead>\n",
       "    <tr style=\"text-align: right;\">\n",
       "      <th></th>\n",
       "      <th>Input_identifier</th>\n",
       "      <th>UniProt_ID</th>\n",
       "      <th>Mutation</th>\n",
       "      <th>Status</th>\n",
       "      <th>Type</th>\n",
       "      <th>COSMIC_mut_ID</th>\n",
       "      <th>ClinVar_mut_ID</th>\n",
       "      <th>UniProt_mut_ID</th>\n",
       "      <th>Domain_name</th>\n",
       "      <th>Domain_clan</th>\n",
       "      <th>...</th>\n",
       "      <th>number_of_residues_mut</th>\n",
       "      <th>IntraclashesEnergy1_wt</th>\n",
       "      <th>IntraclashesEnergy1_mut</th>\n",
       "      <th>IntraclashesEnergy2_wt</th>\n",
       "      <th>IntraclashesEnergy2_mut</th>\n",
       "      <th>Interface_hydrophobic_area</th>\n",
       "      <th>Interface_hydrophilic_area</th>\n",
       "      <th>Interface_total_area</th>\n",
       "      <th>Interface_contact_distance_wt</th>\n",
       "      <th>Interface_contact_distance_mut</th>\n",
       "    </tr>\n",
       "  </thead>\n",
       "  <tbody>\n",
       "    <tr>\n",
       "      <th>0</th>\n",
       "      <td>Q13485</td>\n",
       "      <td>Q13485</td>\n",
       "      <td>R361H</td>\n",
       "      <td>done</td>\n",
       "      <td>interface</td>\n",
       "      <td>COSM14122</td>\n",
       "      <td>-</td>\n",
       "      <td>VAR_036477</td>\n",
       "      <td>MH2</td>\n",
       "      <td>MH2</td>\n",
       "      <td>...</td>\n",
       "      <td>428.0</td>\n",
       "      <td>55.6903</td>\n",
       "      <td>55.9901</td>\n",
       "      <td>65.8172</td>\n",
       "      <td>65.8172</td>\n",
       "      <td>479.215</td>\n",
       "      <td>224.96</td>\n",
       "      <td>704.175</td>\n",
       "      <td>5.89685</td>\n",
       "      <td>6.78918</td>\n",
       "    </tr>\n",
       "    <tr>\n",
       "      <th>1</th>\n",
       "      <td>Q13485</td>\n",
       "      <td>Q13485</td>\n",
       "      <td>R361H</td>\n",
       "      <td>done</td>\n",
       "      <td>interface</td>\n",
       "      <td>COSM14122</td>\n",
       "      <td>-</td>\n",
       "      <td>VAR_036477</td>\n",
       "      <td>MH2</td>\n",
       "      <td>MH2</td>\n",
       "      <td>...</td>\n",
       "      <td>438.0</td>\n",
       "      <td>67.6915</td>\n",
       "      <td>65.6937</td>\n",
       "      <td>76.8231</td>\n",
       "      <td>76.1833</td>\n",
       "      <td>468.685</td>\n",
       "      <td>330.13</td>\n",
       "      <td>798.81</td>\n",
       "      <td>2.71793</td>\n",
       "      <td>6.60775</td>\n",
       "    </tr>\n",
       "    <tr>\n",
       "      <th>2</th>\n",
       "      <td>Q13485</td>\n",
       "      <td>Q13485</td>\n",
       "      <td>R361H</td>\n",
       "      <td>done</td>\n",
       "      <td>interface</td>\n",
       "      <td>COSM14122</td>\n",
       "      <td>-</td>\n",
       "      <td>VAR_036477</td>\n",
       "      <td>MH2</td>\n",
       "      <td>MH2</td>\n",
       "      <td>...</td>\n",
       "      <td>434.0</td>\n",
       "      <td>70.5775</td>\n",
       "      <td>70.5036</td>\n",
       "      <td>54.3675</td>\n",
       "      <td>54.3675</td>\n",
       "      <td>520.815</td>\n",
       "      <td>309.375</td>\n",
       "      <td>830.195</td>\n",
       "      <td>3.35892</td>\n",
       "      <td>5.43052</td>\n",
       "    </tr>\n",
       "  </tbody>\n",
       "</table>\n",
       "<p>3 rows × 103 columns</p>\n",
       "</div>"
      ],
      "text/plain": [
       "  Input_identifier UniProt_ID Mutation Status       Type COSMIC_mut_ID  \\\n",
       "0           Q13485     Q13485    R361H   done  interface     COSM14122   \n",
       "1           Q13485     Q13485    R361H   done  interface     COSM14122   \n",
       "2           Q13485     Q13485    R361H   done  interface     COSM14122   \n",
       "\n",
       "  ClinVar_mut_ID UniProt_mut_ID Domain_name Domain_clan  ...  \\\n",
       "0              -     VAR_036477         MH2         MH2  ...   \n",
       "1              -     VAR_036477         MH2         MH2  ...   \n",
       "2              -     VAR_036477         MH2         MH2  ...   \n",
       "\n",
       "  number_of_residues_mut IntraclashesEnergy1_wt  IntraclashesEnergy1_mut  \\\n",
       "0                  428.0                55.6903                  55.9901   \n",
       "1                  438.0                67.6915                  65.6937   \n",
       "2                  434.0                70.5775                  70.5036   \n",
       "\n",
       "   IntraclashesEnergy2_wt IntraclashesEnergy2_mut Interface_hydrophobic_area  \\\n",
       "0                 65.8172                 65.8172                    479.215   \n",
       "1                 76.8231                 76.1833                    468.685   \n",
       "2                 54.3675                 54.3675                    520.815   \n",
       "\n",
       "  Interface_hydrophilic_area Interface_total_area  \\\n",
       "0                     224.96              704.175   \n",
       "1                     330.13               798.81   \n",
       "2                    309.375              830.195   \n",
       "\n",
       "  Interface_contact_distance_wt  Interface_contact_distance_mut  \n",
       "0                       5.89685                         6.78918  \n",
       "1                       2.71793                         6.60775  \n",
       "2                       3.35892                         5.43052  \n",
       "\n",
       "[3 rows x 103 columns]"
      ]
     },
     "metadata": {},
     "output_type": "display_data"
    }
   ],
   "source": [
    "display_data(predator.data_materials[\"hnsc\"])"
   ]
  },
  {
   "cell_type": "markdown",
   "id": "a22d630d-e0a0-4417-aa64-0df18f8f3a63",
   "metadata": {
    "pycharm": {
     "name": "#%% md\n"
    },
    "tags": []
   },
   "source": [
    "#### Preprocessed TCGA Cancer Datasets"
   ]
  },
  {
   "cell_type": "markdown",
   "id": "ca038a01-2691-4943-9d7e-55a41661f3cc",
   "metadata": {
    "pycharm": {
     "name": "#%% md\n"
    }
   },
   "source": [
    "##### HNSC"
   ]
  },
  {
   "cell_type": "code",
   "execution_count": 5,
   "id": "67f55bd2-c25a-4d6c-ba5b-08957cf03852",
   "metadata": {
    "pycharm": {
     "name": "#%%\n"
    }
   },
   "outputs": [
    {
     "name": "stdout",
     "output_type": "stream",
     "text": [
      "\u001b[36mData dimensions: (7853, 61)\u001b[0m\n"
     ]
    },
    {
     "data": {
      "text/html": [
       "<div>\n",
       "<style scoped>\n",
       "    .dataframe tbody tr th:only-of-type {\n",
       "        vertical-align: middle;\n",
       "    }\n",
       "\n",
       "    .dataframe tbody tr th {\n",
       "        vertical-align: top;\n",
       "    }\n",
       "\n",
       "    .dataframe thead th {\n",
       "        text-align: right;\n",
       "    }\n",
       "</style>\n",
       "<table border=\"1\" class=\"dataframe\">\n",
       "  <thead>\n",
       "    <tr style=\"text-align: right;\">\n",
       "      <th></th>\n",
       "      <th>UniProt_ID</th>\n",
       "      <th>Mutation</th>\n",
       "      <th>Interactor_UniProt_ID</th>\n",
       "      <th>Template_sequence_identity</th>\n",
       "      <th>Alignment_score</th>\n",
       "      <th>Interactor_template_sequence_identity</th>\n",
       "      <th>Interactor_alignment_score</th>\n",
       "      <th>Final_ddG</th>\n",
       "      <th>ProtBert_score</th>\n",
       "      <th>ProteinSolver_score</th>\n",
       "      <th>...</th>\n",
       "      <th>number_of_residues_mut</th>\n",
       "      <th>IntraclashesEnergy1_wt</th>\n",
       "      <th>IntraclashesEnergy1_mut</th>\n",
       "      <th>IntraclashesEnergy2_wt</th>\n",
       "      <th>IntraclashesEnergy2_mut</th>\n",
       "      <th>Interface_hydrophobic_area</th>\n",
       "      <th>Interface_hydrophilic_area</th>\n",
       "      <th>Interface_total_area</th>\n",
       "      <th>Interface_contact_distance_wt</th>\n",
       "      <th>Interface_contact_distance_mut</th>\n",
       "    </tr>\n",
       "  </thead>\n",
       "  <tbody>\n",
       "    <tr>\n",
       "      <th>0</th>\n",
       "      <td>Q13485</td>\n",
       "      <td>R361H</td>\n",
       "      <td>B7Z5N5</td>\n",
       "      <td>0.8814</td>\n",
       "      <td>0.78138</td>\n",
       "      <td>0.9875</td>\n",
       "      <td>0.786567</td>\n",
       "      <td>-0.013069</td>\n",
       "      <td>0.994827</td>\n",
       "      <td>0.562232</td>\n",
       "      <td>...</td>\n",
       "      <td>428.0</td>\n",
       "      <td>55.6903</td>\n",
       "      <td>55.9901</td>\n",
       "      <td>65.8172</td>\n",
       "      <td>65.8172</td>\n",
       "      <td>479.215</td>\n",
       "      <td>224.960</td>\n",
       "      <td>704.175</td>\n",
       "      <td>5.89685</td>\n",
       "      <td>6.78918</td>\n",
       "    </tr>\n",
       "    <tr>\n",
       "      <th>1</th>\n",
       "      <td>Q13485</td>\n",
       "      <td>R361H</td>\n",
       "      <td>Q68DB7</td>\n",
       "      <td>0.8814</td>\n",
       "      <td>0.78138</td>\n",
       "      <td>0.8063</td>\n",
       "      <td>0.779266</td>\n",
       "      <td>-0.538397</td>\n",
       "      <td>0.994077</td>\n",
       "      <td>0.899046</td>\n",
       "      <td>...</td>\n",
       "      <td>438.0</td>\n",
       "      <td>67.6915</td>\n",
       "      <td>65.6937</td>\n",
       "      <td>76.8231</td>\n",
       "      <td>76.1833</td>\n",
       "      <td>468.685</td>\n",
       "      <td>330.130</td>\n",
       "      <td>798.810</td>\n",
       "      <td>2.71793</td>\n",
       "      <td>6.60775</td>\n",
       "    </tr>\n",
       "    <tr>\n",
       "      <th>2</th>\n",
       "      <td>Q13485</td>\n",
       "      <td>R361H</td>\n",
       "      <td>Q53XR6</td>\n",
       "      <td>0.8814</td>\n",
       "      <td>0.78138</td>\n",
       "      <td>1.0000</td>\n",
       "      <td>0.970443</td>\n",
       "      <td>0.302645</td>\n",
       "      <td>0.995162</td>\n",
       "      <td>0.464923</td>\n",
       "      <td>...</td>\n",
       "      <td>434.0</td>\n",
       "      <td>70.5775</td>\n",
       "      <td>70.5036</td>\n",
       "      <td>54.3675</td>\n",
       "      <td>54.3675</td>\n",
       "      <td>520.815</td>\n",
       "      <td>309.375</td>\n",
       "      <td>830.195</td>\n",
       "      <td>3.35892</td>\n",
       "      <td>5.43052</td>\n",
       "    </tr>\n",
       "  </tbody>\n",
       "</table>\n",
       "<p>3 rows × 61 columns</p>\n",
       "</div>"
      ],
      "text/plain": [
       "  UniProt_ID Mutation Interactor_UniProt_ID  Template_sequence_identity  \\\n",
       "0     Q13485    R361H                B7Z5N5                      0.8814   \n",
       "1     Q13485    R361H                Q68DB7                      0.8814   \n",
       "2     Q13485    R361H                Q53XR6                      0.8814   \n",
       "\n",
       "   Alignment_score  Interactor_template_sequence_identity  \\\n",
       "0          0.78138                                 0.9875   \n",
       "1          0.78138                                 0.8063   \n",
       "2          0.78138                                 1.0000   \n",
       "\n",
       "   Interactor_alignment_score  Final_ddG  ProtBert_score  ProteinSolver_score  \\\n",
       "0                    0.786567  -0.013069        0.994827             0.562232   \n",
       "1                    0.779266  -0.538397        0.994077             0.899046   \n",
       "2                    0.970443   0.302645        0.995162             0.464923   \n",
       "\n",
       "   ...  number_of_residues_mut  IntraclashesEnergy1_wt  \\\n",
       "0  ...                   428.0                 55.6903   \n",
       "1  ...                   438.0                 67.6915   \n",
       "2  ...                   434.0                 70.5775   \n",
       "\n",
       "   IntraclashesEnergy1_mut  IntraclashesEnergy2_wt  IntraclashesEnergy2_mut  \\\n",
       "0                  55.9901                 65.8172                  65.8172   \n",
       "1                  65.6937                 76.8231                  76.1833   \n",
       "2                  70.5036                 54.3675                  54.3675   \n",
       "\n",
       "   Interface_hydrophobic_area  Interface_hydrophilic_area  \\\n",
       "0                     479.215                     224.960   \n",
       "1                     468.685                     330.130   \n",
       "2                     520.815                     309.375   \n",
       "\n",
       "   Interface_total_area  Interface_contact_distance_wt  \\\n",
       "0               704.175                        5.89685   \n",
       "1               798.810                        2.71793   \n",
       "2               830.195                        3.35892   \n",
       "\n",
       "   Interface_contact_distance_mut  \n",
       "0                         6.78918  \n",
       "1                         6.60775  \n",
       "2                         5.43052  \n",
       "\n",
       "[3 rows x 61 columns]"
      ]
     },
     "metadata": {},
     "output_type": "display_data"
    }
   ],
   "source": [
    "display_data(predator.data_materials[\"target_hnsc_data\"])"
   ]
  },
  {
   "cell_type": "markdown",
   "id": "6cd1cc76-b56f-4789-b3b9-bf907fe7399e",
   "metadata": {
    "pycharm": {
     "name": "#%% md\n"
    },
    "tags": []
   },
   "source": [
    "### Voting mode: `soft`"
   ]
  },
  {
   "cell_type": "code",
   "execution_count": 6,
   "id": "44e95ef5-2482-4d0d-93fa-305004853f7c",
   "metadata": {
    "pycharm": {
     "name": "#%%\n"
    }
   },
   "outputs": [
    {
     "name": "stdout",
     "output_type": "stream",
     "text": [
      "2022-06-17 09:30:56 |\u001b[36m DEBUG    \u001b[0m| helpers.helpers_predator.data_materials | Initialize `hnsc` ..\n",
      "2022-06-17 09:30:56 |\u001b[36m DEBUG    \u001b[0m| helpers.helpers_predator.data_materials | Initialize `target_hnsc_data` ..\n",
      "2022-06-17 09:30:56 |\u001b[36m DEBUG    \u001b[0m| helpers.helpers_predator.data_materials | Initializing target data materials ..\n",
      "2022-06-17 09:30:56 |\u001b[36m DEBUG    \u001b[0m| helpers.helpers_predator.data_materials | Determined features: ['EL2_score', 'Provean_score', 'Final_ddG', 'Interactor_alignment_score', 'Matrix_score', 'Solvent_accessibility_wt', 'van_der_waals_mut', 'Solvent_accessibility_mut', 'Interactor_template_sequence_identity', 'solvation_polar_wt']\n",
      "2022-06-17 09:30:56 |\u001b[36m DEBUG    \u001b[0m| helpers.helpers_predator.data_materials | Declaring Xs_hnsc data materials  ..\n"
     ]
    }
   ],
   "source": [
    "predator.initialize_target_data_materials(\n",
    "    tcga_code_path_pairs=[('hnsc', HNSC_PATH)]\n",
    ")"
   ]
  },
  {
   "cell_type": "code",
   "execution_count": 7,
   "id": "323fbd63-7e32-471f-8cee-4b0abf9d82dc",
   "metadata": {
    "pycharm": {
     "name": "#%%\n"
    },
    "scrolled": true,
    "tags": []
   },
   "outputs": [
    {
     "name": "stdout",
     "output_type": "stream",
     "text": [
      "2022-06-17 09:30:57 |\u001b[36m DEBUG    \u001b[0m| Predator | Predicting on cancer datasets ..\n",
      "2022-06-17 09:30:57 |\u001b[36m DEBUG    \u001b[0m| helpers.helpers_predator.models | Initializing EnsambledVotingClassifier.\n",
      "2022-06-17 09:30:57 |\u001b[36m DEBUG    \u001b[0m| helpers.helpers_predator.models | Voting mode: soft\n",
      "2022-06-17 09:30:57 |\u001b[36m DEBUG    \u001b[0m| helpers.helpers_predator.predictions | Initializing: PredictionsSoft\n",
      "2022-06-17 09:30:57 |\u001b[36m DEBUG    \u001b[0m| Predator | Predicting on hnsc cohort ..\n",
      "2022-06-17 09:30:57 |\u001b[36m DEBUG    \u001b[0m| helpers.helpers_predator.models | Current estimator: RandomForestClassifier(max_depth=7, min_samples_leaf=4, min_samples_split=5,\n",
      "                       n_estimators=380, random_state=3279)\n",
      "2022-06-17 09:30:57 |\u001b[36m DEBUG    \u001b[0m| helpers.helpers_predator.models | X shape: (7853, 10)\n",
      "2022-06-17 09:30:58 |\u001b[36m DEBUG    \u001b[0m| helpers.helpers_predator.models | Current estimator: RandomForestClassifier(class_weight='balanced', max_depth=2, min_samples_leaf=2,\n",
      "                       min_samples_split=5, n_estimators=90,\n",
      "                       random_state=97197)\n",
      "2022-06-17 09:30:58 |\u001b[36m DEBUG    \u001b[0m| helpers.helpers_predator.models | X shape: (7853, 10)\n",
      "2022-06-17 09:30:58 |\u001b[36m DEBUG    \u001b[0m| helpers.helpers_predator.models | Current estimator: RandomForestClassifier(bootstrap=False, class_weight='balanced', max_depth=5,\n",
      "                       min_samples_leaf=2, n_estimators=500,\n",
      "                       random_state=29257)\n",
      "2022-06-17 09:30:58 |\u001b[36m DEBUG    \u001b[0m| helpers.helpers_predator.models | X shape: (7853, 10)\n",
      "2022-06-17 09:30:59 |\u001b[36m DEBUG    \u001b[0m| helpers.helpers_predator.models | Current estimator: RandomForestClassifier(class_weight='balanced', max_depth=3, min_samples_leaf=4,\n",
      "                       min_samples_split=5, n_estimators=480,\n",
      "                       random_state=96531)\n",
      "2022-06-17 09:30:59 |\u001b[36m DEBUG    \u001b[0m| helpers.helpers_predator.models | X shape: (7853, 10)\n",
      "2022-06-17 09:30:59 |\u001b[36m DEBUG    \u001b[0m| helpers.helpers_predator.models | Current estimator: RandomForestClassifier(class_weight='balanced', max_depth=13,\n",
      "                       min_samples_leaf=2, min_samples_split=5, n_estimators=80,\n",
      "                       random_state=13435)\n",
      "2022-06-17 09:30:59 |\u001b[36m DEBUG    \u001b[0m| helpers.helpers_predator.models | X shape: (7853, 10)\n",
      "2022-06-17 09:30:59 |\u001b[36m DEBUG    \u001b[0m| helpers.helpers_predator.models | Current estimator: RandomForestClassifier(class_weight='balanced', max_depth=10,\n",
      "                       max_features='sqrt', min_samples_leaf=4,\n",
      "                       n_estimators=340, random_state=88697)\n",
      "2022-06-17 09:30:59 |\u001b[36m DEBUG    \u001b[0m| helpers.helpers_predator.models | X shape: (7853, 10)\n",
      "2022-06-17 09:31:00 |\u001b[36m DEBUG    \u001b[0m| helpers.helpers_predator.models | Current estimator: RandomForestClassifier(class_weight='balanced', max_depth=2,\n",
      "                       max_features='sqrt', min_samples_leaf=4, n_estimators=5,\n",
      "                       random_state=97081)\n",
      "2022-06-17 09:31:00 |\u001b[36m DEBUG    \u001b[0m| helpers.helpers_predator.models | X shape: (7853, 10)\n",
      "2022-06-17 09:31:00 |\u001b[36m DEBUG    \u001b[0m| helpers.helpers_predator.models | Current estimator: RandomForestClassifier(bootstrap=False, class_weight='balanced', max_depth=9,\n",
      "                       max_features='sqrt', min_samples_leaf=2, n_estimators=50,\n",
      "                       random_state=77398)\n",
      "2022-06-17 09:31:00 |\u001b[36m DEBUG    \u001b[0m| helpers.helpers_predator.models | X shape: (7853, 10)\n",
      "2022-06-17 09:31:00 |\u001b[36m DEBUG    \u001b[0m| helpers.helpers_predator.models | Current estimator: RandomForestClassifier(class_weight='balanced', max_depth=2, n_estimators=50,\n",
      "                       random_state=55303)\n",
      "2022-06-17 09:31:00 |\u001b[36m DEBUG    \u001b[0m| helpers.helpers_predator.models | X shape: (7853, 10)\n",
      "2022-06-17 09:31:00 |\u001b[36m DEBUG    \u001b[0m| helpers.helpers_predator.models | Current estimator: RandomForestClassifier(bootstrap=False, class_weight='balanced', max_depth=5,\n",
      "                       min_samples_leaf=2, n_estimators=200, random_state=4166)\n",
      "2022-06-17 09:31:00 |\u001b[36m DEBUG    \u001b[0m| helpers.helpers_predator.models | X shape: (7853, 10)\n",
      "2022-06-17 09:31:00 |\u001b[36m DEBUG    \u001b[0m| helpers.helpers_predator.models | Current estimator: RandomForestClassifier(min_samples_leaf=2, n_estimators=60, random_state=3906)\n",
      "2022-06-17 09:31:00 |\u001b[36m DEBUG    \u001b[0m| helpers.helpers_predator.models | X shape: (7853, 10)\n",
      "2022-06-17 09:31:00 |\u001b[36m DEBUG    \u001b[0m| helpers.helpers_predator.models | Current estimator: RandomForestClassifier(class_weight='balanced', max_depth=13, max_features=None,\n",
      "                       min_samples_leaf=2, min_samples_split=5,\n",
      "                       n_estimators=600, random_state=12281)\n",
      "2022-06-17 09:31:00 |\u001b[36m DEBUG    \u001b[0m| helpers.helpers_predator.models | X shape: (7853, 10)\n",
      "2022-06-17 09:31:01 |\u001b[36m DEBUG    \u001b[0m| helpers.helpers_predator.models | Current estimator: RandomForestClassifier(bootstrap=False, class_weight='balanced', max_depth=6,\n",
      "                       min_samples_leaf=2, n_estimators=90, random_state=28658)\n",
      "2022-06-17 09:31:01 |\u001b[36m DEBUG    \u001b[0m| helpers.helpers_predator.models | X shape: (7853, 10)\n",
      "2022-06-17 09:31:01 |\u001b[36m DEBUG    \u001b[0m| helpers.helpers_predator.models | Current estimator: RandomForestClassifier(class_weight='balanced', max_depth=6,\n",
      "                       max_features='sqrt', min_samples_leaf=2, n_estimators=10,\n",
      "                       random_state=30496)\n",
      "2022-06-17 09:31:01 |\u001b[36m DEBUG    \u001b[0m| helpers.helpers_predator.models | X shape: (7853, 10)\n",
      "2022-06-17 09:31:01 |\u001b[36m DEBUG    \u001b[0m| helpers.helpers_predator.models | Current estimator: RandomForestClassifier(bootstrap=False, class_weight='balanced', max_depth=13,\n",
      "                       max_features=None, n_estimators=360, random_state=78908)\n",
      "2022-06-17 09:31:01 |\u001b[36m DEBUG    \u001b[0m| helpers.helpers_predator.models | X shape: (7853, 10)\n",
      "2022-06-17 09:31:01 |\u001b[36m DEBUG    \u001b[0m| helpers.helpers_predator.models | Current estimator: RandomForestClassifier(class_weight='balanced', max_depth=3,\n",
      "                       max_features='sqrt', min_samples_split=5,\n",
      "                       n_estimators=10, random_state=3479)\n",
      "2022-06-17 09:31:01 |\u001b[36m DEBUG    \u001b[0m| helpers.helpers_predator.models | X shape: (7853, 10)\n",
      "2022-06-17 09:31:01 |\u001b[36m DEBUG    \u001b[0m| helpers.helpers_predator.models | Current estimator: RandomForestClassifier(class_weight='balanced', max_depth=11,\n",
      "                       max_features='sqrt', min_samples_leaf=4, n_estimators=80,\n",
      "                       random_state=73564)\n",
      "2022-06-17 09:31:01 |\u001b[36m DEBUG    \u001b[0m| helpers.helpers_predator.models | X shape: (7853, 10)\n",
      "2022-06-17 09:31:01 |\u001b[36m DEBUG    \u001b[0m| helpers.helpers_predator.models | Current estimator: RandomForestClassifier(class_weight='balanced', max_depth=10,\n",
      "                       min_samples_leaf=2, min_samples_split=5,\n",
      "                       n_estimators=300, random_state=26063)\n",
      "2022-06-17 09:31:01 |\u001b[36m DEBUG    \u001b[0m| helpers.helpers_predator.models | X shape: (7853, 10)\n",
      "2022-06-17 09:31:02 |\u001b[36m DEBUG    \u001b[0m| helpers.helpers_predator.models | Current estimator: RandomForestClassifier(class_weight='balanced', max_depth=14,\n",
      "                       min_samples_leaf=4, min_samples_split=5,\n",
      "                       n_estimators=440, random_state=85182)\n",
      "2022-06-17 09:31:02 |\u001b[36m DEBUG    \u001b[0m| helpers.helpers_predator.models | X shape: (7853, 10)\n",
      "2022-06-17 09:31:02 |\u001b[36m DEBUG    \u001b[0m| helpers.helpers_predator.models | Current estimator: RandomForestClassifier(bootstrap=False, class_weight='balanced', max_depth=5,\n",
      "                       min_samples_leaf=4, min_samples_split=5,\n",
      "                       n_estimators=200, random_state=91925)\n",
      "2022-06-17 09:31:02 |\u001b[36m DEBUG    \u001b[0m| helpers.helpers_predator.models | X shape: (7853, 10)\n",
      "2022-06-17 09:31:03 |\u001b[36m DEBUG    \u001b[0m| helpers.helpers_predator.models | Current estimator: RandomForestClassifier(max_depth=7, max_features='sqrt', min_samples_split=5,\n",
      "                       n_estimators=40, random_state=71427)\n",
      "2022-06-17 09:31:03 |\u001b[36m DEBUG    \u001b[0m| helpers.helpers_predator.models | X shape: (7853, 10)\n",
      "2022-06-17 09:31:03 |\u001b[36m DEBUG    \u001b[0m| helpers.helpers_predator.models | Current estimator: RandomForestClassifier(bootstrap=False, max_features='sqrt', n_estimators=10,\n",
      "                       random_state=28894)\n",
      "2022-06-17 09:31:03 |\u001b[36m DEBUG    \u001b[0m| helpers.helpers_predator.models | X shape: (7853, 10)\n",
      "2022-06-17 09:31:03 |\u001b[36m DEBUG    \u001b[0m| helpers.helpers_predator.models | Current estimator: RandomForestClassifier(class_weight='balanced', max_depth=8,\n",
      "                       max_features='sqrt', min_samples_leaf=2,\n",
      "                       min_samples_split=5, n_estimators=600,\n",
      "                       random_state=58879)\n",
      "2022-06-17 09:31:03 |\u001b[36m DEBUG    \u001b[0m| helpers.helpers_predator.models | X shape: (7853, 10)\n",
      "2022-06-17 09:31:03 |\u001b[36m DEBUG    \u001b[0m| helpers.helpers_predator.models | Current estimator: RandomForestClassifier(class_weight='balanced', max_depth=2,\n",
      "                       max_features='sqrt', min_samples_split=5,\n",
      "                       n_estimators=340, random_state=77237)\n",
      "2022-06-17 09:31:03 |\u001b[36m DEBUG    \u001b[0m| helpers.helpers_predator.models | X shape: (7853, 10)\n",
      "2022-06-17 09:31:04 |\u001b[36m DEBUG    \u001b[0m| helpers.helpers_predator.models | Current estimator: RandomForestClassifier(bootstrap=False, max_depth=3, min_samples_leaf=4,\n",
      "                       min_samples_split=5, n_estimators=500, random_state=852)\n",
      "2022-06-17 09:31:04 |\u001b[36m DEBUG    \u001b[0m| helpers.helpers_predator.models | X shape: (7853, 10)\n",
      "2022-06-17 09:31:04 |\u001b[36m DEBUG    \u001b[0m| helpers.helpers_predator.models | Current estimator: RandomForestClassifier(class_weight='balanced', max_depth=3,\n",
      "                       max_features='sqrt', min_samples_leaf=4,\n",
      "                       min_samples_split=5, n_estimators=420,\n",
      "                       random_state=99459)\n",
      "2022-06-17 09:31:04 |\u001b[36m DEBUG    \u001b[0m| helpers.helpers_predator.models | X shape: (7853, 10)\n",
      "2022-06-17 09:31:04 |\u001b[36m DEBUG    \u001b[0m| helpers.helpers_predator.models | Current estimator: RandomForestClassifier(class_weight='balanced', max_depth=14,\n",
      "                       max_features='sqrt', min_samples_leaf=2,\n",
      "                       n_estimators=360, random_state=20927)\n",
      "2022-06-17 09:31:04 |\u001b[36m DEBUG    \u001b[0m| helpers.helpers_predator.models | X shape: (7853, 10)\n",
      "2022-06-17 09:31:05 |\u001b[36m DEBUG    \u001b[0m| helpers.helpers_predator.models | Current estimator: RandomForestClassifier(max_depth=8, min_samples_leaf=2, min_samples_split=5,\n",
      "                       n_estimators=180, random_state=91507)\n",
      "2022-06-17 09:31:05 |\u001b[36m DEBUG    \u001b[0m| helpers.helpers_predator.models | X shape: (7853, 10)\n",
      "2022-06-17 09:31:05 |\u001b[36m DEBUG    \u001b[0m| helpers.helpers_predator.models | Current estimator: RandomForestClassifier(bootstrap=False, class_weight='balanced', max_depth=12,\n",
      "                       max_features=None, min_samples_leaf=2, n_estimators=280,\n",
      "                       random_state=44598)\n",
      "2022-06-17 09:31:05 |\u001b[36m DEBUG    \u001b[0m| helpers.helpers_predator.models | X shape: (7853, 10)\n",
      "2022-06-17 09:31:05 |\u001b[36m DEBUG    \u001b[0m| helpers.helpers_predator.models | Current estimator: RandomForestClassifier(class_weight='balanced', max_depth=10, max_features=None,\n",
      "                       n_estimators=20, random_state=36422)\n",
      "2022-06-17 09:31:05 |\u001b[36m DEBUG    \u001b[0m| helpers.helpers_predator.models | X shape: (7853, 10)\n",
      "2022-06-17 09:31:05 |\u001b[36m DEBUG    \u001b[0m| helpers.helpers_predator.models | Current estimator: RandomForestClassifier(bootstrap=False, class_weight='balanced', max_depth=14,\n",
      "                       min_samples_split=5, n_estimators=340,\n",
      "                       random_state=20380)\n",
      "2022-06-17 09:31:05 |\u001b[36m DEBUG    \u001b[0m| helpers.helpers_predator.models | X shape: (7853, 10)\n",
      "2022-06-17 09:31:06 |\u001b[36m DEBUG    \u001b[0m| helpers.helpers_predator.models | Current estimator: RandomForestClassifier(class_weight='balanced', min_samples_leaf=4,\n",
      "                       min_samples_split=5, n_estimators=20,\n",
      "                       random_state=28222)\n",
      "2022-06-17 09:31:06 |\u001b[36m DEBUG    \u001b[0m| helpers.helpers_predator.models | X shape: (7853, 10)\n",
      "2022-06-17 09:31:06 |\u001b[36m DEBUG    \u001b[0m| helpers.helpers_predator.models | Current estimator: RandomForestClassifier(class_weight='balanced', max_depth=13,\n",
      "                       max_features='sqrt', min_samples_leaf=2,\n",
      "                       n_estimators=360, random_state=44119)\n",
      "2022-06-17 09:31:06 |\u001b[36m DEBUG    \u001b[0m| helpers.helpers_predator.models | X shape: (7853, 10)\n",
      "2022-06-17 09:31:06 |\u001b[36m DEBUG    \u001b[0m| helpers.helpers_predator.models | Current estimator: RandomForestClassifier(max_depth=10, max_features='sqrt', n_estimators=340,\n",
      "                       random_state=13397)\n",
      "2022-06-17 09:31:06 |\u001b[36m DEBUG    \u001b[0m| helpers.helpers_predator.models | X shape: (7853, 10)\n",
      "2022-06-17 09:31:06 |\u001b[36m DEBUG    \u001b[0m| helpers.helpers_predator.models | Current estimator: RandomForestClassifier(class_weight='balanced', max_depth=9, max_features=None,\n",
      "                       min_samples_leaf=2, n_estimators=200,\n",
      "                       random_state=12157)\n",
      "2022-06-17 09:31:06 |\u001b[36m DEBUG    \u001b[0m| helpers.helpers_predator.models | X shape: (7853, 10)\n",
      "2022-06-17 09:31:06 |\u001b[36m DEBUG    \u001b[0m| helpers.helpers_predator.models | Current estimator: RandomForestClassifier(bootstrap=False, max_depth=12, max_features=None,\n",
      "                       min_samples_leaf=4, min_samples_split=5, n_estimators=40,\n",
      "                       random_state=49798)\n",
      "2022-06-17 09:31:06 |\u001b[36m DEBUG    \u001b[0m| helpers.helpers_predator.models | X shape: (7853, 10)\n",
      "2022-06-17 09:31:07 |\u001b[36m DEBUG    \u001b[0m| helpers.helpers_predator.models | Current estimator: RandomForestClassifier(class_weight='balanced', max_depth=5, min_samples_leaf=4,\n",
      "                       n_estimators=40, random_state=12677)\n",
      "2022-06-17 09:31:07 |\u001b[36m DEBUG    \u001b[0m| helpers.helpers_predator.models | X shape: (7853, 10)\n",
      "2022-06-17 09:31:07 |\u001b[36m DEBUG    \u001b[0m| helpers.helpers_predator.models | Current estimator: RandomForestClassifier(class_weight='balanced', max_depth=6, min_samples_leaf=4,\n",
      "                       min_samples_split=5, n_estimators=420,\n",
      "                       random_state=47053)\n",
      "2022-06-17 09:31:07 |\u001b[36m DEBUG    \u001b[0m| helpers.helpers_predator.models | X shape: (7853, 10)\n",
      "2022-06-17 09:31:07 |\u001b[36m DEBUG    \u001b[0m| helpers.helpers_predator.predictions | PredictionsSoft\n",
      "2022-06-17 09:31:07 |\u001b[36m DEBUG    \u001b[0m| helpers.helpers_predator.predictions | Predicting probabilities on hnsc cohort ..\n",
      "2022-06-17 09:31:07 |\u001b[36m DEBUG    \u001b[0m| helpers.helpers_predator.predictions | Adding key `hnsc_prob` to self.predictions\n"
     ]
    }
   ],
   "source": [
    "predator.predict(voting='soft')"
   ]
  },
  {
   "cell_type": "code",
   "execution_count": 8,
   "id": "341a1a27-928b-47ae-9d45-69ec13771b81",
   "metadata": {
    "pycharm": {
     "name": "#%%\n"
    }
   },
   "outputs": [
    {
     "data": {
      "text/plain": [
       "dict_keys(['hnsc_prob'])"
      ]
     },
     "execution_count": 8,
     "metadata": {},
     "output_type": "execute_result"
    }
   ],
   "source": [
    "predator.predictions.keys()"
   ]
  },
  {
   "cell_type": "code",
   "execution_count": 9,
   "id": "d7054f49-ad45-408f-88b4-0e608fc81e81",
   "metadata": {
    "pycharm": {
     "name": "#%%\n"
    }
   },
   "outputs": [
    {
     "data": {
      "text/plain": [
       "[array([[0.36176491, 0.63823509],\n",
       "        [0.45720809, 0.54279191],\n",
       "        [0.32692748, 0.67307252],\n",
       "        ...,\n",
       "        [0.39674034, 0.60325966],\n",
       "        [0.50038391, 0.49961609],\n",
       "        [0.57805491, 0.42194509]]),\n",
       " array([[0.47504669, 0.52495331],\n",
       "        [0.48412585, 0.51587415],\n",
       "        [0.43886649, 0.56113351],\n",
       "        ...,\n",
       "        [0.6072733 , 0.3927267 ],\n",
       "        [0.60030246, 0.39969754],\n",
       "        [0.52055467, 0.47944533]]),\n",
       " array([[0.31155676, 0.68844324],\n",
       "        [0.51452071, 0.48547929],\n",
       "        [0.22890664, 0.77109336],\n",
       "        ...,\n",
       "        [0.32397903, 0.67602097],\n",
       "        [0.25674108, 0.74325892],\n",
       "        [0.69996899, 0.30003101]])]"
      ]
     },
     "execution_count": 9,
     "metadata": {},
     "output_type": "execute_result"
    }
   ],
   "source": [
    "# Predictions for first 10 experiment.\n",
    "predator.predictions[\"hnsc_prob\"][:3]"
   ]
  },
  {
   "cell_type": "markdown",
   "id": "83e49c0d-9f61-4f48-a23d-8a21e9875041",
   "metadata": {
    "pycharm": {
     "name": "#%% md\n"
    }
   },
   "source": [
    "#### Predictions Post Processing"
   ]
  },
  {
   "cell_type": "markdown",
   "id": "3d18567f-1748-4446-bb12-8062515f02bd",
   "metadata": {
    "pycharm": {
     "name": "#%% md\n"
    }
   },
   "source": [
    "Post processing of predictions involves following steps:"
   ]
  },
  {
   "cell_type": "markdown",
   "id": "45aad6d0-0e73-413e-8b32-fbcb2bcc5426",
   "metadata": {
    "pycharm": {
     "name": "#%% md\n"
    }
   },
   "source": [
    "##### 1. Merging Predictions with SNV Data"
   ]
  },
  {
   "cell_type": "markdown",
   "id": "ba9bda7c-5736-4c44-8663-ec63927976db",
   "metadata": {
    "pycharm": {
     "name": "#%% md\n"
    }
   },
   "source": [
    "The prediction column is merged with SNV data for each experiment.\n",
    "\n",
    "$\\text{For each experiment } n: $\n",
    "\n",
    "$$\n",
    "  \\textit{(Prediction Merged Data)}_n = \\underbrace{[\\textit{Predictions}_n]}_\\text{Probs Percentages} + \n",
    "      \\underbrace{[\\textit{Protein }] [\\textit{Mutation }] [\\textit{Interactor }]}_\\text{Cancer Data Triplets} + \\underbrace{[\\textit{Features }] }_\\text{Elaspic}\n",
    "$$\n"
   ]
  },
  {
   "cell_type": "markdown",
   "id": "8b14c7d7-914f-40af-b695-b962c33ed9ee",
   "metadata": {
    "pycharm": {
     "name": "#%% md\n"
    },
    "tags": []
   },
   "source": [
    "##### 2. Convert to 1-isomer: `Interactor_UniProt_ID`"
   ]
  },
  {
   "cell_type": "markdown",
   "id": "36c9284b-0d5d-4c41-b2d9-7274d9141f6a",
   "metadata": {
    "pycharm": {
     "name": "#%% md\n"
    }
   },
   "source": [
    "$\\textit{Interactor_UniProt_ID}$ column contains isomer proteins. Here, we convert them into primary isoform representation (i.e. without dashes)."
   ]
  },
  {
   "cell_type": "markdown",
   "id": "2314ef86-e11b-43ce-a9ee-8d3d39420d3d",
   "metadata": {
    "pycharm": {
     "name": "#%% md\n"
    }
   },
   "source": [
    "| Interactor_UniProt_ID |\n",
    "--------------\n",
    "| P38936     |\n",
    "| P16473     |\n",
    "| P16473-2   |\n",
    "| P19793     |"
   ]
  },
  {
   "cell_type": "markdown",
   "id": "ac37c712-d832-4450-8852-a9df5712c194",
   "metadata": {
    "pycharm": {
     "name": "#%% md\n"
    }
   },
   "source": [
    "##### 3. Dropping Invalid Predictions"
   ]
  },
  {
   "cell_type": "markdown",
   "id": "43293304-9ddf-4e94-b624-8ce6c9034fe1",
   "metadata": {
    "pycharm": {
     "name": "#%% md\n"
    }
   },
   "source": [
    "Entries whose predicted class-1 probability lies in both `Decreasing` and `Increasing+NoEff` are dropped."
   ]
  },
  {
   "cell_type": "markdown",
   "id": "0d57de49-9962-47a8-8a2d-96a42df2295a",
   "metadata": {
    "pycharm": {
     "name": "#%% md\n"
    }
   },
   "source": [
    "Due to having different features for the same $\\textit{(protein, mutation, interactor)}$ triplet from ELASPIC, the triplet $\\textit{(protein, mutation, interactor)}$ may contain class-1 probability prediction of both lower than 0.50 and higher than 50. We drop such instances."
   ]
  },
  {
   "cell_type": "code",
   "execution_count": 10,
   "id": "ee5ffd8b-af50-481e-b90f-fc0548568727",
   "metadata": {
    "pycharm": {
     "name": "#%%\n"
    },
    "scrolled": true,
    "tags": []
   },
   "outputs": [
    {
     "name": "stdout",
     "output_type": "stream",
     "text": [
      "2022-06-17 09:31:29 |\u001b[36m DEBUG    \u001b[0m| helpers.helpers_predator.predictions | PredictionsSoft\n",
      "2022-06-17 09:31:29 |\u001b[36m DEBUG    \u001b[0m| helpers.helpers_predator.predictions | Post processing predictions for cohort hnsc ..\n",
      "2022-06-17 09:31:29 |\u001b[36m DEBUG    \u001b[0m| helpers.helpers_predator.predictions | PredictionsSoft\n",
      "2022-06-17 09:31:29 |\u001b[36m DEBUG    \u001b[0m| helpers.helpers_predator.predictions | Merging predictions with hnsc cancer dataset ..\n",
      "2022-06-17 09:31:29 |\u001b[36m DEBUG    \u001b[0m| helpers.helpers_predator.predictions | Handling valid and invalid entries ..\n"
     ]
    },
    {
     "data": {
      "application/vnd.jupyter.widget-view+json": {
       "model_id": "ca78dbc74e46488e8efcc033626fad0c",
       "version_major": 2,
       "version_minor": 0
      },
      "text/plain": [
       "  0%|          | 0/38 [00:00<?, ?it/s]"
      ]
     },
     "metadata": {},
     "output_type": "display_data"
    },
    {
     "name": "stdout",
     "output_type": "stream",
     "text": [
      "2022-06-17 09:32:19 |\u001b[36m DEBUG    \u001b[0m| helpers.helpers_predator.predictions_utils | Removed entries first five rows (of 887): \n",
      "   PREDICTION PROTEIN MUTATION INTERACTOR\n",
      "0    0.428641  P00492     R48H     Q9NRG1\n",
      "1    0.519816  P00492     R48H     Q9NRG1\n",
      "2    0.450506  O75175    I674M     Q9NZN8\n",
      "3    0.493166  O75175    I674M     Q9NZN8\n",
      "4    0.519018  O75175    I674M     Q9NZN8\n",
      "2022-06-17 09:32:57 |\u001b[36m DEBUG    \u001b[0m| helpers.helpers_predator.predictions_utils | Removed entries first five rows (of 845): \n",
      "   PREDICTION PROTEIN MUTATION INTERACTOR\n",
      "0    0.509738  Q04759    K400M     P27361\n",
      "1    0.499161  Q04759    K400M     P27361\n",
      "2    0.330979  Q14160   L1007V     Q9UDY2\n",
      "3    0.330979  Q14160   L1007V     Q9UDY2\n",
      "4    0.330979  Q14160   L1007V     Q9UDY2\n",
      "2022-06-17 09:33:32 |\u001b[36m DEBUG    \u001b[0m| helpers.helpers_predator.predictions_utils | Removed entries first five rows (of 1009): \n",
      "   PREDICTION PROTEIN MUTATION INTERACTOR\n",
      "0    0.250251  Q04759    K400M     P27361\n",
      "1    0.725317  Q04759    K400M     P27361\n",
      "2    0.271086  Q14160   L1007V     Q9UDY2\n",
      "3    0.271086  Q14160   L1007V     Q9UDY2\n",
      "4    0.271086  Q14160   L1007V     Q9UDY2\n",
      "2022-06-17 09:34:11 |\u001b[36m DEBUG    \u001b[0m| helpers.helpers_predator.predictions_utils | Removed entries first five rows (of 955): \n",
      "   PREDICTION PROTEIN MUTATION INTERACTOR\n",
      "0    0.481166  O75175    I674M     Q9NZN8\n",
      "1    0.488941  O75175    I674M     Q9NZN8\n",
      "2    0.518435  O75175    I674M     Q9NZN8\n",
      "3    0.435315  O75175    I674M     Q9NZN8\n",
      "4    0.488941  O75175    I674M     Q9NZN8\n",
      "2022-06-17 09:34:46 |\u001b[36m DEBUG    \u001b[0m| helpers.helpers_predator.predictions_utils | Removed entries first five rows (of 1170): \n",
      "   PREDICTION PROTEIN MUTATION INTERACTOR\n",
      "0    0.450775  O75175    I674M     Q9NZN8\n",
      "1    0.524911  O75175    I674M     Q9NZN8\n",
      "2    0.541777  O75175    I674M     Q9NZN8\n",
      "3    0.442629  O75175    I674M     Q9NZN8\n",
      "4    0.524911  O75175    I674M     Q9NZN8\n",
      "2022-06-17 09:35:23 |\u001b[36m DEBUG    \u001b[0m| helpers.helpers_predator.predictions_utils | Removed entries first five rows (of 870): \n",
      "   PREDICTION PROTEIN MUTATION INTERACTOR\n",
      "0    0.384054  Q16576    D231V     Q09028\n",
      "1    0.607361  Q16576    D231V     Q09028\n",
      "2    0.437107  Q16576    D231V     Q09028\n",
      "3    0.426465  Q08828    L409Q     Q08462\n",
      "4    0.568990  Q08828    L409Q     Q08462\n",
      "2022-06-17 09:36:01 |\u001b[36m DEBUG    \u001b[0m| helpers.helpers_predator.predictions_utils | Removed entries first five rows (of 881): \n",
      "   PREDICTION PROTEIN MUTATION INTERACTOR\n",
      "0    0.585733  Q9Y2U5    R507W     Q13163\n",
      "1    0.523058  Q9Y2U5    R507W     Q13163\n",
      "2    0.499183  Q9Y2U5    R507W     O14733\n",
      "3    0.477238  Q9Y2U5    R507W     O14733\n",
      "4    0.561858  Q9Y2U5    R507W     O14733\n",
      "2022-06-17 09:36:38 |\u001b[36m DEBUG    \u001b[0m| helpers.helpers_predator.predictions_utils | Removed entries first five rows (of 1345): \n",
      "   PREDICTION PROTEIN MUTATION INTERACTOR\n",
      "0    0.398206  O75175    I674M     Q9NZN8\n",
      "1    0.588728  O75175    I674M     Q9NZN8\n",
      "2    0.588728  O75175    I674M     Q9NZN8\n",
      "3    0.607857  O75175    I674M     Q9NZN8\n",
      "4    0.588728  O75175    I674M     Q9NZN8\n",
      "2022-06-17 09:37:20 |\u001b[36m DEBUG    \u001b[0m| helpers.helpers_predator.predictions_utils | Removed entries first five rows (of 986): \n",
      "   PREDICTION PROTEIN MUTATION INTERACTOR\n",
      "0    0.483246  P00492     R48H     Q9NRG1\n",
      "1    0.502612  P00492     R48H     Q9NRG1\n",
      "2    0.484467  Q04759    K400M     P27361\n",
      "3    0.592297  Q04759    K400M     P27361\n",
      "4    0.483082  Q9Y2U5    R507W     Q99759\n",
      "2022-06-17 09:38:02 |\u001b[36m DEBUG    \u001b[0m| helpers.helpers_predator.predictions_utils | Removed entries first five rows (of 1424): \n",
      "   PREDICTION PROTEIN MUTATION INTERACTOR\n",
      "0    0.711540  Q04759    K400M     P27361\n",
      "1    0.496099  Q04759    K400M     P27361\n",
      "2    0.423489  Q9Y2U5    R507W     Q99759\n",
      "3    0.551260  Q9Y2U5    R507W     O14733\n",
      "4    0.380678  Q9Y2U5    R507W     O14733\n",
      "2022-06-17 09:38:49 |\u001b[36m DEBUG    \u001b[0m| helpers.helpers_predator.predictions_utils | Removed entries first five rows (of 1136): \n",
      "   PREDICTION PROTEIN MUTATION INTERACTOR\n",
      "0    0.475000  P00492     R48H     Q9NRG1\n",
      "1    0.540556  P00492     R48H     Q9NRG1\n",
      "2    0.563611  O75175    I674M     Q9NZN8\n",
      "3    0.611389  O75175    I674M     Q9NZN8\n",
      "4    0.628056  O75175    I674M     Q9NZN8\n",
      "2022-06-17 09:39:36 |\u001b[36m DEBUG    \u001b[0m| helpers.helpers_predator.predictions_utils | Removed entries first five rows (of 861): \n",
      "   PREDICTION PROTEIN MUTATION INTERACTOR\n",
      "0    0.448612  O75175    I674M     Q9NZN8\n",
      "1    0.477202  O75175    I674M     Q9NZN8\n",
      "2    0.500404  O75175    I674M     Q9NZN8\n",
      "3    0.366445  O75175    I674M     Q9NZN8\n",
      "4    0.477202  O75175    I674M     Q9NZN8\n",
      "2022-06-17 09:40:19 |\u001b[36m DEBUG    \u001b[0m| helpers.helpers_predator.predictions_utils | Removed entries first five rows (of 900): \n",
      "   PREDICTION PROTEIN MUTATION INTERACTOR\n",
      "0    0.443427  Q04759    K400M     P27361\n",
      "1    0.923997  Q04759    K400M     P27361\n",
      "2    0.475508  Q9Y2U5    R507W     Q99759\n",
      "3    0.493633  Q9Y2U5    R507W     Q13163\n",
      "4    0.648270  Q9Y2U5    R507W     Q13163\n",
      "2022-06-17 09:40:59 |\u001b[36m DEBUG    \u001b[0m| helpers.helpers_predator.predictions_utils | Removed entries first five rows (of 1073): \n",
      "   PREDICTION PROTEIN MUTATION INTERACTOR\n",
      "0    0.660129  Q16288    A636V     P28482\n",
      "1    0.393764  Q16288    A636V     P28482\n",
      "2    0.640849  Q16288    A636V     P27361\n",
      "3    0.353167  Q16288    A636V     P27361\n",
      "4    0.554300  Q8N4C7    E242K     P61764\n",
      "2022-06-17 09:41:38 |\u001b[36m DEBUG    \u001b[0m| helpers.helpers_predator.predictions_utils | Removed entries first five rows (of 1445): \n",
      "   PREDICTION PROTEIN MUTATION INTERACTOR\n",
      "0    0.433333  O75175    I674M     Q9NZN8\n",
      "1    0.433333  O75175    I674M     Q9NZN8\n",
      "2    0.433333  O75175    I674M     Q9NZN8\n",
      "3    1.000000  O75175    I674M     Q9NZN8\n",
      "4    0.433333  O75175    I674M     Q9NZN8\n",
      "2022-06-17 09:42:18 |\u001b[36m DEBUG    \u001b[0m| helpers.helpers_predator.predictions_utils | Removed entries first five rows (of 1244): \n",
      "   PREDICTION PROTEIN MUTATION INTERACTOR\n",
      "0    0.361643  P00492     R48H     Q9NRG1\n",
      "1    0.570288  P00492     R48H     Q9NRG1\n",
      "2    0.422043  Q9Y2U5    R507W     Q99759\n",
      "3    0.560533  Q9Y2U5    R507W     Q13163\n",
      "4    0.754859  Q9Y2U5    R507W     Q13163\n",
      "2022-06-17 09:43:03 |\u001b[36m DEBUG    \u001b[0m| helpers.helpers_predator.predictions_utils | Removed entries first five rows (of 960): \n",
      "   PREDICTION PROTEIN MUTATION INTERACTOR\n",
      "0    0.454738  Q04759    K400M     P27361\n",
      "1    0.667430  Q04759    K400M     P27361\n",
      "2    0.500041  P15498    R728Q     P06239\n",
      "3    0.468412  P15498    R728Q     P06239\n",
      "4    0.490637  P15498    R728Q     P06239\n",
      "2022-06-17 09:43:42 |\u001b[36m DEBUG    \u001b[0m| helpers.helpers_predator.predictions_utils | Removed entries first five rows (of 887): \n",
      "   PREDICTION PROTEIN MUTATION INTERACTOR\n",
      "0    0.385009  Q04759    K400M     P27361\n",
      "1    0.752549  Q04759    K400M     P27361\n",
      "2    0.467179  Q16576    D231V     Q09028\n",
      "3    0.580194  Q16576    D231V     Q09028\n",
      "4    0.501998  Q16576    D231V     Q09028\n",
      "2022-06-17 09:44:21 |\u001b[36m DEBUG    \u001b[0m| helpers.helpers_predator.predictions_utils | Removed entries first five rows (of 896): \n",
      "   PREDICTION PROTEIN MUTATION INTERACTOR\n",
      "0    0.479064  O75175    I674M     Q9NZN8\n",
      "1    0.527594  O75175    I674M     Q9NZN8\n",
      "2    0.527189  O75175    I674M     Q9NZN8\n",
      "3    0.566669  O75175    I674M     Q9NZN8\n",
      "4    0.527594  O75175    I674M     Q9NZN8\n",
      "2022-06-17 09:45:00 |\u001b[36m DEBUG    \u001b[0m| helpers.helpers_predator.predictions_utils | Removed entries first five rows (of 1214): \n",
      "   PREDICTION PROTEIN MUTATION INTERACTOR\n",
      "0    0.428333  P28074    K150R     P28062\n",
      "1    0.558144  P28074    K150R     P28062\n",
      "2    0.467843  Q14160   L1007V     Q9UDY2\n",
      "3    0.467843  Q14160   L1007V     Q9UDY2\n",
      "4    0.467843  Q14160   L1007V     Q9UDY2\n",
      "2022-06-17 09:45:39 |\u001b[36m DEBUG    \u001b[0m| helpers.helpers_predator.predictions_utils | Removed entries first five rows (of 837): \n",
      "   PREDICTION PROTEIN MUTATION INTERACTOR\n",
      "0    0.277292  Q14160   L1007V     Q9UDY2\n",
      "1    0.277292  Q14160   L1007V     Q9UDY2\n",
      "2    0.277292  Q14160   L1007V     Q9UDY2\n",
      "3    0.254673  Q14160   L1007V     Q9UDY2\n",
      "4    0.277292  Q14160   L1007V     Q9UDY2\n",
      "2022-06-17 09:46:22 |\u001b[36m DEBUG    \u001b[0m| helpers.helpers_predator.predictions_utils | Removed entries first five rows (of 1344): \n",
      "   PREDICTION PROTEIN MUTATION INTERACTOR\n",
      "0         0.5  Q9Y2U5    R507W     Q99759\n",
      "1         1.0  Q9Y2U5    R507W     Q99759\n",
      "2         0.4  P04637    H179L     Q9H9B1\n",
      "3         0.8  P04637    H179L     Q9H9B1\n",
      "4         0.7  P04637    H179L     Q9H3D4\n",
      "2022-06-17 09:47:02 |\u001b[36m DEBUG    \u001b[0m| helpers.helpers_predator.predictions_utils | Removed entries first five rows (of 949): \n",
      "   PREDICTION PROTEIN MUTATION INTERACTOR\n",
      "0    0.469565  Q16576    D231V     Q09028\n",
      "1    0.545854  Q16576    D231V     Q09028\n",
      "2    0.467492  Q16576    D231V     Q09028\n",
      "3    0.455667  Q08828    L409Q     Q08462\n",
      "4    0.583681  Q08828    L409Q     Q08462\n",
      "2022-06-17 09:47:42 |\u001b[36m DEBUG    \u001b[0m| helpers.helpers_predator.predictions_utils | Removed entries first five rows (of 783): \n",
      "   PREDICTION PROTEIN MUTATION INTERACTOR\n",
      "0    0.604293  Q9Y2U5    R507W     Q13163\n",
      "1    0.665785  Q9Y2U5    R507W     Q13163\n",
      "2    0.471074  Q9Y2U5    R507W     O14733\n",
      "3    0.603282  Q9Y2U5    R507W     O14733\n",
      "4    0.485897  Q9Y2U5    R507W     O14733\n",
      "2022-06-17 09:48:23 |\u001b[36m DEBUG    \u001b[0m| helpers.helpers_predator.predictions_utils | Removed entries first five rows (of 730): \n",
      "   PREDICTION PROTEIN MUTATION INTERACTOR\n",
      "0    0.613043  Q16288    A636V     P27361\n",
      "1    0.259572  Q16288    A636V     P27361\n",
      "2    0.499469  P15498    R728Q     P06239\n",
      "3    0.396143  P15498    R728Q     P06239\n",
      "4    0.512962  P15498    R728Q     P06239\n",
      "2022-06-17 09:49:07 |\u001b[36m DEBUG    \u001b[0m| helpers.helpers_predator.predictions_utils | Removed entries first five rows (of 980): \n",
      "   PREDICTION PROTEIN MUTATION INTERACTOR\n",
      "0    0.470217  Q16576    D231V     Q09028\n",
      "1    0.561044  Q16576    D231V     Q09028\n",
      "2    0.537556  Q16576    D231V     Q09028\n",
      "3    0.360115  P28074    K150R     P28062\n",
      "4    0.527586  P28074    K150R     P28062\n",
      "2022-06-17 09:49:41 |\u001b[36m DEBUG    \u001b[0m| helpers.helpers_predator.predictions_utils | Removed entries first five rows (of 1061): \n",
      "   PREDICTION PROTEIN MUTATION INTERACTOR\n",
      "0    0.420350  Q04759    K400M     P27361\n",
      "1    0.713746  Q04759    K400M     P27361\n",
      "2    0.477225  P15498    R728Q     P06239\n",
      "3    0.498197  P15498    R728Q     P06239\n",
      "4    0.529650  P15498    R728Q     P06239\n",
      "2022-06-17 09:50:16 |\u001b[36m DEBUG    \u001b[0m| helpers.helpers_predator.predictions_utils | Removed entries first five rows (of 866): \n",
      "   PREDICTION PROTEIN MUTATION INTERACTOR\n",
      "0    0.369009  Q04759    K400M     P27361\n",
      "1    0.614296  Q04759    K400M     P27361\n",
      "2    0.495685  P15498    R728Q     P06239\n",
      "3    0.472893  P15498    R728Q     P06239\n",
      "4    0.534298  P15498    R728Q     P06239\n",
      "2022-06-17 09:50:49 |\u001b[36m DEBUG    \u001b[0m| helpers.helpers_predator.predictions_utils | Removed entries first five rows (of 1191): \n",
      "   PREDICTION PROTEIN MUTATION INTERACTOR\n",
      "0    1.000000  Q15700    H163Y     P29475\n",
      "1    0.203571  Q15700    H163Y     P29475\n",
      "2    0.203571  Q15700    H163Y     P29475\n",
      "3    1.000000  Q15700    H163Y     P29475\n",
      "4    0.006206  O75175    I674M     Q9NZN8\n",
      "2022-06-17 09:51:19 |\u001b[36m DEBUG    \u001b[0m| helpers.helpers_predator.predictions_utils | Removed entries first five rows (of 809): \n",
      "   PREDICTION PROTEIN MUTATION INTERACTOR\n",
      "0        0.30  Q9Y2U5    R507W     Q99759\n",
      "1        0.65  Q9Y2U5    R507W     Q99759\n",
      "2        0.55  P04637    H179L     O15350\n",
      "3        0.50  P04637    H179L     O15350\n",
      "4        0.55  P04637    H179L     O15350\n",
      "2022-06-17 09:51:46 |\u001b[36m DEBUG    \u001b[0m| helpers.helpers_predator.predictions_utils | Removed entries first five rows (of 1206): \n",
      "   PREDICTION PROTEIN MUTATION INTERACTOR\n",
      "0    0.345611  Q04759    K400M     P27361\n",
      "1    0.889671  Q04759    K400M     P27361\n",
      "2    0.561889  Q14160   L1007V     Q9UDY2\n",
      "3    0.561889  Q14160   L1007V     Q9UDY2\n",
      "4    0.561889  Q14160   L1007V     Q9UDY2\n",
      "2022-06-17 09:52:13 |\u001b[36m DEBUG    \u001b[0m| helpers.helpers_predator.predictions_utils | Removed entries first five rows (of 1090): \n",
      "   PREDICTION PROTEIN MUTATION INTERACTOR\n",
      "0    0.442821  Q14160   L1007V     Q9UDY2\n",
      "1    0.442821  Q14160   L1007V     Q9UDY2\n",
      "2    0.442821  Q14160   L1007V     Q9UDY2\n",
      "3    0.428547  Q14160   L1007V     Q9UDY2\n",
      "4    0.442821  Q14160   L1007V     Q9UDY2\n",
      "2022-06-17 09:52:39 |\u001b[36m DEBUG    \u001b[0m| helpers.helpers_predator.predictions_utils | Removed entries first five rows (of 1028): \n",
      "   PREDICTION PROTEIN MUTATION INTERACTOR\n",
      "0    0.656814  Q9Y2U5    R507W     O14733\n",
      "1    0.485315  Q9Y2U5    R507W     O14733\n",
      "2    0.666419  Q9Y2U5    R507W     O14733\n",
      "3    0.453289  Q14160   L1007V     Q9UDY2\n",
      "4    0.453289  Q14160   L1007V     Q9UDY2\n",
      "2022-06-17 09:53:05 |\u001b[36m DEBUG    \u001b[0m| helpers.helpers_predator.predictions_utils | Removed entries first five rows (of 797): \n",
      "   PREDICTION PROTEIN MUTATION INTERACTOR\n",
      "0    0.397059  Q16576    D231V     Q09028\n",
      "1    0.561765  Q16576    D231V     Q09028\n",
      "2    0.524048  Q16576    D231V     Q09028\n",
      "3    0.304129  Q08828    L409Q     Q08462\n",
      "4    0.530516  Q08828    L409Q     Q08462\n",
      "2022-06-17 09:53:33 |\u001b[36m DEBUG    \u001b[0m| helpers.helpers_predator.predictions_utils | Removed entries first five rows (of 943): \n",
      "   PREDICTION PROTEIN MUTATION INTERACTOR\n",
      "0    0.441928  O75175    I674M     Q9NZN8\n",
      "1    0.634443  O75175    I674M     Q9NZN8\n",
      "2    0.648313  O75175    I674M     Q9NZN8\n",
      "3    0.412579  O75175    I674M     Q9NZN8\n",
      "4    0.634443  O75175    I674M     Q9NZN8\n",
      "2022-06-17 09:54:03 |\u001b[36m DEBUG    \u001b[0m| helpers.helpers_predator.predictions_utils | Removed entries first five rows (of 1053): \n",
      "   PREDICTION PROTEIN MUTATION INTERACTOR\n",
      "0         0.0  Q04759    K400M     P27361\n",
      "1         1.0  Q04759    K400M     P27361\n",
      "2         0.5  Q9Y2U5    R507W     Q99759\n",
      "3         0.5  Q9Y2U5    R507W     Q13153\n",
      "4         1.0  Q9Y2U5    R507W     Q13153\n",
      "2022-06-17 09:54:32 |\u001b[36m DEBUG    \u001b[0m| helpers.helpers_predator.predictions_utils | Removed entries first five rows (of 1065): \n",
      "   PREDICTION PROTEIN MUTATION INTERACTOR\n",
      "0    0.498995  Q04759    K400M     P27361\n",
      "1    0.637024  Q04759    K400M     P27361\n",
      "2    0.421918  Q16576    D231V     Q09028\n",
      "3    0.584120  Q16576    D231V     Q09028\n",
      "4    0.436620  Q16576    D231V     Q09028\n",
      "2022-06-17 09:55:00 |\u001b[36m DEBUG    \u001b[0m| helpers.helpers_predator.predictions_utils | Removed entries first five rows (of 1042): \n",
      "   PREDICTION PROTEIN MUTATION INTERACTOR\n",
      "0    0.591339  P15498    R728Q     P06239\n",
      "1    0.530446  P15498    R728Q     P06239\n",
      "2    0.485270  P15498    R728Q     P06239\n",
      "3    0.344059  Q16576    D231V     Q09028\n",
      "4    0.536187  Q16576    D231V     Q09028\n",
      "2022-06-17 09:55:00 |\u001b[36m DEBUG    \u001b[0m| helpers.helpers_predator.predictions | Preparing finalized prediction datasets for hnsc ..\n",
      "2022-06-17 09:55:00 |\u001b[36m DEBUG    \u001b[0m| helpers.helpers_predator.predictions | Post processing completed for hnsc.\n"
     ]
    }
   ],
   "source": [
    "predator.predictions_post_process()"
   ]
  },
  {
   "cell_type": "code",
   "execution_count": 11,
   "id": "90683791-df42-47a8-ae9d-6c6ba08bcafd",
   "metadata": {
    "pycharm": {
     "name": "#%%\n"
    }
   },
   "outputs": [
    {
     "data": {
      "text/plain": [
       "dict_keys(['hnsc_prob', 'hnsc_predicted_probs_datasets', 'hnsc_predicted_valid_datasets', 'hnsc_predicted_invalid_datasets', 'hnsc_finalized_prediction_dataframes'])"
      ]
     },
     "execution_count": 11,
     "metadata": {},
     "output_type": "execute_result"
    }
   ],
   "source": [
    "predator.predictions.keys()"
   ]
  },
  {
   "cell_type": "code",
   "execution_count": 12,
   "id": "fcf61287-2498-4b53-ac75-1f6baceed2a3",
   "metadata": {
    "pycharm": {
     "name": "#%%\n"
    }
   },
   "outputs": [
    {
     "name": "stdout",
     "output_type": "stream",
     "text": [
      "\u001b[36mData dimensions: (7853, 104)\u001b[0m\n"
     ]
    },
    {
     "data": {
      "text/html": [
       "<div>\n",
       "<style scoped>\n",
       "    .dataframe tbody tr th:only-of-type {\n",
       "        vertical-align: middle;\n",
       "    }\n",
       "\n",
       "    .dataframe tbody tr th {\n",
       "        vertical-align: top;\n",
       "    }\n",
       "\n",
       "    .dataframe thead th {\n",
       "        text-align: right;\n",
       "    }\n",
       "</style>\n",
       "<table border=\"1\" class=\"dataframe\">\n",
       "  <thead>\n",
       "    <tr style=\"text-align: right;\">\n",
       "      <th></th>\n",
       "      <th>Prediction</th>\n",
       "      <th>Input_identifier</th>\n",
       "      <th>UniProt_ID</th>\n",
       "      <th>Mutation</th>\n",
       "      <th>Status</th>\n",
       "      <th>Type</th>\n",
       "      <th>COSMIC_mut_ID</th>\n",
       "      <th>ClinVar_mut_ID</th>\n",
       "      <th>UniProt_mut_ID</th>\n",
       "      <th>Domain_name</th>\n",
       "      <th>...</th>\n",
       "      <th>number_of_residues_mut</th>\n",
       "      <th>IntraclashesEnergy1_wt</th>\n",
       "      <th>IntraclashesEnergy1_mut</th>\n",
       "      <th>IntraclashesEnergy2_wt</th>\n",
       "      <th>IntraclashesEnergy2_mut</th>\n",
       "      <th>Interface_hydrophobic_area</th>\n",
       "      <th>Interface_hydrophilic_area</th>\n",
       "      <th>Interface_total_area</th>\n",
       "      <th>Interface_contact_distance_wt</th>\n",
       "      <th>Interface_contact_distance_mut</th>\n",
       "    </tr>\n",
       "  </thead>\n",
       "  <tbody>\n",
       "    <tr>\n",
       "      <th>0</th>\n",
       "      <td>0.638235</td>\n",
       "      <td>Q13485</td>\n",
       "      <td>Q13485</td>\n",
       "      <td>R361H</td>\n",
       "      <td>done</td>\n",
       "      <td>interface</td>\n",
       "      <td>COSM14122</td>\n",
       "      <td>-</td>\n",
       "      <td>VAR_036477</td>\n",
       "      <td>MH2</td>\n",
       "      <td>...</td>\n",
       "      <td>428.0</td>\n",
       "      <td>55.6903</td>\n",
       "      <td>55.9901</td>\n",
       "      <td>65.8172</td>\n",
       "      <td>65.8172</td>\n",
       "      <td>479.215</td>\n",
       "      <td>224.96</td>\n",
       "      <td>704.175</td>\n",
       "      <td>5.89685</td>\n",
       "      <td>6.78918</td>\n",
       "    </tr>\n",
       "    <tr>\n",
       "      <th>1</th>\n",
       "      <td>0.542792</td>\n",
       "      <td>Q13485</td>\n",
       "      <td>Q13485</td>\n",
       "      <td>R361H</td>\n",
       "      <td>done</td>\n",
       "      <td>interface</td>\n",
       "      <td>COSM14122</td>\n",
       "      <td>-</td>\n",
       "      <td>VAR_036477</td>\n",
       "      <td>MH2</td>\n",
       "      <td>...</td>\n",
       "      <td>438.0</td>\n",
       "      <td>67.6915</td>\n",
       "      <td>65.6937</td>\n",
       "      <td>76.8231</td>\n",
       "      <td>76.1833</td>\n",
       "      <td>468.685</td>\n",
       "      <td>330.13</td>\n",
       "      <td>798.81</td>\n",
       "      <td>2.71793</td>\n",
       "      <td>6.60775</td>\n",
       "    </tr>\n",
       "    <tr>\n",
       "      <th>2</th>\n",
       "      <td>0.673073</td>\n",
       "      <td>Q13485</td>\n",
       "      <td>Q13485</td>\n",
       "      <td>R361H</td>\n",
       "      <td>done</td>\n",
       "      <td>interface</td>\n",
       "      <td>COSM14122</td>\n",
       "      <td>-</td>\n",
       "      <td>VAR_036477</td>\n",
       "      <td>MH2</td>\n",
       "      <td>...</td>\n",
       "      <td>434.0</td>\n",
       "      <td>70.5775</td>\n",
       "      <td>70.5036</td>\n",
       "      <td>54.3675</td>\n",
       "      <td>54.3675</td>\n",
       "      <td>520.815</td>\n",
       "      <td>309.375</td>\n",
       "      <td>830.195</td>\n",
       "      <td>3.35892</td>\n",
       "      <td>5.43052</td>\n",
       "    </tr>\n",
       "  </tbody>\n",
       "</table>\n",
       "<p>3 rows × 104 columns</p>\n",
       "</div>"
      ],
      "text/plain": [
       "   Prediction Input_identifier UniProt_ID Mutation Status       Type  \\\n",
       "0    0.638235           Q13485     Q13485    R361H   done  interface   \n",
       "1    0.542792           Q13485     Q13485    R361H   done  interface   \n",
       "2    0.673073           Q13485     Q13485    R361H   done  interface   \n",
       "\n",
       "  COSMIC_mut_ID ClinVar_mut_ID UniProt_mut_ID Domain_name  ...  \\\n",
       "0     COSM14122              -     VAR_036477         MH2  ...   \n",
       "1     COSM14122              -     VAR_036477         MH2  ...   \n",
       "2     COSM14122              -     VAR_036477         MH2  ...   \n",
       "\n",
       "  number_of_residues_mut IntraclashesEnergy1_wt IntraclashesEnergy1_mut  \\\n",
       "0                  428.0                55.6903                 55.9901   \n",
       "1                  438.0                67.6915                 65.6937   \n",
       "2                  434.0                70.5775                 70.5036   \n",
       "\n",
       "   IntraclashesEnergy2_wt  IntraclashesEnergy2_mut Interface_hydrophobic_area  \\\n",
       "0                 65.8172                  65.8172                    479.215   \n",
       "1                 76.8231                  76.1833                    468.685   \n",
       "2                 54.3675                  54.3675                    520.815   \n",
       "\n",
       "  Interface_hydrophilic_area Interface_total_area  \\\n",
       "0                     224.96              704.175   \n",
       "1                     330.13               798.81   \n",
       "2                    309.375              830.195   \n",
       "\n",
       "  Interface_contact_distance_wt Interface_contact_distance_mut  \n",
       "0                       5.89685                        6.78918  \n",
       "1                       2.71793                        6.60775  \n",
       "2                       3.35892                        5.43052  \n",
       "\n",
       "[3 rows x 104 columns]"
      ]
     },
     "metadata": {},
     "output_type": "display_data"
    }
   ],
   "source": [
    "display_data(predator.predictions[\"hnsc_predicted_probs_datasets\"][0])"
   ]
  },
  {
   "cell_type": "code",
   "execution_count": 13,
   "id": "a603e902-b663-49e2-92c5-e6167cc06699",
   "metadata": {
    "pycharm": {
     "name": "#%%\n"
    }
   },
   "outputs": [
    {
     "data": {
      "image/png": "[encoded data removed]",
      "text/plain": [
       "<Figure size 1080x360 with 1 Axes>"
      ]
     },
     "metadata": {
      "needs_background": "light"
     },
     "output_type": "display_data"
    }
   ],
   "source": [
    "predator.predictions.plot_distribution_valid_vs_invalid(\"hnsc\")"
   ]
  },
  {
   "cell_type": "code",
   "execution_count": 14,
   "id": "77147287-c7ce-4771-b0ed-e45479644ccb",
   "metadata": {
    "pycharm": {
     "name": "#%%\n"
    }
   },
   "outputs": [
    {
     "name": "stdout",
     "output_type": "stream",
     "text": [
      "2022-06-17 10:07:14 |\u001b[36m DEBUG    \u001b[0m| helpers.helpers_predator.predictions | Plotting number of finalized predictions per model.\n",
      "Note that following plot shows the number of (protein, mutation, interactor) triplets which had valid prediction.\n"
     ]
    },
    {
     "data": {
      "image/png": "[encoded data removed]",
      "text/plain": [
       "<Figure size 1080x360 with 1 Axes>"
      ]
     },
     "metadata": {
      "needs_background": "light"
     },
     "output_type": "display_data"
    }
   ],
   "source": [
    "predator.predictions.plot_num_finalized_predictions(\"hnsc\")"
   ]
  },
  {
   "cell_type": "code",
   "execution_count": 15,
   "id": "a0762893-11a8-43c7-8b93-1b214a1a85e4",
   "metadata": {
    "pycharm": {
     "name": "#%%\n"
    }
   },
   "outputs": [
    {
     "name": "stdout",
     "output_type": "stream",
     "text": [
      "\u001b[36mData dimensions: (5549, 4)\u001b[0m\n"
     ]
    },
    {
     "data": {
      "text/html": [
       "<div>\n",
       "<style scoped>\n",
       "    .dataframe tbody tr th:only-of-type {\n",
       "        vertical-align: middle;\n",
       "    }\n",
       "\n",
       "    .dataframe tbody tr th {\n",
       "        vertical-align: top;\n",
       "    }\n",
       "\n",
       "    .dataframe thead th {\n",
       "        text-align: right;\n",
       "    }\n",
       "</style>\n",
       "<table border=\"1\" class=\"dataframe\">\n",
       "  <thead>\n",
       "    <tr style=\"text-align: right;\">\n",
       "      <th></th>\n",
       "      <th>Prediction</th>\n",
       "      <th>UniProt_ID</th>\n",
       "      <th>Mutation</th>\n",
       "      <th>Interactor_UniProt_ID</th>\n",
       "    </tr>\n",
       "  </thead>\n",
       "  <tbody>\n",
       "    <tr>\n",
       "      <th>0</th>\n",
       "      <td>0.638235</td>\n",
       "      <td>Q13485</td>\n",
       "      <td>R361H</td>\n",
       "      <td>B7Z5N5</td>\n",
       "    </tr>\n",
       "    <tr>\n",
       "      <th>1</th>\n",
       "      <td>0.542792</td>\n",
       "      <td>Q13485</td>\n",
       "      <td>R361H</td>\n",
       "      <td>Q68DB7</td>\n",
       "    </tr>\n",
       "    <tr>\n",
       "      <th>2</th>\n",
       "      <td>0.673073</td>\n",
       "      <td>Q13485</td>\n",
       "      <td>R361H</td>\n",
       "      <td>Q53XR6</td>\n",
       "    </tr>\n",
       "  </tbody>\n",
       "</table>\n",
       "</div>"
      ],
      "text/plain": [
       "   Prediction UniProt_ID Mutation Interactor_UniProt_ID\n",
       "0    0.638235     Q13485    R361H                B7Z5N5\n",
       "1    0.542792     Q13485    R361H                Q68DB7\n",
       "2    0.673073     Q13485    R361H                Q53XR6"
      ]
     },
     "metadata": {},
     "output_type": "display_data"
    }
   ],
   "source": [
    "display_data(predator.predictions['hnsc_finalized_prediction_dataframes'][0])"
   ]
  },
  {
   "cell_type": "code",
   "execution_count": 16,
   "id": "7fab8dc7-62ea-4cba-bdfa-0a8187a53a27",
   "metadata": {
    "pycharm": {
     "name": "#%%\n"
    },
    "scrolled": true,
    "tags": []
   },
   "outputs": [
    {
     "name": "stdout",
     "output_type": "stream",
     "text": [
      "2022-06-17 10:07:14 |\u001b[32m INFO     \u001b[0m| helpers.helpers_predator.predictions | PredictionsSoft\n",
      "2022-06-17 10:07:14 |\u001b[32m INFO     \u001b[0m| helpers.helpers_predator.predictions | Preparing ensemble prediction data for hnsc taking median ..\n"
     ]
    },
    {
     "data": {
      "application/vnd.jupyter.widget-view+json": {
       "model_id": "37f327b84fa143f29caeaf83590c0c14",
       "version_major": 2,
       "version_minor": 0
      },
      "text/plain": [
       "  0%|          | 0/38 [00:00<?, ?it/s]"
      ]
     },
     "metadata": {},
     "output_type": "display_data"
    },
    {
     "name": "stdout",
     "output_type": "stream",
     "text": [
      "2022-06-17 10:14:32 |\u001b[36m DEBUG    \u001b[0m| helpers.helpers_predator.predictions | Prediction probabilities data for hnsc is prepared.\n",
      "Accessible from `hnsc_predictions_prob_data`.\n",
      "2022-06-17 10:14:32 |\u001b[36m DEBUG    \u001b[0m| helpers.helpers_predator.predictions | Ensemble prediction data for hnsc is prepared.\n",
      "Accessible from `hnsc_ensemble_prediction_data`.\n",
      "2022-06-17 10:14:32 |\u001b[36m DEBUG    \u001b[0m| helpers.helpers_predator.predictions | Resulting prediction data is available for hnsc.\n",
      "Accessible from predictions.['hnsc_prediction_results']\n",
      "2022-06-17 10:14:32 |\u001b[36m DEBUG    \u001b[0m| helpers.helpers_predator.predictions | Resulting prediction data (no_votes dropped) is available for hnsc.\n",
      "Accessible from predictions.['hnsc_prediction_results_no_votes_dropped']\n"
     ]
    }
   ],
   "source": [
    "predator.prepare_ensemble_prediction_data()"
   ]
  },
  {
   "cell_type": "code",
   "execution_count": 17,
   "id": "0ffd0f8a-b82f-4733-9a31-2d350402fecb",
   "metadata": {
    "pycharm": {
     "name": "#%%\n"
    }
   },
   "outputs": [
    {
     "name": "stdout",
     "output_type": "stream",
     "text": [
      "\u001b[36mData dimensions: (4137, 40)\u001b[0m\n"
     ]
    },
    {
     "data": {
      "text/html": [
       "<div>\n",
       "<style scoped>\n",
       "    .dataframe tbody tr th:only-of-type {\n",
       "        vertical-align: middle;\n",
       "    }\n",
       "\n",
       "    .dataframe tbody tr th {\n",
       "        vertical-align: top;\n",
       "    }\n",
       "\n",
       "    .dataframe thead th {\n",
       "        text-align: right;\n",
       "    }\n",
       "</style>\n",
       "<table border=\"1\" class=\"dataframe\">\n",
       "  <thead>\n",
       "    <tr style=\"text-align: right;\">\n",
       "      <th></th>\n",
       "      <th>Trial 0</th>\n",
       "      <th>Trial 1</th>\n",
       "      <th>Trial 2</th>\n",
       "      <th>Trial 3</th>\n",
       "      <th>Trial 4</th>\n",
       "      <th>Trial 5</th>\n",
       "      <th>Trial 6</th>\n",
       "      <th>Trial 7</th>\n",
       "      <th>Trial 8</th>\n",
       "      <th>Trial 9</th>\n",
       "      <th>...</th>\n",
       "      <th>Trial 30</th>\n",
       "      <th>Trial 31</th>\n",
       "      <th>Trial 32</th>\n",
       "      <th>Trial 33</th>\n",
       "      <th>Trial 34</th>\n",
       "      <th>Trial 35</th>\n",
       "      <th>Trial 36</th>\n",
       "      <th>Trial 37</th>\n",
       "      <th>PROB_1s_AVG</th>\n",
       "      <th>VOTED_PREDICTION</th>\n",
       "    </tr>\n",
       "  </thead>\n",
       "  <tbody>\n",
       "    <tr>\n",
       "      <th>0</th>\n",
       "      <td>0.638235</td>\n",
       "      <td>0.524953</td>\n",
       "      <td>0.688443</td>\n",
       "      <td>0.555948</td>\n",
       "      <td>0.586142</td>\n",
       "      <td>0.526022</td>\n",
       "      <td>0.45076</td>\n",
       "      <td>0.638429</td>\n",
       "      <td>0.587364</td>\n",
       "      <td>0.500977</td>\n",
       "      <td>...</td>\n",
       "      <td>0.39324</td>\n",
       "      <td>0.525868</td>\n",
       "      <td>0.553638</td>\n",
       "      <td>0.724792</td>\n",
       "      <td>0.622211</td>\n",
       "      <td>0.075</td>\n",
       "      <td>0.435405</td>\n",
       "      <td>0.418469</td>\n",
       "      <td>0.55795</td>\n",
       "      <td>1</td>\n",
       "    </tr>\n",
       "    <tr>\n",
       "      <th>1</th>\n",
       "      <td>0.542792</td>\n",
       "      <td>0.515874</td>\n",
       "      <td>0.485479</td>\n",
       "      <td>0.500664</td>\n",
       "      <td>0.563485</td>\n",
       "      <td>0.504564</td>\n",
       "      <td>0.45076</td>\n",
       "      <td>0.471442</td>\n",
       "      <td>0.580275</td>\n",
       "      <td>0.514769</td>\n",
       "      <td>...</td>\n",
       "      <td>0.42389</td>\n",
       "      <td>0.458358</td>\n",
       "      <td>0.542577</td>\n",
       "      <td>0.614454</td>\n",
       "      <td>0.612171</td>\n",
       "      <td>0.075</td>\n",
       "      <td>0.406451</td>\n",
       "      <td>0.415206</td>\n",
       "      <td>0.51532</td>\n",
       "      <td>1</td>\n",
       "    </tr>\n",
       "    <tr>\n",
       "      <th>2</th>\n",
       "      <td>0.673073</td>\n",
       "      <td>0.561134</td>\n",
       "      <td>0.771093</td>\n",
       "      <td>0.617096</td>\n",
       "      <td>0.663872</td>\n",
       "      <td>0.624969</td>\n",
       "      <td>0.45076</td>\n",
       "      <td>0.666917</td>\n",
       "      <td>0.604658</td>\n",
       "      <td>0.706299</td>\n",
       "      <td>...</td>\n",
       "      <td>0.648387</td>\n",
       "      <td>0.692024</td>\n",
       "      <td>0.671519</td>\n",
       "      <td>0.715193</td>\n",
       "      <td>0.602333</td>\n",
       "      <td>0.75</td>\n",
       "      <td>0.517459</td>\n",
       "      <td>0.464131</td>\n",
       "      <td>0.65254</td>\n",
       "      <td>1</td>\n",
       "    </tr>\n",
       "  </tbody>\n",
       "</table>\n",
       "<p>3 rows × 40 columns</p>\n",
       "</div>"
      ],
      "text/plain": [
       "    Trial 0   Trial 1   Trial 2   Trial 3   Trial 4   Trial 5  Trial 6  \\\n",
       "0  0.638235  0.524953  0.688443  0.555948  0.586142  0.526022  0.45076   \n",
       "1  0.542792  0.515874  0.485479  0.500664  0.563485  0.504564  0.45076   \n",
       "2  0.673073  0.561134  0.771093  0.617096  0.663872  0.624969  0.45076   \n",
       "\n",
       "    Trial 7   Trial 8   Trial 9  ...  Trial 30  Trial 31  Trial 32  Trial 33  \\\n",
       "0  0.638429  0.587364  0.500977  ...   0.39324  0.525868  0.553638  0.724792   \n",
       "1  0.471442  0.580275  0.514769  ...   0.42389  0.458358  0.542577  0.614454   \n",
       "2  0.666917  0.604658  0.706299  ...  0.648387  0.692024  0.671519  0.715193   \n",
       "\n",
       "   Trial 34 Trial 35  Trial 36  Trial 37 PROB_1s_AVG VOTED_PREDICTION  \n",
       "0  0.622211    0.075  0.435405  0.418469     0.55795                1  \n",
       "1  0.612171    0.075  0.406451  0.415206     0.51532                1  \n",
       "2  0.602333     0.75  0.517459  0.464131     0.65254                1  \n",
       "\n",
       "[3 rows x 40 columns]"
      ]
     },
     "metadata": {},
     "output_type": "display_data"
    }
   ],
   "source": [
    "display_data(predator.predictions['hnsc_predictions_prob_data'])"
   ]
  },
  {
   "cell_type": "code",
   "execution_count": 18,
   "id": "f2b38467-e658-4ed6-9ac0-6de1f1017ce7",
   "metadata": {
    "pycharm": {
     "name": "#%%\n"
    }
   },
   "outputs": [
    {
     "data": {
      "image/png": "[encoded data removed]",
      "text/plain": [
       "<Figure size 432x288 with 1 Axes>"
      ]
     },
     "metadata": {
      "needs_background": "light"
     },
     "output_type": "display_data"
    }
   ],
   "source": [
    "predator.predictions.plot_ensemble_prediction_distribution(\"hnsc\")"
   ]
  },
  {
   "cell_type": "code",
   "execution_count": 19,
   "id": "c454d6a9-5c73-4fe6-b609-e7b160e2ddb8",
   "metadata": {
    "pycharm": {
     "name": "#%%\n"
    }
   },
   "outputs": [
    {
     "name": "stdout",
     "output_type": "stream",
     "text": [
      "\u001b[36mData dimensions: (4137, 4)\u001b[0m\n"
     ]
    },
    {
     "data": {
      "text/html": [
       "<div>\n",
       "<style scoped>\n",
       "    .dataframe tbody tr th:only-of-type {\n",
       "        vertical-align: middle;\n",
       "    }\n",
       "\n",
       "    .dataframe tbody tr th {\n",
       "        vertical-align: top;\n",
       "    }\n",
       "\n",
       "    .dataframe thead th {\n",
       "        text-align: right;\n",
       "    }\n",
       "</style>\n",
       "<table border=\"1\" class=\"dataframe\">\n",
       "  <thead>\n",
       "    <tr style=\"text-align: right;\">\n",
       "      <th></th>\n",
       "      <th>UniProt_ID</th>\n",
       "      <th>Mutation</th>\n",
       "      <th>Interactor_UniProt_ID</th>\n",
       "      <th>Prediction</th>\n",
       "    </tr>\n",
       "  </thead>\n",
       "  <tbody>\n",
       "    <tr>\n",
       "      <th>0</th>\n",
       "      <td>Q13485</td>\n",
       "      <td>R361H</td>\n",
       "      <td>B7Z5N5</td>\n",
       "      <td>1</td>\n",
       "    </tr>\n",
       "    <tr>\n",
       "      <th>1</th>\n",
       "      <td>Q13485</td>\n",
       "      <td>R361H</td>\n",
       "      <td>Q68DB7</td>\n",
       "      <td>1</td>\n",
       "    </tr>\n",
       "    <tr>\n",
       "      <th>2</th>\n",
       "      <td>Q13485</td>\n",
       "      <td>R361H</td>\n",
       "      <td>Q53XR6</td>\n",
       "      <td>1</td>\n",
       "    </tr>\n",
       "  </tbody>\n",
       "</table>\n",
       "</div>"
      ],
      "text/plain": [
       "  UniProt_ID Mutation Interactor_UniProt_ID Prediction\n",
       "0     Q13485    R361H                B7Z5N5          1\n",
       "1     Q13485    R361H                Q68DB7          1\n",
       "2     Q13485    R361H                Q53XR6          1"
      ]
     },
     "metadata": {},
     "output_type": "display_data"
    }
   ],
   "source": [
    "hnsc_prediction_results_soft = predator.predictions['hnsc_prediction_results']\n",
    "display_data(hnsc_prediction_results_soft)"
   ]
  },
  {
   "cell_type": "code",
   "execution_count": 20,
   "id": "569c4dd1-e2d9-40d0-b7c0-1cc177adfabb",
   "metadata": {
    "pycharm": {
     "name": "#%%\n"
    }
   },
   "outputs": [
    {
     "name": "stdout",
     "output_type": "stream",
     "text": [
      "\u001b[36mData dimensions: (3990, 4)\u001b[0m\n"
     ]
    },
    {
     "data": {
      "text/html": [
       "<div>\n",
       "<style scoped>\n",
       "    .dataframe tbody tr th:only-of-type {\n",
       "        vertical-align: middle;\n",
       "    }\n",
       "\n",
       "    .dataframe tbody tr th {\n",
       "        vertical-align: top;\n",
       "    }\n",
       "\n",
       "    .dataframe thead th {\n",
       "        text-align: right;\n",
       "    }\n",
       "</style>\n",
       "<table border=\"1\" class=\"dataframe\">\n",
       "  <thead>\n",
       "    <tr style=\"text-align: right;\">\n",
       "      <th></th>\n",
       "      <th>UniProt_ID</th>\n",
       "      <th>Mutation</th>\n",
       "      <th>Interactor_UniProt_ID</th>\n",
       "      <th>Prediction</th>\n",
       "    </tr>\n",
       "  </thead>\n",
       "  <tbody>\n",
       "    <tr>\n",
       "      <th>0</th>\n",
       "      <td>Q13485</td>\n",
       "      <td>R361H</td>\n",
       "      <td>B7Z5N5</td>\n",
       "      <td>1</td>\n",
       "    </tr>\n",
       "    <tr>\n",
       "      <th>1</th>\n",
       "      <td>Q13485</td>\n",
       "      <td>R361H</td>\n",
       "      <td>Q68DB7</td>\n",
       "      <td>1</td>\n",
       "    </tr>\n",
       "    <tr>\n",
       "      <th>2</th>\n",
       "      <td>Q13485</td>\n",
       "      <td>R361H</td>\n",
       "      <td>Q53XR6</td>\n",
       "      <td>1</td>\n",
       "    </tr>\n",
       "  </tbody>\n",
       "</table>\n",
       "</div>"
      ],
      "text/plain": [
       "  UniProt_ID Mutation Interactor_UniProt_ID Prediction\n",
       "0     Q13485    R361H                B7Z5N5          1\n",
       "1     Q13485    R361H                Q68DB7          1\n",
       "2     Q13485    R361H                Q53XR6          1"
      ]
     },
     "metadata": {},
     "output_type": "display_data"
    }
   ],
   "source": [
    "hnsc_prediction_results_soft_no_votes_dropped = predator.predictions[\"hnsc_prediction_results_no_votes_dropped\"]\n",
    "display_data(hnsc_prediction_results_soft_no_votes_dropped)"
   ]
  },
  {
   "cell_type": "code",
   "execution_count": 21,
   "id": "d1100263-ae65-405f-a13d-896927fdc1c5",
   "metadata": {
    "pycharm": {
     "name": "#%%\n"
    }
   },
   "outputs": [
    {
     "name": "stdout",
     "output_type": "stream",
     "text": [
      "\u001b[36mLabel counts:\n",
      "Increasing + No Effect    1855\n",
      "Disrupting                2135\n",
      "Name: Prediction, dtype: int64\u001b[0m\n"
     ]
    },
    {
     "data": {
      "image/png": "[encoded data removed]",
      "text/plain": [
       "<Figure size 432x288 with 1 Axes>"
      ]
     },
     "metadata": {},
     "output_type": "display_data"
    }
   ],
   "source": [
    "visualize_label_counts(hnsc_prediction_results_soft_no_votes_dropped, 'Prediction')"
   ]
  },
  {
   "cell_type": "code",
   "execution_count": 22,
   "id": "37c0a11a-e87e-40af-ba8a-8a28b82d956d",
   "metadata": {
    "pycharm": {
     "name": "#%%\n"
    }
   },
   "outputs": [],
   "source": [
    "hnsc_ensemble_prediction_data_soft = predator.predictions[\"hnsc_ensemble_prediction_data\"]"
   ]
  },
  {
   "cell_type": "code",
   "execution_count": 23,
   "id": "e4995e62-dfd6-4b54-bd6c-67a62eefb6a6",
   "metadata": {
    "pycharm": {
     "name": "#%%\n"
    }
   },
   "outputs": [],
   "source": [
    "hnsc_predictions_prob_data_soft = predator.predictions[\"hnsc_predictions_prob_data\"]"
   ]
  },
  {
   "cell_type": "code",
   "execution_count": 23,
   "id": "dabc60aa-0a63-4016-bbef-4f8788b625ed",
   "metadata": {
    "pycharm": {
     "name": "#%%\n"
    }
   },
   "outputs": [],
   "source": []
  },
  {
   "cell_type": "code",
   "execution_count": 24,
   "id": "a84ab98c-1e29-413a-8c6e-514b747fd38f",
   "metadata": {
    "pycharm": {
     "name": "#%%\n"
    }
   },
   "outputs": [],
   "source": [
    "def add_median_probabilities(prediction_results, predictions_prob_data):\n",
    "    assert len(prediction_results) == len(predictions_prob_data)\n",
    "    prediction_results_with_probabilities = prediction_results.copy()\n",
    "    prediction_results_with_probabilities[\"Median_Probability\"] = predictions_prob_data[\"PROB_1s_AVG\"]\n",
    "    return prediction_results_with_probabilities"
   ]
  },
  {
   "cell_type": "code",
   "execution_count": 25,
   "id": "b8955db8-7279-4644-acb9-6297e6e1c43c",
   "metadata": {
    "pycharm": {
     "name": "#%%\n"
    }
   },
   "outputs": [
    {
     "data": {
      "text/html": [
       "<div>\n",
       "<style scoped>\n",
       "    .dataframe tbody tr th:only-of-type {\n",
       "        vertical-align: middle;\n",
       "    }\n",
       "\n",
       "    .dataframe tbody tr th {\n",
       "        vertical-align: top;\n",
       "    }\n",
       "\n",
       "    .dataframe thead th {\n",
       "        text-align: right;\n",
       "    }\n",
       "</style>\n",
       "<table border=\"1\" class=\"dataframe\">\n",
       "  <thead>\n",
       "    <tr style=\"text-align: right;\">\n",
       "      <th></th>\n",
       "      <th>UniProt_ID</th>\n",
       "      <th>Mutation</th>\n",
       "      <th>Interactor_UniProt_ID</th>\n",
       "      <th>Prediction</th>\n",
       "      <th>Median_Probability</th>\n",
       "    </tr>\n",
       "  </thead>\n",
       "  <tbody>\n",
       "    <tr>\n",
       "      <th>0</th>\n",
       "      <td>Q13485</td>\n",
       "      <td>R361H</td>\n",
       "      <td>B7Z5N5</td>\n",
       "      <td>1</td>\n",
       "      <td>0.55795</td>\n",
       "    </tr>\n",
       "    <tr>\n",
       "      <th>1</th>\n",
       "      <td>Q13485</td>\n",
       "      <td>R361H</td>\n",
       "      <td>Q68DB7</td>\n",
       "      <td>1</td>\n",
       "      <td>0.51532</td>\n",
       "    </tr>\n",
       "    <tr>\n",
       "      <th>2</th>\n",
       "      <td>Q13485</td>\n",
       "      <td>R361H</td>\n",
       "      <td>Q53XR6</td>\n",
       "      <td>1</td>\n",
       "      <td>0.65254</td>\n",
       "    </tr>\n",
       "    <tr>\n",
       "      <th>3</th>\n",
       "      <td>Q9Y566</td>\n",
       "      <td>R2148H</td>\n",
       "      <td>Q9BYB0</td>\n",
       "      <td>1</td>\n",
       "      <td>0.83425</td>\n",
       "    </tr>\n",
       "    <tr>\n",
       "      <th>4</th>\n",
       "      <td>O15116</td>\n",
       "      <td>L87I</td>\n",
       "      <td>Q9Y333</td>\n",
       "      <td>0</td>\n",
       "      <td>0.192</td>\n",
       "    </tr>\n",
       "  </tbody>\n",
       "</table>\n",
       "</div>"
      ],
      "text/plain": [
       "  UniProt_ID Mutation Interactor_UniProt_ID Prediction Median_Probability\n",
       "0     Q13485    R361H                B7Z5N5          1            0.55795\n",
       "1     Q13485    R361H                Q68DB7          1            0.51532\n",
       "2     Q13485    R361H                Q53XR6          1            0.65254\n",
       "3     Q9Y566   R2148H                Q9BYB0          1            0.83425\n",
       "4     O15116     L87I                Q9Y333          0              0.192"
      ]
     },
     "execution_count": 25,
     "metadata": {},
     "output_type": "execute_result"
    }
   ],
   "source": [
    "hnsc_prediction_results_soft_with_median_probs = add_median_probabilities(\n",
    "    prediction_results=predator.predictions[\"hnsc_prediction_results\"],\n",
    "    predictions_prob_data=predator.predictions[\"hnsc_predictions_prob_data\"]\n",
    ")\n",
    "hnsc_prediction_results_soft_with_median_probs.head()"
   ]
  },
  {
   "cell_type": "code",
   "execution_count": 26,
   "id": "5328bf48-72fa-4a0c-86c5-76e0939b0e5c",
   "metadata": {
    "pycharm": {
     "name": "#%%\n"
    }
   },
   "outputs": [],
   "source": [
    "hnsc_prediction_results_soft_no_votes_dropped_with_median_probabilities = hnsc_prediction_results_soft_with_median_probs[\n",
    "    hnsc_prediction_results_soft_with_median_probs['Prediction'].isin([0, 1])\n",
    "]"
   ]
  },
  {
   "cell_type": "code",
   "execution_count": 27,
   "id": "5040e7d0-4bd2-4197-8a21-58bfd68b6c76",
   "metadata": {
    "pycharm": {
     "name": "#%%\n"
    }
   },
   "outputs": [
    {
     "data": {
      "text/plain": [
       "3990"
      ]
     },
     "execution_count": 27,
     "metadata": {},
     "output_type": "execute_result"
    }
   ],
   "source": [
    "len(hnsc_prediction_results_soft_no_votes_dropped_with_median_probabilities)"
   ]
  },
  {
   "cell_type": "code",
   "execution_count": 27,
   "id": "74edfa14-8b5d-40da-9c1a-868a55070c3f",
   "metadata": {
    "pycharm": {
     "name": "#%%\n"
    }
   },
   "outputs": [],
   "source": []
  },
  {
   "cell_type": "markdown",
   "id": "412859ae-c188-410e-85ef-7df91b9d2b89",
   "metadata": {
    "pycharm": {
     "name": "#%% md\n"
    }
   },
   "source": [
    "## Exporting Predictions"
   ]
  },
  {
   "cell_type": "code",
   "execution_count": 28,
   "id": "4042b8ce-498b-4c6c-b964-bbf7632e4ae6",
   "metadata": {
    "pycharm": {
     "name": "#%%\n"
    }
   },
   "outputs": [
    {
     "name": "stdout",
     "output_type": "stream",
     "text": [
      "\u001b[36mData dimensions: (3990, 5)\u001b[0m\n"
     ]
    },
    {
     "data": {
      "text/html": [
       "<div>\n",
       "<style scoped>\n",
       "    .dataframe tbody tr th:only-of-type {\n",
       "        vertical-align: middle;\n",
       "    }\n",
       "\n",
       "    .dataframe tbody tr th {\n",
       "        vertical-align: top;\n",
       "    }\n",
       "\n",
       "    .dataframe thead th {\n",
       "        text-align: right;\n",
       "    }\n",
       "</style>\n",
       "<table border=\"1\" class=\"dataframe\">\n",
       "  <thead>\n",
       "    <tr style=\"text-align: right;\">\n",
       "      <th></th>\n",
       "      <th>UniProt_ID</th>\n",
       "      <th>Mutation</th>\n",
       "      <th>Interactor_UniProt_ID</th>\n",
       "      <th>Prediction</th>\n",
       "      <th>Median_Probability</th>\n",
       "    </tr>\n",
       "  </thead>\n",
       "  <tbody>\n",
       "    <tr>\n",
       "      <th>0</th>\n",
       "      <td>Q13485</td>\n",
       "      <td>R361H</td>\n",
       "      <td>B7Z5N5</td>\n",
       "      <td>1</td>\n",
       "      <td>0.55795</td>\n",
       "    </tr>\n",
       "    <tr>\n",
       "      <th>1</th>\n",
       "      <td>Q13485</td>\n",
       "      <td>R361H</td>\n",
       "      <td>Q68DB7</td>\n",
       "      <td>1</td>\n",
       "      <td>0.51532</td>\n",
       "    </tr>\n",
       "    <tr>\n",
       "      <th>2</th>\n",
       "      <td>Q13485</td>\n",
       "      <td>R361H</td>\n",
       "      <td>Q53XR6</td>\n",
       "      <td>1</td>\n",
       "      <td>0.65254</td>\n",
       "    </tr>\n",
       "  </tbody>\n",
       "</table>\n",
       "</div>"
      ],
      "text/plain": [
       "  UniProt_ID Mutation Interactor_UniProt_ID Prediction Median_Probability\n",
       "0     Q13485    R361H                B7Z5N5          1            0.55795\n",
       "1     Q13485    R361H                Q68DB7          1            0.51532\n",
       "2     Q13485    R361H                Q53XR6          1            0.65254"
      ]
     },
     "metadata": {},
     "output_type": "display_data"
    }
   ],
   "source": [
    "# hnsc_prediction_results = hnsc_prediction_results_hard_no_votes_dropped\n",
    "# hnsc_prediction_results = hnsc_prediction_results_soft_no_votes_dropped\n",
    "hnsc_prediction_results = hnsc_prediction_results_soft_no_votes_dropped_with_median_probabilities\n",
    "display_data(hnsc_prediction_results)"
   ]
  },
  {
   "cell_type": "code",
   "execution_count": 29,
   "id": "4ab9fbc1-d3d2-4424-99ac-aa5515070d71",
   "metadata": {
    "pycharm": {
     "name": "#%%\n"
    }
   },
   "outputs": [
    {
     "name": "stdout",
     "output_type": "stream",
     "text": [
      "2022-06-17 10:15:27 |\u001b[36m DEBUG    \u001b[0m| helpers.helpers_predator.common | Folder with ID 76f498d9 is created.\n",
      "2022-06-17 10:15:27 |\u001b[36m DEBUG    \u001b[0m| helpers.helpers_predator.common | Exporting data predictions at location ../data/predictions_datasets/ in folder hnsc_prediction_2022-06-17\\76f498d9..\n",
      "2022-06-17 10:15:27 |\u001b[32m INFO     \u001b[0m| helpers.helpers_predator.common | ../data/predictions_datasets/hnsc_prediction_2022-06-17\\76f498d9\\predictions_soft_2022-06-17.csv is exported successfully.\n",
      "2022-06-17 10:15:27 |\u001b[32m INFO     \u001b[0m| helpers.helpers_predator.common | Config is exported.\n"
     ]
    }
   ],
   "source": [
    "predator.export_prediction(\n",
    "    tcga=\"hnsc\",\n",
    "    data=hnsc_prediction_results,\n",
    "    file_name=\"predictions\",\n",
    "    folder_path=PREDICTIONS_DATASETS_FOLDER_PATH,\n",
    "    voting=\"soft\",\n",
    "    overwrite=False,\n",
    "    file_extension='csv'\n",
    ")"
   ]
  },
  {
   "cell_type": "markdown",
   "id": "fbc616a5-ce63-4b93-a858-b3d22fdce070",
   "metadata": {
    "pycharm": {
     "name": "#%% md\n"
    }
   },
   "source": [
    "---"
   ]
  },
  {
   "cell_type": "code",
   "execution_count": 29,
   "id": "022f80a1",
   "metadata": {
    "collapsed": false,
    "jupyter": {
     "outputs_hidden": false
    },
    "pycharm": {
     "name": "#%%\n"
    }
   },
   "outputs": [],
   "source": []
  },
  {
   "cell_type": "code",
   "execution_count": null,
   "id": "bd7285e9",
   "metadata": {
    "collapsed": false,
    "jupyter": {
     "outputs_hidden": false
    },
    "pycharm": {
     "name": "#%%\n"
    }
   },
   "outputs": [],
   "source": []
  }
 ],
 "metadata": {
  "kernelspec": {
   "display_name": "Predator",
   "language": "python",
   "name": "predator"
  },
  "language_info": {
   "codemirror_mode": {
    "name": "ipython",
    "version": 3
   },
   "file_extension": ".py",
   "mimetype": "text/x-python",
   "name": "python",
   "nbconvert_exporter": "python",
   "pygments_lexer": "ipython3",
   "version": "3.8.13"
  },
  "toc-autonumbering": false
 },
 "nbformat": 4,
 "nbformat_minor": 5
}
