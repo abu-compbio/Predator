{
 "cells": [
  {
   "cell_type": "markdown",
   "id": "b0eea2f9-919a-44d2-970f-da295e7b77c5",
   "metadata": {
    "tags": [],
    "pycharm": {
     "name": "#%% md\n"
    }
   },
   "source": [
    "# PREDATOR: **PRED**icting the imp**A**ct of cancer somatic mu**T**ations on pr**O**tein-protein inte**R**actions\n"
   ]
  },
  {
   "cell_type": "markdown",
   "id": "0fc1bee2-776f-46dc-9aa7-80e979b941df",
   "metadata": {
    "pycharm": {
     "name": "#%% md\n"
    }
   },
   "source": [
    "## OV"
   ]
  },
  {
   "cell_type": "markdown",
   "id": "f412b89c-b553-4606-95fb-d30520f77b97",
   "metadata": {
    "pycharm": {
     "name": "#%% md\n"
    }
   },
   "source": [
    "\n",
    "<b><i class=\"fa fa-folder-o\" area-hidden=\"true\" style=\"color:#1976D2\"> </i>&nbsp; File Location</b><br>\n",
    "<p style=\"background:#F5F5F5; text-indent: 1em;\">\n",
    "<code style=\"background:#F5F5F5; color:#404040; font-weight:bold; font-size:12px\">Predator\\src</code>\n",
    "</p>\n",
    "\n",
    "<b><i class=\"far fa-file\" area-hidden=\"true\" style=\"color:#1976D2\"> </i>&nbsp; File Name</b>\n",
    "<p style=\"background:#F5F5F5; text-indent: 1em;\">\n",
    "<code style=\"background:#F5F5F5; color:#404040; font-weight:bold; font-size:12px\">PredatorStudy_OV.ipynb</code>\n",
    "</p>\n",
    "\n",
    "<b><i class=\"far fa-calendar-alt\" area-hidden=\"true\" style=\"color:#1976D2\"> </i>&nbsp; Last Edited</b>\n",
    "<p style=\"background:#F5F5F5; text-indent: 1em;\">\n",
    "<code style=\"background:#F5F5F5; color:#404040; font-weight:bold; font-size:12px\">June 17th, 2022</code>\n",
    "</p>\n"
   ]
  },
  {
   "cell_type": "markdown",
   "id": "8931daec-0e11-43e2-8a68-098571c3cc4e",
   "metadata": {
    "pycharm": {
     "name": "#%% md\n"
    }
   },
   "source": [
    "<div class=\"alert alert-block\" style=\"background-color: #F5F5F5; border: 1px solid; padding: 10px; border-color: #E0E0E0\">\n",
    "    <b><i class=\"fa fa-compass\" aria-hidden=\"true\" style=\"color:#404040\"></i></b>&nbsp; <b style=\"color: #404040\">Purpose </b> <br>\n",
    "<div>\n",
    "   \n",
    "- [x] Apply on Cancer Datasets\n",
    "    > OV\n",
    "    \n",
    "**Dependent files:**\n",
    "\n",
    "* Target (Cancer) data: \n",
    "    - *OV_Interface.txt*"
   ]
  },
  {
   "cell_type": "code",
   "execution_count": 1,
   "id": "3f602602-ac27-4390-9521-9bcdc73f06ef",
   "metadata": {
    "pycharm": {
     "name": "#%%\n"
    }
   },
   "outputs": [],
   "source": [
    "from pathlib import Path\n",
    "\n",
    "from helpers.helpers_predator.displayers import (\n",
    "    visualize_label_counts,\n",
    "    display_data,\n",
    ")\n",
    "\n",
    "from helpers.helpers_predator.common import load_predator\n",
    "\n",
    "# PATHS\n",
    "OV_PATH = Path(r\"../data/Elaspic_merged_results/OV_Interface_2021-11-17.txt\")\n",
    "PREDATOR_MODEL_PATH = Path(r\"PredatorModels/PredatorModel_2022-06-16/cc84a54e/predator.pkl\")\n",
    "PREDICTIONS_DATASETS_FOLDER_PATH = \"../data/predictions_datasets/\"\n",
    "\n",
    "# Reflect changes in the modules immediately.\n",
    "%load_ext autoreload\n",
    "%autoreload 2"
   ]
  },
  {
   "cell_type": "markdown",
   "id": "c47b1edb-758c-460e-acf7-4f864330d19b",
   "metadata": {
    "pycharm": {
     "name": "#%% md\n"
    }
   },
   "source": [
    "## Load the Predator"
   ]
  },
  {
   "cell_type": "code",
   "execution_count": 2,
   "id": "0c164c31-9b7e-4366-8336-50cbc80bf9c7",
   "metadata": {
    "pycharm": {
     "name": "#%%\n"
    }
   },
   "outputs": [
    {
     "name": "stdout",
     "output_type": "stream",
     "text": [
      "2022-06-17 09:37:05 |\u001B[32m INFO     \u001B[0m| helpers.helpers_predator.common | Predator object PredatorModels\\PredatorModel_2022-06-16\\cc84a54e\\predator.pkl is loaded successfully.\n"
     ]
    }
   ],
   "source": [
    "predator = load_predator(PREDATOR_MODEL_PATH)"
   ]
  },
  {
   "cell_type": "markdown",
   "id": "60f783e4-28bb-4543-9d35-42c4b17b37b8",
   "metadata": {
    "pycharm": {
     "name": "#%% md\n"
    }
   },
   "source": [
    "## Prediction TCGA on Cancer Dataset: OV"
   ]
  },
  {
   "cell_type": "code",
   "execution_count": 3,
   "id": "c27cc976-e356-4271-85e9-f23c9366dc67",
   "metadata": {
    "pycharm": {
     "name": "#%%\n"
    }
   },
   "outputs": [
    {
     "name": "stdout",
     "output_type": "stream",
     "text": [
      "2022-06-17 09:37:05 |\u001B[36m DEBUG    \u001B[0m| helpers.helpers_predator.data_materials | Initialize `ov` ..\n",
      "2022-06-17 09:37:05 |\u001B[36m DEBUG    \u001B[0m| helpers.helpers_predator.data_materials | Initialize `target_ov_data` ..\n",
      "2022-06-17 09:37:05 |\u001B[36m DEBUG    \u001B[0m| helpers.helpers_predator.data_materials | Initializing target data materials ..\n",
      "2022-06-17 09:37:05 |\u001B[36m DEBUG    \u001B[0m| helpers.helpers_predator.data_materials | Determined features: ['EL2_score', 'Provean_score', 'Final_ddG', 'Interactor_alignment_score', 'Matrix_score', 'Solvent_accessibility_wt', 'van_der_waals_mut', 'Solvent_accessibility_mut', 'Interactor_template_sequence_identity', 'solvation_polar_wt']\n",
      "2022-06-17 09:37:05 |\u001B[36m DEBUG    \u001B[0m| helpers.helpers_predator.data_materials | Declaring Xs_ov data materials  ..\n"
     ]
    }
   ],
   "source": [
    "predator.initialize_target_data_materials(\n",
    "    tcga_code_path_pairs=[('ov', OV_PATH)]\n",
    ")"
   ]
  },
  {
   "cell_type": "markdown",
   "id": "245b2b8c-0c70-4cd5-9a09-b3428cf0b048",
   "metadata": {
    "tags": [],
    "pycharm": {
     "name": "#%% md\n"
    }
   },
   "source": [
    "#### TCGA Cancer Datasets"
   ]
  },
  {
   "cell_type": "markdown",
   "id": "4ab061ec-37b5-4651-a5c0-1f1238e7a08a",
   "metadata": {
    "pycharm": {
     "name": "#%% md\n"
    }
   },
   "source": [
    "##### OV"
   ]
  },
  {
   "cell_type": "code",
   "execution_count": 4,
   "id": "342221d3-8e16-42eb-9801-20a3efed64f5",
   "metadata": {
    "pycharm": {
     "name": "#%%\n"
    }
   },
   "outputs": [
    {
     "name": "stdout",
     "output_type": "stream",
     "text": [
      "\u001B[36mData dimensions: (5092, 103)\u001B[0m\n"
     ]
    },
    {
     "data": {
      "text/plain": "  Input_identifier UniProt_ID Mutation Status       Type COSMIC_mut_ID  \\\n0           P08134     P08134     D59E   done  interface     COSM72427   \n1           P08134     P08134     D59E   done  interface     COSM72427   \n2           P62993     P62993      A3V   done  interface             -   \n\n  ClinVar_mut_ID UniProt_mut_ID Domain_name Domain_clan  ...  \\\n0              -              -         Ras         Ras  ...   \n1              -              -         Ras         Ras  ...   \n2              -              -       SH3_1       SH3_1  ...   \n\n  number_of_residues_mut IntraclashesEnergy1_wt  IntraclashesEnergy1_mut  \\\n0                  388.0                53.3423                  55.3148   \n1                  344.0                62.3140                  63.0691   \n2                  280.0                23.2774                  24.5177   \n\n   IntraclashesEnergy2_wt IntraclashesEnergy2_mut Interface_hydrophobic_area  \\\n0                 37.8150                 37.8150                    719.095   \n1                 32.5038                 32.5038                     598.71   \n2                122.5120                122.5120                     170.81   \n\n  Interface_hydrophilic_area Interface_total_area  \\\n0                    461.785              1180.88   \n1                     417.74              1016.46   \n2                    120.515              291.325   \n\n  Interface_contact_distance_wt  Interface_contact_distance_mut  \n0                       3.18062                         3.18062  \n1                       3.80414                         3.80414  \n2                       4.63364                         4.63364  \n\n[3 rows x 103 columns]",
      "text/html": "<div>\n<style scoped>\n    .dataframe tbody tr th:only-of-type {\n        vertical-align: middle;\n    }\n\n    .dataframe tbody tr th {\n        vertical-align: top;\n    }\n\n    .dataframe thead th {\n        text-align: right;\n    }\n</style>\n<table border=\"1\" class=\"dataframe\">\n  <thead>\n    <tr style=\"text-align: right;\">\n      <th></th>\n      <th>Input_identifier</th>\n      <th>UniProt_ID</th>\n      <th>Mutation</th>\n      <th>Status</th>\n      <th>Type</th>\n      <th>COSMIC_mut_ID</th>\n      <th>ClinVar_mut_ID</th>\n      <th>UniProt_mut_ID</th>\n      <th>Domain_name</th>\n      <th>Domain_clan</th>\n      <th>...</th>\n      <th>number_of_residues_mut</th>\n      <th>IntraclashesEnergy1_wt</th>\n      <th>IntraclashesEnergy1_mut</th>\n      <th>IntraclashesEnergy2_wt</th>\n      <th>IntraclashesEnergy2_mut</th>\n      <th>Interface_hydrophobic_area</th>\n      <th>Interface_hydrophilic_area</th>\n      <th>Interface_total_area</th>\n      <th>Interface_contact_distance_wt</th>\n      <th>Interface_contact_distance_mut</th>\n    </tr>\n  </thead>\n  <tbody>\n    <tr>\n      <th>0</th>\n      <td>P08134</td>\n      <td>P08134</td>\n      <td>D59E</td>\n      <td>done</td>\n      <td>interface</td>\n      <td>COSM72427</td>\n      <td>-</td>\n      <td>-</td>\n      <td>Ras</td>\n      <td>Ras</td>\n      <td>...</td>\n      <td>388.0</td>\n      <td>53.3423</td>\n      <td>55.3148</td>\n      <td>37.8150</td>\n      <td>37.8150</td>\n      <td>719.095</td>\n      <td>461.785</td>\n      <td>1180.88</td>\n      <td>3.18062</td>\n      <td>3.18062</td>\n    </tr>\n    <tr>\n      <th>1</th>\n      <td>P08134</td>\n      <td>P08134</td>\n      <td>D59E</td>\n      <td>done</td>\n      <td>interface</td>\n      <td>COSM72427</td>\n      <td>-</td>\n      <td>-</td>\n      <td>Ras</td>\n      <td>Ras</td>\n      <td>...</td>\n      <td>344.0</td>\n      <td>62.3140</td>\n      <td>63.0691</td>\n      <td>32.5038</td>\n      <td>32.5038</td>\n      <td>598.71</td>\n      <td>417.74</td>\n      <td>1016.46</td>\n      <td>3.80414</td>\n      <td>3.80414</td>\n    </tr>\n    <tr>\n      <th>2</th>\n      <td>P62993</td>\n      <td>P62993</td>\n      <td>A3V</td>\n      <td>done</td>\n      <td>interface</td>\n      <td>-</td>\n      <td>-</td>\n      <td>-</td>\n      <td>SH3_1</td>\n      <td>SH3_1</td>\n      <td>...</td>\n      <td>280.0</td>\n      <td>23.2774</td>\n      <td>24.5177</td>\n      <td>122.5120</td>\n      <td>122.5120</td>\n      <td>170.81</td>\n      <td>120.515</td>\n      <td>291.325</td>\n      <td>4.63364</td>\n      <td>4.63364</td>\n    </tr>\n  </tbody>\n</table>\n<p>3 rows × 103 columns</p>\n</div>"
     },
     "metadata": {},
     "output_type": "display_data"
    }
   ],
   "source": [
    "display_data(predator.data_materials[\"ov\"])"
   ]
  },
  {
   "cell_type": "markdown",
   "id": "a22d630d-e0a0-4417-aa64-0df18f8f3a63",
   "metadata": {
    "tags": [],
    "pycharm": {
     "name": "#%% md\n"
    }
   },
   "source": [
    "#### Preprocessed TCGA Cancer Datasets"
   ]
  },
  {
   "cell_type": "markdown",
   "id": "ca038a01-2691-4943-9d7e-55a41661f3cc",
   "metadata": {
    "pycharm": {
     "name": "#%% md\n"
    }
   },
   "source": [
    "##### OV"
   ]
  },
  {
   "cell_type": "code",
   "execution_count": 5,
   "id": "67f55bd2-c25a-4d6c-ba5b-08957cf03852",
   "metadata": {
    "pycharm": {
     "name": "#%%\n"
    }
   },
   "outputs": [
    {
     "name": "stdout",
     "output_type": "stream",
     "text": [
      "\u001B[36mData dimensions: (5092, 61)\u001B[0m\n"
     ]
    },
    {
     "data": {
      "text/plain": "  UniProt_ID Mutation Interactor_UniProt_ID  Template_sequence_identity  \\\n0     P08134     D59E                P52565                      0.9263   \n1     P08134     D59E              P52565-2                      0.9263   \n2     P62993      A3V              Q9H8V3-2                      0.4444   \n\n   Alignment_score  Interactor_template_sequence_identity  \\\n0         0.915529                                 0.9394   \n1         0.915529                                 0.7222   \n2         0.463595                                 0.2792   \n\n   Interactor_alignment_score  Final_ddG  ProtBert_score  ProteinSolver_score  \\\n0                    0.914711   1.492640        0.999329             0.046801   \n1                    0.708487   0.762694        0.999029             0.004062   \n2                    0.262235   1.964490       -0.080548             0.456549   \n\n   ...  number_of_residues_mut  IntraclashesEnergy1_wt  \\\n0  ...                   388.0                 53.3423   \n1  ...                   344.0                 62.3140   \n2  ...                   280.0                 23.2774   \n\n   IntraclashesEnergy1_mut  IntraclashesEnergy2_wt  IntraclashesEnergy2_mut  \\\n0                  55.3148                 37.8150                  37.8150   \n1                  63.0691                 32.5038                  32.5038   \n2                  24.5177                122.5120                 122.5120   \n\n   Interface_hydrophobic_area  Interface_hydrophilic_area  \\\n0                     719.095                     461.785   \n1                     598.710                     417.740   \n2                     170.810                     120.515   \n\n   Interface_total_area  Interface_contact_distance_wt  \\\n0              1180.880                        3.18062   \n1              1016.460                        3.80414   \n2               291.325                        4.63364   \n\n   Interface_contact_distance_mut  \n0                         3.18062  \n1                         3.80414  \n2                         4.63364  \n\n[3 rows x 61 columns]",
      "text/html": "<div>\n<style scoped>\n    .dataframe tbody tr th:only-of-type {\n        vertical-align: middle;\n    }\n\n    .dataframe tbody tr th {\n        vertical-align: top;\n    }\n\n    .dataframe thead th {\n        text-align: right;\n    }\n</style>\n<table border=\"1\" class=\"dataframe\">\n  <thead>\n    <tr style=\"text-align: right;\">\n      <th></th>\n      <th>UniProt_ID</th>\n      <th>Mutation</th>\n      <th>Interactor_UniProt_ID</th>\n      <th>Template_sequence_identity</th>\n      <th>Alignment_score</th>\n      <th>Interactor_template_sequence_identity</th>\n      <th>Interactor_alignment_score</th>\n      <th>Final_ddG</th>\n      <th>ProtBert_score</th>\n      <th>ProteinSolver_score</th>\n      <th>...</th>\n      <th>number_of_residues_mut</th>\n      <th>IntraclashesEnergy1_wt</th>\n      <th>IntraclashesEnergy1_mut</th>\n      <th>IntraclashesEnergy2_wt</th>\n      <th>IntraclashesEnergy2_mut</th>\n      <th>Interface_hydrophobic_area</th>\n      <th>Interface_hydrophilic_area</th>\n      <th>Interface_total_area</th>\n      <th>Interface_contact_distance_wt</th>\n      <th>Interface_contact_distance_mut</th>\n    </tr>\n  </thead>\n  <tbody>\n    <tr>\n      <th>0</th>\n      <td>P08134</td>\n      <td>D59E</td>\n      <td>P52565</td>\n      <td>0.9263</td>\n      <td>0.915529</td>\n      <td>0.9394</td>\n      <td>0.914711</td>\n      <td>1.492640</td>\n      <td>0.999329</td>\n      <td>0.046801</td>\n      <td>...</td>\n      <td>388.0</td>\n      <td>53.3423</td>\n      <td>55.3148</td>\n      <td>37.8150</td>\n      <td>37.8150</td>\n      <td>719.095</td>\n      <td>461.785</td>\n      <td>1180.880</td>\n      <td>3.18062</td>\n      <td>3.18062</td>\n    </tr>\n    <tr>\n      <th>1</th>\n      <td>P08134</td>\n      <td>D59E</td>\n      <td>P52565-2</td>\n      <td>0.9263</td>\n      <td>0.915529</td>\n      <td>0.7222</td>\n      <td>0.708487</td>\n      <td>0.762694</td>\n      <td>0.999029</td>\n      <td>0.004062</td>\n      <td>...</td>\n      <td>344.0</td>\n      <td>62.3140</td>\n      <td>63.0691</td>\n      <td>32.5038</td>\n      <td>32.5038</td>\n      <td>598.710</td>\n      <td>417.740</td>\n      <td>1016.460</td>\n      <td>3.80414</td>\n      <td>3.80414</td>\n    </tr>\n    <tr>\n      <th>2</th>\n      <td>P62993</td>\n      <td>A3V</td>\n      <td>Q9H8V3-2</td>\n      <td>0.4444</td>\n      <td>0.463595</td>\n      <td>0.2792</td>\n      <td>0.262235</td>\n      <td>1.964490</td>\n      <td>-0.080548</td>\n      <td>0.456549</td>\n      <td>...</td>\n      <td>280.0</td>\n      <td>23.2774</td>\n      <td>24.5177</td>\n      <td>122.5120</td>\n      <td>122.5120</td>\n      <td>170.810</td>\n      <td>120.515</td>\n      <td>291.325</td>\n      <td>4.63364</td>\n      <td>4.63364</td>\n    </tr>\n  </tbody>\n</table>\n<p>3 rows × 61 columns</p>\n</div>"
     },
     "metadata": {},
     "output_type": "display_data"
    }
   ],
   "source": [
    "display_data(predator.data_materials[\"target_ov_data\"])"
   ]
  },
  {
   "cell_type": "markdown",
   "id": "6cd1cc76-b56f-4789-b3b9-bf907fe7399e",
   "metadata": {
    "tags": [],
    "pycharm": {
     "name": "#%% md\n"
    }
   },
   "source": [
    "### Voting mode: `soft`"
   ]
  },
  {
   "cell_type": "code",
   "execution_count": 6,
   "id": "44e95ef5-2482-4d0d-93fa-305004853f7c",
   "metadata": {
    "pycharm": {
     "name": "#%%\n"
    }
   },
   "outputs": [
    {
     "name": "stdout",
     "output_type": "stream",
     "text": [
      "2022-06-17 09:37:10 |\u001B[36m DEBUG    \u001B[0m| helpers.helpers_predator.data_materials | Initialize `ov` ..\n",
      "2022-06-17 09:37:10 |\u001B[36m DEBUG    \u001B[0m| helpers.helpers_predator.data_materials | Initialize `target_ov_data` ..\n",
      "2022-06-17 09:37:10 |\u001B[36m DEBUG    \u001B[0m| helpers.helpers_predator.data_materials | Initializing target data materials ..\n",
      "2022-06-17 09:37:10 |\u001B[36m DEBUG    \u001B[0m| helpers.helpers_predator.data_materials | Determined features: ['EL2_score', 'Provean_score', 'Final_ddG', 'Interactor_alignment_score', 'Matrix_score', 'Solvent_accessibility_wt', 'van_der_waals_mut', 'Solvent_accessibility_mut', 'Interactor_template_sequence_identity', 'solvation_polar_wt']\n",
      "2022-06-17 09:37:10 |\u001B[36m DEBUG    \u001B[0m| helpers.helpers_predator.data_materials | Declaring Xs_ov data materials  ..\n"
     ]
    }
   ],
   "source": [
    "predator.initialize_target_data_materials(\n",
    "    tcga_code_path_pairs=[('ov', OV_PATH)]\n",
    ")"
   ]
  },
  {
   "cell_type": "code",
   "execution_count": 7,
   "id": "323fbd63-7e32-471f-8cee-4b0abf9d82dc",
   "metadata": {
    "scrolled": true,
    "tags": [],
    "pycharm": {
     "name": "#%%\n"
    }
   },
   "outputs": [
    {
     "name": "stdout",
     "output_type": "stream",
     "text": [
      "2022-06-17 09:37:11 |\u001B[36m DEBUG    \u001B[0m| Predator | Predicting on cancer datasets ..\n",
      "2022-06-17 09:37:11 |\u001B[36m DEBUG    \u001B[0m| helpers.helpers_predator.models | Initializing EnsambledVotingClassifier.\n",
      "2022-06-17 09:37:11 |\u001B[36m DEBUG    \u001B[0m| helpers.helpers_predator.models | Voting mode: soft\n",
      "2022-06-17 09:37:11 |\u001B[36m DEBUG    \u001B[0m| helpers.helpers_predator.predictions | Initializing: PredictionsSoft\n",
      "2022-06-17 09:37:11 |\u001B[36m DEBUG    \u001B[0m| Predator | Predicting on ov cohort ..\n",
      "2022-06-17 09:37:11 |\u001B[36m DEBUG    \u001B[0m| helpers.helpers_predator.models | Current estimator: RandomForestClassifier(max_depth=7, min_samples_leaf=4, min_samples_split=5,\n",
      "                       n_estimators=380, random_state=3279)\n",
      "2022-06-17 09:37:11 |\u001B[36m DEBUG    \u001B[0m| helpers.helpers_predator.models | X shape: (5092, 10)\n",
      "2022-06-17 09:37:11 |\u001B[36m DEBUG    \u001B[0m| helpers.helpers_predator.models | Current estimator: RandomForestClassifier(class_weight='balanced', max_depth=2, min_samples_leaf=2,\n",
      "                       min_samples_split=5, n_estimators=90,\n",
      "                       random_state=97197)\n",
      "2022-06-17 09:37:11 |\u001B[36m DEBUG    \u001B[0m| helpers.helpers_predator.models | X shape: (5092, 10)\n",
      "2022-06-17 09:37:11 |\u001B[36m DEBUG    \u001B[0m| helpers.helpers_predator.models | Current estimator: RandomForestClassifier(bootstrap=False, class_weight='balanced', max_depth=5,\n",
      "                       min_samples_leaf=2, n_estimators=500,\n",
      "                       random_state=29257)\n",
      "2022-06-17 09:37:11 |\u001B[36m DEBUG    \u001B[0m| helpers.helpers_predator.models | X shape: (5092, 10)\n",
      "2022-06-17 09:37:12 |\u001B[36m DEBUG    \u001B[0m| helpers.helpers_predator.models | Current estimator: RandomForestClassifier(class_weight='balanced', max_depth=3, min_samples_leaf=4,\n",
      "                       min_samples_split=5, n_estimators=480,\n",
      "                       random_state=96531)\n",
      "2022-06-17 09:37:12 |\u001B[36m DEBUG    \u001B[0m| helpers.helpers_predator.models | X shape: (5092, 10)\n",
      "2022-06-17 09:37:12 |\u001B[36m DEBUG    \u001B[0m| helpers.helpers_predator.models | Current estimator: RandomForestClassifier(class_weight='balanced', max_depth=13,\n",
      "                       min_samples_leaf=2, min_samples_split=5, n_estimators=80,\n",
      "                       random_state=13435)\n",
      "2022-06-17 09:37:12 |\u001B[36m DEBUG    \u001B[0m| helpers.helpers_predator.models | X shape: (5092, 10)\n",
      "2022-06-17 09:37:12 |\u001B[36m DEBUG    \u001B[0m| helpers.helpers_predator.models | Current estimator: RandomForestClassifier(class_weight='balanced', max_depth=10,\n",
      "                       max_features='sqrt', min_samples_leaf=4,\n",
      "                       n_estimators=340, random_state=88697)\n",
      "2022-06-17 09:37:12 |\u001B[36m DEBUG    \u001B[0m| helpers.helpers_predator.models | X shape: (5092, 10)\n",
      "2022-06-17 09:37:12 |\u001B[36m DEBUG    \u001B[0m| helpers.helpers_predator.models | Current estimator: RandomForestClassifier(class_weight='balanced', max_depth=2,\n",
      "                       max_features='sqrt', min_samples_leaf=4, n_estimators=5,\n",
      "                       random_state=97081)\n",
      "2022-06-17 09:37:12 |\u001B[36m DEBUG    \u001B[0m| helpers.helpers_predator.models | X shape: (5092, 10)\n",
      "2022-06-17 09:37:12 |\u001B[36m DEBUG    \u001B[0m| helpers.helpers_predator.models | Current estimator: RandomForestClassifier(bootstrap=False, class_weight='balanced', max_depth=9,\n",
      "                       max_features='sqrt', min_samples_leaf=2, n_estimators=50,\n",
      "                       random_state=77398)\n",
      "2022-06-17 09:37:12 |\u001B[36m DEBUG    \u001B[0m| helpers.helpers_predator.models | X shape: (5092, 10)\n",
      "2022-06-17 09:37:12 |\u001B[36m DEBUG    \u001B[0m| helpers.helpers_predator.models | Current estimator: RandomForestClassifier(class_weight='balanced', max_depth=2, n_estimators=50,\n",
      "                       random_state=55303)\n",
      "2022-06-17 09:37:12 |\u001B[36m DEBUG    \u001B[0m| helpers.helpers_predator.models | X shape: (5092, 10)\n",
      "2022-06-17 09:37:12 |\u001B[36m DEBUG    \u001B[0m| helpers.helpers_predator.models | Current estimator: RandomForestClassifier(bootstrap=False, class_weight='balanced', max_depth=5,\n",
      "                       min_samples_leaf=2, n_estimators=200, random_state=4166)\n",
      "2022-06-17 09:37:12 |\u001B[36m DEBUG    \u001B[0m| helpers.helpers_predator.models | X shape: (5092, 10)\n",
      "2022-06-17 09:37:12 |\u001B[36m DEBUG    \u001B[0m| helpers.helpers_predator.models | Current estimator: RandomForestClassifier(min_samples_leaf=2, n_estimators=60, random_state=3906)\n",
      "2022-06-17 09:37:12 |\u001B[36m DEBUG    \u001B[0m| helpers.helpers_predator.models | X shape: (5092, 10)\n",
      "2022-06-17 09:37:13 |\u001B[36m DEBUG    \u001B[0m| helpers.helpers_predator.models | Current estimator: RandomForestClassifier(class_weight='balanced', max_depth=13, max_features=None,\n",
      "                       min_samples_leaf=2, min_samples_split=5,\n",
      "                       n_estimators=600, random_state=12281)\n",
      "2022-06-17 09:37:13 |\u001B[36m DEBUG    \u001B[0m| helpers.helpers_predator.models | X shape: (5092, 10)\n",
      "2022-06-17 09:37:13 |\u001B[36m DEBUG    \u001B[0m| helpers.helpers_predator.models | Current estimator: RandomForestClassifier(bootstrap=False, class_weight='balanced', max_depth=6,\n",
      "                       min_samples_leaf=2, n_estimators=90, random_state=28658)\n",
      "2022-06-17 09:37:13 |\u001B[36m DEBUG    \u001B[0m| helpers.helpers_predator.models | X shape: (5092, 10)\n",
      "2022-06-17 09:37:13 |\u001B[36m DEBUG    \u001B[0m| helpers.helpers_predator.models | Current estimator: RandomForestClassifier(class_weight='balanced', max_depth=6,\n",
      "                       max_features='sqrt', min_samples_leaf=2, n_estimators=10,\n",
      "                       random_state=30496)\n",
      "2022-06-17 09:37:13 |\u001B[36m DEBUG    \u001B[0m| helpers.helpers_predator.models | X shape: (5092, 10)\n",
      "2022-06-17 09:37:13 |\u001B[36m DEBUG    \u001B[0m| helpers.helpers_predator.models | Current estimator: RandomForestClassifier(bootstrap=False, class_weight='balanced', max_depth=13,\n",
      "                       max_features=None, n_estimators=360, random_state=78908)\n",
      "2022-06-17 09:37:13 |\u001B[36m DEBUG    \u001B[0m| helpers.helpers_predator.models | X shape: (5092, 10)\n",
      "2022-06-17 09:37:14 |\u001B[36m DEBUG    \u001B[0m| helpers.helpers_predator.models | Current estimator: RandomForestClassifier(class_weight='balanced', max_depth=3,\n",
      "                       max_features='sqrt', min_samples_split=5,\n",
      "                       n_estimators=10, random_state=3479)\n",
      "2022-06-17 09:37:14 |\u001B[36m DEBUG    \u001B[0m| helpers.helpers_predator.models | X shape: (5092, 10)\n",
      "2022-06-17 09:37:14 |\u001B[36m DEBUG    \u001B[0m| helpers.helpers_predator.models | Current estimator: RandomForestClassifier(class_weight='balanced', max_depth=11,\n",
      "                       max_features='sqrt', min_samples_leaf=4, n_estimators=80,\n",
      "                       random_state=73564)\n",
      "2022-06-17 09:37:14 |\u001B[36m DEBUG    \u001B[0m| helpers.helpers_predator.models | X shape: (5092, 10)\n",
      "2022-06-17 09:37:14 |\u001B[36m DEBUG    \u001B[0m| helpers.helpers_predator.models | Current estimator: RandomForestClassifier(class_weight='balanced', max_depth=10,\n",
      "                       min_samples_leaf=2, min_samples_split=5,\n",
      "                       n_estimators=300, random_state=26063)\n",
      "2022-06-17 09:37:14 |\u001B[36m DEBUG    \u001B[0m| helpers.helpers_predator.models | X shape: (5092, 10)\n",
      "2022-06-17 09:37:14 |\u001B[36m DEBUG    \u001B[0m| helpers.helpers_predator.models | Current estimator: RandomForestClassifier(class_weight='balanced', max_depth=14,\n",
      "                       min_samples_leaf=4, min_samples_split=5,\n",
      "                       n_estimators=440, random_state=85182)\n",
      "2022-06-17 09:37:14 |\u001B[36m DEBUG    \u001B[0m| helpers.helpers_predator.models | X shape: (5092, 10)\n",
      "2022-06-17 09:37:14 |\u001B[36m DEBUG    \u001B[0m| helpers.helpers_predator.models | Current estimator: RandomForestClassifier(bootstrap=False, class_weight='balanced', max_depth=5,\n",
      "                       min_samples_leaf=4, min_samples_split=5,\n",
      "                       n_estimators=200, random_state=91925)\n",
      "2022-06-17 09:37:14 |\u001B[36m DEBUG    \u001B[0m| helpers.helpers_predator.models | X shape: (5092, 10)\n",
      "2022-06-17 09:37:14 |\u001B[36m DEBUG    \u001B[0m| helpers.helpers_predator.models | Current estimator: RandomForestClassifier(max_depth=7, max_features='sqrt', min_samples_split=5,\n",
      "                       n_estimators=40, random_state=71427)\n",
      "2022-06-17 09:37:14 |\u001B[36m DEBUG    \u001B[0m| helpers.helpers_predator.models | X shape: (5092, 10)\n",
      "2022-06-17 09:37:14 |\u001B[36m DEBUG    \u001B[0m| helpers.helpers_predator.models | Current estimator: RandomForestClassifier(bootstrap=False, max_features='sqrt', n_estimators=10,\n",
      "                       random_state=28894)\n",
      "2022-06-17 09:37:14 |\u001B[36m DEBUG    \u001B[0m| helpers.helpers_predator.models | X shape: (5092, 10)\n",
      "2022-06-17 09:37:14 |\u001B[36m DEBUG    \u001B[0m| helpers.helpers_predator.models | Current estimator: RandomForestClassifier(class_weight='balanced', max_depth=8,\n",
      "                       max_features='sqrt', min_samples_leaf=2,\n",
      "                       min_samples_split=5, n_estimators=600,\n",
      "                       random_state=58879)\n",
      "2022-06-17 09:37:14 |\u001B[36m DEBUG    \u001B[0m| helpers.helpers_predator.models | X shape: (5092, 10)\n",
      "2022-06-17 09:37:15 |\u001B[36m DEBUG    \u001B[0m| helpers.helpers_predator.models | Current estimator: RandomForestClassifier(class_weight='balanced', max_depth=2,\n",
      "                       max_features='sqrt', min_samples_split=5,\n",
      "                       n_estimators=340, random_state=77237)\n",
      "2022-06-17 09:37:15 |\u001B[36m DEBUG    \u001B[0m| helpers.helpers_predator.models | X shape: (5092, 10)\n",
      "2022-06-17 09:37:15 |\u001B[36m DEBUG    \u001B[0m| helpers.helpers_predator.models | Current estimator: RandomForestClassifier(bootstrap=False, max_depth=3, min_samples_leaf=4,\n",
      "                       min_samples_split=5, n_estimators=500, random_state=852)\n",
      "2022-06-17 09:37:15 |\u001B[36m DEBUG    \u001B[0m| helpers.helpers_predator.models | X shape: (5092, 10)\n",
      "2022-06-17 09:37:15 |\u001B[36m DEBUG    \u001B[0m| helpers.helpers_predator.models | Current estimator: RandomForestClassifier(class_weight='balanced', max_depth=3,\n",
      "                       max_features='sqrt', min_samples_leaf=4,\n",
      "                       min_samples_split=5, n_estimators=420,\n",
      "                       random_state=99459)\n",
      "2022-06-17 09:37:15 |\u001B[36m DEBUG    \u001B[0m| helpers.helpers_predator.models | X shape: (5092, 10)\n",
      "2022-06-17 09:37:16 |\u001B[36m DEBUG    \u001B[0m| helpers.helpers_predator.models | Current estimator: RandomForestClassifier(class_weight='balanced', max_depth=14,\n",
      "                       max_features='sqrt', min_samples_leaf=2,\n",
      "                       n_estimators=360, random_state=20927)\n",
      "2022-06-17 09:37:16 |\u001B[36m DEBUG    \u001B[0m| helpers.helpers_predator.models | X shape: (5092, 10)\n",
      "2022-06-17 09:37:16 |\u001B[36m DEBUG    \u001B[0m| helpers.helpers_predator.models | Current estimator: RandomForestClassifier(max_depth=8, min_samples_leaf=2, min_samples_split=5,\n",
      "                       n_estimators=180, random_state=91507)\n",
      "2022-06-17 09:37:16 |\u001B[36m DEBUG    \u001B[0m| helpers.helpers_predator.models | X shape: (5092, 10)\n",
      "2022-06-17 09:37:16 |\u001B[36m DEBUG    \u001B[0m| helpers.helpers_predator.models | Current estimator: RandomForestClassifier(bootstrap=False, class_weight='balanced', max_depth=12,\n",
      "                       max_features=None, min_samples_leaf=2, n_estimators=280,\n",
      "                       random_state=44598)\n",
      "2022-06-17 09:37:16 |\u001B[36m DEBUG    \u001B[0m| helpers.helpers_predator.models | X shape: (5092, 10)\n",
      "2022-06-17 09:37:16 |\u001B[36m DEBUG    \u001B[0m| helpers.helpers_predator.models | Current estimator: RandomForestClassifier(class_weight='balanced', max_depth=10, max_features=None,\n",
      "                       n_estimators=20, random_state=36422)\n",
      "2022-06-17 09:37:16 |\u001B[36m DEBUG    \u001B[0m| helpers.helpers_predator.models | X shape: (5092, 10)\n",
      "2022-06-17 09:37:16 |\u001B[36m DEBUG    \u001B[0m| helpers.helpers_predator.models | Current estimator: RandomForestClassifier(bootstrap=False, class_weight='balanced', max_depth=14,\n",
      "                       min_samples_split=5, n_estimators=340,\n",
      "                       random_state=20380)\n",
      "2022-06-17 09:37:16 |\u001B[36m DEBUG    \u001B[0m| helpers.helpers_predator.models | X shape: (5092, 10)\n",
      "2022-06-17 09:37:16 |\u001B[36m DEBUG    \u001B[0m| helpers.helpers_predator.models | Current estimator: RandomForestClassifier(class_weight='balanced', min_samples_leaf=4,\n",
      "                       min_samples_split=5, n_estimators=20,\n",
      "                       random_state=28222)\n",
      "2022-06-17 09:37:16 |\u001B[36m DEBUG    \u001B[0m| helpers.helpers_predator.models | X shape: (5092, 10)\n",
      "2022-06-17 09:37:16 |\u001B[36m DEBUG    \u001B[0m| helpers.helpers_predator.models | Current estimator: RandomForestClassifier(class_weight='balanced', max_depth=13,\n",
      "                       max_features='sqrt', min_samples_leaf=2,\n",
      "                       n_estimators=360, random_state=44119)\n",
      "2022-06-17 09:37:16 |\u001B[36m DEBUG    \u001B[0m| helpers.helpers_predator.models | X shape: (5092, 10)\n",
      "2022-06-17 09:37:17 |\u001B[36m DEBUG    \u001B[0m| helpers.helpers_predator.models | Current estimator: RandomForestClassifier(max_depth=10, max_features='sqrt', n_estimators=340,\n",
      "                       random_state=13397)\n",
      "2022-06-17 09:37:17 |\u001B[36m DEBUG    \u001B[0m| helpers.helpers_predator.models | X shape: (5092, 10)\n",
      "2022-06-17 09:37:17 |\u001B[36m DEBUG    \u001B[0m| helpers.helpers_predator.models | Current estimator: RandomForestClassifier(class_weight='balanced', max_depth=9, max_features=None,\n",
      "                       min_samples_leaf=2, n_estimators=200,\n",
      "                       random_state=12157)\n",
      "2022-06-17 09:37:17 |\u001B[36m DEBUG    \u001B[0m| helpers.helpers_predator.models | X shape: (5092, 10)\n",
      "2022-06-17 09:37:17 |\u001B[36m DEBUG    \u001B[0m| helpers.helpers_predator.models | Current estimator: RandomForestClassifier(bootstrap=False, max_depth=12, max_features=None,\n",
      "                       min_samples_leaf=4, min_samples_split=5, n_estimators=40,\n",
      "                       random_state=49798)\n",
      "2022-06-17 09:37:17 |\u001B[36m DEBUG    \u001B[0m| helpers.helpers_predator.models | X shape: (5092, 10)\n",
      "2022-06-17 09:37:17 |\u001B[36m DEBUG    \u001B[0m| helpers.helpers_predator.models | Current estimator: RandomForestClassifier(class_weight='balanced', max_depth=5, min_samples_leaf=4,\n",
      "                       n_estimators=40, random_state=12677)\n",
      "2022-06-17 09:37:17 |\u001B[36m DEBUG    \u001B[0m| helpers.helpers_predator.models | X shape: (5092, 10)\n",
      "2022-06-17 09:37:17 |\u001B[36m DEBUG    \u001B[0m| helpers.helpers_predator.models | Current estimator: RandomForestClassifier(class_weight='balanced', max_depth=6, min_samples_leaf=4,\n",
      "                       min_samples_split=5, n_estimators=420,\n",
      "                       random_state=47053)\n",
      "2022-06-17 09:37:17 |\u001B[36m DEBUG    \u001B[0m| helpers.helpers_predator.models | X shape: (5092, 10)\n",
      "2022-06-17 09:37:17 |\u001B[36m DEBUG    \u001B[0m| helpers.helpers_predator.predictions | PredictionsSoft\n",
      "2022-06-17 09:37:17 |\u001B[36m DEBUG    \u001B[0m| helpers.helpers_predator.predictions | Predicting probabilities on ov cohort ..\n",
      "2022-06-17 09:37:17 |\u001B[36m DEBUG    \u001B[0m| helpers.helpers_predator.predictions | Adding key `ov_prob` to self.predictions\n"
     ]
    }
   ],
   "source": [
    "predator.predict(voting='soft')"
   ]
  },
  {
   "cell_type": "code",
   "execution_count": 8,
   "id": "341a1a27-928b-47ae-9d45-69ec13771b81",
   "metadata": {
    "pycharm": {
     "name": "#%%\n"
    }
   },
   "outputs": [
    {
     "data": {
      "text/plain": "dict_keys(['ov_prob'])"
     },
     "execution_count": 8,
     "metadata": {},
     "output_type": "execute_result"
    }
   ],
   "source": [
    "predator.predictions.keys()"
   ]
  },
  {
   "cell_type": "code",
   "execution_count": 9,
   "id": "d7054f49-ad45-408f-88b4-0e608fc81e81",
   "metadata": {
    "pycharm": {
     "name": "#%%\n"
    }
   },
   "outputs": [
    {
     "data": {
      "text/plain": "[array([[0.28209005, 0.71790995],\n        [0.33823585, 0.66176415],\n        [0.38815943, 0.61184057],\n        ...,\n        [0.44920687, 0.55079313],\n        [0.39674034, 0.60325966],\n        [0.50038391, 0.49961609]]),\n array([[0.38616309, 0.61383691],\n        [0.42687749, 0.57312251],\n        [0.53770352, 0.46229648],\n        ...,\n        [0.5679117 , 0.4320883 ],\n        [0.6072733 , 0.3927267 ],\n        [0.60030246, 0.39969754]]),\n array([[0.29543374, 0.70456626],\n        [0.29721107, 0.70278893],\n        [0.39141747, 0.60858253],\n        ...,\n        [0.23274409, 0.76725591],\n        [0.32397903, 0.67602097],\n        [0.25674108, 0.74325892]])]"
     },
     "execution_count": 9,
     "metadata": {},
     "output_type": "execute_result"
    }
   ],
   "source": [
    "# Predictions for first 3 experiment.\n",
    "predator.predictions[\"ov_prob\"][:3]"
   ]
  },
  {
   "cell_type": "markdown",
   "id": "83e49c0d-9f61-4f48-a23d-8a21e9875041",
   "metadata": {
    "pycharm": {
     "name": "#%% md\n"
    }
   },
   "source": [
    "#### Predictions Post Processing"
   ]
  },
  {
   "cell_type": "markdown",
   "id": "3d18567f-1748-4446-bb12-8062515f02bd",
   "metadata": {
    "pycharm": {
     "name": "#%% md\n"
    }
   },
   "source": [
    "Post processing of predictions involves following steps:"
   ]
  },
  {
   "cell_type": "markdown",
   "id": "45aad6d0-0e73-413e-8b32-fbcb2bcc5426",
   "metadata": {
    "pycharm": {
     "name": "#%% md\n"
    }
   },
   "source": [
    "##### 1. Merging Predictions with SNV Data"
   ]
  },
  {
   "cell_type": "markdown",
   "id": "ba9bda7c-5736-4c44-8663-ec63927976db",
   "metadata": {
    "pycharm": {
     "name": "#%% md\n"
    }
   },
   "source": [
    "The prediction column is merged with SNV data for each experiment.\n",
    "\n",
    "$\\text{For each experiment } n: $\n",
    "\n",
    "$$\n",
    "  \\textit{(Prediction Merged Data)}_n = \\underbrace{[\\textit{Predictions}_n]}_\\text{Probs Percentages} + \n",
    "      \\underbrace{[\\textit{Protein }] [\\textit{Mutation }] [\\textit{Interactor }]}_\\text{Cancer Data Triplets} + \\underbrace{[\\textit{Features }] }_\\text{Elaspic}\n",
    "$$\n"
   ]
  },
  {
   "cell_type": "markdown",
   "id": "8b14c7d7-914f-40af-b695-b962c33ed9ee",
   "metadata": {
    "tags": [],
    "pycharm": {
     "name": "#%% md\n"
    }
   },
   "source": [
    "##### 2. Convert to 1-isomer: `Interactor_UniProt_ID`"
   ]
  },
  {
   "cell_type": "markdown",
   "id": "36c9284b-0d5d-4c41-b2d9-7274d9141f6a",
   "metadata": {
    "pycharm": {
     "name": "#%% md\n"
    }
   },
   "source": [
    "$\\textit{Interactor_UniProt_ID}$ column contains isomer proteins. Here, we convert them into primary isoform representation (i.e. without dashes)."
   ]
  },
  {
   "cell_type": "markdown",
   "id": "2314ef86-e11b-43ce-a9ee-8d3d39420d3d",
   "metadata": {
    "pycharm": {
     "name": "#%% md\n"
    }
   },
   "source": [
    "| Interactor_UniProt_ID |\n",
    "--------------\n",
    "| P38936     |\n",
    "| P16473     |\n",
    "| P16473-2   |\n",
    "| P19793     |"
   ]
  },
  {
   "cell_type": "markdown",
   "id": "ac37c712-d832-4450-8852-a9df5712c194",
   "metadata": {
    "pycharm": {
     "name": "#%% md\n"
    }
   },
   "source": [
    "##### 3. Dropping Invalid Predictions"
   ]
  },
  {
   "cell_type": "markdown",
   "id": "43293304-9ddf-4e94-b624-8ce6c9034fe1",
   "metadata": {
    "pycharm": {
     "name": "#%% md\n"
    }
   },
   "source": [
    "Entries whose predicted class-1 probability lies in both `Decreasing` and `Increasing+NoEff` are dropped."
   ]
  },
  {
   "cell_type": "markdown",
   "id": "0d57de49-9962-47a8-8a2d-96a42df2295a",
   "metadata": {
    "pycharm": {
     "name": "#%% md\n"
    }
   },
   "source": [
    "Due to having different features for the same $\\textit{(protein, mutation, interactor)}$ triplet from ELASPIC, the triplet $\\textit{(protein, mutation, interactor)}$ may contain class-1 probability prediction of both lower than 0.50 and higher than 50. We drop such instances."
   ]
  },
  {
   "cell_type": "code",
   "execution_count": 10,
   "id": "ee5ffd8b-af50-481e-b90f-fc0548568727",
   "metadata": {
    "scrolled": true,
    "tags": [],
    "pycharm": {
     "name": "#%%\n"
    }
   },
   "outputs": [
    {
     "name": "stdout",
     "output_type": "stream",
     "text": [
      "2022-06-17 09:37:26 |\u001B[36m DEBUG    \u001B[0m| helpers.helpers_predator.predictions | PredictionsSoft\n",
      "2022-06-17 09:37:26 |\u001B[36m DEBUG    \u001B[0m| helpers.helpers_predator.predictions | Post processing predictions for cohort ov ..\n",
      "2022-06-17 09:37:26 |\u001B[36m DEBUG    \u001B[0m| helpers.helpers_predator.predictions | PredictionsSoft\n",
      "2022-06-17 09:37:26 |\u001B[36m DEBUG    \u001B[0m| helpers.helpers_predator.predictions | Merging predictions with ov cancer dataset ..\n",
      "2022-06-17 09:37:26 |\u001B[36m DEBUG    \u001B[0m| helpers.helpers_predator.predictions | Handling valid and invalid entries ..\n"
     ]
    },
    {
     "data": {
      "text/plain": "  0%|          | 0/38 [00:00<?, ?it/s]",
      "application/vnd.jupyter.widget-view+json": {
       "version_major": 2,
       "version_minor": 0,
       "model_id": "be11daed47304a90a753ae0fce208d06"
      }
     },
     "metadata": {},
     "output_type": "display_data"
    },
    {
     "name": "stdout",
     "output_type": "stream",
     "text": [
      "2022-06-17 09:37:47 |\u001B[36m DEBUG    \u001B[0m| helpers.helpers_predator.predictions_utils | Removed entries first five rows (of 555): \n",
      "   PREDICTION PROTEIN MUTATION INTERACTOR\n",
      "0    0.491448  P07332    N695H     P08581\n",
      "1    0.673250  P07332    N695H     P08581\n",
      "2    0.492252  Q9Y6Q5    R251C     Q9BXS5\n",
      "3    0.535160  Q9Y6Q5    R251C     Q9BXS5\n",
      "4    0.653860  Q14814     K31T     Q02078\n",
      "2022-06-17 09:38:08 |\u001B[36m DEBUG    \u001B[0m| helpers.helpers_predator.predictions_utils | Removed entries first five rows (of 419): \n",
      "   PREDICTION PROTEIN MUTATION INTERACTOR\n",
      "0    0.518245  Q14814     K31T     Q02078\n",
      "1    0.612455  Q14814     K31T     Q06413\n",
      "2    0.612455  Q14814     K31T     Q06413\n",
      "3    0.612455  Q14814     K31T     Q06413\n",
      "4    0.612455  Q14814     K31T     Q06413\n",
      "2022-06-17 09:38:33 |\u001B[36m DEBUG    \u001B[0m| helpers.helpers_predator.predictions_utils | Removed entries first five rows (of 649): \n",
      "   PREDICTION PROTEIN MUTATION INTERACTOR\n",
      "0    0.363358  Q9Y6Q5    R251C     Q9BXS5\n",
      "1    0.531921  Q9Y6Q5    R251C     Q9BXS5\n",
      "2    0.559042  Q14814     K31T     Q02078\n",
      "3    0.656494  Q14814     K31T     Q06413\n",
      "4    0.656494  Q14814     K31T     Q06413\n",
      "2022-06-17 09:39:01 |\u001B[36m DEBUG    \u001B[0m| helpers.helpers_predator.predictions_utils | Removed entries first five rows (of 481): \n",
      "   PREDICTION PROTEIN MUTATION INTERACTOR\n",
      "0    0.378577  P07332    N695H     P08581\n",
      "1    0.552713  P07332    N695H     P08581\n",
      "2    0.483624  Q9Y6Q5    R251C     Q9BXS5\n",
      "3    0.538261  Q9Y6Q5    R251C     Q9BXS5\n",
      "4    0.519240  Q14814     K31T     Q02078\n",
      "2022-06-17 09:39:24 |\u001B[36m DEBUG    \u001B[0m| helpers.helpers_predator.predictions_utils | Removed entries first five rows (of 665): \n",
      "   PREDICTION PROTEIN MUTATION INTERACTOR\n",
      "0    0.453118  P07332    N695H     P08581\n",
      "1    0.663521  P07332    N695H     P08581\n",
      "2    0.447175  Q9Y6Q5    R251C     Q9BXS5\n",
      "3    0.516111  Q9Y6Q5    R251C     Q9BXS5\n",
      "4    0.545888  Q14814     K31T     Q02078\n",
      "2022-06-17 09:39:47 |\u001B[36m DEBUG    \u001B[0m| helpers.helpers_predator.predictions_utils | Removed entries first five rows (of 467): \n",
      "   PREDICTION PROTEIN MUTATION INTERACTOR\n",
      "0    0.469572  P62805     N65D     Q9UER7\n",
      "1    0.557399  P62805     N65D     Q9UER7\n",
      "2    0.472387  P62805     N65D     Q9UER7\n",
      "3    0.541726  P04637    R248Q     P62993\n",
      "4    0.541726  P04637    R248Q     P62993\n",
      "2022-06-17 09:40:10 |\u001B[36m DEBUG    \u001B[0m| helpers.helpers_predator.predictions_utils | Removed entries first five rows (of 437): \n",
      "   PREDICTION PROTEIN MUTATION INTERACTOR\n",
      "0    0.450760  P07332    N695H     P08581\n",
      "1    0.516536  P07332    N695H     P08581\n",
      "2    0.390687  Q14814     K31T     Q02078\n",
      "3    0.513913  Q14814     K31T     Q06413\n",
      "4    0.513913  Q14814     K31T     Q06413\n",
      "2022-06-17 09:40:30 |\u001B[36m DEBUG    \u001B[0m| helpers.helpers_predator.predictions_utils | Removed entries first five rows (of 801): \n",
      "   PREDICTION PROTEIN MUTATION INTERACTOR\n",
      "0    0.561603  Q9NQ66    E539K     Q15147\n",
      "1    0.499077  Q9NQ66    E539K     Q15147\n",
      "2    0.519077  Q9NQ66    E539K     Q15147\n",
      "3    0.419286  P07900    E205D     Q9UHD1\n",
      "4    0.609809  P07900    E205D     Q9UHD1\n",
      "2022-06-17 09:40:50 |\u001B[36m DEBUG    \u001B[0m| helpers.helpers_predator.predictions_utils | Removed entries first five rows (of 524): \n",
      "   PREDICTION PROTEIN MUTATION INTERACTOR\n",
      "0    0.433749  P07332    N695H     P08581\n",
      "1    0.508715  P07332    N695H     P08581\n",
      "2    0.539870  Q14814     K31T     Q02078\n",
      "3    0.435996  Q14814     K31T     Q02078\n",
      "4    0.609196  Q14814     K31T     Q02078\n",
      "2022-06-17 09:41:11 |\u001B[36m DEBUG    \u001B[0m| helpers.helpers_predator.predictions_utils | Removed entries first five rows (of 811): \n",
      "   PREDICTION PROTEIN MUTATION INTERACTOR\n",
      "0    0.353452  P07332    N695H     P08581\n",
      "1    0.655579  P07332    N695H     P08581\n",
      "2    0.519728  Q9NQ66    E539K     Q15147\n",
      "3    0.331766  Q9NQ66    E539K     Q15147\n",
      "4    0.330252  Q9NQ66    E539K     Q15147\n",
      "2022-06-17 09:41:31 |\u001B[36m DEBUG    \u001B[0m| helpers.helpers_predator.predictions_utils | Removed entries first five rows (of 589): \n",
      "   PREDICTION PROTEIN MUTATION INTERACTOR\n",
      "0    0.541667  Q9NQ66    E539K     Q15147\n",
      "1    0.434444  Q9NQ66    E539K     Q15147\n",
      "2    0.367778  Q9NQ66    E539K     Q15147\n",
      "3    0.426111  Q9Y6Q5    R251C     Q9BXS5\n",
      "4    0.517778  Q9Y6Q5    R251C     Q9BXS5\n",
      "2022-06-17 09:41:49 |\u001B[36m DEBUG    \u001B[0m| helpers.helpers_predator.predictions_utils | Removed entries first five rows (of 447): \n",
      "   PREDICTION PROTEIN MUTATION INTERACTOR\n",
      "0    0.441562  P07332    N695H     P08581\n",
      "1    0.604475  P07332    N695H     P08581\n",
      "2    0.429352  Q14814     K31T     Q02078\n",
      "3    0.244483  Q14814     K31T     Q02078\n",
      "4    0.658890  Q14814     K31T     Q02078\n",
      "2022-06-17 09:42:09 |\u001B[36m DEBUG    \u001B[0m| helpers.helpers_predator.predictions_utils | Removed entries first five rows (of 517): \n",
      "   PREDICTION PROTEIN MUTATION INTERACTOR\n",
      "0    0.396510  Q14814     K31T     Q02078\n",
      "1    0.425145  Q14814     K31T     Q02078\n",
      "2    0.809920  Q14814     K31T     Q02078\n",
      "3    0.457345  Q14814     K31T     Q02078\n",
      "4    0.809920  Q14814     K31T     Q02078\n",
      "2022-06-17 09:42:29 |\u001B[36m DEBUG    \u001B[0m| helpers.helpers_predator.predictions_utils | Removed entries first five rows (of 642): \n",
      "   PREDICTION PROTEIN MUTATION INTERACTOR\n",
      "0    0.452915  P00742    I451M     P10646\n",
      "1    0.452915  P00742    I451M     P10646\n",
      "2    0.452915  P00742    I451M     P10646\n",
      "3    0.617531  P00742    I451M     P10646\n",
      "4    0.617531  P00742    I451M     P10646\n",
      "2022-06-17 09:42:53 |\u001B[36m DEBUG    \u001B[0m| helpers.helpers_predator.predictions_utils | Removed entries first five rows (of 985): \n",
      "   PREDICTION PROTEIN MUTATION INTERACTOR\n",
      "0    0.433333  O75175    Q684H     Q9NZN8\n",
      "1    0.433333  O75175    Q684H     Q9NZN8\n",
      "2    0.433333  O75175    Q684H     Q9NZN8\n",
      "3    1.000000  O75175    Q684H     Q9NZN8\n",
      "4    0.433333  O75175    Q684H     Q9NZN8\n",
      "2022-06-17 09:43:15 |\u001B[36m DEBUG    \u001B[0m| helpers.helpers_predator.predictions_utils | Removed entries first five rows (of 751): \n",
      "   PREDICTION PROTEIN MUTATION INTERACTOR\n",
      "0    0.530124  O75175    Q684H     Q9NZN8\n",
      "1    0.433808  O75175    Q684H     Q9NZN8\n",
      "2    0.476499  O75175    Q684H     Q9NZN8\n",
      "3    0.466278  O75175    Q684H     Q9NZN8\n",
      "4    0.433808  O75175    Q684H     Q9NZN8\n",
      "2022-06-17 09:43:35 |\u001B[36m DEBUG    \u001B[0m| helpers.helpers_predator.predictions_utils | Removed entries first five rows (of 569): \n",
      "   PREDICTION PROTEIN MUTATION INTERACTOR\n",
      "0    0.493676  P07332    N695H     P08581\n",
      "1    0.722142  P07332    N695H     P08581\n",
      "2    0.619946  Q14814     K31T     Q02078\n",
      "3    0.683340  Q14814     K31T     Q06413\n",
      "4    0.683340  Q14814     K31T     Q06413\n",
      "2022-06-17 09:43:54 |\u001B[36m DEBUG    \u001B[0m| helpers.helpers_predator.predictions_utils | Removed entries first five rows (of 438): \n",
      "   PREDICTION PROTEIN MUTATION INTERACTOR\n",
      "0    0.437321  P07332    N695H     P08581\n",
      "1    0.704123  P07332    N695H     P08581\n",
      "2    0.459991  Q14814     K31T     Q02078\n",
      "3    0.523009  Q14814     K31T     Q06413\n",
      "4    0.523009  Q14814     K31T     Q06413\n",
      "2022-06-17 09:44:14 |\u001B[36m DEBUG    \u001B[0m| helpers.helpers_predator.predictions_utils | Removed entries first five rows (of 486): \n",
      "   PREDICTION PROTEIN MUTATION INTERACTOR\n",
      "0    0.353475  P07332    N695H     P08581\n",
      "1    0.576383  P07332    N695H     P08581\n",
      "2    0.470403  Q9Y6Q5    R251C     Q9BXS5\n",
      "3    0.528379  Q9Y6Q5    R251C     Q9BXS5\n",
      "4    0.656585  Q14814     K31T     Q02078\n",
      "2022-06-17 09:44:33 |\u001B[36m DEBUG    \u001B[0m| helpers.helpers_predator.predictions_utils | Removed entries first five rows (of 698): \n",
      "   PREDICTION PROTEIN MUTATION INTERACTOR\n",
      "0    0.653357  O75175    Q684H     Q9NZN8\n",
      "1    0.482448  O75175    Q684H     Q9NZN8\n",
      "2    0.654294  O75175    Q684H     Q9NZN8\n",
      "3    0.594445  O75175    Q684H     Q9NZN8\n",
      "4    0.482448  O75175    Q684H     Q9NZN8\n",
      "2022-06-17 09:44:52 |\u001B[36m DEBUG    \u001B[0m| helpers.helpers_predator.predictions_utils | Removed entries first five rows (of 459): \n",
      "   PREDICTION PROTEIN MUTATION INTERACTOR\n",
      "0    0.443485  P07332    N695H     P08581\n",
      "1    0.522381  P07332    N695H     P08581\n",
      "2    0.438253  P62805     N65D     Q9UER7\n",
      "3    0.514179  P62805     N65D     Q9UER7\n",
      "4    0.438253  P62805     N65D     Q9UER7\n",
      "2022-06-17 09:45:12 |\u001B[36m DEBUG    \u001B[0m| helpers.helpers_predator.predictions_utils | Removed entries first five rows (of 953): \n",
      "   PREDICTION PROTEIN MUTATION INTERACTOR\n",
      "0         0.5  P07332    N695H     P08581\n",
      "1         0.9  P07332    N695H     P08581\n",
      "2         0.8  Q14814     K31T     Q02078\n",
      "3         0.6  Q14814     K31T     Q02078\n",
      "4         1.0  Q14814     K31T     Q02078\n",
      "2022-06-17 09:45:32 |\u001B[36m DEBUG    \u001B[0m| helpers.helpers_predator.predictions_utils | Removed entries first five rows (of 450): \n",
      "   PREDICTION PROTEIN MUTATION INTERACTOR\n",
      "0    0.528917  P04637    R248Q     P62993\n",
      "1    0.529882  P04637    R248Q     P62993\n",
      "2    0.534414  P04637    R248Q     P62993\n",
      "3    0.307987  P04637    R248Q     P62993\n",
      "4    0.247017  P15374    N223S     P0CG48\n",
      "2022-06-17 09:45:54 |\u001B[36m DEBUG    \u001B[0m| helpers.helpers_predator.predictions_utils | Removed entries first five rows (of 452): \n",
      "   PREDICTION PROTEIN MUTATION INTERACTOR\n",
      "0    0.592823  Q14814     K31T     Q02078\n",
      "1    0.639311  Q14814     K31T     Q06413\n",
      "2    0.639311  Q14814     K31T     Q06413\n",
      "3    0.639311  Q14814     K31T     Q06413\n",
      "4    0.639311  Q14814     K31T     Q06413\n",
      "2022-06-17 09:46:16 |\u001B[36m DEBUG    \u001B[0m| helpers.helpers_predator.predictions_utils | Removed entries first five rows (of 411): \n",
      "   PREDICTION PROTEIN MUTATION INTERACTOR\n",
      "0    0.660287  P04637    R248Q     P62993\n",
      "1    0.660709  P04637    R248Q     P62993\n",
      "2    0.662499  P04637    R248Q     P62993\n",
      "3    0.458674  P04637    R248Q     P62993\n",
      "4    0.471037  Q15019    T186N     Q99719\n",
      "2022-06-17 09:46:36 |\u001B[36m DEBUG    \u001B[0m| helpers.helpers_predator.predictions_utils | Removed entries first five rows (of 478): \n",
      "   PREDICTION PROTEIN MUTATION INTERACTOR\n",
      "0    0.602286  Q14814     K31T     Q02078\n",
      "1    0.614041  Q14814     K31T     Q06413\n",
      "2    0.614041  Q14814     K31T     Q06413\n",
      "3    0.614041  Q14814     K31T     Q06413\n",
      "4    0.614041  Q14814     K31T     Q06413\n",
      "2022-06-17 09:46:57 |\u001B[36m DEBUG    \u001B[0m| helpers.helpers_predator.predictions_utils | Removed entries first five rows (of 618): \n",
      "   PREDICTION PROTEIN MUTATION INTERACTOR\n",
      "0    0.464113  P07332    N695H     P08581\n",
      "1    0.713009  P07332    N695H     P08581\n",
      "2    0.534491  Q9NQ66    E539K     Q15147\n",
      "3    0.399603  Q9NQ66    E539K     Q15147\n",
      "4    0.375831  Q9NQ66    E539K     Q15147\n",
      "2022-06-17 09:47:17 |\u001B[36m DEBUG    \u001B[0m| helpers.helpers_predator.predictions_utils | Removed entries first five rows (of 497): \n",
      "   PREDICTION PROTEIN MUTATION INTERACTOR\n",
      "0    0.553026  Q9NQ66    E539K     Q15147\n",
      "1    0.393013  Q9NQ66    E539K     Q15147\n",
      "2    0.385775  Q9NQ66    E539K     Q15147\n",
      "3    0.553991  Q14814     K31T     Q02078\n",
      "4    0.707018  Q14814     K31T     Q06413\n",
      "2022-06-17 09:47:36 |\u001B[36m DEBUG    \u001B[0m| helpers.helpers_predator.predictions_utils | Removed entries first five rows (of 611): \n",
      "   PREDICTION PROTEIN MUTATION INTERACTOR\n",
      "0         1.0  P04637    H179Y     Q96KQ7\n",
      "1         0.5  P04637    H179Y     Q96KQ7\n",
      "2         0.5  O15232     L82W     O00339\n",
      "3         1.0  O15232     L82W     O00339\n",
      "4         0.5  O15232     L82W     O00339\n",
      "2022-06-17 09:47:57 |\u001B[36m DEBUG    \u001B[0m| helpers.helpers_predator.predictions_utils | Removed entries first five rows (of 499): \n",
      "   PREDICTION PROTEIN MUTATION INTERACTOR\n",
      "0        0.65  Q14814     K31T     Q02078\n",
      "1        0.40  Q14814     K31T     Q02078\n",
      "2        0.80  Q14814     K31T     Q02078\n",
      "3        0.45  Q14814     K31T     Q02078\n",
      "4        0.80  Q14814     K31T     Q02078\n",
      "2022-06-17 09:48:18 |\u001B[36m DEBUG    \u001B[0m| helpers.helpers_predator.predictions_utils | Removed entries first five rows (of 705): \n",
      "   PREDICTION PROTEIN MUTATION INTERACTOR\n",
      "0    0.359657  P07332    N695H     P08581\n",
      "1    0.713833  P07332    N695H     P08581\n",
      "2    0.434233  Q14814     K31T     Q02078\n",
      "3    0.561860  Q14814     K31T     Q06413\n",
      "4    0.561860  Q14814     K31T     Q06413\n",
      "2022-06-17 09:48:39 |\u001B[36m DEBUG    \u001B[0m| helpers.helpers_predator.predictions_utils | Removed entries first five rows (of 696): \n",
      "   PREDICTION PROTEIN MUTATION INTERACTOR\n",
      "0    0.478082  Q9Y6Q5    R251C     Q9BXS5\n",
      "1    0.564952  Q9Y6Q5    R251C     Q9BXS5\n",
      "2    0.555221  Q14814     K31T     Q02078\n",
      "3    0.711058  Q14814     K31T     Q06413\n",
      "4    0.711058  Q14814     K31T     Q06413\n",
      "2022-06-17 09:49:03 |\u001B[36m DEBUG    \u001B[0m| helpers.helpers_predator.predictions_utils | Removed entries first five rows (of 437): \n",
      "   PREDICTION PROTEIN MUTATION INTERACTOR\n",
      "0    0.349306  P07332    N695H     P08581\n",
      "1    0.520267  P07332    N695H     P08581\n",
      "2    0.631308  Q14814     K31T     Q02078\n",
      "3    0.717707  Q14814     K31T     Q06413\n",
      "4    0.717707  Q14814     K31T     Q06413\n",
      "2022-06-17 09:49:19 |\u001B[36m DEBUG    \u001B[0m| helpers.helpers_predator.predictions_utils | Removed entries first five rows (of 434): \n",
      "   PREDICTION PROTEIN MUTATION INTERACTOR\n",
      "0    0.423332  P07332    N695H     P08581\n",
      "1    0.545147  P07332    N695H     P08581\n",
      "2    0.590050  Q14814     K31T     Q02078\n",
      "3    0.441243  Q14814     K31T     Q02078\n",
      "4    0.806723  Q14814     K31T     Q02078\n",
      "2022-06-17 09:49:37 |\u001B[36m DEBUG    \u001B[0m| helpers.helpers_predator.predictions_utils | Removed entries first five rows (of 507): \n",
      "   PREDICTION PROTEIN MUTATION INTERACTOR\n",
      "0    0.419477  P00742    I451M     P10646\n",
      "1    0.557262  P00742    I451M     P10646\n",
      "2    0.557262  P00742    I451M     P10646\n",
      "3    0.424229  P00742    I451M     P10646\n",
      "4    0.424229  P00742    I451M     P10646\n",
      "2022-06-17 09:49:54 |\u001B[36m DEBUG    \u001B[0m| helpers.helpers_predator.predictions_utils | Removed entries first five rows (of 630): \n",
      "   PREDICTION PROTEIN MUTATION INTERACTOR\n",
      "0       1.000  Q9NRM7    K672I     O96017\n",
      "1       0.925  Q9NRM7    K672I     O96017\n",
      "2       0.500  Q9NRM7    K672I     O96017\n",
      "3       0.925  Q9NRM7    K672I     O96017\n",
      "4       0.500  Q9NRM7    K672I     O96017\n",
      "2022-06-17 09:50:13 |\u001B[36m DEBUG    \u001B[0m| helpers.helpers_predator.predictions_utils | Removed entries first five rows (of 601): \n",
      "   PREDICTION PROTEIN MUTATION INTERACTOR\n",
      "0    0.364049  P07332    N695H     P08581\n",
      "1    0.555051  P07332    N695H     P08581\n",
      "2    0.500669  Q14814     K31T     Q02078\n",
      "3    0.648935  Q14814     K31T     Q06413\n",
      "4    0.648935  Q14814     K31T     Q06413\n",
      "2022-06-17 09:50:31 |\u001B[36m DEBUG    \u001B[0m| helpers.helpers_predator.predictions_utils | Removed entries first five rows (of 622): \n",
      "   PREDICTION PROTEIN MUTATION INTERACTOR\n",
      "0    0.378563  P07332    N695H     P08581\n",
      "1    0.583731  P07332    N695H     P08581\n",
      "2    0.654507  Q14814     K31T     Q02078\n",
      "3    0.682750  Q14814     K31T     Q06413\n",
      "4    0.682750  Q14814     K31T     Q06413\n",
      "2022-06-17 09:50:31 |\u001B[36m DEBUG    \u001B[0m| helpers.helpers_predator.predictions | Preparing finalized prediction datasets for ov ..\n",
      "2022-06-17 09:50:31 |\u001B[36m DEBUG    \u001B[0m| helpers.helpers_predator.predictions | Post processing completed for ov.\n"
     ]
    }
   ],
   "source": [
    "predator.predictions_post_process()"
   ]
  },
  {
   "cell_type": "code",
   "execution_count": 11,
   "id": "90683791-df42-47a8-ae9d-6c6ba08bcafd",
   "metadata": {
    "pycharm": {
     "name": "#%%\n"
    }
   },
   "outputs": [
    {
     "data": {
      "text/plain": "dict_keys(['ov_prob', 'ov_predicted_probs_datasets', 'ov_predicted_valid_datasets', 'ov_predicted_invalid_datasets', 'ov_finalized_prediction_dataframes'])"
     },
     "execution_count": 11,
     "metadata": {},
     "output_type": "execute_result"
    }
   ],
   "source": [
    "predator.predictions.keys()"
   ]
  },
  {
   "cell_type": "code",
   "execution_count": 12,
   "id": "fcf61287-2498-4b53-ac75-1f6baceed2a3",
   "metadata": {
    "pycharm": {
     "name": "#%%\n"
    }
   },
   "outputs": [
    {
     "name": "stdout",
     "output_type": "stream",
     "text": [
      "\u001B[36mData dimensions: (5092, 104)\u001B[0m\n"
     ]
    },
    {
     "data": {
      "text/plain": "   Prediction Input_identifier UniProt_ID Mutation Status       Type  \\\n0    0.717910           P08134     P08134     D59E   done  interface   \n1    0.661764           P08134     P08134     D59E   done  interface   \n2    0.611841           P62993     P62993      A3V   done  interface   \n\n  COSMIC_mut_ID ClinVar_mut_ID UniProt_mut_ID Domain_name  ...  \\\n0     COSM72427              -              -         Ras  ...   \n1     COSM72427              -              -         Ras  ...   \n2             -              -              -       SH3_1  ...   \n\n  number_of_residues_mut IntraclashesEnergy1_wt IntraclashesEnergy1_mut  \\\n0                  388.0                53.3423                 55.3148   \n1                  344.0                62.3140                 63.0691   \n2                  280.0                23.2774                 24.5177   \n\n   IntraclashesEnergy2_wt  IntraclashesEnergy2_mut Interface_hydrophobic_area  \\\n0                 37.8150                  37.8150                    719.095   \n1                 32.5038                  32.5038                     598.71   \n2                122.5120                 122.5120                     170.81   \n\n  Interface_hydrophilic_area Interface_total_area  \\\n0                    461.785              1180.88   \n1                     417.74              1016.46   \n2                    120.515              291.325   \n\n  Interface_contact_distance_wt Interface_contact_distance_mut  \n0                       3.18062                        3.18062  \n1                       3.80414                        3.80414  \n2                       4.63364                        4.63364  \n\n[3 rows x 104 columns]",
      "text/html": "<div>\n<style scoped>\n    .dataframe tbody tr th:only-of-type {\n        vertical-align: middle;\n    }\n\n    .dataframe tbody tr th {\n        vertical-align: top;\n    }\n\n    .dataframe thead th {\n        text-align: right;\n    }\n</style>\n<table border=\"1\" class=\"dataframe\">\n  <thead>\n    <tr style=\"text-align: right;\">\n      <th></th>\n      <th>Prediction</th>\n      <th>Input_identifier</th>\n      <th>UniProt_ID</th>\n      <th>Mutation</th>\n      <th>Status</th>\n      <th>Type</th>\n      <th>COSMIC_mut_ID</th>\n      <th>ClinVar_mut_ID</th>\n      <th>UniProt_mut_ID</th>\n      <th>Domain_name</th>\n      <th>...</th>\n      <th>number_of_residues_mut</th>\n      <th>IntraclashesEnergy1_wt</th>\n      <th>IntraclashesEnergy1_mut</th>\n      <th>IntraclashesEnergy2_wt</th>\n      <th>IntraclashesEnergy2_mut</th>\n      <th>Interface_hydrophobic_area</th>\n      <th>Interface_hydrophilic_area</th>\n      <th>Interface_total_area</th>\n      <th>Interface_contact_distance_wt</th>\n      <th>Interface_contact_distance_mut</th>\n    </tr>\n  </thead>\n  <tbody>\n    <tr>\n      <th>0</th>\n      <td>0.717910</td>\n      <td>P08134</td>\n      <td>P08134</td>\n      <td>D59E</td>\n      <td>done</td>\n      <td>interface</td>\n      <td>COSM72427</td>\n      <td>-</td>\n      <td>-</td>\n      <td>Ras</td>\n      <td>...</td>\n      <td>388.0</td>\n      <td>53.3423</td>\n      <td>55.3148</td>\n      <td>37.8150</td>\n      <td>37.8150</td>\n      <td>719.095</td>\n      <td>461.785</td>\n      <td>1180.88</td>\n      <td>3.18062</td>\n      <td>3.18062</td>\n    </tr>\n    <tr>\n      <th>1</th>\n      <td>0.661764</td>\n      <td>P08134</td>\n      <td>P08134</td>\n      <td>D59E</td>\n      <td>done</td>\n      <td>interface</td>\n      <td>COSM72427</td>\n      <td>-</td>\n      <td>-</td>\n      <td>Ras</td>\n      <td>...</td>\n      <td>344.0</td>\n      <td>62.3140</td>\n      <td>63.0691</td>\n      <td>32.5038</td>\n      <td>32.5038</td>\n      <td>598.71</td>\n      <td>417.74</td>\n      <td>1016.46</td>\n      <td>3.80414</td>\n      <td>3.80414</td>\n    </tr>\n    <tr>\n      <th>2</th>\n      <td>0.611841</td>\n      <td>P62993</td>\n      <td>P62993</td>\n      <td>A3V</td>\n      <td>done</td>\n      <td>interface</td>\n      <td>-</td>\n      <td>-</td>\n      <td>-</td>\n      <td>SH3_1</td>\n      <td>...</td>\n      <td>280.0</td>\n      <td>23.2774</td>\n      <td>24.5177</td>\n      <td>122.5120</td>\n      <td>122.5120</td>\n      <td>170.81</td>\n      <td>120.515</td>\n      <td>291.325</td>\n      <td>4.63364</td>\n      <td>4.63364</td>\n    </tr>\n  </tbody>\n</table>\n<p>3 rows × 104 columns</p>\n</div>"
     },
     "metadata": {},
     "output_type": "display_data"
    }
   ],
   "source": [
    "display_data(predator.predictions[\"ov_predicted_probs_datasets\"][0])"
   ]
  },
  {
   "cell_type": "code",
   "execution_count": 13,
   "id": "a603e902-b663-49e2-92c5-e6167cc06699",
   "metadata": {
    "pycharm": {
     "name": "#%%\n"
    }
   },
   "outputs": [
    {
     "data": {
      "text/plain": "<Figure size 1080x360 with 1 Axes>",
      "image/png": "[encoded data removed]"
     },
     "metadata": {
      "needs_background": "light"
     },
     "output_type": "display_data"
    }
   ],
   "source": [
    "predator.predictions.plot_distribution_valid_vs_invalid(\"ov\")"
   ]
  },
  {
   "cell_type": "code",
   "execution_count": 14,
   "id": "77147287-c7ce-4771-b0ed-e45479644ccb",
   "metadata": {
    "pycharm": {
     "name": "#%%\n"
    }
   },
   "outputs": [
    {
     "name": "stdout",
     "output_type": "stream",
     "text": [
      "2022-06-17 10:07:34 |\u001B[36m DEBUG    \u001B[0m| helpers.helpers_predator.predictions | Plotting number of finalized predictions per model.\n",
      "Note that following plot shows the number of (protein, mutation, interactor) triplets which had valid prediction.\n"
     ]
    },
    {
     "data": {
      "text/plain": "<Figure size 1080x360 with 1 Axes>",
      "image/png": "[encoded data removed]"
     },
     "metadata": {
      "needs_background": "light"
     },
     "output_type": "display_data"
    }
   ],
   "source": [
    "predator.predictions.plot_num_finalized_predictions(\"ov\")"
   ]
  },
  {
   "cell_type": "code",
   "execution_count": 15,
   "id": "a0762893-11a8-43c7-8b93-1b214a1a85e4",
   "metadata": {
    "pycharm": {
     "name": "#%%\n"
    }
   },
   "outputs": [
    {
     "name": "stdout",
     "output_type": "stream",
     "text": [
      "\u001B[36mData dimensions: (3477, 4)\u001B[0m\n"
     ]
    },
    {
     "data": {
      "text/plain": "   Prediction UniProt_ID Mutation Interactor_UniProt_ID\n0    0.717910     P08134     D59E                P52565\n1    0.661764     P08134     D59E                P52565\n2    0.611841     P62993      A3V                Q9H8V3",
      "text/html": "<div>\n<style scoped>\n    .dataframe tbody tr th:only-of-type {\n        vertical-align: middle;\n    }\n\n    .dataframe tbody tr th {\n        vertical-align: top;\n    }\n\n    .dataframe thead th {\n        text-align: right;\n    }\n</style>\n<table border=\"1\" class=\"dataframe\">\n  <thead>\n    <tr style=\"text-align: right;\">\n      <th></th>\n      <th>Prediction</th>\n      <th>UniProt_ID</th>\n      <th>Mutation</th>\n      <th>Interactor_UniProt_ID</th>\n    </tr>\n  </thead>\n  <tbody>\n    <tr>\n      <th>0</th>\n      <td>0.717910</td>\n      <td>P08134</td>\n      <td>D59E</td>\n      <td>P52565</td>\n    </tr>\n    <tr>\n      <th>1</th>\n      <td>0.661764</td>\n      <td>P08134</td>\n      <td>D59E</td>\n      <td>P52565</td>\n    </tr>\n    <tr>\n      <th>2</th>\n      <td>0.611841</td>\n      <td>P62993</td>\n      <td>A3V</td>\n      <td>Q9H8V3</td>\n    </tr>\n  </tbody>\n</table>\n</div>"
     },
     "metadata": {},
     "output_type": "display_data"
    }
   ],
   "source": [
    "display_data(predator.predictions['ov_finalized_prediction_dataframes'][0])"
   ]
  },
  {
   "cell_type": "code",
   "execution_count": 16,
   "id": "7fab8dc7-62ea-4cba-bdfa-0a8187a53a27",
   "metadata": {
    "scrolled": true,
    "tags": [],
    "pycharm": {
     "name": "#%%\n"
    }
   },
   "outputs": [
    {
     "name": "stdout",
     "output_type": "stream",
     "text": [
      "2022-06-17 10:07:37 |\u001B[32m INFO     \u001B[0m| helpers.helpers_predator.predictions | PredictionsSoft\n",
      "2022-06-17 10:07:37 |\u001B[32m INFO     \u001B[0m| helpers.helpers_predator.predictions | Preparing ensemble prediction data for ov taking median ..\n"
     ]
    },
    {
     "data": {
      "text/plain": "  0%|          | 0/38 [00:00<?, ?it/s]",
      "application/vnd.jupyter.widget-view+json": {
       "version_major": 2,
       "version_minor": 0,
       "model_id": "85f2ae7fde9b4b02b4e54651be2b3dce"
      }
     },
     "metadata": {},
     "output_type": "display_data"
    },
    {
     "name": "stdout",
     "output_type": "stream",
     "text": [
      "2022-06-17 10:11:44 |\u001B[36m DEBUG    \u001B[0m| helpers.helpers_predator.predictions | Prediction probabilities data for ov is prepared.\n",
      "Accessible from `ov_predictions_prob_data`.\n",
      "2022-06-17 10:11:44 |\u001B[36m DEBUG    \u001B[0m| helpers.helpers_predator.predictions | Ensemble prediction data for ov is prepared.\n",
      "Accessible from `ov_ensemble_prediction_data`.\n",
      "2022-06-17 10:11:44 |\u001B[36m DEBUG    \u001B[0m| helpers.helpers_predator.predictions | Resulting prediction data is available for ov.\n",
      "Accessible from predictions.['ov_prediction_results']\n",
      "2022-06-17 10:11:44 |\u001B[36m DEBUG    \u001B[0m| helpers.helpers_predator.predictions | Resulting prediction data (no_votes dropped) is available for ov.\n",
      "Accessible from predictions.['ov_prediction_results_no_votes_dropped']\n"
     ]
    }
   ],
   "source": [
    "predator.prepare_ensemble_prediction_data()"
   ]
  },
  {
   "cell_type": "code",
   "execution_count": 17,
   "id": "0ffd0f8a-b82f-4733-9a31-2d350402fecb",
   "metadata": {
    "pycharm": {
     "name": "#%%\n"
    }
   },
   "outputs": [
    {
     "name": "stdout",
     "output_type": "stream",
     "text": [
      "\u001B[36mData dimensions: (2582, 40)\u001B[0m\n"
     ]
    },
    {
     "data": {
      "text/plain": "    Trial 0   Trial 1   Trial 2   Trial 3   Trial 4   Trial 5   Trial 6  \\\n0  0.689837   0.59348  0.703678  0.657622  0.669327  0.680967   0.34517   \n1  0.611841  0.462296  0.608583  0.531374  0.669779  0.518195  0.474314   \n2  0.490572  0.403711  0.600442  0.460101  0.637425  0.414457  0.557137   \n\n    Trial 7   Trial 8   Trial 9  ...  Trial 30  Trial 31  Trial 32  Trial 33  \\\n0  0.847257  0.594675  0.807849  ...  0.914072  0.821777  0.740711  0.743697   \n1  0.814617  0.516344  0.695191  ...  0.555554  0.610511  0.474815  0.526471   \n2  0.715715  0.415513  0.629651  ...  0.456681   0.70364  0.463691  0.429412   \n\n   Trial 34  Trial 35  Trial 36  Trial 37 PROB_1s_AVG VOTED_PREDICTION  \n0  0.836938  0.934375  0.629593  0.701267      0.7422                1  \n1  0.669051  0.166667  0.571876   0.62546     0.57144                1  \n2  0.561114  0.166667  0.503542  0.581567     0.51163                1  \n\n[3 rows x 40 columns]",
      "text/html": "<div>\n<style scoped>\n    .dataframe tbody tr th:only-of-type {\n        vertical-align: middle;\n    }\n\n    .dataframe tbody tr th {\n        vertical-align: top;\n    }\n\n    .dataframe thead th {\n        text-align: right;\n    }\n</style>\n<table border=\"1\" class=\"dataframe\">\n  <thead>\n    <tr style=\"text-align: right;\">\n      <th></th>\n      <th>Trial 0</th>\n      <th>Trial 1</th>\n      <th>Trial 2</th>\n      <th>Trial 3</th>\n      <th>Trial 4</th>\n      <th>Trial 5</th>\n      <th>Trial 6</th>\n      <th>Trial 7</th>\n      <th>Trial 8</th>\n      <th>Trial 9</th>\n      <th>...</th>\n      <th>Trial 30</th>\n      <th>Trial 31</th>\n      <th>Trial 32</th>\n      <th>Trial 33</th>\n      <th>Trial 34</th>\n      <th>Trial 35</th>\n      <th>Trial 36</th>\n      <th>Trial 37</th>\n      <th>PROB_1s_AVG</th>\n      <th>VOTED_PREDICTION</th>\n    </tr>\n  </thead>\n  <tbody>\n    <tr>\n      <th>0</th>\n      <td>0.689837</td>\n      <td>0.59348</td>\n      <td>0.703678</td>\n      <td>0.657622</td>\n      <td>0.669327</td>\n      <td>0.680967</td>\n      <td>0.34517</td>\n      <td>0.847257</td>\n      <td>0.594675</td>\n      <td>0.807849</td>\n      <td>...</td>\n      <td>0.914072</td>\n      <td>0.821777</td>\n      <td>0.740711</td>\n      <td>0.743697</td>\n      <td>0.836938</td>\n      <td>0.934375</td>\n      <td>0.629593</td>\n      <td>0.701267</td>\n      <td>0.7422</td>\n      <td>1</td>\n    </tr>\n    <tr>\n      <th>1</th>\n      <td>0.611841</td>\n      <td>0.462296</td>\n      <td>0.608583</td>\n      <td>0.531374</td>\n      <td>0.669779</td>\n      <td>0.518195</td>\n      <td>0.474314</td>\n      <td>0.814617</td>\n      <td>0.516344</td>\n      <td>0.695191</td>\n      <td>...</td>\n      <td>0.555554</td>\n      <td>0.610511</td>\n      <td>0.474815</td>\n      <td>0.526471</td>\n      <td>0.669051</td>\n      <td>0.166667</td>\n      <td>0.571876</td>\n      <td>0.62546</td>\n      <td>0.57144</td>\n      <td>1</td>\n    </tr>\n    <tr>\n      <th>2</th>\n      <td>0.490572</td>\n      <td>0.403711</td>\n      <td>0.600442</td>\n      <td>0.460101</td>\n      <td>0.637425</td>\n      <td>0.414457</td>\n      <td>0.557137</td>\n      <td>0.715715</td>\n      <td>0.415513</td>\n      <td>0.629651</td>\n      <td>...</td>\n      <td>0.456681</td>\n      <td>0.70364</td>\n      <td>0.463691</td>\n      <td>0.429412</td>\n      <td>0.561114</td>\n      <td>0.166667</td>\n      <td>0.503542</td>\n      <td>0.581567</td>\n      <td>0.51163</td>\n      <td>1</td>\n    </tr>\n  </tbody>\n</table>\n<p>3 rows × 40 columns</p>\n</div>"
     },
     "metadata": {},
     "output_type": "display_data"
    }
   ],
   "source": [
    "display_data(predator.predictions['ov_predictions_prob_data'])"
   ]
  },
  {
   "cell_type": "code",
   "execution_count": 18,
   "id": "f2b38467-e658-4ed6-9ac0-6de1f1017ce7",
   "metadata": {
    "pycharm": {
     "name": "#%%\n"
    }
   },
   "outputs": [
    {
     "data": {
      "text/plain": "<Figure size 432x288 with 1 Axes>",
      "image/png": "[encoded data removed]"
     },
     "metadata": {
      "needs_background": "light"
     },
     "output_type": "display_data"
    }
   ],
   "source": [
    "predator.predictions.plot_ensemble_prediction_distribution(\"ov\")"
   ]
  },
  {
   "cell_type": "code",
   "execution_count": 19,
   "id": "c454d6a9-5c73-4fe6-b609-e7b160e2ddb8",
   "metadata": {
    "pycharm": {
     "name": "#%%\n"
    }
   },
   "outputs": [
    {
     "name": "stdout",
     "output_type": "stream",
     "text": [
      "\u001B[36mData dimensions: (2582, 4)\u001B[0m\n"
     ]
    },
    {
     "data": {
      "text/plain": "  UniProt_ID Mutation Interactor_UniProt_ID Prediction\n0     P08134     D59E                P52565          1\n1     P62993      A3V                Q9H8V3          1\n2     P62993      A3V                Q14155          1",
      "text/html": "<div>\n<style scoped>\n    .dataframe tbody tr th:only-of-type {\n        vertical-align: middle;\n    }\n\n    .dataframe tbody tr th {\n        vertical-align: top;\n    }\n\n    .dataframe thead th {\n        text-align: right;\n    }\n</style>\n<table border=\"1\" class=\"dataframe\">\n  <thead>\n    <tr style=\"text-align: right;\">\n      <th></th>\n      <th>UniProt_ID</th>\n      <th>Mutation</th>\n      <th>Interactor_UniProt_ID</th>\n      <th>Prediction</th>\n    </tr>\n  </thead>\n  <tbody>\n    <tr>\n      <th>0</th>\n      <td>P08134</td>\n      <td>D59E</td>\n      <td>P52565</td>\n      <td>1</td>\n    </tr>\n    <tr>\n      <th>1</th>\n      <td>P62993</td>\n      <td>A3V</td>\n      <td>Q9H8V3</td>\n      <td>1</td>\n    </tr>\n    <tr>\n      <th>2</th>\n      <td>P62993</td>\n      <td>A3V</td>\n      <td>Q14155</td>\n      <td>1</td>\n    </tr>\n  </tbody>\n</table>\n</div>"
     },
     "metadata": {},
     "output_type": "display_data"
    }
   ],
   "source": [
    "ov_prediction_results_soft = predator.predictions['ov_prediction_results']\n",
    "display_data(ov_prediction_results_soft)"
   ]
  },
  {
   "cell_type": "code",
   "execution_count": 20,
   "id": "569c4dd1-e2d9-40d0-b7c0-1cc177adfabb",
   "metadata": {
    "pycharm": {
     "name": "#%%\n"
    }
   },
   "outputs": [
    {
     "name": "stdout",
     "output_type": "stream",
     "text": [
      "\u001B[36mData dimensions: (2501, 4)\u001B[0m\n"
     ]
    },
    {
     "data": {
      "text/plain": "  UniProt_ID Mutation Interactor_UniProt_ID Prediction\n0     P08134     D59E                P52565          1\n1     P62993      A3V                Q9H8V3          1\n2     P62993      A3V                Q14155          1",
      "text/html": "<div>\n<style scoped>\n    .dataframe tbody tr th:only-of-type {\n        vertical-align: middle;\n    }\n\n    .dataframe tbody tr th {\n        vertical-align: top;\n    }\n\n    .dataframe thead th {\n        text-align: right;\n    }\n</style>\n<table border=\"1\" class=\"dataframe\">\n  <thead>\n    <tr style=\"text-align: right;\">\n      <th></th>\n      <th>UniProt_ID</th>\n      <th>Mutation</th>\n      <th>Interactor_UniProt_ID</th>\n      <th>Prediction</th>\n    </tr>\n  </thead>\n  <tbody>\n    <tr>\n      <th>0</th>\n      <td>P08134</td>\n      <td>D59E</td>\n      <td>P52565</td>\n      <td>1</td>\n    </tr>\n    <tr>\n      <th>1</th>\n      <td>P62993</td>\n      <td>A3V</td>\n      <td>Q9H8V3</td>\n      <td>1</td>\n    </tr>\n    <tr>\n      <th>2</th>\n      <td>P62993</td>\n      <td>A3V</td>\n      <td>Q14155</td>\n      <td>1</td>\n    </tr>\n  </tbody>\n</table>\n</div>"
     },
     "metadata": {},
     "output_type": "display_data"
    }
   ],
   "source": [
    "ov_prediction_results_soft_no_votes_dropped = predator.predictions[\"ov_prediction_results_no_votes_dropped\"]\n",
    "display_data(ov_prediction_results_soft_no_votes_dropped)"
   ]
  },
  {
   "cell_type": "code",
   "execution_count": 21,
   "id": "d1100263-ae65-405f-a13d-896927fdc1c5",
   "metadata": {
    "pycharm": {
     "name": "#%%\n"
    }
   },
   "outputs": [
    {
     "name": "stdout",
     "output_type": "stream",
     "text": [
      "\u001B[36mLabel counts:\n",
      "Increasing + No Effect    1104\n",
      "Disrupting                1397\n",
      "Name: Prediction, dtype: int64\u001B[0m\n"
     ]
    },
    {
     "data": {
      "text/plain": "<Figure size 432x288 with 1 Axes>",
      "image/png": "[encoded data removed]"
     },
     "metadata": {},
     "output_type": "display_data"
    }
   ],
   "source": [
    "visualize_label_counts(ov_prediction_results_soft_no_votes_dropped, 'Prediction')"
   ]
  },
  {
   "cell_type": "code",
   "execution_count": 22,
   "id": "37c0a11a-e87e-40af-ba8a-8a28b82d956d",
   "metadata": {
    "pycharm": {
     "name": "#%%\n"
    }
   },
   "outputs": [],
   "source": [
    "ov_ensemble_prediction_data_soft = predator.predictions[\"ov_ensemble_prediction_data\"]"
   ]
  },
  {
   "cell_type": "code",
   "execution_count": 23,
   "id": "e4995e62-dfd6-4b54-bd6c-67a62eefb6a6",
   "metadata": {
    "pycharm": {
     "name": "#%%\n"
    }
   },
   "outputs": [],
   "source": [
    "ov_predictions_prob_data_soft = predator.predictions[\"ov_predictions_prob_data\"]"
   ]
  },
  {
   "cell_type": "code",
   "execution_count": 23,
   "id": "f024fc9b-c4b1-4b79-8893-08638e7e90d3",
   "metadata": {
    "pycharm": {
     "name": "#%%\n"
    }
   },
   "outputs": [],
   "source": []
  },
  {
   "cell_type": "code",
   "execution_count": 24,
   "id": "a84ab98c-1e29-413a-8c6e-514b747fd38f",
   "metadata": {
    "pycharm": {
     "name": "#%%\n"
    }
   },
   "outputs": [],
   "source": [
    "def add_median_probabilities(prediction_results, predictions_prob_data):\n",
    "    assert len(prediction_results) == len(predictions_prob_data)\n",
    "    prediction_results_with_probabilities = prediction_results.copy()\n",
    "    prediction_results_with_probabilities[\"Median_Probability\"] = predictions_prob_data[\"PROB_1s_AVG\"]\n",
    "    return prediction_results_with_probabilities"
   ]
  },
  {
   "cell_type": "code",
   "execution_count": 25,
   "id": "b8955db8-7279-4644-acb9-6297e6e1c43c",
   "metadata": {
    "pycharm": {
     "name": "#%%\n"
    }
   },
   "outputs": [
    {
     "data": {
      "text/plain": "  UniProt_ID Mutation Interactor_UniProt_ID Prediction Median_Probability\n0     P08134     D59E                P52565          1             0.7422\n1     P62993      A3V                Q9H8V3          1            0.57144\n2     P62993      A3V                Q14155          1            0.51163\n3     O75175    Q684H                Q9NZN8          1            0.67857\n4     O75175    Q684H                B2RDX7          1            0.67556",
      "text/html": "<div>\n<style scoped>\n    .dataframe tbody tr th:only-of-type {\n        vertical-align: middle;\n    }\n\n    .dataframe tbody tr th {\n        vertical-align: top;\n    }\n\n    .dataframe thead th {\n        text-align: right;\n    }\n</style>\n<table border=\"1\" class=\"dataframe\">\n  <thead>\n    <tr style=\"text-align: right;\">\n      <th></th>\n      <th>UniProt_ID</th>\n      <th>Mutation</th>\n      <th>Interactor_UniProt_ID</th>\n      <th>Prediction</th>\n      <th>Median_Probability</th>\n    </tr>\n  </thead>\n  <tbody>\n    <tr>\n      <th>0</th>\n      <td>P08134</td>\n      <td>D59E</td>\n      <td>P52565</td>\n      <td>1</td>\n      <td>0.7422</td>\n    </tr>\n    <tr>\n      <th>1</th>\n      <td>P62993</td>\n      <td>A3V</td>\n      <td>Q9H8V3</td>\n      <td>1</td>\n      <td>0.57144</td>\n    </tr>\n    <tr>\n      <th>2</th>\n      <td>P62993</td>\n      <td>A3V</td>\n      <td>Q14155</td>\n      <td>1</td>\n      <td>0.51163</td>\n    </tr>\n    <tr>\n      <th>3</th>\n      <td>O75175</td>\n      <td>Q684H</td>\n      <td>Q9NZN8</td>\n      <td>1</td>\n      <td>0.67857</td>\n    </tr>\n    <tr>\n      <th>4</th>\n      <td>O75175</td>\n      <td>Q684H</td>\n      <td>B2RDX7</td>\n      <td>1</td>\n      <td>0.67556</td>\n    </tr>\n  </tbody>\n</table>\n</div>"
     },
     "execution_count": 25,
     "metadata": {},
     "output_type": "execute_result"
    }
   ],
   "source": [
    "ov_prediction_results_soft_with_median_probs = add_median_probabilities(\n",
    "    prediction_results=predator.predictions[\"ov_prediction_results\"],\n",
    "    predictions_prob_data=predator.predictions[\"ov_predictions_prob_data\"]\n",
    ")\n",
    "ov_prediction_results_soft_with_median_probs.head()"
   ]
  },
  {
   "cell_type": "code",
   "execution_count": 26,
   "id": "5328bf48-72fa-4a0c-86c5-76e0939b0e5c",
   "metadata": {
    "pycharm": {
     "name": "#%%\n"
    }
   },
   "outputs": [],
   "source": [
    "ov_prediction_results_soft_no_votes_dropped_with_median_probabilities = ov_prediction_results_soft_with_median_probs[\n",
    "    ov_prediction_results_soft_with_median_probs['Prediction'].isin([0, 1])\n",
    "]"
   ]
  },
  {
   "cell_type": "code",
   "execution_count": 27,
   "id": "5040e7d0-4bd2-4197-8a21-58bfd68b6c76",
   "metadata": {
    "pycharm": {
     "name": "#%%\n"
    }
   },
   "outputs": [
    {
     "data": {
      "text/plain": "2501"
     },
     "execution_count": 27,
     "metadata": {},
     "output_type": "execute_result"
    }
   ],
   "source": [
    "len(ov_prediction_results_soft_no_votes_dropped_with_median_probabilities)"
   ]
  },
  {
   "cell_type": "code",
   "execution_count": 27,
   "id": "8c3d4516-0739-4ccb-ac4f-925089776ded",
   "metadata": {
    "pycharm": {
     "name": "#%%\n"
    }
   },
   "outputs": [],
   "source": []
  },
  {
   "cell_type": "markdown",
   "id": "412859ae-c188-410e-85ef-7df91b9d2b89",
   "metadata": {
    "pycharm": {
     "name": "#%% md\n"
    }
   },
   "source": [
    "## Exporting Predictions"
   ]
  },
  {
   "cell_type": "code",
   "execution_count": 28,
   "id": "4042b8ce-498b-4c6c-b964-bbf7632e4ae6",
   "metadata": {
    "pycharm": {
     "name": "#%%\n"
    }
   },
   "outputs": [
    {
     "name": "stdout",
     "output_type": "stream",
     "text": [
      "\u001B[36mData dimensions: (2501, 5)\u001B[0m\n"
     ]
    },
    {
     "data": {
      "text/plain": "  UniProt_ID Mutation Interactor_UniProt_ID Prediction Median_Probability\n0     P08134     D59E                P52565          1             0.7422\n1     P62993      A3V                Q9H8V3          1            0.57144\n2     P62993      A3V                Q14155          1            0.51163",
      "text/html": "<div>\n<style scoped>\n    .dataframe tbody tr th:only-of-type {\n        vertical-align: middle;\n    }\n\n    .dataframe tbody tr th {\n        vertical-align: top;\n    }\n\n    .dataframe thead th {\n        text-align: right;\n    }\n</style>\n<table border=\"1\" class=\"dataframe\">\n  <thead>\n    <tr style=\"text-align: right;\">\n      <th></th>\n      <th>UniProt_ID</th>\n      <th>Mutation</th>\n      <th>Interactor_UniProt_ID</th>\n      <th>Prediction</th>\n      <th>Median_Probability</th>\n    </tr>\n  </thead>\n  <tbody>\n    <tr>\n      <th>0</th>\n      <td>P08134</td>\n      <td>D59E</td>\n      <td>P52565</td>\n      <td>1</td>\n      <td>0.7422</td>\n    </tr>\n    <tr>\n      <th>1</th>\n      <td>P62993</td>\n      <td>A3V</td>\n      <td>Q9H8V3</td>\n      <td>1</td>\n      <td>0.57144</td>\n    </tr>\n    <tr>\n      <th>2</th>\n      <td>P62993</td>\n      <td>A3V</td>\n      <td>Q14155</td>\n      <td>1</td>\n      <td>0.51163</td>\n    </tr>\n  </tbody>\n</table>\n</div>"
     },
     "metadata": {},
     "output_type": "display_data"
    }
   ],
   "source": [
    "# ov_prediction_results = ov_prediction_results_hard_no_votes_dropped\n",
    "# ov_prediction_results = ov_prediction_results_soft_no_votes_dropped\n",
    "ov_prediction_results = ov_prediction_results_soft_no_votes_dropped_with_median_probabilities\n",
    "display_data(ov_prediction_results)"
   ]
  },
  {
   "cell_type": "code",
   "execution_count": 29,
   "id": "4ab9fbc1-d3d2-4424-99ac-aa5515070d71",
   "metadata": {
    "pycharm": {
     "name": "#%%\n"
    }
   },
   "outputs": [
    {
     "name": "stdout",
     "output_type": "stream",
     "text": [
      "2022-06-17 10:15:07 |\u001B[36m DEBUG    \u001B[0m| helpers.helpers_predator.common | Folder with ID 865d1897 is created.\n",
      "2022-06-17 10:15:07 |\u001B[36m DEBUG    \u001B[0m| helpers.helpers_predator.common | Exporting data predictions at location ../data/predictions_datasets/ in folder ov_prediction_2022-06-17\\865d1897..\n",
      "2022-06-17 10:15:07 |\u001B[32m INFO     \u001B[0m| helpers.helpers_predator.common | ../data/predictions_datasets/ov_prediction_2022-06-17\\865d1897\\predictions_soft_2022-06-17.csv is exported successfully.\n",
      "2022-06-17 10:15:07 |\u001B[32m INFO     \u001B[0m| helpers.helpers_predator.common | Config is exported.\n"
     ]
    }
   ],
   "source": [
    "predator.export_prediction(\n",
    "    tcga=\"ov\",\n",
    "    data=ov_prediction_results,\n",
    "    file_name=\"predictions\",\n",
    "    folder_path=PREDICTIONS_DATASETS_FOLDER_PATH,\n",
    "    voting=\"soft\",\n",
    "    overwrite=False,\n",
    "    file_extension='csv'\n",
    ")"
   ]
  },
  {
   "cell_type": "markdown",
   "id": "fbc616a5-ce63-4b93-a858-b3d22fdce070",
   "metadata": {
    "pycharm": {
     "name": "#%% md\n"
    }
   },
   "source": [
    "---"
   ]
  },
  {
   "cell_type": "code",
   "execution_count": null,
   "id": "2159ade9-870c-4676-94f2-4d1f4b09beee",
   "metadata": {
    "pycharm": {
     "name": "#%%\n"
    }
   },
   "outputs": [],
   "source": []
  },
  {
   "cell_type": "code",
   "execution_count": null,
   "id": "b433e711-3d72-4850-b272-841e0ede9797",
   "metadata": {
    "pycharm": {
     "name": "#%%\n"
    }
   },
   "outputs": [],
   "source": []
  }
 ],
 "metadata": {
  "kernelspec": {
   "name": "predator",
   "language": "python",
   "display_name": "Predator"
  },
  "language_info": {
   "codemirror_mode": {
    "name": "ipython",
    "version": 3
   },
   "file_extension": ".py",
   "mimetype": "text/x-python",
   "name": "python",
   "nbconvert_exporter": "python",
   "pygments_lexer": "ipython3",
   "version": "3.8.10"
  },
  "toc-autonumbering": false
 },
 "nbformat": 4,
 "nbformat_minor": 5
}