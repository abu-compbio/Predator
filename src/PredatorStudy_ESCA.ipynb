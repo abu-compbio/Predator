{
 "cells": [
  {
   "cell_type": "markdown",
   "id": "b0eea2f9-919a-44d2-970f-da295e7b77c5",
   "metadata": {
    "pycharm": {
     "name": "#%% md\n"
    },
    "tags": []
   },
   "source": [
    "# PREDATOR: **PRED**icting the imp**A**ct of cancer somatic mu**T**ations on pr**O**tein-protein inte**R**actions\n"
   ]
  },
  {
   "cell_type": "markdown",
   "id": "0fc1bee2-776f-46dc-9aa7-80e979b941df",
   "metadata": {
    "pycharm": {
     "name": "#%% md\n"
    }
   },
   "source": [
    "## ESCA"
   ]
  },
  {
   "cell_type": "markdown",
   "id": "f412b89c-b553-4606-95fb-d30520f77b97",
   "metadata": {
    "pycharm": {
     "name": "#%% md\n"
    }
   },
   "source": [
    "\n",
    "<b><i class=\"fa fa-folder-o\" area-hidden=\"true\" style=\"color:#1976D2\"> </i>&nbsp; File Location</b><br>\n",
    "<p style=\"background:#F5F5F5; text-indent: 1em;\">\n",
    "<code style=\"background:#F5F5F5; color:#404040; font-weight:bold; font-size:12px\">Predator\\src</code>\n",
    "</p>\n",
    "\n",
    "<b><i class=\"far fa-file\" area-hidden=\"true\" style=\"color:#1976D2\"> </i>&nbsp; File Name</b>\n",
    "<p style=\"background:#F5F5F5; text-indent: 1em;\">\n",
    "<code style=\"background:#F5F5F5; color:#404040; font-weight:bold; font-size:12px\">PredatorStudy_ESCA.ipynb</code>\n",
    "</p>\n",
    "\n",
    "<b><i class=\"far fa-calendar-alt\" area-hidden=\"true\" style=\"color:#1976D2\"> </i>&nbsp; Last Edited</b>\n",
    "<p style=\"background:#F5F5F5; text-indent: 1em;\">\n",
    "<code style=\"background:#F5F5F5; color:#404040; font-weight:bold; font-size:12px\">June 17th, 2022</code>\n",
    "</p>\n"
   ]
  },
  {
   "cell_type": "markdown",
   "id": "8931daec-0e11-43e2-8a68-098571c3cc4e",
   "metadata": {
    "pycharm": {
     "name": "#%% md\n"
    }
   },
   "source": [
    "<div class=\"alert alert-block\" style=\"background-color: #F5F5F5; border: 1px solid; padding: 10px; border-color: #E0E0E0\">\n",
    "    <b><i class=\"fa fa-compass\" aria-hidden=\"true\" style=\"color:#404040\"></i></b>&nbsp; <b style=\"color: #404040\">Purpose </b> <br>\n",
    "<div>\n",
    "   \n",
    "- [x] Apply on Cancer Datasets\n",
    "    > ESCA\n",
    "    \n",
    "**Dependent files:**\n",
    "\n",
    "* Target (Cancer) data: \n",
    "    - *ESCA_Interface.txt*"
   ]
  },
  {
   "cell_type": "code",
   "execution_count": 2,
   "id": "3f602602-ac27-4390-9521-9bcdc73f06ef",
   "metadata": {
    "pycharm": {
     "name": "#%%\n"
    },
    "tags": [
     "parameters"
    ]
   },
   "outputs": [
    {
     "name": "stdout",
     "output_type": "stream",
     "text": [
      "The autoreload extension is already loaded. To reload it, use:\n",
      "  %reload_ext autoreload\n"
     ]
    }
   ],
   "source": [
    "from pathlib import Path\n",
    "\n",
    "from helpers.helpers_predator.displayers import (\n",
    "    visualize_label_counts,\n",
    "    display_data,\n",
    ")\n",
    "\n",
    "from helpers.helpers_predator.common import load_predator\n",
    "\n",
    "# PATHS\n",
    "ESCA_PATH = Path(r\"../data/Elaspic_merged_results/ESCA_Interface_2021-11-17.txt\")\n",
    "PREDATOR_MODEL_PATH = Path(r\"PredatorModels/PredatorModel_2022-06-16/cc84a54e/predator.pkl\")\n",
    "PREDICTIONS_DATASETS_FOLDER_PATH = \"../data/predictions_datasets/\"\n",
    "\n",
    "# Reflect changes in the modules immediately.\n",
    "%load_ext autoreload\n",
    "%autoreload 2"
   ]
  },
  {
   "cell_type": "markdown",
   "id": "c47b1edb-758c-460e-acf7-4f864330d19b",
   "metadata": {
    "pycharm": {
     "name": "#%% md\n"
    }
   },
   "source": [
    "## Load the Predator"
   ]
  },
  {
   "cell_type": "code",
   "execution_count": 3,
   "id": "0c164c31-9b7e-4366-8336-50cbc80bf9c7",
   "metadata": {
    "pycharm": {
     "name": "#%%\n"
    }
   },
   "outputs": [
    {
     "name": "stdout",
     "output_type": "stream",
     "text": [
      "2022-06-17 00:33:11 |\u001b[32m INFO     \u001b[0m| helpers.helpers_predator.common | Predator object PredatorModels\\PredatorModel_2022-06-16\\cc84a54e\\predator.pkl is loaded successfully.\n"
     ]
    }
   ],
   "source": [
    "predator = load_predator(PREDATOR_MODEL_PATH)"
   ]
  },
  {
   "cell_type": "markdown",
   "id": "60f783e4-28bb-4543-9d35-42c4b17b37b8",
   "metadata": {
    "pycharm": {
     "name": "#%% md\n"
    }
   },
   "source": [
    "## Prediction TCGA on Cancer Dataset: ESCA"
   ]
  },
  {
   "cell_type": "code",
   "execution_count": 4,
   "id": "c27cc976-e356-4271-85e9-f23c9366dc67",
   "metadata": {
    "pycharm": {
     "name": "#%%\n"
    }
   },
   "outputs": [
    {
     "name": "stdout",
     "output_type": "stream",
     "text": [
      "2022-06-17 00:33:11 |\u001b[36m DEBUG    \u001b[0m| helpers.helpers_predator.data_materials | Initialize `esca` ..\n",
      "2022-06-17 00:33:11 |\u001b[36m DEBUG    \u001b[0m| helpers.helpers_predator.data_materials | Initialize `target_esca_data` ..\n",
      "2022-06-17 00:33:11 |\u001b[36m DEBUG    \u001b[0m| helpers.helpers_predator.data_materials | Initializing target data materials ..\n",
      "2022-06-17 00:33:11 |\u001b[36m DEBUG    \u001b[0m| helpers.helpers_predator.data_materials | Determined features: ['EL2_score', 'Provean_score', 'Final_ddG', 'Interactor_alignment_score', 'Matrix_score', 'Solvent_accessibility_wt', 'van_der_waals_mut', 'Solvent_accessibility_mut', 'Interactor_template_sequence_identity', 'solvation_polar_wt']\n",
      "2022-06-17 00:33:11 |\u001b[36m DEBUG    \u001b[0m| helpers.helpers_predator.data_materials | Declaring Xs_esca data materials  ..\n"
     ]
    }
   ],
   "source": [
    "predator.initialize_target_data_materials(\n",
    "    tcga_code_path_pairs=[('esca', ESCA_PATH)]\n",
    ")"
   ]
  },
  {
   "cell_type": "markdown",
   "id": "245b2b8c-0c70-4cd5-9a09-b3428cf0b048",
   "metadata": {
    "pycharm": {
     "name": "#%% md\n"
    },
    "tags": []
   },
   "source": [
    "#### TCGA Cancer Datasets"
   ]
  },
  {
   "cell_type": "markdown",
   "id": "4ab061ec-37b5-4651-a5c0-1f1238e7a08a",
   "metadata": {
    "pycharm": {
     "name": "#%% md\n"
    }
   },
   "source": [
    "##### ESCA"
   ]
  },
  {
   "cell_type": "code",
   "execution_count": 5,
   "id": "342221d3-8e16-42eb-9801-20a3efed64f5",
   "metadata": {
    "pycharm": {
     "name": "#%%\n"
    }
   },
   "outputs": [
    {
     "name": "stdout",
     "output_type": "stream",
     "text": [
      "\u001b[36mData dimensions: (2446, 103)\u001b[0m\n"
     ]
    },
    {
     "data": {
      "text/html": [
       "<div>\n",
       "<style scoped>\n",
       "    .dataframe tbody tr th:only-of-type {\n",
       "        vertical-align: middle;\n",
       "    }\n",
       "\n",
       "    .dataframe tbody tr th {\n",
       "        vertical-align: top;\n",
       "    }\n",
       "\n",
       "    .dataframe thead th {\n",
       "        text-align: right;\n",
       "    }\n",
       "</style>\n",
       "<table border=\"1\" class=\"dataframe\">\n",
       "  <thead>\n",
       "    <tr style=\"text-align: right;\">\n",
       "      <th></th>\n",
       "      <th>Input_identifier</th>\n",
       "      <th>UniProt_ID</th>\n",
       "      <th>Mutation</th>\n",
       "      <th>Status</th>\n",
       "      <th>Type</th>\n",
       "      <th>COSMIC_mut_ID</th>\n",
       "      <th>ClinVar_mut_ID</th>\n",
       "      <th>UniProt_mut_ID</th>\n",
       "      <th>Domain_name</th>\n",
       "      <th>Domain_clan</th>\n",
       "      <th>...</th>\n",
       "      <th>number_of_residues_mut</th>\n",
       "      <th>IntraclashesEnergy1_wt</th>\n",
       "      <th>IntraclashesEnergy1_mut</th>\n",
       "      <th>IntraclashesEnergy2_wt</th>\n",
       "      <th>IntraclashesEnergy2_mut</th>\n",
       "      <th>Interface_hydrophobic_area</th>\n",
       "      <th>Interface_hydrophilic_area</th>\n",
       "      <th>Interface_total_area</th>\n",
       "      <th>Interface_contact_distance_wt</th>\n",
       "      <th>Interface_contact_distance_mut</th>\n",
       "    </tr>\n",
       "  </thead>\n",
       "  <tbody>\n",
       "    <tr>\n",
       "      <th>0</th>\n",
       "      <td>P61088</td>\n",
       "      <td>P61088</td>\n",
       "      <td>E61K</td>\n",
       "      <td>done</td>\n",
       "      <td>interface</td>\n",
       "      <td>-</td>\n",
       "      <td>-</td>\n",
       "      <td>-</td>\n",
       "      <td>UQ_con</td>\n",
       "      <td>UQ_con</td>\n",
       "      <td>...</td>\n",
       "      <td>254.0</td>\n",
       "      <td>33.4527</td>\n",
       "      <td>33.4511</td>\n",
       "      <td>40.0177</td>\n",
       "      <td>40.0114</td>\n",
       "      <td>319.225</td>\n",
       "      <td>201.86</td>\n",
       "      <td>521.085</td>\n",
       "      <td>2.612</td>\n",
       "      <td>4.42118</td>\n",
       "    </tr>\n",
       "    <tr>\n",
       "      <th>1</th>\n",
       "      <td>P61088</td>\n",
       "      <td>P61088</td>\n",
       "      <td>E61K</td>\n",
       "      <td>done</td>\n",
       "      <td>interface</td>\n",
       "      <td>-</td>\n",
       "      <td>-</td>\n",
       "      <td>-</td>\n",
       "      <td>UQ_con</td>\n",
       "      <td>UQ_con</td>\n",
       "      <td>...</td>\n",
       "      <td>254.0</td>\n",
       "      <td>33.4527</td>\n",
       "      <td>33.4511</td>\n",
       "      <td>40.0177</td>\n",
       "      <td>40.0114</td>\n",
       "      <td>319.225</td>\n",
       "      <td>201.86</td>\n",
       "      <td>521.085</td>\n",
       "      <td>2.612</td>\n",
       "      <td>4.42118</td>\n",
       "    </tr>\n",
       "    <tr>\n",
       "      <th>2</th>\n",
       "      <td>P61088</td>\n",
       "      <td>P61088</td>\n",
       "      <td>E61K</td>\n",
       "      <td>done</td>\n",
       "      <td>interface</td>\n",
       "      <td>-</td>\n",
       "      <td>-</td>\n",
       "      <td>-</td>\n",
       "      <td>UQ_con</td>\n",
       "      <td>UQ_con</td>\n",
       "      <td>...</td>\n",
       "      <td>254.0</td>\n",
       "      <td>33.4527</td>\n",
       "      <td>33.4511</td>\n",
       "      <td>40.0177</td>\n",
       "      <td>40.0114</td>\n",
       "      <td>319.225</td>\n",
       "      <td>201.86</td>\n",
       "      <td>521.085</td>\n",
       "      <td>2.612</td>\n",
       "      <td>4.42118</td>\n",
       "    </tr>\n",
       "  </tbody>\n",
       "</table>\n",
       "<p>3 rows × 103 columns</p>\n",
       "</div>"
      ],
      "text/plain": [
       "  Input_identifier UniProt_ID Mutation Status       Type COSMIC_mut_ID  \\\n",
       "0           P61088     P61088     E61K   done  interface             -   \n",
       "1           P61088     P61088     E61K   done  interface             -   \n",
       "2           P61088     P61088     E61K   done  interface             -   \n",
       "\n",
       "  ClinVar_mut_ID UniProt_mut_ID Domain_name Domain_clan  ...  \\\n",
       "0              -              -      UQ_con      UQ_con  ...   \n",
       "1              -              -      UQ_con      UQ_con  ...   \n",
       "2              -              -      UQ_con      UQ_con  ...   \n",
       "\n",
       "  number_of_residues_mut IntraclashesEnergy1_wt  IntraclashesEnergy1_mut  \\\n",
       "0                  254.0                33.4527                  33.4511   \n",
       "1                  254.0                33.4527                  33.4511   \n",
       "2                  254.0                33.4527                  33.4511   \n",
       "\n",
       "   IntraclashesEnergy2_wt IntraclashesEnergy2_mut Interface_hydrophobic_area  \\\n",
       "0                 40.0177                 40.0114                    319.225   \n",
       "1                 40.0177                 40.0114                    319.225   \n",
       "2                 40.0177                 40.0114                    319.225   \n",
       "\n",
       "  Interface_hydrophilic_area Interface_total_area  \\\n",
       "0                     201.86              521.085   \n",
       "1                     201.86              521.085   \n",
       "2                     201.86              521.085   \n",
       "\n",
       "  Interface_contact_distance_wt  Interface_contact_distance_mut  \n",
       "0                         2.612                         4.42118  \n",
       "1                         2.612                         4.42118  \n",
       "2                         2.612                         4.42118  \n",
       "\n",
       "[3 rows x 103 columns]"
      ]
     },
     "metadata": {},
     "output_type": "display_data"
    }
   ],
   "source": [
    "display_data(predator.data_materials[\"esca\"])"
   ]
  },
  {
   "cell_type": "markdown",
   "id": "a22d630d-e0a0-4417-aa64-0df18f8f3a63",
   "metadata": {
    "pycharm": {
     "name": "#%% md\n"
    },
    "tags": []
   },
   "source": [
    "#### Preprocessed TCGA Cancer Datasets"
   ]
  },
  {
   "cell_type": "markdown",
   "id": "ca038a01-2691-4943-9d7e-55a41661f3cc",
   "metadata": {
    "pycharm": {
     "name": "#%% md\n"
    }
   },
   "source": [
    "##### ESCA"
   ]
  },
  {
   "cell_type": "code",
   "execution_count": 6,
   "id": "67f55bd2-c25a-4d6c-ba5b-08957cf03852",
   "metadata": {
    "pycharm": {
     "name": "#%%\n"
    }
   },
   "outputs": [
    {
     "name": "stdout",
     "output_type": "stream",
     "text": [
      "\u001b[36mData dimensions: (2446, 61)\u001b[0m\n"
     ]
    },
    {
     "data": {
      "text/html": [
       "<div>\n",
       "<style scoped>\n",
       "    .dataframe tbody tr th:only-of-type {\n",
       "        vertical-align: middle;\n",
       "    }\n",
       "\n",
       "    .dataframe tbody tr th {\n",
       "        vertical-align: top;\n",
       "    }\n",
       "\n",
       "    .dataframe thead th {\n",
       "        text-align: right;\n",
       "    }\n",
       "</style>\n",
       "<table border=\"1\" class=\"dataframe\">\n",
       "  <thead>\n",
       "    <tr style=\"text-align: right;\">\n",
       "      <th></th>\n",
       "      <th>UniProt_ID</th>\n",
       "      <th>Mutation</th>\n",
       "      <th>Interactor_UniProt_ID</th>\n",
       "      <th>Template_sequence_identity</th>\n",
       "      <th>Alignment_score</th>\n",
       "      <th>Interactor_template_sequence_identity</th>\n",
       "      <th>Interactor_alignment_score</th>\n",
       "      <th>Final_ddG</th>\n",
       "      <th>ProtBert_score</th>\n",
       "      <th>ProteinSolver_score</th>\n",
       "      <th>...</th>\n",
       "      <th>number_of_residues_mut</th>\n",
       "      <th>IntraclashesEnergy1_wt</th>\n",
       "      <th>IntraclashesEnergy1_mut</th>\n",
       "      <th>IntraclashesEnergy2_wt</th>\n",
       "      <th>IntraclashesEnergy2_mut</th>\n",
       "      <th>Interface_hydrophobic_area</th>\n",
       "      <th>Interface_hydrophilic_area</th>\n",
       "      <th>Interface_total_area</th>\n",
       "      <th>Interface_contact_distance_wt</th>\n",
       "      <th>Interface_contact_distance_mut</th>\n",
       "    </tr>\n",
       "  </thead>\n",
       "  <tbody>\n",
       "    <tr>\n",
       "      <th>0</th>\n",
       "      <td>P61088</td>\n",
       "      <td>E61K</td>\n",
       "      <td>P38398</td>\n",
       "      <td>1.0</td>\n",
       "      <td>0.973684</td>\n",
       "      <td>0.3913</td>\n",
       "      <td>0.188348</td>\n",
       "      <td>0.828693</td>\n",
       "      <td>0.5699</td>\n",
       "      <td>0.06335</td>\n",
       "      <td>...</td>\n",
       "      <td>254.0</td>\n",
       "      <td>33.4527</td>\n",
       "      <td>33.4511</td>\n",
       "      <td>40.0177</td>\n",
       "      <td>40.0114</td>\n",
       "      <td>319.225</td>\n",
       "      <td>201.86</td>\n",
       "      <td>521.085</td>\n",
       "      <td>2.612</td>\n",
       "      <td>4.42118</td>\n",
       "    </tr>\n",
       "    <tr>\n",
       "      <th>1</th>\n",
       "      <td>P61088</td>\n",
       "      <td>E61K</td>\n",
       "      <td>P38398-3</td>\n",
       "      <td>1.0</td>\n",
       "      <td>0.973684</td>\n",
       "      <td>0.3913</td>\n",
       "      <td>0.188348</td>\n",
       "      <td>0.828693</td>\n",
       "      <td>0.5699</td>\n",
       "      <td>0.06335</td>\n",
       "      <td>...</td>\n",
       "      <td>254.0</td>\n",
       "      <td>33.4527</td>\n",
       "      <td>33.4511</td>\n",
       "      <td>40.0177</td>\n",
       "      <td>40.0114</td>\n",
       "      <td>319.225</td>\n",
       "      <td>201.86</td>\n",
       "      <td>521.085</td>\n",
       "      <td>2.612</td>\n",
       "      <td>4.42118</td>\n",
       "    </tr>\n",
       "    <tr>\n",
       "      <th>2</th>\n",
       "      <td>P61088</td>\n",
       "      <td>E61K</td>\n",
       "      <td>P38398-5</td>\n",
       "      <td>1.0</td>\n",
       "      <td>0.973684</td>\n",
       "      <td>0.3913</td>\n",
       "      <td>0.188348</td>\n",
       "      <td>0.828693</td>\n",
       "      <td>0.5699</td>\n",
       "      <td>0.06335</td>\n",
       "      <td>...</td>\n",
       "      <td>254.0</td>\n",
       "      <td>33.4527</td>\n",
       "      <td>33.4511</td>\n",
       "      <td>40.0177</td>\n",
       "      <td>40.0114</td>\n",
       "      <td>319.225</td>\n",
       "      <td>201.86</td>\n",
       "      <td>521.085</td>\n",
       "      <td>2.612</td>\n",
       "      <td>4.42118</td>\n",
       "    </tr>\n",
       "  </tbody>\n",
       "</table>\n",
       "<p>3 rows × 61 columns</p>\n",
       "</div>"
      ],
      "text/plain": [
       "  UniProt_ID Mutation Interactor_UniProt_ID  Template_sequence_identity  \\\n",
       "0     P61088     E61K                P38398                         1.0   \n",
       "1     P61088     E61K              P38398-3                         1.0   \n",
       "2     P61088     E61K              P38398-5                         1.0   \n",
       "\n",
       "   Alignment_score  Interactor_template_sequence_identity  \\\n",
       "0         0.973684                                 0.3913   \n",
       "1         0.973684                                 0.3913   \n",
       "2         0.973684                                 0.3913   \n",
       "\n",
       "   Interactor_alignment_score  Final_ddG  ProtBert_score  ProteinSolver_score  \\\n",
       "0                    0.188348   0.828693          0.5699              0.06335   \n",
       "1                    0.188348   0.828693          0.5699              0.06335   \n",
       "2                    0.188348   0.828693          0.5699              0.06335   \n",
       "\n",
       "   ...  number_of_residues_mut  IntraclashesEnergy1_wt  \\\n",
       "0  ...                   254.0                 33.4527   \n",
       "1  ...                   254.0                 33.4527   \n",
       "2  ...                   254.0                 33.4527   \n",
       "\n",
       "   IntraclashesEnergy1_mut  IntraclashesEnergy2_wt  IntraclashesEnergy2_mut  \\\n",
       "0                  33.4511                 40.0177                  40.0114   \n",
       "1                  33.4511                 40.0177                  40.0114   \n",
       "2                  33.4511                 40.0177                  40.0114   \n",
       "\n",
       "   Interface_hydrophobic_area  Interface_hydrophilic_area  \\\n",
       "0                     319.225                      201.86   \n",
       "1                     319.225                      201.86   \n",
       "2                     319.225                      201.86   \n",
       "\n",
       "   Interface_total_area  Interface_contact_distance_wt  \\\n",
       "0               521.085                          2.612   \n",
       "1               521.085                          2.612   \n",
       "2               521.085                          2.612   \n",
       "\n",
       "   Interface_contact_distance_mut  \n",
       "0                         4.42118  \n",
       "1                         4.42118  \n",
       "2                         4.42118  \n",
       "\n",
       "[3 rows x 61 columns]"
      ]
     },
     "metadata": {},
     "output_type": "display_data"
    }
   ],
   "source": [
    "display_data(predator.data_materials[\"target_esca_data\"])"
   ]
  },
  {
   "cell_type": "markdown",
   "id": "6cd1cc76-b56f-4789-b3b9-bf907fe7399e",
   "metadata": {
    "pycharm": {
     "name": "#%% md\n"
    },
    "tags": []
   },
   "source": [
    "### Voting mode: `soft`"
   ]
  },
  {
   "cell_type": "code",
   "execution_count": 7,
   "id": "44e95ef5-2482-4d0d-93fa-305004853f7c",
   "metadata": {
    "pycharm": {
     "name": "#%%\n"
    }
   },
   "outputs": [
    {
     "name": "stdout",
     "output_type": "stream",
     "text": [
      "2022-06-17 00:33:34 |\u001b[36m DEBUG    \u001b[0m| helpers.helpers_predator.data_materials | Initialize `esca` ..\n",
      "2022-06-17 00:33:34 |\u001b[36m DEBUG    \u001b[0m| helpers.helpers_predator.data_materials | Initialize `target_esca_data` ..\n",
      "2022-06-17 00:33:34 |\u001b[36m DEBUG    \u001b[0m| helpers.helpers_predator.data_materials | Initializing target data materials ..\n",
      "2022-06-17 00:33:34 |\u001b[36m DEBUG    \u001b[0m| helpers.helpers_predator.data_materials | Determined features: ['EL2_score', 'Provean_score', 'Final_ddG', 'Interactor_alignment_score', 'Matrix_score', 'Solvent_accessibility_wt', 'van_der_waals_mut', 'Solvent_accessibility_mut', 'Interactor_template_sequence_identity', 'solvation_polar_wt']\n",
      "2022-06-17 00:33:34 |\u001b[36m DEBUG    \u001b[0m| helpers.helpers_predator.data_materials | Declaring Xs_esca data materials  ..\n"
     ]
    }
   ],
   "source": [
    "predator.initialize_target_data_materials(\n",
    "    tcga_code_path_pairs=[('esca', ESCA_PATH)]\n",
    ")"
   ]
  },
  {
   "cell_type": "code",
   "execution_count": 8,
   "id": "323fbd63-7e32-471f-8cee-4b0abf9d82dc",
   "metadata": {
    "pycharm": {
     "name": "#%%\n"
    },
    "scrolled": true,
    "tags": []
   },
   "outputs": [
    {
     "name": "stdout",
     "output_type": "stream",
     "text": [
      "2022-06-17 00:33:34 |\u001b[36m DEBUG    \u001b[0m| Predator | Predicting on cancer datasets ..\n",
      "2022-06-17 00:33:34 |\u001b[36m DEBUG    \u001b[0m| helpers.helpers_predator.models | Initializing EnsambledVotingClassifier.\n",
      "2022-06-17 00:33:34 |\u001b[36m DEBUG    \u001b[0m| helpers.helpers_predator.models | Voting mode: soft\n",
      "2022-06-17 00:33:34 |\u001b[36m DEBUG    \u001b[0m| helpers.helpers_predator.predictions | Initializing: PredictionsSoft\n",
      "2022-06-17 00:33:34 |\u001b[36m DEBUG    \u001b[0m| Predator | Predicting on esca cohort ..\n",
      "2022-06-17 00:33:34 |\u001b[36m DEBUG    \u001b[0m| helpers.helpers_predator.models | Current estimator: RandomForestClassifier(max_depth=7, min_samples_leaf=4, min_samples_split=5,\n",
      "                       n_estimators=380, random_state=3279)\n",
      "2022-06-17 00:33:34 |\u001b[36m DEBUG    \u001b[0m| helpers.helpers_predator.models | X shape: (2446, 10)\n",
      "2022-06-17 00:33:35 |\u001b[36m DEBUG    \u001b[0m| helpers.helpers_predator.models | Current estimator: RandomForestClassifier(class_weight='balanced', max_depth=2, min_samples_leaf=2,\n",
      "                       min_samples_split=5, n_estimators=90,\n",
      "                       random_state=97197)\n",
      "2022-06-17 00:33:35 |\u001b[36m DEBUG    \u001b[0m| helpers.helpers_predator.models | X shape: (2446, 10)\n",
      "2022-06-17 00:33:35 |\u001b[36m DEBUG    \u001b[0m| helpers.helpers_predator.models | Current estimator: RandomForestClassifier(bootstrap=False, class_weight='balanced', max_depth=5,\n",
      "                       min_samples_leaf=2, n_estimators=500,\n",
      "                       random_state=29257)\n",
      "2022-06-17 00:33:35 |\u001b[36m DEBUG    \u001b[0m| helpers.helpers_predator.models | X shape: (2446, 10)\n",
      "2022-06-17 00:33:35 |\u001b[36m DEBUG    \u001b[0m| helpers.helpers_predator.models | Current estimator: RandomForestClassifier(class_weight='balanced', max_depth=3, min_samples_leaf=4,\n",
      "                       min_samples_split=5, n_estimators=480,\n",
      "                       random_state=96531)\n",
      "2022-06-17 00:33:35 |\u001b[36m DEBUG    \u001b[0m| helpers.helpers_predator.models | X shape: (2446, 10)\n",
      "2022-06-17 00:33:35 |\u001b[36m DEBUG    \u001b[0m| helpers.helpers_predator.models | Current estimator: RandomForestClassifier(class_weight='balanced', max_depth=13,\n",
      "                       min_samples_leaf=2, min_samples_split=5, n_estimators=80,\n",
      "                       random_state=13435)\n",
      "2022-06-17 00:33:35 |\u001b[36m DEBUG    \u001b[0m| helpers.helpers_predator.models | X shape: (2446, 10)\n",
      "2022-06-17 00:33:35 |\u001b[36m DEBUG    \u001b[0m| helpers.helpers_predator.models | Current estimator: RandomForestClassifier(class_weight='balanced', max_depth=10,\n",
      "                       max_features='sqrt', min_samples_leaf=4,\n",
      "                       n_estimators=340, random_state=88697)\n",
      "2022-06-17 00:33:35 |\u001b[36m DEBUG    \u001b[0m| helpers.helpers_predator.models | X shape: (2446, 10)\n",
      "2022-06-17 00:33:35 |\u001b[36m DEBUG    \u001b[0m| helpers.helpers_predator.models | Current estimator: RandomForestClassifier(class_weight='balanced', max_depth=2,\n",
      "                       max_features='sqrt', min_samples_leaf=4, n_estimators=5,\n",
      "                       random_state=97081)\n",
      "2022-06-17 00:33:35 |\u001b[36m DEBUG    \u001b[0m| helpers.helpers_predator.models | X shape: (2446, 10)\n",
      "2022-06-17 00:33:35 |\u001b[36m DEBUG    \u001b[0m| helpers.helpers_predator.models | Current estimator: RandomForestClassifier(bootstrap=False, class_weight='balanced', max_depth=9,\n",
      "                       max_features='sqrt', min_samples_leaf=2, n_estimators=50,\n",
      "                       random_state=77398)\n",
      "2022-06-17 00:33:35 |\u001b[36m DEBUG    \u001b[0m| helpers.helpers_predator.models | X shape: (2446, 10)\n",
      "2022-06-17 00:33:35 |\u001b[36m DEBUG    \u001b[0m| helpers.helpers_predator.models | Current estimator: RandomForestClassifier(class_weight='balanced', max_depth=2, n_estimators=50,\n",
      "                       random_state=55303)\n",
      "2022-06-17 00:33:35 |\u001b[36m DEBUG    \u001b[0m| helpers.helpers_predator.models | X shape: (2446, 10)\n",
      "2022-06-17 00:33:35 |\u001b[36m DEBUG    \u001b[0m| helpers.helpers_predator.models | Current estimator: RandomForestClassifier(bootstrap=False, class_weight='balanced', max_depth=5,\n",
      "                       min_samples_leaf=2, n_estimators=200, random_state=4166)\n",
      "2022-06-17 00:33:35 |\u001b[36m DEBUG    \u001b[0m| helpers.helpers_predator.models | X shape: (2446, 10)\n",
      "2022-06-17 00:33:35 |\u001b[36m DEBUG    \u001b[0m| helpers.helpers_predator.models | Current estimator: RandomForestClassifier(min_samples_leaf=2, n_estimators=60, random_state=3906)\n",
      "2022-06-17 00:33:35 |\u001b[36m DEBUG    \u001b[0m| helpers.helpers_predator.models | X shape: (2446, 10)\n",
      "2022-06-17 00:33:35 |\u001b[36m DEBUG    \u001b[0m| helpers.helpers_predator.models | Current estimator: RandomForestClassifier(class_weight='balanced', max_depth=13, max_features=None,\n",
      "                       min_samples_leaf=2, min_samples_split=5,\n",
      "                       n_estimators=600, random_state=12281)\n",
      "2022-06-17 00:33:35 |\u001b[36m DEBUG    \u001b[0m| helpers.helpers_predator.models | X shape: (2446, 10)\n",
      "2022-06-17 00:33:36 |\u001b[36m DEBUG    \u001b[0m| helpers.helpers_predator.models | Current estimator: RandomForestClassifier(bootstrap=False, class_weight='balanced', max_depth=6,\n",
      "                       min_samples_leaf=2, n_estimators=90, random_state=28658)\n",
      "2022-06-17 00:33:36 |\u001b[36m DEBUG    \u001b[0m| helpers.helpers_predator.models | X shape: (2446, 10)\n",
      "2022-06-17 00:33:36 |\u001b[36m DEBUG    \u001b[0m| helpers.helpers_predator.models | Current estimator: RandomForestClassifier(class_weight='balanced', max_depth=6,\n",
      "                       max_features='sqrt', min_samples_leaf=2, n_estimators=10,\n",
      "                       random_state=30496)\n",
      "2022-06-17 00:33:36 |\u001b[36m DEBUG    \u001b[0m| helpers.helpers_predator.models | X shape: (2446, 10)\n",
      "2022-06-17 00:33:36 |\u001b[36m DEBUG    \u001b[0m| helpers.helpers_predator.models | Current estimator: RandomForestClassifier(bootstrap=False, class_weight='balanced', max_depth=13,\n",
      "                       max_features=None, n_estimators=360, random_state=78908)\n",
      "2022-06-17 00:33:36 |\u001b[36m DEBUG    \u001b[0m| helpers.helpers_predator.models | X shape: (2446, 10)\n",
      "2022-06-17 00:33:36 |\u001b[36m DEBUG    \u001b[0m| helpers.helpers_predator.models | Current estimator: RandomForestClassifier(class_weight='balanced', max_depth=3,\n",
      "                       max_features='sqrt', min_samples_split=5,\n",
      "                       n_estimators=10, random_state=3479)\n",
      "2022-06-17 00:33:36 |\u001b[36m DEBUG    \u001b[0m| helpers.helpers_predator.models | X shape: (2446, 10)\n",
      "2022-06-17 00:33:36 |\u001b[36m DEBUG    \u001b[0m| helpers.helpers_predator.models | Current estimator: RandomForestClassifier(class_weight='balanced', max_depth=11,\n",
      "                       max_features='sqrt', min_samples_leaf=4, n_estimators=80,\n",
      "                       random_state=73564)\n",
      "2022-06-17 00:33:36 |\u001b[36m DEBUG    \u001b[0m| helpers.helpers_predator.models | X shape: (2446, 10)\n",
      "2022-06-17 00:33:36 |\u001b[36m DEBUG    \u001b[0m| helpers.helpers_predator.models | Current estimator: RandomForestClassifier(class_weight='balanced', max_depth=10,\n",
      "                       min_samples_leaf=2, min_samples_split=5,\n",
      "                       n_estimators=300, random_state=26063)\n",
      "2022-06-17 00:33:36 |\u001b[36m DEBUG    \u001b[0m| helpers.helpers_predator.models | X shape: (2446, 10)\n",
      "2022-06-17 00:33:36 |\u001b[36m DEBUG    \u001b[0m| helpers.helpers_predator.models | Current estimator: RandomForestClassifier(class_weight='balanced', max_depth=14,\n",
      "                       min_samples_leaf=4, min_samples_split=5,\n",
      "                       n_estimators=440, random_state=85182)\n",
      "2022-06-17 00:33:36 |\u001b[36m DEBUG    \u001b[0m| helpers.helpers_predator.models | X shape: (2446, 10)\n",
      "2022-06-17 00:33:36 |\u001b[36m DEBUG    \u001b[0m| helpers.helpers_predator.models | Current estimator: RandomForestClassifier(bootstrap=False, class_weight='balanced', max_depth=5,\n",
      "                       min_samples_leaf=4, min_samples_split=5,\n",
      "                       n_estimators=200, random_state=91925)\n",
      "2022-06-17 00:33:36 |\u001b[36m DEBUG    \u001b[0m| helpers.helpers_predator.models | X shape: (2446, 10)\n",
      "2022-06-17 00:33:36 |\u001b[36m DEBUG    \u001b[0m| helpers.helpers_predator.models | Current estimator: RandomForestClassifier(max_depth=7, max_features='sqrt', min_samples_split=5,\n",
      "                       n_estimators=40, random_state=71427)\n",
      "2022-06-17 00:33:36 |\u001b[36m DEBUG    \u001b[0m| helpers.helpers_predator.models | X shape: (2446, 10)\n",
      "2022-06-17 00:33:36 |\u001b[36m DEBUG    \u001b[0m| helpers.helpers_predator.models | Current estimator: RandomForestClassifier(bootstrap=False, max_features='sqrt', n_estimators=10,\n",
      "                       random_state=28894)\n",
      "2022-06-17 00:33:36 |\u001b[36m DEBUG    \u001b[0m| helpers.helpers_predator.models | X shape: (2446, 10)\n",
      "2022-06-17 00:33:36 |\u001b[36m DEBUG    \u001b[0m| helpers.helpers_predator.models | Current estimator: RandomForestClassifier(class_weight='balanced', max_depth=8,\n",
      "                       max_features='sqrt', min_samples_leaf=2,\n",
      "                       min_samples_split=5, n_estimators=600,\n",
      "                       random_state=58879)\n",
      "2022-06-17 00:33:36 |\u001b[36m DEBUG    \u001b[0m| helpers.helpers_predator.models | X shape: (2446, 10)\n",
      "2022-06-17 00:33:36 |\u001b[36m DEBUG    \u001b[0m| helpers.helpers_predator.models | Current estimator: RandomForestClassifier(class_weight='balanced', max_depth=2,\n",
      "                       max_features='sqrt', min_samples_split=5,\n",
      "                       n_estimators=340, random_state=77237)\n",
      "2022-06-17 00:33:36 |\u001b[36m DEBUG    \u001b[0m| helpers.helpers_predator.models | X shape: (2446, 10)\n",
      "2022-06-17 00:33:37 |\u001b[36m DEBUG    \u001b[0m| helpers.helpers_predator.models | Current estimator: RandomForestClassifier(bootstrap=False, max_depth=3, min_samples_leaf=4,\n",
      "                       min_samples_split=5, n_estimators=500, random_state=852)\n",
      "2022-06-17 00:33:37 |\u001b[36m DEBUG    \u001b[0m| helpers.helpers_predator.models | X shape: (2446, 10)\n",
      "2022-06-17 00:33:37 |\u001b[36m DEBUG    \u001b[0m| helpers.helpers_predator.models | Current estimator: RandomForestClassifier(class_weight='balanced', max_depth=3,\n",
      "                       max_features='sqrt', min_samples_leaf=4,\n",
      "                       min_samples_split=5, n_estimators=420,\n",
      "                       random_state=99459)\n",
      "2022-06-17 00:33:37 |\u001b[36m DEBUG    \u001b[0m| helpers.helpers_predator.models | X shape: (2446, 10)\n",
      "2022-06-17 00:33:37 |\u001b[36m DEBUG    \u001b[0m| helpers.helpers_predator.models | Current estimator: RandomForestClassifier(class_weight='balanced', max_depth=14,\n",
      "                       max_features='sqrt', min_samples_leaf=2,\n",
      "                       n_estimators=360, random_state=20927)\n",
      "2022-06-17 00:33:37 |\u001b[36m DEBUG    \u001b[0m| helpers.helpers_predator.models | X shape: (2446, 10)\n",
      "2022-06-17 00:33:37 |\u001b[36m DEBUG    \u001b[0m| helpers.helpers_predator.models | Current estimator: RandomForestClassifier(max_depth=8, min_samples_leaf=2, min_samples_split=5,\n",
      "                       n_estimators=180, random_state=91507)\n",
      "2022-06-17 00:33:37 |\u001b[36m DEBUG    \u001b[0m| helpers.helpers_predator.models | X shape: (2446, 10)\n",
      "2022-06-17 00:33:37 |\u001b[36m DEBUG    \u001b[0m| helpers.helpers_predator.models | Current estimator: RandomForestClassifier(bootstrap=False, class_weight='balanced', max_depth=12,\n",
      "                       max_features=None, min_samples_leaf=2, n_estimators=280,\n",
      "                       random_state=44598)\n",
      "2022-06-17 00:33:37 |\u001b[36m DEBUG    \u001b[0m| helpers.helpers_predator.models | X shape: (2446, 10)\n",
      "2022-06-17 00:33:37 |\u001b[36m DEBUG    \u001b[0m| helpers.helpers_predator.models | Current estimator: RandomForestClassifier(class_weight='balanced', max_depth=10, max_features=None,\n",
      "                       n_estimators=20, random_state=36422)\n",
      "2022-06-17 00:33:37 |\u001b[36m DEBUG    \u001b[0m| helpers.helpers_predator.models | X shape: (2446, 10)\n",
      "2022-06-17 00:33:37 |\u001b[36m DEBUG    \u001b[0m| helpers.helpers_predator.models | Current estimator: RandomForestClassifier(bootstrap=False, class_weight='balanced', max_depth=14,\n",
      "                       min_samples_split=5, n_estimators=340,\n",
      "                       random_state=20380)\n",
      "2022-06-17 00:33:37 |\u001b[36m DEBUG    \u001b[0m| helpers.helpers_predator.models | X shape: (2446, 10)\n",
      "2022-06-17 00:33:37 |\u001b[36m DEBUG    \u001b[0m| helpers.helpers_predator.models | Current estimator: RandomForestClassifier(class_weight='balanced', min_samples_leaf=4,\n",
      "                       min_samples_split=5, n_estimators=20,\n",
      "                       random_state=28222)\n",
      "2022-06-17 00:33:37 |\u001b[36m DEBUG    \u001b[0m| helpers.helpers_predator.models | X shape: (2446, 10)\n",
      "2022-06-17 00:33:37 |\u001b[36m DEBUG    \u001b[0m| helpers.helpers_predator.models | Current estimator: RandomForestClassifier(class_weight='balanced', max_depth=13,\n",
      "                       max_features='sqrt', min_samples_leaf=2,\n",
      "                       n_estimators=360, random_state=44119)\n",
      "2022-06-17 00:33:37 |\u001b[36m DEBUG    \u001b[0m| helpers.helpers_predator.models | X shape: (2446, 10)\n",
      "2022-06-17 00:33:38 |\u001b[36m DEBUG    \u001b[0m| helpers.helpers_predator.models | Current estimator: RandomForestClassifier(max_depth=10, max_features='sqrt', n_estimators=340,\n",
      "                       random_state=13397)\n",
      "2022-06-17 00:33:38 |\u001b[36m DEBUG    \u001b[0m| helpers.helpers_predator.models | X shape: (2446, 10)\n",
      "2022-06-17 00:33:38 |\u001b[36m DEBUG    \u001b[0m| helpers.helpers_predator.models | Current estimator: RandomForestClassifier(class_weight='balanced', max_depth=9, max_features=None,\n",
      "                       min_samples_leaf=2, n_estimators=200,\n",
      "                       random_state=12157)\n",
      "2022-06-17 00:33:38 |\u001b[36m DEBUG    \u001b[0m| helpers.helpers_predator.models | X shape: (2446, 10)\n",
      "2022-06-17 00:33:38 |\u001b[36m DEBUG    \u001b[0m| helpers.helpers_predator.models | Current estimator: RandomForestClassifier(bootstrap=False, max_depth=12, max_features=None,\n",
      "                       min_samples_leaf=4, min_samples_split=5, n_estimators=40,\n",
      "                       random_state=49798)\n",
      "2022-06-17 00:33:38 |\u001b[36m DEBUG    \u001b[0m| helpers.helpers_predator.models | X shape: (2446, 10)\n",
      "2022-06-17 00:33:38 |\u001b[36m DEBUG    \u001b[0m| helpers.helpers_predator.models | Current estimator: RandomForestClassifier(class_weight='balanced', max_depth=5, min_samples_leaf=4,\n",
      "                       n_estimators=40, random_state=12677)\n",
      "2022-06-17 00:33:38 |\u001b[36m DEBUG    \u001b[0m| helpers.helpers_predator.models | X shape: (2446, 10)\n",
      "2022-06-17 00:33:38 |\u001b[36m DEBUG    \u001b[0m| helpers.helpers_predator.models | Current estimator: RandomForestClassifier(class_weight='balanced', max_depth=6, min_samples_leaf=4,\n",
      "                       min_samples_split=5, n_estimators=420,\n",
      "                       random_state=47053)\n",
      "2022-06-17 00:33:38 |\u001b[36m DEBUG    \u001b[0m| helpers.helpers_predator.models | X shape: (2446, 10)\n",
      "2022-06-17 00:33:38 |\u001b[36m DEBUG    \u001b[0m| helpers.helpers_predator.predictions | PredictionsSoft\n",
      "2022-06-17 00:33:38 |\u001b[36m DEBUG    \u001b[0m| helpers.helpers_predator.predictions | Predicting probabilities on esca cohort ..\n",
      "2022-06-17 00:33:38 |\u001b[36m DEBUG    \u001b[0m| helpers.helpers_predator.predictions | Adding key `esca_prob` to self.predictions\n"
     ]
    }
   ],
   "source": [
    "predator.predict(voting='soft')"
   ]
  },
  {
   "cell_type": "code",
   "execution_count": 9,
   "id": "341a1a27-928b-47ae-9d45-69ec13771b81",
   "metadata": {
    "pycharm": {
     "name": "#%%\n"
    }
   },
   "outputs": [
    {
     "data": {
      "text/plain": [
       "dict_keys(['esca_prob'])"
      ]
     },
     "execution_count": 9,
     "metadata": {},
     "output_type": "execute_result"
    }
   ],
   "source": [
    "predator.predictions.keys()"
   ]
  },
  {
   "cell_type": "code",
   "execution_count": 10,
   "id": "d7054f49-ad45-408f-88b4-0e608fc81e81",
   "metadata": {
    "pycharm": {
     "name": "#%%\n"
    }
   },
   "outputs": [
    {
     "data": {
      "text/plain": [
       "[array([[0.49213118, 0.50786882],\n",
       "        [0.49213118, 0.50786882],\n",
       "        [0.49213118, 0.50786882],\n",
       "        ...,\n",
       "        [0.54715125, 0.45284875],\n",
       "        [0.56987708, 0.43012292],\n",
       "        [0.53547522, 0.46452478]]),\n",
       " array([[0.64434045, 0.35565955],\n",
       "        [0.64434045, 0.35565955],\n",
       "        [0.64434045, 0.35565955],\n",
       "        ...,\n",
       "        [0.5443475 , 0.4556525 ],\n",
       "        [0.54495533, 0.45504467],\n",
       "        [0.52711521, 0.47288479]]),\n",
       " array([[0.66513667, 0.33486333],\n",
       "        [0.66513667, 0.33486333],\n",
       "        [0.66513667, 0.33486333],\n",
       "        ...,\n",
       "        [0.52562957, 0.47437043],\n",
       "        [0.48446697, 0.51553303],\n",
       "        [0.54799454, 0.45200546]])]"
      ]
     },
     "execution_count": 10,
     "metadata": {},
     "output_type": "execute_result"
    }
   ],
   "source": [
    "# Predictions for first 10 experiment.\n",
    "predator.predictions[\"esca_prob\"][:3]"
   ]
  },
  {
   "cell_type": "markdown",
   "id": "83e49c0d-9f61-4f48-a23d-8a21e9875041",
   "metadata": {
    "pycharm": {
     "name": "#%% md\n"
    }
   },
   "source": [
    "#### Predictions Post Processing"
   ]
  },
  {
   "cell_type": "markdown",
   "id": "3d18567f-1748-4446-bb12-8062515f02bd",
   "metadata": {
    "pycharm": {
     "name": "#%% md\n"
    }
   },
   "source": [
    "Post processing of predictions involves following steps:"
   ]
  },
  {
   "cell_type": "markdown",
   "id": "45aad6d0-0e73-413e-8b32-fbcb2bcc5426",
   "metadata": {
    "pycharm": {
     "name": "#%% md\n"
    }
   },
   "source": [
    "##### 1. Merging Predictions with SNV Data"
   ]
  },
  {
   "cell_type": "markdown",
   "id": "ba9bda7c-5736-4c44-8663-ec63927976db",
   "metadata": {
    "pycharm": {
     "name": "#%% md\n"
    }
   },
   "source": [
    "The prediction column is merged with SNV data for each experiment.\n",
    "\n",
    "$\\text{For each experiment } n: $\n",
    "\n",
    "$$\n",
    "  \\textit{(Prediction Merged Data)}_n = \\underbrace{[\\textit{Predictions}_n]}_\\text{Probs Percentages} + \n",
    "      \\underbrace{[\\textit{Protein }] [\\textit{Mutation }] [\\textit{Interactor }]}_\\text{Cancer Data Triplets} + \\underbrace{[\\textit{Features }] }_\\text{Elaspic}\n",
    "$$\n"
   ]
  },
  {
   "cell_type": "markdown",
   "id": "8b14c7d7-914f-40af-b695-b962c33ed9ee",
   "metadata": {
    "pycharm": {
     "name": "#%% md\n"
    },
    "tags": []
   },
   "source": [
    "##### 2. Convert to 1-isomer: `Interactor_UniProt_ID`"
   ]
  },
  {
   "cell_type": "markdown",
   "id": "36c9284b-0d5d-4c41-b2d9-7274d9141f6a",
   "metadata": {
    "pycharm": {
     "name": "#%% md\n"
    }
   },
   "source": [
    "$\\textit{Interactor_UniProt_ID}$ column contains isomer proteins. Here, we convert them into primary isoform representation (i.e. without dashes)."
   ]
  },
  {
   "cell_type": "markdown",
   "id": "2314ef86-e11b-43ce-a9ee-8d3d39420d3d",
   "metadata": {
    "pycharm": {
     "name": "#%% md\n"
    }
   },
   "source": [
    "| Interactor_UniProt_ID |\n",
    "--------------\n",
    "| P38936     |\n",
    "| P16473     |\n",
    "| P16473-2   |\n",
    "| P19793     |"
   ]
  },
  {
   "cell_type": "markdown",
   "id": "ac37c712-d832-4450-8852-a9df5712c194",
   "metadata": {
    "pycharm": {
     "name": "#%% md\n"
    }
   },
   "source": [
    "##### 3. Dropping Invalid Predictions"
   ]
  },
  {
   "cell_type": "markdown",
   "id": "43293304-9ddf-4e94-b624-8ce6c9034fe1",
   "metadata": {
    "pycharm": {
     "name": "#%% md\n"
    }
   },
   "source": [
    "Entries whose predicted class-1 probability lies in both `Decreasing` and `Increasing+NoEff` are dropped."
   ]
  },
  {
   "cell_type": "markdown",
   "id": "0d57de49-9962-47a8-8a2d-96a42df2295a",
   "metadata": {
    "pycharm": {
     "name": "#%% md\n"
    }
   },
   "source": [
    "Due to having different features for the same $\\textit{(protein, mutation, interactor)}$ triplet from ELASPIC, the triplet $\\textit{(protein, mutation, interactor)}$ may contain class-1 probability prediction of both lower than 0.50 and higher than 50. We drop such instances."
   ]
  },
  {
   "cell_type": "code",
   "execution_count": 11,
   "id": "ee5ffd8b-af50-481e-b90f-fc0548568727",
   "metadata": {
    "pycharm": {
     "name": "#%%\n"
    },
    "scrolled": true,
    "tags": []
   },
   "outputs": [
    {
     "name": "stdout",
     "output_type": "stream",
     "text": [
      "2022-06-17 00:33:55 |\u001b[36m DEBUG    \u001b[0m| helpers.helpers_predator.predictions | PredictionsSoft\n",
      "2022-06-17 00:33:55 |\u001b[36m DEBUG    \u001b[0m| helpers.helpers_predator.predictions | Post processing predictions for cohort esca ..\n",
      "2022-06-17 00:33:55 |\u001b[36m DEBUG    \u001b[0m| helpers.helpers_predator.predictions | PredictionsSoft\n",
      "2022-06-17 00:33:55 |\u001b[36m DEBUG    \u001b[0m| helpers.helpers_predator.predictions | Merging predictions with esca cancer dataset ..\n",
      "2022-06-17 00:33:55 |\u001b[36m DEBUG    \u001b[0m| helpers.helpers_predator.predictions | Handling valid and invalid entries ..\n"
     ]
    },
    {
     "data": {
      "application/vnd.jupyter.widget-view+json": {
       "model_id": "c0c6c8f474b14c7bb9a77b94e3989208",
       "version_major": 2,
       "version_minor": 0
      },
      "text/plain": [
       "  0%|          | 0/38 [00:00<?, ?it/s]"
      ]
     },
     "metadata": {},
     "output_type": "display_data"
    },
    {
     "name": "stdout",
     "output_type": "stream",
     "text": [
      "2022-06-17 00:34:01 |\u001b[36m DEBUG    \u001b[0m| helpers.helpers_predator.predictions_utils | Removed entries first five rows (of 299): \n",
      "   PREDICTION PROTEIN MUTATION INTERACTOR\n",
      "0    0.485850  P61088     E61K     O95628\n",
      "1    0.644576  P61088     E61K     O95628\n",
      "2    0.644576  P61088     E61K     O95628\n",
      "3    0.742131  P61088     E61K     O95628\n",
      "4    0.644576  P61088     E61K     O95628\n",
      "2022-06-17 00:34:08 |\u001b[36m DEBUG    \u001b[0m| helpers.helpers_predator.predictions_utils | Removed entries first five rows (of 247): \n",
      "   PREDICTION PROTEIN MUTATION INTERACTOR\n",
      "0    0.396923  P61088     E61K     O95628\n",
      "1    0.478044  P61088     E61K     O95628\n",
      "2    0.478044  P61088     E61K     O95628\n",
      "3    0.535756  P61088     E61K     O95628\n",
      "4    0.478044  P61088     E61K     O95628\n",
      "2022-06-17 00:34:14 |\u001b[36m DEBUG    \u001b[0m| helpers.helpers_predator.predictions_utils | Removed entries first five rows (of 297): \n",
      "   PREDICTION PROTEIN MUTATION INTERACTOR\n",
      "0    0.292311  P61088     E61K     O95628\n",
      "1    0.436197  P61088     E61K     O95628\n",
      "2    0.436197  P61088     E61K     O95628\n",
      "3    0.722940  P61088     E61K     O95628\n",
      "4    0.436197  P61088     E61K     O95628\n",
      "2022-06-17 00:34:20 |\u001b[36m DEBUG    \u001b[0m| helpers.helpers_predator.predictions_utils | Removed entries first five rows (of 242): \n",
      "   PREDICTION PROTEIN MUTATION INTERACTOR\n",
      "0    0.452593  P61088     E61K     O95628\n",
      "1    0.538805  P61088     E61K     O95628\n",
      "2    0.538805  P61088     E61K     O95628\n",
      "3    0.698023  P61088     E61K     O95628\n",
      "4    0.538805  P61088     E61K     O95628\n",
      "2022-06-17 00:34:26 |\u001b[36m DEBUG    \u001b[0m| helpers.helpers_predator.predictions_utils | Removed entries first five rows (of 403): \n",
      "   PREDICTION PROTEIN MUTATION INTERACTOR\n",
      "0    0.418664  P61088     E61K     O95628\n",
      "1    0.533706  P61088     E61K     O95628\n",
      "2    0.533706  P61088     E61K     O95628\n",
      "3    0.761349  P61088     E61K     O95628\n",
      "4    0.533706  P61088     E61K     O95628\n",
      "2022-06-17 00:34:31 |\u001b[36m DEBUG    \u001b[0m| helpers.helpers_predator.predictions_utils | Removed entries first five rows (of 278): \n",
      "   PREDICTION PROTEIN MUTATION INTERACTOR\n",
      "0    0.355957  P61088     E61K     O95628\n",
      "1    0.523489  P61088     E61K     O95628\n",
      "2    0.523489  P61088     E61K     O95628\n",
      "3    0.621597  P61088     E61K     O95628\n",
      "4    0.523489  P61088     E61K     O95628\n",
      "2022-06-17 00:34:39 |\u001b[36m DEBUG    \u001b[0m| helpers.helpers_predator.predictions_utils | Removed entries first five rows (of 297): \n",
      "   PREDICTION PROTEIN MUTATION INTERACTOR\n",
      "0    0.431735  P61088     E61K     O95628\n",
      "1    0.431735  P61088     E61K     O95628\n",
      "2    0.431735  P61088     E61K     O95628\n",
      "3    0.679783  P61088     E61K     O95628\n",
      "4    0.431735  P61088     E61K     O95628\n",
      "2022-06-17 00:34:44 |\u001b[36m DEBUG    \u001b[0m| helpers.helpers_predator.predictions_utils | Removed entries first five rows (of 424): \n",
      "   PREDICTION PROTEIN MUTATION INTERACTOR\n",
      "0    0.386694  P61088     E61K     O95628\n",
      "1    0.441868  P61088     E61K     O95628\n",
      "2    0.441868  P61088     E61K     O95628\n",
      "3    0.629809  P61088     E61K     O95628\n",
      "4    0.441868  P61088     E61K     O95628\n",
      "2022-06-17 00:34:50 |\u001b[36m DEBUG    \u001b[0m| helpers.helpers_predator.predictions_utils | Removed entries first five rows (of 311): \n",
      "   PREDICTION PROTEIN MUTATION INTERACTOR\n",
      "0    0.456163  P61088     E61K     O95628\n",
      "1    0.495450  P61088     E61K     O95628\n",
      "2    0.495450  P61088     E61K     O95628\n",
      "3    0.644182  P61088     E61K     O95628\n",
      "4    0.495450  P61088     E61K     O95628\n",
      "2022-06-17 00:34:54 |\u001b[36m DEBUG    \u001b[0m| helpers.helpers_predator.predictions_utils | Removed entries first five rows (of 409): \n",
      "   PREDICTION PROTEIN MUTATION INTERACTOR\n",
      "0    0.328355  P61088     E61K     O95628\n",
      "1    0.659137  P61088     E61K     O95628\n",
      "2    0.659137  P61088     E61K     O95628\n",
      "3    0.787582  P61088     E61K     O95628\n",
      "4    0.659137  P61088     E61K     O95628\n",
      "2022-06-17 00:35:01 |\u001b[36m DEBUG    \u001b[0m| helpers.helpers_predator.predictions_utils | Removed entries first five rows (of 328): \n",
      "   PREDICTION PROTEIN MUTATION INTERACTOR\n",
      "0    0.395833  P61088     E61K     Q96PU5\n",
      "1    0.386111  P61088     E61K     Q96PU5\n",
      "2    0.386111  P61088     E61K     Q96PU5\n",
      "3    0.386111  P61088     E61K     Q96PU5\n",
      "4    0.511111  P61088     E61K     Q96PU5\n",
      "2022-06-17 00:35:06 |\u001b[36m DEBUG    \u001b[0m| helpers.helpers_predator.predictions_utils | Removed entries first five rows (of 313): \n",
      "   PREDICTION PROTEIN MUTATION INTERACTOR\n",
      "0    0.481718  P61088     E61K     O95628\n",
      "1    0.597832  P61088     E61K     O95628\n",
      "2    0.597832  P61088     E61K     O95628\n",
      "3    0.798464  P61088     E61K     O95628\n",
      "4    0.597832  P61088     E61K     O95628\n",
      "2022-06-17 00:35:12 |\u001b[36m DEBUG    \u001b[0m| helpers.helpers_predator.predictions_utils | Removed entries first five rows (of 265): \n",
      "   PREDICTION PROTEIN MUTATION INTERACTOR\n",
      "0    0.549379  Q9NPD8    S101Y     P38398\n",
      "1    0.368061  Q9NPD8    S101Y     P38398\n",
      "2    0.549379  Q9NPD8    S101Y     P38398\n",
      "3    0.892094  Q9NPD8    S101Y     P38398\n",
      "4    0.549379  Q9NPD8    S101Y     P38398\n",
      "2022-06-17 00:35:18 |\u001b[36m DEBUG    \u001b[0m| helpers.helpers_predator.predictions_utils | Removed entries first five rows (of 342): \n",
      "   PREDICTION PROTEIN MUTATION INTERACTOR\n",
      "0    0.388890  P61088     E61K     O95628\n",
      "1    0.404666  P61088     E61K     O95628\n",
      "2    0.404666  P61088     E61K     O95628\n",
      "3    0.635976  P61088     E61K     O95628\n",
      "4    0.404666  P61088     E61K     O95628\n",
      "2022-06-17 00:35:23 |\u001b[36m DEBUG    \u001b[0m| helpers.helpers_predator.predictions_utils | Removed entries first five rows (of 522): \n",
      "   PREDICTION PROTEIN MUTATION INTERACTOR\n",
      "0         0.0  Q9NPD8    S101Y     P38398\n",
      "1         1.0  Q9NPD8    S101Y     P38398\n",
      "2         0.0  Q9NPD8    S101Y     P38398\n",
      "3         1.0  Q9NPD8    S101Y     P38398\n",
      "4         0.0  Q9NPD8    S101Y     P38398\n",
      "2022-06-17 00:35:28 |\u001b[36m DEBUG    \u001b[0m| helpers.helpers_predator.predictions_utils | Removed entries first five rows (of 423): \n",
      "   PREDICTION PROTEIN MUTATION INTERACTOR\n",
      "0    0.133511  P61088     E61K     O95628\n",
      "1    0.462443  P61088     E61K     O95628\n",
      "2    0.462443  P61088     E61K     O95628\n",
      "3    0.620822  P61088     E61K     O95628\n",
      "4    0.462443  P61088     E61K     O95628\n",
      "2022-06-17 00:35:34 |\u001b[36m DEBUG    \u001b[0m| helpers.helpers_predator.predictions_utils | Removed entries first five rows (of 363): \n",
      "   PREDICTION PROTEIN MUTATION INTERACTOR\n",
      "0    0.369086  P61088     E61K     O95628\n",
      "1    0.578163  P61088     E61K     O95628\n",
      "2    0.578163  P61088     E61K     O95628\n",
      "3    0.749473  P61088     E61K     O95628\n",
      "4    0.578163  P61088     E61K     O95628\n",
      "2022-06-17 00:35:39 |\u001b[36m DEBUG    \u001b[0m| helpers.helpers_predator.predictions_utils | Removed entries first five rows (of 346): \n",
      "   PREDICTION PROTEIN MUTATION INTERACTOR\n",
      "0    0.417654  P61088     E61K     O95628\n",
      "1    0.588612  P61088     E61K     O95628\n",
      "2    0.588612  P61088     E61K     O95628\n",
      "3    0.785972  P61088     E61K     O95628\n",
      "4    0.588612  P61088     E61K     O95628\n",
      "2022-06-17 00:35:45 |\u001b[36m DEBUG    \u001b[0m| helpers.helpers_predator.predictions_utils | Removed entries first five rows (of 335): \n",
      "   PREDICTION PROTEIN MUTATION INTERACTOR\n",
      "0    0.339837  P61088     E61K     O95628\n",
      "1    0.470214  P61088     E61K     O95628\n",
      "2    0.470214  P61088     E61K     O95628\n",
      "3    0.623976  P61088     E61K     O95628\n",
      "4    0.470214  P61088     E61K     O95628\n",
      "2022-06-17 00:35:52 |\u001b[36m DEBUG    \u001b[0m| helpers.helpers_predator.predictions_utils | Removed entries first five rows (of 376): \n",
      "   PREDICTION PROTEIN MUTATION INTERACTOR\n",
      "0    0.245786  P61088     E61K     O95628\n",
      "1    0.580603  P61088     E61K     O95628\n",
      "2    0.580603  P61088     E61K     O95628\n",
      "3    0.714097  P61088     E61K     O95628\n",
      "4    0.580603  P61088     E61K     O95628\n",
      "2022-06-17 00:35:57 |\u001b[36m DEBUG    \u001b[0m| helpers.helpers_predator.predictions_utils | Removed entries first five rows (of 256): \n",
      "   PREDICTION PROTEIN MUTATION INTERACTOR\n",
      "0    0.310714  P61088     E61K     O95628\n",
      "1    0.410417  P61088     E61K     O95628\n",
      "2    0.410417  P61088     E61K     O95628\n",
      "3    0.544792  P61088     E61K     O95628\n",
      "4    0.410417  P61088     E61K     O95628\n",
      "2022-06-17 00:36:03 |\u001b[36m DEBUG    \u001b[0m| helpers.helpers_predator.predictions_utils | Removed entries first five rows (of 443): \n",
      "   PREDICTION PROTEIN MUTATION INTERACTOR\n",
      "0         0.3  P61088     E61K     O95628\n",
      "1         0.6  P61088     E61K     O95628\n",
      "2         0.6  P61088     E61K     O95628\n",
      "3         0.9  P61088     E61K     O95628\n",
      "4         0.6  P61088     E61K     O95628\n",
      "2022-06-17 00:36:09 |\u001b[36m DEBUG    \u001b[0m| helpers.helpers_predator.predictions_utils | Removed entries first five rows (of 313): \n",
      "   PREDICTION PROTEIN MUTATION INTERACTOR\n",
      "0    0.349514  P61088     E61K     O95628\n",
      "1    0.505979  P61088     E61K     O95628\n",
      "2    0.505979  P61088     E61K     O95628\n",
      "3    0.592319  P61088     E61K     O95628\n",
      "4    0.505979  P61088     E61K     O95628\n",
      "2022-06-17 00:36:14 |\u001b[36m DEBUG    \u001b[0m| helpers.helpers_predator.predictions_utils | Removed entries first five rows (of 204): \n",
      "   PREDICTION PROTEIN MUTATION INTERACTOR\n",
      "0    0.338046  P61088     E61K     O95628\n",
      "1    0.464185  P61088     E61K     O95628\n",
      "2    0.464185  P61088     E61K     O95628\n",
      "3    0.525139  P61088     E61K     O95628\n",
      "4    0.464185  P61088     E61K     O95628\n",
      "2022-06-17 00:36:19 |\u001b[36m DEBUG    \u001b[0m| helpers.helpers_predator.predictions_utils | Removed entries first five rows (of 205): \n",
      "   PREDICTION PROTEIN MUTATION INTERACTOR\n",
      "0    0.494279  P61088     E61K     Q96PU5\n",
      "1    0.490072  P61088     E61K     Q96PU5\n",
      "2    0.490072  P61088     E61K     Q96PU5\n",
      "3    0.490072  P61088     E61K     Q96PU5\n",
      "4    0.523620  P61088     E61K     Q96PU5\n",
      "2022-06-17 00:36:25 |\u001b[36m DEBUG    \u001b[0m| helpers.helpers_predator.predictions_utils | Removed entries first five rows (of 326): \n",
      "   PREDICTION PROTEIN MUTATION INTERACTOR\n",
      "0    0.393075  P61088     E61K     O95628\n",
      "1    0.610072  P61088     E61K     O95628\n",
      "2    0.610072  P61088     E61K     O95628\n",
      "3    0.708232  P61088     E61K     O95628\n",
      "4    0.610072  P61088     E61K     O95628\n",
      "2022-06-17 00:36:30 |\u001b[36m DEBUG    \u001b[0m| helpers.helpers_predator.predictions_utils | Removed entries first five rows (of 333): \n",
      "   PREDICTION PROTEIN MUTATION INTERACTOR\n",
      "0    0.377624  P61088     E61K     O95628\n",
      "1    0.480989  P61088     E61K     O95628\n",
      "2    0.480989  P61088     E61K     O95628\n",
      "3    0.749961  P61088     E61K     O95628\n",
      "4    0.480989  P61088     E61K     O95628\n",
      "2022-06-17 00:36:37 |\u001b[36m DEBUG    \u001b[0m| helpers.helpers_predator.predictions_utils | Removed entries first five rows (of 255): \n",
      "   PREDICTION PROTEIN MUTATION INTERACTOR\n",
      "0    0.392021  P61088     E61K     Q96PU5\n",
      "1    0.447775  P61088     E61K     Q96PU5\n",
      "2    0.447775  P61088     E61K     Q96PU5\n",
      "3    0.447775  P61088     E61K     Q96PU5\n",
      "4    0.528917  P61088     E61K     Q96PU5\n",
      "2022-06-17 00:36:42 |\u001b[36m DEBUG    \u001b[0m| helpers.helpers_predator.predictions_utils | Removed entries first five rows (of 379): \n",
      "   PREDICTION PROTEIN MUTATION INTERACTOR\n",
      "0         1.0  Q9NPD8    S101Y     P38398\n",
      "1         0.5  Q9NPD8    S101Y     P38398\n",
      "2         1.0  Q9NPD8    S101Y     P38398\n",
      "3         1.0  Q9NPD8    S101Y     P38398\n",
      "4         1.0  Q9NPD8    S101Y     P38398\n",
      "2022-06-17 00:36:50 |\u001b[36m DEBUG    \u001b[0m| helpers.helpers_predator.predictions_utils | Removed entries first five rows (of 280): \n",
      "   PREDICTION PROTEIN MUTATION INTERACTOR\n",
      "0        0.35  P61088     E61K     O95628\n",
      "1        0.45  P61088     E61K     O95628\n",
      "2        0.45  P61088     E61K     O95628\n",
      "3        0.60  P61088     E61K     O95628\n",
      "4        0.45  P61088     E61K     O95628\n",
      "2022-06-17 00:36:56 |\u001b[36m DEBUG    \u001b[0m| helpers.helpers_predator.predictions_utils | Removed entries first five rows (of 394): \n",
      "   PREDICTION PROTEIN MUTATION INTERACTOR\n",
      "0    0.421698  Q86UR5   K1590M     P21579\n",
      "1    0.504083  Q86UR5   K1590M     P21579\n",
      "2    0.418607  P49841    R308Q     Q9Y2G4\n",
      "3    0.531417  P49841    R308Q     Q9Y2G4\n",
      "4    0.531417  P49841    R308Q     Q9Y2G4\n",
      "2022-06-17 00:37:02 |\u001b[36m DEBUG    \u001b[0m| helpers.helpers_predator.predictions_utils | Removed entries first five rows (of 316): \n",
      "   PREDICTION PROTEIN MUTATION INTERACTOR\n",
      "0    0.303621  P61088     E61K     O95628\n",
      "1    0.494072  P61088     E61K     O95628\n",
      "2    0.494072  P61088     E61K     O95628\n",
      "3    0.648643  P61088     E61K     O95628\n",
      "4    0.494072  P61088     E61K     O95628\n",
      "2022-06-17 00:37:09 |\u001b[36m DEBUG    \u001b[0m| helpers.helpers_predator.predictions_utils | Removed entries first five rows (of 301): \n",
      "   PREDICTION PROTEIN MUTATION INTERACTOR\n",
      "0    0.341951  P61088     E61K     O95628\n",
      "1    0.447785  P61088     E61K     O95628\n",
      "2    0.447785  P61088     E61K     O95628\n",
      "3    0.518805  P61088     E61K     O95628\n",
      "4    0.447785  P61088     E61K     O95628\n",
      "2022-06-17 00:37:15 |\u001b[36m DEBUG    \u001b[0m| helpers.helpers_predator.predictions_utils | Removed entries first five rows (of 151): \n",
      "   PREDICTION PROTEIN MUTATION INTERACTOR\n",
      "0    0.376667  P20936    R391W     P27986\n",
      "1    0.590000  P20936    R391W     P27986\n",
      "2    0.585588  P20936    R391W     P27986\n",
      "3    0.585588  P20936    R391W     P27986\n",
      "4    0.543087  P63000     I33F     Q9Y3L3\n",
      "2022-06-17 00:37:21 |\u001b[36m DEBUG    \u001b[0m| helpers.helpers_predator.predictions_utils | Removed entries first five rows (of 320): \n",
      "   PREDICTION PROTEIN MUTATION INTERACTOR\n",
      "0    0.293588  P61088     E61K     O95628\n",
      "1    0.461489  P61088     E61K     O95628\n",
      "2    0.461489  P61088     E61K     O95628\n",
      "3    0.580045  P61088     E61K     O95628\n",
      "4    0.461489  P61088     E61K     O95628\n",
      "2022-06-17 00:37:26 |\u001b[36m DEBUG    \u001b[0m| helpers.helpers_predator.predictions_utils | Removed entries first five rows (of 327): \n",
      "   PREDICTION PROTEIN MUTATION INTERACTOR\n",
      "0     0.00000  P61088     E61K     Q96PU5\n",
      "1     0.76875  P61088     E61K     Q96PU5\n",
      "2     0.76875  P61088     E61K     Q96PU5\n",
      "3     0.76875  P61088     E61K     Q96PU5\n",
      "4     0.76875  P61088     E61K     Q96PU5\n",
      "2022-06-17 00:37:32 |\u001b[36m DEBUG    \u001b[0m| helpers.helpers_predator.predictions_utils | Removed entries first five rows (of 367): \n",
      "   PREDICTION PROTEIN MUTATION INTERACTOR\n",
      "0    0.396189  P61088     E61K     O95628\n",
      "1    0.501809  P61088     E61K     O95628\n",
      "2    0.501809  P61088     E61K     O95628\n",
      "3    0.748585  P61088     E61K     O95628\n",
      "4    0.501809  P61088     E61K     O95628\n",
      "2022-06-17 00:37:37 |\u001b[36m DEBUG    \u001b[0m| helpers.helpers_predator.predictions_utils | Removed entries first five rows (of 433): \n",
      "   PREDICTION PROTEIN MUTATION INTERACTOR\n",
      "0    0.346374  P61088     E61K     O95628\n",
      "1    0.531612  P61088     E61K     O95628\n",
      "2    0.531612  P61088     E61K     O95628\n",
      "3    0.704592  P61088     E61K     O95628\n",
      "4    0.531612  P61088     E61K     O95628\n",
      "2022-06-17 00:37:37 |\u001b[36m DEBUG    \u001b[0m| helpers.helpers_predator.predictions | Preparing finalized prediction datasets for esca ..\n",
      "2022-06-17 00:37:37 |\u001b[36m DEBUG    \u001b[0m| helpers.helpers_predator.predictions | Post processing completed for esca.\n"
     ]
    }
   ],
   "source": [
    "predator.predictions_post_process()"
   ]
  },
  {
   "cell_type": "code",
   "execution_count": 12,
   "id": "90683791-df42-47a8-ae9d-6c6ba08bcafd",
   "metadata": {
    "pycharm": {
     "name": "#%%\n"
    }
   },
   "outputs": [
    {
     "data": {
      "text/plain": [
       "dict_keys(['esca_prob', 'esca_predicted_probs_datasets', 'esca_predicted_valid_datasets', 'esca_predicted_invalid_datasets', 'esca_finalized_prediction_dataframes'])"
      ]
     },
     "execution_count": 12,
     "metadata": {},
     "output_type": "execute_result"
    }
   ],
   "source": [
    "predator.predictions.keys()"
   ]
  },
  {
   "cell_type": "code",
   "execution_count": 13,
   "id": "fcf61287-2498-4b53-ac75-1f6baceed2a3",
   "metadata": {
    "pycharm": {
     "name": "#%%\n"
    }
   },
   "outputs": [
    {
     "name": "stdout",
     "output_type": "stream",
     "text": [
      "\u001b[36mData dimensions: (2446, 104)\u001b[0m\n"
     ]
    },
    {
     "data": {
      "text/html": [
       "<div>\n",
       "<style scoped>\n",
       "    .dataframe tbody tr th:only-of-type {\n",
       "        vertical-align: middle;\n",
       "    }\n",
       "\n",
       "    .dataframe tbody tr th {\n",
       "        vertical-align: top;\n",
       "    }\n",
       "\n",
       "    .dataframe thead th {\n",
       "        text-align: right;\n",
       "    }\n",
       "</style>\n",
       "<table border=\"1\" class=\"dataframe\">\n",
       "  <thead>\n",
       "    <tr style=\"text-align: right;\">\n",
       "      <th></th>\n",
       "      <th>Prediction</th>\n",
       "      <th>Input_identifier</th>\n",
       "      <th>UniProt_ID</th>\n",
       "      <th>Mutation</th>\n",
       "      <th>Status</th>\n",
       "      <th>Type</th>\n",
       "      <th>COSMIC_mut_ID</th>\n",
       "      <th>ClinVar_mut_ID</th>\n",
       "      <th>UniProt_mut_ID</th>\n",
       "      <th>Domain_name</th>\n",
       "      <th>...</th>\n",
       "      <th>number_of_residues_mut</th>\n",
       "      <th>IntraclashesEnergy1_wt</th>\n",
       "      <th>IntraclashesEnergy1_mut</th>\n",
       "      <th>IntraclashesEnergy2_wt</th>\n",
       "      <th>IntraclashesEnergy2_mut</th>\n",
       "      <th>Interface_hydrophobic_area</th>\n",
       "      <th>Interface_hydrophilic_area</th>\n",
       "      <th>Interface_total_area</th>\n",
       "      <th>Interface_contact_distance_wt</th>\n",
       "      <th>Interface_contact_distance_mut</th>\n",
       "    </tr>\n",
       "  </thead>\n",
       "  <tbody>\n",
       "    <tr>\n",
       "      <th>0</th>\n",
       "      <td>0.507869</td>\n",
       "      <td>P61088</td>\n",
       "      <td>P61088</td>\n",
       "      <td>E61K</td>\n",
       "      <td>done</td>\n",
       "      <td>interface</td>\n",
       "      <td>-</td>\n",
       "      <td>-</td>\n",
       "      <td>-</td>\n",
       "      <td>UQ_con</td>\n",
       "      <td>...</td>\n",
       "      <td>254.0</td>\n",
       "      <td>33.4527</td>\n",
       "      <td>33.4511</td>\n",
       "      <td>40.0177</td>\n",
       "      <td>40.0114</td>\n",
       "      <td>319.225</td>\n",
       "      <td>201.86</td>\n",
       "      <td>521.085</td>\n",
       "      <td>2.612</td>\n",
       "      <td>4.42118</td>\n",
       "    </tr>\n",
       "    <tr>\n",
       "      <th>1</th>\n",
       "      <td>0.507869</td>\n",
       "      <td>P61088</td>\n",
       "      <td>P61088</td>\n",
       "      <td>E61K</td>\n",
       "      <td>done</td>\n",
       "      <td>interface</td>\n",
       "      <td>-</td>\n",
       "      <td>-</td>\n",
       "      <td>-</td>\n",
       "      <td>UQ_con</td>\n",
       "      <td>...</td>\n",
       "      <td>254.0</td>\n",
       "      <td>33.4527</td>\n",
       "      <td>33.4511</td>\n",
       "      <td>40.0177</td>\n",
       "      <td>40.0114</td>\n",
       "      <td>319.225</td>\n",
       "      <td>201.86</td>\n",
       "      <td>521.085</td>\n",
       "      <td>2.612</td>\n",
       "      <td>4.42118</td>\n",
       "    </tr>\n",
       "    <tr>\n",
       "      <th>2</th>\n",
       "      <td>0.507869</td>\n",
       "      <td>P61088</td>\n",
       "      <td>P61088</td>\n",
       "      <td>E61K</td>\n",
       "      <td>done</td>\n",
       "      <td>interface</td>\n",
       "      <td>-</td>\n",
       "      <td>-</td>\n",
       "      <td>-</td>\n",
       "      <td>UQ_con</td>\n",
       "      <td>...</td>\n",
       "      <td>254.0</td>\n",
       "      <td>33.4527</td>\n",
       "      <td>33.4511</td>\n",
       "      <td>40.0177</td>\n",
       "      <td>40.0114</td>\n",
       "      <td>319.225</td>\n",
       "      <td>201.86</td>\n",
       "      <td>521.085</td>\n",
       "      <td>2.612</td>\n",
       "      <td>4.42118</td>\n",
       "    </tr>\n",
       "  </tbody>\n",
       "</table>\n",
       "<p>3 rows × 104 columns</p>\n",
       "</div>"
      ],
      "text/plain": [
       "   Prediction Input_identifier UniProt_ID Mutation Status       Type  \\\n",
       "0    0.507869           P61088     P61088     E61K   done  interface   \n",
       "1    0.507869           P61088     P61088     E61K   done  interface   \n",
       "2    0.507869           P61088     P61088     E61K   done  interface   \n",
       "\n",
       "  COSMIC_mut_ID ClinVar_mut_ID UniProt_mut_ID Domain_name  ...  \\\n",
       "0             -              -              -      UQ_con  ...   \n",
       "1             -              -              -      UQ_con  ...   \n",
       "2             -              -              -      UQ_con  ...   \n",
       "\n",
       "  number_of_residues_mut IntraclashesEnergy1_wt IntraclashesEnergy1_mut  \\\n",
       "0                  254.0                33.4527                 33.4511   \n",
       "1                  254.0                33.4527                 33.4511   \n",
       "2                  254.0                33.4527                 33.4511   \n",
       "\n",
       "   IntraclashesEnergy2_wt  IntraclashesEnergy2_mut Interface_hydrophobic_area  \\\n",
       "0                 40.0177                  40.0114                    319.225   \n",
       "1                 40.0177                  40.0114                    319.225   \n",
       "2                 40.0177                  40.0114                    319.225   \n",
       "\n",
       "  Interface_hydrophilic_area Interface_total_area  \\\n",
       "0                     201.86              521.085   \n",
       "1                     201.86              521.085   \n",
       "2                     201.86              521.085   \n",
       "\n",
       "  Interface_contact_distance_wt Interface_contact_distance_mut  \n",
       "0                         2.612                        4.42118  \n",
       "1                         2.612                        4.42118  \n",
       "2                         2.612                        4.42118  \n",
       "\n",
       "[3 rows x 104 columns]"
      ]
     },
     "metadata": {},
     "output_type": "display_data"
    }
   ],
   "source": [
    "display_data(predator.predictions[\"esca_predicted_probs_datasets\"][0])"
   ]
  },
  {
   "cell_type": "code",
   "execution_count": 14,
   "id": "a603e902-b663-49e2-92c5-e6167cc06699",
   "metadata": {
    "pycharm": {
     "name": "#%%\n"
    }
   },
   "outputs": [
    {
     "data": {
      "image/png": "[encoded data removed]",
      "text/plain": [
       "<Figure size 1080x360 with 1 Axes>"
      ]
     },
     "metadata": {
      "needs_background": "light"
     },
     "output_type": "display_data"
    }
   ],
   "source": [
    "predator.predictions.plot_distribution_valid_vs_invalid(\"esca\")"
   ]
  },
  {
   "cell_type": "code",
   "execution_count": 15,
   "id": "77147287-c7ce-4771-b0ed-e45479644ccb",
   "metadata": {
    "pycharm": {
     "name": "#%%\n"
    }
   },
   "outputs": [
    {
     "name": "stdout",
     "output_type": "stream",
     "text": [
      "2022-06-17 00:37:57 |\u001b[36m DEBUG    \u001b[0m| helpers.helpers_predator.predictions | Plotting number of finalized predictions per model.\n",
      "Note that following plot shows the number of (protein, mutation, interactor) triplets which had valid prediction.\n"
     ]
    },
    {
     "data": {
      "image/png": "[encoded data removed]",
      "text/plain": [
       "<Figure size 1080x360 with 1 Axes>"
      ]
     },
     "metadata": {
      "needs_background": "light"
     },
     "output_type": "display_data"
    }
   ],
   "source": [
    "predator.predictions.plot_num_finalized_predictions(\"esca\")"
   ]
  },
  {
   "cell_type": "code",
   "execution_count": 16,
   "id": "a0762893-11a8-43c7-8b93-1b214a1a85e4",
   "metadata": {
    "pycharm": {
     "name": "#%%\n"
    }
   },
   "outputs": [
    {
     "name": "stdout",
     "output_type": "stream",
     "text": [
      "\u001b[36mData dimensions: (1665, 4)\u001b[0m\n"
     ]
    },
    {
     "data": {
      "text/html": [
       "<div>\n",
       "<style scoped>\n",
       "    .dataframe tbody tr th:only-of-type {\n",
       "        vertical-align: middle;\n",
       "    }\n",
       "\n",
       "    .dataframe tbody tr th {\n",
       "        vertical-align: top;\n",
       "    }\n",
       "\n",
       "    .dataframe thead th {\n",
       "        text-align: right;\n",
       "    }\n",
       "</style>\n",
       "<table border=\"1\" class=\"dataframe\">\n",
       "  <thead>\n",
       "    <tr style=\"text-align: right;\">\n",
       "      <th></th>\n",
       "      <th>Prediction</th>\n",
       "      <th>UniProt_ID</th>\n",
       "      <th>Mutation</th>\n",
       "      <th>Interactor_UniProt_ID</th>\n",
       "    </tr>\n",
       "  </thead>\n",
       "  <tbody>\n",
       "    <tr>\n",
       "      <th>0</th>\n",
       "      <td>0.507869</td>\n",
       "      <td>P61088</td>\n",
       "      <td>E61K</td>\n",
       "      <td>P38398</td>\n",
       "    </tr>\n",
       "    <tr>\n",
       "      <th>1</th>\n",
       "      <td>0.311864</td>\n",
       "      <td>P61088</td>\n",
       "      <td>E61K</td>\n",
       "      <td>Q96PU5</td>\n",
       "    </tr>\n",
       "    <tr>\n",
       "      <th>2</th>\n",
       "      <td>0.378339</td>\n",
       "      <td>P61088</td>\n",
       "      <td>E61K</td>\n",
       "      <td>Q9Y4L5</td>\n",
       "    </tr>\n",
       "  </tbody>\n",
       "</table>\n",
       "</div>"
      ],
      "text/plain": [
       "   Prediction UniProt_ID Mutation Interactor_UniProt_ID\n",
       "0    0.507869     P61088     E61K                P38398\n",
       "1    0.311864     P61088     E61K                Q96PU5\n",
       "2    0.378339     P61088     E61K                Q9Y4L5"
      ]
     },
     "metadata": {},
     "output_type": "display_data"
    }
   ],
   "source": [
    "display_data(predator.predictions['esca_finalized_prediction_dataframes'][0])"
   ]
  },
  {
   "cell_type": "code",
   "execution_count": 17,
   "id": "7fab8dc7-62ea-4cba-bdfa-0a8187a53a27",
   "metadata": {
    "pycharm": {
     "name": "#%%\n"
    },
    "scrolled": true,
    "tags": []
   },
   "outputs": [
    {
     "name": "stdout",
     "output_type": "stream",
     "text": [
      "2022-06-17 00:38:14 |\u001b[32m INFO     \u001b[0m| helpers.helpers_predator.predictions | PredictionsSoft\n",
      "2022-06-17 00:38:14 |\u001b[32m INFO     \u001b[0m| helpers.helpers_predator.predictions | Preparing ensemble prediction data for esca taking median ..\n"
     ]
    },
    {
     "data": {
      "application/vnd.jupyter.widget-view+json": {
       "model_id": "5c733e04159240c99a3121911a2e8e38",
       "version_major": 2,
       "version_minor": 0
      },
      "text/plain": [
       "  0%|          | 0/38 [00:00<?, ?it/s]"
      ]
     },
     "metadata": {},
     "output_type": "display_data"
    },
    {
     "name": "stdout",
     "output_type": "stream",
     "text": [
      "2022-06-17 00:39:39 |\u001b[36m DEBUG    \u001b[0m| helpers.helpers_predator.predictions | Prediction probabilities data for esca is prepared.\n",
      "Accessible from `esca_predictions_prob_data`.\n",
      "2022-06-17 00:39:39 |\u001b[36m DEBUG    \u001b[0m| helpers.helpers_predator.predictions | Ensemble prediction data for esca is prepared.\n",
      "Accessible from `esca_ensemble_prediction_data`.\n",
      "2022-06-17 00:39:39 |\u001b[36m DEBUG    \u001b[0m| helpers.helpers_predator.predictions | Resulting prediction data is available for esca.\n",
      "Accessible from predictions.['esca_prediction_results']\n",
      "2022-06-17 00:39:39 |\u001b[36m DEBUG    \u001b[0m| helpers.helpers_predator.predictions | Resulting prediction data (no_votes dropped) is available for esca.\n",
      "Accessible from predictions.['esca_prediction_results_no_votes_dropped']\n"
     ]
    }
   ],
   "source": [
    "predator.prepare_ensemble_prediction_data()"
   ]
  },
  {
   "cell_type": "code",
   "execution_count": 18,
   "id": "0ffd0f8a-b82f-4733-9a31-2d350402fecb",
   "metadata": {
    "pycharm": {
     "name": "#%%\n"
    }
   },
   "outputs": [
    {
     "name": "stdout",
     "output_type": "stream",
     "text": [
      "\u001b[36mData dimensions: (1239, 40)\u001b[0m\n"
     ]
    },
    {
     "data": {
      "text/html": [
       "<div>\n",
       "<style scoped>\n",
       "    .dataframe tbody tr th:only-of-type {\n",
       "        vertical-align: middle;\n",
       "    }\n",
       "\n",
       "    .dataframe tbody tr th {\n",
       "        vertical-align: top;\n",
       "    }\n",
       "\n",
       "    .dataframe thead th {\n",
       "        text-align: right;\n",
       "    }\n",
       "</style>\n",
       "<table border=\"1\" class=\"dataframe\">\n",
       "  <thead>\n",
       "    <tr style=\"text-align: right;\">\n",
       "      <th></th>\n",
       "      <th>Trial 0</th>\n",
       "      <th>Trial 1</th>\n",
       "      <th>Trial 2</th>\n",
       "      <th>Trial 3</th>\n",
       "      <th>Trial 4</th>\n",
       "      <th>Trial 5</th>\n",
       "      <th>Trial 6</th>\n",
       "      <th>Trial 7</th>\n",
       "      <th>Trial 8</th>\n",
       "      <th>Trial 9</th>\n",
       "      <th>...</th>\n",
       "      <th>Trial 30</th>\n",
       "      <th>Trial 31</th>\n",
       "      <th>Trial 32</th>\n",
       "      <th>Trial 33</th>\n",
       "      <th>Trial 34</th>\n",
       "      <th>Trial 35</th>\n",
       "      <th>Trial 36</th>\n",
       "      <th>Trial 37</th>\n",
       "      <th>PROB_1s_AVG</th>\n",
       "      <th>VOTED_PREDICTION</th>\n",
       "    </tr>\n",
       "  </thead>\n",
       "  <tbody>\n",
       "    <tr>\n",
       "      <th>0</th>\n",
       "      <td>0.507869</td>\n",
       "      <td>0.35566</td>\n",
       "      <td>0.334863</td>\n",
       "      <td>0.511321</td>\n",
       "      <td>0.575166</td>\n",
       "      <td>0.427724</td>\n",
       "      <td>0.431735</td>\n",
       "      <td>0.284112</td>\n",
       "      <td>0.447708</td>\n",
       "      <td>0.340665</td>\n",
       "      <td>...</td>\n",
       "      <td>0.458945</td>\n",
       "      <td>0.387494</td>\n",
       "      <td>0.429923</td>\n",
       "      <td>0.388235</td>\n",
       "      <td>0.458378</td>\n",
       "      <td>0.91875</td>\n",
       "      <td>0.437125</td>\n",
       "      <td>0.532461</td>\n",
       "      <td>0.45515</td>\n",
       "      <td>0</td>\n",
       "    </tr>\n",
       "    <tr>\n",
       "      <th>1</th>\n",
       "      <td>NO_VOTE</td>\n",
       "      <td>NO_VOTE</td>\n",
       "      <td>NO_VOTE</td>\n",
       "      <td>NO_VOTE</td>\n",
       "      <td>NO_VOTE</td>\n",
       "      <td>NO_VOTE</td>\n",
       "      <td>NO_VOTE</td>\n",
       "      <td>NO_VOTE</td>\n",
       "      <td>NO_VOTE</td>\n",
       "      <td>NO_VOTE</td>\n",
       "      <td>...</td>\n",
       "      <td>0.36272</td>\n",
       "      <td>NO_VOTE</td>\n",
       "      <td>NO_VOTE</td>\n",
       "      <td>0.411649</td>\n",
       "      <td>NO_VOTE</td>\n",
       "      <td>0.796875</td>\n",
       "      <td>NO_VOTE</td>\n",
       "      <td>NO_VOTE</td>\n",
       "      <td>NO_VOTE</td>\n",
       "      <td>NO_VOTE</td>\n",
       "    </tr>\n",
       "    <tr>\n",
       "      <th>2</th>\n",
       "      <td>0.355456</td>\n",
       "      <td>0.33204</td>\n",
       "      <td>0.298742</td>\n",
       "      <td>0.414256</td>\n",
       "      <td>0.396542</td>\n",
       "      <td>0.314414</td>\n",
       "      <td>0.431735</td>\n",
       "      <td>0.212303</td>\n",
       "      <td>0.406551</td>\n",
       "      <td>0.358934</td>\n",
       "      <td>...</td>\n",
       "      <td>0.219529</td>\n",
       "      <td>0.392528</td>\n",
       "      <td>0.374022</td>\n",
       "      <td>0.295588</td>\n",
       "      <td>0.240323</td>\n",
       "      <td>NO_VOTE</td>\n",
       "      <td>0.356379</td>\n",
       "      <td>0.326878</td>\n",
       "      <td>0.34311</td>\n",
       "      <td>0</td>\n",
       "    </tr>\n",
       "  </tbody>\n",
       "</table>\n",
       "<p>3 rows × 40 columns</p>\n",
       "</div>"
      ],
      "text/plain": [
       "    Trial 0  Trial 1   Trial 2   Trial 3   Trial 4   Trial 5   Trial 6  \\\n",
       "0  0.507869  0.35566  0.334863  0.511321  0.575166  0.427724  0.431735   \n",
       "1   NO_VOTE  NO_VOTE   NO_VOTE   NO_VOTE   NO_VOTE   NO_VOTE   NO_VOTE   \n",
       "2  0.355456  0.33204  0.298742  0.414256  0.396542  0.314414  0.431735   \n",
       "\n",
       "    Trial 7   Trial 8   Trial 9  ...  Trial 30  Trial 31  Trial 32  Trial 33  \\\n",
       "0  0.284112  0.447708  0.340665  ...  0.458945  0.387494  0.429923  0.388235   \n",
       "1   NO_VOTE   NO_VOTE   NO_VOTE  ...   0.36272   NO_VOTE   NO_VOTE  0.411649   \n",
       "2  0.212303  0.406551  0.358934  ...  0.219529  0.392528  0.374022  0.295588   \n",
       "\n",
       "   Trial 34  Trial 35  Trial 36  Trial 37 PROB_1s_AVG VOTED_PREDICTION  \n",
       "0  0.458378   0.91875  0.437125  0.532461     0.45515                0  \n",
       "1   NO_VOTE  0.796875   NO_VOTE   NO_VOTE     NO_VOTE          NO_VOTE  \n",
       "2  0.240323   NO_VOTE  0.356379  0.326878     0.34311                0  \n",
       "\n",
       "[3 rows x 40 columns]"
      ]
     },
     "metadata": {},
     "output_type": "display_data"
    }
   ],
   "source": [
    "display_data(predator.predictions['esca_predictions_prob_data'])"
   ]
  },
  {
   "cell_type": "code",
   "execution_count": 19,
   "id": "f2b38467-e658-4ed6-9ac0-6de1f1017ce7",
   "metadata": {
    "pycharm": {
     "name": "#%%\n"
    }
   },
   "outputs": [
    {
     "data": {
      "image/png": "[encoded data removed]",
      "text/plain": [
       "<Figure size 432x288 with 1 Axes>"
      ]
     },
     "metadata": {
      "needs_background": "light"
     },
     "output_type": "display_data"
    }
   ],
   "source": [
    "predator.predictions.plot_ensemble_prediction_distribution(\"esca\")"
   ]
  },
  {
   "cell_type": "code",
   "execution_count": 20,
   "id": "02fbbfee",
   "metadata": {
    "collapsed": false,
    "jupyter": {
     "outputs_hidden": false
    },
    "pycharm": {
     "name": "#%%\n"
    }
   },
   "outputs": [
    {
     "name": "stdout",
     "output_type": "stream",
     "text": [
      "\u001b[36mData dimensions: (1239, 4)\u001b[0m\n"
     ]
    },
    {
     "data": {
      "text/html": [
       "<div>\n",
       "<style scoped>\n",
       "    .dataframe tbody tr th:only-of-type {\n",
       "        vertical-align: middle;\n",
       "    }\n",
       "\n",
       "    .dataframe tbody tr th {\n",
       "        vertical-align: top;\n",
       "    }\n",
       "\n",
       "    .dataframe thead th {\n",
       "        text-align: right;\n",
       "    }\n",
       "</style>\n",
       "<table border=\"1\" class=\"dataframe\">\n",
       "  <thead>\n",
       "    <tr style=\"text-align: right;\">\n",
       "      <th></th>\n",
       "      <th>UniProt_ID</th>\n",
       "      <th>Mutation</th>\n",
       "      <th>Interactor_UniProt_ID</th>\n",
       "      <th>Prediction</th>\n",
       "    </tr>\n",
       "  </thead>\n",
       "  <tbody>\n",
       "    <tr>\n",
       "      <th>0</th>\n",
       "      <td>P61088</td>\n",
       "      <td>E61K</td>\n",
       "      <td>P38398</td>\n",
       "      <td>0</td>\n",
       "    </tr>\n",
       "    <tr>\n",
       "      <th>1</th>\n",
       "      <td>P61088</td>\n",
       "      <td>E61K</td>\n",
       "      <td>O95628</td>\n",
       "      <td>NO_VOTE</td>\n",
       "    </tr>\n",
       "    <tr>\n",
       "      <th>2</th>\n",
       "      <td>P61088</td>\n",
       "      <td>E61K</td>\n",
       "      <td>Q96PU5</td>\n",
       "      <td>0</td>\n",
       "    </tr>\n",
       "  </tbody>\n",
       "</table>\n",
       "</div>"
      ],
      "text/plain": [
       "  UniProt_ID Mutation Interactor_UniProt_ID Prediction\n",
       "0     P61088     E61K                P38398          0\n",
       "1     P61088     E61K                O95628    NO_VOTE\n",
       "2     P61088     E61K                Q96PU5          0"
      ]
     },
     "metadata": {},
     "output_type": "display_data"
    }
   ],
   "source": [
    "esca_prediction_results_soft = predator.predictions['esca_prediction_results']\n",
    "display_data(esca_prediction_results_soft)"
   ]
  },
  {
   "cell_type": "code",
   "execution_count": 21,
   "id": "569c4dd1-e2d9-40d0-b7c0-1cc177adfabb",
   "metadata": {
    "pycharm": {
     "name": "#%%\n"
    }
   },
   "outputs": [
    {
     "name": "stdout",
     "output_type": "stream",
     "text": [
      "\u001b[36mData dimensions: (1189, 4)\u001b[0m\n"
     ]
    },
    {
     "data": {
      "text/html": [
       "<div>\n",
       "<style scoped>\n",
       "    .dataframe tbody tr th:only-of-type {\n",
       "        vertical-align: middle;\n",
       "    }\n",
       "\n",
       "    .dataframe tbody tr th {\n",
       "        vertical-align: top;\n",
       "    }\n",
       "\n",
       "    .dataframe thead th {\n",
       "        text-align: right;\n",
       "    }\n",
       "</style>\n",
       "<table border=\"1\" class=\"dataframe\">\n",
       "  <thead>\n",
       "    <tr style=\"text-align: right;\">\n",
       "      <th></th>\n",
       "      <th>UniProt_ID</th>\n",
       "      <th>Mutation</th>\n",
       "      <th>Interactor_UniProt_ID</th>\n",
       "      <th>Prediction</th>\n",
       "    </tr>\n",
       "  </thead>\n",
       "  <tbody>\n",
       "    <tr>\n",
       "      <th>0</th>\n",
       "      <td>P61088</td>\n",
       "      <td>E61K</td>\n",
       "      <td>P38398</td>\n",
       "      <td>0</td>\n",
       "    </tr>\n",
       "    <tr>\n",
       "      <th>2</th>\n",
       "      <td>P61088</td>\n",
       "      <td>E61K</td>\n",
       "      <td>Q96PU5</td>\n",
       "      <td>0</td>\n",
       "    </tr>\n",
       "    <tr>\n",
       "      <th>3</th>\n",
       "      <td>P61088</td>\n",
       "      <td>E61K</td>\n",
       "      <td>Q9Y4L5</td>\n",
       "      <td>0</td>\n",
       "    </tr>\n",
       "  </tbody>\n",
       "</table>\n",
       "</div>"
      ],
      "text/plain": [
       "  UniProt_ID Mutation Interactor_UniProt_ID Prediction\n",
       "0     P61088     E61K                P38398          0\n",
       "2     P61088     E61K                Q96PU5          0\n",
       "3     P61088     E61K                Q9Y4L5          0"
      ]
     },
     "metadata": {},
     "output_type": "display_data"
    }
   ],
   "source": [
    "esca_prediction_results_soft_no_votes_dropped = predator.predictions[\"esca_prediction_results_no_votes_dropped\"]\n",
    "display_data(esca_prediction_results_soft_no_votes_dropped)"
   ]
  },
  {
   "cell_type": "code",
   "execution_count": 22,
   "id": "d1100263-ae65-405f-a13d-896927fdc1c5",
   "metadata": {
    "pycharm": {
     "name": "#%%\n"
    }
   },
   "outputs": [
    {
     "name": "stdout",
     "output_type": "stream",
     "text": [
      "\u001b[36mLabel counts:\n",
      "Increasing + No Effect    567\n",
      "Disrupting                622\n",
      "Name: Prediction, dtype: int64\u001b[0m\n"
     ]
    },
    {
     "data": {
      "image/png": "[encoded data removed]",
      "text/plain": [
       "<Figure size 432x288 with 1 Axes>"
      ]
     },
     "metadata": {},
     "output_type": "display_data"
    }
   ],
   "source": [
    "visualize_label_counts(esca_prediction_results_soft_no_votes_dropped, 'Prediction')"
   ]
  },
  {
   "cell_type": "code",
   "execution_count": 23,
   "id": "37c0a11a-e87e-40af-ba8a-8a28b82d956d",
   "metadata": {
    "pycharm": {
     "name": "#%%\n"
    }
   },
   "outputs": [],
   "source": [
    "esca_ensemble_prediction_data_soft = predator.predictions[\"esca_ensemble_prediction_data\"]"
   ]
  },
  {
   "cell_type": "code",
   "execution_count": 24,
   "id": "e4995e62-dfd6-4b54-bd6c-67a62eefb6a6",
   "metadata": {
    "pycharm": {
     "name": "#%%\n"
    }
   },
   "outputs": [],
   "source": [
    "esca_predictions_prob_data_soft = predator.predictions[\"esca_predictions_prob_data\"]"
   ]
  },
  {
   "cell_type": "code",
   "execution_count": 24,
   "id": "f024fc9b-c4b1-4b79-8893-08638e7e90d3",
   "metadata": {
    "pycharm": {
     "name": "#%%\n"
    }
   },
   "outputs": [],
   "source": []
  },
  {
   "cell_type": "code",
   "execution_count": 25,
   "id": "a84ab98c-1e29-413a-8c6e-514b747fd38f",
   "metadata": {
    "pycharm": {
     "name": "#%%\n"
    }
   },
   "outputs": [],
   "source": [
    "def add_median_probabilities(prediction_results, predictions_prob_data):\n",
    "    assert len(prediction_results) == len(predictions_prob_data)\n",
    "    prediction_results_with_probabilities = prediction_results.copy()\n",
    "    prediction_results_with_probabilities[\"Median_Probability\"] = predictions_prob_data[\"PROB_1s_AVG\"]\n",
    "    return prediction_results_with_probabilities"
   ]
  },
  {
   "cell_type": "code",
   "execution_count": 26,
   "id": "b8955db8-7279-4644-acb9-6297e6e1c43c",
   "metadata": {
    "pycharm": {
     "name": "#%%\n"
    }
   },
   "outputs": [
    {
     "data": {
      "text/html": [
       "<div>\n",
       "<style scoped>\n",
       "    .dataframe tbody tr th:only-of-type {\n",
       "        vertical-align: middle;\n",
       "    }\n",
       "\n",
       "    .dataframe tbody tr th {\n",
       "        vertical-align: top;\n",
       "    }\n",
       "\n",
       "    .dataframe thead th {\n",
       "        text-align: right;\n",
       "    }\n",
       "</style>\n",
       "<table border=\"1\" class=\"dataframe\">\n",
       "  <thead>\n",
       "    <tr style=\"text-align: right;\">\n",
       "      <th></th>\n",
       "      <th>UniProt_ID</th>\n",
       "      <th>Mutation</th>\n",
       "      <th>Interactor_UniProt_ID</th>\n",
       "      <th>Prediction</th>\n",
       "      <th>Median_Probability</th>\n",
       "    </tr>\n",
       "  </thead>\n",
       "  <tbody>\n",
       "    <tr>\n",
       "      <th>0</th>\n",
       "      <td>P61088</td>\n",
       "      <td>E61K</td>\n",
       "      <td>P38398</td>\n",
       "      <td>0</td>\n",
       "      <td>0.45515</td>\n",
       "    </tr>\n",
       "    <tr>\n",
       "      <th>1</th>\n",
       "      <td>P61088</td>\n",
       "      <td>E61K</td>\n",
       "      <td>O95628</td>\n",
       "      <td>NO_VOTE</td>\n",
       "      <td>NO_VOTE</td>\n",
       "    </tr>\n",
       "    <tr>\n",
       "      <th>2</th>\n",
       "      <td>P61088</td>\n",
       "      <td>E61K</td>\n",
       "      <td>Q96PU5</td>\n",
       "      <td>0</td>\n",
       "      <td>0.34311</td>\n",
       "    </tr>\n",
       "    <tr>\n",
       "      <th>3</th>\n",
       "      <td>P61088</td>\n",
       "      <td>E61K</td>\n",
       "      <td>Q9Y4L5</td>\n",
       "      <td>0</td>\n",
       "      <td>0.37993</td>\n",
       "    </tr>\n",
       "    <tr>\n",
       "      <th>4</th>\n",
       "      <td>P61088</td>\n",
       "      <td>E61K</td>\n",
       "      <td>Q9Y3C5</td>\n",
       "      <td>0</td>\n",
       "      <td>0.38679</td>\n",
       "    </tr>\n",
       "  </tbody>\n",
       "</table>\n",
       "</div>"
      ],
      "text/plain": [
       "  UniProt_ID Mutation Interactor_UniProt_ID Prediction Median_Probability\n",
       "0     P61088     E61K                P38398          0            0.45515\n",
       "1     P61088     E61K                O95628    NO_VOTE            NO_VOTE\n",
       "2     P61088     E61K                Q96PU5          0            0.34311\n",
       "3     P61088     E61K                Q9Y4L5          0            0.37993\n",
       "4     P61088     E61K                Q9Y3C5          0            0.38679"
      ]
     },
     "execution_count": 26,
     "metadata": {},
     "output_type": "execute_result"
    }
   ],
   "source": [
    "esca_prediction_results_soft_with_median_probs = add_median_probabilities(\n",
    "    prediction_results=predator.predictions[\"esca_prediction_results\"],\n",
    "    predictions_prob_data=predator.predictions[\"esca_predictions_prob_data\"]\n",
    ")\n",
    "esca_prediction_results_soft_with_median_probs.head()"
   ]
  },
  {
   "cell_type": "code",
   "execution_count": 27,
   "id": "5328bf48-72fa-4a0c-86c5-76e0939b0e5c",
   "metadata": {
    "pycharm": {
     "name": "#%%\n"
    }
   },
   "outputs": [],
   "source": [
    "esca_prediction_results_soft_no_votes_dropped_with_median_probabilities = esca_prediction_results_soft_with_median_probs[\n",
    "    esca_prediction_results_soft_with_median_probs['Prediction'].isin([0, 1])\n",
    "]"
   ]
  },
  {
   "cell_type": "code",
   "execution_count": 28,
   "id": "5040e7d0-4bd2-4197-8a21-58bfd68b6c76",
   "metadata": {
    "pycharm": {
     "name": "#%%\n"
    }
   },
   "outputs": [
    {
     "data": {
      "text/plain": [
       "1189"
      ]
     },
     "execution_count": 28,
     "metadata": {},
     "output_type": "execute_result"
    }
   ],
   "source": [
    "len(esca_prediction_results_soft_no_votes_dropped_with_median_probabilities)"
   ]
  },
  {
   "cell_type": "code",
   "execution_count": null,
   "id": "178f622f-984a-40c6-9211-22e8fb16fed3",
   "metadata": {
    "pycharm": {
     "name": "#%%\n"
    }
   },
   "outputs": [],
   "source": []
  },
  {
   "cell_type": "markdown",
   "id": "412859ae-c188-410e-85ef-7df91b9d2b89",
   "metadata": {
    "pycharm": {
     "name": "#%% md\n"
    }
   },
   "source": [
    "## Exporting Predictions"
   ]
  },
  {
   "cell_type": "code",
   "execution_count": 29,
   "id": "4042b8ce-498b-4c6c-b964-bbf7632e4ae6",
   "metadata": {
    "pycharm": {
     "name": "#%%\n"
    }
   },
   "outputs": [
    {
     "name": "stdout",
     "output_type": "stream",
     "text": [
      "\u001b[36mData dimensions: (1189, 5)\u001b[0m\n"
     ]
    },
    {
     "data": {
      "text/html": [
       "<div>\n",
       "<style scoped>\n",
       "    .dataframe tbody tr th:only-of-type {\n",
       "        vertical-align: middle;\n",
       "    }\n",
       "\n",
       "    .dataframe tbody tr th {\n",
       "        vertical-align: top;\n",
       "    }\n",
       "\n",
       "    .dataframe thead th {\n",
       "        text-align: right;\n",
       "    }\n",
       "</style>\n",
       "<table border=\"1\" class=\"dataframe\">\n",
       "  <thead>\n",
       "    <tr style=\"text-align: right;\">\n",
       "      <th></th>\n",
       "      <th>UniProt_ID</th>\n",
       "      <th>Mutation</th>\n",
       "      <th>Interactor_UniProt_ID</th>\n",
       "      <th>Prediction</th>\n",
       "      <th>Median_Probability</th>\n",
       "    </tr>\n",
       "  </thead>\n",
       "  <tbody>\n",
       "    <tr>\n",
       "      <th>0</th>\n",
       "      <td>P61088</td>\n",
       "      <td>E61K</td>\n",
       "      <td>P38398</td>\n",
       "      <td>0</td>\n",
       "      <td>0.45515</td>\n",
       "    </tr>\n",
       "    <tr>\n",
       "      <th>2</th>\n",
       "      <td>P61088</td>\n",
       "      <td>E61K</td>\n",
       "      <td>Q96PU5</td>\n",
       "      <td>0</td>\n",
       "      <td>0.34311</td>\n",
       "    </tr>\n",
       "    <tr>\n",
       "      <th>3</th>\n",
       "      <td>P61088</td>\n",
       "      <td>E61K</td>\n",
       "      <td>Q9Y4L5</td>\n",
       "      <td>0</td>\n",
       "      <td>0.37993</td>\n",
       "    </tr>\n",
       "  </tbody>\n",
       "</table>\n",
       "</div>"
      ],
      "text/plain": [
       "  UniProt_ID Mutation Interactor_UniProt_ID Prediction Median_Probability\n",
       "0     P61088     E61K                P38398          0            0.45515\n",
       "2     P61088     E61K                Q96PU5          0            0.34311\n",
       "3     P61088     E61K                Q9Y4L5          0            0.37993"
      ]
     },
     "metadata": {},
     "output_type": "display_data"
    }
   ],
   "source": [
    "# esca_prediction_results = esca_prediction_results_hard_no_votes_dropped\n",
    "# esca_prediction_results = esca_prediction_results_soft_no_votes_dropped\n",
    "esca_prediction_results = esca_prediction_results_soft_no_votes_dropped_with_median_probabilities\n",
    "display_data(esca_prediction_results)"
   ]
  },
  {
   "cell_type": "code",
   "execution_count": 30,
   "id": "4ab9fbc1-d3d2-4424-99ac-aa5515070d71",
   "metadata": {
    "pycharm": {
     "name": "#%%\n"
    }
   },
   "outputs": [
    {
     "name": "stdout",
     "output_type": "stream",
     "text": [
      "2022-06-17 00:41:37 |\u001b[36m DEBUG    \u001b[0m| helpers.helpers_predator.common | Folder with ID f2d1e99a is created.\n",
      "2022-06-17 00:41:37 |\u001b[36m DEBUG    \u001b[0m| helpers.helpers_predator.common | Exporting data predictions at location ../data/predictions_datasets/ in folder esca_prediction_2022-06-17\\f2d1e99a..\n",
      "2022-06-17 00:41:37 |\u001b[32m INFO     \u001b[0m| helpers.helpers_predator.common | ../data/predictions_datasets/esca_prediction_2022-06-17\\f2d1e99a\\predictions_soft_2022-06-17.csv is exported successfully.\n",
      "2022-06-17 00:41:37 |\u001b[32m INFO     \u001b[0m| helpers.helpers_predator.common | Config is exported.\n"
     ]
    }
   ],
   "source": [
    "predator.export_prediction(\n",
    "    tcga=\"esca\",\n",
    "    data=esca_prediction_results,\n",
    "    file_name=\"predictions\",\n",
    "    folder_path=PREDICTIONS_DATASETS_FOLDER_PATH,\n",
    "    voting=\"soft\",\n",
    "    overwrite=False,\n",
    "    file_extension='csv'\n",
    ")"
   ]
  },
  {
   "cell_type": "markdown",
   "id": "fbc616a5-ce63-4b93-a858-b3d22fdce070",
   "metadata": {
    "pycharm": {
     "name": "#%% md\n"
    }
   },
   "source": [
    "---"
   ]
  },
  {
   "cell_type": "code",
   "execution_count": null,
   "id": "2159ade9-870c-4676-94f2-4d1f4b09beee",
   "metadata": {
    "pycharm": {
     "name": "#%%\n"
    }
   },
   "outputs": [],
   "source": []
  }
 ],
 "metadata": {
  "kernelspec": {
   "display_name": "Predator",
   "language": "python",
   "name": "predator"
  },
  "language_info": {
   "codemirror_mode": {
    "name": "ipython",
    "version": 3
   },
   "file_extension": ".py",
   "mimetype": "text/x-python",
   "name": "python",
   "nbconvert_exporter": "python",
   "pygments_lexer": "ipython3",
   "version": "3.8.13"
  },
  "toc-autonumbering": false
 },
 "nbformat": 4,
 "nbformat_minor": 5
}
