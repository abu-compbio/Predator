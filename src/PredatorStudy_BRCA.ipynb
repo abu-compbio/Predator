{
 "cells": [
  {
   "cell_type": "markdown",
   "id": "b0eea2f9-919a-44d2-970f-da295e7b77c5",
   "metadata": {
    "tags": [],
    "pycharm": {
     "name": "#%% md\n"
    }
   },
   "source": [
    "# PREDATOR: **PRED**icting the imp**A**ct of cancer somatic mu**T**ations on pr**O**tein-protein inte**R**actions\n"
   ]
  },
  {
   "cell_type": "markdown",
   "id": "0fc1bee2-776f-46dc-9aa7-80e979b941df",
   "metadata": {
    "pycharm": {
     "name": "#%% md\n"
    }
   },
   "source": [
    "## BRCA"
   ]
  },
  {
   "cell_type": "markdown",
   "id": "f412b89c-b553-4606-95fb-d30520f77b97",
   "metadata": {
    "pycharm": {
     "name": "#%% md\n"
    }
   },
   "source": [
    "\n",
    "<b><i class=\"fa fa-folder-o\" area-hidden=\"true\" style=\"color:#1976D2\"> </i>&nbsp; File Location</b><br>\n",
    "<p style=\"background:#F5F5F5; text-indent: 1em;\">\n",
    "<code style=\"background:#F5F5F5; color:#404040; font-weight:bold; font-size:12px\">Predator\\src</code>\n",
    "</p>\n",
    "\n",
    "<b><i class=\"far fa-file\" area-hidden=\"true\" style=\"color:#1976D2\"> </i>&nbsp; File Name</b>\n",
    "<p style=\"background:#F5F5F5; text-indent: 1em;\">\n",
    "<code style=\"background:#F5F5F5; color:#404040; font-weight:bold; font-size:12px\">PredatorStudy_BRCA.ipynb</code>\n",
    "</p>\n",
    "\n",
    "<b><i class=\"far fa-calendar-alt\" area-hidden=\"true\" style=\"color:#1976D2\"> </i>&nbsp; Last Edited</b>\n",
    "<p style=\"background:#F5F5F5; text-indent: 1em;\">\n",
    "<code style=\"background:#F5F5F5; color:#404040; font-weight:bold; font-size:12px\">June 17th, 2022</code>\n",
    "</p>\n"
   ]
  },
  {
   "cell_type": "markdown",
   "id": "8931daec-0e11-43e2-8a68-098571c3cc4e",
   "metadata": {
    "pycharm": {
     "name": "#%% md\n"
    }
   },
   "source": [
    "<div class=\"alert alert-block\" style=\"background-color: #F5F5F5; border: 1px solid; padding: 10px; border-color: #E0E0E0\">\n",
    "    <b><i class=\"fa fa-compass\" aria-hidden=\"true\" style=\"color:#404040\"></i></b>&nbsp; <b style=\"color: #404040\">Purpose </b> <br>\n",
    "<div>\n",
    "   \n",
    "- [x] Apply on Cancer Datasets\n",
    "    > BRCA\n",
    "    \n",
    "**Dependent files:**\n",
    "\n",
    "* Target (Cancer) data: \n",
    "    - *BRCA_Interface.txt*"
   ]
  },
  {
   "cell_type": "code",
   "execution_count": 1,
   "id": "3f602602-ac27-4390-9521-9bcdc73f06ef",
   "metadata": {
    "pycharm": {
     "name": "#%%\n"
    }
   },
   "outputs": [],
   "source": [
    "from pathlib import Path\n",
    "\n",
    "from helpers.helpers_predator.displayers import (\n",
    "    visualize_label_counts,\n",
    "    display_data,\n",
    ")\n",
    "\n",
    "from helpers.helpers_predator.common import load_predator\n",
    "\n",
    "# PATHS\n",
    "BRCA_PATH = Path(r\"../data/Elaspic_merged_results/BRCA_Interface_2021-11-17.txt\")\n",
    "PREDATOR_MODEL_PATH = Path(r\"PredatorModels/PredatorModel_2022-06-16/cc84a54e/predator.pkl\")\n",
    "PREDICTIONS_DATASETS_FOLDER_PATH = \"../data/predictions_datasets/\"\n",
    "\n",
    "# Reflect changes in the modules immediately.\n",
    "%load_ext autoreload\n",
    "%autoreload 2"
   ]
  },
  {
   "cell_type": "markdown",
   "id": "c47b1edb-758c-460e-acf7-4f864330d19b",
   "metadata": {
    "pycharm": {
     "name": "#%% md\n"
    }
   },
   "source": [
    "## Load the Predator"
   ]
  },
  {
   "cell_type": "code",
   "execution_count": 2,
   "id": "0c164c31-9b7e-4366-8336-50cbc80bf9c7",
   "metadata": {
    "pycharm": {
     "name": "#%%\n"
    }
   },
   "outputs": [
    {
     "name": "stdout",
     "output_type": "stream",
     "text": [
      "2022-06-16 23:48:06 |\u001B[32m INFO     \u001B[0m| helpers.helpers_predator.common | Predator object PredatorModels\\PredatorModel_2022-06-16\\cc84a54e\\predator.pkl is loaded successfully.\n"
     ]
    }
   ],
   "source": [
    "predator = load_predator(PREDATOR_MODEL_PATH)"
   ]
  },
  {
   "cell_type": "markdown",
   "id": "60f783e4-28bb-4543-9d35-42c4b17b37b8",
   "metadata": {
    "pycharm": {
     "name": "#%% md\n"
    }
   },
   "source": [
    "## Prediction TCGA on Cancer Dataset: BRCA"
   ]
  },
  {
   "cell_type": "code",
   "execution_count": 3,
   "id": "c27cc976-e356-4271-85e9-f23c9366dc67",
   "metadata": {
    "pycharm": {
     "name": "#%%\n"
    }
   },
   "outputs": [
    {
     "name": "stdout",
     "output_type": "stream",
     "text": [
      "2022-06-16 23:48:06 |\u001B[36m DEBUG    \u001B[0m| helpers.helpers_predator.data_materials | Initialize `brca` ..\n",
      "2022-06-16 23:48:06 |\u001B[36m DEBUG    \u001B[0m| helpers.helpers_predator.data_materials | Initialize `target_brca_data` ..\n",
      "2022-06-16 23:48:06 |\u001B[36m DEBUG    \u001B[0m| helpers.helpers_predator.data_materials | Initializing target data materials ..\n",
      "2022-06-16 23:48:06 |\u001B[36m DEBUG    \u001B[0m| helpers.helpers_predator.data_materials | Determined features: ['EL2_score', 'Provean_score', 'Final_ddG', 'Interactor_alignment_score', 'Matrix_score', 'Solvent_accessibility_wt', 'van_der_waals_mut', 'Solvent_accessibility_mut', 'Interactor_template_sequence_identity', 'solvation_polar_wt']\n",
      "2022-06-16 23:48:06 |\u001B[36m DEBUG    \u001B[0m| helpers.helpers_predator.data_materials | Declaring Xs_brca data materials  ..\n"
     ]
    }
   ],
   "source": [
    "predator.initialize_target_data_materials(\n",
    "    tcga_code_path_pairs=[('brca', BRCA_PATH)]\n",
    ")"
   ]
  },
  {
   "cell_type": "markdown",
   "id": "245b2b8c-0c70-4cd5-9a09-b3428cf0b048",
   "metadata": {
    "tags": [],
    "pycharm": {
     "name": "#%% md\n"
    }
   },
   "source": [
    "#### TCGA Cancer Datasets"
   ]
  },
  {
   "cell_type": "markdown",
   "id": "4ab061ec-37b5-4651-a5c0-1f1238e7a08a",
   "metadata": {
    "pycharm": {
     "name": "#%% md\n"
    }
   },
   "source": [
    "##### BRCA"
   ]
  },
  {
   "cell_type": "code",
   "execution_count": 5,
   "outputs": [
    {
     "name": "stdout",
     "output_type": "stream",
     "text": [
      "\u001B[36mData dimensions: (7739, 103)\u001B[0m\n"
     ]
    },
    {
     "data": {
      "text/plain": "  Input_identifier UniProt_ID Mutation Status       Type COSMIC_mut_ID  \\\n0           P28062     P28062    R216W   done  interface    COSM451277   \n1           Q15842     Q15842    E237K   done  interface    COSM430893   \n2           Q15842     Q15842    E237K   done  interface    COSM430893   \n\n  ClinVar_mut_ID UniProt_mut_ID Domain_name Domain_clan  ...  \\\n0              -              -  Proteasome  Proteasome  ...   \n1              -              -         IRK         IRK  ...   \n2              -              -         IRK         IRK  ...   \n\n  number_of_residues_mut IntraclashesEnergy1_wt  IntraclashesEnergy1_mut  \\\n0                  417.0                156.750                  156.868   \n1                  684.0                131.720                  131.479   \n2                  678.0                142.706                  142.107   \n\n   IntraclashesEnergy2_wt IntraclashesEnergy2_mut Interface_hydrophobic_area  \\\n0                 49.1868                 49.1868                    566.065   \n1                129.5260                129.5260                       None   \n2                 99.1151                 99.1190                       None   \n\n  Interface_hydrophilic_area Interface_total_area  \\\n0                    367.205               933.27   \n1                       None                 None   \n2                     624.35                 None   \n\n  Interface_contact_distance_wt  Interface_contact_distance_mut  \n0                       5.37939                         3.28969  \n1                       2.48410                         2.92169  \n2                       2.70474                         3.18529  \n\n[3 rows x 103 columns]",
      "text/html": "<div>\n<style scoped>\n    .dataframe tbody tr th:only-of-type {\n        vertical-align: middle;\n    }\n\n    .dataframe tbody tr th {\n        vertical-align: top;\n    }\n\n    .dataframe thead th {\n        text-align: right;\n    }\n</style>\n<table border=\"1\" class=\"dataframe\">\n  <thead>\n    <tr style=\"text-align: right;\">\n      <th></th>\n      <th>Input_identifier</th>\n      <th>UniProt_ID</th>\n      <th>Mutation</th>\n      <th>Status</th>\n      <th>Type</th>\n      <th>COSMIC_mut_ID</th>\n      <th>ClinVar_mut_ID</th>\n      <th>UniProt_mut_ID</th>\n      <th>Domain_name</th>\n      <th>Domain_clan</th>\n      <th>...</th>\n      <th>number_of_residues_mut</th>\n      <th>IntraclashesEnergy1_wt</th>\n      <th>IntraclashesEnergy1_mut</th>\n      <th>IntraclashesEnergy2_wt</th>\n      <th>IntraclashesEnergy2_mut</th>\n      <th>Interface_hydrophobic_area</th>\n      <th>Interface_hydrophilic_area</th>\n      <th>Interface_total_area</th>\n      <th>Interface_contact_distance_wt</th>\n      <th>Interface_contact_distance_mut</th>\n    </tr>\n  </thead>\n  <tbody>\n    <tr>\n      <th>0</th>\n      <td>P28062</td>\n      <td>P28062</td>\n      <td>R216W</td>\n      <td>done</td>\n      <td>interface</td>\n      <td>COSM451277</td>\n      <td>-</td>\n      <td>-</td>\n      <td>Proteasome</td>\n      <td>Proteasome</td>\n      <td>...</td>\n      <td>417.0</td>\n      <td>156.750</td>\n      <td>156.868</td>\n      <td>49.1868</td>\n      <td>49.1868</td>\n      <td>566.065</td>\n      <td>367.205</td>\n      <td>933.27</td>\n      <td>5.37939</td>\n      <td>3.28969</td>\n    </tr>\n    <tr>\n      <th>1</th>\n      <td>Q15842</td>\n      <td>Q15842</td>\n      <td>E237K</td>\n      <td>done</td>\n      <td>interface</td>\n      <td>COSM430893</td>\n      <td>-</td>\n      <td>-</td>\n      <td>IRK</td>\n      <td>IRK</td>\n      <td>...</td>\n      <td>684.0</td>\n      <td>131.720</td>\n      <td>131.479</td>\n      <td>129.5260</td>\n      <td>129.5260</td>\n      <td>None</td>\n      <td>None</td>\n      <td>None</td>\n      <td>2.48410</td>\n      <td>2.92169</td>\n    </tr>\n    <tr>\n      <th>2</th>\n      <td>Q15842</td>\n      <td>Q15842</td>\n      <td>E237K</td>\n      <td>done</td>\n      <td>interface</td>\n      <td>COSM430893</td>\n      <td>-</td>\n      <td>-</td>\n      <td>IRK</td>\n      <td>IRK</td>\n      <td>...</td>\n      <td>678.0</td>\n      <td>142.706</td>\n      <td>142.107</td>\n      <td>99.1151</td>\n      <td>99.1190</td>\n      <td>None</td>\n      <td>624.35</td>\n      <td>None</td>\n      <td>2.70474</td>\n      <td>3.18529</td>\n    </tr>\n  </tbody>\n</table>\n<p>3 rows × 103 columns</p>\n</div>"
     },
     "metadata": {},
     "output_type": "display_data"
    }
   ],
   "source": [
    "display_data(predator.data_materials[\"brca\"])"
   ],
   "metadata": {
    "collapsed": false,
    "pycharm": {
     "name": "#%%\n"
    }
   }
  },
  {
   "cell_type": "markdown",
   "id": "a22d630d-e0a0-4417-aa64-0df18f8f3a63",
   "metadata": {
    "tags": [],
    "pycharm": {
     "name": "#%% md\n"
    }
   },
   "source": [
    "#### Preprocessed TCGA Cancer Datasets"
   ]
  },
  {
   "cell_type": "markdown",
   "id": "ca038a01-2691-4943-9d7e-55a41661f3cc",
   "metadata": {
    "pycharm": {
     "name": "#%% md\n"
    }
   },
   "source": [
    "##### BRCA"
   ]
  },
  {
   "cell_type": "code",
   "execution_count": 6,
   "outputs": [
    {
     "name": "stdout",
     "output_type": "stream",
     "text": [
      "\u001B[36mData dimensions: (7739, 61)\u001B[0m\n"
     ]
    },
    {
     "data": {
      "text/plain": "  UniProt_ID Mutation Interactor_UniProt_ID  Template_sequence_identity  \\\n0     P28062    R216W                P40306                      0.2406   \n1     Q15842    E237K                Q14654                      0.4663   \n2     Q15842    E237K                P63252                      0.4663   \n\n   Alignment_score  Interactor_template_sequence_identity  \\\n0         0.246427                                 0.8858   \n1         0.441520                                 0.4623   \n2         0.441520                                 0.5380   \n\n   Interactor_alignment_score  Final_ddG  ProtBert_score  ProteinSolver_score  \\\n0                    0.823800   0.789252        0.441485             0.077736   \n1                    0.472829   2.112660        0.986541             0.235649   \n2                    0.535672   2.342750        0.990924             0.130527   \n\n   ...  number_of_residues_mut  IntraclashesEnergy1_wt  \\\n0  ...                   417.0                 156.750   \n1  ...                   684.0                 131.720   \n2  ...                   678.0                 142.706   \n\n   IntraclashesEnergy1_mut  IntraclashesEnergy2_wt  IntraclashesEnergy2_mut  \\\n0                  156.868                 49.1868                  49.1868   \n1                  131.479                129.5260                 129.5260   \n2                  142.107                 99.1151                  99.1190   \n\n   Interface_hydrophobic_area  Interface_hydrophilic_area  \\\n0                     566.065                     367.205   \n1                       0.000                       0.000   \n2                       0.000                     624.350   \n\n   Interface_total_area  Interface_contact_distance_wt  \\\n0                933.27                        5.37939   \n1                  0.00                        2.48410   \n2                  0.00                        2.70474   \n\n   Interface_contact_distance_mut  \n0                         3.28969  \n1                         2.92169  \n2                         3.18529  \n\n[3 rows x 61 columns]",
      "text/html": "<div>\n<style scoped>\n    .dataframe tbody tr th:only-of-type {\n        vertical-align: middle;\n    }\n\n    .dataframe tbody tr th {\n        vertical-align: top;\n    }\n\n    .dataframe thead th {\n        text-align: right;\n    }\n</style>\n<table border=\"1\" class=\"dataframe\">\n  <thead>\n    <tr style=\"text-align: right;\">\n      <th></th>\n      <th>UniProt_ID</th>\n      <th>Mutation</th>\n      <th>Interactor_UniProt_ID</th>\n      <th>Template_sequence_identity</th>\n      <th>Alignment_score</th>\n      <th>Interactor_template_sequence_identity</th>\n      <th>Interactor_alignment_score</th>\n      <th>Final_ddG</th>\n      <th>ProtBert_score</th>\n      <th>ProteinSolver_score</th>\n      <th>...</th>\n      <th>number_of_residues_mut</th>\n      <th>IntraclashesEnergy1_wt</th>\n      <th>IntraclashesEnergy1_mut</th>\n      <th>IntraclashesEnergy2_wt</th>\n      <th>IntraclashesEnergy2_mut</th>\n      <th>Interface_hydrophobic_area</th>\n      <th>Interface_hydrophilic_area</th>\n      <th>Interface_total_area</th>\n      <th>Interface_contact_distance_wt</th>\n      <th>Interface_contact_distance_mut</th>\n    </tr>\n  </thead>\n  <tbody>\n    <tr>\n      <th>0</th>\n      <td>P28062</td>\n      <td>R216W</td>\n      <td>P40306</td>\n      <td>0.2406</td>\n      <td>0.246427</td>\n      <td>0.8858</td>\n      <td>0.823800</td>\n      <td>0.789252</td>\n      <td>0.441485</td>\n      <td>0.077736</td>\n      <td>...</td>\n      <td>417.0</td>\n      <td>156.750</td>\n      <td>156.868</td>\n      <td>49.1868</td>\n      <td>49.1868</td>\n      <td>566.065</td>\n      <td>367.205</td>\n      <td>933.27</td>\n      <td>5.37939</td>\n      <td>3.28969</td>\n    </tr>\n    <tr>\n      <th>1</th>\n      <td>Q15842</td>\n      <td>E237K</td>\n      <td>Q14654</td>\n      <td>0.4663</td>\n      <td>0.441520</td>\n      <td>0.4623</td>\n      <td>0.472829</td>\n      <td>2.112660</td>\n      <td>0.986541</td>\n      <td>0.235649</td>\n      <td>...</td>\n      <td>684.0</td>\n      <td>131.720</td>\n      <td>131.479</td>\n      <td>129.5260</td>\n      <td>129.5260</td>\n      <td>0.000</td>\n      <td>0.000</td>\n      <td>0.00</td>\n      <td>2.48410</td>\n      <td>2.92169</td>\n    </tr>\n    <tr>\n      <th>2</th>\n      <td>Q15842</td>\n      <td>E237K</td>\n      <td>P63252</td>\n      <td>0.4663</td>\n      <td>0.441520</td>\n      <td>0.5380</td>\n      <td>0.535672</td>\n      <td>2.342750</td>\n      <td>0.990924</td>\n      <td>0.130527</td>\n      <td>...</td>\n      <td>678.0</td>\n      <td>142.706</td>\n      <td>142.107</td>\n      <td>99.1151</td>\n      <td>99.1190</td>\n      <td>0.000</td>\n      <td>624.350</td>\n      <td>0.00</td>\n      <td>2.70474</td>\n      <td>3.18529</td>\n    </tr>\n  </tbody>\n</table>\n<p>3 rows × 61 columns</p>\n</div>"
     },
     "metadata": {},
     "output_type": "display_data"
    }
   ],
   "source": [
    "display_data(predator.data_materials[\"target_brca_data\"])"
   ],
   "metadata": {
    "collapsed": false,
    "pycharm": {
     "name": "#%%\n"
    }
   }
  },
  {
   "cell_type": "markdown",
   "id": "6cd1cc76-b56f-4789-b3b9-bf907fe7399e",
   "metadata": {
    "tags": [],
    "pycharm": {
     "name": "#%% md\n"
    }
   },
   "source": [
    "### Voting mode: `soft`"
   ]
  },
  {
   "cell_type": "code",
   "execution_count": 7,
   "id": "44e95ef5-2482-4d0d-93fa-305004853f7c",
   "metadata": {
    "pycharm": {
     "name": "#%%\n"
    }
   },
   "outputs": [
    {
     "name": "stdout",
     "output_type": "stream",
     "text": [
      "2022-06-16 23:48:48 |\u001B[36m DEBUG    \u001B[0m| helpers.helpers_predator.data_materials | Initialize `brca` ..\n",
      "2022-06-16 23:48:48 |\u001B[36m DEBUG    \u001B[0m| helpers.helpers_predator.data_materials | Initialize `target_brca_data` ..\n",
      "2022-06-16 23:48:48 |\u001B[36m DEBUG    \u001B[0m| helpers.helpers_predator.data_materials | Initializing target data materials ..\n",
      "2022-06-16 23:48:48 |\u001B[36m DEBUG    \u001B[0m| helpers.helpers_predator.data_materials | Determined features: ['EL2_score', 'Provean_score', 'Final_ddG', 'Interactor_alignment_score', 'Matrix_score', 'Solvent_accessibility_wt', 'van_der_waals_mut', 'Solvent_accessibility_mut', 'Interactor_template_sequence_identity', 'solvation_polar_wt']\n",
      "2022-06-16 23:48:48 |\u001B[36m DEBUG    \u001B[0m| helpers.helpers_predator.data_materials | Declaring Xs_brca data materials  ..\n"
     ]
    }
   ],
   "source": [
    "predator.initialize_target_data_materials(\n",
    "    tcga_code_path_pairs=[('brca', BRCA_PATH)]\n",
    ")"
   ]
  },
  {
   "cell_type": "code",
   "execution_count": 8,
   "id": "323fbd63-7e32-471f-8cee-4b0abf9d82dc",
   "metadata": {
    "scrolled": true,
    "tags": [],
    "pycharm": {
     "name": "#%%\n"
    }
   },
   "outputs": [
    {
     "name": "stdout",
     "output_type": "stream",
     "text": [
      "2022-06-16 23:48:49 |\u001B[36m DEBUG    \u001B[0m| Predator | Predicting on cancer datasets ..\n",
      "2022-06-16 23:48:49 |\u001B[36m DEBUG    \u001B[0m| helpers.helpers_predator.models | Initializing EnsambledVotingClassifier.\n",
      "2022-06-16 23:48:49 |\u001B[36m DEBUG    \u001B[0m| helpers.helpers_predator.models | Voting mode: soft\n",
      "2022-06-16 23:48:49 |\u001B[36m DEBUG    \u001B[0m| helpers.helpers_predator.predictions | Initializing: PredictionsSoft\n",
      "2022-06-16 23:48:49 |\u001B[36m DEBUG    \u001B[0m| Predator | Predicting on brca cohort ..\n",
      "2022-06-16 23:48:49 |\u001B[36m DEBUG    \u001B[0m| helpers.helpers_predator.models | Current estimator: RandomForestClassifier(max_depth=7, min_samples_leaf=4, min_samples_split=5,\n",
      "                       n_estimators=380, random_state=3279)\n",
      "2022-06-16 23:48:49 |\u001B[36m DEBUG    \u001B[0m| helpers.helpers_predator.models | X shape: (7739, 10)\n",
      "2022-06-16 23:48:49 |\u001B[36m DEBUG    \u001B[0m| helpers.helpers_predator.models | Current estimator: RandomForestClassifier(class_weight='balanced', max_depth=2, min_samples_leaf=2,\n",
      "                       min_samples_split=5, n_estimators=90,\n",
      "                       random_state=97197)\n",
      "2022-06-16 23:48:49 |\u001B[36m DEBUG    \u001B[0m| helpers.helpers_predator.models | X shape: (7739, 10)\n",
      "2022-06-16 23:48:50 |\u001B[36m DEBUG    \u001B[0m| helpers.helpers_predator.models | Current estimator: RandomForestClassifier(bootstrap=False, class_weight='balanced', max_depth=5,\n",
      "                       min_samples_leaf=2, n_estimators=500,\n",
      "                       random_state=29257)\n",
      "2022-06-16 23:48:50 |\u001B[36m DEBUG    \u001B[0m| helpers.helpers_predator.models | X shape: (7739, 10)\n",
      "2022-06-16 23:48:50 |\u001B[36m DEBUG    \u001B[0m| helpers.helpers_predator.models | Current estimator: RandomForestClassifier(class_weight='balanced', max_depth=3, min_samples_leaf=4,\n",
      "                       min_samples_split=5, n_estimators=480,\n",
      "                       random_state=96531)\n",
      "2022-06-16 23:48:50 |\u001B[36m DEBUG    \u001B[0m| helpers.helpers_predator.models | X shape: (7739, 10)\n",
      "2022-06-16 23:48:50 |\u001B[36m DEBUG    \u001B[0m| helpers.helpers_predator.models | Current estimator: RandomForestClassifier(class_weight='balanced', max_depth=13,\n",
      "                       min_samples_leaf=2, min_samples_split=5, n_estimators=80,\n",
      "                       random_state=13435)\n",
      "2022-06-16 23:48:50 |\u001B[36m DEBUG    \u001B[0m| helpers.helpers_predator.models | X shape: (7739, 10)\n",
      "2022-06-16 23:48:50 |\u001B[36m DEBUG    \u001B[0m| helpers.helpers_predator.models | Current estimator: RandomForestClassifier(class_weight='balanced', max_depth=10,\n",
      "                       max_features='sqrt', min_samples_leaf=4,\n",
      "                       n_estimators=340, random_state=88697)\n",
      "2022-06-16 23:48:50 |\u001B[36m DEBUG    \u001B[0m| helpers.helpers_predator.models | X shape: (7739, 10)\n",
      "2022-06-16 23:48:51 |\u001B[36m DEBUG    \u001B[0m| helpers.helpers_predator.models | Current estimator: RandomForestClassifier(class_weight='balanced', max_depth=2,\n",
      "                       max_features='sqrt', min_samples_leaf=4, n_estimators=5,\n",
      "                       random_state=97081)\n",
      "2022-06-16 23:48:51 |\u001B[36m DEBUG    \u001B[0m| helpers.helpers_predator.models | X shape: (7739, 10)\n",
      "2022-06-16 23:48:51 |\u001B[36m DEBUG    \u001B[0m| helpers.helpers_predator.models | Current estimator: RandomForestClassifier(bootstrap=False, class_weight='balanced', max_depth=9,\n",
      "                       max_features='sqrt', min_samples_leaf=2, n_estimators=50,\n",
      "                       random_state=77398)\n",
      "2022-06-16 23:48:51 |\u001B[36m DEBUG    \u001B[0m| helpers.helpers_predator.models | X shape: (7739, 10)\n",
      "2022-06-16 23:48:51 |\u001B[36m DEBUG    \u001B[0m| helpers.helpers_predator.models | Current estimator: RandomForestClassifier(class_weight='balanced', max_depth=2, n_estimators=50,\n",
      "                       random_state=55303)\n",
      "2022-06-16 23:48:51 |\u001B[36m DEBUG    \u001B[0m| helpers.helpers_predator.models | X shape: (7739, 10)\n",
      "2022-06-16 23:48:51 |\u001B[36m DEBUG    \u001B[0m| helpers.helpers_predator.models | Current estimator: RandomForestClassifier(bootstrap=False, class_weight='balanced', max_depth=5,\n",
      "                       min_samples_leaf=2, n_estimators=200, random_state=4166)\n",
      "2022-06-16 23:48:51 |\u001B[36m DEBUG    \u001B[0m| helpers.helpers_predator.models | X shape: (7739, 10)\n",
      "2022-06-16 23:48:51 |\u001B[36m DEBUG    \u001B[0m| helpers.helpers_predator.models | Current estimator: RandomForestClassifier(min_samples_leaf=2, n_estimators=60, random_state=3906)\n",
      "2022-06-16 23:48:51 |\u001B[36m DEBUG    \u001B[0m| helpers.helpers_predator.models | X shape: (7739, 10)\n",
      "2022-06-16 23:48:51 |\u001B[36m DEBUG    \u001B[0m| helpers.helpers_predator.models | Current estimator: RandomForestClassifier(class_weight='balanced', max_depth=13, max_features=None,\n",
      "                       min_samples_leaf=2, min_samples_split=5,\n",
      "                       n_estimators=600, random_state=12281)\n",
      "2022-06-16 23:48:51 |\u001B[36m DEBUG    \u001B[0m| helpers.helpers_predator.models | X shape: (7739, 10)\n",
      "2022-06-16 23:48:51 |\u001B[36m DEBUG    \u001B[0m| helpers.helpers_predator.models | Current estimator: RandomForestClassifier(bootstrap=False, class_weight='balanced', max_depth=6,\n",
      "                       min_samples_leaf=2, n_estimators=90, random_state=28658)\n",
      "2022-06-16 23:48:51 |\u001B[36m DEBUG    \u001B[0m| helpers.helpers_predator.models | X shape: (7739, 10)\n",
      "2022-06-16 23:48:51 |\u001B[36m DEBUG    \u001B[0m| helpers.helpers_predator.models | Current estimator: RandomForestClassifier(class_weight='balanced', max_depth=6,\n",
      "                       max_features='sqrt', min_samples_leaf=2, n_estimators=10,\n",
      "                       random_state=30496)\n",
      "2022-06-16 23:48:51 |\u001B[36m DEBUG    \u001B[0m| helpers.helpers_predator.models | X shape: (7739, 10)\n",
      "2022-06-16 23:48:51 |\u001B[36m DEBUG    \u001B[0m| helpers.helpers_predator.models | Current estimator: RandomForestClassifier(bootstrap=False, class_weight='balanced', max_depth=13,\n",
      "                       max_features=None, n_estimators=360, random_state=78908)\n",
      "2022-06-16 23:48:51 |\u001B[36m DEBUG    \u001B[0m| helpers.helpers_predator.models | X shape: (7739, 10)\n",
      "2022-06-16 23:48:52 |\u001B[36m DEBUG    \u001B[0m| helpers.helpers_predator.models | Current estimator: RandomForestClassifier(class_weight='balanced', max_depth=3,\n",
      "                       max_features='sqrt', min_samples_split=5,\n",
      "                       n_estimators=10, random_state=3479)\n",
      "2022-06-16 23:48:52 |\u001B[36m DEBUG    \u001B[0m| helpers.helpers_predator.models | X shape: (7739, 10)\n",
      "2022-06-16 23:48:52 |\u001B[36m DEBUG    \u001B[0m| helpers.helpers_predator.models | Current estimator: RandomForestClassifier(class_weight='balanced', max_depth=11,\n",
      "                       max_features='sqrt', min_samples_leaf=4, n_estimators=80,\n",
      "                       random_state=73564)\n",
      "2022-06-16 23:48:52 |\u001B[36m DEBUG    \u001B[0m| helpers.helpers_predator.models | X shape: (7739, 10)\n",
      "2022-06-16 23:48:52 |\u001B[36m DEBUG    \u001B[0m| helpers.helpers_predator.models | Current estimator: RandomForestClassifier(class_weight='balanced', max_depth=10,\n",
      "                       min_samples_leaf=2, min_samples_split=5,\n",
      "                       n_estimators=300, random_state=26063)\n",
      "2022-06-16 23:48:52 |\u001B[36m DEBUG    \u001B[0m| helpers.helpers_predator.models | X shape: (7739, 10)\n",
      "2022-06-16 23:48:52 |\u001B[36m DEBUG    \u001B[0m| helpers.helpers_predator.models | Current estimator: RandomForestClassifier(class_weight='balanced', max_depth=14,\n",
      "                       min_samples_leaf=4, min_samples_split=5,\n",
      "                       n_estimators=440, random_state=85182)\n",
      "2022-06-16 23:48:52 |\u001B[36m DEBUG    \u001B[0m| helpers.helpers_predator.models | X shape: (7739, 10)\n",
      "2022-06-16 23:48:52 |\u001B[36m DEBUG    \u001B[0m| helpers.helpers_predator.models | Current estimator: RandomForestClassifier(bootstrap=False, class_weight='balanced', max_depth=5,\n",
      "                       min_samples_leaf=4, min_samples_split=5,\n",
      "                       n_estimators=200, random_state=91925)\n",
      "2022-06-16 23:48:52 |\u001B[36m DEBUG    \u001B[0m| helpers.helpers_predator.models | X shape: (7739, 10)\n",
      "2022-06-16 23:48:52 |\u001B[36m DEBUG    \u001B[0m| helpers.helpers_predator.models | Current estimator: RandomForestClassifier(max_depth=7, max_features='sqrt', min_samples_split=5,\n",
      "                       n_estimators=40, random_state=71427)\n",
      "2022-06-16 23:48:52 |\u001B[36m DEBUG    \u001B[0m| helpers.helpers_predator.models | X shape: (7739, 10)\n",
      "2022-06-16 23:48:52 |\u001B[36m DEBUG    \u001B[0m| helpers.helpers_predator.models | Current estimator: RandomForestClassifier(bootstrap=False, max_features='sqrt', n_estimators=10,\n",
      "                       random_state=28894)\n",
      "2022-06-16 23:48:52 |\u001B[36m DEBUG    \u001B[0m| helpers.helpers_predator.models | X shape: (7739, 10)\n",
      "2022-06-16 23:48:52 |\u001B[36m DEBUG    \u001B[0m| helpers.helpers_predator.models | Current estimator: RandomForestClassifier(class_weight='balanced', max_depth=8,\n",
      "                       max_features='sqrt', min_samples_leaf=2,\n",
      "                       min_samples_split=5, n_estimators=600,\n",
      "                       random_state=58879)\n",
      "2022-06-16 23:48:52 |\u001B[36m DEBUG    \u001B[0m| helpers.helpers_predator.models | X shape: (7739, 10)\n",
      "2022-06-16 23:48:53 |\u001B[36m DEBUG    \u001B[0m| helpers.helpers_predator.models | Current estimator: RandomForestClassifier(class_weight='balanced', max_depth=2,\n",
      "                       max_features='sqrt', min_samples_split=5,\n",
      "                       n_estimators=340, random_state=77237)\n",
      "2022-06-16 23:48:53 |\u001B[36m DEBUG    \u001B[0m| helpers.helpers_predator.models | X shape: (7739, 10)\n",
      "2022-06-16 23:48:53 |\u001B[36m DEBUG    \u001B[0m| helpers.helpers_predator.models | Current estimator: RandomForestClassifier(bootstrap=False, max_depth=3, min_samples_leaf=4,\n",
      "                       min_samples_split=5, n_estimators=500, random_state=852)\n",
      "2022-06-16 23:48:53 |\u001B[36m DEBUG    \u001B[0m| helpers.helpers_predator.models | X shape: (7739, 10)\n",
      "2022-06-16 23:48:53 |\u001B[36m DEBUG    \u001B[0m| helpers.helpers_predator.models | Current estimator: RandomForestClassifier(class_weight='balanced', max_depth=3,\n",
      "                       max_features='sqrt', min_samples_leaf=4,\n",
      "                       min_samples_split=5, n_estimators=420,\n",
      "                       random_state=99459)\n",
      "2022-06-16 23:48:53 |\u001B[36m DEBUG    \u001B[0m| helpers.helpers_predator.models | X shape: (7739, 10)\n",
      "2022-06-16 23:48:54 |\u001B[36m DEBUG    \u001B[0m| helpers.helpers_predator.models | Current estimator: RandomForestClassifier(class_weight='balanced', max_depth=14,\n",
      "                       max_features='sqrt', min_samples_leaf=2,\n",
      "                       n_estimators=360, random_state=20927)\n",
      "2022-06-16 23:48:54 |\u001B[36m DEBUG    \u001B[0m| helpers.helpers_predator.models | X shape: (7739, 10)\n",
      "2022-06-16 23:48:54 |\u001B[36m DEBUG    \u001B[0m| helpers.helpers_predator.models | Current estimator: RandomForestClassifier(max_depth=8, min_samples_leaf=2, min_samples_split=5,\n",
      "                       n_estimators=180, random_state=91507)\n",
      "2022-06-16 23:48:54 |\u001B[36m DEBUG    \u001B[0m| helpers.helpers_predator.models | X shape: (7739, 10)\n",
      "2022-06-16 23:48:54 |\u001B[36m DEBUG    \u001B[0m| helpers.helpers_predator.models | Current estimator: RandomForestClassifier(bootstrap=False, class_weight='balanced', max_depth=12,\n",
      "                       max_features=None, min_samples_leaf=2, n_estimators=280,\n",
      "                       random_state=44598)\n",
      "2022-06-16 23:48:54 |\u001B[36m DEBUG    \u001B[0m| helpers.helpers_predator.models | X shape: (7739, 10)\n",
      "2022-06-16 23:48:54 |\u001B[36m DEBUG    \u001B[0m| helpers.helpers_predator.models | Current estimator: RandomForestClassifier(class_weight='balanced', max_depth=10, max_features=None,\n",
      "                       n_estimators=20, random_state=36422)\n",
      "2022-06-16 23:48:54 |\u001B[36m DEBUG    \u001B[0m| helpers.helpers_predator.models | X shape: (7739, 10)\n",
      "2022-06-16 23:48:54 |\u001B[36m DEBUG    \u001B[0m| helpers.helpers_predator.models | Current estimator: RandomForestClassifier(bootstrap=False, class_weight='balanced', max_depth=14,\n",
      "                       min_samples_split=5, n_estimators=340,\n",
      "                       random_state=20380)\n",
      "2022-06-16 23:48:54 |\u001B[36m DEBUG    \u001B[0m| helpers.helpers_predator.models | X shape: (7739, 10)\n",
      "2022-06-16 23:48:54 |\u001B[36m DEBUG    \u001B[0m| helpers.helpers_predator.models | Current estimator: RandomForestClassifier(class_weight='balanced', min_samples_leaf=4,\n",
      "                       min_samples_split=5, n_estimators=20,\n",
      "                       random_state=28222)\n",
      "2022-06-16 23:48:54 |\u001B[36m DEBUG    \u001B[0m| helpers.helpers_predator.models | X shape: (7739, 10)\n",
      "2022-06-16 23:48:54 |\u001B[36m DEBUG    \u001B[0m| helpers.helpers_predator.models | Current estimator: RandomForestClassifier(class_weight='balanced', max_depth=13,\n",
      "                       max_features='sqrt', min_samples_leaf=2,\n",
      "                       n_estimators=360, random_state=44119)\n",
      "2022-06-16 23:48:54 |\u001B[36m DEBUG    \u001B[0m| helpers.helpers_predator.models | X shape: (7739, 10)\n",
      "2022-06-16 23:48:55 |\u001B[36m DEBUG    \u001B[0m| helpers.helpers_predator.models | Current estimator: RandomForestClassifier(max_depth=10, max_features='sqrt', n_estimators=340,\n",
      "                       random_state=13397)\n",
      "2022-06-16 23:48:55 |\u001B[36m DEBUG    \u001B[0m| helpers.helpers_predator.models | X shape: (7739, 10)\n",
      "2022-06-16 23:48:55 |\u001B[36m DEBUG    \u001B[0m| helpers.helpers_predator.models | Current estimator: RandomForestClassifier(class_weight='balanced', max_depth=9, max_features=None,\n",
      "                       min_samples_leaf=2, n_estimators=200,\n",
      "                       random_state=12157)\n",
      "2022-06-16 23:48:55 |\u001B[36m DEBUG    \u001B[0m| helpers.helpers_predator.models | X shape: (7739, 10)\n",
      "2022-06-16 23:48:55 |\u001B[36m DEBUG    \u001B[0m| helpers.helpers_predator.models | Current estimator: RandomForestClassifier(bootstrap=False, max_depth=12, max_features=None,\n",
      "                       min_samples_leaf=4, min_samples_split=5, n_estimators=40,\n",
      "                       random_state=49798)\n",
      "2022-06-16 23:48:55 |\u001B[36m DEBUG    \u001B[0m| helpers.helpers_predator.models | X shape: (7739, 10)\n",
      "2022-06-16 23:48:55 |\u001B[36m DEBUG    \u001B[0m| helpers.helpers_predator.models | Current estimator: RandomForestClassifier(class_weight='balanced', max_depth=5, min_samples_leaf=4,\n",
      "                       n_estimators=40, random_state=12677)\n",
      "2022-06-16 23:48:55 |\u001B[36m DEBUG    \u001B[0m| helpers.helpers_predator.models | X shape: (7739, 10)\n",
      "2022-06-16 23:48:55 |\u001B[36m DEBUG    \u001B[0m| helpers.helpers_predator.models | Current estimator: RandomForestClassifier(class_weight='balanced', max_depth=6, min_samples_leaf=4,\n",
      "                       min_samples_split=5, n_estimators=420,\n",
      "                       random_state=47053)\n",
      "2022-06-16 23:48:55 |\u001B[36m DEBUG    \u001B[0m| helpers.helpers_predator.models | X shape: (7739, 10)\n",
      "2022-06-16 23:48:55 |\u001B[36m DEBUG    \u001B[0m| helpers.helpers_predator.predictions | PredictionsSoft\n",
      "2022-06-16 23:48:55 |\u001B[36m DEBUG    \u001B[0m| helpers.helpers_predator.predictions | Predicting probabilities on brca cohort ..\n",
      "2022-06-16 23:48:55 |\u001B[36m DEBUG    \u001B[0m| helpers.helpers_predator.predictions | Adding key `brca_prob` to self.predictions\n"
     ]
    }
   ],
   "source": [
    "predator.predict(voting='soft')"
   ]
  },
  {
   "cell_type": "code",
   "execution_count": 10,
   "id": "341a1a27-928b-47ae-9d45-69ec13771b81",
   "metadata": {
    "pycharm": {
     "name": "#%%\n"
    }
   },
   "outputs": [
    {
     "data": {
      "text/plain": "dict_keys(['brca_prob'])"
     },
     "execution_count": 10,
     "metadata": {},
     "output_type": "execute_result"
    }
   ],
   "source": [
    "predator.predictions.keys()"
   ]
  },
  {
   "cell_type": "code",
   "execution_count": 11,
   "outputs": [
    {
     "data": {
      "text/plain": "[array([[0.56921656, 0.43078344],\n        [0.48701068, 0.51298932],\n        [0.42720256, 0.57279744],\n        ...,\n        [0.22356499, 0.77643501],\n        [0.30428615, 0.69571385],\n        [0.5646724 , 0.4353276 ]]),\n array([[0.55699941, 0.44300059],\n        [0.51957208, 0.48042792],\n        [0.50828327, 0.49171673],\n        ...,\n        [0.47296087, 0.52703913],\n        [0.46396142, 0.53603858],\n        [0.60691076, 0.39308924]]),\n array([[0.71307607, 0.28692393],\n        [0.39149025, 0.60850975],\n        [0.34500591, 0.65499409],\n        ...,\n        [0.39701242, 0.60298758],\n        [0.37905016, 0.62094984],\n        [0.45422164, 0.54577836]])]"
     },
     "execution_count": 11,
     "metadata": {},
     "output_type": "execute_result"
    }
   ],
   "source": [
    "# Predictions for first 10 experiment.\n",
    "predator.predictions[\"brca_prob\"][:3]"
   ],
   "metadata": {
    "collapsed": false,
    "pycharm": {
     "name": "#%%\n"
    }
   }
  },
  {
   "cell_type": "markdown",
   "id": "83e49c0d-9f61-4f48-a23d-8a21e9875041",
   "metadata": {
    "pycharm": {
     "name": "#%% md\n"
    }
   },
   "source": [
    "#### Predictions Post Processing"
   ]
  },
  {
   "cell_type": "markdown",
   "id": "3d18567f-1748-4446-bb12-8062515f02bd",
   "metadata": {
    "pycharm": {
     "name": "#%% md\n"
    }
   },
   "source": [
    "Post processing of predictions involves following steps:"
   ]
  },
  {
   "cell_type": "markdown",
   "id": "45aad6d0-0e73-413e-8b32-fbcb2bcc5426",
   "metadata": {
    "pycharm": {
     "name": "#%% md\n"
    }
   },
   "source": [
    "##### 1. Merging Predictions with SNV Data"
   ]
  },
  {
   "cell_type": "markdown",
   "id": "ba9bda7c-5736-4c44-8663-ec63927976db",
   "metadata": {
    "pycharm": {
     "name": "#%% md\n"
    }
   },
   "source": [
    "The prediction column is merged with SNV data for each experiment.\n",
    "\n",
    "$\\text{For each experiment } n: $\n",
    "\n",
    "$$\n",
    "  \\textit{(Prediction Merged Data)}_n = \\underbrace{[\\textit{Predictions}_n]}_\\text{Probs Percentages} + \n",
    "      \\underbrace{[\\textit{Protein }] [\\textit{Mutation }] [\\textit{Interactor }]}_\\text{Cancer Data Triplets} + \\underbrace{[\\textit{Features }] }_\\text{Elaspic}\n",
    "$$\n"
   ]
  },
  {
   "cell_type": "markdown",
   "id": "8b14c7d7-914f-40af-b695-b962c33ed9ee",
   "metadata": {
    "tags": [],
    "pycharm": {
     "name": "#%% md\n"
    }
   },
   "source": [
    "##### 2. Convert to 1-isomer: `Interactor_UniProt_ID`"
   ]
  },
  {
   "cell_type": "markdown",
   "id": "36c9284b-0d5d-4c41-b2d9-7274d9141f6a",
   "metadata": {
    "pycharm": {
     "name": "#%% md\n"
    }
   },
   "source": [
    "$\\textit{Interactor_UniProt_ID}$ column contains isomer proteins. Here, we convert them into primary isoform representation (i.e. without dashes)."
   ]
  },
  {
   "cell_type": "markdown",
   "id": "2314ef86-e11b-43ce-a9ee-8d3d39420d3d",
   "metadata": {
    "pycharm": {
     "name": "#%% md\n"
    }
   },
   "source": [
    "| Interactor_UniProt_ID |\n",
    "--------------\n",
    "| P38936     |\n",
    "| P16473     |\n",
    "| P16473-2   |\n",
    "| P19793     |"
   ]
  },
  {
   "cell_type": "markdown",
   "id": "ac37c712-d832-4450-8852-a9df5712c194",
   "metadata": {
    "pycharm": {
     "name": "#%% md\n"
    }
   },
   "source": [
    "##### 3. Dropping Invalid Predictions"
   ]
  },
  {
   "cell_type": "markdown",
   "id": "43293304-9ddf-4e94-b624-8ce6c9034fe1",
   "metadata": {
    "pycharm": {
     "name": "#%% md\n"
    }
   },
   "source": [
    "Entries whose predicted class-1 probability lies in both `Decreasing` and `Increasing+NoEff` are dropped."
   ]
  },
  {
   "cell_type": "markdown",
   "id": "0d57de49-9962-47a8-8a2d-96a42df2295a",
   "metadata": {
    "pycharm": {
     "name": "#%% md\n"
    }
   },
   "source": [
    "Due to having different features for the same $\\textit{(protein, mutation, interactor)}$ triplet from ELASPIC, the triplet $\\textit{(protein, mutation, interactor)}$ may contain class-1 probability prediction of both lower than 0.50 and higher than 50. We drop such instances."
   ]
  },
  {
   "cell_type": "code",
   "execution_count": null,
   "outputs": [
    {
     "name": "stdout",
     "output_type": "stream",
     "text": [
      "2022-06-16 23:49:29 |\u001B[36m DEBUG    \u001B[0m| helpers.helpers_predator.predictions | PredictionsSoft\n",
      "2022-06-16 23:49:29 |\u001B[36m DEBUG    \u001B[0m| helpers.helpers_predator.predictions | Post processing predictions for cohort brca ..\n",
      "2022-06-16 23:49:29 |\u001B[36m DEBUG    \u001B[0m| helpers.helpers_predator.predictions | PredictionsSoft\n",
      "2022-06-16 23:49:29 |\u001B[36m DEBUG    \u001B[0m| helpers.helpers_predator.predictions | Merging predictions with brca cancer dataset ..\n",
      "2022-06-16 23:49:30 |\u001B[36m DEBUG    \u001B[0m| helpers.helpers_predator.predictions | Handling valid and invalid entries ..\n"
     ]
    },
    {
     "data": {
      "text/plain": "  0%|          | 0/38 [00:00<?, ?it/s]",
      "application/vnd.jupyter.widget-view+json": {
       "version_major": 2,
       "version_minor": 0,
       "model_id": "cbd3059b11b64fe4879c56e11af28099"
      }
     },
     "metadata": {},
     "output_type": "display_data"
    },
    {
     "name": "stdout",
     "output_type": "stream",
     "text": [
      "2022-06-16 23:49:55 |\u001B[36m DEBUG    \u001B[0m| helpers.helpers_predator.predictions_utils | Removed entries first five rows (of 958): \n",
      "   PREDICTION PROTEIN MUTATION INTERACTOR\n",
      "0    0.496308  Q9UKS6     R24H     Q9UNF0\n",
      "1    0.639737  Q9UKS6     R24H     Q9UNF0\n",
      "2    0.456049  Q9UL54    V301M     P46734\n",
      "3    0.456049  Q9UL54    V301M     P46734\n",
      "4    0.586027  Q9UL54    V301M     P46734\n",
      "2022-06-16 23:50:21 |\u001B[36m DEBUG    \u001B[0m| helpers.helpers_predator.predictions_utils | Removed entries first five rows (of 793): \n",
      "   PREDICTION PROTEIN MUTATION INTERACTOR\n",
      "0    0.447326  Q9UKS6     R24H     Q9UNF0\n",
      "1    0.523560  Q9UKS6     R24H     Q9UNF0\n",
      "2    0.468492  Q9Y616    F419L     Q16288\n",
      "3    0.641386  Q9Y616    F419L     Q16288\n",
      "4    0.527046  P04637    R280K     Q13625\n",
      "2022-06-16 23:50:47 |\u001B[36m DEBUG    \u001B[0m| helpers.helpers_predator.predictions_utils | Removed entries first five rows (of 1085): \n",
      "   PREDICTION PROTEIN MUTATION INTERACTOR\n",
      "0    0.517861  P04637    R280K     Q13625\n",
      "1    0.237551  P04637    R280K     Q13625\n",
      "2    0.237551  P04637    R280K     Q13625\n",
      "3    0.437268  Q14469     R46Q     Q96HZ4\n",
      "4    0.642114  Q14469     R46Q     Q96HZ4\n"
     ]
    }
   ],
   "source": [
    "predator.predictions_post_process()"
   ],
   "metadata": {
    "collapsed": false,
    "pycharm": {
     "name": "#%%\n",
     "is_executing": true
    }
   }
  },
  {
   "cell_type": "code",
   "execution_count": 13,
   "id": "90683791-df42-47a8-ae9d-6c6ba08bcafd",
   "metadata": {
    "pycharm": {
     "name": "#%%\n"
    }
   },
   "outputs": [
    {
     "data": {
      "text/plain": "dict_keys(['brca_prob', 'brca_predicted_probs_datasets', 'brca_predicted_valid_datasets', 'brca_predicted_invalid_datasets', 'brca_finalized_prediction_dataframes'])"
     },
     "execution_count": 13,
     "metadata": {},
     "output_type": "execute_result"
    }
   ],
   "source": [
    "predator.predictions.keys()"
   ]
  },
  {
   "cell_type": "code",
   "execution_count": 14,
   "outputs": [
    {
     "name": "stdout",
     "output_type": "stream",
     "text": [
      "\u001B[36mData dimensions: (7739, 104)\u001B[0m\n"
     ]
    },
    {
     "data": {
      "text/plain": "   Prediction Input_identifier UniProt_ID Mutation Status       Type  \\\n0    0.430783           P28062     P28062    R216W   done  interface   \n1    0.512989           Q15842     Q15842    E237K   done  interface   \n2    0.572797           Q15842     Q15842    E237K   done  interface   \n\n  COSMIC_mut_ID ClinVar_mut_ID UniProt_mut_ID Domain_name  ...  \\\n0    COSM451277              -              -  Proteasome  ...   \n1    COSM430893              -              -         IRK  ...   \n2    COSM430893              -              -         IRK  ...   \n\n  number_of_residues_mut IntraclashesEnergy1_wt IntraclashesEnergy1_mut  \\\n0                  417.0                156.750                 156.868   \n1                  684.0                131.720                 131.479   \n2                  678.0                142.706                 142.107   \n\n   IntraclashesEnergy2_wt  IntraclashesEnergy2_mut Interface_hydrophobic_area  \\\n0                 49.1868                  49.1868                    566.065   \n1                129.5260                 129.5260                       None   \n2                 99.1151                  99.1190                       None   \n\n  Interface_hydrophilic_area Interface_total_area  \\\n0                    367.205               933.27   \n1                       None                 None   \n2                     624.35                 None   \n\n  Interface_contact_distance_wt Interface_contact_distance_mut  \n0                       5.37939                        3.28969  \n1                       2.48410                        2.92169  \n2                       2.70474                        3.18529  \n\n[3 rows x 104 columns]",
      "text/html": "<div>\n<style scoped>\n    .dataframe tbody tr th:only-of-type {\n        vertical-align: middle;\n    }\n\n    .dataframe tbody tr th {\n        vertical-align: top;\n    }\n\n    .dataframe thead th {\n        text-align: right;\n    }\n</style>\n<table border=\"1\" class=\"dataframe\">\n  <thead>\n    <tr style=\"text-align: right;\">\n      <th></th>\n      <th>Prediction</th>\n      <th>Input_identifier</th>\n      <th>UniProt_ID</th>\n      <th>Mutation</th>\n      <th>Status</th>\n      <th>Type</th>\n      <th>COSMIC_mut_ID</th>\n      <th>ClinVar_mut_ID</th>\n      <th>UniProt_mut_ID</th>\n      <th>Domain_name</th>\n      <th>...</th>\n      <th>number_of_residues_mut</th>\n      <th>IntraclashesEnergy1_wt</th>\n      <th>IntraclashesEnergy1_mut</th>\n      <th>IntraclashesEnergy2_wt</th>\n      <th>IntraclashesEnergy2_mut</th>\n      <th>Interface_hydrophobic_area</th>\n      <th>Interface_hydrophilic_area</th>\n      <th>Interface_total_area</th>\n      <th>Interface_contact_distance_wt</th>\n      <th>Interface_contact_distance_mut</th>\n    </tr>\n  </thead>\n  <tbody>\n    <tr>\n      <th>0</th>\n      <td>0.430783</td>\n      <td>P28062</td>\n      <td>P28062</td>\n      <td>R216W</td>\n      <td>done</td>\n      <td>interface</td>\n      <td>COSM451277</td>\n      <td>-</td>\n      <td>-</td>\n      <td>Proteasome</td>\n      <td>...</td>\n      <td>417.0</td>\n      <td>156.750</td>\n      <td>156.868</td>\n      <td>49.1868</td>\n      <td>49.1868</td>\n      <td>566.065</td>\n      <td>367.205</td>\n      <td>933.27</td>\n      <td>5.37939</td>\n      <td>3.28969</td>\n    </tr>\n    <tr>\n      <th>1</th>\n      <td>0.512989</td>\n      <td>Q15842</td>\n      <td>Q15842</td>\n      <td>E237K</td>\n      <td>done</td>\n      <td>interface</td>\n      <td>COSM430893</td>\n      <td>-</td>\n      <td>-</td>\n      <td>IRK</td>\n      <td>...</td>\n      <td>684.0</td>\n      <td>131.720</td>\n      <td>131.479</td>\n      <td>129.5260</td>\n      <td>129.5260</td>\n      <td>None</td>\n      <td>None</td>\n      <td>None</td>\n      <td>2.48410</td>\n      <td>2.92169</td>\n    </tr>\n    <tr>\n      <th>2</th>\n      <td>0.572797</td>\n      <td>Q15842</td>\n      <td>Q15842</td>\n      <td>E237K</td>\n      <td>done</td>\n      <td>interface</td>\n      <td>COSM430893</td>\n      <td>-</td>\n      <td>-</td>\n      <td>IRK</td>\n      <td>...</td>\n      <td>678.0</td>\n      <td>142.706</td>\n      <td>142.107</td>\n      <td>99.1151</td>\n      <td>99.1190</td>\n      <td>None</td>\n      <td>624.35</td>\n      <td>None</td>\n      <td>2.70474</td>\n      <td>3.18529</td>\n    </tr>\n  </tbody>\n</table>\n<p>3 rows × 104 columns</p>\n</div>"
     },
     "metadata": {},
     "output_type": "display_data"
    }
   ],
   "source": [
    "display_data(predator.predictions[\"brca_predicted_probs_datasets\"][0])"
   ],
   "metadata": {
    "collapsed": false,
    "pycharm": {
     "name": "#%%\n"
    }
   }
  },
  {
   "cell_type": "code",
   "execution_count": 15,
   "outputs": [
    {
     "data": {
      "text/plain": "<Figure size 1080x360 with 1 Axes>",
      "image/png": "[encoded data removed]"
     },
     "metadata": {
      "needs_background": "light"
     },
     "output_type": "display_data"
    }
   ],
   "source": [
    "predator.predictions.plot_distribution_valid_vs_invalid(\"brca\")"
   ],
   "metadata": {
    "collapsed": false,
    "pycharm": {
     "name": "#%%\n"
    }
   }
  },
  {
   "cell_type": "code",
   "execution_count": 16,
   "id": "77147287-c7ce-4771-b0ed-e45479644ccb",
   "metadata": {
    "pycharm": {
     "name": "#%%\n"
    }
   },
   "outputs": [
    {
     "name": "stdout",
     "output_type": "stream",
     "text": [
      "2022-06-17 00:07:01 |\u001B[36m DEBUG    \u001B[0m| helpers.helpers_predator.predictions | Plotting number of finalized predictions per model.\n",
      "Note that following plot shows the number of (protein, mutation, interactor) triplets which had valid prediction.\n"
     ]
    },
    {
     "data": {
      "text/plain": "<Figure size 1080x360 with 1 Axes>",
      "image/png": "[encoded data removed]"
     },
     "metadata": {
      "needs_background": "light"
     },
     "output_type": "display_data"
    }
   ],
   "source": [
    "predator.predictions.plot_num_finalized_predictions(\"brca\")"
   ]
  },
  {
   "cell_type": "code",
   "execution_count": 18,
   "outputs": [
    {
     "name": "stdout",
     "output_type": "stream",
     "text": [
      "\u001B[36mData dimensions: (5478, 4)\u001B[0m\n"
     ]
    },
    {
     "data": {
      "text/plain": "   Prediction UniProt_ID Mutation Interactor_UniProt_ID\n0    0.430783     P28062    R216W                P40306\n1    0.512989     Q15842    E237K                Q14654\n2    0.572797     Q15842    E237K                P63252",
      "text/html": "<div>\n<style scoped>\n    .dataframe tbody tr th:only-of-type {\n        vertical-align: middle;\n    }\n\n    .dataframe tbody tr th {\n        vertical-align: top;\n    }\n\n    .dataframe thead th {\n        text-align: right;\n    }\n</style>\n<table border=\"1\" class=\"dataframe\">\n  <thead>\n    <tr style=\"text-align: right;\">\n      <th></th>\n      <th>Prediction</th>\n      <th>UniProt_ID</th>\n      <th>Mutation</th>\n      <th>Interactor_UniProt_ID</th>\n    </tr>\n  </thead>\n  <tbody>\n    <tr>\n      <th>0</th>\n      <td>0.430783</td>\n      <td>P28062</td>\n      <td>R216W</td>\n      <td>P40306</td>\n    </tr>\n    <tr>\n      <th>1</th>\n      <td>0.512989</td>\n      <td>Q15842</td>\n      <td>E237K</td>\n      <td>Q14654</td>\n    </tr>\n    <tr>\n      <th>2</th>\n      <td>0.572797</td>\n      <td>Q15842</td>\n      <td>E237K</td>\n      <td>P63252</td>\n    </tr>\n  </tbody>\n</table>\n</div>"
     },
     "metadata": {},
     "output_type": "display_data"
    }
   ],
   "source": [
    "display_data(predator.predictions['brca_finalized_prediction_dataframes'][0])"
   ],
   "metadata": {
    "collapsed": false,
    "pycharm": {
     "name": "#%%\n"
    }
   }
  },
  {
   "cell_type": "code",
   "execution_count": 19,
   "id": "7fab8dc7-62ea-4cba-bdfa-0a8187a53a27",
   "metadata": {
    "scrolled": true,
    "tags": [],
    "pycharm": {
     "name": "#%%\n"
    }
   },
   "outputs": [
    {
     "name": "stdout",
     "output_type": "stream",
     "text": [
      "2022-06-17 00:09:42 |\u001B[32m INFO     \u001B[0m| helpers.helpers_predator.predictions | PredictionsSoft\n",
      "2022-06-17 00:09:42 |\u001B[32m INFO     \u001B[0m| helpers.helpers_predator.predictions | Preparing ensemble prediction data for brca taking median ..\n"
     ]
    },
    {
     "data": {
      "text/plain": "  0%|          | 0/38 [00:00<?, ?it/s]",
      "application/vnd.jupyter.widget-view+json": {
       "version_major": 2,
       "version_minor": 0,
       "model_id": "7f4f03573e0a4456997654e8ab6b0680"
      }
     },
     "metadata": {},
     "output_type": "display_data"
    },
    {
     "name": "stdout",
     "output_type": "stream",
     "text": [
      "2022-06-17 00:16:21 |\u001B[36m DEBUG    \u001B[0m| helpers.helpers_predator.predictions | Prediction probabilities data for brca is prepared.\n",
      "Accessible from `brca_predictions_prob_data`.\n",
      "2022-06-17 00:16:21 |\u001B[36m DEBUG    \u001B[0m| helpers.helpers_predator.predictions | Ensemble prediction data for brca is prepared.\n",
      "Accessible from `brca_ensemble_prediction_data`.\n",
      "2022-06-17 00:16:21 |\u001B[36m DEBUG    \u001B[0m| helpers.helpers_predator.predictions | Resulting prediction data is available for brca.\n",
      "Accessible from predictions.['brca_prediction_results']\n",
      "2022-06-17 00:16:21 |\u001B[36m DEBUG    \u001B[0m| helpers.helpers_predator.predictions | Resulting prediction data (no_votes dropped) is available for brca.\n",
      "Accessible from predictions.['brca_prediction_results_no_votes_dropped']\n"
     ]
    }
   ],
   "source": [
    "predator.prepare_ensemble_prediction_data()"
   ]
  },
  {
   "cell_type": "code",
   "execution_count": 20,
   "outputs": [
    {
     "name": "stdout",
     "output_type": "stream",
     "text": [
      "\u001B[36mData dimensions: (4137, 40)\u001B[0m\n"
     ]
    },
    {
     "data": {
      "text/plain": "    Trial 0   Trial 1   Trial 2   Trial 3   Trial 4   Trial 5   Trial 6  \\\n0  0.430783  0.443001  0.286924  0.405998  0.284554  0.558161  0.498973   \n1  0.512989  0.480428   0.60851  0.476174  0.409859  0.611537  0.214006   \n2  0.572797  0.491717  0.654994  0.545428  0.460182  0.659721  0.214006   \n\n    Trial 7   Trial 8   Trial 9  ...  Trial 30  Trial 31  Trial 32  Trial 33  \\\n0  0.314641  0.463931   0.21614  ...  0.227378  0.186754   0.39327  0.505561   \n1  0.639077  0.472304  0.643183  ...  0.710501  0.349365  0.609108  0.515441   \n2  0.659077  0.501264  0.664389  ...  0.722456  0.335987  0.625262    0.5625   \n\n   Trial 34  Trial 35  Trial 36  Trial 37 PROB_1s_AVG VOTED_PREDICTION  \n0  0.377275  0.285714  0.527853  0.370047     0.40648                0  \n1  0.602519   0.94375  0.523123  0.431175     0.52114                1  \n2  0.613796   0.94375  0.548228  0.453255     0.57654                1  \n\n[3 rows x 40 columns]",
      "text/html": "<div>\n<style scoped>\n    .dataframe tbody tr th:only-of-type {\n        vertical-align: middle;\n    }\n\n    .dataframe tbody tr th {\n        vertical-align: top;\n    }\n\n    .dataframe thead th {\n        text-align: right;\n    }\n</style>\n<table border=\"1\" class=\"dataframe\">\n  <thead>\n    <tr style=\"text-align: right;\">\n      <th></th>\n      <th>Trial 0</th>\n      <th>Trial 1</th>\n      <th>Trial 2</th>\n      <th>Trial 3</th>\n      <th>Trial 4</th>\n      <th>Trial 5</th>\n      <th>Trial 6</th>\n      <th>Trial 7</th>\n      <th>Trial 8</th>\n      <th>Trial 9</th>\n      <th>...</th>\n      <th>Trial 30</th>\n      <th>Trial 31</th>\n      <th>Trial 32</th>\n      <th>Trial 33</th>\n      <th>Trial 34</th>\n      <th>Trial 35</th>\n      <th>Trial 36</th>\n      <th>Trial 37</th>\n      <th>PROB_1s_AVG</th>\n      <th>VOTED_PREDICTION</th>\n    </tr>\n  </thead>\n  <tbody>\n    <tr>\n      <th>0</th>\n      <td>0.430783</td>\n      <td>0.443001</td>\n      <td>0.286924</td>\n      <td>0.405998</td>\n      <td>0.284554</td>\n      <td>0.558161</td>\n      <td>0.498973</td>\n      <td>0.314641</td>\n      <td>0.463931</td>\n      <td>0.21614</td>\n      <td>...</td>\n      <td>0.227378</td>\n      <td>0.186754</td>\n      <td>0.39327</td>\n      <td>0.505561</td>\n      <td>0.377275</td>\n      <td>0.285714</td>\n      <td>0.527853</td>\n      <td>0.370047</td>\n      <td>0.40648</td>\n      <td>0</td>\n    </tr>\n    <tr>\n      <th>1</th>\n      <td>0.512989</td>\n      <td>0.480428</td>\n      <td>0.60851</td>\n      <td>0.476174</td>\n      <td>0.409859</td>\n      <td>0.611537</td>\n      <td>0.214006</td>\n      <td>0.639077</td>\n      <td>0.472304</td>\n      <td>0.643183</td>\n      <td>...</td>\n      <td>0.710501</td>\n      <td>0.349365</td>\n      <td>0.609108</td>\n      <td>0.515441</td>\n      <td>0.602519</td>\n      <td>0.94375</td>\n      <td>0.523123</td>\n      <td>0.431175</td>\n      <td>0.52114</td>\n      <td>1</td>\n    </tr>\n    <tr>\n      <th>2</th>\n      <td>0.572797</td>\n      <td>0.491717</td>\n      <td>0.654994</td>\n      <td>0.545428</td>\n      <td>0.460182</td>\n      <td>0.659721</td>\n      <td>0.214006</td>\n      <td>0.659077</td>\n      <td>0.501264</td>\n      <td>0.664389</td>\n      <td>...</td>\n      <td>0.722456</td>\n      <td>0.335987</td>\n      <td>0.625262</td>\n      <td>0.5625</td>\n      <td>0.613796</td>\n      <td>0.94375</td>\n      <td>0.548228</td>\n      <td>0.453255</td>\n      <td>0.57654</td>\n      <td>1</td>\n    </tr>\n  </tbody>\n</table>\n<p>3 rows × 40 columns</p>\n</div>"
     },
     "metadata": {},
     "output_type": "display_data"
    }
   ],
   "source": [
    "display_data(predator.predictions['brca_predictions_prob_data'])"
   ],
   "metadata": {
    "collapsed": false,
    "pycharm": {
     "name": "#%%\n"
    }
   }
  },
  {
   "cell_type": "code",
   "execution_count": 21,
   "outputs": [
    {
     "data": {
      "text/plain": "<Figure size 432x288 with 1 Axes>",
      "image/png": "[encoded data removed]"
     },
     "metadata": {
      "needs_background": "light"
     },
     "output_type": "display_data"
    }
   ],
   "source": [
    "predator.predictions.plot_ensemble_prediction_distribution(\"brca\")"
   ],
   "metadata": {
    "collapsed": false,
    "pycharm": {
     "name": "#%%\n"
    }
   }
  },
  {
   "cell_type": "code",
   "execution_count": 22,
   "outputs": [
    {
     "name": "stdout",
     "output_type": "stream",
     "text": [
      "\u001B[36mData dimensions: (4137, 4)\u001B[0m\n"
     ]
    },
    {
     "data": {
      "text/plain": "  UniProt_ID Mutation Interactor_UniProt_ID Prediction\n0     P28062    R216W                P40306          0\n1     Q15842    E237K                Q14654          1\n2     Q15842    E237K                P63252          1",
      "text/html": "<div>\n<style scoped>\n    .dataframe tbody tr th:only-of-type {\n        vertical-align: middle;\n    }\n\n    .dataframe tbody tr th {\n        vertical-align: top;\n    }\n\n    .dataframe thead th {\n        text-align: right;\n    }\n</style>\n<table border=\"1\" class=\"dataframe\">\n  <thead>\n    <tr style=\"text-align: right;\">\n      <th></th>\n      <th>UniProt_ID</th>\n      <th>Mutation</th>\n      <th>Interactor_UniProt_ID</th>\n      <th>Prediction</th>\n    </tr>\n  </thead>\n  <tbody>\n    <tr>\n      <th>0</th>\n      <td>P28062</td>\n      <td>R216W</td>\n      <td>P40306</td>\n      <td>0</td>\n    </tr>\n    <tr>\n      <th>1</th>\n      <td>Q15842</td>\n      <td>E237K</td>\n      <td>Q14654</td>\n      <td>1</td>\n    </tr>\n    <tr>\n      <th>2</th>\n      <td>Q15842</td>\n      <td>E237K</td>\n      <td>P63252</td>\n      <td>1</td>\n    </tr>\n  </tbody>\n</table>\n</div>"
     },
     "metadata": {},
     "output_type": "display_data"
    }
   ],
   "source": [
    "brca_prediction_results_soft = predator.predictions['brca_prediction_results']\n",
    "display_data(brca_prediction_results_soft)"
   ],
   "metadata": {
    "collapsed": false,
    "pycharm": {
     "name": "#%%\n"
    }
   }
  },
  {
   "cell_type": "code",
   "execution_count": 23,
   "id": "569c4dd1-e2d9-40d0-b7c0-1cc177adfabb",
   "metadata": {
    "pycharm": {
     "name": "#%%\n"
    }
   },
   "outputs": [
    {
     "name": "stdout",
     "output_type": "stream",
     "text": [
      "\u001B[36mData dimensions: (3991, 4)\u001B[0m\n"
     ]
    },
    {
     "data": {
      "text/plain": "  UniProt_ID Mutation Interactor_UniProt_ID Prediction\n0     P28062    R216W                P40306          0\n1     Q15842    E237K                Q14654          1\n2     Q15842    E237K                P63252          1",
      "text/html": "<div>\n<style scoped>\n    .dataframe tbody tr th:only-of-type {\n        vertical-align: middle;\n    }\n\n    .dataframe tbody tr th {\n        vertical-align: top;\n    }\n\n    .dataframe thead th {\n        text-align: right;\n    }\n</style>\n<table border=\"1\" class=\"dataframe\">\n  <thead>\n    <tr style=\"text-align: right;\">\n      <th></th>\n      <th>UniProt_ID</th>\n      <th>Mutation</th>\n      <th>Interactor_UniProt_ID</th>\n      <th>Prediction</th>\n    </tr>\n  </thead>\n  <tbody>\n    <tr>\n      <th>0</th>\n      <td>P28062</td>\n      <td>R216W</td>\n      <td>P40306</td>\n      <td>0</td>\n    </tr>\n    <tr>\n      <th>1</th>\n      <td>Q15842</td>\n      <td>E237K</td>\n      <td>Q14654</td>\n      <td>1</td>\n    </tr>\n    <tr>\n      <th>2</th>\n      <td>Q15842</td>\n      <td>E237K</td>\n      <td>P63252</td>\n      <td>1</td>\n    </tr>\n  </tbody>\n</table>\n</div>"
     },
     "metadata": {},
     "output_type": "display_data"
    }
   ],
   "source": [
    "brca_prediction_results_soft_no_votes_dropped = predator.predictions[\"brca_prediction_results_no_votes_dropped\"]\n",
    "display_data(brca_prediction_results_soft_no_votes_dropped)"
   ]
  },
  {
   "cell_type": "code",
   "execution_count": 24,
   "id": "d1100263-ae65-405f-a13d-896927fdc1c5",
   "metadata": {
    "pycharm": {
     "name": "#%%\n"
    }
   },
   "outputs": [
    {
     "name": "stdout",
     "output_type": "stream",
     "text": [
      "\u001B[36mLabel counts:\n",
      "Increasing + No Effect    1987\n",
      "Disrupting                2004\n",
      "Name: Prediction, dtype: int64\u001B[0m\n"
     ]
    },
    {
     "data": {
      "text/plain": "<Figure size 432x288 with 1 Axes>",
      "image/png": "[encoded data removed]"
     },
     "metadata": {},
     "output_type": "display_data"
    }
   ],
   "source": [
    "visualize_label_counts(brca_prediction_results_soft_no_votes_dropped, 'Prediction')"
   ]
  },
  {
   "cell_type": "code",
   "execution_count": 25,
   "id": "37c0a11a-e87e-40af-ba8a-8a28b82d956d",
   "metadata": {
    "pycharm": {
     "name": "#%%\n"
    }
   },
   "outputs": [],
   "source": [
    "brca_ensemble_prediction_data_soft = predator.predictions[\"brca_ensemble_prediction_data\"]"
   ]
  },
  {
   "cell_type": "code",
   "execution_count": 26,
   "id": "e4995e62-dfd6-4b54-bd6c-67a62eefb6a6",
   "metadata": {
    "pycharm": {
     "name": "#%%\n"
    }
   },
   "outputs": [],
   "source": [
    "brca_predictions_prob_data_soft = predator.predictions[\"brca_predictions_prob_data\"]"
   ]
  },
  {
   "cell_type": "code",
   "execution_count": 26,
   "id": "f024fc9b-c4b1-4b79-8893-08638e7e90d3",
   "metadata": {
    "pycharm": {
     "name": "#%%\n"
    }
   },
   "outputs": [],
   "source": []
  },
  {
   "cell_type": "code",
   "execution_count": 27,
   "id": "a84ab98c-1e29-413a-8c6e-514b747fd38f",
   "metadata": {
    "pycharm": {
     "name": "#%%\n"
    }
   },
   "outputs": [],
   "source": [
    "def add_median_probabilities(prediction_results, predictions_prob_data):\n",
    "    assert len(prediction_results) == len(predictions_prob_data)\n",
    "    prediction_results_with_probabilities = prediction_results.copy()\n",
    "    prediction_results_with_probabilities[\"Median_Probability\"] = predictions_prob_data[\"PROB_1s_AVG\"]\n",
    "    return prediction_results_with_probabilities"
   ]
  },
  {
   "cell_type": "code",
   "execution_count": 28,
   "outputs": [
    {
     "data": {
      "text/plain": "  UniProt_ID Mutation Interactor_UniProt_ID Prediction Median_Probability\n0     P28062    R216W                P40306          0            0.40648\n1     Q15842    E237K                Q14654          1            0.52114\n2     Q15842    E237K                P63252          1            0.57654\n3     Q9UKS6     R24H                Q9BY11          1             0.5271\n4     Q9UKS6     R24H                Q9UNF0          1            0.61854",
      "text/html": "<div>\n<style scoped>\n    .dataframe tbody tr th:only-of-type {\n        vertical-align: middle;\n    }\n\n    .dataframe tbody tr th {\n        vertical-align: top;\n    }\n\n    .dataframe thead th {\n        text-align: right;\n    }\n</style>\n<table border=\"1\" class=\"dataframe\">\n  <thead>\n    <tr style=\"text-align: right;\">\n      <th></th>\n      <th>UniProt_ID</th>\n      <th>Mutation</th>\n      <th>Interactor_UniProt_ID</th>\n      <th>Prediction</th>\n      <th>Median_Probability</th>\n    </tr>\n  </thead>\n  <tbody>\n    <tr>\n      <th>0</th>\n      <td>P28062</td>\n      <td>R216W</td>\n      <td>P40306</td>\n      <td>0</td>\n      <td>0.40648</td>\n    </tr>\n    <tr>\n      <th>1</th>\n      <td>Q15842</td>\n      <td>E237K</td>\n      <td>Q14654</td>\n      <td>1</td>\n      <td>0.52114</td>\n    </tr>\n    <tr>\n      <th>2</th>\n      <td>Q15842</td>\n      <td>E237K</td>\n      <td>P63252</td>\n      <td>1</td>\n      <td>0.57654</td>\n    </tr>\n    <tr>\n      <th>3</th>\n      <td>Q9UKS6</td>\n      <td>R24H</td>\n      <td>Q9BY11</td>\n      <td>1</td>\n      <td>0.5271</td>\n    </tr>\n    <tr>\n      <th>4</th>\n      <td>Q9UKS6</td>\n      <td>R24H</td>\n      <td>Q9UNF0</td>\n      <td>1</td>\n      <td>0.61854</td>\n    </tr>\n  </tbody>\n</table>\n</div>"
     },
     "execution_count": 28,
     "metadata": {},
     "output_type": "execute_result"
    }
   ],
   "source": [
    "brca_prediction_results_soft_with_median_probs = add_median_probabilities(\n",
    "    prediction_results=predator.predictions[\"brca_prediction_results\"],\n",
    "    predictions_prob_data=predator.predictions[\"brca_predictions_prob_data\"]\n",
    ")\n",
    "brca_prediction_results_soft_with_median_probs.head()"
   ],
   "metadata": {
    "collapsed": false,
    "pycharm": {
     "name": "#%%\n"
    }
   }
  },
  {
   "cell_type": "code",
   "execution_count": 29,
   "id": "5328bf48-72fa-4a0c-86c5-76e0939b0e5c",
   "metadata": {
    "pycharm": {
     "name": "#%%\n"
    }
   },
   "outputs": [],
   "source": [
    "brca_prediction_results_soft_no_votes_dropped_with_median_probabilities = brca_prediction_results_soft_with_median_probs[\n",
    "    brca_prediction_results_soft_with_median_probs['Prediction'].isin([0, 1])\n",
    "]"
   ]
  },
  {
   "cell_type": "code",
   "execution_count": 30,
   "id": "5040e7d0-4bd2-4197-8a21-58bfd68b6c76",
   "metadata": {
    "pycharm": {
     "name": "#%%\n"
    }
   },
   "outputs": [
    {
     "data": {
      "text/plain": "3991"
     },
     "execution_count": 30,
     "metadata": {},
     "output_type": "execute_result"
    }
   ],
   "source": [
    "len(brca_prediction_results_soft_no_votes_dropped_with_median_probabilities)"
   ]
  },
  {
   "cell_type": "code",
   "execution_count": 30,
   "id": "3e2b6f08-7000-4c83-b576-1ec0e096c15a",
   "metadata": {
    "pycharm": {
     "name": "#%%\n"
    }
   },
   "outputs": [],
   "source": []
  },
  {
   "cell_type": "markdown",
   "id": "412859ae-c188-410e-85ef-7df91b9d2b89",
   "metadata": {
    "pycharm": {
     "name": "#%% md\n"
    }
   },
   "source": [
    "## Exporting Predictions"
   ]
  },
  {
   "cell_type": "code",
   "execution_count": 31,
   "id": "4042b8ce-498b-4c6c-b964-bbf7632e4ae6",
   "metadata": {
    "pycharm": {
     "name": "#%%\n"
    }
   },
   "outputs": [
    {
     "name": "stdout",
     "output_type": "stream",
     "text": [
      "\u001B[36mData dimensions: (3991, 5)\u001B[0m\n"
     ]
    },
    {
     "data": {
      "text/plain": "  UniProt_ID Mutation Interactor_UniProt_ID Prediction Median_Probability\n0     P28062    R216W                P40306          0            0.40648\n1     Q15842    E237K                Q14654          1            0.52114\n2     Q15842    E237K                P63252          1            0.57654",
      "text/html": "<div>\n<style scoped>\n    .dataframe tbody tr th:only-of-type {\n        vertical-align: middle;\n    }\n\n    .dataframe tbody tr th {\n        vertical-align: top;\n    }\n\n    .dataframe thead th {\n        text-align: right;\n    }\n</style>\n<table border=\"1\" class=\"dataframe\">\n  <thead>\n    <tr style=\"text-align: right;\">\n      <th></th>\n      <th>UniProt_ID</th>\n      <th>Mutation</th>\n      <th>Interactor_UniProt_ID</th>\n      <th>Prediction</th>\n      <th>Median_Probability</th>\n    </tr>\n  </thead>\n  <tbody>\n    <tr>\n      <th>0</th>\n      <td>P28062</td>\n      <td>R216W</td>\n      <td>P40306</td>\n      <td>0</td>\n      <td>0.40648</td>\n    </tr>\n    <tr>\n      <th>1</th>\n      <td>Q15842</td>\n      <td>E237K</td>\n      <td>Q14654</td>\n      <td>1</td>\n      <td>0.52114</td>\n    </tr>\n    <tr>\n      <th>2</th>\n      <td>Q15842</td>\n      <td>E237K</td>\n      <td>P63252</td>\n      <td>1</td>\n      <td>0.57654</td>\n    </tr>\n  </tbody>\n</table>\n</div>"
     },
     "metadata": {},
     "output_type": "display_data"
    }
   ],
   "source": [
    "# brca_prediction_results = brca_prediction_results_hard_no_votes_dropped\n",
    "# brca_prediction_results = brca_prediction_results_soft_no_votes_dropped\n",
    "brca_prediction_results = brca_prediction_results_soft_no_votes_dropped_with_median_probabilities\n",
    "display_data(brca_prediction_results)"
   ]
  },
  {
   "cell_type": "code",
   "execution_count": 32,
   "id": "4ab9fbc1-d3d2-4424-99ac-aa5515070d71",
   "metadata": {
    "pycharm": {
     "name": "#%%\n"
    }
   },
   "outputs": [
    {
     "name": "stdout",
     "output_type": "stream",
     "text": [
      "2022-06-17 00:22:02 |\u001B[36m DEBUG    \u001B[0m| helpers.helpers_predator.common | Folder with ID ed35a3a3 is created.\n",
      "2022-06-17 00:22:02 |\u001B[36m DEBUG    \u001B[0m| helpers.helpers_predator.common | Exporting data predictions at location ../data/predictions_datasets/ in folder brca_prediction_2022-06-17\\ed35a3a3..\n",
      "2022-06-17 00:22:03 |\u001B[32m INFO     \u001B[0m| helpers.helpers_predator.common | ../data/predictions_datasets/brca_prediction_2022-06-17\\ed35a3a3\\predictions_soft_2022-06-17.csv is exported successfully.\n",
      "2022-06-17 00:22:03 |\u001B[32m INFO     \u001B[0m| helpers.helpers_predator.common | Config is exported.\n"
     ]
    }
   ],
   "source": [
    "predator.export_prediction(\n",
    "    tcga=\"brca\",\n",
    "    data=brca_prediction_results,\n",
    "    file_name=\"predictions\",\n",
    "    folder_path=PREDICTIONS_DATASETS_FOLDER_PATH,\n",
    "    voting=\"soft\",\n",
    "    overwrite=False,\n",
    "    file_extension='csv'\n",
    ")"
   ]
  },
  {
   "cell_type": "markdown",
   "id": "fbc616a5-ce63-4b93-a858-b3d22fdce070",
   "metadata": {
    "pycharm": {
     "name": "#%% md\n"
    }
   },
   "source": [
    "---"
   ]
  },
  {
   "cell_type": "code",
   "execution_count": null,
   "outputs": [],
   "source": [],
   "metadata": {
    "collapsed": false,
    "pycharm": {
     "name": "#%%\n"
    }
   }
  }
 ],
 "metadata": {
  "kernelspec": {
   "name": "predator",
   "language": "python",
   "display_name": "Predator"
  },
  "language_info": {
   "codemirror_mode": {
    "name": "ipython",
    "version": 3
   },
   "file_extension": ".py",
   "mimetype": "text/x-python",
   "name": "python",
   "nbconvert_exporter": "python",
   "pygments_lexer": "ipython3",
   "version": "3.8.10"
  },
  "toc-autonumbering": false
 },
 "nbformat": 4,
 "nbformat_minor": 5
}