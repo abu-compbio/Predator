{
 "cells": [
  {
   "cell_type": "markdown",
   "metadata": {
    "tags": []
   },
   "source": [
    "# Filtering IntAct Dataset\n",
    "\n",
    "**Version 3**"
   ]
  },
  {
   "cell_type": "markdown",
   "metadata": {},
   "source": [
    "\n",
    "<b><i class=\"fa fa-folder-o\" area-hidden=\"true\" style=\"color:#1976D2\"> </i>&nbsp; File Location</b><br>\n",
    "<p style=\"background:#F5F5F5; text-indent: 1em;\">\n",
    "<code style=\"background:#F5F5F5; color:#404040; font-weight:bold; font-size:12px\">C:\\Users\\ibrah\\Documents\\GitHub\\Predicting-Mutation-Effects\\src\\helpers\\helpers_training_data</code>\n",
    "</p>\n",
    "\n",
    "<b><i class=\"far fa-file\" area-hidden=\"true\" style=\"color:#1976D2\"> </i>&nbsp; File Name</b>\n",
    "<p style=\"background:#F5F5F5; text-indent: 1em;\">\n",
    "<code style=\"background:#F5F5F5; color:#404040; font-weight:bold; font-size:12px\">PredatorTrainingDataPreparer.ipynb</code>\n",
    "</p>\n",
    "\n",
    "<b><i class=\"far fa-calendar-alt\" area-hidden=\"true\" style=\"color:#1976D2\"> </i>&nbsp; Last Edited</b>\n",
    "<p style=\"background:#F5F5F5; text-indent: 1em;\">\n",
    "<code style=\"background:#F5F5F5; color:#404040; font-weight:bold; font-size:12px\">October 06th, 2021</code>\n",
    "</p>\n"
   ]
  },
  {
   "cell_type": "markdown",
   "metadata": {},
   "source": [
    "## Goal\n",
    "\n",
    "Extract `protein` and `mutation` information from modified IntAct file (see below cell for details). \n",
    "These **protein.mutation** then will be used in ELASPIC to retrieve feature columns."
   ]
  },
  {
   "cell_type": "markdown",
   "metadata": {},
   "source": [
    "<div class=\"alert alert-block\" style=\"background-color: #F5F5F5; border: 1px solid; padding: 10px; border-color: #E0E0E0\">\n",
    "    <b><i class=\"fa fa-info-circle\" aria-hidden=\"true\" style=\"color:#404040\"></i></b>&nbsp; <b style=\"color: #404040\">Info</b> <br>\n",
    "<div>\n",
    "\n",
    "Following operations are performed:\n",
    "    \n",
    "* [Filtered for \"9606 - Homo sapiens\"](#Filter-for-\"9606---Homo-sapiens\")\n",
    "* [Filtered for 1-letter seq. chars](#Filter-for-\"One---Letter-Sequence-Character\")\n",
    "* [Filtered for Labels: \"mutation(MI:0118)\" is removed](#Filter-for-Mutation-Label:-Remove-\"mutation(MI:0118)\")\n",
    "* [Filter for \"Interaction Participants\": Remove Non-homosapien Interactor](#Filter-for-\"Interaction-Participants\":-Remove-Non-homosapien-Interactor)\n",
    "    \n",
    "Number of entries in this dataframe: **36170** "
   ]
  },
  {
   "cell_type": "markdown",
   "metadata": {},
   "source": [
    "## Setup"
   ]
  },
  {
   "cell_type": "code",
   "execution_count": 26,
   "metadata": {},
   "outputs": [],
   "source": [
    "# Imports\n",
    "import pandas as pd\n",
    "import numpy as np\n",
    "import os.path as op\n",
    "\n",
    "# Original IntAct File\n",
    "DATA_DIR = r\"..\\..\\..\\data\"\n",
    "INTACT_FILE_PATH = op.join(DATA_DIR, \"intact_mutations\", \"intact_mutations_2020-07-06.tsv\")"
   ]
  },
  {
   "cell_type": "markdown",
   "metadata": {},
   "source": [
    "## Pre-processing IntAct Dataset"
   ]
  },
  {
   "cell_type": "markdown",
   "metadata": {},
   "source": [
    "### Original IntAct"
   ]
  },
  {
   "cell_type": "code",
   "execution_count": 27,
   "metadata": {},
   "outputs": [
    {
     "name": "stdout",
     "output_type": "stream",
     "text": [
      "(59422, 15)\n"
     ]
    },
    {
     "data": {
      "text/html": [
       "<div>\n",
       "<style scoped>\n",
       "    .dataframe tbody tr th:only-of-type {\n",
       "        vertical-align: middle;\n",
       "    }\n",
       "\n",
       "    .dataframe tbody tr th {\n",
       "        vertical-align: top;\n",
       "    }\n",
       "\n",
       "    .dataframe thead th {\n",
       "        text-align: right;\n",
       "    }\n",
       "</style>\n",
       "<table border=\"1\" class=\"dataframe\">\n",
       "  <thead>\n",
       "    <tr style=\"text-align: right;\">\n",
       "      <th></th>\n",
       "      <th>#Feature AC</th>\n",
       "      <th>Feature short label</th>\n",
       "      <th>Feature range(s)</th>\n",
       "      <th>Original sequence</th>\n",
       "      <th>Resulting sequence</th>\n",
       "      <th>Feature type</th>\n",
       "      <th>Feature annotation</th>\n",
       "      <th>Affected protein AC</th>\n",
       "      <th>Affected protein symbol</th>\n",
       "      <th>Affected protein full name</th>\n",
       "      <th>Affected protein organism</th>\n",
       "      <th>Interaction participants</th>\n",
       "      <th>PubMedID</th>\n",
       "      <th>Figure legend</th>\n",
       "      <th>Interaction AC</th>\n",
       "    </tr>\n",
       "  </thead>\n",
       "  <tbody>\n",
       "    <tr>\n",
       "      <th>0</th>\n",
       "      <td>EBI-464941</td>\n",
       "      <td>O75940:p.Glu133Lys</td>\n",
       "      <td>133-133</td>\n",
       "      <td>E</td>\n",
       "      <td>K</td>\n",
       "      <td>mutation(MI:0118)</td>\n",
       "      <td>NaN</td>\n",
       "      <td>uniprotkb:O75940</td>\n",
       "      <td>SMNDC1</td>\n",
       "      <td>NaN</td>\n",
       "      <td>9606 - Homo sapiens</td>\n",
       "      <td>uniprotkb:O75940(protein(MI:0326), 9606 - Homo...</td>\n",
       "      <td>15494309</td>\n",
       "      <td>NaN</td>\n",
       "      <td>EBI-464937</td>\n",
       "    </tr>\n",
       "    <tr>\n",
       "      <th>1</th>\n",
       "      <td>EBI-489661</td>\n",
       "      <td>P15153:p.Gln61Leu</td>\n",
       "      <td>61-61</td>\n",
       "      <td>Q</td>\n",
       "      <td>L</td>\n",
       "      <td>mutation(MI:0118)</td>\n",
       "      <td>NaN</td>\n",
       "      <td>uniprotkb:P15153</td>\n",
       "      <td>RAC2</td>\n",
       "      <td>NaN</td>\n",
       "      <td>9606 - Homo sapiens</td>\n",
       "      <td>uniprotkb:P15153(protein(MI:0326), 9606 - Homo...</td>\n",
       "      <td>11090627</td>\n",
       "      <td>NaN</td>\n",
       "      <td>EBI-489644</td>\n",
       "    </tr>\n",
       "    <tr>\n",
       "      <th>2</th>\n",
       "      <td>EBI-495357</td>\n",
       "      <td>Q99640:p.Asn238Ala</td>\n",
       "      <td>238-238</td>\n",
       "      <td>N</td>\n",
       "      <td>A</td>\n",
       "      <td>mutation(MI:0118)</td>\n",
       "      <td>NaN</td>\n",
       "      <td>uniprotkb:Q99640</td>\n",
       "      <td>PKMYT1</td>\n",
       "      <td>NaN</td>\n",
       "      <td>9606 - Homo sapiens</td>\n",
       "      <td>uniprotkb:Q99640(protein(MI:0326), 9606 - Homo...</td>\n",
       "      <td>10373560</td>\n",
       "      <td>Fig. 1B</td>\n",
       "      <td>EBI-495348</td>\n",
       "    </tr>\n",
       "  </tbody>\n",
       "</table>\n",
       "</div>"
      ],
      "text/plain": [
       "  #Feature AC Feature short label Feature range(s) Original sequence  \\\n",
       "0  EBI-464941  O75940:p.Glu133Lys          133-133                 E   \n",
       "1  EBI-489661   P15153:p.Gln61Leu            61-61                 Q   \n",
       "2  EBI-495357  Q99640:p.Asn238Ala          238-238                 N   \n",
       "\n",
       "  Resulting sequence       Feature type Feature annotation  \\\n",
       "0                  K  mutation(MI:0118)                NaN   \n",
       "1                  L  mutation(MI:0118)                NaN   \n",
       "2                  A  mutation(MI:0118)                NaN   \n",
       "\n",
       "  Affected protein AC Affected protein symbol  Affected protein full name  \\\n",
       "0    uniprotkb:O75940                  SMNDC1                         NaN   \n",
       "1    uniprotkb:P15153                    RAC2                         NaN   \n",
       "2    uniprotkb:Q99640                  PKMYT1                         NaN   \n",
       "\n",
       "  Affected protein organism  \\\n",
       "0       9606 - Homo sapiens   \n",
       "1       9606 - Homo sapiens   \n",
       "2       9606 - Homo sapiens   \n",
       "\n",
       "                            Interaction participants  PubMedID Figure legend  \\\n",
       "0  uniprotkb:O75940(protein(MI:0326), 9606 - Homo...  15494309           NaN   \n",
       "1  uniprotkb:P15153(protein(MI:0326), 9606 - Homo...  11090627           NaN   \n",
       "2  uniprotkb:Q99640(protein(MI:0326), 9606 - Homo...  10373560       Fig. 1B   \n",
       "\n",
       "  Interaction AC  \n",
       "0     EBI-464937  \n",
       "1     EBI-489644  \n",
       "2     EBI-495348  "
      ]
     },
     "execution_count": 27,
     "metadata": {},
     "output_type": "execute_result"
    }
   ],
   "source": [
    "# Read Original Intact Mutation Data\n",
    "mutations_data = pd.read_table(INTACT_FILE_PATH, delimiter=\"\\t\")\n",
    "\n",
    "# Size of dataframe\n",
    "print(mutations_data.shape)\n",
    "\n",
    "# First 5 entries\n",
    "mutations_data.head(3)"
   ]
  },
  {
   "cell_type": "markdown",
   "metadata": {},
   "source": [
    "### Filter for \"9606 - Homo sapiens\""
   ]
  },
  {
   "cell_type": "markdown",
   "metadata": {},
   "source": [
    "\"*Affected protein organism*\" column is filtered for \"**9606 - Homo sapiens**\"."
   ]
  },
  {
   "cell_type": "code",
   "execution_count": 8,
   "metadata": {},
   "outputs": [
    {
     "name": "stdout",
     "output_type": "stream",
     "text": [
      "(43495, 15)\n"
     ]
    },
    {
     "data": {
      "text/html": [
       "<div>\n",
       "<style scoped>\n",
       "    .dataframe tbody tr th:only-of-type {\n",
       "        vertical-align: middle;\n",
       "    }\n",
       "\n",
       "    .dataframe tbody tr th {\n",
       "        vertical-align: top;\n",
       "    }\n",
       "\n",
       "    .dataframe thead th {\n",
       "        text-align: right;\n",
       "    }\n",
       "</style>\n",
       "<table border=\"1\" class=\"dataframe\">\n",
       "  <thead>\n",
       "    <tr style=\"text-align: right;\">\n",
       "      <th></th>\n",
       "      <th>#Feature AC</th>\n",
       "      <th>Feature short label</th>\n",
       "      <th>Feature range(s)</th>\n",
       "      <th>Original sequence</th>\n",
       "      <th>Resulting sequence</th>\n",
       "      <th>Feature type</th>\n",
       "      <th>Feature annotation</th>\n",
       "      <th>Affected protein AC</th>\n",
       "      <th>Affected protein symbol</th>\n",
       "      <th>Affected protein full name</th>\n",
       "      <th>Affected protein organism</th>\n",
       "      <th>Interaction participants</th>\n",
       "      <th>PubMedID</th>\n",
       "      <th>Figure legend</th>\n",
       "      <th>Interaction AC</th>\n",
       "    </tr>\n",
       "  </thead>\n",
       "  <tbody>\n",
       "    <tr>\n",
       "      <th>0</th>\n",
       "      <td>EBI-464941</td>\n",
       "      <td>O75940:p.Glu133Lys</td>\n",
       "      <td>133-133</td>\n",
       "      <td>E</td>\n",
       "      <td>K</td>\n",
       "      <td>mutation(MI:0118)</td>\n",
       "      <td>NaN</td>\n",
       "      <td>uniprotkb:O75940</td>\n",
       "      <td>SMNDC1</td>\n",
       "      <td>NaN</td>\n",
       "      <td>9606 - Homo sapiens</td>\n",
       "      <td>uniprotkb:O75940(protein(MI:0326), 9606 - Homo...</td>\n",
       "      <td>15494309</td>\n",
       "      <td>NaN</td>\n",
       "      <td>EBI-464937</td>\n",
       "    </tr>\n",
       "    <tr>\n",
       "      <th>1</th>\n",
       "      <td>EBI-489661</td>\n",
       "      <td>P15153:p.Gln61Leu</td>\n",
       "      <td>61-61</td>\n",
       "      <td>Q</td>\n",
       "      <td>L</td>\n",
       "      <td>mutation(MI:0118)</td>\n",
       "      <td>NaN</td>\n",
       "      <td>uniprotkb:P15153</td>\n",
       "      <td>RAC2</td>\n",
       "      <td>NaN</td>\n",
       "      <td>9606 - Homo sapiens</td>\n",
       "      <td>uniprotkb:P15153(protein(MI:0326), 9606 - Homo...</td>\n",
       "      <td>11090627</td>\n",
       "      <td>NaN</td>\n",
       "      <td>EBI-489644</td>\n",
       "    </tr>\n",
       "    <tr>\n",
       "      <th>2</th>\n",
       "      <td>EBI-495357</td>\n",
       "      <td>Q99640:p.Asn238Ala</td>\n",
       "      <td>238-238</td>\n",
       "      <td>N</td>\n",
       "      <td>A</td>\n",
       "      <td>mutation(MI:0118)</td>\n",
       "      <td>NaN</td>\n",
       "      <td>uniprotkb:Q99640</td>\n",
       "      <td>PKMYT1</td>\n",
       "      <td>NaN</td>\n",
       "      <td>9606 - Homo sapiens</td>\n",
       "      <td>uniprotkb:Q99640(protein(MI:0326), 9606 - Homo...</td>\n",
       "      <td>10373560</td>\n",
       "      <td>Fig. 1B</td>\n",
       "      <td>EBI-495348</td>\n",
       "    </tr>\n",
       "  </tbody>\n",
       "</table>\n",
       "</div>"
      ],
      "text/plain": [
       "  #Feature AC Feature short label Feature range(s) Original sequence  \\\n",
       "0  EBI-464941  O75940:p.Glu133Lys          133-133                 E   \n",
       "1  EBI-489661   P15153:p.Gln61Leu            61-61                 Q   \n",
       "2  EBI-495357  Q99640:p.Asn238Ala          238-238                 N   \n",
       "\n",
       "  Resulting sequence       Feature type Feature annotation  \\\n",
       "0                  K  mutation(MI:0118)                NaN   \n",
       "1                  L  mutation(MI:0118)                NaN   \n",
       "2                  A  mutation(MI:0118)                NaN   \n",
       "\n",
       "  Affected protein AC Affected protein symbol  Affected protein full name  \\\n",
       "0    uniprotkb:O75940                  SMNDC1                         NaN   \n",
       "1    uniprotkb:P15153                    RAC2                         NaN   \n",
       "2    uniprotkb:Q99640                  PKMYT1                         NaN   \n",
       "\n",
       "  Affected protein organism  \\\n",
       "0       9606 - Homo sapiens   \n",
       "1       9606 - Homo sapiens   \n",
       "2       9606 - Homo sapiens   \n",
       "\n",
       "                            Interaction participants  PubMedID Figure legend  \\\n",
       "0  uniprotkb:O75940(protein(MI:0326), 9606 - Homo...  15494309           NaN   \n",
       "1  uniprotkb:P15153(protein(MI:0326), 9606 - Homo...  11090627           NaN   \n",
       "2  uniprotkb:Q99640(protein(MI:0326), 9606 - Homo...  10373560       Fig. 1B   \n",
       "\n",
       "  Interaction AC  \n",
       "0     EBI-464937  \n",
       "1     EBI-489644  \n",
       "2     EBI-495348  "
      ]
     },
     "execution_count": 8,
     "metadata": {},
     "output_type": "execute_result"
    }
   ],
   "source": [
    "# Filtering the data where \"Affected protein organism\" is \"9606 - Homo sapiens\".\n",
    "mutations_homo_sapiens_data = mutations_data[mutations_data['Affected protein organism'] == \"9606 - Homo sapiens\"]\n",
    "print(mutations_homo_sapiens_data.shape)\n",
    "mutations_homo_sapiens_data.head(3)"
   ]
  },
  {
   "cell_type": "markdown",
   "metadata": {},
   "source": [
    "### Filter for \"One - Letter Sequence Character\""
   ]
  },
  {
   "cell_type": "markdown",
   "metadata": {},
   "source": [
    "\"*Original sequence*\" and \"*Resulting sequence*\" columns needs to be **1-letter**. Entries which does not satisfy this property have is removed."
   ]
  },
  {
   "cell_type": "code",
   "execution_count": 9,
   "metadata": {},
   "outputs": [
    {
     "name": "stdout",
     "output_type": "stream",
     "text": [
      "(41833, 15)\n"
     ]
    },
    {
     "data": {
      "text/html": [
       "<div>\n",
       "<style scoped>\n",
       "    .dataframe tbody tr th:only-of-type {\n",
       "        vertical-align: middle;\n",
       "    }\n",
       "\n",
       "    .dataframe tbody tr th {\n",
       "        vertical-align: top;\n",
       "    }\n",
       "\n",
       "    .dataframe thead th {\n",
       "        text-align: right;\n",
       "    }\n",
       "</style>\n",
       "<table border=\"1\" class=\"dataframe\">\n",
       "  <thead>\n",
       "    <tr style=\"text-align: right;\">\n",
       "      <th></th>\n",
       "      <th>#Feature AC</th>\n",
       "      <th>Feature short label</th>\n",
       "      <th>Feature range(s)</th>\n",
       "      <th>Original sequence</th>\n",
       "      <th>Resulting sequence</th>\n",
       "      <th>Feature type</th>\n",
       "      <th>Feature annotation</th>\n",
       "      <th>Affected protein AC</th>\n",
       "      <th>Affected protein symbol</th>\n",
       "      <th>Affected protein full name</th>\n",
       "      <th>Affected protein organism</th>\n",
       "      <th>Interaction participants</th>\n",
       "      <th>PubMedID</th>\n",
       "      <th>Figure legend</th>\n",
       "      <th>Interaction AC</th>\n",
       "    </tr>\n",
       "  </thead>\n",
       "  <tbody>\n",
       "    <tr>\n",
       "      <th>0</th>\n",
       "      <td>EBI-464941</td>\n",
       "      <td>O75940:p.Glu133Lys</td>\n",
       "      <td>133-133</td>\n",
       "      <td>E</td>\n",
       "      <td>K</td>\n",
       "      <td>mutation(MI:0118)</td>\n",
       "      <td>NaN</td>\n",
       "      <td>uniprotkb:O75940</td>\n",
       "      <td>SMNDC1</td>\n",
       "      <td>NaN</td>\n",
       "      <td>9606 - Homo sapiens</td>\n",
       "      <td>uniprotkb:O75940(protein(MI:0326), 9606 - Homo...</td>\n",
       "      <td>15494309</td>\n",
       "      <td>NaN</td>\n",
       "      <td>EBI-464937</td>\n",
       "    </tr>\n",
       "    <tr>\n",
       "      <th>1</th>\n",
       "      <td>EBI-489661</td>\n",
       "      <td>P15153:p.Gln61Leu</td>\n",
       "      <td>61-61</td>\n",
       "      <td>Q</td>\n",
       "      <td>L</td>\n",
       "      <td>mutation(MI:0118)</td>\n",
       "      <td>NaN</td>\n",
       "      <td>uniprotkb:P15153</td>\n",
       "      <td>RAC2</td>\n",
       "      <td>NaN</td>\n",
       "      <td>9606 - Homo sapiens</td>\n",
       "      <td>uniprotkb:P15153(protein(MI:0326), 9606 - Homo...</td>\n",
       "      <td>11090627</td>\n",
       "      <td>NaN</td>\n",
       "      <td>EBI-489644</td>\n",
       "    </tr>\n",
       "    <tr>\n",
       "      <th>2</th>\n",
       "      <td>EBI-495357</td>\n",
       "      <td>Q99640:p.Asn238Ala</td>\n",
       "      <td>238-238</td>\n",
       "      <td>N</td>\n",
       "      <td>A</td>\n",
       "      <td>mutation(MI:0118)</td>\n",
       "      <td>NaN</td>\n",
       "      <td>uniprotkb:Q99640</td>\n",
       "      <td>PKMYT1</td>\n",
       "      <td>NaN</td>\n",
       "      <td>9606 - Homo sapiens</td>\n",
       "      <td>uniprotkb:Q99640(protein(MI:0326), 9606 - Homo...</td>\n",
       "      <td>10373560</td>\n",
       "      <td>Fig. 1B</td>\n",
       "      <td>EBI-495348</td>\n",
       "    </tr>\n",
       "  </tbody>\n",
       "</table>\n",
       "</div>"
      ],
      "text/plain": [
       "  #Feature AC Feature short label Feature range(s) Original sequence  \\\n",
       "0  EBI-464941  O75940:p.Glu133Lys          133-133                 E   \n",
       "1  EBI-489661   P15153:p.Gln61Leu            61-61                 Q   \n",
       "2  EBI-495357  Q99640:p.Asn238Ala          238-238                 N   \n",
       "\n",
       "  Resulting sequence       Feature type Feature annotation  \\\n",
       "0                  K  mutation(MI:0118)                NaN   \n",
       "1                  L  mutation(MI:0118)                NaN   \n",
       "2                  A  mutation(MI:0118)                NaN   \n",
       "\n",
       "  Affected protein AC Affected protein symbol  Affected protein full name  \\\n",
       "0    uniprotkb:O75940                  SMNDC1                         NaN   \n",
       "1    uniprotkb:P15153                    RAC2                         NaN   \n",
       "2    uniprotkb:Q99640                  PKMYT1                         NaN   \n",
       "\n",
       "  Affected protein organism  \\\n",
       "0       9606 - Homo sapiens   \n",
       "1       9606 - Homo sapiens   \n",
       "2       9606 - Homo sapiens   \n",
       "\n",
       "                            Interaction participants  PubMedID Figure legend  \\\n",
       "0  uniprotkb:O75940(protein(MI:0326), 9606 - Homo...  15494309           NaN   \n",
       "1  uniprotkb:P15153(protein(MI:0326), 9606 - Homo...  11090627           NaN   \n",
       "2  uniprotkb:Q99640(protein(MI:0326), 9606 - Homo...  10373560       Fig. 1B   \n",
       "\n",
       "  Interaction AC  \n",
       "0     EBI-464937  \n",
       "1     EBI-489644  \n",
       "2     EBI-495348  "
      ]
     },
     "execution_count": 9,
     "metadata": {},
     "output_type": "execute_result"
    }
   ],
   "source": [
    "mutations_homo_sapiens_oneletter_data = mutations_homo_sapiens_data[\n",
    "    (mutations_homo_sapiens_data[\"Original sequence\"].str.len() == 1) & \n",
    "    (mutations_homo_sapiens_data[\"Original sequence\"].str.isalpha()) &\n",
    "    (mutations_homo_sapiens_data[\"Resulting sequence\"].str.len() == 1) &\n",
    "    (mutations_homo_sapiens_data[\"Resulting sequence\"].str.isalpha())\n",
    "]  \n",
    "\n",
    "# Reset index of the dataframe to avoid any possible errors\n",
    "mutations_homo_sapiens_oneletter_data.reset_index(drop=True, inplace=True)\n",
    "\n",
    "print(mutations_homo_sapiens_oneletter_data.shape)\n",
    "mutations_homo_sapiens_oneletter_data.head(3)"
   ]
  },
  {
   "cell_type": "markdown",
   "metadata": {},
   "source": [
    "### Filter for Mutation Label: Remove \"mutation(MI:0118)\""
   ]
  },
  {
   "cell_type": "markdown",
   "metadata": {},
   "source": [
    "Mutation effect (encoded as `Feature type` in IntAct) with label **\"mutation(MI:0118)\"** is removed."
   ]
  },
  {
   "cell_type": "code",
   "execution_count": 10,
   "metadata": {},
   "outputs": [
    {
     "name": "stdout",
     "output_type": "stream",
     "text": [
      "(39204, 15)\n"
     ]
    },
    {
     "data": {
      "text/html": [
       "<div>\n",
       "<style scoped>\n",
       "    .dataframe tbody tr th:only-of-type {\n",
       "        vertical-align: middle;\n",
       "    }\n",
       "\n",
       "    .dataframe tbody tr th {\n",
       "        vertical-align: top;\n",
       "    }\n",
       "\n",
       "    .dataframe thead th {\n",
       "        text-align: right;\n",
       "    }\n",
       "</style>\n",
       "<table border=\"1\" class=\"dataframe\">\n",
       "  <thead>\n",
       "    <tr style=\"text-align: right;\">\n",
       "      <th></th>\n",
       "      <th>#Feature AC</th>\n",
       "      <th>Feature short label</th>\n",
       "      <th>Feature range(s)</th>\n",
       "      <th>Original sequence</th>\n",
       "      <th>Resulting sequence</th>\n",
       "      <th>Feature type</th>\n",
       "      <th>Feature annotation</th>\n",
       "      <th>Affected protein AC</th>\n",
       "      <th>Affected protein symbol</th>\n",
       "      <th>Affected protein full name</th>\n",
       "      <th>Affected protein organism</th>\n",
       "      <th>Interaction participants</th>\n",
       "      <th>PubMedID</th>\n",
       "      <th>Figure legend</th>\n",
       "      <th>Interaction AC</th>\n",
       "    </tr>\n",
       "  </thead>\n",
       "  <tbody>\n",
       "    <tr>\n",
       "      <th>0</th>\n",
       "      <td>EBI-11702293</td>\n",
       "      <td>O43557:p.[Ala138Thr;Ser160Gly;Asp221_Glu222del...</td>\n",
       "      <td>138-138</td>\n",
       "      <td>A</td>\n",
       "      <td>T</td>\n",
       "      <td>mutation causing(MI:2227)</td>\n",
       "      <td>NaN</td>\n",
       "      <td>uniprotkb:O43557</td>\n",
       "      <td>TNFSF14</td>\n",
       "      <td>NaN</td>\n",
       "      <td>9606 - Homo sapiens</td>\n",
       "      <td>uniprotkb:Q71F55(protein(MI:0326), 10090 - Mus...</td>\n",
       "      <td>26977880</td>\n",
       "      <td>2 Am</td>\n",
       "      <td>EBI-11702290</td>\n",
       "    </tr>\n",
       "    <tr>\n",
       "      <th>1</th>\n",
       "      <td>EBI-11702293</td>\n",
       "      <td>O43557:p.[Ala138Thr;Ser160Gly;Asp221_Glu222del...</td>\n",
       "      <td>160-160</td>\n",
       "      <td>S</td>\n",
       "      <td>G</td>\n",
       "      <td>mutation causing(MI:2227)</td>\n",
       "      <td>NaN</td>\n",
       "      <td>uniprotkb:O43557</td>\n",
       "      <td>TNFSF14</td>\n",
       "      <td>NaN</td>\n",
       "      <td>9606 - Homo sapiens</td>\n",
       "      <td>uniprotkb:Q71F55(protein(MI:0326), 10090 - Mus...</td>\n",
       "      <td>26977880</td>\n",
       "      <td>2 Am</td>\n",
       "      <td>EBI-11702290</td>\n",
       "    </tr>\n",
       "    <tr>\n",
       "      <th>2</th>\n",
       "      <td>EBI-25425844</td>\n",
       "      <td>Q06124-2:p.[Tyr279Cys;Asp425Ala;Cys459Ser]</td>\n",
       "      <td>425-425</td>\n",
       "      <td>D</td>\n",
       "      <td>A</td>\n",
       "      <td>mutation causing(MI:2227)</td>\n",
       "      <td>NaN</td>\n",
       "      <td>uniprotkb:Q06124-2</td>\n",
       "      <td>PTPN11</td>\n",
       "      <td>NaN</td>\n",
       "      <td>9606 - Homo sapiens</td>\n",
       "      <td>uniprotkb:Q6P1J9(protein(MI:0326), 9606 - Homo...</td>\n",
       "      <td>26742426</td>\n",
       "      <td>1d</td>\n",
       "      <td>EBI-25425831</td>\n",
       "    </tr>\n",
       "  </tbody>\n",
       "</table>\n",
       "</div>"
      ],
      "text/plain": [
       "    #Feature AC                                Feature short label  \\\n",
       "0  EBI-11702293  O43557:p.[Ala138Thr;Ser160Gly;Asp221_Glu222del...   \n",
       "1  EBI-11702293  O43557:p.[Ala138Thr;Ser160Gly;Asp221_Glu222del...   \n",
       "2  EBI-25425844         Q06124-2:p.[Tyr279Cys;Asp425Ala;Cys459Ser]   \n",
       "\n",
       "  Feature range(s) Original sequence Resulting sequence  \\\n",
       "0          138-138                 A                  T   \n",
       "1          160-160                 S                  G   \n",
       "2          425-425                 D                  A   \n",
       "\n",
       "                Feature type Feature annotation Affected protein AC  \\\n",
       "0  mutation causing(MI:2227)                NaN    uniprotkb:O43557   \n",
       "1  mutation causing(MI:2227)                NaN    uniprotkb:O43557   \n",
       "2  mutation causing(MI:2227)                NaN  uniprotkb:Q06124-2   \n",
       "\n",
       "  Affected protein symbol  Affected protein full name  \\\n",
       "0                 TNFSF14                         NaN   \n",
       "1                 TNFSF14                         NaN   \n",
       "2                  PTPN11                         NaN   \n",
       "\n",
       "  Affected protein organism  \\\n",
       "0       9606 - Homo sapiens   \n",
       "1       9606 - Homo sapiens   \n",
       "2       9606 - Homo sapiens   \n",
       "\n",
       "                            Interaction participants  PubMedID Figure legend  \\\n",
       "0  uniprotkb:Q71F55(protein(MI:0326), 10090 - Mus...  26977880          2 Am   \n",
       "1  uniprotkb:Q71F55(protein(MI:0326), 10090 - Mus...  26977880          2 Am   \n",
       "2  uniprotkb:Q6P1J9(protein(MI:0326), 9606 - Homo...  26742426            1d   \n",
       "\n",
       "  Interaction AC  \n",
       "0   EBI-11702290  \n",
       "1   EBI-11702290  \n",
       "2   EBI-25425831  "
      ]
     },
     "execution_count": 10,
     "metadata": {},
     "output_type": "execute_result"
    }
   ],
   "source": [
    "mutations_label_filtered_data = mutations_homo_sapiens_oneletter_data[\n",
    "    (mutations_homo_sapiens_oneletter_data[\"Feature type\"] != \"mutation(MI:0118)\")]\n",
    "\n",
    "# Reset index of the dataframe to avoid any possible errors\n",
    "mutations_label_filtered_data.reset_index(drop=True, inplace=True)\n",
    "\n",
    "print(mutations_label_filtered_data.shape)\n",
    "mutations_label_filtered_data.head(3)"
   ]
  },
  {
   "cell_type": "markdown",
   "metadata": {},
   "source": [
    "### Filter for \"Interaction Participants\": Remove Non-homosapien Interactor"
   ]
  },
  {
   "cell_type": "markdown",
   "metadata": {},
   "source": [
    "\"*Interaction Participants*\" column may contain other organisms as interactor participants. Those are non-homosapien interactors are removed. Also, if interactor participant is the same as itself, we will skip those as well."
   ]
  },
  {
   "cell_type": "markdown",
   "metadata": {},
   "source": [
    "<div class=\"alert alert-block\" style=\"background-color: white; border: 2px solid; padding: 10px; border-color: #F57C00\">\n",
    "    <b style=\"color: #F57C00\"><i class=\"fa fa-warning\" aria-hidden=\"true\"></i>&nbsp; Warning</b><br>\n",
    "<div>\n",
    "    \n",
    "The data will be altered and reduced significantly:\n",
    "* Unnecessary columns will be dropped. E.g. *#Feature AC*, *Feature short label* etc., however, they can be retrieve from original data easily.\n",
    "* \"*Feature range(s)*\", \"*Original sequence*\", \"*Resulting sequence*\" columns will be combined and turned into **mutation**.\n",
    "* Interaction participants will be expanded: \n",
    "    * For each participant, rows are repeated\n",
    "    * If participant contains itself, it is removed\n",
    "    * $\n",
    "A : A, B, C\n",
    "\\ → \\ \n",
    "\\begin{matrix} \n",
    "A : B \\\\ \n",
    "A : C \\\\ \n",
    "\\end{matrix}\n",
    "$\n",
    "\n",
    "   \n",
    "\n",
    "    \n",
    "**Resulting data will be as follows*:\n",
    "    \n",
    "| IntAct Line | Labels (Mutation effect) | Affected Protein AC | Mutation | (**single**) Interaction Participant\n",
    "| --- | --- | --- | --- | --- |\n",
    "| Line 1 | mutation causing(MI:2227) | uniprotkb:Q06124-2 | D425A | uniprotkb:Q6P1J9(protein(MI:0326), 9606 - Homo sapiens)|\n",
    "| Line 2 | mutation causing(MI:2227) | uniprotkb:Q06124-2 | C459S | uniprotkb:Q6P1J9(protein(MI:0326), 9606 - Homo sapiens)|\n",
    "| Line 3 | mutation causing(MI:2227) | uniprotkb:Q06124-2 | Y279C | uniprotkb:Q6P1J9(protein(MI:0326), 9606 - Homo sapiens)|\n",
    "| Line 4 | mutation causing(MI:2227) | uniprotkb:P04264 | L161P | uniprotkb:P37198(protein(MI:0326), 9606 - Homo sapiens)|\n",
    "| Line 5 | mutation causing(MI:2227) | uniprotkb:P45381 | E285A | uniprotkb:Q14145(protein(MI:0326), 9606 - Homo sapiens)|\n",
    "| **Line 6** | mutation causing(MI:2227) | uniprotkb:Q99697-3 | L54Q | uniprotkb:P11142(protein(MI:0326), 9606 - Homo sapiens)|\n",
    "| **Line 6** | mutation causing(MI:2227) | uniprotkb:Q99697-3 | L54Q | uniprotkb:P08238(protein(MI:0326), 9606 - Homo sapiens)|"
   ]
  },
  {
   "cell_type": "code",
   "execution_count": 19,
   "metadata": {},
   "outputs": [],
   "source": [
    "def reduce_data(dataframe_param):\n",
    "    \"\"\"\n",
    "    Take filtered IntAct dataframe and turned into processed form as described above.\n",
    "    \"\"\"\n",
    "    \n",
    "    # Reset index of the dataframe to avoid any possible errors\n",
    "    dataframe_param.reset_index(drop=True, inplace=True)\n",
    "    \n",
    "    # Create list that will store the entries\n",
    "    data_entries = []\n",
    "    \n",
    "    # Column names of the new data\n",
    "    column_names = [\"Mutation Effect Label\", \"Affected Protein AC\", \"Mutation\", \"Interaction Participant\"] \n",
    "\n",
    "    for index, row in dataframe_param.iterrows():\n",
    "        mutation_effect_label = row[\"Feature type\"]\n",
    "        affected_protein_ac = row[\"Affected protein AC\"]\n",
    "        mutation = row[\"Original sequence\"] + row[\"Feature range(s)\"].split('-')[0] + row[\"Resulting sequence\"]  #  W + 45-45 + A → W45A\n",
    "        interaction_participants = row[\"Interaction participants\"].split(';')\n",
    "        \n",
    "        for participant in interaction_participants:\n",
    "            # Skip if participant is not homosapien or it is itself.\n",
    "            if \"9606 - Homo sapiens\" not in participant or affected_protein_ac in participant:\n",
    "                continue\n",
    "               \n",
    "            # Skip also if affected_protein_ac does not have \"uniprotkb:\" tag, or single participant does not have \"uniprotkb:\" tag.\n",
    "            if not (affected_protein_ac.startswith(\"uniprotkb:\") and (participant.startswith(\"uniprotkb:\"))):\n",
    "                continue\n",
    "            \n",
    "            # Append to data entries.\n",
    "            data_entries.append([mutation_effect_label, affected_protein_ac, mutation, participant])\n",
    "            \n",
    "            # [optional] printing \n",
    "            # print(mutation_effect_label, affected_protein_ac, mutation, participant, sep='\\t')\n",
    "        \n",
    "        \n",
    "    # Construct dataframe from entries  \n",
    "    processed_data = pd.DataFrame(data_entries, columns=column_names)\n",
    "    \n",
    "    return processed_data\n",
    "    "
   ]
  },
  {
   "cell_type": "code",
   "execution_count": 20,
   "metadata": {},
   "outputs": [],
   "source": [
    "processed_data = reduce_data(mutations_label_filtered_data)"
   ]
  },
  {
   "cell_type": "code",
   "execution_count": 21,
   "metadata": {},
   "outputs": [
    {
     "name": "stdout",
     "output_type": "stream",
     "text": [
      "(36170, 4)\n"
     ]
    },
    {
     "data": {
      "text/html": [
       "<div>\n",
       "<style scoped>\n",
       "    .dataframe tbody tr th:only-of-type {\n",
       "        vertical-align: middle;\n",
       "    }\n",
       "\n",
       "    .dataframe tbody tr th {\n",
       "        vertical-align: top;\n",
       "    }\n",
       "\n",
       "    .dataframe thead th {\n",
       "        text-align: right;\n",
       "    }\n",
       "</style>\n",
       "<table border=\"1\" class=\"dataframe\">\n",
       "  <thead>\n",
       "    <tr style=\"text-align: right;\">\n",
       "      <th></th>\n",
       "      <th>Mutation Effect Label</th>\n",
       "      <th>Affected Protein AC</th>\n",
       "      <th>Mutation</th>\n",
       "      <th>Interaction Participant</th>\n",
       "    </tr>\n",
       "  </thead>\n",
       "  <tbody>\n",
       "    <tr>\n",
       "      <th>0</th>\n",
       "      <td>mutation causing(MI:2227)</td>\n",
       "      <td>uniprotkb:Q06124-2</td>\n",
       "      <td>D425A</td>\n",
       "      <td>uniprotkb:Q6P1J9(protein(MI:0326), 9606 - Homo...</td>\n",
       "    </tr>\n",
       "    <tr>\n",
       "      <th>1</th>\n",
       "      <td>mutation causing(MI:2227)</td>\n",
       "      <td>uniprotkb:Q06124-2</td>\n",
       "      <td>C459S</td>\n",
       "      <td>uniprotkb:Q6P1J9(protein(MI:0326), 9606 - Homo...</td>\n",
       "    </tr>\n",
       "    <tr>\n",
       "      <th>2</th>\n",
       "      <td>mutation causing(MI:2227)</td>\n",
       "      <td>uniprotkb:Q06124-2</td>\n",
       "      <td>Y279C</td>\n",
       "      <td>uniprotkb:Q6P1J9(protein(MI:0326), 9606 - Homo...</td>\n",
       "    </tr>\n",
       "    <tr>\n",
       "      <th>3</th>\n",
       "      <td>mutation causing(MI:2227)</td>\n",
       "      <td>uniprotkb:P04264</td>\n",
       "      <td>L161P</td>\n",
       "      <td>uniprotkb:P37198(protein(MI:0326), 9606 - Homo...</td>\n",
       "    </tr>\n",
       "    <tr>\n",
       "      <th>4</th>\n",
       "      <td>mutation causing(MI:2227)</td>\n",
       "      <td>uniprotkb:P45381</td>\n",
       "      <td>E285A</td>\n",
       "      <td>uniprotkb:Q14145(protein(MI:0326), 9606 - Homo...</td>\n",
       "    </tr>\n",
       "    <tr>\n",
       "      <th>5</th>\n",
       "      <td>mutation causing(MI:2227)</td>\n",
       "      <td>uniprotkb:Q99697-3</td>\n",
       "      <td>L54Q</td>\n",
       "      <td>uniprotkb:P11142(protein(MI:0326), 9606 - Homo...</td>\n",
       "    </tr>\n",
       "    <tr>\n",
       "      <th>6</th>\n",
       "      <td>mutation causing(MI:2227)</td>\n",
       "      <td>uniprotkb:Q99697-3</td>\n",
       "      <td>L54Q</td>\n",
       "      <td>uniprotkb:P08238(protein(MI:0326), 9606 - Homo...</td>\n",
       "    </tr>\n",
       "    <tr>\n",
       "      <th>7</th>\n",
       "      <td>mutation causing(MI:2227)</td>\n",
       "      <td>uniprotkb:P51795</td>\n",
       "      <td>K725E</td>\n",
       "      <td>uniprotkb:O43889-2(protein(MI:0326), 9606 - Ho...</td>\n",
       "    </tr>\n",
       "    <tr>\n",
       "      <th>8</th>\n",
       "      <td>mutation causing(MI:2227)</td>\n",
       "      <td>uniprotkb:P09871</td>\n",
       "      <td>G630E</td>\n",
       "      <td>uniprotkb:O43889-2(protein(MI:0326), 9606 - Ho...</td>\n",
       "    </tr>\n",
       "    <tr>\n",
       "      <th>9</th>\n",
       "      <td>mutation causing(MI:2227)</td>\n",
       "      <td>uniprotkb:P46527</td>\n",
       "      <td>I119T</td>\n",
       "      <td>uniprotkb:Q8N9N5-2(protein(MI:0326), 9606 - Ho...</td>\n",
       "    </tr>\n",
       "  </tbody>\n",
       "</table>\n",
       "</div>"
      ],
      "text/plain": [
       "       Mutation Effect Label Affected Protein AC Mutation  \\\n",
       "0  mutation causing(MI:2227)  uniprotkb:Q06124-2    D425A   \n",
       "1  mutation causing(MI:2227)  uniprotkb:Q06124-2    C459S   \n",
       "2  mutation causing(MI:2227)  uniprotkb:Q06124-2    Y279C   \n",
       "3  mutation causing(MI:2227)    uniprotkb:P04264    L161P   \n",
       "4  mutation causing(MI:2227)    uniprotkb:P45381    E285A   \n",
       "5  mutation causing(MI:2227)  uniprotkb:Q99697-3     L54Q   \n",
       "6  mutation causing(MI:2227)  uniprotkb:Q99697-3     L54Q   \n",
       "7  mutation causing(MI:2227)    uniprotkb:P51795    K725E   \n",
       "8  mutation causing(MI:2227)    uniprotkb:P09871    G630E   \n",
       "9  mutation causing(MI:2227)    uniprotkb:P46527    I119T   \n",
       "\n",
       "                             Interaction Participant  \n",
       "0  uniprotkb:Q6P1J9(protein(MI:0326), 9606 - Homo...  \n",
       "1  uniprotkb:Q6P1J9(protein(MI:0326), 9606 - Homo...  \n",
       "2  uniprotkb:Q6P1J9(protein(MI:0326), 9606 - Homo...  \n",
       "3  uniprotkb:P37198(protein(MI:0326), 9606 - Homo...  \n",
       "4  uniprotkb:Q14145(protein(MI:0326), 9606 - Homo...  \n",
       "5  uniprotkb:P11142(protein(MI:0326), 9606 - Homo...  \n",
       "6  uniprotkb:P08238(protein(MI:0326), 9606 - Homo...  \n",
       "7  uniprotkb:O43889-2(protein(MI:0326), 9606 - Ho...  \n",
       "8  uniprotkb:O43889-2(protein(MI:0326), 9606 - Ho...  \n",
       "9  uniprotkb:Q8N9N5-2(protein(MI:0326), 9606 - Ho...  "
      ]
     },
     "execution_count": 21,
     "metadata": {},
     "output_type": "execute_result"
    }
   ],
   "source": [
    "print(processed_data.shape)\n",
    "processed_data.head(10)"
   ]
  },
  {
   "cell_type": "markdown",
   "metadata": {},
   "source": [
    "#### Resulting data"
   ]
  },
  {
   "cell_type": "markdown",
   "metadata": {},
   "source": [
    "<div class=\"alert alert-block\" style=\"background-color: white; border: 2px solid; padding: 10px; border-color: #0097A7\">\n",
    "    <b style=\"color: #0097A7\"><i class=\"fa fa-info-circle\" aria-hidden=\"true\"></i>&nbsp; Info</b><br>\n",
    "<div>\n",
    "\n",
    "**Dataframe:** `processed_data`\n",
    "    \n",
    "Number of Entries: **36170**"
   ]
  },
  {
   "cell_type": "markdown",
   "metadata": {},
   "source": [
    "## Value Counts of **Labels**"
   ]
  },
  {
   "cell_type": "markdown",
   "metadata": {},
   "source": [
    "The distribution of *labels* (shown with `feature type` column in the data) is given below. Notice \"mutation(MI:0118)\" does not exist."
   ]
  },
  {
   "cell_type": "code",
   "execution_count": 14,
   "metadata": {},
   "outputs": [
    {
     "data": {
      "text/plain": [
       "mutation with no effect(MI:2226)         18603\n",
       "mutation disrupting strength(MI:1128)     5808\n",
       "mutation disrupting(MI:0573)              4029\n",
       "mutation decreasing(MI:0119)              2962\n",
       "mutation decreasing strength(MI:1133)     2228\n",
       "mutation increasing(MI:0382)               759\n",
       "mutation increasing strength(MI:1132)      697\n",
       "mutation causing(MI:2227)                  352\n",
       "mutation disrupting rate(MI:1129)          330\n",
       "mutation decreasing rate(MI:1130)          289\n",
       "mutation increasing rate(MI:1131)          113\n",
       "Name: Mutation Effect Label, dtype: int64"
      ]
     },
     "execution_count": 14,
     "metadata": {},
     "output_type": "execute_result"
    }
   ],
   "source": [
    "# Value counts of \"LABELS\"\n",
    "processed_data[\"Mutation Effect Label\"].value_counts()"
   ]
  },
  {
   "cell_type": "markdown",
   "metadata": {},
   "source": [
    "## Exporting `processed_data`"
   ]
  },
  {
   "cell_type": "markdown",
   "metadata": {},
   "source": [
    "Export the `process_data` as \"**processed_data_v3_rs.csv**\"."
   ]
  },
  {
   "cell_type": "code",
   "execution_count": 13,
   "metadata": {},
   "outputs": [
    {
     "data": {
      "text/plain": [
       "(36170, 4)"
      ]
     },
     "execution_count": 13,
     "metadata": {},
     "output_type": "execute_result"
    }
   ],
   "source": [
    "processed_data.shape"
   ]
  },
  {
   "cell_type": "code",
   "execution_count": 14,
   "metadata": {},
   "outputs": [],
   "source": [
    "# processed_data.to_csv(\"processed_data_v3_rs.csv\", index=False)"
   ]
  },
  {
   "cell_type": "markdown",
   "metadata": {},
   "source": [
    "----"
   ]
  }
 ],
 "metadata": {
  "interpreter": {
   "hash": "24926d39acf6b917f2b3d78c5fc2139d5dd6ade39c9b2ac7dfb87a722734377f"
  },
  "kernelspec": {
   "display_name": "Predicting-Mutation-Effects",
   "language": "python",
   "name": "predicting-mutation-effects"
  },
  "language_info": {
   "codemirror_mode": {
    "name": "ipython",
    "version": 3
   },
   "file_extension": ".py",
   "mimetype": "text/x-python",
   "name": "python",
   "nbconvert_exporter": "python",
   "pygments_lexer": "ipython3",
   "version": "3.8.10"
  }
 },
 "nbformat": 4,
 "nbformat_minor": 4
}
