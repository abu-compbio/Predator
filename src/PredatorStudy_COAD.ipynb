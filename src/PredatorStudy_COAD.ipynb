{
 "cells": [
  {
   "cell_type": "markdown",
   "id": "b0eea2f9-919a-44d2-970f-da295e7b77c5",
   "metadata": {
    "tags": [],
    "pycharm": {
     "name": "#%% md\n"
    }
   },
   "source": [
    "# PREDATOR: **PRED**icting the imp**A**ct of cancer somatic mu**T**ations on pr**O**tein-protein inte**R**actions\n"
   ]
  },
  {
   "cell_type": "markdown",
   "id": "0fc1bee2-776f-46dc-9aa7-80e979b941df",
   "metadata": {
    "pycharm": {
     "name": "#%% md\n"
    }
   },
   "source": [
    "## COAD"
   ]
  },
  {
   "cell_type": "markdown",
   "id": "f412b89c-b553-4606-95fb-d30520f77b97",
   "metadata": {
    "pycharm": {
     "name": "#%% md\n"
    }
   },
   "source": [
    "\n",
    "<b><i class=\"fa fa-folder-o\" area-hidden=\"true\" style=\"color:#1976D2\"> </i>&nbsp; File Location</b><br>\n",
    "<p style=\"background:#F5F5F5; text-indent: 1em;\">\n",
    "<code style=\"background:#F5F5F5; color:#404040; font-weight:bold; font-size:12px\">Predator\\src</code>\n",
    "</p>\n",
    "\n",
    "<b><i class=\"far fa-file\" area-hidden=\"true\" style=\"color:#1976D2\"> </i>&nbsp; File Name</b>\n",
    "<p style=\"background:#F5F5F5; text-indent: 1em;\">\n",
    "<code style=\"background:#F5F5F5; color:#404040; font-weight:bold; font-size:12px\">PredatorStudy_COAD.ipynb</code>\n",
    "</p>\n",
    "\n",
    "<b><i class=\"far fa-calendar-alt\" area-hidden=\"true\" style=\"color:#1976D2\"> </i>&nbsp; Last Edited</b>\n",
    "<p style=\"background:#F5F5F5; text-indent: 1em;\">\n",
    "<code style=\"background:#F5F5F5; color:#404040; font-weight:bold; font-size:12px\">June 17th, 2022</code>\n",
    "</p>\n"
   ]
  },
  {
   "cell_type": "markdown",
   "id": "8931daec-0e11-43e2-8a68-098571c3cc4e",
   "metadata": {
    "pycharm": {
     "name": "#%% md\n"
    }
   },
   "source": [
    "<div class=\"alert alert-block\" style=\"background-color: #F5F5F5; border: 1px solid; padding: 10px; border-color: #E0E0E0\">\n",
    "    <b><i class=\"fa fa-compass\" aria-hidden=\"true\" style=\"color:#404040\"></i></b>&nbsp; <b style=\"color: #404040\">Purpose </b> <br>\n",
    "<div>\n",
    "   \n",
    "- [x] Apply on Cancer Datasets\n",
    "    > COAD\n",
    "    \n",
    "**Dependent files:**\n",
    "\n",
    "* Target (Cancer) data: \n",
    "    - *COAD_Interface.txt*"
   ]
  },
  {
   "cell_type": "code",
   "execution_count": 3,
   "id": "3f602602-ac27-4390-9521-9bcdc73f06ef",
   "metadata": {
    "pycharm": {
     "name": "#%%\n"
    }
   },
   "outputs": [
    {
     "name": "stdout",
     "output_type": "stream",
     "text": [
      "The autoreload extension is already loaded. To reload it, use:\n",
      "  %reload_ext autoreload\n"
     ]
    }
   ],
   "source": [
    "from pathlib import Path\n",
    "\n",
    "from helpers.helpers_predator.displayers import (\n",
    "    visualize_label_counts,\n",
    "    display_data,\n",
    ")\n",
    "\n",
    "from helpers.helpers_predator.common import load_predator\n",
    "\n",
    "# PATHS\n",
    "COAD_PATH = Path(r\"../data/Elaspic_merged_results/COAD_Interface_2022-01-06.txt\")\n",
    "PREDATOR_MODEL_PATH = Path(r\"PredatorModels/PredatorModel_2022-06-16/cc84a54e/predator.pkl\")\n",
    "PREDICTIONS_DATASETS_FOLDER_PATH = \"../data/predictions_datasets/\"\n",
    "\n",
    "# Reflect changes in the modules immediately.\n",
    "%load_ext autoreload\n",
    "%autoreload 2"
   ]
  },
  {
   "cell_type": "markdown",
   "id": "c47b1edb-758c-460e-acf7-4f864330d19b",
   "metadata": {
    "pycharm": {
     "name": "#%% md\n"
    }
   },
   "source": [
    "## Load the Predator"
   ]
  },
  {
   "cell_type": "code",
   "execution_count": 2,
   "id": "0c164c31-9b7e-4366-8336-50cbc80bf9c7",
   "metadata": {
    "pycharm": {
     "name": "#%%\n"
    }
   },
   "outputs": [
    {
     "name": "stdout",
     "output_type": "stream",
     "text": [
      "2022-06-17 00:28:44 |\u001B[32m INFO     \u001B[0m| helpers.helpers_predator.common | Predator object PredatorModels\\PredatorModel_2022-06-16\\cc84a54e\\predator.pkl is loaded successfully.\n"
     ]
    }
   ],
   "source": [
    "predator = load_predator(PREDATOR_MODEL_PATH)"
   ]
  },
  {
   "cell_type": "markdown",
   "id": "60f783e4-28bb-4543-9d35-42c4b17b37b8",
   "metadata": {
    "pycharm": {
     "name": "#%% md\n"
    }
   },
   "source": [
    "## Prediction TCGA on Cancer Dataset: COAD"
   ]
  },
  {
   "cell_type": "code",
   "execution_count": 4,
   "id": "c27cc976-e356-4271-85e9-f23c9366dc67",
   "metadata": {
    "pycharm": {
     "name": "#%%\n"
    }
   },
   "outputs": [
    {
     "name": "stdout",
     "output_type": "stream",
     "text": [
      "2022-06-17 00:28:58 |\u001B[36m DEBUG    \u001B[0m| helpers.helpers_predator.data_materials | Initialize `coad` ..\n",
      "2022-06-17 00:28:58 |\u001B[36m DEBUG    \u001B[0m| helpers.helpers_predator.data_materials | Initialize `target_coad_data` ..\n",
      "2022-06-17 00:28:59 |\u001B[36m DEBUG    \u001B[0m| helpers.helpers_predator.data_materials | Initializing target data materials ..\n",
      "2022-06-17 00:28:59 |\u001B[36m DEBUG    \u001B[0m| helpers.helpers_predator.data_materials | Determined features: ['EL2_score', 'Provean_score', 'Final_ddG', 'Interactor_alignment_score', 'Matrix_score', 'Solvent_accessibility_wt', 'van_der_waals_mut', 'Solvent_accessibility_mut', 'Interactor_template_sequence_identity', 'solvation_polar_wt']\n",
      "2022-06-17 00:28:59 |\u001B[36m DEBUG    \u001B[0m| helpers.helpers_predator.data_materials | Declaring Xs_coad data materials  ..\n"
     ]
    }
   ],
   "source": [
    "predator.initialize_target_data_materials(\n",
    "    tcga_code_path_pairs=[('coad', COAD_PATH)]\n",
    ")"
   ]
  },
  {
   "cell_type": "markdown",
   "id": "245b2b8c-0c70-4cd5-9a09-b3428cf0b048",
   "metadata": {
    "tags": [],
    "pycharm": {
     "name": "#%% md\n"
    }
   },
   "source": [
    "#### TCGA Cancer Datasets"
   ]
  },
  {
   "cell_type": "markdown",
   "id": "4ab061ec-37b5-4651-a5c0-1f1238e7a08a",
   "metadata": {
    "pycharm": {
     "name": "#%% md\n"
    }
   },
   "source": [
    "##### COAD"
   ]
  },
  {
   "cell_type": "code",
   "execution_count": 5,
   "id": "342221d3-8e16-42eb-9801-20a3efed64f5",
   "metadata": {
    "pycharm": {
     "name": "#%%\n"
    }
   },
   "outputs": [
    {
     "name": "stdout",
     "output_type": "stream",
     "text": [
      "\u001B[36mData dimensions: (14822, 103)\u001B[0m\n"
     ]
    },
    {
     "data": {
      "text/plain": "  Input_identifier UniProt_ID Mutation Status       Type COSMIC_mut_ID  \\\n0           P62873     P62873    S334I   done  interface             -   \n1           Q9BXB4     Q9BXB4    N590D   done  interface    COSM273062   \n2           Q9BXB4     Q9BXB4    N590D   done  interface    COSM273062   \n\n  ClinVar_mut_ID UniProt_mut_ID   Domain_name     Domain_clan  ...  \\\n0              -              -          WD40  Beta_propeller  ...   \n1              -              -  Oxysterol_BP    Oxysterol_BP  ...   \n2              -              -  Oxysterol_BP    Oxysterol_BP  ...   \n\n  number_of_residues_mut IntraclashesEnergy1_wt  IntraclashesEnergy1_mut  \\\n0                  567.0                128.711                  135.025   \n1                  742.0                464.479                  464.478   \n2                  742.0                464.479                  464.478   \n\n   IntraclashesEnergy2_wt IntraclashesEnergy2_mut Interface_hydrophobic_area  \\\n0                 73.3808                 73.3852                     894.75   \n1                199.2630                199.2630                    514.015   \n2                199.2630                199.2630                    514.015   \n\n  Interface_hydrophilic_area Interface_total_area  \\\n0                     661.58              1556.32   \n1                     268.27              782.285   \n2                     268.27              782.285   \n\n  Interface_contact_distance_wt  Interface_contact_distance_mut  \n0                       6.34896                         3.64695  \n1                       5.08133                         3.32753  \n2                       5.08133                         3.32753  \n\n[3 rows x 103 columns]",
      "text/html": "<div>\n<style scoped>\n    .dataframe tbody tr th:only-of-type {\n        vertical-align: middle;\n    }\n\n    .dataframe tbody tr th {\n        vertical-align: top;\n    }\n\n    .dataframe thead th {\n        text-align: right;\n    }\n</style>\n<table border=\"1\" class=\"dataframe\">\n  <thead>\n    <tr style=\"text-align: right;\">\n      <th></th>\n      <th>Input_identifier</th>\n      <th>UniProt_ID</th>\n      <th>Mutation</th>\n      <th>Status</th>\n      <th>Type</th>\n      <th>COSMIC_mut_ID</th>\n      <th>ClinVar_mut_ID</th>\n      <th>UniProt_mut_ID</th>\n      <th>Domain_name</th>\n      <th>Domain_clan</th>\n      <th>...</th>\n      <th>number_of_residues_mut</th>\n      <th>IntraclashesEnergy1_wt</th>\n      <th>IntraclashesEnergy1_mut</th>\n      <th>IntraclashesEnergy2_wt</th>\n      <th>IntraclashesEnergy2_mut</th>\n      <th>Interface_hydrophobic_area</th>\n      <th>Interface_hydrophilic_area</th>\n      <th>Interface_total_area</th>\n      <th>Interface_contact_distance_wt</th>\n      <th>Interface_contact_distance_mut</th>\n    </tr>\n  </thead>\n  <tbody>\n    <tr>\n      <th>0</th>\n      <td>P62873</td>\n      <td>P62873</td>\n      <td>S334I</td>\n      <td>done</td>\n      <td>interface</td>\n      <td>-</td>\n      <td>-</td>\n      <td>-</td>\n      <td>WD40</td>\n      <td>Beta_propeller</td>\n      <td>...</td>\n      <td>567.0</td>\n      <td>128.711</td>\n      <td>135.025</td>\n      <td>73.3808</td>\n      <td>73.3852</td>\n      <td>894.75</td>\n      <td>661.58</td>\n      <td>1556.32</td>\n      <td>6.34896</td>\n      <td>3.64695</td>\n    </tr>\n    <tr>\n      <th>1</th>\n      <td>Q9BXB4</td>\n      <td>Q9BXB4</td>\n      <td>N590D</td>\n      <td>done</td>\n      <td>interface</td>\n      <td>COSM273062</td>\n      <td>-</td>\n      <td>-</td>\n      <td>Oxysterol_BP</td>\n      <td>Oxysterol_BP</td>\n      <td>...</td>\n      <td>742.0</td>\n      <td>464.479</td>\n      <td>464.478</td>\n      <td>199.2630</td>\n      <td>199.2630</td>\n      <td>514.015</td>\n      <td>268.27</td>\n      <td>782.285</td>\n      <td>5.08133</td>\n      <td>3.32753</td>\n    </tr>\n    <tr>\n      <th>2</th>\n      <td>Q9BXB4</td>\n      <td>Q9BXB4</td>\n      <td>N590D</td>\n      <td>done</td>\n      <td>interface</td>\n      <td>COSM273062</td>\n      <td>-</td>\n      <td>-</td>\n      <td>Oxysterol_BP</td>\n      <td>Oxysterol_BP</td>\n      <td>...</td>\n      <td>742.0</td>\n      <td>464.479</td>\n      <td>464.478</td>\n      <td>199.2630</td>\n      <td>199.2630</td>\n      <td>514.015</td>\n      <td>268.27</td>\n      <td>782.285</td>\n      <td>5.08133</td>\n      <td>3.32753</td>\n    </tr>\n  </tbody>\n</table>\n<p>3 rows × 103 columns</p>\n</div>"
     },
     "metadata": {},
     "output_type": "display_data"
    }
   ],
   "source": [
    "display_data(predator.data_materials[\"coad\"])"
   ]
  },
  {
   "cell_type": "markdown",
   "id": "a22d630d-e0a0-4417-aa64-0df18f8f3a63",
   "metadata": {
    "tags": [],
    "pycharm": {
     "name": "#%% md\n"
    }
   },
   "source": [
    "#### Preprocessed TCGA Cancer Datasets"
   ]
  },
  {
   "cell_type": "markdown",
   "id": "ca038a01-2691-4943-9d7e-55a41661f3cc",
   "metadata": {
    "pycharm": {
     "name": "#%% md\n"
    }
   },
   "source": [
    "##### COAD"
   ]
  },
  {
   "cell_type": "code",
   "execution_count": 6,
   "id": "67f55bd2-c25a-4d6c-ba5b-08957cf03852",
   "metadata": {
    "pycharm": {
     "name": "#%%\n"
    }
   },
   "outputs": [
    {
     "name": "stdout",
     "output_type": "stream",
     "text": [
      "\u001B[36mData dimensions: (14822, 61)\u001B[0m\n"
     ]
    },
    {
     "data": {
      "text/plain": "  UniProt_ID Mutation Interactor_UniProt_ID  Template_sequence_identity  \\\n0     P62873    S334I                Q13371                      0.9971   \n1     Q9BXB4    N590D                Q96SU4                      0.2949   \n2     Q9BXB4    N590D              Q96SU4-3                      0.2949   \n\n   Alignment_score  Interactor_template_sequence_identity  \\\n0         0.997245                                 0.4626   \n1         0.330155                                 0.3590   \n2         0.330155                                 0.3590   \n\n   Interactor_alignment_score  Final_ddG  ProtBert_score  ProteinSolver_score  \\\n0                    0.417706   0.674524        0.962441             0.018744   \n1                    0.367350   1.239310        0.122305             0.004189   \n2                    0.367350   1.239310        0.122305             0.004189   \n\n   ...  number_of_residues_mut  IntraclashesEnergy1_wt  \\\n0  ...                   567.0                 128.711   \n1  ...                   742.0                 464.479   \n2  ...                   742.0                 464.479   \n\n   IntraclashesEnergy1_mut  IntraclashesEnergy2_wt  IntraclashesEnergy2_mut  \\\n0                  135.025                 73.3808                  73.3852   \n1                  464.478                199.2630                 199.2630   \n2                  464.478                199.2630                 199.2630   \n\n   Interface_hydrophobic_area  Interface_hydrophilic_area  \\\n0                     894.750                      661.58   \n1                     514.015                      268.27   \n2                     514.015                      268.27   \n\n   Interface_total_area  Interface_contact_distance_wt  \\\n0              1556.320                        6.34896   \n1               782.285                        5.08133   \n2               782.285                        5.08133   \n\n   Interface_contact_distance_mut  \n0                         3.64695  \n1                         3.32753  \n2                         3.32753  \n\n[3 rows x 61 columns]",
      "text/html": "<div>\n<style scoped>\n    .dataframe tbody tr th:only-of-type {\n        vertical-align: middle;\n    }\n\n    .dataframe tbody tr th {\n        vertical-align: top;\n    }\n\n    .dataframe thead th {\n        text-align: right;\n    }\n</style>\n<table border=\"1\" class=\"dataframe\">\n  <thead>\n    <tr style=\"text-align: right;\">\n      <th></th>\n      <th>UniProt_ID</th>\n      <th>Mutation</th>\n      <th>Interactor_UniProt_ID</th>\n      <th>Template_sequence_identity</th>\n      <th>Alignment_score</th>\n      <th>Interactor_template_sequence_identity</th>\n      <th>Interactor_alignment_score</th>\n      <th>Final_ddG</th>\n      <th>ProtBert_score</th>\n      <th>ProteinSolver_score</th>\n      <th>...</th>\n      <th>number_of_residues_mut</th>\n      <th>IntraclashesEnergy1_wt</th>\n      <th>IntraclashesEnergy1_mut</th>\n      <th>IntraclashesEnergy2_wt</th>\n      <th>IntraclashesEnergy2_mut</th>\n      <th>Interface_hydrophobic_area</th>\n      <th>Interface_hydrophilic_area</th>\n      <th>Interface_total_area</th>\n      <th>Interface_contact_distance_wt</th>\n      <th>Interface_contact_distance_mut</th>\n    </tr>\n  </thead>\n  <tbody>\n    <tr>\n      <th>0</th>\n      <td>P62873</td>\n      <td>S334I</td>\n      <td>Q13371</td>\n      <td>0.9971</td>\n      <td>0.997245</td>\n      <td>0.4626</td>\n      <td>0.417706</td>\n      <td>0.674524</td>\n      <td>0.962441</td>\n      <td>0.018744</td>\n      <td>...</td>\n      <td>567.0</td>\n      <td>128.711</td>\n      <td>135.025</td>\n      <td>73.3808</td>\n      <td>73.3852</td>\n      <td>894.750</td>\n      <td>661.58</td>\n      <td>1556.320</td>\n      <td>6.34896</td>\n      <td>3.64695</td>\n    </tr>\n    <tr>\n      <th>1</th>\n      <td>Q9BXB4</td>\n      <td>N590D</td>\n      <td>Q96SU4</td>\n      <td>0.2949</td>\n      <td>0.330155</td>\n      <td>0.3590</td>\n      <td>0.367350</td>\n      <td>1.239310</td>\n      <td>0.122305</td>\n      <td>0.004189</td>\n      <td>...</td>\n      <td>742.0</td>\n      <td>464.479</td>\n      <td>464.478</td>\n      <td>199.2630</td>\n      <td>199.2630</td>\n      <td>514.015</td>\n      <td>268.27</td>\n      <td>782.285</td>\n      <td>5.08133</td>\n      <td>3.32753</td>\n    </tr>\n    <tr>\n      <th>2</th>\n      <td>Q9BXB4</td>\n      <td>N590D</td>\n      <td>Q96SU4-3</td>\n      <td>0.2949</td>\n      <td>0.330155</td>\n      <td>0.3590</td>\n      <td>0.367350</td>\n      <td>1.239310</td>\n      <td>0.122305</td>\n      <td>0.004189</td>\n      <td>...</td>\n      <td>742.0</td>\n      <td>464.479</td>\n      <td>464.478</td>\n      <td>199.2630</td>\n      <td>199.2630</td>\n      <td>514.015</td>\n      <td>268.27</td>\n      <td>782.285</td>\n      <td>5.08133</td>\n      <td>3.32753</td>\n    </tr>\n  </tbody>\n</table>\n<p>3 rows × 61 columns</p>\n</div>"
     },
     "metadata": {},
     "output_type": "display_data"
    }
   ],
   "source": [
    "display_data(predator.data_materials[\"target_coad_data\"])"
   ]
  },
  {
   "cell_type": "markdown",
   "id": "6cd1cc76-b56f-4789-b3b9-bf907fe7399e",
   "metadata": {
    "tags": [],
    "pycharm": {
     "name": "#%% md\n"
    }
   },
   "source": [
    "### Voting mode: `soft`"
   ]
  },
  {
   "cell_type": "code",
   "execution_count": 7,
   "id": "44e95ef5-2482-4d0d-93fa-305004853f7c",
   "metadata": {
    "pycharm": {
     "name": "#%%\n"
    }
   },
   "outputs": [
    {
     "name": "stdout",
     "output_type": "stream",
     "text": [
      "2022-06-17 00:29:16 |\u001B[36m DEBUG    \u001B[0m| helpers.helpers_predator.data_materials | Initialize `coad` ..\n",
      "2022-06-17 00:29:16 |\u001B[36m DEBUG    \u001B[0m| helpers.helpers_predator.data_materials | Initialize `target_coad_data` ..\n",
      "2022-06-17 00:29:17 |\u001B[36m DEBUG    \u001B[0m| helpers.helpers_predator.data_materials | Initializing target data materials ..\n",
      "2022-06-17 00:29:17 |\u001B[36m DEBUG    \u001B[0m| helpers.helpers_predator.data_materials | Determined features: ['EL2_score', 'Provean_score', 'Final_ddG', 'Interactor_alignment_score', 'Matrix_score', 'Solvent_accessibility_wt', 'van_der_waals_mut', 'Solvent_accessibility_mut', 'Interactor_template_sequence_identity', 'solvation_polar_wt']\n",
      "2022-06-17 00:29:17 |\u001B[36m DEBUG    \u001B[0m| helpers.helpers_predator.data_materials | Declaring Xs_coad data materials  ..\n"
     ]
    }
   ],
   "source": [
    "predator.initialize_target_data_materials(\n",
    "    tcga_code_path_pairs=[('coad', COAD_PATH)]\n",
    ")"
   ]
  },
  {
   "cell_type": "code",
   "execution_count": 8,
   "id": "323fbd63-7e32-471f-8cee-4b0abf9d82dc",
   "metadata": {
    "scrolled": true,
    "tags": [],
    "pycharm": {
     "name": "#%%\n"
    }
   },
   "outputs": [
    {
     "name": "stdout",
     "output_type": "stream",
     "text": [
      "2022-06-17 00:29:22 |\u001B[36m DEBUG    \u001B[0m| Predator | Predicting on cancer datasets ..\n",
      "2022-06-17 00:29:22 |\u001B[36m DEBUG    \u001B[0m| helpers.helpers_predator.models | Initializing EnsambledVotingClassifier.\n",
      "2022-06-17 00:29:22 |\u001B[36m DEBUG    \u001B[0m| helpers.helpers_predator.models | Voting mode: soft\n",
      "2022-06-17 00:29:22 |\u001B[36m DEBUG    \u001B[0m| helpers.helpers_predator.predictions | Initializing: PredictionsSoft\n",
      "2022-06-17 00:29:22 |\u001B[36m DEBUG    \u001B[0m| Predator | Predicting on coad cohort ..\n",
      "2022-06-17 00:29:22 |\u001B[36m DEBUG    \u001B[0m| helpers.helpers_predator.models | Current estimator: RandomForestClassifier(max_depth=7, min_samples_leaf=4, min_samples_split=5,\n",
      "                       n_estimators=380, random_state=3279)\n",
      "2022-06-17 00:29:22 |\u001B[36m DEBUG    \u001B[0m| helpers.helpers_predator.models | X shape: (14822, 10)\n",
      "2022-06-17 00:29:23 |\u001B[36m DEBUG    \u001B[0m| helpers.helpers_predator.models | Current estimator: RandomForestClassifier(class_weight='balanced', max_depth=2, min_samples_leaf=2,\n",
      "                       min_samples_split=5, n_estimators=90,\n",
      "                       random_state=97197)\n",
      "2022-06-17 00:29:23 |\u001B[36m DEBUG    \u001B[0m| helpers.helpers_predator.models | X shape: (14822, 10)\n",
      "2022-06-17 00:29:23 |\u001B[36m DEBUG    \u001B[0m| helpers.helpers_predator.models | Current estimator: RandomForestClassifier(bootstrap=False, class_weight='balanced', max_depth=5,\n",
      "                       min_samples_leaf=2, n_estimators=500,\n",
      "                       random_state=29257)\n",
      "2022-06-17 00:29:23 |\u001B[36m DEBUG    \u001B[0m| helpers.helpers_predator.models | X shape: (14822, 10)\n",
      "2022-06-17 00:29:24 |\u001B[36m DEBUG    \u001B[0m| helpers.helpers_predator.models | Current estimator: RandomForestClassifier(class_weight='balanced', max_depth=3, min_samples_leaf=4,\n",
      "                       min_samples_split=5, n_estimators=480,\n",
      "                       random_state=96531)\n",
      "2022-06-17 00:29:24 |\u001B[36m DEBUG    \u001B[0m| helpers.helpers_predator.models | X shape: (14822, 10)\n",
      "2022-06-17 00:29:24 |\u001B[36m DEBUG    \u001B[0m| helpers.helpers_predator.models | Current estimator: RandomForestClassifier(class_weight='balanced', max_depth=13,\n",
      "                       min_samples_leaf=2, min_samples_split=5, n_estimators=80,\n",
      "                       random_state=13435)\n",
      "2022-06-17 00:29:24 |\u001B[36m DEBUG    \u001B[0m| helpers.helpers_predator.models | X shape: (14822, 10)\n",
      "2022-06-17 00:29:24 |\u001B[36m DEBUG    \u001B[0m| helpers.helpers_predator.models | Current estimator: RandomForestClassifier(class_weight='balanced', max_depth=10,\n",
      "                       max_features='sqrt', min_samples_leaf=4,\n",
      "                       n_estimators=340, random_state=88697)\n",
      "2022-06-17 00:29:24 |\u001B[36m DEBUG    \u001B[0m| helpers.helpers_predator.models | X shape: (14822, 10)\n",
      "2022-06-17 00:29:25 |\u001B[36m DEBUG    \u001B[0m| helpers.helpers_predator.models | Current estimator: RandomForestClassifier(class_weight='balanced', max_depth=2,\n",
      "                       max_features='sqrt', min_samples_leaf=4, n_estimators=5,\n",
      "                       random_state=97081)\n",
      "2022-06-17 00:29:25 |\u001B[36m DEBUG    \u001B[0m| helpers.helpers_predator.models | X shape: (14822, 10)\n",
      "2022-06-17 00:29:25 |\u001B[36m DEBUG    \u001B[0m| helpers.helpers_predator.models | Current estimator: RandomForestClassifier(bootstrap=False, class_weight='balanced', max_depth=9,\n",
      "                       max_features='sqrt', min_samples_leaf=2, n_estimators=50,\n",
      "                       random_state=77398)\n",
      "2022-06-17 00:29:25 |\u001B[36m DEBUG    \u001B[0m| helpers.helpers_predator.models | X shape: (14822, 10)\n",
      "2022-06-17 00:29:25 |\u001B[36m DEBUG    \u001B[0m| helpers.helpers_predator.models | Current estimator: RandomForestClassifier(class_weight='balanced', max_depth=2, n_estimators=50,\n",
      "                       random_state=55303)\n",
      "2022-06-17 00:29:25 |\u001B[36m DEBUG    \u001B[0m| helpers.helpers_predator.models | X shape: (14822, 10)\n",
      "2022-06-17 00:29:25 |\u001B[36m DEBUG    \u001B[0m| helpers.helpers_predator.models | Current estimator: RandomForestClassifier(bootstrap=False, class_weight='balanced', max_depth=5,\n",
      "                       min_samples_leaf=2, n_estimators=200, random_state=4166)\n",
      "2022-06-17 00:29:25 |\u001B[36m DEBUG    \u001B[0m| helpers.helpers_predator.models | X shape: (14822, 10)\n",
      "2022-06-17 00:29:25 |\u001B[36m DEBUG    \u001B[0m| helpers.helpers_predator.models | Current estimator: RandomForestClassifier(min_samples_leaf=2, n_estimators=60, random_state=3906)\n",
      "2022-06-17 00:29:25 |\u001B[36m DEBUG    \u001B[0m| helpers.helpers_predator.models | X shape: (14822, 10)\n",
      "2022-06-17 00:29:25 |\u001B[36m DEBUG    \u001B[0m| helpers.helpers_predator.models | Current estimator: RandomForestClassifier(class_weight='balanced', max_depth=13, max_features=None,\n",
      "                       min_samples_leaf=2, min_samples_split=5,\n",
      "                       n_estimators=600, random_state=12281)\n",
      "2022-06-17 00:29:25 |\u001B[36m DEBUG    \u001B[0m| helpers.helpers_predator.models | X shape: (14822, 10)\n",
      "2022-06-17 00:29:26 |\u001B[36m DEBUG    \u001B[0m| helpers.helpers_predator.models | Current estimator: RandomForestClassifier(bootstrap=False, class_weight='balanced', max_depth=6,\n",
      "                       min_samples_leaf=2, n_estimators=90, random_state=28658)\n",
      "2022-06-17 00:29:26 |\u001B[36m DEBUG    \u001B[0m| helpers.helpers_predator.models | X shape: (14822, 10)\n",
      "2022-06-17 00:29:26 |\u001B[36m DEBUG    \u001B[0m| helpers.helpers_predator.models | Current estimator: RandomForestClassifier(class_weight='balanced', max_depth=6,\n",
      "                       max_features='sqrt', min_samples_leaf=2, n_estimators=10,\n",
      "                       random_state=30496)\n",
      "2022-06-17 00:29:26 |\u001B[36m DEBUG    \u001B[0m| helpers.helpers_predator.models | X shape: (14822, 10)\n",
      "2022-06-17 00:29:26 |\u001B[36m DEBUG    \u001B[0m| helpers.helpers_predator.models | Current estimator: RandomForestClassifier(bootstrap=False, class_weight='balanced', max_depth=13,\n",
      "                       max_features=None, n_estimators=360, random_state=78908)\n",
      "2022-06-17 00:29:26 |\u001B[36m DEBUG    \u001B[0m| helpers.helpers_predator.models | X shape: (14822, 10)\n",
      "2022-06-17 00:29:27 |\u001B[36m DEBUG    \u001B[0m| helpers.helpers_predator.models | Current estimator: RandomForestClassifier(class_weight='balanced', max_depth=3,\n",
      "                       max_features='sqrt', min_samples_split=5,\n",
      "                       n_estimators=10, random_state=3479)\n",
      "2022-06-17 00:29:27 |\u001B[36m DEBUG    \u001B[0m| helpers.helpers_predator.models | X shape: (14822, 10)\n",
      "2022-06-17 00:29:27 |\u001B[36m DEBUG    \u001B[0m| helpers.helpers_predator.models | Current estimator: RandomForestClassifier(class_weight='balanced', max_depth=11,\n",
      "                       max_features='sqrt', min_samples_leaf=4, n_estimators=80,\n",
      "                       random_state=73564)\n",
      "2022-06-17 00:29:27 |\u001B[36m DEBUG    \u001B[0m| helpers.helpers_predator.models | X shape: (14822, 10)\n",
      "2022-06-17 00:29:27 |\u001B[36m DEBUG    \u001B[0m| helpers.helpers_predator.models | Current estimator: RandomForestClassifier(class_weight='balanced', max_depth=10,\n",
      "                       min_samples_leaf=2, min_samples_split=5,\n",
      "                       n_estimators=300, random_state=26063)\n",
      "2022-06-17 00:29:27 |\u001B[36m DEBUG    \u001B[0m| helpers.helpers_predator.models | X shape: (14822, 10)\n",
      "2022-06-17 00:29:27 |\u001B[36m DEBUG    \u001B[0m| helpers.helpers_predator.models | Current estimator: RandomForestClassifier(class_weight='balanced', max_depth=14,\n",
      "                       min_samples_leaf=4, min_samples_split=5,\n",
      "                       n_estimators=440, random_state=85182)\n",
      "2022-06-17 00:29:27 |\u001B[36m DEBUG    \u001B[0m| helpers.helpers_predator.models | X shape: (14822, 10)\n",
      "2022-06-17 00:29:28 |\u001B[36m DEBUG    \u001B[0m| helpers.helpers_predator.models | Current estimator: RandomForestClassifier(bootstrap=False, class_weight='balanced', max_depth=5,\n",
      "                       min_samples_leaf=4, min_samples_split=5,\n",
      "                       n_estimators=200, random_state=91925)\n",
      "2022-06-17 00:29:28 |\u001B[36m DEBUG    \u001B[0m| helpers.helpers_predator.models | X shape: (14822, 10)\n",
      "2022-06-17 00:29:28 |\u001B[36m DEBUG    \u001B[0m| helpers.helpers_predator.models | Current estimator: RandomForestClassifier(max_depth=7, max_features='sqrt', min_samples_split=5,\n",
      "                       n_estimators=40, random_state=71427)\n",
      "2022-06-17 00:29:28 |\u001B[36m DEBUG    \u001B[0m| helpers.helpers_predator.models | X shape: (14822, 10)\n",
      "2022-06-17 00:29:28 |\u001B[36m DEBUG    \u001B[0m| helpers.helpers_predator.models | Current estimator: RandomForestClassifier(bootstrap=False, max_features='sqrt', n_estimators=10,\n",
      "                       random_state=28894)\n",
      "2022-06-17 00:29:28 |\u001B[36m DEBUG    \u001B[0m| helpers.helpers_predator.models | X shape: (14822, 10)\n",
      "2022-06-17 00:29:28 |\u001B[36m DEBUG    \u001B[0m| helpers.helpers_predator.models | Current estimator: RandomForestClassifier(class_weight='balanced', max_depth=8,\n",
      "                       max_features='sqrt', min_samples_leaf=2,\n",
      "                       min_samples_split=5, n_estimators=600,\n",
      "                       random_state=58879)\n",
      "2022-06-17 00:29:28 |\u001B[36m DEBUG    \u001B[0m| helpers.helpers_predator.models | X shape: (14822, 10)\n",
      "2022-06-17 00:29:29 |\u001B[36m DEBUG    \u001B[0m| helpers.helpers_predator.models | Current estimator: RandomForestClassifier(class_weight='balanced', max_depth=2,\n",
      "                       max_features='sqrt', min_samples_split=5,\n",
      "                       n_estimators=340, random_state=77237)\n",
      "2022-06-17 00:29:29 |\u001B[36m DEBUG    \u001B[0m| helpers.helpers_predator.models | X shape: (14822, 10)\n",
      "2022-06-17 00:29:29 |\u001B[36m DEBUG    \u001B[0m| helpers.helpers_predator.models | Current estimator: RandomForestClassifier(bootstrap=False, max_depth=3, min_samples_leaf=4,\n",
      "                       min_samples_split=5, n_estimators=500, random_state=852)\n",
      "2022-06-17 00:29:29 |\u001B[36m DEBUG    \u001B[0m| helpers.helpers_predator.models | X shape: (14822, 10)\n",
      "2022-06-17 00:29:30 |\u001B[36m DEBUG    \u001B[0m| helpers.helpers_predator.models | Current estimator: RandomForestClassifier(class_weight='balanced', max_depth=3,\n",
      "                       max_features='sqrt', min_samples_leaf=4,\n",
      "                       min_samples_split=5, n_estimators=420,\n",
      "                       random_state=99459)\n",
      "2022-06-17 00:29:30 |\u001B[36m DEBUG    \u001B[0m| helpers.helpers_predator.models | X shape: (14822, 10)\n",
      "2022-06-17 00:29:30 |\u001B[36m DEBUG    \u001B[0m| helpers.helpers_predator.models | Current estimator: RandomForestClassifier(class_weight='balanced', max_depth=14,\n",
      "                       max_features='sqrt', min_samples_leaf=2,\n",
      "                       n_estimators=360, random_state=20927)\n",
      "2022-06-17 00:29:30 |\u001B[36m DEBUG    \u001B[0m| helpers.helpers_predator.models | X shape: (14822, 10)\n",
      "2022-06-17 00:29:31 |\u001B[36m DEBUG    \u001B[0m| helpers.helpers_predator.models | Current estimator: RandomForestClassifier(max_depth=8, min_samples_leaf=2, min_samples_split=5,\n",
      "                       n_estimators=180, random_state=91507)\n",
      "2022-06-17 00:29:31 |\u001B[36m DEBUG    \u001B[0m| helpers.helpers_predator.models | X shape: (14822, 10)\n",
      "2022-06-17 00:29:31 |\u001B[36m DEBUG    \u001B[0m| helpers.helpers_predator.models | Current estimator: RandomForestClassifier(bootstrap=False, class_weight='balanced', max_depth=12,\n",
      "                       max_features=None, min_samples_leaf=2, n_estimators=280,\n",
      "                       random_state=44598)\n",
      "2022-06-17 00:29:31 |\u001B[36m DEBUG    \u001B[0m| helpers.helpers_predator.models | X shape: (14822, 10)\n",
      "2022-06-17 00:29:32 |\u001B[36m DEBUG    \u001B[0m| helpers.helpers_predator.models | Current estimator: RandomForestClassifier(class_weight='balanced', max_depth=10, max_features=None,\n",
      "                       n_estimators=20, random_state=36422)\n",
      "2022-06-17 00:29:32 |\u001B[36m DEBUG    \u001B[0m| helpers.helpers_predator.models | X shape: (14822, 10)\n",
      "2022-06-17 00:29:32 |\u001B[36m DEBUG    \u001B[0m| helpers.helpers_predator.models | Current estimator: RandomForestClassifier(bootstrap=False, class_weight='balanced', max_depth=14,\n",
      "                       min_samples_split=5, n_estimators=340,\n",
      "                       random_state=20380)\n",
      "2022-06-17 00:29:32 |\u001B[36m DEBUG    \u001B[0m| helpers.helpers_predator.models | X shape: (14822, 10)\n",
      "2022-06-17 00:29:32 |\u001B[36m DEBUG    \u001B[0m| helpers.helpers_predator.models | Current estimator: RandomForestClassifier(class_weight='balanced', min_samples_leaf=4,\n",
      "                       min_samples_split=5, n_estimators=20,\n",
      "                       random_state=28222)\n",
      "2022-06-17 00:29:32 |\u001B[36m DEBUG    \u001B[0m| helpers.helpers_predator.models | X shape: (14822, 10)\n",
      "2022-06-17 00:29:32 |\u001B[36m DEBUG    \u001B[0m| helpers.helpers_predator.models | Current estimator: RandomForestClassifier(class_weight='balanced', max_depth=13,\n",
      "                       max_features='sqrt', min_samples_leaf=2,\n",
      "                       n_estimators=360, random_state=44119)\n",
      "2022-06-17 00:29:32 |\u001B[36m DEBUG    \u001B[0m| helpers.helpers_predator.models | X shape: (14822, 10)\n",
      "2022-06-17 00:29:33 |\u001B[36m DEBUG    \u001B[0m| helpers.helpers_predator.models | Current estimator: RandomForestClassifier(max_depth=10, max_features='sqrt', n_estimators=340,\n",
      "                       random_state=13397)\n",
      "2022-06-17 00:29:33 |\u001B[36m DEBUG    \u001B[0m| helpers.helpers_predator.models | X shape: (14822, 10)\n",
      "2022-06-17 00:29:33 |\u001B[36m DEBUG    \u001B[0m| helpers.helpers_predator.models | Current estimator: RandomForestClassifier(class_weight='balanced', max_depth=9, max_features=None,\n",
      "                       min_samples_leaf=2, n_estimators=200,\n",
      "                       random_state=12157)\n",
      "2022-06-17 00:29:33 |\u001B[36m DEBUG    \u001B[0m| helpers.helpers_predator.models | X shape: (14822, 10)\n",
      "2022-06-17 00:29:34 |\u001B[36m DEBUG    \u001B[0m| helpers.helpers_predator.models | Current estimator: RandomForestClassifier(bootstrap=False, max_depth=12, max_features=None,\n",
      "                       min_samples_leaf=4, min_samples_split=5, n_estimators=40,\n",
      "                       random_state=49798)\n",
      "2022-06-17 00:29:34 |\u001B[36m DEBUG    \u001B[0m| helpers.helpers_predator.models | X shape: (14822, 10)\n",
      "2022-06-17 00:29:34 |\u001B[36m DEBUG    \u001B[0m| helpers.helpers_predator.models | Current estimator: RandomForestClassifier(class_weight='balanced', max_depth=5, min_samples_leaf=4,\n",
      "                       n_estimators=40, random_state=12677)\n",
      "2022-06-17 00:29:34 |\u001B[36m DEBUG    \u001B[0m| helpers.helpers_predator.models | X shape: (14822, 10)\n",
      "2022-06-17 00:29:34 |\u001B[36m DEBUG    \u001B[0m| helpers.helpers_predator.models | Current estimator: RandomForestClassifier(class_weight='balanced', max_depth=6, min_samples_leaf=4,\n",
      "                       min_samples_split=5, n_estimators=420,\n",
      "                       random_state=47053)\n",
      "2022-06-17 00:29:34 |\u001B[36m DEBUG    \u001B[0m| helpers.helpers_predator.models | X shape: (14822, 10)\n",
      "2022-06-17 00:29:34 |\u001B[36m DEBUG    \u001B[0m| helpers.helpers_predator.predictions | PredictionsSoft\n",
      "2022-06-17 00:29:34 |\u001B[36m DEBUG    \u001B[0m| helpers.helpers_predator.predictions | Predicting probabilities on coad cohort ..\n",
      "2022-06-17 00:29:34 |\u001B[36m DEBUG    \u001B[0m| helpers.helpers_predator.predictions | Adding key `coad_prob` to self.predictions\n"
     ]
    }
   ],
   "source": [
    "predator.predict(voting='soft')"
   ]
  },
  {
   "cell_type": "code",
   "execution_count": 9,
   "id": "341a1a27-928b-47ae-9d45-69ec13771b81",
   "metadata": {
    "pycharm": {
     "name": "#%%\n"
    }
   },
   "outputs": [
    {
     "data": {
      "text/plain": "dict_keys(['coad_prob'])"
     },
     "execution_count": 9,
     "metadata": {},
     "output_type": "execute_result"
    }
   ],
   "source": [
    "predator.predictions.keys()"
   ]
  },
  {
   "cell_type": "code",
   "execution_count": 10,
   "id": "d7054f49-ad45-408f-88b4-0e608fc81e81",
   "metadata": {
    "pycharm": {
     "name": "#%%\n"
    }
   },
   "outputs": [
    {
     "data": {
      "text/plain": "[array([[0.40282868, 0.59717132],\n        [0.45644079, 0.54355921],\n        [0.45644079, 0.54355921],\n        ...,\n        [0.38068576, 0.61931424],\n        [0.54659536, 0.45340464],\n        [0.91127129, 0.08872871]]),\n array([[0.44560671, 0.55439329],\n        [0.6023161 , 0.3976839 ],\n        [0.6023161 , 0.3976839 ],\n        ...,\n        [0.52867091, 0.47132909],\n        [0.65784435, 0.34215565],\n        [0.81689079, 0.18310921]]),\n array([[0.38368084, 0.61631916],\n        [0.70143272, 0.29856728],\n        [0.70143272, 0.29856728],\n        ...,\n        [0.35172671, 0.64827329],\n        [0.37471592, 0.62528408],\n        [0.87838541, 0.12161459]])]"
     },
     "execution_count": 10,
     "metadata": {},
     "output_type": "execute_result"
    }
   ],
   "source": [
    "# Predictions for first 10 experiment.\n",
    "predator.predictions[\"coad_prob\"][:3]"
   ]
  },
  {
   "cell_type": "markdown",
   "id": "83e49c0d-9f61-4f48-a23d-8a21e9875041",
   "metadata": {
    "pycharm": {
     "name": "#%% md\n"
    }
   },
   "source": [
    "#### Predictions Post Processing"
   ]
  },
  {
   "cell_type": "markdown",
   "id": "3d18567f-1748-4446-bb12-8062515f02bd",
   "metadata": {
    "pycharm": {
     "name": "#%% md\n"
    }
   },
   "source": [
    "Post processing of predictions involves following steps:"
   ]
  },
  {
   "cell_type": "markdown",
   "id": "45aad6d0-0e73-413e-8b32-fbcb2bcc5426",
   "metadata": {
    "pycharm": {
     "name": "#%% md\n"
    }
   },
   "source": [
    "##### 1. Merging Predictions with SNV Data"
   ]
  },
  {
   "cell_type": "markdown",
   "id": "ba9bda7c-5736-4c44-8663-ec63927976db",
   "metadata": {
    "pycharm": {
     "name": "#%% md\n"
    }
   },
   "source": [
    "The prediction column is merged with SNV data for each experiment.\n",
    "\n",
    "$\\text{For each experiment } n: $\n",
    "\n",
    "$$\n",
    "  \\textit{(Prediction Merged Data)}_n = \\underbrace{[\\textit{Predictions}_n]}_\\text{Probs Percentages} + \n",
    "      \\underbrace{[\\textit{Protein }] [\\textit{Mutation }] [\\textit{Interactor }]}_\\text{Cancer Data Triplets} + \\underbrace{[\\textit{Features }] }_\\text{Elaspic}\n",
    "$$\n"
   ]
  },
  {
   "cell_type": "markdown",
   "id": "8b14c7d7-914f-40af-b695-b962c33ed9ee",
   "metadata": {
    "tags": [],
    "pycharm": {
     "name": "#%% md\n"
    }
   },
   "source": [
    "##### 2. Convert to 1-isomer: `Interactor_UniProt_ID`"
   ]
  },
  {
   "cell_type": "markdown",
   "id": "36c9284b-0d5d-4c41-b2d9-7274d9141f6a",
   "metadata": {
    "pycharm": {
     "name": "#%% md\n"
    }
   },
   "source": [
    "$\\textit{Interactor_UniProt_ID}$ column contains isomer proteins. Here, we convert them into primary isoform representation (i.e. without dashes)."
   ]
  },
  {
   "cell_type": "markdown",
   "id": "2314ef86-e11b-43ce-a9ee-8d3d39420d3d",
   "metadata": {
    "pycharm": {
     "name": "#%% md\n"
    }
   },
   "source": [
    "| Interactor_UniProt_ID |\n",
    "--------------\n",
    "| P38936     |\n",
    "| P16473     |\n",
    "| P16473-2   |\n",
    "| P19793     |"
   ]
  },
  {
   "cell_type": "markdown",
   "id": "ac37c712-d832-4450-8852-a9df5712c194",
   "metadata": {
    "pycharm": {
     "name": "#%% md\n"
    }
   },
   "source": [
    "##### 3. Dropping Invalid Predictions"
   ]
  },
  {
   "cell_type": "markdown",
   "id": "43293304-9ddf-4e94-b624-8ce6c9034fe1",
   "metadata": {
    "pycharm": {
     "name": "#%% md\n"
    }
   },
   "source": [
    "Entries whose predicted class-1 probability lies in both `Decreasing` and `Increasing+NoEff` are dropped."
   ]
  },
  {
   "cell_type": "markdown",
   "id": "0d57de49-9962-47a8-8a2d-96a42df2295a",
   "metadata": {
    "pycharm": {
     "name": "#%% md\n"
    }
   },
   "source": [
    "Due to having different features for the same $\\textit{(protein, mutation, interactor)}$ triplet from ELASPIC, the triplet $\\textit{(protein, mutation, interactor)}$ may contain class-1 probability prediction of both lower than 0.50 and higher than 50. We drop such instances."
   ]
  },
  {
   "cell_type": "code",
   "execution_count": 11,
   "id": "ee5ffd8b-af50-481e-b90f-fc0548568727",
   "metadata": {
    "scrolled": true,
    "tags": [],
    "pycharm": {
     "name": "#%%\n"
    }
   },
   "outputs": [
    {
     "name": "stdout",
     "output_type": "stream",
     "text": [
      "2022-06-17 00:29:56 |\u001B[36m DEBUG    \u001B[0m| helpers.helpers_predator.predictions | PredictionsSoft\n",
      "2022-06-17 00:29:56 |\u001B[36m DEBUG    \u001B[0m| helpers.helpers_predator.predictions | Post processing predictions for cohort coad ..\n",
      "2022-06-17 00:29:56 |\u001B[36m DEBUG    \u001B[0m| helpers.helpers_predator.predictions | PredictionsSoft\n",
      "2022-06-17 00:29:56 |\u001B[36m DEBUG    \u001B[0m| helpers.helpers_predator.predictions | Merging predictions with coad cancer dataset ..\n",
      "2022-06-17 00:29:56 |\u001B[36m DEBUG    \u001B[0m| helpers.helpers_predator.predictions | Handling valid and invalid entries ..\n"
     ]
    },
    {
     "data": {
      "text/plain": "  0%|          | 0/38 [00:00<?, ?it/s]",
      "application/vnd.jupyter.widget-view+json": {
       "version_major": 2,
       "version_minor": 0,
       "model_id": "9925cece2a5e42d4a62fa7a24d1dbbb0"
      }
     },
     "metadata": {},
     "output_type": "display_data"
    },
    {
     "name": "stdout",
     "output_type": "stream",
     "text": [
      "2022-06-17 00:31:21 |\u001B[36m DEBUG    \u001B[0m| helpers.helpers_predator.predictions_utils | Removed entries first five rows (of 1817): \n",
      "   PREDICTION PROTEIN MUTATION INTERACTOR\n",
      "0    0.603699  P15056    V600E     P53667\n",
      "1    0.487194  P15056    V600E     P53667\n",
      "2    0.603699  P15056    V600E     P53667\n",
      "3    0.399873  P05107    P192H     Q9UKX5\n",
      "4    0.703873  P05107    P192H     Q9UKX5\n",
      "2022-06-17 00:32:50 |\u001B[36m DEBUG    \u001B[0m| helpers.helpers_predator.predictions_utils | Removed entries first five rows (of 1597): \n",
      "   PREDICTION PROTEIN MUTATION INTERACTOR\n",
      "0    0.547884  Q9UK17     A16T     Q9NS61\n",
      "1    0.547884  Q9UK17     A16T     Q9NS61\n",
      "2    0.485536  Q9UK17     A16T     Q9NS61\n",
      "3    0.466059  Q9UK17     A16T     Q9NS61\n",
      "4    0.466059  Q9UK17     A16T     Q9NS61\n",
      "2022-06-17 00:34:23 |\u001B[36m DEBUG    \u001B[0m| helpers.helpers_predator.predictions_utils | Removed entries first five rows (of 2062): \n",
      "   PREDICTION PROTEIN MUTATION INTERACTOR\n",
      "0    0.425846  P15056    V600E     P53667\n",
      "1    0.617256  P15056    V600E     P53667\n",
      "2    0.425846  P15056    V600E     P53667\n",
      "3    0.750420  P51812    F584V     Q16539\n",
      "4    0.458464  P51812    F584V     Q16539\n",
      "2022-06-17 00:36:00 |\u001B[36m DEBUG    \u001B[0m| helpers.helpers_predator.predictions_utils | Removed entries first five rows (of 1690): \n",
      "   PREDICTION PROTEIN MUTATION INTERACTOR\n",
      "0    0.552447  P15056    V600E     P53667\n",
      "1    0.471213  P15056    V600E     P53667\n",
      "2    0.552447  P15056    V600E     P53667\n",
      "3    0.506403  P05362     M91T     P20701\n",
      "4    0.449496  P05362     M91T     P20701\n",
      "2022-06-17 00:37:39 |\u001B[36m DEBUG    \u001B[0m| helpers.helpers_predator.predictions_utils | Removed entries first five rows (of 2183): \n",
      "   PREDICTION PROTEIN MUTATION INTERACTOR\n",
      "0    0.427842  P61224     T35M     Q12967\n",
      "1    0.275065  P61224     T35M     Q12967\n",
      "2    0.507722  P61224     T35M     Q12967\n",
      "3    0.526808  P05362     M91T     P20701\n",
      "4    0.499536  P05362     M91T     P20701\n",
      "2022-06-17 00:39:12 |\u001B[36m DEBUG    \u001B[0m| helpers.helpers_predator.predictions_utils | Removed entries first five rows (of 1496): \n",
      "   PREDICTION PROTEIN MUTATION INTERACTOR\n",
      "0    0.486396  P15056    V600E     P53667\n",
      "1    0.539546  P15056    V600E     P53667\n",
      "2    0.486396  P15056    V600E     P53667\n",
      "3    0.370078  P61224     T35M     Q13905\n",
      "4    0.509017  P61224     T35M     Q13905\n",
      "2022-06-17 00:40:43 |\u001B[36m DEBUG    \u001B[0m| helpers.helpers_predator.predictions_utils | Removed entries first five rows (of 1828): \n",
      "   PREDICTION PROTEIN MUTATION INTERACTOR\n",
      "0    0.607468  P15056    V600E     P53667\n",
      "1    0.458962  P15056    V600E     P53667\n",
      "2    0.607468  P15056    V600E     P53667\n",
      "3    0.588443  P05107    P192H     Q9UKX5\n",
      "4    0.607468  P05107    P192H     Q9UKX5\n",
      "2022-06-17 00:42:10 |\u001B[36m DEBUG    \u001B[0m| helpers.helpers_predator.predictions_utils | Removed entries first five rows (of 2482): \n",
      "   PREDICTION PROTEIN MUTATION INTERACTOR\n",
      "0    0.468372  P61224     T35M     Q13905\n",
      "1    0.560883  P61224     T35M     Q12967\n",
      "2    0.366797  P61224     T35M     Q12967\n",
      "3    0.636584  P61224     T35M     Q12967\n",
      "4    0.622152  P61224     T35M     Q13905\n",
      "2022-06-17 00:43:36 |\u001B[36m DEBUG    \u001B[0m| helpers.helpers_predator.predictions_utils | Removed entries first five rows (of 1813): \n",
      "   PREDICTION PROTEIN MUTATION INTERACTOR\n",
      "0    0.510746  P15056    V600E     P53667\n",
      "1    0.468016  P15056    V600E     P53667\n",
      "2    0.510746  P15056    V600E     P53667\n",
      "3    0.502081  P05362     M91T     P20701\n",
      "4    0.477936  P05362     M91T     P20701\n",
      "2022-06-17 00:45:01 |\u001B[36m DEBUG    \u001B[0m| helpers.helpers_predator.predictions_utils | Removed entries first five rows (of 2578): \n",
      "   PREDICTION PROTEIN MUTATION INTERACTOR\n",
      "0    0.228732  P05107    P192H     Q9UKX5\n",
      "1    0.508632  P05107    P192H     P20701\n",
      "2    0.463551  P05107    P192H     P20701\n",
      "3    0.629078  P05107    P192H     Q9UKX5\n",
      "4    0.372011  P05107    P192H     Q9UKX5\n",
      "2022-06-17 00:46:38 |\u001B[36m DEBUG    \u001B[0m| helpers.helpers_predator.predictions_utils | Removed entries first five rows (of 1973): \n",
      "   PREDICTION PROTEIN MUTATION INTERACTOR\n",
      "0    0.453611  P15056    V600E     P53667\n",
      "1    0.532778  P15056    V600E     P53667\n",
      "2    0.453611  P15056    V600E     P53667\n",
      "3    0.560000  P05362     M91T     P20701\n",
      "4    0.427500  P05362     M91T     P20701\n",
      "2022-06-17 00:48:12 |\u001B[36m DEBUG    \u001B[0m| helpers.helpers_predator.predictions_utils | Removed entries first five rows (of 1730): \n",
      "   PREDICTION PROTEIN MUTATION INTERACTOR\n",
      "0    0.368336  P05107    P192H     Q9UKX5\n",
      "1    0.499266  P05107    P192H     P20701\n",
      "2    0.681732  P05107    P192H     P20701\n",
      "3    0.546247  P05107    P192H     Q9UKX5\n",
      "4    0.275522  P05107    P192H     Q9UKX5\n",
      "2022-06-17 00:49:45 |\u001B[36m DEBUG    \u001B[0m| helpers.helpers_predator.predictions_utils | Removed entries first five rows (of 1696): \n",
      "   PREDICTION PROTEIN MUTATION INTERACTOR\n",
      "0    0.440757  P15056    V600E     P53667\n",
      "1    0.532023  P15056    V600E     P53667\n",
      "2    0.440757  P15056    V600E     P53667\n",
      "3    0.418161  O75843     M91T     P61966\n",
      "4    0.528332  O75843     M91T     P61966\n",
      "2022-06-17 00:51:17 |\u001B[36m DEBUG    \u001B[0m| helpers.helpers_predator.predictions_utils | Removed entries first five rows (of 1947): \n",
      "   PREDICTION PROTEIN MUTATION INTERACTOR\n",
      "0    0.477220  P61224     T35M     Q13905\n",
      "1    0.509194  P61224     T35M     Q12967\n",
      "2    0.470484  P61224     T35M     Q12967\n",
      "3    0.446428  P61224     T35M     Q12967\n",
      "4    0.540452  P61224     T35M     Q13905\n",
      "2022-06-17 00:52:50 |\u001B[36m DEBUG    \u001B[0m| helpers.helpers_predator.predictions_utils | Removed entries first five rows (of 3098): \n",
      "   PREDICTION PROTEIN MUTATION INTERACTOR\n",
      "0         0.0  P15056    V600E     P53667\n",
      "1         1.0  P15056    V600E     P53667\n",
      "2         0.0  P15056    V600E     P53667\n",
      "3         1.0  P61224     T35M     Q8WWW0\n",
      "4         1.0  P61224     T35M     Q8WWW0\n",
      "2022-06-17 00:54:26 |\u001B[36m DEBUG    \u001B[0m| helpers.helpers_predator.predictions_utils | Removed entries first five rows (of 2402): \n",
      "   PREDICTION PROTEIN MUTATION INTERACTOR\n",
      "0    0.811379  O75843     M91T     P56377\n",
      "1    0.466278  O75843     M91T     P56377\n",
      "2    0.663537  P05362     M91T     P20701\n",
      "3    0.401058  P05362     M91T     P20701\n",
      "4    0.401058  P05362     M91T     P20701\n",
      "2022-06-17 00:55:58 |\u001B[36m DEBUG    \u001B[0m| helpers.helpers_predator.predictions_utils | Removed entries first five rows (of 1892): \n",
      "   PREDICTION PROTEIN MUTATION INTERACTOR\n",
      "0    0.429278  P05107    P192H     Q9UKX5\n",
      "1    0.743578  P05107    P192H     Q9UKX5\n",
      "2    0.609854  P05107    P192H     Q9UKX5\n",
      "3    0.533745  P05107    P192H     Q13683\n",
      "4    0.601564  P05107    P192H     Q13683\n",
      "2022-06-17 00:57:34 |\u001B[36m DEBUG    \u001B[0m| helpers.helpers_predator.predictions_utils | Removed entries first five rows (of 1889): \n",
      "   PREDICTION PROTEIN MUTATION INTERACTOR\n",
      "0    0.648306  P15056    V600E     P53667\n",
      "1    0.459802  P15056    V600E     P53667\n",
      "2    0.648306  P15056    V600E     P53667\n",
      "3    0.505284  P61224     T35M     Q13905\n",
      "4    0.446582  P61224     T35M     Q12967\n",
      "2022-06-17 00:58:48 |\u001B[36m DEBUG    \u001B[0m| helpers.helpers_predator.predictions_utils | Removed entries first five rows (of 1767): \n",
      "   PREDICTION PROTEIN MUTATION INTERACTOR\n",
      "0    0.582609  P15056    V600E     P53667\n",
      "1    0.462116  P15056    V600E     P53667\n",
      "2    0.582609  P15056    V600E     P53667\n",
      "3    0.598813  O75843     M91T     P56377\n",
      "4    0.472813  O75843     M91T     P56377\n",
      "2022-06-17 01:00:04 |\u001B[36m DEBUG    \u001B[0m| helpers.helpers_predator.predictions_utils | Removed entries first five rows (of 2408): \n",
      "   PREDICTION PROTEIN MUTATION INTERACTOR\n",
      "0    0.755399  Q9UK17     A16T     Q9NS61\n",
      "1    0.755399  Q9UK17     A16T     Q9NS61\n",
      "2    0.399041  Q9UK17     A16T     Q9NS61\n",
      "3    0.577841  Q9UK17     A16T     Q9NS61\n",
      "4    0.577841  Q9UK17     A16T     Q9NS61\n",
      "2022-06-17 01:01:21 |\u001B[36m DEBUG    \u001B[0m| helpers.helpers_predator.predictions_utils | Removed entries first five rows (of 1653): \n",
      "   PREDICTION PROTEIN MUTATION INTERACTOR\n",
      "0    0.574937  P61224     T35M     Q13905\n",
      "1    0.493582  P61224     T35M     Q12967\n",
      "2    0.629028  P61224     T35M     Q12967\n",
      "3    0.535353  P61224     T35M     Q12967\n",
      "4    0.514053  P61224     T35M     Q13905\n",
      "2022-06-17 01:02:37 |\u001B[36m DEBUG    \u001B[0m| helpers.helpers_predator.predictions_utils | Removed entries first five rows (of 2396): \n",
      "   PREDICTION PROTEIN MUTATION INTERACTOR\n",
      "0         0.4  P61224     T35M     Q13905\n",
      "1         0.5  P61224     T35M     Q8WWW0\n",
      "2         0.5  P61224     T35M     Q8WWW0\n",
      "3         0.9  P61224     T35M     Q8WWW0\n",
      "4         0.5  P61224     T35M     Q12967\n",
      "2022-06-17 01:03:53 |\u001B[36m DEBUG    \u001B[0m| helpers.helpers_predator.predictions_utils | Removed entries first five rows (of 1793): \n",
      "   PREDICTION PROTEIN MUTATION INTERACTOR\n",
      "0    0.447061  P61224     T35M     Q12967\n",
      "1    0.515387  P61224     T35M     Q12967\n",
      "2    0.484952  P61224     T35M     Q12967\n",
      "3    0.329475  P05107    P192H     Q9UKX5\n",
      "4    0.480330  P05107    P192H     P20701\n",
      "2022-06-17 01:05:10 |\u001B[36m DEBUG    \u001B[0m| helpers.helpers_predator.predictions_utils | Removed entries first five rows (of 1418): \n",
      "   PREDICTION PROTEIN MUTATION INTERACTOR\n",
      "0    0.495764  P15056    V600E     P53667\n",
      "1    0.516204  P15056    V600E     P53667\n",
      "2    0.495764  P15056    V600E     P53667\n",
      "3    0.559271  Q9UK17     A16T     Q9NS61\n",
      "4    0.559271  Q9UK17     A16T     Q9NS61\n",
      "2022-06-17 01:06:26 |\u001B[36m DEBUG    \u001B[0m| helpers.helpers_predator.predictions_utils | Removed entries first five rows (of 1323): \n",
      "   PREDICTION PROTEIN MUTATION INTERACTOR\n",
      "0    0.520031  P61224     T35M     Q12967\n",
      "1    0.482963  P61224     T35M     Q12967\n",
      "2    0.519819  P61224     T35M     Q12967\n",
      "3    0.510603  Q96BY6   H2133Y     Q9H4E5\n",
      "4    0.431206  Q96BY6   H2133Y     Q9H4E5\n",
      "2022-06-17 01:07:41 |\u001B[36m DEBUG    \u001B[0m| helpers.helpers_predator.predictions_utils | Removed entries first five rows (of 1754): \n",
      "   PREDICTION PROTEIN MUTATION INTERACTOR\n",
      "0    0.549705  P15056    V600E     P53667\n",
      "1    0.487049  P15056    V600E     P53667\n",
      "2    0.549705  P15056    V600E     P53667\n",
      "3    0.652733  O75843     M91T     P56377\n",
      "4    0.483172  O75843     M91T     P56377\n",
      "2022-06-17 01:08:56 |\u001B[36m DEBUG    \u001B[0m| helpers.helpers_predator.predictions_utils | Removed entries first five rows (of 1824): \n",
      "   PREDICTION PROTEIN MUTATION INTERACTOR\n",
      "0    0.497744  P61224     T35M     Q12967\n",
      "1    0.457656  P61224     T35M     Q12967\n",
      "2    0.507588  P61224     T35M     Q12967\n",
      "3    0.373103  P05107    P192H     Q9UKX5\n",
      "4    0.373260  P05107    P192H     P20701\n",
      "2022-06-17 01:10:12 |\u001B[36m DEBUG    \u001B[0m| helpers.helpers_predator.predictions_utils | Removed entries first five rows (of 1628): \n",
      "   PREDICTION PROTEIN MUTATION INTERACTOR\n",
      "0    0.499350  P61224     T35M     Q13905\n",
      "1    0.503907  P61224     T35M     Q12967\n",
      "2    0.494525  P61224     T35M     Q12967\n",
      "3    0.512934  P61224     T35M     Q12967\n",
      "4    0.604372  P61224     T35M     Q13905\n",
      "2022-06-17 01:11:27 |\u001B[36m DEBUG    \u001B[0m| helpers.helpers_predator.predictions_utils | Removed entries first five rows (of 2268): \n",
      "   PREDICTION PROTEIN MUTATION INTERACTOR\n",
      "0    0.353201  P61224     T35M     O00522\n",
      "1    1.000000  P61224     T35M     O00522\n",
      "2    1.000000  P61224     T35M     O00522\n",
      "3    0.115440  P61224     T35M     Q13905\n",
      "4    0.248258  P61224     T35M     Q8WWW0\n",
      "2022-06-17 01:12:43 |\u001B[36m DEBUG    \u001B[0m| helpers.helpers_predator.predictions_utils | Removed entries first five rows (of 1626): \n",
      "   PREDICTION PROTEIN MUTATION INTERACTOR\n",
      "0        0.55  Q9UK17     A16T     Q9NS61\n",
      "1        0.55  Q9UK17     A16T     Q9NS61\n",
      "2        0.85  Q9UK17     A16T     Q9NS61\n",
      "3        0.55  Q9UK17     A16T     Q9NS61\n",
      "4        0.55  Q9UK17     A16T     Q9NS61\n",
      "2022-06-17 01:13:58 |\u001B[36m DEBUG    \u001B[0m| helpers.helpers_predator.predictions_utils | Removed entries first five rows (of 2307): \n",
      "   PREDICTION PROTEIN MUTATION INTERACTOR\n",
      "0    0.532079  P15056    V600E     P53667\n",
      "1    0.449638  P15056    V600E     P53667\n",
      "2    0.532079  P15056    V600E     P53667\n",
      "3    0.722495  O75843     M91T     P56377\n",
      "4    0.450662  O75843     M91T     P56377\n",
      "2022-06-17 01:15:12 |\u001B[36m DEBUG    \u001B[0m| helpers.helpers_predator.predictions_utils | Removed entries first five rows (of 2117): \n",
      "   PREDICTION PROTEIN MUTATION INTERACTOR\n",
      "0    0.464105  O75843     M91T     P61966\n",
      "1    0.659154  O75843     M91T     P61966\n",
      "2    0.522840  P05362     M91T     P20701\n",
      "3    0.523106  P05362     M91T     P20701\n",
      "4    0.483132  P05362     M91T     P20701\n",
      "2022-06-17 01:16:28 |\u001B[36m DEBUG    \u001B[0m| helpers.helpers_predator.predictions_utils | Removed entries first five rows (of 1704): \n",
      "   PREDICTION PROTEIN MUTATION INTERACTOR\n",
      "0    0.492551  Q9UK17     A16T     Q9NS61\n",
      "1    0.492551  Q9UK17     A16T     Q9NS61\n",
      "2    0.591564  Q9UK17     A16T     Q9NS61\n",
      "3    0.576321  Q9UK17     A16T     Q9NS61\n",
      "4    0.576321  Q9UK17     A16T     Q9NS61\n",
      "2022-06-17 01:17:43 |\u001B[36m DEBUG    \u001B[0m| helpers.helpers_predator.predictions_utils | Removed entries first five rows (of 1397): \n",
      "   PREDICTION PROTEIN MUTATION INTERACTOR\n",
      "0    0.459343  P61224     T35M     Q13905\n",
      "1    0.556212  P61224     T35M     Q13905\n",
      "2    0.487406  P61224     T35M     Q13905\n",
      "3    0.503732  P05107    P192H     Q9UKX5\n",
      "4    0.472672  P05107    P192H     P20701\n",
      "2022-06-17 01:18:58 |\u001B[36m DEBUG    \u001B[0m| helpers.helpers_predator.predictions_utils | Removed entries first five rows (of 1742): \n",
      "   PREDICTION PROTEIN MUTATION INTERACTOR\n",
      "0    0.509663  P05362     M91T     P20701\n",
      "1    0.452433  P05362     M91T     P20701\n",
      "2    0.402286  P05362     M91T     P20701\n",
      "3    0.327549  P05107    P192H     Q9UKX5\n",
      "4    0.426162  P05107    P192H     P20701\n",
      "2022-06-17 01:20:14 |\u001B[36m DEBUG    \u001B[0m| helpers.helpers_predator.predictions_utils | Removed entries first five rows (of 2198): \n",
      "   PREDICTION PROTEIN MUTATION INTERACTOR\n",
      "0       0.125  P15056    V600E     P53667\n",
      "1       1.000  P15056    V600E     P53667\n",
      "2       0.125  P15056    V600E     P53667\n",
      "3       1.000  P61224     T35M     Q8WWW0\n",
      "4       1.000  P61224     T35M     Q8WWW0\n",
      "2022-06-17 01:21:30 |\u001B[36m DEBUG    \u001B[0m| helpers.helpers_predator.predictions_utils | Removed entries first five rows (of 1889): \n",
      "   PREDICTION PROTEIN MUTATION INTERACTOR\n",
      "0    0.282908  P05107    P192H     Q9UKX5\n",
      "1    0.584923  P05107    P192H     Q9UKX5\n",
      "2    0.441718  P05107    P192H     Q9UKX5\n",
      "3    0.489466  P05107    P192H     Q13683\n",
      "4    0.614473  P05107    P192H     Q13683\n",
      "2022-06-17 01:22:47 |\u001B[36m DEBUG    \u001B[0m| helpers.helpers_predator.predictions_utils | Removed entries first five rows (of 1911): \n",
      "   PREDICTION PROTEIN MUTATION INTERACTOR\n",
      "0    0.638950  P15056    V600E     P53667\n",
      "1    0.441065  P15056    V600E     P53667\n",
      "2    0.638950  P15056    V600E     P53667\n",
      "3    0.579723  O75843     M91T     P56377\n",
      "4    0.429589  O75843     M91T     P56377\n",
      "2022-06-17 01:22:47 |\u001B[36m DEBUG    \u001B[0m| helpers.helpers_predator.predictions | Preparing finalized prediction datasets for coad ..\n",
      "2022-06-17 01:22:47 |\u001B[36m DEBUG    \u001B[0m| helpers.helpers_predator.predictions | Post processing completed for coad.\n"
     ]
    }
   ],
   "source": [
    "predator.predictions_post_process()"
   ]
  },
  {
   "cell_type": "code",
   "execution_count": 12,
   "id": "90683791-df42-47a8-ae9d-6c6ba08bcafd",
   "metadata": {
    "pycharm": {
     "name": "#%%\n"
    }
   },
   "outputs": [
    {
     "data": {
      "text/plain": "dict_keys(['coad_prob', 'coad_predicted_probs_datasets', 'coad_predicted_valid_datasets', 'coad_predicted_invalid_datasets', 'coad_finalized_prediction_dataframes'])"
     },
     "execution_count": 12,
     "metadata": {},
     "output_type": "execute_result"
    }
   ],
   "source": [
    "predator.predictions.keys()"
   ]
  },
  {
   "cell_type": "code",
   "execution_count": 13,
   "id": "fcf61287-2498-4b53-ac75-1f6baceed2a3",
   "metadata": {
    "pycharm": {
     "name": "#%%\n"
    }
   },
   "outputs": [
    {
     "name": "stdout",
     "output_type": "stream",
     "text": [
      "\u001B[36mData dimensions: (14822, 104)\u001B[0m\n"
     ]
    },
    {
     "data": {
      "text/plain": "   Prediction Input_identifier UniProt_ID Mutation Status       Type  \\\n0    0.597171           P62873     P62873    S334I   done  interface   \n1    0.543559           Q9BXB4     Q9BXB4    N590D   done  interface   \n2    0.543559           Q9BXB4     Q9BXB4    N590D   done  interface   \n\n  COSMIC_mut_ID ClinVar_mut_ID UniProt_mut_ID   Domain_name  ...  \\\n0             -              -              -          WD40  ...   \n1    COSM273062              -              -  Oxysterol_BP  ...   \n2    COSM273062              -              -  Oxysterol_BP  ...   \n\n  number_of_residues_mut IntraclashesEnergy1_wt IntraclashesEnergy1_mut  \\\n0                  567.0                128.711                 135.025   \n1                  742.0                464.479                 464.478   \n2                  742.0                464.479                 464.478   \n\n   IntraclashesEnergy2_wt  IntraclashesEnergy2_mut Interface_hydrophobic_area  \\\n0                 73.3808                  73.3852                     894.75   \n1                199.2630                 199.2630                    514.015   \n2                199.2630                 199.2630                    514.015   \n\n  Interface_hydrophilic_area Interface_total_area  \\\n0                     661.58              1556.32   \n1                     268.27              782.285   \n2                     268.27              782.285   \n\n  Interface_contact_distance_wt Interface_contact_distance_mut  \n0                       6.34896                        3.64695  \n1                       5.08133                        3.32753  \n2                       5.08133                        3.32753  \n\n[3 rows x 104 columns]",
      "text/html": "<div>\n<style scoped>\n    .dataframe tbody tr th:only-of-type {\n        vertical-align: middle;\n    }\n\n    .dataframe tbody tr th {\n        vertical-align: top;\n    }\n\n    .dataframe thead th {\n        text-align: right;\n    }\n</style>\n<table border=\"1\" class=\"dataframe\">\n  <thead>\n    <tr style=\"text-align: right;\">\n      <th></th>\n      <th>Prediction</th>\n      <th>Input_identifier</th>\n      <th>UniProt_ID</th>\n      <th>Mutation</th>\n      <th>Status</th>\n      <th>Type</th>\n      <th>COSMIC_mut_ID</th>\n      <th>ClinVar_mut_ID</th>\n      <th>UniProt_mut_ID</th>\n      <th>Domain_name</th>\n      <th>...</th>\n      <th>number_of_residues_mut</th>\n      <th>IntraclashesEnergy1_wt</th>\n      <th>IntraclashesEnergy1_mut</th>\n      <th>IntraclashesEnergy2_wt</th>\n      <th>IntraclashesEnergy2_mut</th>\n      <th>Interface_hydrophobic_area</th>\n      <th>Interface_hydrophilic_area</th>\n      <th>Interface_total_area</th>\n      <th>Interface_contact_distance_wt</th>\n      <th>Interface_contact_distance_mut</th>\n    </tr>\n  </thead>\n  <tbody>\n    <tr>\n      <th>0</th>\n      <td>0.597171</td>\n      <td>P62873</td>\n      <td>P62873</td>\n      <td>S334I</td>\n      <td>done</td>\n      <td>interface</td>\n      <td>-</td>\n      <td>-</td>\n      <td>-</td>\n      <td>WD40</td>\n      <td>...</td>\n      <td>567.0</td>\n      <td>128.711</td>\n      <td>135.025</td>\n      <td>73.3808</td>\n      <td>73.3852</td>\n      <td>894.75</td>\n      <td>661.58</td>\n      <td>1556.32</td>\n      <td>6.34896</td>\n      <td>3.64695</td>\n    </tr>\n    <tr>\n      <th>1</th>\n      <td>0.543559</td>\n      <td>Q9BXB4</td>\n      <td>Q9BXB4</td>\n      <td>N590D</td>\n      <td>done</td>\n      <td>interface</td>\n      <td>COSM273062</td>\n      <td>-</td>\n      <td>-</td>\n      <td>Oxysterol_BP</td>\n      <td>...</td>\n      <td>742.0</td>\n      <td>464.479</td>\n      <td>464.478</td>\n      <td>199.2630</td>\n      <td>199.2630</td>\n      <td>514.015</td>\n      <td>268.27</td>\n      <td>782.285</td>\n      <td>5.08133</td>\n      <td>3.32753</td>\n    </tr>\n    <tr>\n      <th>2</th>\n      <td>0.543559</td>\n      <td>Q9BXB4</td>\n      <td>Q9BXB4</td>\n      <td>N590D</td>\n      <td>done</td>\n      <td>interface</td>\n      <td>COSM273062</td>\n      <td>-</td>\n      <td>-</td>\n      <td>Oxysterol_BP</td>\n      <td>...</td>\n      <td>742.0</td>\n      <td>464.479</td>\n      <td>464.478</td>\n      <td>199.2630</td>\n      <td>199.2630</td>\n      <td>514.015</td>\n      <td>268.27</td>\n      <td>782.285</td>\n      <td>5.08133</td>\n      <td>3.32753</td>\n    </tr>\n  </tbody>\n</table>\n<p>3 rows × 104 columns</p>\n</div>"
     },
     "metadata": {},
     "output_type": "display_data"
    }
   ],
   "source": [
    "display_data(predator.predictions[\"coad_predicted_probs_datasets\"][0])"
   ]
  },
  {
   "cell_type": "code",
   "execution_count": 14,
   "id": "a603e902-b663-49e2-92c5-e6167cc06699",
   "metadata": {
    "pycharm": {
     "name": "#%%\n"
    }
   },
   "outputs": [
    {
     "data": {
      "text/plain": "<Figure size 1080x360 with 1 Axes>",
      "image/png": "[encoded data removed]"
     },
     "metadata": {
      "needs_background": "light"
     },
     "output_type": "display_data"
    }
   ],
   "source": [
    "predator.predictions.plot_distribution_valid_vs_invalid(\"coad\")"
   ]
  },
  {
   "cell_type": "code",
   "execution_count": 15,
   "id": "77147287-c7ce-4771-b0ed-e45479644ccb",
   "metadata": {
    "pycharm": {
     "name": "#%%\n"
    }
   },
   "outputs": [
    {
     "name": "stdout",
     "output_type": "stream",
     "text": [
      "2022-06-17 09:21:08 |\u001B[36m DEBUG    \u001B[0m| helpers.helpers_predator.predictions | Plotting number of finalized predictions per model.\n",
      "Note that following plot shows the number of (protein, mutation, interactor) triplets which had valid prediction.\n"
     ]
    },
    {
     "data": {
      "text/plain": "<Figure size 1080x360 with 1 Axes>",
      "image/png": "[encoded data removed]"
     },
     "metadata": {
      "needs_background": "light"
     },
     "output_type": "display_data"
    }
   ],
   "source": [
    "predator.predictions.plot_num_finalized_predictions(\"coad\")"
   ]
  },
  {
   "cell_type": "code",
   "execution_count": 16,
   "id": "a0762893-11a8-43c7-8b93-1b214a1a85e4",
   "metadata": {
    "pycharm": {
     "name": "#%%\n"
    }
   },
   "outputs": [
    {
     "name": "stdout",
     "output_type": "stream",
     "text": [
      "\u001B[36mData dimensions: (10381, 4)\u001B[0m\n"
     ]
    },
    {
     "data": {
      "text/plain": "   Prediction UniProt_ID Mutation Interactor_UniProt_ID\n0    0.597171     P62873    S334I                Q13371\n1    0.543559     Q9BXB4    N590D                Q96SU4\n2    0.748348     P35251    V921A                P35250",
      "text/html": "<div>\n<style scoped>\n    .dataframe tbody tr th:only-of-type {\n        vertical-align: middle;\n    }\n\n    .dataframe tbody tr th {\n        vertical-align: top;\n    }\n\n    .dataframe thead th {\n        text-align: right;\n    }\n</style>\n<table border=\"1\" class=\"dataframe\">\n  <thead>\n    <tr style=\"text-align: right;\">\n      <th></th>\n      <th>Prediction</th>\n      <th>UniProt_ID</th>\n      <th>Mutation</th>\n      <th>Interactor_UniProt_ID</th>\n    </tr>\n  </thead>\n  <tbody>\n    <tr>\n      <th>0</th>\n      <td>0.597171</td>\n      <td>P62873</td>\n      <td>S334I</td>\n      <td>Q13371</td>\n    </tr>\n    <tr>\n      <th>1</th>\n      <td>0.543559</td>\n      <td>Q9BXB4</td>\n      <td>N590D</td>\n      <td>Q96SU4</td>\n    </tr>\n    <tr>\n      <th>2</th>\n      <td>0.748348</td>\n      <td>P35251</td>\n      <td>V921A</td>\n      <td>P35250</td>\n    </tr>\n  </tbody>\n</table>\n</div>"
     },
     "metadata": {},
     "output_type": "display_data"
    }
   ],
   "source": [
    "display_data(predator.predictions['coad_finalized_prediction_dataframes'][0])"
   ]
  },
  {
   "cell_type": "code",
   "execution_count": 17,
   "id": "7fab8dc7-62ea-4cba-bdfa-0a8187a53a27",
   "metadata": {
    "scrolled": true,
    "tags": [],
    "pycharm": {
     "name": "#%%\n"
    }
   },
   "outputs": [
    {
     "name": "stdout",
     "output_type": "stream",
     "text": [
      "2022-06-17 09:21:15 |\u001B[32m INFO     \u001B[0m| helpers.helpers_predator.predictions | PredictionsSoft\n",
      "2022-06-17 09:21:15 |\u001B[32m INFO     \u001B[0m| helpers.helpers_predator.predictions | Preparing ensemble prediction data for coad taking median ..\n"
     ]
    },
    {
     "data": {
      "text/plain": "  0%|          | 0/38 [00:00<?, ?it/s]",
      "application/vnd.jupyter.widget-view+json": {
       "version_major": 2,
       "version_minor": 0,
       "model_id": "4c3d91a4ec7943659bc4d26c4d1e1682"
      }
     },
     "metadata": {},
     "output_type": "display_data"
    },
    {
     "name": "stdout",
     "output_type": "stream",
     "text": [
      "2022-06-17 09:49:01 |\u001B[36m DEBUG    \u001B[0m| helpers.helpers_predator.predictions | Prediction probabilities data for coad is prepared.\n",
      "Accessible from `coad_predictions_prob_data`.\n",
      "2022-06-17 09:49:01 |\u001B[36m DEBUG    \u001B[0m| helpers.helpers_predator.predictions | Ensemble prediction data for coad is prepared.\n",
      "Accessible from `coad_ensemble_prediction_data`.\n",
      "2022-06-17 09:49:01 |\u001B[36m DEBUG    \u001B[0m| helpers.helpers_predator.predictions | Resulting prediction data is available for coad.\n",
      "Accessible from predictions.['coad_prediction_results']\n",
      "2022-06-17 09:49:01 |\u001B[36m DEBUG    \u001B[0m| helpers.helpers_predator.predictions | Resulting prediction data (no_votes dropped) is available for coad.\n",
      "Accessible from predictions.['coad_prediction_results_no_votes_dropped']\n"
     ]
    }
   ],
   "source": [
    "predator.prepare_ensemble_prediction_data()"
   ]
  },
  {
   "cell_type": "code",
   "execution_count": 18,
   "id": "0ffd0f8a-b82f-4733-9a31-2d350402fecb",
   "metadata": {
    "pycharm": {
     "name": "#%%\n"
    }
   },
   "outputs": [
    {
     "name": "stdout",
     "output_type": "stream",
     "text": [
      "\u001B[36mData dimensions: (7816, 40)\u001B[0m\n"
     ]
    },
    {
     "data": {
      "text/plain": "    Trial 0   Trial 1   Trial 2   Trial 3   Trial 4   Trial 5   Trial 6  \\\n0  0.597171  0.554393  0.616319  0.544714  0.621731  0.461501  0.298626   \n1  0.543559  0.397684  0.298567  0.356935  0.274992  0.327283   0.45076   \n2  0.748348  0.561629  0.742113   0.73496  0.807738  0.648397  0.682282   \n\n    Trial 7   Trial 8   Trial 9  ...  Trial 30  Trial 31  Trial 32  Trial 33  \\\n0  0.553908  0.464965  0.445855  ...  0.399406  0.557836   0.52439   0.53999   \n1   0.54446  0.379662  0.465146  ...  0.326284  0.420351  0.362239   0.33799   \n2  0.664652  0.586111  0.776599  ...  0.727866  0.896336  0.635713  0.794412   \n\n   Trial 34  Trial 35  Trial 36  Trial 37 PROB_1s_AVG VOTED_PREDICTION  \n0  0.486987  0.571429  0.435207  0.421459     0.53995                1  \n1  0.273174       0.0   0.31022  0.328899     0.33033                0  \n2  0.728955  0.833333  0.760591  0.734403     0.74523                1  \n\n[3 rows x 40 columns]",
      "text/html": "<div>\n<style scoped>\n    .dataframe tbody tr th:only-of-type {\n        vertical-align: middle;\n    }\n\n    .dataframe tbody tr th {\n        vertical-align: top;\n    }\n\n    .dataframe thead th {\n        text-align: right;\n    }\n</style>\n<table border=\"1\" class=\"dataframe\">\n  <thead>\n    <tr style=\"text-align: right;\">\n      <th></th>\n      <th>Trial 0</th>\n      <th>Trial 1</th>\n      <th>Trial 2</th>\n      <th>Trial 3</th>\n      <th>Trial 4</th>\n      <th>Trial 5</th>\n      <th>Trial 6</th>\n      <th>Trial 7</th>\n      <th>Trial 8</th>\n      <th>Trial 9</th>\n      <th>...</th>\n      <th>Trial 30</th>\n      <th>Trial 31</th>\n      <th>Trial 32</th>\n      <th>Trial 33</th>\n      <th>Trial 34</th>\n      <th>Trial 35</th>\n      <th>Trial 36</th>\n      <th>Trial 37</th>\n      <th>PROB_1s_AVG</th>\n      <th>VOTED_PREDICTION</th>\n    </tr>\n  </thead>\n  <tbody>\n    <tr>\n      <th>0</th>\n      <td>0.597171</td>\n      <td>0.554393</td>\n      <td>0.616319</td>\n      <td>0.544714</td>\n      <td>0.621731</td>\n      <td>0.461501</td>\n      <td>0.298626</td>\n      <td>0.553908</td>\n      <td>0.464965</td>\n      <td>0.445855</td>\n      <td>...</td>\n      <td>0.399406</td>\n      <td>0.557836</td>\n      <td>0.52439</td>\n      <td>0.53999</td>\n      <td>0.486987</td>\n      <td>0.571429</td>\n      <td>0.435207</td>\n      <td>0.421459</td>\n      <td>0.53995</td>\n      <td>1</td>\n    </tr>\n    <tr>\n      <th>1</th>\n      <td>0.543559</td>\n      <td>0.397684</td>\n      <td>0.298567</td>\n      <td>0.356935</td>\n      <td>0.274992</td>\n      <td>0.327283</td>\n      <td>0.45076</td>\n      <td>0.54446</td>\n      <td>0.379662</td>\n      <td>0.465146</td>\n      <td>...</td>\n      <td>0.326284</td>\n      <td>0.420351</td>\n      <td>0.362239</td>\n      <td>0.33799</td>\n      <td>0.273174</td>\n      <td>0.0</td>\n      <td>0.31022</td>\n      <td>0.328899</td>\n      <td>0.33033</td>\n      <td>0</td>\n    </tr>\n    <tr>\n      <th>2</th>\n      <td>0.748348</td>\n      <td>0.561629</td>\n      <td>0.742113</td>\n      <td>0.73496</td>\n      <td>0.807738</td>\n      <td>0.648397</td>\n      <td>0.682282</td>\n      <td>0.664652</td>\n      <td>0.586111</td>\n      <td>0.776599</td>\n      <td>...</td>\n      <td>0.727866</td>\n      <td>0.896336</td>\n      <td>0.635713</td>\n      <td>0.794412</td>\n      <td>0.728955</td>\n      <td>0.833333</td>\n      <td>0.760591</td>\n      <td>0.734403</td>\n      <td>0.74523</td>\n      <td>1</td>\n    </tr>\n  </tbody>\n</table>\n<p>3 rows × 40 columns</p>\n</div>"
     },
     "metadata": {},
     "output_type": "display_data"
    }
   ],
   "source": [
    "display_data(predator.predictions['coad_predictions_prob_data'])"
   ]
  },
  {
   "cell_type": "code",
   "execution_count": 19,
   "id": "f2b38467-e658-4ed6-9ac0-6de1f1017ce7",
   "metadata": {
    "pycharm": {
     "name": "#%%\n"
    }
   },
   "outputs": [
    {
     "data": {
      "text/plain": "<Figure size 432x288 with 1 Axes>",
      "image/png": "[encoded data removed]"
     },
     "metadata": {
      "needs_background": "light"
     },
     "output_type": "display_data"
    }
   ],
   "source": [
    "predator.predictions.plot_ensemble_prediction_distribution(\"coad\")"
   ]
  },
  {
   "cell_type": "code",
   "execution_count": 20,
   "id": "c454d6a9-5c73-4fe6-b609-e7b160e2ddb8",
   "metadata": {
    "pycharm": {
     "name": "#%%\n"
    }
   },
   "outputs": [
    {
     "name": "stdout",
     "output_type": "stream",
     "text": [
      "\u001B[36mData dimensions: (7816, 4)\u001B[0m\n"
     ]
    },
    {
     "data": {
      "text/plain": "  UniProt_ID Mutation Interactor_UniProt_ID Prediction\n0     P62873    S334I                Q13371          1\n1     Q9BXB4    N590D                Q96SU4          0\n2     P35251    V921A                P35250          1",
      "text/html": "<div>\n<style scoped>\n    .dataframe tbody tr th:only-of-type {\n        vertical-align: middle;\n    }\n\n    .dataframe tbody tr th {\n        vertical-align: top;\n    }\n\n    .dataframe thead th {\n        text-align: right;\n    }\n</style>\n<table border=\"1\" class=\"dataframe\">\n  <thead>\n    <tr style=\"text-align: right;\">\n      <th></th>\n      <th>UniProt_ID</th>\n      <th>Mutation</th>\n      <th>Interactor_UniProt_ID</th>\n      <th>Prediction</th>\n    </tr>\n  </thead>\n  <tbody>\n    <tr>\n      <th>0</th>\n      <td>P62873</td>\n      <td>S334I</td>\n      <td>Q13371</td>\n      <td>1</td>\n    </tr>\n    <tr>\n      <th>1</th>\n      <td>Q9BXB4</td>\n      <td>N590D</td>\n      <td>Q96SU4</td>\n      <td>0</td>\n    </tr>\n    <tr>\n      <th>2</th>\n      <td>P35251</td>\n      <td>V921A</td>\n      <td>P35250</td>\n      <td>1</td>\n    </tr>\n  </tbody>\n</table>\n</div>"
     },
     "metadata": {},
     "output_type": "display_data"
    }
   ],
   "source": [
    "coad_prediction_results_soft = predator.predictions['coad_prediction_results']\n",
    "display_data(coad_prediction_results_soft)"
   ]
  },
  {
   "cell_type": "code",
   "execution_count": 21,
   "id": "569c4dd1-e2d9-40d0-b7c0-1cc177adfabb",
   "metadata": {
    "pycharm": {
     "name": "#%%\n"
    }
   },
   "outputs": [
    {
     "name": "stdout",
     "output_type": "stream",
     "text": [
      "\u001B[36mData dimensions: (7496, 4)\u001B[0m\n"
     ]
    },
    {
     "data": {
      "text/plain": "  UniProt_ID Mutation Interactor_UniProt_ID Prediction\n0     P62873    S334I                Q13371          1\n1     Q9BXB4    N590D                Q96SU4          0\n2     P35251    V921A                P35250          1",
      "text/html": "<div>\n<style scoped>\n    .dataframe tbody tr th:only-of-type {\n        vertical-align: middle;\n    }\n\n    .dataframe tbody tr th {\n        vertical-align: top;\n    }\n\n    .dataframe thead th {\n        text-align: right;\n    }\n</style>\n<table border=\"1\" class=\"dataframe\">\n  <thead>\n    <tr style=\"text-align: right;\">\n      <th></th>\n      <th>UniProt_ID</th>\n      <th>Mutation</th>\n      <th>Interactor_UniProt_ID</th>\n      <th>Prediction</th>\n    </tr>\n  </thead>\n  <tbody>\n    <tr>\n      <th>0</th>\n      <td>P62873</td>\n      <td>S334I</td>\n      <td>Q13371</td>\n      <td>1</td>\n    </tr>\n    <tr>\n      <th>1</th>\n      <td>Q9BXB4</td>\n      <td>N590D</td>\n      <td>Q96SU4</td>\n      <td>0</td>\n    </tr>\n    <tr>\n      <th>2</th>\n      <td>P35251</td>\n      <td>V921A</td>\n      <td>P35250</td>\n      <td>1</td>\n    </tr>\n  </tbody>\n</table>\n</div>"
     },
     "metadata": {},
     "output_type": "display_data"
    }
   ],
   "source": [
    "coad_prediction_results_soft_no_votes_dropped = predator.predictions[\"coad_prediction_results_no_votes_dropped\"]\n",
    "display_data(coad_prediction_results_soft_no_votes_dropped)"
   ]
  },
  {
   "cell_type": "code",
   "execution_count": 22,
   "id": "d1100263-ae65-405f-a13d-896927fdc1c5",
   "metadata": {
    "pycharm": {
     "name": "#%%\n"
    }
   },
   "outputs": [
    {
     "name": "stdout",
     "output_type": "stream",
     "text": [
      "\u001B[36mLabel counts:\n",
      "Increasing + No Effect    3632\n",
      "Disrupting                3864\n",
      "Name: Prediction, dtype: int64\u001B[0m\n"
     ]
    },
    {
     "data": {
      "text/plain": "<Figure size 432x288 with 1 Axes>",
      "image/png": "[encoded data removed]"
     },
     "metadata": {},
     "output_type": "display_data"
    }
   ],
   "source": [
    "visualize_label_counts(coad_prediction_results_soft_no_votes_dropped, 'Prediction')"
   ]
  },
  {
   "cell_type": "code",
   "execution_count": 23,
   "id": "37c0a11a-e87e-40af-ba8a-8a28b82d956d",
   "metadata": {
    "pycharm": {
     "name": "#%%\n"
    }
   },
   "outputs": [],
   "source": [
    "coad_ensemble_prediction_data_soft = predator.predictions[\"coad_ensemble_prediction_data\"]"
   ]
  },
  {
   "cell_type": "code",
   "execution_count": 24,
   "id": "e4995e62-dfd6-4b54-bd6c-67a62eefb6a6",
   "metadata": {
    "pycharm": {
     "name": "#%%\n"
    }
   },
   "outputs": [],
   "source": [
    "coad_predictions_prob_data_soft = predator.predictions[\"coad_predictions_prob_data\"]"
   ]
  },
  {
   "cell_type": "code",
   "execution_count": 24,
   "id": "dabc60aa-0a63-4016-bbef-4f8788b625ed",
   "metadata": {
    "pycharm": {
     "name": "#%%\n"
    }
   },
   "outputs": [],
   "source": []
  },
  {
   "cell_type": "code",
   "execution_count": 25,
   "id": "a84ab98c-1e29-413a-8c6e-514b747fd38f",
   "metadata": {
    "pycharm": {
     "name": "#%%\n"
    }
   },
   "outputs": [],
   "source": [
    "def add_median_probabilities(prediction_results, predictions_prob_data):\n",
    "    assert len(prediction_results) == len(predictions_prob_data)\n",
    "    prediction_results_with_probabilities = prediction_results.copy()\n",
    "    prediction_results_with_probabilities[\"Median_Probability\"] = predictions_prob_data[\"PROB_1s_AVG\"]\n",
    "    return prediction_results_with_probabilities"
   ]
  },
  {
   "cell_type": "code",
   "execution_count": 26,
   "id": "b8955db8-7279-4644-acb9-6297e6e1c43c",
   "metadata": {
    "pycharm": {
     "name": "#%%\n"
    }
   },
   "outputs": [
    {
     "data": {
      "text/plain": "  UniProt_ID Mutation Interactor_UniProt_ID Prediction Median_Probability\n0     P62873    S334I                Q13371          1            0.53995\n1     Q9BXB4    N590D                Q96SU4          0            0.33033\n2     P35251    V921A                P35250          1            0.74523\n3     P08123   K1248N                P25940          0            0.20567\n4     P15056    V600E                P53667          1            0.56008",
      "text/html": "<div>\n<style scoped>\n    .dataframe tbody tr th:only-of-type {\n        vertical-align: middle;\n    }\n\n    .dataframe tbody tr th {\n        vertical-align: top;\n    }\n\n    .dataframe thead th {\n        text-align: right;\n    }\n</style>\n<table border=\"1\" class=\"dataframe\">\n  <thead>\n    <tr style=\"text-align: right;\">\n      <th></th>\n      <th>UniProt_ID</th>\n      <th>Mutation</th>\n      <th>Interactor_UniProt_ID</th>\n      <th>Prediction</th>\n      <th>Median_Probability</th>\n    </tr>\n  </thead>\n  <tbody>\n    <tr>\n      <th>0</th>\n      <td>P62873</td>\n      <td>S334I</td>\n      <td>Q13371</td>\n      <td>1</td>\n      <td>0.53995</td>\n    </tr>\n    <tr>\n      <th>1</th>\n      <td>Q9BXB4</td>\n      <td>N590D</td>\n      <td>Q96SU4</td>\n      <td>0</td>\n      <td>0.33033</td>\n    </tr>\n    <tr>\n      <th>2</th>\n      <td>P35251</td>\n      <td>V921A</td>\n      <td>P35250</td>\n      <td>1</td>\n      <td>0.74523</td>\n    </tr>\n    <tr>\n      <th>3</th>\n      <td>P08123</td>\n      <td>K1248N</td>\n      <td>P25940</td>\n      <td>0</td>\n      <td>0.20567</td>\n    </tr>\n    <tr>\n      <th>4</th>\n      <td>P15056</td>\n      <td>V600E</td>\n      <td>P53667</td>\n      <td>1</td>\n      <td>0.56008</td>\n    </tr>\n  </tbody>\n</table>\n</div>"
     },
     "execution_count": 26,
     "metadata": {},
     "output_type": "execute_result"
    }
   ],
   "source": [
    "coad_prediction_results_soft_with_median_probs = add_median_probabilities(\n",
    "    prediction_results=predator.predictions[\"coad_prediction_results\"],\n",
    "    predictions_prob_data=predator.predictions[\"coad_predictions_prob_data\"]\n",
    ")\n",
    "coad_prediction_results_soft_with_median_probs.head()"
   ]
  },
  {
   "cell_type": "code",
   "execution_count": 27,
   "id": "5328bf48-72fa-4a0c-86c5-76e0939b0e5c",
   "metadata": {
    "pycharm": {
     "name": "#%%\n"
    }
   },
   "outputs": [],
   "source": [
    "coad_prediction_results_soft_no_votes_dropped_with_median_probabilities = coad_prediction_results_soft_with_median_probs[\n",
    "    coad_prediction_results_soft_with_median_probs['Prediction'].isin([0, 1])\n",
    "]"
   ]
  },
  {
   "cell_type": "code",
   "execution_count": 28,
   "id": "5040e7d0-4bd2-4197-8a21-58bfd68b6c76",
   "metadata": {
    "pycharm": {
     "name": "#%%\n"
    }
   },
   "outputs": [
    {
     "data": {
      "text/plain": "7496"
     },
     "execution_count": 28,
     "metadata": {},
     "output_type": "execute_result"
    }
   ],
   "source": [
    "len(coad_prediction_results_soft_no_votes_dropped_with_median_probabilities)"
   ]
  },
  {
   "cell_type": "code",
   "execution_count": 28,
   "id": "15a48147-a670-4b25-bbfc-9a43654be0a1",
   "metadata": {
    "pycharm": {
     "name": "#%%\n"
    }
   },
   "outputs": [],
   "source": []
  },
  {
   "cell_type": "markdown",
   "id": "412859ae-c188-410e-85ef-7df91b9d2b89",
   "metadata": {
    "pycharm": {
     "name": "#%% md\n"
    }
   },
   "source": [
    "## Exporting Predictions"
   ]
  },
  {
   "cell_type": "code",
   "execution_count": 29,
   "id": "4042b8ce-498b-4c6c-b964-bbf7632e4ae6",
   "metadata": {
    "pycharm": {
     "name": "#%%\n"
    }
   },
   "outputs": [
    {
     "name": "stdout",
     "output_type": "stream",
     "text": [
      "\u001B[36mData dimensions: (7496, 5)\u001B[0m\n"
     ]
    },
    {
     "data": {
      "text/plain": "  UniProt_ID Mutation Interactor_UniProt_ID Prediction Median_Probability\n0     P62873    S334I                Q13371          1            0.53995\n1     Q9BXB4    N590D                Q96SU4          0            0.33033\n2     P35251    V921A                P35250          1            0.74523",
      "text/html": "<div>\n<style scoped>\n    .dataframe tbody tr th:only-of-type {\n        vertical-align: middle;\n    }\n\n    .dataframe tbody tr th {\n        vertical-align: top;\n    }\n\n    .dataframe thead th {\n        text-align: right;\n    }\n</style>\n<table border=\"1\" class=\"dataframe\">\n  <thead>\n    <tr style=\"text-align: right;\">\n      <th></th>\n      <th>UniProt_ID</th>\n      <th>Mutation</th>\n      <th>Interactor_UniProt_ID</th>\n      <th>Prediction</th>\n      <th>Median_Probability</th>\n    </tr>\n  </thead>\n  <tbody>\n    <tr>\n      <th>0</th>\n      <td>P62873</td>\n      <td>S334I</td>\n      <td>Q13371</td>\n      <td>1</td>\n      <td>0.53995</td>\n    </tr>\n    <tr>\n      <th>1</th>\n      <td>Q9BXB4</td>\n      <td>N590D</td>\n      <td>Q96SU4</td>\n      <td>0</td>\n      <td>0.33033</td>\n    </tr>\n    <tr>\n      <th>2</th>\n      <td>P35251</td>\n      <td>V921A</td>\n      <td>P35250</td>\n      <td>1</td>\n      <td>0.74523</td>\n    </tr>\n  </tbody>\n</table>\n</div>"
     },
     "metadata": {},
     "output_type": "display_data"
    }
   ],
   "source": [
    "# coad_prediction_results = coad_prediction_results_hard_no_votes_dropped\n",
    "# coad_prediction_results = coad_prediction_results_soft_no_votes_dropped\n",
    "coad_prediction_results = coad_prediction_results_soft_no_votes_dropped_with_median_probabilities\n",
    "display_data(coad_prediction_results)"
   ]
  },
  {
   "cell_type": "code",
   "execution_count": 30,
   "id": "4ab9fbc1-d3d2-4424-99ac-aa5515070d71",
   "metadata": {
    "pycharm": {
     "name": "#%%\n"
    }
   },
   "outputs": [
    {
     "name": "stdout",
     "output_type": "stream",
     "text": [
      "2022-06-17 10:06:25 |\u001B[36m DEBUG    \u001B[0m| helpers.helpers_predator.common | Folder with ID 84fd283a is created.\n",
      "2022-06-17 10:06:25 |\u001B[36m DEBUG    \u001B[0m| helpers.helpers_predator.common | Exporting data predictions at location ../data/predictions_datasets/ in folder coad_prediction_2022-06-17\\84fd283a..\n",
      "2022-06-17 10:06:25 |\u001B[32m INFO     \u001B[0m| helpers.helpers_predator.common | ../data/predictions_datasets/coad_prediction_2022-06-17\\84fd283a\\predictions_soft_2022-06-17.csv is exported successfully.\n",
      "2022-06-17 10:06:25 |\u001B[32m INFO     \u001B[0m| helpers.helpers_predator.common | Config is exported.\n"
     ]
    }
   ],
   "source": [
    "predator.export_prediction(\n",
    "    tcga=\"coad\",\n",
    "    data=coad_prediction_results,\n",
    "    file_name=\"predictions\",\n",
    "    folder_path=PREDICTIONS_DATASETS_FOLDER_PATH,\n",
    "    voting=\"soft\",\n",
    "    overwrite=False,\n",
    "    file_extension='csv'\n",
    ")"
   ]
  },
  {
   "cell_type": "markdown",
   "id": "fbc616a5-ce63-4b93-a858-b3d22fdce070",
   "metadata": {
    "pycharm": {
     "name": "#%% md\n"
    }
   },
   "source": [
    "---"
   ]
  },
  {
   "cell_type": "code",
   "execution_count": null,
   "outputs": [],
   "source": [],
   "metadata": {
    "collapsed": false,
    "pycharm": {
     "name": "#%%\n"
    }
   }
  }
 ],
 "metadata": {
  "kernelspec": {
   "name": "predator",
   "language": "python",
   "display_name": "Predator"
  },
  "language_info": {
   "codemirror_mode": {
    "name": "ipython",
    "version": 3
   },
   "file_extension": ".py",
   "mimetype": "text/x-python",
   "name": "python",
   "nbconvert_exporter": "python",
   "pygments_lexer": "ipython3",
   "version": "3.8.10"
  },
  "toc-autonumbering": false
 },
 "nbformat": 4,
 "nbformat_minor": 5
}